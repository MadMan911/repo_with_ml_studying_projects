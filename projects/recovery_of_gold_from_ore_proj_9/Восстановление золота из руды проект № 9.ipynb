{
 "cells": [
  {
   "cell_type": "markdown",
   "metadata": {
    "toc": true
   },
   "source": [
    "<h1>Содержание<span class=\"tocSkip\"></span></h1>\n",
    "<div class=\"toc\"><ul class=\"toc-item\"><li><span><a href=\"#Импортируем-необходимые-библиотеки-и-модули\" data-toc-modified-id=\"Импортируем-необходимые-библиотеки-и-модули-1\"><span class=\"toc-item-num\">1&nbsp;&nbsp;</span>Импортируем необходимые библиотеки и модули</a></span></li><li><span><a href=\"#Подготовка-данных\" data-toc-modified-id=\"Подготовка-данных-2\"><span class=\"toc-item-num\">2&nbsp;&nbsp;</span>Подготовка данных</a></span><ul class=\"toc-item\"><li><span><a href=\"#Открываем-файлы-и-изучаем-их\" data-toc-modified-id=\"Открываем-файлы-и-изучаем-их-2.1\"><span class=\"toc-item-num\">2.1&nbsp;&nbsp;</span>Открываем файлы и изучаем их</a></span></li><li><span><a href=\"#Проверка-эффективности-обогащения\" data-toc-modified-id=\"Проверка-эффективности-обогащения-2.2\"><span class=\"toc-item-num\">2.2&nbsp;&nbsp;</span>Проверка эффективности обогащения</a></span></li><li><span><a href=\"#Проанализируйте-признаки,-недоступные-в-тестовой-выборке.-Что-это-за-параметры?-К-какому-типу-относятся?\" data-toc-modified-id=\"Проанализируйте-признаки,-недоступные-в-тестовой-выборке.-Что-это-за-параметры?-К-какому-типу-относятся?-2.3\"><span class=\"toc-item-num\">2.3&nbsp;&nbsp;</span>Проанализируйте признаки, недоступные в тестовой выборке. Что это за параметры? К какому типу относятся?</a></span></li><li><span><a href=\"#Предобработка-данных\" data-toc-modified-id=\"Предобработка-данных-2.4\"><span class=\"toc-item-num\">2.4&nbsp;&nbsp;</span>Предобработка данных</a></span></li><li><span><a href=\"#Замена-пропусков(неудачная)\" data-toc-modified-id=\"Замена-пропусков(неудачная)-2.5\"><span class=\"toc-item-num\">2.5&nbsp;&nbsp;</span>Замена пропусков(неудачная)</a></span></li><li><span><a href=\"#проверим-на-явные-дубликаты\" data-toc-modified-id=\"проверим-на-явные-дубликаты-2.6\"><span class=\"toc-item-num\">2.6&nbsp;&nbsp;</span>проверим на явные дубликаты</a></span></li><li><span><a href=\"#Избавимся-от-аномалий\" data-toc-modified-id=\"Избавимся-от-аномалий-2.7\"><span class=\"toc-item-num\">2.7&nbsp;&nbsp;</span>Избавимся от аномалий</a></span></li><li><span><a href=\"#Итого\" data-toc-modified-id=\"Итого-2.8\"><span class=\"toc-item-num\">2.8&nbsp;&nbsp;</span>Итого</a></span></li></ul></li><li><span><a href=\"#Анализ-данных\" data-toc-modified-id=\"Анализ-данных-3\"><span class=\"toc-item-num\">3&nbsp;&nbsp;</span>Анализ данных</a></span><ul class=\"toc-item\"><li><span><a href=\"#Изменение-концентрации-металлов\" data-toc-modified-id=\"Изменение-концентрации-металлов-3.1\"><span class=\"toc-item-num\">3.1&nbsp;&nbsp;</span>Изменение концентрации металлов</a></span></li><li><span><a href=\"#Сравните-распределения-размеров-гранул-исходного-сырья-на-обучающей-и-тестовой-выборках.\" data-toc-modified-id=\"Сравните-распределения-размеров-гранул-исходного-сырья-на-обучающей-и-тестовой-выборках.-3.2\"><span class=\"toc-item-num\">3.2&nbsp;&nbsp;</span>Сравните распределения размеров гранул исходного сырья на обучающей и тестовой выборках.</a></span><ul class=\"toc-item\"><li><span><a href=\"#Вывод-о-размере-гранул\" data-toc-modified-id=\"Вывод-о-размере-гранул-3.2.1\"><span class=\"toc-item-num\">3.2.1&nbsp;&nbsp;</span>Вывод о размере гранул</a></span></li></ul></li><li><span><a href=\"#Исследуйте-суммарную-концентрацию-металлов-на-разных-стадиях\" data-toc-modified-id=\"Исследуйте-суммарную-концентрацию-металлов-на-разных-стадиях-3.3\"><span class=\"toc-item-num\">3.3&nbsp;&nbsp;</span>Исследуйте суммарную концентрацию металлов на разных стадиях</a></span></li><li><span><a href=\"#Итог\" data-toc-modified-id=\"Итог-3.4\"><span class=\"toc-item-num\">3.4&nbsp;&nbsp;</span>Итог</a></span></li></ul></li><li><span><a href=\"#Модель\" data-toc-modified-id=\"Модель-4\"><span class=\"toc-item-num\">4&nbsp;&nbsp;</span>Модель</a></span><ul class=\"toc-item\"><li><span><a href=\"#Разделим-выобрки-на-обычные-признаки-и-целевые-признаки\" data-toc-modified-id=\"Разделим-выобрки-на-обычные-признаки-и-целевые-признаки-4.1\"><span class=\"toc-item-num\">4.1&nbsp;&nbsp;</span>Разделим выобрки на обычные признаки и целевые признаки</a></span></li><li><span><a href=\"#Линейная-регрессия\" data-toc-modified-id=\"Линейная-регрессия-4.2\"><span class=\"toc-item-num\">4.2&nbsp;&nbsp;</span>Линейная регрессия</a></span></li><li><span><a href=\"#Дерево-решений\" data-toc-modified-id=\"Дерево-решений-4.3\"><span class=\"toc-item-num\">4.3&nbsp;&nbsp;</span>Дерево решений</a></span></li><li><span><a href=\"#Случайный-лес\" data-toc-modified-id=\"Случайный-лес-4.4\"><span class=\"toc-item-num\">4.4&nbsp;&nbsp;</span>Случайный лес</a></span></li><li><span><a href=\"#Подведение-итогов\" data-toc-modified-id=\"Подведение-итогов-4.5\"><span class=\"toc-item-num\">4.5&nbsp;&nbsp;</span>Подведение итогов</a></span></li><li><span><a href=\"#проверка-на-тестовой-выборке\" data-toc-modified-id=\"проверка-на-тестовой-выборке-4.6\"><span class=\"toc-item-num\">4.6&nbsp;&nbsp;</span>проверка на тестовой выборке</a></span></li><li><span><a href=\"#Проверка-модели--на-адекватность\" data-toc-modified-id=\"Проверка-модели--на-адекватность-4.7\"><span class=\"toc-item-num\">4.7&nbsp;&nbsp;</span>Проверка модели  на адекватность</a></span></li></ul></li><li><span><a href=\"#Подведение-итогов\" data-toc-modified-id=\"Подведение-итогов-5\"><span class=\"toc-item-num\">5&nbsp;&nbsp;</span>Подведение итогов</a></span></li></ul></div>"
   ]
  },
  {
   "cell_type": "markdown",
   "metadata": {},
   "source": [
    "# Восстановление золота из руды"
   ]
  },
  {
   "cell_type": "markdown",
   "metadata": {},
   "source": [
    "Подготовьте прототип модели машинного обучения для «Цифры». Компания разрабатывает решения для эффективной работы промышленных предприятий.\n",
    "\n",
    "Модель должна предсказать коэффициент восстановления золота из золотосодержащей руды. Используйте данные с параметрами добычи и очистки. \n",
    "\n",
    "Модель поможет оптимизировать производство, чтобы не запускать предприятие с убыточными характеристиками.\n",
    "\n",
    "Вам нужно:\n",
    "\n",
    "1. Подготовить данные;\n",
    "2. Провести исследовательский анализ данных;\n",
    "3. Построить и обучить модель.\n",
    "\n",
    "Чтобы выполнить проект, обращайтесь к библиотекам *pandas*, *matplotlib* и *sklearn.* Вам поможет их документация."
   ]
  },
  {
   "cell_type": "markdown",
   "metadata": {},
   "source": [
    "Нам предстоит выполнить исследовательскую работу для производства, которое восстанавливает золото из руды.\n",
    "\n",
    "Наша работа будет состоять из 4 этапов:\n",
    "- Подгтовка данных\n",
    "- Анализ данных\n",
    "- Модель \n",
    "- Подведение итогов\n",
    "\n",
    "1) Подготовка данных будет включать в себя открывание файлов и их изучение. Проверка эффективности обогащения. Замена пропусков в тестовой выборке. Замена пропусков\n",
    "\n",
    "2) Проанализируем изменение концентрации металлов. Сравнение распределений размеров гранул исходного сырья. Исследование суммарной концентрации мкталлов на всех этапах\n",
    "\n",
    "3) Построение и сравнение результатов моделей: линейной регрессии, дерево решений, случайный лес."
   ]
  },
  {
   "cell_type": "markdown",
   "metadata": {},
   "source": [
    "## Импортируем необходимые библиотеки и модули"
   ]
  },
  {
   "cell_type": "code",
   "execution_count": 1,
   "metadata": {},
   "outputs": [],
   "source": [
    "import pandas as pd\n",
    "import matplotlib.pyplot as plt\n",
    "import numpy as np\n",
    "import seaborn as sns\n",
    "\n",
    "from sklearn.metrics import mean_absolute_error\n",
    "from sklearn.linear_model import LinearRegression\n",
    "\n",
    "from sklearn.tree import DecisionTreeRegressor\n",
    "from sklearn.ensemble import RandomForestRegressor\n",
    "\n",
    "from sklearn.preprocessing import StandardScaler\n",
    "\n",
    "from sklearn.model_selection import cross_val_predict\n",
    "\n",
    "from sklearn.dummy import DummyRegressor\n",
    "\n",
    "from tqdm import tqdm\n"
   ]
  },
  {
   "cell_type": "markdown",
   "metadata": {},
   "source": [
    "## Подготовка данных"
   ]
  },
  {
   "cell_type": "markdown",
   "metadata": {},
   "source": [
    "### Открываем файлы и изучаем их"
   ]
  },
  {
   "cell_type": "code",
   "execution_count": 2,
   "metadata": {},
   "outputs": [],
   "source": [
    "df_train = pd.read_csv('/datasets/gold_industry_train.csv') # ,parse_date=True\n",
    "df_test = pd.read_csv('/datasets/gold_industry_test.csv')\n",
    "df_full = pd.read_csv('/datasets/gold_industry_full.csv')"
   ]
  },
  {
   "cell_type": "code",
   "execution_count": 3,
   "metadata": {},
   "outputs": [
    {
     "data": {
      "text/html": [
       "<div>\n",
       "<style scoped>\n",
       "    .dataframe tbody tr th:only-of-type {\n",
       "        vertical-align: middle;\n",
       "    }\n",
       "\n",
       "    .dataframe tbody tr th {\n",
       "        vertical-align: top;\n",
       "    }\n",
       "\n",
       "    .dataframe thead th {\n",
       "        text-align: right;\n",
       "    }\n",
       "</style>\n",
       "<table border=\"1\" class=\"dataframe\">\n",
       "  <thead>\n",
       "    <tr style=\"text-align: right;\">\n",
       "      <th></th>\n",
       "      <th>date</th>\n",
       "      <th>rougher.input.feed_au</th>\n",
       "      <th>rougher.input.feed_ag</th>\n",
       "      <th>rougher.input.feed_pb</th>\n",
       "      <th>rougher.input.feed_sol</th>\n",
       "      <th>rougher.input.feed_rate</th>\n",
       "      <th>rougher.input.feed_size</th>\n",
       "      <th>rougher.input.floatbank10_sulfate</th>\n",
       "      <th>rougher.input.floatbank10_xanthate</th>\n",
       "      <th>rougher.state.floatbank10_a_air</th>\n",
       "      <th>...</th>\n",
       "      <th>secondary_cleaner.output.tail_sol</th>\n",
       "      <th>final.output.concentrate_au</th>\n",
       "      <th>final.output.concentrate_ag</th>\n",
       "      <th>final.output.concentrate_pb</th>\n",
       "      <th>final.output.concentrate_sol</th>\n",
       "      <th>final.output.recovery</th>\n",
       "      <th>final.output.tail_au</th>\n",
       "      <th>final.output.tail_ag</th>\n",
       "      <th>final.output.tail_pb</th>\n",
       "      <th>final.output.tail_sol</th>\n",
       "    </tr>\n",
       "  </thead>\n",
       "  <tbody>\n",
       "    <tr>\n",
       "      <th>0</th>\n",
       "      <td>2016-01-15 00:00:00</td>\n",
       "      <td>6.486150</td>\n",
       "      <td>6.100378</td>\n",
       "      <td>2.284912</td>\n",
       "      <td>36.808594</td>\n",
       "      <td>523.546326</td>\n",
       "      <td>55.486599</td>\n",
       "      <td>11.986616</td>\n",
       "      <td>6.007990</td>\n",
       "      <td>999.706909</td>\n",
       "      <td>...</td>\n",
       "      <td>8.764648</td>\n",
       "      <td>42.192020</td>\n",
       "      <td>6.055403</td>\n",
       "      <td>9.889648</td>\n",
       "      <td>5.507324</td>\n",
       "      <td>70.541216</td>\n",
       "      <td>2.143149</td>\n",
       "      <td>10.411962</td>\n",
       "      <td>0.895447</td>\n",
       "      <td>16.904297</td>\n",
       "    </tr>\n",
       "    <tr>\n",
       "      <th>1</th>\n",
       "      <td>2016-01-15 01:00:00</td>\n",
       "      <td>6.478583</td>\n",
       "      <td>6.161113</td>\n",
       "      <td>2.266033</td>\n",
       "      <td>35.753385</td>\n",
       "      <td>525.290581</td>\n",
       "      <td>57.278666</td>\n",
       "      <td>11.971193</td>\n",
       "      <td>6.005766</td>\n",
       "      <td>1000.286398</td>\n",
       "      <td>...</td>\n",
       "      <td>9.001494</td>\n",
       "      <td>42.701629</td>\n",
       "      <td>6.029369</td>\n",
       "      <td>9.968944</td>\n",
       "      <td>5.257781</td>\n",
       "      <td>69.266198</td>\n",
       "      <td>2.224930</td>\n",
       "      <td>10.462676</td>\n",
       "      <td>0.927452</td>\n",
       "      <td>16.634514</td>\n",
       "    </tr>\n",
       "    <tr>\n",
       "      <th>2</th>\n",
       "      <td>2016-01-15 02:00:00</td>\n",
       "      <td>6.362222</td>\n",
       "      <td>6.116455</td>\n",
       "      <td>2.159622</td>\n",
       "      <td>35.971630</td>\n",
       "      <td>530.026610</td>\n",
       "      <td>57.510649</td>\n",
       "      <td>11.920603</td>\n",
       "      <td>6.197377</td>\n",
       "      <td>999.719565</td>\n",
       "      <td>...</td>\n",
       "      <td>8.842896</td>\n",
       "      <td>42.657501</td>\n",
       "      <td>6.055926</td>\n",
       "      <td>10.213995</td>\n",
       "      <td>5.383759</td>\n",
       "      <td>68.116445</td>\n",
       "      <td>2.257889</td>\n",
       "      <td>10.507046</td>\n",
       "      <td>0.953716</td>\n",
       "      <td>16.208849</td>\n",
       "    </tr>\n",
       "    <tr>\n",
       "      <th>3</th>\n",
       "      <td>2016-01-15 03:00:00</td>\n",
       "      <td>6.118189</td>\n",
       "      <td>6.043309</td>\n",
       "      <td>2.037807</td>\n",
       "      <td>36.862241</td>\n",
       "      <td>542.590390</td>\n",
       "      <td>57.792734</td>\n",
       "      <td>11.630094</td>\n",
       "      <td>6.203177</td>\n",
       "      <td>999.814770</td>\n",
       "      <td>...</td>\n",
       "      <td>9.122857</td>\n",
       "      <td>42.689819</td>\n",
       "      <td>6.047977</td>\n",
       "      <td>9.977019</td>\n",
       "      <td>4.858634</td>\n",
       "      <td>68.347543</td>\n",
       "      <td>2.146849</td>\n",
       "      <td>10.422762</td>\n",
       "      <td>0.883763</td>\n",
       "      <td>16.532835</td>\n",
       "    </tr>\n",
       "    <tr>\n",
       "      <th>4</th>\n",
       "      <td>2016-01-15 04:00:00</td>\n",
       "      <td>5.663707</td>\n",
       "      <td>6.060915</td>\n",
       "      <td>1.786875</td>\n",
       "      <td>34.347666</td>\n",
       "      <td>540.531893</td>\n",
       "      <td>56.047189</td>\n",
       "      <td>10.957755</td>\n",
       "      <td>6.198826</td>\n",
       "      <td>999.678690</td>\n",
       "      <td>...</td>\n",
       "      <td>8.871028</td>\n",
       "      <td>42.774141</td>\n",
       "      <td>6.148599</td>\n",
       "      <td>10.142511</td>\n",
       "      <td>4.939416</td>\n",
       "      <td>66.927016</td>\n",
       "      <td>2.055292</td>\n",
       "      <td>10.360302</td>\n",
       "      <td>0.792826</td>\n",
       "      <td>16.525686</td>\n",
       "    </tr>\n",
       "  </tbody>\n",
       "</table>\n",
       "<p>5 rows × 87 columns</p>\n",
       "</div>"
      ],
      "text/plain": [
       "                  date  rougher.input.feed_au  rougher.input.feed_ag  \\\n",
       "0  2016-01-15 00:00:00               6.486150               6.100378   \n",
       "1  2016-01-15 01:00:00               6.478583               6.161113   \n",
       "2  2016-01-15 02:00:00               6.362222               6.116455   \n",
       "3  2016-01-15 03:00:00               6.118189               6.043309   \n",
       "4  2016-01-15 04:00:00               5.663707               6.060915   \n",
       "\n",
       "   rougher.input.feed_pb  rougher.input.feed_sol  rougher.input.feed_rate  \\\n",
       "0               2.284912               36.808594               523.546326   \n",
       "1               2.266033               35.753385               525.290581   \n",
       "2               2.159622               35.971630               530.026610   \n",
       "3               2.037807               36.862241               542.590390   \n",
       "4               1.786875               34.347666               540.531893   \n",
       "\n",
       "   rougher.input.feed_size  rougher.input.floatbank10_sulfate  \\\n",
       "0                55.486599                          11.986616   \n",
       "1                57.278666                          11.971193   \n",
       "2                57.510649                          11.920603   \n",
       "3                57.792734                          11.630094   \n",
       "4                56.047189                          10.957755   \n",
       "\n",
       "   rougher.input.floatbank10_xanthate  rougher.state.floatbank10_a_air  ...  \\\n",
       "0                            6.007990                       999.706909  ...   \n",
       "1                            6.005766                      1000.286398  ...   \n",
       "2                            6.197377                       999.719565  ...   \n",
       "3                            6.203177                       999.814770  ...   \n",
       "4                            6.198826                       999.678690  ...   \n",
       "\n",
       "   secondary_cleaner.output.tail_sol  final.output.concentrate_au  \\\n",
       "0                           8.764648                    42.192020   \n",
       "1                           9.001494                    42.701629   \n",
       "2                           8.842896                    42.657501   \n",
       "3                           9.122857                    42.689819   \n",
       "4                           8.871028                    42.774141   \n",
       "\n",
       "   final.output.concentrate_ag  final.output.concentrate_pb  \\\n",
       "0                     6.055403                     9.889648   \n",
       "1                     6.029369                     9.968944   \n",
       "2                     6.055926                    10.213995   \n",
       "3                     6.047977                     9.977019   \n",
       "4                     6.148599                    10.142511   \n",
       "\n",
       "   final.output.concentrate_sol  final.output.recovery  final.output.tail_au  \\\n",
       "0                      5.507324              70.541216              2.143149   \n",
       "1                      5.257781              69.266198              2.224930   \n",
       "2                      5.383759              68.116445              2.257889   \n",
       "3                      4.858634              68.347543              2.146849   \n",
       "4                      4.939416              66.927016              2.055292   \n",
       "\n",
       "   final.output.tail_ag  final.output.tail_pb  final.output.tail_sol  \n",
       "0             10.411962              0.895447              16.904297  \n",
       "1             10.462676              0.927452              16.634514  \n",
       "2             10.507046              0.953716              16.208849  \n",
       "3             10.422762              0.883763              16.532835  \n",
       "4             10.360302              0.792826              16.525686  \n",
       "\n",
       "[5 rows x 87 columns]"
      ]
     },
     "execution_count": 3,
     "metadata": {},
     "output_type": "execute_result"
    }
   ],
   "source": [
    "df_train.head()"
   ]
  },
  {
   "cell_type": "code",
   "execution_count": 4,
   "metadata": {},
   "outputs": [
    {
     "data": {
      "text/html": [
       "<div>\n",
       "<style scoped>\n",
       "    .dataframe tbody tr th:only-of-type {\n",
       "        vertical-align: middle;\n",
       "    }\n",
       "\n",
       "    .dataframe tbody tr th {\n",
       "        vertical-align: top;\n",
       "    }\n",
       "\n",
       "    .dataframe thead th {\n",
       "        text-align: right;\n",
       "    }\n",
       "</style>\n",
       "<table border=\"1\" class=\"dataframe\">\n",
       "  <thead>\n",
       "    <tr style=\"text-align: right;\">\n",
       "      <th></th>\n",
       "      <th>date</th>\n",
       "      <th>rougher.input.feed_au</th>\n",
       "      <th>rougher.input.feed_ag</th>\n",
       "      <th>rougher.input.feed_pb</th>\n",
       "      <th>rougher.input.feed_sol</th>\n",
       "      <th>rougher.input.feed_rate</th>\n",
       "      <th>rougher.input.feed_size</th>\n",
       "      <th>rougher.input.floatbank10_sulfate</th>\n",
       "      <th>rougher.input.floatbank10_xanthate</th>\n",
       "      <th>rougher.state.floatbank10_a_air</th>\n",
       "      <th>...</th>\n",
       "      <th>secondary_cleaner.state.floatbank4_a_air</th>\n",
       "      <th>secondary_cleaner.state.floatbank4_a_level</th>\n",
       "      <th>secondary_cleaner.state.floatbank4_b_air</th>\n",
       "      <th>secondary_cleaner.state.floatbank4_b_level</th>\n",
       "      <th>secondary_cleaner.state.floatbank5_a_air</th>\n",
       "      <th>secondary_cleaner.state.floatbank5_a_level</th>\n",
       "      <th>secondary_cleaner.state.floatbank5_b_air</th>\n",
       "      <th>secondary_cleaner.state.floatbank5_b_level</th>\n",
       "      <th>secondary_cleaner.state.floatbank6_a_air</th>\n",
       "      <th>secondary_cleaner.state.floatbank6_a_level</th>\n",
       "    </tr>\n",
       "  </thead>\n",
       "  <tbody>\n",
       "    <tr>\n",
       "      <th>0</th>\n",
       "      <td>2017-12-09 14:59:59</td>\n",
       "      <td>4.365491</td>\n",
       "      <td>6.158718</td>\n",
       "      <td>3.875727</td>\n",
       "      <td>39.135119</td>\n",
       "      <td>555.820208</td>\n",
       "      <td>94.544358</td>\n",
       "      <td>6.146982</td>\n",
       "      <td>9.308612</td>\n",
       "      <td>1196.238112</td>\n",
       "      <td>...</td>\n",
       "      <td>23.018622</td>\n",
       "      <td>-500.492702</td>\n",
       "      <td>20.020205</td>\n",
       "      <td>-500.220296</td>\n",
       "      <td>17.963512</td>\n",
       "      <td>-499.939490</td>\n",
       "      <td>12.990306</td>\n",
       "      <td>-500.080993</td>\n",
       "      <td>19.990336</td>\n",
       "      <td>-499.191575</td>\n",
       "    </tr>\n",
       "    <tr>\n",
       "      <th>1</th>\n",
       "      <td>2017-12-09 15:59:59</td>\n",
       "      <td>4.362781</td>\n",
       "      <td>6.048130</td>\n",
       "      <td>3.902537</td>\n",
       "      <td>39.713906</td>\n",
       "      <td>544.731687</td>\n",
       "      <td>123.742430</td>\n",
       "      <td>6.210119</td>\n",
       "      <td>9.297709</td>\n",
       "      <td>1201.904177</td>\n",
       "      <td>...</td>\n",
       "      <td>23.024963</td>\n",
       "      <td>-501.153409</td>\n",
       "      <td>20.054122</td>\n",
       "      <td>-500.314711</td>\n",
       "      <td>17.979515</td>\n",
       "      <td>-499.272871</td>\n",
       "      <td>12.992404</td>\n",
       "      <td>-499.976268</td>\n",
       "      <td>20.013986</td>\n",
       "      <td>-500.625471</td>\n",
       "    </tr>\n",
       "    <tr>\n",
       "      <th>2</th>\n",
       "      <td>2017-12-09 16:59:59</td>\n",
       "      <td>5.081681</td>\n",
       "      <td>6.082745</td>\n",
       "      <td>4.564078</td>\n",
       "      <td>37.208683</td>\n",
       "      <td>558.155110</td>\n",
       "      <td>82.610855</td>\n",
       "      <td>7.363824</td>\n",
       "      <td>9.003562</td>\n",
       "      <td>1200.826926</td>\n",
       "      <td>...</td>\n",
       "      <td>22.993827</td>\n",
       "      <td>-501.559663</td>\n",
       "      <td>20.029144</td>\n",
       "      <td>-500.000662</td>\n",
       "      <td>18.012723</td>\n",
       "      <td>-500.024764</td>\n",
       "      <td>13.016445</td>\n",
       "      <td>-500.058432</td>\n",
       "      <td>19.973767</td>\n",
       "      <td>-501.394155</td>\n",
       "    </tr>\n",
       "    <tr>\n",
       "      <th>3</th>\n",
       "      <td>2017-12-09 17:59:59</td>\n",
       "      <td>5.145949</td>\n",
       "      <td>6.084374</td>\n",
       "      <td>4.768124</td>\n",
       "      <td>36.808874</td>\n",
       "      <td>539.713765</td>\n",
       "      <td>77.984784</td>\n",
       "      <td>6.927072</td>\n",
       "      <td>8.955597</td>\n",
       "      <td>1199.292489</td>\n",
       "      <td>...</td>\n",
       "      <td>23.032807</td>\n",
       "      <td>-501.287889</td>\n",
       "      <td>19.977466</td>\n",
       "      <td>-500.159903</td>\n",
       "      <td>17.980463</td>\n",
       "      <td>-500.504602</td>\n",
       "      <td>12.949071</td>\n",
       "      <td>-500.009937</td>\n",
       "      <td>20.010332</td>\n",
       "      <td>-508.337973</td>\n",
       "    </tr>\n",
       "    <tr>\n",
       "      <th>4</th>\n",
       "      <td>2017-12-09 18:59:59</td>\n",
       "      <td>5.735249</td>\n",
       "      <td>6.165220</td>\n",
       "      <td>4.512346</td>\n",
       "      <td>37.810642</td>\n",
       "      <td>558.713584</td>\n",
       "      <td>86.434874</td>\n",
       "      <td>7.823471</td>\n",
       "      <td>7.490356</td>\n",
       "      <td>1198.005449</td>\n",
       "      <td>...</td>\n",
       "      <td>23.001911</td>\n",
       "      <td>-499.947838</td>\n",
       "      <td>20.023735</td>\n",
       "      <td>-499.713680</td>\n",
       "      <td>17.990955</td>\n",
       "      <td>-500.334769</td>\n",
       "      <td>13.007523</td>\n",
       "      <td>-499.968459</td>\n",
       "      <td>19.995999</td>\n",
       "      <td>-499.788805</td>\n",
       "    </tr>\n",
       "  </tbody>\n",
       "</table>\n",
       "<p>5 rows × 53 columns</p>\n",
       "</div>"
      ],
      "text/plain": [
       "                  date  rougher.input.feed_au  rougher.input.feed_ag  \\\n",
       "0  2017-12-09 14:59:59               4.365491               6.158718   \n",
       "1  2017-12-09 15:59:59               4.362781               6.048130   \n",
       "2  2017-12-09 16:59:59               5.081681               6.082745   \n",
       "3  2017-12-09 17:59:59               5.145949               6.084374   \n",
       "4  2017-12-09 18:59:59               5.735249               6.165220   \n",
       "\n",
       "   rougher.input.feed_pb  rougher.input.feed_sol  rougher.input.feed_rate  \\\n",
       "0               3.875727               39.135119               555.820208   \n",
       "1               3.902537               39.713906               544.731687   \n",
       "2               4.564078               37.208683               558.155110   \n",
       "3               4.768124               36.808874               539.713765   \n",
       "4               4.512346               37.810642               558.713584   \n",
       "\n",
       "   rougher.input.feed_size  rougher.input.floatbank10_sulfate  \\\n",
       "0                94.544358                           6.146982   \n",
       "1               123.742430                           6.210119   \n",
       "2                82.610855                           7.363824   \n",
       "3                77.984784                           6.927072   \n",
       "4                86.434874                           7.823471   \n",
       "\n",
       "   rougher.input.floatbank10_xanthate  rougher.state.floatbank10_a_air  ...  \\\n",
       "0                            9.308612                      1196.238112  ...   \n",
       "1                            9.297709                      1201.904177  ...   \n",
       "2                            9.003562                      1200.826926  ...   \n",
       "3                            8.955597                      1199.292489  ...   \n",
       "4                            7.490356                      1198.005449  ...   \n",
       "\n",
       "   secondary_cleaner.state.floatbank4_a_air  \\\n",
       "0                                 23.018622   \n",
       "1                                 23.024963   \n",
       "2                                 22.993827   \n",
       "3                                 23.032807   \n",
       "4                                 23.001911   \n",
       "\n",
       "   secondary_cleaner.state.floatbank4_a_level  \\\n",
       "0                                 -500.492702   \n",
       "1                                 -501.153409   \n",
       "2                                 -501.559663   \n",
       "3                                 -501.287889   \n",
       "4                                 -499.947838   \n",
       "\n",
       "   secondary_cleaner.state.floatbank4_b_air  \\\n",
       "0                                 20.020205   \n",
       "1                                 20.054122   \n",
       "2                                 20.029144   \n",
       "3                                 19.977466   \n",
       "4                                 20.023735   \n",
       "\n",
       "   secondary_cleaner.state.floatbank4_b_level  \\\n",
       "0                                 -500.220296   \n",
       "1                                 -500.314711   \n",
       "2                                 -500.000662   \n",
       "3                                 -500.159903   \n",
       "4                                 -499.713680   \n",
       "\n",
       "   secondary_cleaner.state.floatbank5_a_air  \\\n",
       "0                                 17.963512   \n",
       "1                                 17.979515   \n",
       "2                                 18.012723   \n",
       "3                                 17.980463   \n",
       "4                                 17.990955   \n",
       "\n",
       "   secondary_cleaner.state.floatbank5_a_level  \\\n",
       "0                                 -499.939490   \n",
       "1                                 -499.272871   \n",
       "2                                 -500.024764   \n",
       "3                                 -500.504602   \n",
       "4                                 -500.334769   \n",
       "\n",
       "   secondary_cleaner.state.floatbank5_b_air  \\\n",
       "0                                 12.990306   \n",
       "1                                 12.992404   \n",
       "2                                 13.016445   \n",
       "3                                 12.949071   \n",
       "4                                 13.007523   \n",
       "\n",
       "   secondary_cleaner.state.floatbank5_b_level  \\\n",
       "0                                 -500.080993   \n",
       "1                                 -499.976268   \n",
       "2                                 -500.058432   \n",
       "3                                 -500.009937   \n",
       "4                                 -499.968459   \n",
       "\n",
       "   secondary_cleaner.state.floatbank6_a_air  \\\n",
       "0                                 19.990336   \n",
       "1                                 20.013986   \n",
       "2                                 19.973767   \n",
       "3                                 20.010332   \n",
       "4                                 19.995999   \n",
       "\n",
       "   secondary_cleaner.state.floatbank6_a_level  \n",
       "0                                 -499.191575  \n",
       "1                                 -500.625471  \n",
       "2                                 -501.394155  \n",
       "3                                 -508.337973  \n",
       "4                                 -499.788805  \n",
       "\n",
       "[5 rows x 53 columns]"
      ]
     },
     "execution_count": 4,
     "metadata": {},
     "output_type": "execute_result"
    }
   ],
   "source": [
    "df_test.head()"
   ]
  },
  {
   "cell_type": "code",
   "execution_count": 5,
   "metadata": {
    "scrolled": true
   },
   "outputs": [
    {
     "data": {
      "text/html": [
       "<div>\n",
       "<style scoped>\n",
       "    .dataframe tbody tr th:only-of-type {\n",
       "        vertical-align: middle;\n",
       "    }\n",
       "\n",
       "    .dataframe tbody tr th {\n",
       "        vertical-align: top;\n",
       "    }\n",
       "\n",
       "    .dataframe thead th {\n",
       "        text-align: right;\n",
       "    }\n",
       "</style>\n",
       "<table border=\"1\" class=\"dataframe\">\n",
       "  <thead>\n",
       "    <tr style=\"text-align: right;\">\n",
       "      <th></th>\n",
       "      <th>date</th>\n",
       "      <th>rougher.input.feed_au</th>\n",
       "      <th>rougher.input.feed_ag</th>\n",
       "      <th>rougher.input.feed_pb</th>\n",
       "      <th>rougher.input.feed_sol</th>\n",
       "      <th>rougher.input.feed_rate</th>\n",
       "      <th>rougher.input.feed_size</th>\n",
       "      <th>rougher.input.floatbank10_sulfate</th>\n",
       "      <th>rougher.input.floatbank10_xanthate</th>\n",
       "      <th>rougher.state.floatbank10_a_air</th>\n",
       "      <th>...</th>\n",
       "      <th>secondary_cleaner.output.tail_sol</th>\n",
       "      <th>final.output.concentrate_au</th>\n",
       "      <th>final.output.concentrate_ag</th>\n",
       "      <th>final.output.concentrate_pb</th>\n",
       "      <th>final.output.concentrate_sol</th>\n",
       "      <th>final.output.recovery</th>\n",
       "      <th>final.output.tail_au</th>\n",
       "      <th>final.output.tail_ag</th>\n",
       "      <th>final.output.tail_pb</th>\n",
       "      <th>final.output.tail_sol</th>\n",
       "    </tr>\n",
       "  </thead>\n",
       "  <tbody>\n",
       "    <tr>\n",
       "      <th>0</th>\n",
       "      <td>2016-01-15 00:00:00</td>\n",
       "      <td>6.486150</td>\n",
       "      <td>6.100378</td>\n",
       "      <td>2.284912</td>\n",
       "      <td>36.808594</td>\n",
       "      <td>523.546326</td>\n",
       "      <td>55.486599</td>\n",
       "      <td>11.986616</td>\n",
       "      <td>6.007990</td>\n",
       "      <td>999.706909</td>\n",
       "      <td>...</td>\n",
       "      <td>8.764648</td>\n",
       "      <td>42.192020</td>\n",
       "      <td>6.055403</td>\n",
       "      <td>9.889648</td>\n",
       "      <td>5.507324</td>\n",
       "      <td>70.541216</td>\n",
       "      <td>2.143149</td>\n",
       "      <td>10.411962</td>\n",
       "      <td>0.895447</td>\n",
       "      <td>16.904297</td>\n",
       "    </tr>\n",
       "    <tr>\n",
       "      <th>1</th>\n",
       "      <td>2016-01-15 01:00:00</td>\n",
       "      <td>6.478583</td>\n",
       "      <td>6.161113</td>\n",
       "      <td>2.266033</td>\n",
       "      <td>35.753385</td>\n",
       "      <td>525.290581</td>\n",
       "      <td>57.278666</td>\n",
       "      <td>11.971193</td>\n",
       "      <td>6.005766</td>\n",
       "      <td>1000.286398</td>\n",
       "      <td>...</td>\n",
       "      <td>9.001494</td>\n",
       "      <td>42.701629</td>\n",
       "      <td>6.029369</td>\n",
       "      <td>9.968944</td>\n",
       "      <td>5.257781</td>\n",
       "      <td>69.266198</td>\n",
       "      <td>2.224930</td>\n",
       "      <td>10.462676</td>\n",
       "      <td>0.927452</td>\n",
       "      <td>16.634514</td>\n",
       "    </tr>\n",
       "    <tr>\n",
       "      <th>2</th>\n",
       "      <td>2016-01-15 02:00:00</td>\n",
       "      <td>6.362222</td>\n",
       "      <td>6.116455</td>\n",
       "      <td>2.159622</td>\n",
       "      <td>35.971630</td>\n",
       "      <td>530.026610</td>\n",
       "      <td>57.510649</td>\n",
       "      <td>11.920603</td>\n",
       "      <td>6.197377</td>\n",
       "      <td>999.719565</td>\n",
       "      <td>...</td>\n",
       "      <td>8.842896</td>\n",
       "      <td>42.657501</td>\n",
       "      <td>6.055926</td>\n",
       "      <td>10.213995</td>\n",
       "      <td>5.383759</td>\n",
       "      <td>68.116445</td>\n",
       "      <td>2.257889</td>\n",
       "      <td>10.507046</td>\n",
       "      <td>0.953716</td>\n",
       "      <td>16.208849</td>\n",
       "    </tr>\n",
       "    <tr>\n",
       "      <th>3</th>\n",
       "      <td>2016-01-15 03:00:00</td>\n",
       "      <td>6.118189</td>\n",
       "      <td>6.043309</td>\n",
       "      <td>2.037807</td>\n",
       "      <td>36.862241</td>\n",
       "      <td>542.590390</td>\n",
       "      <td>57.792734</td>\n",
       "      <td>11.630094</td>\n",
       "      <td>6.203177</td>\n",
       "      <td>999.814770</td>\n",
       "      <td>...</td>\n",
       "      <td>9.122857</td>\n",
       "      <td>42.689819</td>\n",
       "      <td>6.047977</td>\n",
       "      <td>9.977019</td>\n",
       "      <td>4.858634</td>\n",
       "      <td>68.347543</td>\n",
       "      <td>2.146849</td>\n",
       "      <td>10.422762</td>\n",
       "      <td>0.883763</td>\n",
       "      <td>16.532835</td>\n",
       "    </tr>\n",
       "    <tr>\n",
       "      <th>4</th>\n",
       "      <td>2016-01-15 04:00:00</td>\n",
       "      <td>5.663707</td>\n",
       "      <td>6.060915</td>\n",
       "      <td>1.786875</td>\n",
       "      <td>34.347666</td>\n",
       "      <td>540.531893</td>\n",
       "      <td>56.047189</td>\n",
       "      <td>10.957755</td>\n",
       "      <td>6.198826</td>\n",
       "      <td>999.678690</td>\n",
       "      <td>...</td>\n",
       "      <td>8.871028</td>\n",
       "      <td>42.774141</td>\n",
       "      <td>6.148599</td>\n",
       "      <td>10.142511</td>\n",
       "      <td>4.939416</td>\n",
       "      <td>66.927016</td>\n",
       "      <td>2.055292</td>\n",
       "      <td>10.360302</td>\n",
       "      <td>0.792826</td>\n",
       "      <td>16.525686</td>\n",
       "    </tr>\n",
       "  </tbody>\n",
       "</table>\n",
       "<p>5 rows × 87 columns</p>\n",
       "</div>"
      ],
      "text/plain": [
       "                  date  rougher.input.feed_au  rougher.input.feed_ag  \\\n",
       "0  2016-01-15 00:00:00               6.486150               6.100378   \n",
       "1  2016-01-15 01:00:00               6.478583               6.161113   \n",
       "2  2016-01-15 02:00:00               6.362222               6.116455   \n",
       "3  2016-01-15 03:00:00               6.118189               6.043309   \n",
       "4  2016-01-15 04:00:00               5.663707               6.060915   \n",
       "\n",
       "   rougher.input.feed_pb  rougher.input.feed_sol  rougher.input.feed_rate  \\\n",
       "0               2.284912               36.808594               523.546326   \n",
       "1               2.266033               35.753385               525.290581   \n",
       "2               2.159622               35.971630               530.026610   \n",
       "3               2.037807               36.862241               542.590390   \n",
       "4               1.786875               34.347666               540.531893   \n",
       "\n",
       "   rougher.input.feed_size  rougher.input.floatbank10_sulfate  \\\n",
       "0                55.486599                          11.986616   \n",
       "1                57.278666                          11.971193   \n",
       "2                57.510649                          11.920603   \n",
       "3                57.792734                          11.630094   \n",
       "4                56.047189                          10.957755   \n",
       "\n",
       "   rougher.input.floatbank10_xanthate  rougher.state.floatbank10_a_air  ...  \\\n",
       "0                            6.007990                       999.706909  ...   \n",
       "1                            6.005766                      1000.286398  ...   \n",
       "2                            6.197377                       999.719565  ...   \n",
       "3                            6.203177                       999.814770  ...   \n",
       "4                            6.198826                       999.678690  ...   \n",
       "\n",
       "   secondary_cleaner.output.tail_sol  final.output.concentrate_au  \\\n",
       "0                           8.764648                    42.192020   \n",
       "1                           9.001494                    42.701629   \n",
       "2                           8.842896                    42.657501   \n",
       "3                           9.122857                    42.689819   \n",
       "4                           8.871028                    42.774141   \n",
       "\n",
       "   final.output.concentrate_ag  final.output.concentrate_pb  \\\n",
       "0                     6.055403                     9.889648   \n",
       "1                     6.029369                     9.968944   \n",
       "2                     6.055926                    10.213995   \n",
       "3                     6.047977                     9.977019   \n",
       "4                     6.148599                    10.142511   \n",
       "\n",
       "   final.output.concentrate_sol  final.output.recovery  final.output.tail_au  \\\n",
       "0                      5.507324              70.541216              2.143149   \n",
       "1                      5.257781              69.266198              2.224930   \n",
       "2                      5.383759              68.116445              2.257889   \n",
       "3                      4.858634              68.347543              2.146849   \n",
       "4                      4.939416              66.927016              2.055292   \n",
       "\n",
       "   final.output.tail_ag  final.output.tail_pb  final.output.tail_sol  \n",
       "0             10.411962              0.895447              16.904297  \n",
       "1             10.462676              0.927452              16.634514  \n",
       "2             10.507046              0.953716              16.208849  \n",
       "3             10.422762              0.883763              16.532835  \n",
       "4             10.360302              0.792826              16.525686  \n",
       "\n",
       "[5 rows x 87 columns]"
      ]
     },
     "execution_count": 5,
     "metadata": {},
     "output_type": "execute_result"
    }
   ],
   "source": [
    "df_full.head()"
   ]
  },
  {
   "cell_type": "code",
   "execution_count": 6,
   "metadata": {},
   "outputs": [
    {
     "name": "stdout",
     "output_type": "stream",
     "text": [
      "(14579, 87)\n",
      "(4860, 53)\n",
      "(19439, 87)\n"
     ]
    }
   ],
   "source": [
    "print(df_train.shape)\n",
    "print(df_test.shape)\n",
    "print(df_full.shape)"
   ]
  },
  {
   "cell_type": "code",
   "execution_count": 7,
   "metadata": {
    "scrolled": true
   },
   "outputs": [
    {
     "name": "stdout",
     "output_type": "stream",
     "text": [
      "<class 'pandas.core.frame.DataFrame'>\n",
      "RangeIndex: 14579 entries, 0 to 14578\n",
      "Data columns (total 87 columns):\n",
      " #   Column                                              Non-Null Count  Dtype  \n",
      "---  ------                                              --------------  -----  \n",
      " 0   date                                                14579 non-null  object \n",
      " 1   rougher.input.feed_au                               14579 non-null  float64\n",
      " 2   rougher.input.feed_ag                               14579 non-null  float64\n",
      " 3   rougher.input.feed_pb                               14507 non-null  float64\n",
      " 4   rougher.input.feed_sol                              14502 non-null  float64\n",
      " 5   rougher.input.feed_rate                             14572 non-null  float64\n",
      " 6   rougher.input.feed_size                             14478 non-null  float64\n",
      " 7   rougher.input.floatbank10_sulfate                   14548 non-null  float64\n",
      " 8   rougher.input.floatbank10_xanthate                  14572 non-null  float64\n",
      " 9   rougher.state.floatbank10_a_air                     14579 non-null  float64\n",
      " 10  rougher.state.floatbank10_a_level                   14579 non-null  float64\n",
      " 11  rougher.state.floatbank10_b_air                     14579 non-null  float64\n",
      " 12  rougher.state.floatbank10_b_level                   14579 non-null  float64\n",
      " 13  rougher.state.floatbank10_c_air                     14579 non-null  float64\n",
      " 14  rougher.state.floatbank10_c_level                   14579 non-null  float64\n",
      " 15  rougher.state.floatbank10_d_air                     14579 non-null  float64\n",
      " 16  rougher.state.floatbank10_d_level                   14579 non-null  float64\n",
      " 17  rougher.state.floatbank10_e_air                     14150 non-null  float64\n",
      " 18  rougher.state.floatbank10_e_level                   14579 non-null  float64\n",
      " 19  rougher.state.floatbank10_f_air                     14579 non-null  float64\n",
      " 20  rougher.state.floatbank10_f_level                   14579 non-null  float64\n",
      " 21  rougher.input.floatbank11_sulfate                   14543 non-null  float64\n",
      " 22  rougher.input.floatbank11_xanthate                  14172 non-null  float64\n",
      " 23  rougher.calculation.sulfate_to_au_concentrate       14578 non-null  float64\n",
      " 24  rougher.calculation.floatbank10_sulfate_to_au_feed  14578 non-null  float64\n",
      " 25  rougher.calculation.floatbank11_sulfate_to_au_feed  14578 non-null  float64\n",
      " 26  rougher.calculation.au_pb_ratio                     14579 non-null  float64\n",
      " 27  rougher.output.concentrate_au                       14579 non-null  float64\n",
      " 28  rougher.output.concentrate_ag                       14579 non-null  float64\n",
      " 29  rougher.output.concentrate_pb                       14579 non-null  float64\n",
      " 30  rougher.output.concentrate_sol                      14561 non-null  float64\n",
      " 31  rougher.output.recovery                             14579 non-null  float64\n",
      " 32  rougher.output.tail_au                              14579 non-null  float64\n",
      " 33  rougher.output.tail_ag                              14578 non-null  float64\n",
      " 34  rougher.output.tail_pb                              14579 non-null  float64\n",
      " 35  rougher.output.tail_sol                             14579 non-null  float64\n",
      " 36  primary_cleaner.input.sulfate                       14556 non-null  float64\n",
      " 37  primary_cleaner.input.depressant                    14551 non-null  float64\n",
      " 38  primary_cleaner.input.feed_size                     14579 non-null  float64\n",
      " 39  primary_cleaner.input.xanthate                      14518 non-null  float64\n",
      " 40  primary_cleaner.state.floatbank8_a_air              14576 non-null  float64\n",
      " 41  primary_cleaner.state.floatbank8_a_level            14579 non-null  float64\n",
      " 42  primary_cleaner.state.floatbank8_b_air              14576 non-null  float64\n",
      " 43  primary_cleaner.state.floatbank8_b_level            14579 non-null  float64\n",
      " 44  primary_cleaner.state.floatbank8_c_air              14579 non-null  float64\n",
      " 45  primary_cleaner.state.floatbank8_c_level            14579 non-null  float64\n",
      " 46  primary_cleaner.state.floatbank8_d_air              14578 non-null  float64\n",
      " 47  primary_cleaner.state.floatbank8_d_level            14579 non-null  float64\n",
      " 48  primary_cleaner.output.concentrate_au               14579 non-null  float64\n",
      " 49  primary_cleaner.output.concentrate_ag               14579 non-null  float64\n",
      " 50  primary_cleaner.output.concentrate_pb               14491 non-null  float64\n",
      " 51  primary_cleaner.output.concentrate_sol              14314 non-null  float64\n",
      " 52  primary_cleaner.output.tail_au                      14579 non-null  float64\n",
      " 53  primary_cleaner.output.tail_ag                      14575 non-null  float64\n",
      " 54  primary_cleaner.output.tail_pb                      14573 non-null  float64\n",
      " 55  primary_cleaner.output.tail_sol                     14534 non-null  float64\n",
      " 56  secondary_cleaner.state.floatbank2_a_air            14485 non-null  float64\n",
      " 57  secondary_cleaner.state.floatbank2_a_level          14579 non-null  float64\n",
      " 58  secondary_cleaner.state.floatbank2_b_air            14557 non-null  float64\n",
      " 59  secondary_cleaner.state.floatbank2_b_level          14579 non-null  float64\n",
      " 60  secondary_cleaner.state.floatbank3_a_air            14567 non-null  float64\n",
      " 61  secondary_cleaner.state.floatbank3_a_level          14579 non-null  float64\n",
      " 62  secondary_cleaner.state.floatbank3_b_air            14579 non-null  float64\n",
      " 63  secondary_cleaner.state.floatbank3_b_level          14579 non-null  float64\n",
      " 64  secondary_cleaner.state.floatbank4_a_air            14574 non-null  float64\n",
      " 65  secondary_cleaner.state.floatbank4_a_level          14579 non-null  float64\n",
      " 66  secondary_cleaner.state.floatbank4_b_air            14579 non-null  float64\n",
      " 67  secondary_cleaner.state.floatbank4_b_level          14579 non-null  float64\n",
      " 68  secondary_cleaner.state.floatbank5_a_air            14579 non-null  float64\n",
      " 69  secondary_cleaner.state.floatbank5_a_level          14579 non-null  float64\n",
      " 70  secondary_cleaner.state.floatbank5_b_air            14579 non-null  float64\n",
      " 71  secondary_cleaner.state.floatbank5_b_level          14579 non-null  float64\n",
      " 72  secondary_cleaner.state.floatbank6_a_air            14578 non-null  float64\n",
      " 73  secondary_cleaner.state.floatbank6_a_level          14579 non-null  float64\n",
      " 74  secondary_cleaner.output.tail_au                    14579 non-null  float64\n",
      " 75  secondary_cleaner.output.tail_ag                    14578 non-null  float64\n",
      " 76  secondary_cleaner.output.tail_pb                    14575 non-null  float64\n",
      " 77  secondary_cleaner.output.tail_sol                   13659 non-null  float64\n",
      " 78  final.output.concentrate_au                         14579 non-null  float64\n",
      " 79  final.output.concentrate_ag                         14578 non-null  float64\n",
      " 80  final.output.concentrate_pb                         14578 non-null  float64\n",
      " 81  final.output.concentrate_sol                        14387 non-null  float64\n",
      " 82  final.output.recovery                               14579 non-null  float64\n",
      " 83  final.output.tail_au                                14579 non-null  float64\n",
      " 84  final.output.tail_ag                                14578 non-null  float64\n",
      " 85  final.output.tail_pb                                14504 non-null  float64\n",
      " 86  final.output.tail_sol                               14574 non-null  float64\n",
      "dtypes: float64(86), object(1)\n",
      "memory usage: 9.7+ MB\n"
     ]
    }
   ],
   "source": [
    "df_train.info()"
   ]
  },
  {
   "cell_type": "code",
   "execution_count": 8,
   "metadata": {
    "scrolled": true
   },
   "outputs": [
    {
     "name": "stdout",
     "output_type": "stream",
     "text": [
      "Пропуски в тренировочной выборке [0, 0, 0, 72, 77, 7, 101, 31, 7, 0, 0, 0, 0, 0, 0, 0, 0, 429, 0, 0, 0, 36, 407, 1, 1, 1, 0, 0, 0, 0, 18, 0, 0, 1, 0, 0, 23, 28, 0, 61, 3, 0, 3, 0, 0, 0, 1, 0, 0, 0, 88, 265, 0, 4, 6, 45, 94, 0, 22, 0, 12, 0, 0, 0, 5, 0, 0, 0, 0, 0, 0, 0, 1, 0, 0, 1, 4, 920, 0, 1, 1, 192, 0, 0, 1, 75, 5]\n",
      "Пропуски в тестовой выборке [0, 0, 0, 28, 22, 4, 44, 3, 1, 1, 1, 1, 1, 1, 1, 0, 0, 7, 0, 0, 0, 8, 46, 1, 9, 0, 43, 1, 1, 1, 1, 2, 1, 2, 1, 126, 1, 1, 1, 1, 1, 1, 1, 1, 1, 1, 1, 1, 1, 1, 1, 1, 1]\n",
      "Пропуски в полной выборке [0, 0, 0, 100, 99, 11, 145, 34, 8, 1, 1, 1, 1, 1, 1, 0, 0, 436, 0, 0, 0, 44, 453, 2, 2, 2, 0, 0, 0, 0, 23, 0, 0, 1, 0, 0, 24, 37, 0, 104, 4, 1, 4, 1, 2, 1, 3, 1, 0, 0, 116, 370, 0, 4, 21, 62, 220, 1, 23, 1, 13, 1, 1, 1, 6, 1, 1, 1, 1, 1, 1, 1, 2, 1, 0, 2, 12, 1748, 0, 1, 1, 211, 0, 0, 1, 101, 6]\n"
     ]
    }
   ],
   "source": [
    "print('Пропуски в тренировочной выборке',list(df_train.isna().sum()))\n",
    "print('Пропуски в тестовой выборке',list(df_test.isna().sum()))\n",
    "print('Пропуски в полной выборке',list(df_full.isna().sum()))\n"
   ]
  },
  {
   "cell_type": "markdown",
   "metadata": {},
   "source": [
    "### Проверка эффективности обогащения"
   ]
  },
  {
   "cell_type": "code",
   "execution_count": 9,
   "metadata": {},
   "outputs": [
    {
     "data": {
      "text/plain": [
       "Index(['date', 'rougher.input.feed_au', 'rougher.input.feed_ag',\n",
       "       'rougher.input.feed_pb', 'rougher.input.feed_sol',\n",
       "       'rougher.input.feed_rate', 'rougher.input.feed_size',\n",
       "       'rougher.input.floatbank10_sulfate',\n",
       "       'rougher.input.floatbank10_xanthate', 'rougher.state.floatbank10_a_air',\n",
       "       'rougher.state.floatbank10_a_level', 'rougher.state.floatbank10_b_air',\n",
       "       'rougher.state.floatbank10_b_level', 'rougher.state.floatbank10_c_air',\n",
       "       'rougher.state.floatbank10_c_level', 'rougher.state.floatbank10_d_air',\n",
       "       'rougher.state.floatbank10_d_level', 'rougher.state.floatbank10_e_air',\n",
       "       'rougher.state.floatbank10_e_level', 'rougher.state.floatbank10_f_air',\n",
       "       'rougher.state.floatbank10_f_level',\n",
       "       'rougher.input.floatbank11_sulfate',\n",
       "       'rougher.input.floatbank11_xanthate',\n",
       "       'rougher.calculation.sulfate_to_au_concentrate',\n",
       "       'rougher.calculation.floatbank10_sulfate_to_au_feed',\n",
       "       'rougher.calculation.floatbank11_sulfate_to_au_feed',\n",
       "       'rougher.calculation.au_pb_ratio', 'rougher.output.concentrate_au',\n",
       "       'rougher.output.concentrate_ag', 'rougher.output.concentrate_pb',\n",
       "       'rougher.output.concentrate_sol', 'rougher.output.recovery',\n",
       "       'rougher.output.tail_au', 'rougher.output.tail_ag',\n",
       "       'rougher.output.tail_pb', 'rougher.output.tail_sol',\n",
       "       'primary_cleaner.input.sulfate', 'primary_cleaner.input.depressant',\n",
       "       'primary_cleaner.input.feed_size', 'primary_cleaner.input.xanthate'],\n",
       "      dtype='object')"
      ]
     },
     "execution_count": 9,
     "metadata": {},
     "output_type": "execute_result"
    }
   ],
   "source": [
    "df_train.columns[:40]"
   ]
  },
  {
   "cell_type": "markdown",
   "metadata": {},
   "source": [
    "rougher.output.recovery - нужно проверить корректность этого признака"
   ]
  },
  {
   "attachments": {
    "%D0%B8%D0%B7%D0%BE%D0%B1%D1%80%D0%B0%D0%B6%D0%B5%D0%BD%D0%B8%D0%B5.png": {
     "image/png": "[encoded data removed]"
    }
   },
   "cell_type": "markdown",
   "metadata": {},
   "source": [
    "формула такая:\n",
    "![%D0%B8%D0%B7%D0%BE%D0%B1%D1%80%D0%B0%D0%B6%D0%B5%D0%BD%D0%B8%D0%B5.png](attachment:%D0%B8%D0%B7%D0%BE%D0%B1%D1%80%D0%B0%D0%B6%D0%B5%D0%BD%D0%B8%D0%B5.png)\n",
    "\n",
    "где:\n",
    "\n",
    "- C — доля золота в концентрате после **флотации**/очистки;  `rougher.output.concentrate_au`\n",
    "- F — доля золота в **сырье**/концентрате до **флотации**/очистки;  `rougher.input.feed_au`\n",
    "- T — доля золота в отвальных хвостах после **флотации**/очистки.  `rougher.output.tail_au`"
   ]
  },
  {
   "cell_type": "code",
   "execution_count": 10,
   "metadata": {},
   "outputs": [
    {
     "name": "stdout",
     "output_type": "stream",
     "text": [
      "9.83758577644259e-15\n"
     ]
    }
   ],
   "source": [
    "df_train['rougher.output.recovery_check'] = (df_train['rougher.output.concentrate_au']*\n",
    "                                                 (df_train['rougher.input.feed_au']-df_train['rougher.output.tail_au'])\n",
    "                                            )/(df_train['rougher.input.feed_au']*\n",
    "                                               (df_train['rougher.output.concentrate_au']-df_train['rougher.output.tail_au'])\n",
    "                                            ) *100\n",
    "    \n",
    "    \n",
    "mae_recovery = mean_absolute_error(df_train['rougher.output.recovery_check'],df_train['rougher.output.recovery'])\n",
    "print(mae_recovery)"
   ]
  },
  {
   "cell_type": "code",
   "execution_count": 11,
   "metadata": {},
   "outputs": [],
   "source": [
    "df_train = df_train.drop('rougher.output.recovery_check',axis=1)"
   ]
  },
  {
   "cell_type": "markdown",
   "metadata": {},
   "source": [
    "~~отклонение 6%, думаю, что такая погрешность допустима, тем более она может выравняться на слудующих этапах~~\n",
    "\n",
    "Среднеее абсолютное отклонение выражено в экспоненциальной форме с указанием значения степени при дестяке, знасчит значение примерно равно 10^-15, что очень точно. Отличный результат."
   ]
  },
  {
   "cell_type": "markdown",
   "metadata": {},
   "source": [
    "### Проанализируйте признаки, недоступные в тестовой выборке. Что это за параметры? К какому типу относятся?"
   ]
  },
  {
   "cell_type": "code",
   "execution_count": 12,
   "metadata": {},
   "outputs": [
    {
     "name": "stdout",
     "output_type": "stream",
     "text": [
      "53\n",
      "87\n",
      "False\n"
     ]
    },
    {
     "data": {
      "text/plain": [
       "['final.output.concentrate_ag',\n",
       " 'final.output.concentrate_au',\n",
       " 'final.output.concentrate_pb',\n",
       " 'final.output.concentrate_sol',\n",
       " 'final.output.recovery',\n",
       " 'final.output.tail_ag',\n",
       " 'final.output.tail_au',\n",
       " 'final.output.tail_pb',\n",
       " 'final.output.tail_sol',\n",
       " 'primary_cleaner.output.concentrate_ag',\n",
       " 'primary_cleaner.output.concentrate_au',\n",
       " 'primary_cleaner.output.concentrate_pb',\n",
       " 'primary_cleaner.output.concentrate_sol',\n",
       " 'primary_cleaner.output.tail_ag',\n",
       " 'primary_cleaner.output.tail_au',\n",
       " 'primary_cleaner.output.tail_pb',\n",
       " 'primary_cleaner.output.tail_sol',\n",
       " 'rougher.calculation.au_pb_ratio',\n",
       " 'rougher.calculation.floatbank10_sulfate_to_au_feed',\n",
       " 'rougher.calculation.floatbank11_sulfate_to_au_feed',\n",
       " 'rougher.calculation.sulfate_to_au_concentrate',\n",
       " 'rougher.output.concentrate_ag',\n",
       " 'rougher.output.concentrate_au',\n",
       " 'rougher.output.concentrate_pb',\n",
       " 'rougher.output.concentrate_sol',\n",
       " 'rougher.output.recovery',\n",
       " 'rougher.output.tail_ag',\n",
       " 'rougher.output.tail_au',\n",
       " 'rougher.output.tail_pb',\n",
       " 'rougher.output.tail_sol',\n",
       " 'secondary_cleaner.output.tail_ag',\n",
       " 'secondary_cleaner.output.tail_au',\n",
       " 'secondary_cleaner.output.tail_pb',\n",
       " 'secondary_cleaner.output.tail_sol']"
      ]
     },
     "execution_count": 12,
     "metadata": {},
     "output_type": "execute_result"
    }
   ],
   "source": [
    "cols_test = set(pd.read_csv('/datasets/gold_industry_test.csv').columns)\n",
    "cols_full = set(pd.read_csv('/datasets/gold_industry_full.csv').columns)\n",
    "\n",
    "# print(cols_test)\n",
    "# print(cols_full)\n",
    "\n",
    "print(len(cols_test))\n",
    "print(len(cols_full))\n",
    "print(cols_test==cols_full)\n",
    "\n",
    "\n",
    "diff = list(cols_full.difference(cols_test))\n",
    "diff.sort()\n",
    "diff"
   ]
  },
  {
   "cell_type": "markdown",
   "metadata": {},
   "source": [
    "Видим, что в тестовых данных отсутсвуют выходные данные по каждому этапу, видимо, это нельзя сделать сразу во время эксперимента, или с этим возникают какие-то сложности, нам же эти данные будут полезны"
   ]
  },
  {
   "cell_type": "markdown",
   "metadata": {},
   "source": [
    "### Предобработка данных"
   ]
  },
  {
   "cell_type": "code",
   "execution_count": 13,
   "metadata": {},
   "outputs": [],
   "source": [
    "df_train['date'] = df_train['date'].astype(\"datetime64[ns]\")\n",
    "df_test['date'] = df_test['date'].astype(\"datetime64[ns]\")\n",
    "df_full['date'] = df_full['date'].astype(\"datetime64[ns]\")"
   ]
  },
  {
   "cell_type": "markdown",
   "metadata": {},
   "source": [
    "Добавим в тестовую выборку пропущенные этапы с помощью метода join"
   ]
  },
  {
   "cell_type": "code",
   "execution_count": 14,
   "metadata": {
    "scrolled": true
   },
   "outputs": [
    {
     "data": {
      "text/html": [
       "<div>\n",
       "<style scoped>\n",
       "    .dataframe tbody tr th:only-of-type {\n",
       "        vertical-align: middle;\n",
       "    }\n",
       "\n",
       "    .dataframe tbody tr th {\n",
       "        vertical-align: top;\n",
       "    }\n",
       "\n",
       "    .dataframe thead th {\n",
       "        text-align: right;\n",
       "    }\n",
       "</style>\n",
       "<table border=\"1\" class=\"dataframe\">\n",
       "  <thead>\n",
       "    <tr style=\"text-align: right;\">\n",
       "      <th></th>\n",
       "      <th>date</th>\n",
       "      <th>rougher.input.feed_au</th>\n",
       "      <th>rougher.input.feed_ag</th>\n",
       "      <th>rougher.input.feed_pb</th>\n",
       "      <th>rougher.input.feed_sol</th>\n",
       "      <th>rougher.input.feed_rate</th>\n",
       "      <th>rougher.input.feed_size</th>\n",
       "      <th>rougher.input.floatbank10_sulfate</th>\n",
       "      <th>rougher.input.floatbank10_xanthate</th>\n",
       "      <th>rougher.state.floatbank10_a_air</th>\n",
       "      <th>...</th>\n",
       "      <th>secondary_cleaner.state.floatbank4_a_air</th>\n",
       "      <th>secondary_cleaner.state.floatbank4_a_level</th>\n",
       "      <th>secondary_cleaner.state.floatbank4_b_air</th>\n",
       "      <th>secondary_cleaner.state.floatbank4_b_level</th>\n",
       "      <th>secondary_cleaner.state.floatbank5_a_air</th>\n",
       "      <th>secondary_cleaner.state.floatbank5_a_level</th>\n",
       "      <th>secondary_cleaner.state.floatbank5_b_air</th>\n",
       "      <th>secondary_cleaner.state.floatbank5_b_level</th>\n",
       "      <th>secondary_cleaner.state.floatbank6_a_air</th>\n",
       "      <th>secondary_cleaner.state.floatbank6_a_level</th>\n",
       "    </tr>\n",
       "  </thead>\n",
       "  <tbody>\n",
       "    <tr>\n",
       "      <th>0</th>\n",
       "      <td>2017-12-09 14:59:59</td>\n",
       "      <td>4.365491</td>\n",
       "      <td>6.158718</td>\n",
       "      <td>3.875727</td>\n",
       "      <td>39.135119</td>\n",
       "      <td>555.820208</td>\n",
       "      <td>94.544358</td>\n",
       "      <td>6.146982</td>\n",
       "      <td>9.308612</td>\n",
       "      <td>1196.238112</td>\n",
       "      <td>...</td>\n",
       "      <td>23.018622</td>\n",
       "      <td>-500.492702</td>\n",
       "      <td>20.020205</td>\n",
       "      <td>-500.220296</td>\n",
       "      <td>17.963512</td>\n",
       "      <td>-499.939490</td>\n",
       "      <td>12.990306</td>\n",
       "      <td>-500.080993</td>\n",
       "      <td>19.990336</td>\n",
       "      <td>-499.191575</td>\n",
       "    </tr>\n",
       "    <tr>\n",
       "      <th>1</th>\n",
       "      <td>2017-12-09 15:59:59</td>\n",
       "      <td>4.362781</td>\n",
       "      <td>6.048130</td>\n",
       "      <td>3.902537</td>\n",
       "      <td>39.713906</td>\n",
       "      <td>544.731687</td>\n",
       "      <td>123.742430</td>\n",
       "      <td>6.210119</td>\n",
       "      <td>9.297709</td>\n",
       "      <td>1201.904177</td>\n",
       "      <td>...</td>\n",
       "      <td>23.024963</td>\n",
       "      <td>-501.153409</td>\n",
       "      <td>20.054122</td>\n",
       "      <td>-500.314711</td>\n",
       "      <td>17.979515</td>\n",
       "      <td>-499.272871</td>\n",
       "      <td>12.992404</td>\n",
       "      <td>-499.976268</td>\n",
       "      <td>20.013986</td>\n",
       "      <td>-500.625471</td>\n",
       "    </tr>\n",
       "    <tr>\n",
       "      <th>2</th>\n",
       "      <td>2017-12-09 16:59:59</td>\n",
       "      <td>5.081681</td>\n",
       "      <td>6.082745</td>\n",
       "      <td>4.564078</td>\n",
       "      <td>37.208683</td>\n",
       "      <td>558.155110</td>\n",
       "      <td>82.610855</td>\n",
       "      <td>7.363824</td>\n",
       "      <td>9.003562</td>\n",
       "      <td>1200.826926</td>\n",
       "      <td>...</td>\n",
       "      <td>22.993827</td>\n",
       "      <td>-501.559663</td>\n",
       "      <td>20.029144</td>\n",
       "      <td>-500.000662</td>\n",
       "      <td>18.012723</td>\n",
       "      <td>-500.024764</td>\n",
       "      <td>13.016445</td>\n",
       "      <td>-500.058432</td>\n",
       "      <td>19.973767</td>\n",
       "      <td>-501.394155</td>\n",
       "    </tr>\n",
       "    <tr>\n",
       "      <th>3</th>\n",
       "      <td>2017-12-09 17:59:59</td>\n",
       "      <td>5.145949</td>\n",
       "      <td>6.084374</td>\n",
       "      <td>4.768124</td>\n",
       "      <td>36.808874</td>\n",
       "      <td>539.713765</td>\n",
       "      <td>77.984784</td>\n",
       "      <td>6.927072</td>\n",
       "      <td>8.955597</td>\n",
       "      <td>1199.292489</td>\n",
       "      <td>...</td>\n",
       "      <td>23.032807</td>\n",
       "      <td>-501.287889</td>\n",
       "      <td>19.977466</td>\n",
       "      <td>-500.159903</td>\n",
       "      <td>17.980463</td>\n",
       "      <td>-500.504602</td>\n",
       "      <td>12.949071</td>\n",
       "      <td>-500.009937</td>\n",
       "      <td>20.010332</td>\n",
       "      <td>-508.337973</td>\n",
       "    </tr>\n",
       "    <tr>\n",
       "      <th>4</th>\n",
       "      <td>2017-12-09 18:59:59</td>\n",
       "      <td>5.735249</td>\n",
       "      <td>6.165220</td>\n",
       "      <td>4.512346</td>\n",
       "      <td>37.810642</td>\n",
       "      <td>558.713584</td>\n",
       "      <td>86.434874</td>\n",
       "      <td>7.823471</td>\n",
       "      <td>7.490356</td>\n",
       "      <td>1198.005449</td>\n",
       "      <td>...</td>\n",
       "      <td>23.001911</td>\n",
       "      <td>-499.947838</td>\n",
       "      <td>20.023735</td>\n",
       "      <td>-499.713680</td>\n",
       "      <td>17.990955</td>\n",
       "      <td>-500.334769</td>\n",
       "      <td>13.007523</td>\n",
       "      <td>-499.968459</td>\n",
       "      <td>19.995999</td>\n",
       "      <td>-499.788805</td>\n",
       "    </tr>\n",
       "  </tbody>\n",
       "</table>\n",
       "<p>5 rows × 53 columns</p>\n",
       "</div>"
      ],
      "text/plain": [
       "                 date  rougher.input.feed_au  rougher.input.feed_ag  \\\n",
       "0 2017-12-09 14:59:59               4.365491               6.158718   \n",
       "1 2017-12-09 15:59:59               4.362781               6.048130   \n",
       "2 2017-12-09 16:59:59               5.081681               6.082745   \n",
       "3 2017-12-09 17:59:59               5.145949               6.084374   \n",
       "4 2017-12-09 18:59:59               5.735249               6.165220   \n",
       "\n",
       "   rougher.input.feed_pb  rougher.input.feed_sol  rougher.input.feed_rate  \\\n",
       "0               3.875727               39.135119               555.820208   \n",
       "1               3.902537               39.713906               544.731687   \n",
       "2               4.564078               37.208683               558.155110   \n",
       "3               4.768124               36.808874               539.713765   \n",
       "4               4.512346               37.810642               558.713584   \n",
       "\n",
       "   rougher.input.feed_size  rougher.input.floatbank10_sulfate  \\\n",
       "0                94.544358                           6.146982   \n",
       "1               123.742430                           6.210119   \n",
       "2                82.610855                           7.363824   \n",
       "3                77.984784                           6.927072   \n",
       "4                86.434874                           7.823471   \n",
       "\n",
       "   rougher.input.floatbank10_xanthate  rougher.state.floatbank10_a_air  ...  \\\n",
       "0                            9.308612                      1196.238112  ...   \n",
       "1                            9.297709                      1201.904177  ...   \n",
       "2                            9.003562                      1200.826926  ...   \n",
       "3                            8.955597                      1199.292489  ...   \n",
       "4                            7.490356                      1198.005449  ...   \n",
       "\n",
       "   secondary_cleaner.state.floatbank4_a_air  \\\n",
       "0                                 23.018622   \n",
       "1                                 23.024963   \n",
       "2                                 22.993827   \n",
       "3                                 23.032807   \n",
       "4                                 23.001911   \n",
       "\n",
       "   secondary_cleaner.state.floatbank4_a_level  \\\n",
       "0                                 -500.492702   \n",
       "1                                 -501.153409   \n",
       "2                                 -501.559663   \n",
       "3                                 -501.287889   \n",
       "4                                 -499.947838   \n",
       "\n",
       "   secondary_cleaner.state.floatbank4_b_air  \\\n",
       "0                                 20.020205   \n",
       "1                                 20.054122   \n",
       "2                                 20.029144   \n",
       "3                                 19.977466   \n",
       "4                                 20.023735   \n",
       "\n",
       "   secondary_cleaner.state.floatbank4_b_level  \\\n",
       "0                                 -500.220296   \n",
       "1                                 -500.314711   \n",
       "2                                 -500.000662   \n",
       "3                                 -500.159903   \n",
       "4                                 -499.713680   \n",
       "\n",
       "   secondary_cleaner.state.floatbank5_a_air  \\\n",
       "0                                 17.963512   \n",
       "1                                 17.979515   \n",
       "2                                 18.012723   \n",
       "3                                 17.980463   \n",
       "4                                 17.990955   \n",
       "\n",
       "   secondary_cleaner.state.floatbank5_a_level  \\\n",
       "0                                 -499.939490   \n",
       "1                                 -499.272871   \n",
       "2                                 -500.024764   \n",
       "3                                 -500.504602   \n",
       "4                                 -500.334769   \n",
       "\n",
       "   secondary_cleaner.state.floatbank5_b_air  \\\n",
       "0                                 12.990306   \n",
       "1                                 12.992404   \n",
       "2                                 13.016445   \n",
       "3                                 12.949071   \n",
       "4                                 13.007523   \n",
       "\n",
       "   secondary_cleaner.state.floatbank5_b_level  \\\n",
       "0                                 -500.080993   \n",
       "1                                 -499.976268   \n",
       "2                                 -500.058432   \n",
       "3                                 -500.009937   \n",
       "4                                 -499.968459   \n",
       "\n",
       "   secondary_cleaner.state.floatbank6_a_air  \\\n",
       "0                                 19.990336   \n",
       "1                                 20.013986   \n",
       "2                                 19.973767   \n",
       "3                                 20.010332   \n",
       "4                                 19.995999   \n",
       "\n",
       "   secondary_cleaner.state.floatbank6_a_level  \n",
       "0                                 -499.191575  \n",
       "1                                 -500.625471  \n",
       "2                                 -501.394155  \n",
       "3                                 -508.337973  \n",
       "4                                 -499.788805  \n",
       "\n",
       "[5 rows x 53 columns]"
      ]
     },
     "execution_count": 14,
     "metadata": {},
     "output_type": "execute_result"
    }
   ],
   "source": [
    "df_test.head()"
   ]
  },
  {
   "cell_type": "markdown",
   "metadata": {},
   "source": [
    "Так как нам надо обучать только на входных даанных сделаем список с входными признаками"
   ]
  },
  {
   "cell_type": "code",
   "execution_count": 15,
   "metadata": {},
   "outputs": [],
   "source": [
    "features_inp = list(df_train.columns)"
   ]
  },
  {
   "cell_type": "code",
   "execution_count": 16,
   "metadata": {},
   "outputs": [],
   "source": [
    "# df_test = df_test[['date','rougher.input.feed_au']]\n",
    "# df_test.columns=['date','buf']\n",
    "# df_test = df_test.merge(df_full,on='date',how='left')\n"
   ]
  },
  {
   "cell_type": "code",
   "execution_count": 17,
   "metadata": {},
   "outputs": [],
   "source": [
    "# df_test = df_test.drop('buf',axis=1)\n",
    "# print(df_train.shape)\n",
    "# df_test.shape"
   ]
  },
  {
   "cell_type": "code",
   "execution_count": 18,
   "metadata": {},
   "outputs": [],
   "source": [
    "df_targets = df_full[['date','rougher.output.recovery','final.output.recovery']]\n",
    "df_test = df_test.merge(df_targets,on='date',how='left')\n",
    "NUMERIC_COLUMNS = list(df_test.columns[1:])"
   ]
  },
  {
   "cell_type": "markdown",
   "metadata": {},
   "source": [
    "### Замена пропусков(неудачная)"
   ]
  },
  {
   "cell_type": "code",
   "execution_count": 19,
   "metadata": {},
   "outputs": [
    {
     "name": "stdout",
     "output_type": "stream",
     "text": [
      "(19439, 87)\n"
     ]
    },
    {
     "data": {
      "text/plain": [
       "1748"
      ]
     },
     "execution_count": 19,
     "metadata": {},
     "output_type": "execute_result"
    }
   ],
   "source": [
    "print(df_full.shape)\n",
    "df_full.isna().sum().max()"
   ]
  },
  {
   "cell_type": "markdown",
   "metadata": {},
   "source": [
    "как видим, примерно в 10% данных есть как минимум один пропуск в одном и том же столбце. поэтому удалять удалять строки с пропусками не самая лучшая идея. Постараемся заменить данные на медианы по дню, так как по условию эксперименты, которые проводились рядом по времени."
   ]
  },
  {
   "cell_type": "markdown",
   "metadata": {},
   "source": [
    "Начнем процесс замены"
   ]
  },
  {
   "cell_type": "code",
   "execution_count": 20,
   "metadata": {},
   "outputs": [],
   "source": [
    "# df_exps.pivot_table(index='year_month',values=['rougher.input.feed_au','final.output.concentrate_ag'], aggfunc='median')"
   ]
  },
  {
   "cell_type": "code",
   "execution_count": 21,
   "metadata": {},
   "outputs": [],
   "source": [
    "# df_full.head(10)"
   ]
  },
  {
   "cell_type": "code",
   "execution_count": 22,
   "metadata": {},
   "outputs": [],
   "source": [
    "# def fillna_with_median(df, col):\n",
    "#     '''\n",
    "#     функция берет медиану, для конкретной даты, и заменяет пропуск на эту медиану\n",
    "#     '''\n",
    "#     df[\"year_month_day\"] = df[\"date\"].dt.to_period(\"D\")\n",
    "#     df_medians = df.pivot_table(index='year_month_day', values=col,aggfunc='median')\n",
    "# #     print(df_medians)\n",
    "    \n",
    "#     nans = []\n",
    "#     nans = df.loc[df[col].isna(), 'date']\n",
    "# #     \n",
    "#     for nan in nans:\n",
    "# #         print('debug', list(df.loc[df['date']==nan,'date'].dt.to_period(\"D\"))[0])\n",
    "# #         print()\n",
    "#         df.loc[df['date']==nan,col] = df_medians.loc[\n",
    "#             list(df.loc[df['date']==nan,'date'].dt.to_period(\"D\"))[0],col]\n",
    "    \n",
    "#     df = df.drop('year_month_day',axis=1)\n",
    "# #     print(df[col])\n",
    "#     return df[col]\n",
    "    \n",
    "# #     df.loc[df[col].isna(), col] = df.loc[df['year_month'], col]\n",
    "\n"
   ]
  },
  {
   "cell_type": "code",
   "execution_count": 23,
   "metadata": {},
   "outputs": [],
   "source": [
    "# # эксперимент\n",
    "# data_e = pd.DataFrame(\n",
    "#             {'date':['2016-01-15 00:00:00','2016-01-16 00:00:01','2016-01-16 00:00:02','2016-01-15 00:00:04','2016-01-15 00:00:05','2016-01-15 00:00:06','2016-01-15 00:00:07'],\n",
    "#             'col2':[1,None,4,4,100,100,4],\n",
    "#             'col3':[1,3,3,2,None,100,4],\n",
    "#             'col4':[1,None,4,4,None,None,4],\n",
    "#             'col5':[2,2,2,3,4,None,None]})\n",
    "\n",
    "# data_e['date'] = data_e['date'].astype(\"datetime64[ns]\")\n",
    "\n",
    "\n",
    "\n",
    "\n",
    "# print('до функции')\n",
    "# display(data_e)\n",
    "\n",
    "\n",
    "# df_cols = list(data_e.columns[1:])\n",
    "# print(df_cols)\n",
    "\n",
    "# for col in df_cols:\n",
    "#     data_e[col] = fillna_with_median(data_e,col)\n",
    "    \n",
    "    \n",
    "# data_e = data_e.drop('year_month_day',axis=1)\n",
    "# print('после функции')\n",
    "# display(data_e)\n",
    "# # конец эксперимента\n"
   ]
  },
  {
   "cell_type": "code",
   "execution_count": 24,
   "metadata": {},
   "outputs": [],
   "source": [
    "# df_train_na = df_train\n",
    "# df_test_na = df_test\n",
    "# df_full_na = df_full"
   ]
  },
  {
   "cell_type": "markdown",
   "metadata": {},
   "source": [
    "Уберем пропуски, заменив их на медианы по дням"
   ]
  },
  {
   "cell_type": "code",
   "execution_count": 25,
   "metadata": {},
   "outputs": [],
   "source": [
    "# cols_train = list(df_train.columns[1:])\n",
    "\n",
    "# for col in cols_train:\n",
    "#     df_train[col] = fillna_with_median(df_train, col)\n",
    "    \n",
    "# df_train = df_train.drop('year_month_day',axis=1)\n",
    "# df_train.isna().sum().sum()"
   ]
  },
  {
   "cell_type": "code",
   "execution_count": 26,
   "metadata": {},
   "outputs": [],
   "source": [
    "# df_train.loc['2016-05-29' in df_train['date'],'date']"
   ]
  },
  {
   "cell_type": "markdown",
   "metadata": {},
   "source": [
    "Попытка сделать все красиво не удалась. Выдаются странные ошибки, которые исправлять сил уже нет, поэтому сделаю просто замену на медиану, потому что судя по гистограммам значения в экспериментах среди одной колонки не так сильно скачут."
   ]
  },
  {
   "cell_type": "code",
   "execution_count": 27,
   "metadata": {},
   "outputs": [],
   "source": [
    "# cols = list(df_train.columns[1:])\n",
    "\n",
    "# for col in cols:\n",
    "#     df_train[col] = df_train[col].fillna(df_train[col].median())\n",
    "    \n",
    "# df_train.shape  "
   ]
  },
  {
   "cell_type": "code",
   "execution_count": 28,
   "metadata": {},
   "outputs": [],
   "source": [
    "# cols = list(df_test.columns[1:])\n",
    "\n",
    "# for col in cols:\n",
    "#     df_test[col] = df_test[col].fillna(df_test[col].median())\n",
    "    \n",
    "# df_test.shape"
   ]
  },
  {
   "cell_type": "code",
   "execution_count": 29,
   "metadata": {},
   "outputs": [],
   "source": [
    "# cols = list(df_full.columns[1:])\n",
    "\n",
    "# for col in cols:\n",
    "#     df_full[col] = df_full[col].fillna(df_full[col].median())\n",
    "\n",
    "# df_full.isna().sum().sum()"
   ]
  },
  {
   "cell_type": "markdown",
   "metadata": {},
   "source": [
    "**Поэкспериметируем с меетодом fillna**"
   ]
  },
  {
   "cell_type": "code",
   "execution_count": 30,
   "metadata": {
    "scrolled": false
   },
   "outputs": [
    {
     "data": {
      "image/png": "[encoded data removed]",
      "text/plain": [
       "<Figure size 432x288 with 1 Axes>"
      ]
     },
     "metadata": {
      "needs_background": "light"
     },
     "output_type": "display_data"
    }
   ],
   "source": [
    "df_exp = df_train.copy()\n",
    "df_exp.loc[:1000,'rougher.input.feed_pb'].plot(kind='hist');"
   ]
  },
  {
   "cell_type": "code",
   "execution_count": 31,
   "metadata": {},
   "outputs": [
    {
     "data": {
      "text/plain": [
       "3050"
      ]
     },
     "execution_count": 31,
     "metadata": {},
     "output_type": "execute_result"
    }
   ],
   "source": [
    "df_exp.isna().sum().sum()"
   ]
  },
  {
   "cell_type": "code",
   "execution_count": 32,
   "metadata": {},
   "outputs": [
    {
     "data": {
      "image/png": "[encoded data removed]",
      "text/plain": [
       "<Figure size 432x288 with 1 Axes>"
      ]
     },
     "metadata": {
      "needs_background": "light"
     },
     "output_type": "display_data"
    }
   ],
   "source": [
    "df_exp = df_exp.fillna(method='ffill')\n",
    "df_exp.loc[:1000,'rougher.input.feed_pb'].plot(kind='hist');"
   ]
  },
  {
   "cell_type": "code",
   "execution_count": 33,
   "metadata": {},
   "outputs": [
    {
     "data": {
      "text/plain": [
       "0"
      ]
     },
     "execution_count": 33,
     "metadata": {},
     "output_type": "execute_result"
    }
   ],
   "source": [
    "df_exp.isna().sum().sum()"
   ]
  },
  {
   "cell_type": "markdown",
   "metadata": {},
   "source": [
    "**закончим эксперимменты и перейдем к заполнению пропусков**"
   ]
  },
  {
   "cell_type": "code",
   "execution_count": 34,
   "metadata": {},
   "outputs": [],
   "source": [
    "df_train=df_train.fillna(method='ffill')\n",
    "df_test=df_test.fillna(method='ffill')\n",
    "df_full=df_full.fillna(method='ffill')"
   ]
  },
  {
   "cell_type": "code",
   "execution_count": 35,
   "metadata": {},
   "outputs": [
    {
     "name": "stdout",
     "output_type": "stream",
     "text": [
      "0\n",
      "0\n"
     ]
    },
    {
     "data": {
      "text/plain": [
       "0"
      ]
     },
     "execution_count": 35,
     "metadata": {},
     "output_type": "execute_result"
    }
   ],
   "source": [
    "print(df_train.isna().sum().sum())\n",
    "print(df_test.isna().sum().sum())\n",
    "df_full.isna().sum().sum()"
   ]
  },
  {
   "cell_type": "markdown",
   "metadata": {},
   "source": [
    "Отлично, от пропусков избавились заменой пропуска на значение которое следует за ним, так как из условия следует, что соседние значения схожи"
   ]
  },
  {
   "cell_type": "markdown",
   "metadata": {},
   "source": [
    "Отлично, от пропусков избавились!"
   ]
  },
  {
   "cell_type": "markdown",
   "metadata": {},
   "source": [
    "### проверим на явные дубликаты"
   ]
  },
  {
   "cell_type": "code",
   "execution_count": 36,
   "metadata": {},
   "outputs": [
    {
     "data": {
      "text/plain": [
       "0"
      ]
     },
     "execution_count": 36,
     "metadata": {},
     "output_type": "execute_result"
    }
   ],
   "source": [
    "df_full.duplicated().sum()"
   ]
  },
  {
   "cell_type": "markdown",
   "metadata": {},
   "source": [
    "явных дубликатов не обнаружено, а и неявных скорее всего тоже не должно быть."
   ]
  },
  {
   "cell_type": "markdown",
   "metadata": {},
   "source": [
    "### Избавимся от аномалий"
   ]
  },
  {
   "cell_type": "code",
   "execution_count": 37,
   "metadata": {},
   "outputs": [],
   "source": [
    "# numeric = df_train.columns[1:]"
   ]
  },
  {
   "cell_type": "code",
   "execution_count": 38,
   "metadata": {},
   "outputs": [],
   "source": [
    "# df_train[numeric]"
   ]
  },
  {
   "cell_type": "code",
   "execution_count": 39,
   "metadata": {},
   "outputs": [],
   "source": [
    "# df_train[df_train['rougher.input.feed_rate']<203]"
   ]
  },
  {
   "cell_type": "code",
   "execution_count": 40,
   "metadata": {},
   "outputs": [],
   "source": [
    "# print(df_train.shape)\n",
    "# df_train[numeric[:5]].plot(kind='box')"
   ]
  },
  {
   "cell_type": "code",
   "execution_count": 41,
   "metadata": {},
   "outputs": [],
   "source": [
    "# Q1 = df_train.quantile(q=.25)\n",
    "# Q3 = df_train.quantile(q=.75)\n",
    "# IQR = Q3-Q1\n",
    "\n",
    "# numeric = df_train.columns[1:]\n",
    "\n",
    "# # df_train[numeric].loc[(df_train[numeric] <(Q1-1.5*IQR))|(df_train[numeric] > (Q3+1.5*IQR)).any(axis=1)] = None\n"
   ]
  },
  {
   "cell_type": "code",
   "execution_count": 42,
   "metadata": {},
   "outputs": [],
   "source": [
    "# print('Q1')\n",
    "# print(Q1)\n",
    "# print()\n",
    "# print('Q3')\n",
    "# print(Q3)"
   ]
  },
  {
   "cell_type": "markdown",
   "metadata": {},
   "source": [
    "Беда, юпитер говорит, что ядро умерло, при попытке запустить код выше):\n",
    "    \n",
    "   Попытки избавиться от выбросов продолжу в изменении концентрации металлов"
   ]
  },
  {
   "cell_type": "code",
   "execution_count": 43,
   "metadata": {},
   "outputs": [],
   "source": [
    "# df_train.isna().sum()"
   ]
  },
  {
   "cell_type": "code",
   "execution_count": 44,
   "metadata": {
    "scrolled": true
   },
   "outputs": [],
   "source": [
    "# df_train[df_train['rougher.input.feed_au'].isna()].head(20)"
   ]
  },
  {
   "cell_type": "code",
   "execution_count": 45,
   "metadata": {},
   "outputs": [],
   "source": [
    "# print(Q1)\n",
    "# print(Q1-1.5*IQR)"
   ]
  },
  {
   "cell_type": "code",
   "execution_count": 46,
   "metadata": {},
   "outputs": [],
   "source": [
    "# print(df_train.shape)\n",
    "# df_train[numeric[:5]].plot(kind='box')"
   ]
  },
  {
   "cell_type": "markdown",
   "metadata": {},
   "source": [
    "### Итого"
   ]
  },
  {
   "cell_type": "markdown",
   "metadata": {},
   "source": [
    "Данные подгтовили, проверили, чтобы не было явных дубликатов. Проверили на наличие пропусков и заменили их на медианы столбцов. "
   ]
  },
  {
   "cell_type": "markdown",
   "metadata": {},
   "source": [
    "## Анализ данных"
   ]
  },
  {
   "cell_type": "markdown",
   "metadata": {},
   "source": [
    "- Посмотрите, как меняется концентрация металлов (Au, Ag, Pb) на различных этапах: в сырье, в черновом концентрате, в концентрате после первой очистки и в финальном концентрате. Какие особенности имеют распределения? Опишите выводы.\n",
    "- Сравните распределения размеров гранул исходного сырья на обучающей и тестовой выборках. Если распределения сильно отличаются друг от друга, оценка модели будет неправильной.\n",
    "- Исследуйте суммарную концентрацию металлов на разных стадиях: в сырье, в черновом концентрате, в концентрате после первой очистки и в финальном концентрате."
   ]
  },
  {
   "cell_type": "markdown",
   "metadata": {},
   "source": [
    "### Изменение концентрации металлов"
   ]
  },
  {
   "cell_type": "code",
   "execution_count": 47,
   "metadata": {
    "scrolled": true
   },
   "outputs": [
    {
     "data": {
      "text/plain": [
       "Index(['date', 'rougher.input.feed_au', 'rougher.input.feed_ag',\n",
       "       'rougher.input.feed_pb', 'rougher.input.feed_sol',\n",
       "       'rougher.input.feed_rate', 'rougher.input.feed_size',\n",
       "       'rougher.input.floatbank10_sulfate',\n",
       "       'rougher.input.floatbank10_xanthate', 'rougher.state.floatbank10_a_air',\n",
       "       'rougher.state.floatbank10_a_level', 'rougher.state.floatbank10_b_air',\n",
       "       'rougher.state.floatbank10_b_level', 'rougher.state.floatbank10_c_air',\n",
       "       'rougher.state.floatbank10_c_level', 'rougher.state.floatbank10_d_air',\n",
       "       'rougher.state.floatbank10_d_level', 'rougher.state.floatbank10_e_air',\n",
       "       'rougher.state.floatbank10_e_level', 'rougher.state.floatbank10_f_air',\n",
       "       'rougher.state.floatbank10_f_level',\n",
       "       'rougher.input.floatbank11_sulfate',\n",
       "       'rougher.input.floatbank11_xanthate',\n",
       "       'rougher.calculation.sulfate_to_au_concentrate',\n",
       "       'rougher.calculation.floatbank10_sulfate_to_au_feed',\n",
       "       'rougher.calculation.floatbank11_sulfate_to_au_feed',\n",
       "       'rougher.calculation.au_pb_ratio', 'rougher.output.concentrate_au',\n",
       "       'rougher.output.concentrate_ag', 'rougher.output.concentrate_pb',\n",
       "       'rougher.output.concentrate_sol', 'rougher.output.recovery',\n",
       "       'rougher.output.tail_au', 'rougher.output.tail_ag',\n",
       "       'rougher.output.tail_pb', 'rougher.output.tail_sol',\n",
       "       'primary_cleaner.input.sulfate', 'primary_cleaner.input.depressant',\n",
       "       'primary_cleaner.input.feed_size', 'primary_cleaner.input.xanthate',\n",
       "       'primary_cleaner.state.floatbank8_a_air',\n",
       "       'primary_cleaner.state.floatbank8_a_level',\n",
       "       'primary_cleaner.state.floatbank8_b_air',\n",
       "       'primary_cleaner.state.floatbank8_b_level',\n",
       "       'primary_cleaner.state.floatbank8_c_air',\n",
       "       'primary_cleaner.state.floatbank8_c_level',\n",
       "       'primary_cleaner.state.floatbank8_d_air',\n",
       "       'primary_cleaner.state.floatbank8_d_level',\n",
       "       'primary_cleaner.output.concentrate_au',\n",
       "       'primary_cleaner.output.concentrate_ag',\n",
       "       'primary_cleaner.output.concentrate_pb',\n",
       "       'primary_cleaner.output.concentrate_sol',\n",
       "       'primary_cleaner.output.tail_au', 'primary_cleaner.output.tail_ag',\n",
       "       'primary_cleaner.output.tail_pb', 'primary_cleaner.output.tail_sol',\n",
       "       'secondary_cleaner.state.floatbank2_a_air',\n",
       "       'secondary_cleaner.state.floatbank2_a_level',\n",
       "       'secondary_cleaner.state.floatbank2_b_air',\n",
       "       'secondary_cleaner.state.floatbank2_b_level',\n",
       "       'secondary_cleaner.state.floatbank3_a_air',\n",
       "       'secondary_cleaner.state.floatbank3_a_level',\n",
       "       'secondary_cleaner.state.floatbank3_b_air',\n",
       "       'secondary_cleaner.state.floatbank3_b_level',\n",
       "       'secondary_cleaner.state.floatbank4_a_air',\n",
       "       'secondary_cleaner.state.floatbank4_a_level',\n",
       "       'secondary_cleaner.state.floatbank4_b_air',\n",
       "       'secondary_cleaner.state.floatbank4_b_level',\n",
       "       'secondary_cleaner.state.floatbank5_a_air',\n",
       "       'secondary_cleaner.state.floatbank5_a_level',\n",
       "       'secondary_cleaner.state.floatbank5_b_air',\n",
       "       'secondary_cleaner.state.floatbank5_b_level',\n",
       "       'secondary_cleaner.state.floatbank6_a_air',\n",
       "       'secondary_cleaner.state.floatbank6_a_level',\n",
       "       'secondary_cleaner.output.tail_au', 'secondary_cleaner.output.tail_ag',\n",
       "       'secondary_cleaner.output.tail_pb', 'secondary_cleaner.output.tail_sol',\n",
       "       'final.output.concentrate_au', 'final.output.concentrate_ag',\n",
       "       'final.output.concentrate_pb', 'final.output.concentrate_sol',\n",
       "       'final.output.recovery', 'final.output.tail_au', 'final.output.tail_ag',\n",
       "       'final.output.tail_pb', 'final.output.tail_sol'],\n",
       "      dtype='object')"
      ]
     },
     "execution_count": 47,
     "metadata": {},
     "output_type": "execute_result"
    }
   ],
   "source": [
    "df_train.columns"
   ]
  },
  {
   "cell_type": "markdown",
   "metadata": {},
   "source": [
    "нам надо посмотреть как меняется концентрация трех металлов на обучающей и тестовой выборке в сырье, в черновом концентрате , в концентрате после первой очистки и в финальном концентрате. Для этого надо сделать 24 графика\n",
    "\n",
    "сырье `rougher.input.feed_au`, `rougher.input.feed_ag`, `rougher.input.feed_pb`\n",
    "\n",
    "черновой `rougher.output.concentrate_au`, `rougher.output.concentrate_ag`, `rougher.output.concentrate_pb`\n",
    "\n",
    "первая очистка `primary_cleaner.output.concentrate_au`, `primary_cleaner.output.concentrate_ag`, `primary_cleaner.output.concentrate_pb`\n",
    "\n",
    "финал `final.output.concentrate_au`, `final.output.concentrate_ag`, `final.output.concentrate_pb`"
   ]
  },
  {
   "cell_type": "code",
   "execution_count": 48,
   "metadata": {
    "scrolled": true
   },
   "outputs": [
    {
     "data": {
      "text/plain": [
       "Index(['date', 'rougher.input.feed_au', 'rougher.input.feed_ag',\n",
       "       'rougher.input.feed_pb', 'rougher.input.feed_sol',\n",
       "       'rougher.input.feed_rate', 'rougher.input.feed_size',\n",
       "       'rougher.input.floatbank10_sulfate',\n",
       "       'rougher.input.floatbank10_xanthate', 'rougher.state.floatbank10_a_air',\n",
       "       'rougher.state.floatbank10_a_level', 'rougher.state.floatbank10_b_air',\n",
       "       'rougher.state.floatbank10_b_level', 'rougher.state.floatbank10_c_air',\n",
       "       'rougher.state.floatbank10_c_level', 'rougher.state.floatbank10_d_air',\n",
       "       'rougher.state.floatbank10_d_level', 'rougher.state.floatbank10_e_air',\n",
       "       'rougher.state.floatbank10_e_level', 'rougher.state.floatbank10_f_air',\n",
       "       'rougher.state.floatbank10_f_level',\n",
       "       'rougher.input.floatbank11_sulfate',\n",
       "       'rougher.input.floatbank11_xanthate',\n",
       "       'rougher.calculation.sulfate_to_au_concentrate',\n",
       "       'rougher.calculation.floatbank10_sulfate_to_au_feed',\n",
       "       'rougher.calculation.floatbank11_sulfate_to_au_feed',\n",
       "       'rougher.calculation.au_pb_ratio', 'rougher.output.concentrate_au',\n",
       "       'rougher.output.concentrate_ag', 'rougher.output.concentrate_pb',\n",
       "       'rougher.output.concentrate_sol', 'rougher.output.recovery',\n",
       "       'rougher.output.tail_au', 'rougher.output.tail_ag',\n",
       "       'rougher.output.tail_pb', 'rougher.output.tail_sol',\n",
       "       'primary_cleaner.input.sulfate', 'primary_cleaner.input.depressant',\n",
       "       'primary_cleaner.input.feed_size', 'primary_cleaner.input.xanthate',\n",
       "       'primary_cleaner.state.floatbank8_a_air',\n",
       "       'primary_cleaner.state.floatbank8_a_level',\n",
       "       'primary_cleaner.state.floatbank8_b_air',\n",
       "       'primary_cleaner.state.floatbank8_b_level',\n",
       "       'primary_cleaner.state.floatbank8_c_air',\n",
       "       'primary_cleaner.state.floatbank8_c_level',\n",
       "       'primary_cleaner.state.floatbank8_d_air',\n",
       "       'primary_cleaner.state.floatbank8_d_level',\n",
       "       'primary_cleaner.output.concentrate_au',\n",
       "       'primary_cleaner.output.concentrate_ag',\n",
       "       'primary_cleaner.output.concentrate_pb',\n",
       "       'primary_cleaner.output.concentrate_sol',\n",
       "       'primary_cleaner.output.tail_au', 'primary_cleaner.output.tail_ag',\n",
       "       'primary_cleaner.output.tail_pb', 'primary_cleaner.output.tail_sol',\n",
       "       'secondary_cleaner.state.floatbank2_a_air',\n",
       "       'secondary_cleaner.state.floatbank2_a_level',\n",
       "       'secondary_cleaner.state.floatbank2_b_air',\n",
       "       'secondary_cleaner.state.floatbank2_b_level',\n",
       "       'secondary_cleaner.state.floatbank3_a_air',\n",
       "       'secondary_cleaner.state.floatbank3_a_level',\n",
       "       'secondary_cleaner.state.floatbank3_b_air',\n",
       "       'secondary_cleaner.state.floatbank3_b_level',\n",
       "       'secondary_cleaner.state.floatbank4_a_air',\n",
       "       'secondary_cleaner.state.floatbank4_a_level',\n",
       "       'secondary_cleaner.state.floatbank4_b_air',\n",
       "       'secondary_cleaner.state.floatbank4_b_level',\n",
       "       'secondary_cleaner.state.floatbank5_a_air',\n",
       "       'secondary_cleaner.state.floatbank5_a_level',\n",
       "       'secondary_cleaner.state.floatbank5_b_air',\n",
       "       'secondary_cleaner.state.floatbank5_b_level',\n",
       "       'secondary_cleaner.state.floatbank6_a_air',\n",
       "       'secondary_cleaner.state.floatbank6_a_level',\n",
       "       'secondary_cleaner.output.tail_au', 'secondary_cleaner.output.tail_ag',\n",
       "       'secondary_cleaner.output.tail_pb', 'secondary_cleaner.output.tail_sol',\n",
       "       'final.output.concentrate_au', 'final.output.concentrate_ag',\n",
       "       'final.output.concentrate_pb', 'final.output.concentrate_sol',\n",
       "       'final.output.recovery', 'final.output.tail_au', 'final.output.tail_ag',\n",
       "       'final.output.tail_pb', 'final.output.tail_sol'],\n",
       "      dtype='object')"
      ]
     },
     "execution_count": 48,
     "metadata": {},
     "output_type": "execute_result"
    }
   ],
   "source": [
    "df_full.columns"
   ]
  },
  {
   "cell_type": "code",
   "execution_count": 49,
   "metadata": {},
   "outputs": [],
   "source": [
    "ro_inp = ['rougher.input.feed_au', 'rougher.input.feed_ag','rougher.input.feed_pb']\n",
    "ro_out = ['rougher.output.concentrate_au', 'rougher.output.concentrate_ag', 'rougher.output.concentrate_pb']\n",
    "pr_out = ['primary_cleaner.output.concentrate_au', 'primary_cleaner.output.concentrate_ag', 'primary_cleaner.output.concentrate_pb']\n",
    "final = ['final.output.concentrate_au', 'final.output.concentrate_ag', 'final.output.concentrate_pb' ]\n",
    "stages = [ro_inp, ro_out, pr_out, final]\n",
    "\n",
    "au = ['rougher.input.feed_au','rougher.output.concentrate_au','primary_cleaner.output.concentrate_au','final.output.concentrate_au']\n",
    "ag = ['rougher.input.feed_ag','rougher.output.concentrate_ag','primary_cleaner.output.concentrate_ag','final.output.concentrate_ag']\n",
    "pb = ['rougher.input.feed_pb','rougher.output.concentrate_pb','primary_cleaner.output.concentrate_pb','final.output.concentrate_pb']\n",
    "\n",
    "metals = [au,ag,pb]"
   ]
  },
  {
   "cell_type": "code",
   "execution_count": 50,
   "metadata": {
    "scrolled": true
   },
   "outputs": [
    {
     "data": {
      "image/png": "[encoded data removed]",
      "text/plain": [
       "<Figure size 720x720 with 4 Axes>"
      ]
     },
     "metadata": {
      "needs_background": "light"
     },
     "output_type": "display_data"
    },
    {
     "data": {
      "image/png": "[encoded data removed]",
      "text/plain": [
       "<Figure size 720x720 with 4 Axes>"
      ]
     },
     "metadata": {
      "needs_background": "light"
     },
     "output_type": "display_data"
    },
    {
     "data": {
      "image/png": "[encoded data removed]",
      "text/plain": [
       "<Figure size 720x720 with 4 Axes>"
      ]
     },
     "metadata": {
      "needs_background": "light"
     },
     "output_type": "display_data"
    }
   ],
   "source": [
    "for metal in metals:\n",
    "    i = 1\n",
    "    plt.figure(figsize=(10,10))\n",
    "    for stage in metal:\n",
    "        res_spl = stage.split('.')\n",
    "#         print(res_spl[2][-2:])\n",
    "        plt.subplot(2,2,i)\n",
    "        plt.subplots_adjust(wspace=0.5, hspace=0.5)\n",
    "        \n",
    "        plt.xlabel(xlabel=res_spl[2][-2:]+' amount')\n",
    "        df_train[stage].plot(kind='hist',\n",
    "                           grid=True,\n",
    "                           title='train '+res_spl[0][:2]+' '+res_spl[1][:2]+' '+res_spl[2][-2:],\n",
    "                           bins=30\n",
    "                           )\n",
    "        i+=1\n",
    "        \n",
    "        \n",
    "#         plt.subplot(3,2,i+1)\n",
    "#         df_test[res].plot(kind='hist',grid=True,title='test '+res_spl[0][:2]+' '+res_spl[1][:2]+' '+res_spl[2][-2:])\n",
    "        "
   ]
  },
  {
   "cell_type": "code",
   "execution_count": 51,
   "metadata": {},
   "outputs": [],
   "source": [
    "df_train = df_train[df_train['rougher.input.feed_au']>3.5]\n",
    "df_train = df_train[df_train['rougher.output.concentrate_au']>12.5]\n",
    "df_train = df_train[df_train['primary_cleaner.output.concentrate_au']>23]\n",
    "df_train = df_train[df_train['final.output.concentrate_au']>34]\n",
    "\n",
    "df_train = df_train[df_train['rougher.input.feed_ag']>5]\n",
    "df_train = df_train[df_train['rougher.output.concentrate_ag']>7]\n",
    "df_train = df_train[df_train['primary_cleaner.output.concentrate_ag']>4.5]\n",
    "df_train = df_train[df_train['final.output.concentrate_ag']>2]\n",
    "\n",
    "df_train = df_train[df_train['rougher.input.feed_pb']>1.5]\n",
    "df_train = df_train[df_train['rougher.output.concentrate_pb']>3]\n",
    "df_train = df_train[df_train['primary_cleaner.output.concentrate_pb']>3]\n",
    "df_train = df_train[df_train['final.output.concentrate_pb']>5]"
   ]
  },
  {
   "cell_type": "code",
   "execution_count": 52,
   "metadata": {
    "scrolled": false
   },
   "outputs": [
    {
     "data": {
      "image/png": "[encoded data removed]",
      "text/plain": [
       "<Figure size 720x720 with 1 Axes>"
      ]
     },
     "metadata": {
      "needs_background": "light"
     },
     "output_type": "display_data"
    },
    {
     "data": {
      "image/png": "[encoded data removed]",
      "text/plain": [
       "<Figure size 720x720 with 1 Axes>"
      ]
     },
     "metadata": {
      "needs_background": "light"
     },
     "output_type": "display_data"
    },
    {
     "data": {
      "image/png": "[encoded data removed]",
      "text/plain": [
       "<Figure size 720x720 with 1 Axes>"
      ]
     },
     "metadata": {
      "needs_background": "light"
     },
     "output_type": "display_data"
    }
   ],
   "source": [
    "for metal in metals:\n",
    "    i = 1\n",
    "    plt.figure(figsize=(10,10))\n",
    "    for stage in metal:\n",
    "        res_spl = stage.split('.')\n",
    "        sns.kdeplot(data=df_train, x = stage, fill=True, common_norm=False, palette=\"crest\",\n",
    "                       alpha=.35, linewidth=0,label='Этап '+res_spl[0]+' '+res_spl[1])\n",
    "        \n",
    "#         df_train[stage].plot(kind='hist',\n",
    "#                            grid=True,\n",
    "#                            title='train '+res_spl[0][:2]+' '+res_spl[1][:2]+' '+res_spl[2][-2:],\n",
    "#                            bins=30\n",
    "#                            )\n",
    "        i+=1\n",
    "    plt.xlabel('Содержание металла '+metal[0][-2:])\n",
    "    plt.title(metal[0][-2:])\n",
    "    plt.legend()\n",
    "    plt.show()\n",
    "        \n",
    "        \n",
    "        \n"
   ]
  },
  {
   "cell_type": "markdown",
   "metadata": {},
   "source": [
    "**Вывод**"
   ]
  },
  {
   "cell_type": "markdown",
   "metadata": {},
   "source": [
    "По графикам видно, что концентрация AU(золото) с каждым этапом увеличивается.\n",
    "\n",
    "у AG(серебро) концентрация сначала немножко повышается, а потом становится меньше, чем было сначала.\n",
    "\n",
    "у PB(свинец) концентрация увеличивается, но остается на значении примерно 10%, что незначительно по сравнению с золотом."
   ]
  },
  {
   "cell_type": "markdown",
   "metadata": {},
   "source": [
    "### Сравните распределения размеров гранул исходного сырья на обучающей и тестовой выборках."
   ]
  },
  {
   "cell_type": "markdown",
   "metadata": {},
   "source": [
    "Нам необходимо провести сравнение размера гранул сырья на тестовой и обучающей выборке,для этого надо сравнить `rougher.input.feed_size` на тестовой и обучающей выборках"
   ]
  },
  {
   "cell_type": "code",
   "execution_count": 53,
   "metadata": {},
   "outputs": [
    {
     "data": {
      "image/png": "[encoded data removed]",
      "text/plain": [
       "<Figure size 720x720 with 1 Axes>"
      ]
     },
     "metadata": {
      "needs_background": "light"
     },
     "output_type": "display_data"
    }
   ],
   "source": [
    "plt.figure(figsize=(10,10))\n",
    "\n",
    "plt.xlim(0,200)\n",
    "sns.kdeplot(data=df_train, x = 'rougher.input.feed_size', fill=True, common_norm=False, palette=\"crest\",\n",
    "   alpha=.35, linewidth=0,label = 'Размер гранул на обучающей выборке')\n",
    "sns.kdeplot(data=df_test, x = 'rougher.input.feed_size', fill=True, common_norm=False, palette=\"crest\",\n",
    "   alpha=.35, linewidth=0, label ='Размер гранул на тестовой выборке');\n",
    "\n",
    "\n",
    "plt.xlabel('Размеры гранул')\n",
    "plt.ylabel('Плотность распределения')\n",
    "plt.title('Сравнение распределний размеров гранул сырья')\n",
    "plt.legend();"
   ]
  },
  {
   "cell_type": "markdown",
   "metadata": {},
   "source": [
    "#### Вывод о размере гранул"
   ]
  },
  {
   "cell_type": "markdown",
   "metadata": {},
   "source": [
    "Размер гранул сырья имеет одинаковое распределение на обучающей и тестовой выборках. Значит оценка модели будет подходящей"
   ]
  },
  {
   "cell_type": "markdown",
   "metadata": {},
   "source": [
    "### Исследуйте суммарную концентрацию металлов на разных стадиях"
   ]
  },
  {
   "cell_type": "code",
   "execution_count": 54,
   "metadata": {},
   "outputs": [],
   "source": [
    "ro_inp = ['rougher.input.feed_au', 'rougher.input.feed_ag','rougher.input.feed_pb']\n",
    "ro_out = ['rougher.output.concentrate_au', 'rougher.output.concentrate_ag', 'rougher.output.concentrate_pb']\n",
    "pr_out = ['primary_cleaner.output.concentrate_au', 'primary_cleaner.output.concentrate_ag', 'primary_cleaner.output.concentrate_pb']\n",
    "final = ['final.output.concentrate_au', 'final.output.concentrate_ag', 'final.output.concentrate_pb' ]\n",
    "stages = [ro_inp, ro_out, pr_out, final]"
   ]
  },
  {
   "cell_type": "code",
   "execution_count": 55,
   "metadata": {},
   "outputs": [],
   "source": [
    "df_train_sum = df_train\n",
    "df_train_sum['rougher.input.metal_sum'] = 0\n",
    "\n",
    "\n",
    "for res in ro_inp:\n",
    "    df_train_sum['rougher.input.metal_sum'] += df_train_sum[res]\n",
    "    \n",
    "    \n",
    "df_train_sum['rougher.output.metal_sum'] = 0\n",
    "\n",
    "\n",
    "for res in ro_out:\n",
    "    df_train_sum['rougher.output.metal_sum'] += df_train_sum[res]\n",
    "\n",
    "     \n",
    "df_train_sum['primary_cleaner.output.metal_sum'] = 0  \n",
    "\n",
    "\n",
    "for res in pr_out:\n",
    "    df_train_sum['primary_cleaner.output.metal_sum'] += df_train_sum[res]\n",
    "\n",
    "    \n",
    "df_train_sum['final.output.metal_sum'] = 0  \n",
    "\n",
    "for res in final:\n",
    "    df_train_sum['final.output.metal_sum'] += df_train_sum[res]\n",
    "\n",
    "    \n",
    "    "
   ]
  },
  {
   "cell_type": "code",
   "execution_count": 56,
   "metadata": {},
   "outputs": [
    {
     "data": {
      "image/png": "[encoded data removed]",
      "text/plain": [
       "<Figure size 1080x1080 with 1 Axes>"
      ]
     },
     "metadata": {
      "needs_background": "light"
     },
     "output_type": "display_data"
    }
   ],
   "source": [
    "sums = ['rougher.input.metal_sum','rougher.output.metal_sum','primary_cleaner.output.metal_sum','final.output.metal_sum']\n",
    "i = 1\n",
    "plt.figure(figsize=(15,15))\n",
    "for summ in sums:\n",
    "    sns.kdeplot(data=df_train[sums], fill=True, common_norm=False, palette=\"crest\",\n",
    "   alpha=.35, linewidth=0,);\n",
    "\n",
    "plt.xlabel('Суммарная концентрация металлов')\n",
    "plt.title('Изменение концентрации металлов')\n",
    "plt.ylabel('Плотность распределения')\n",
    "plt.show()"
   ]
  },
  {
   "cell_type": "markdown",
   "metadata": {},
   "source": [
    "**Вывод**"
   ]
  },
  {
   "cell_type": "markdown",
   "metadata": {},
   "source": [
    "Суммарная концентрация увеличивается с прохождением каждого этапа. Значит очистка является эффективной"
   ]
  },
  {
   "cell_type": "markdown",
   "metadata": {},
   "source": [
    "### Итог"
   ]
  },
  {
   "cell_type": "markdown",
   "metadata": {},
   "source": [
    "Проверили:\n",
    "- Изменение концентрации металлов на всех этапах для обеих выборок, тренировочной и тестовой оказалось практически одинаковым.\n",
    "- Сравнили распределения размеров гранул исходного сырья. Эти распределения очень схожи\n",
    "- Суммарную концентрацию металлов, на каждом этапе в двух выборках. они очень похожи.\n",
    "\n",
    "Это очень хорошо для нас, значит обучение пройдет без проблем"
   ]
  },
  {
   "cell_type": "markdown",
   "metadata": {},
   "source": [
    "## Модель"
   ]
  },
  {
   "cell_type": "code",
   "execution_count": 183,
   "metadata": {},
   "outputs": [],
   "source": [
    "def sMAPE(target, prediction):\n",
    "    target, prediction = np.array(target), np.array(prediction)\n",
    "\n",
    "    abs_substraction = abs(target-prediction)\n",
    "\n",
    "    \n",
    "    sum_abs = (abs(target) + abs(prediction))/2\n",
    "    sum_abs[sum_abs == 0] = 0.0001\n",
    "    summ = abs_substraction/sum_abs\n",
    "    summ = summ.sum()\n",
    "\n",
    "    res = (1/len(target)) * summ * 100\n",
    "\n",
    "    return res"
   ]
  },
  {
   "cell_type": "markdown",
   "metadata": {},
   "source": [
    "### Разделим выобрки на обычные признаки и целевые признаки"
   ]
  },
  {
   "cell_type": "code",
   "execution_count": 184,
   "metadata": {},
   "outputs": [
    {
     "data": {
      "text/html": [
       "<div>\n",
       "<style scoped>\n",
       "    .dataframe tbody tr th:only-of-type {\n",
       "        vertical-align: middle;\n",
       "    }\n",
       "\n",
       "    .dataframe tbody tr th {\n",
       "        vertical-align: top;\n",
       "    }\n",
       "\n",
       "    .dataframe thead th {\n",
       "        text-align: right;\n",
       "    }\n",
       "</style>\n",
       "<table border=\"1\" class=\"dataframe\">\n",
       "  <thead>\n",
       "    <tr style=\"text-align: right;\">\n",
       "      <th></th>\n",
       "      <th>date</th>\n",
       "      <th>rougher.input.feed_au</th>\n",
       "      <th>rougher.input.feed_ag</th>\n",
       "      <th>rougher.input.feed_pb</th>\n",
       "      <th>rougher.input.feed_sol</th>\n",
       "      <th>rougher.input.feed_rate</th>\n",
       "      <th>rougher.input.feed_size</th>\n",
       "      <th>rougher.input.floatbank10_sulfate</th>\n",
       "      <th>rougher.input.floatbank10_xanthate</th>\n",
       "      <th>rougher.state.floatbank10_a_air</th>\n",
       "      <th>...</th>\n",
       "      <th>final.output.concentrate_sol</th>\n",
       "      <th>final.output.recovery</th>\n",
       "      <th>final.output.tail_au</th>\n",
       "      <th>final.output.tail_ag</th>\n",
       "      <th>final.output.tail_pb</th>\n",
       "      <th>final.output.tail_sol</th>\n",
       "      <th>rougher.input.metal_sum</th>\n",
       "      <th>rougher.output.metal_sum</th>\n",
       "      <th>primary_cleaner.output.metal_sum</th>\n",
       "      <th>final.output.metal_sum</th>\n",
       "    </tr>\n",
       "  </thead>\n",
       "  <tbody>\n",
       "    <tr>\n",
       "      <th>0</th>\n",
       "      <td>2016-01-15 00:00:00</td>\n",
       "      <td>6.486150</td>\n",
       "      <td>6.100378</td>\n",
       "      <td>2.284912</td>\n",
       "      <td>36.808594</td>\n",
       "      <td>523.546326</td>\n",
       "      <td>55.486599</td>\n",
       "      <td>11.986616</td>\n",
       "      <td>6.007990</td>\n",
       "      <td>999.706909</td>\n",
       "      <td>...</td>\n",
       "      <td>5.507324</td>\n",
       "      <td>70.541216</td>\n",
       "      <td>2.143149</td>\n",
       "      <td>10.411962</td>\n",
       "      <td>0.895447</td>\n",
       "      <td>16.904297</td>\n",
       "      <td>14.871440</td>\n",
       "      <td>38.395653</td>\n",
       "      <td>53.111627</td>\n",
       "      <td>58.137072</td>\n",
       "    </tr>\n",
       "    <tr>\n",
       "      <th>1</th>\n",
       "      <td>2016-01-15 01:00:00</td>\n",
       "      <td>6.478583</td>\n",
       "      <td>6.161113</td>\n",
       "      <td>2.266033</td>\n",
       "      <td>35.753385</td>\n",
       "      <td>525.290581</td>\n",
       "      <td>57.278666</td>\n",
       "      <td>11.971193</td>\n",
       "      <td>6.005766</td>\n",
       "      <td>1000.286398</td>\n",
       "      <td>...</td>\n",
       "      <td>5.257781</td>\n",
       "      <td>69.266198</td>\n",
       "      <td>2.224930</td>\n",
       "      <td>10.462676</td>\n",
       "      <td>0.927452</td>\n",
       "      <td>16.634514</td>\n",
       "      <td>14.905729</td>\n",
       "      <td>38.945647</td>\n",
       "      <td>53.174338</td>\n",
       "      <td>58.699942</td>\n",
       "    </tr>\n",
       "    <tr>\n",
       "      <th>2</th>\n",
       "      <td>2016-01-15 02:00:00</td>\n",
       "      <td>6.362222</td>\n",
       "      <td>6.116455</td>\n",
       "      <td>2.159622</td>\n",
       "      <td>35.971630</td>\n",
       "      <td>530.026610</td>\n",
       "      <td>57.510649</td>\n",
       "      <td>11.920603</td>\n",
       "      <td>6.197377</td>\n",
       "      <td>999.719565</td>\n",
       "      <td>...</td>\n",
       "      <td>5.383759</td>\n",
       "      <td>68.116445</td>\n",
       "      <td>2.257889</td>\n",
       "      <td>10.507046</td>\n",
       "      <td>0.953716</td>\n",
       "      <td>16.208849</td>\n",
       "      <td>14.638299</td>\n",
       "      <td>38.649756</td>\n",
       "      <td>52.927464</td>\n",
       "      <td>58.927421</td>\n",
       "    </tr>\n",
       "    <tr>\n",
       "      <th>3</th>\n",
       "      <td>2016-01-15 03:00:00</td>\n",
       "      <td>6.118189</td>\n",
       "      <td>6.043309</td>\n",
       "      <td>2.037807</td>\n",
       "      <td>36.862241</td>\n",
       "      <td>542.590390</td>\n",
       "      <td>57.792734</td>\n",
       "      <td>11.630094</td>\n",
       "      <td>6.203177</td>\n",
       "      <td>999.814770</td>\n",
       "      <td>...</td>\n",
       "      <td>4.858634</td>\n",
       "      <td>68.347543</td>\n",
       "      <td>2.146849</td>\n",
       "      <td>10.422762</td>\n",
       "      <td>0.883763</td>\n",
       "      <td>16.532835</td>\n",
       "      <td>14.199305</td>\n",
       "      <td>38.411473</td>\n",
       "      <td>43.979185</td>\n",
       "      <td>58.714815</td>\n",
       "    </tr>\n",
       "    <tr>\n",
       "      <th>4</th>\n",
       "      <td>2016-01-15 04:00:00</td>\n",
       "      <td>5.663707</td>\n",
       "      <td>6.060915</td>\n",
       "      <td>1.786875</td>\n",
       "      <td>34.347666</td>\n",
       "      <td>540.531893</td>\n",
       "      <td>56.047189</td>\n",
       "      <td>10.957755</td>\n",
       "      <td>6.198826</td>\n",
       "      <td>999.678690</td>\n",
       "      <td>...</td>\n",
       "      <td>4.939416</td>\n",
       "      <td>66.927016</td>\n",
       "      <td>2.055292</td>\n",
       "      <td>10.360302</td>\n",
       "      <td>0.792826</td>\n",
       "      <td>16.525686</td>\n",
       "      <td>13.511497</td>\n",
       "      <td>38.867359</td>\n",
       "      <td>52.121146</td>\n",
       "      <td>59.065251</td>\n",
       "    </tr>\n",
       "    <tr>\n",
       "      <th>...</th>\n",
       "      <td>...</td>\n",
       "      <td>...</td>\n",
       "      <td>...</td>\n",
       "      <td>...</td>\n",
       "      <td>...</td>\n",
       "      <td>...</td>\n",
       "      <td>...</td>\n",
       "      <td>...</td>\n",
       "      <td>...</td>\n",
       "      <td>...</td>\n",
       "      <td>...</td>\n",
       "      <td>...</td>\n",
       "      <td>...</td>\n",
       "      <td>...</td>\n",
       "      <td>...</td>\n",
       "      <td>...</td>\n",
       "      <td>...</td>\n",
       "      <td>...</td>\n",
       "      <td>...</td>\n",
       "      <td>...</td>\n",
       "      <td>...</td>\n",
       "    </tr>\n",
       "    <tr>\n",
       "      <th>14574</th>\n",
       "      <td>2017-12-09 09:59:59</td>\n",
       "      <td>4.599524</td>\n",
       "      <td>5.822083</td>\n",
       "      <td>4.255546</td>\n",
       "      <td>37.480479</td>\n",
       "      <td>559.895089</td>\n",
       "      <td>85.247019</td>\n",
       "      <td>6.775864</td>\n",
       "      <td>9.005425</td>\n",
       "      <td>1200.454685</td>\n",
       "      <td>...</td>\n",
       "      <td>7.053796</td>\n",
       "      <td>64.054699</td>\n",
       "      <td>1.761994</td>\n",
       "      <td>8.578502</td>\n",
       "      <td>3.365823</td>\n",
       "      <td>10.603464</td>\n",
       "      <td>14.677153</td>\n",
       "      <td>40.761110</td>\n",
       "      <td>52.745451</td>\n",
       "      <td>61.546553</td>\n",
       "    </tr>\n",
       "    <tr>\n",
       "      <th>14575</th>\n",
       "      <td>2017-12-09 10:59:59</td>\n",
       "      <td>4.658125</td>\n",
       "      <td>5.844800</td>\n",
       "      <td>4.241564</td>\n",
       "      <td>37.395565</td>\n",
       "      <td>561.464855</td>\n",
       "      <td>83.860651</td>\n",
       "      <td>6.770561</td>\n",
       "      <td>9.000889</td>\n",
       "      <td>1200.958146</td>\n",
       "      <td>...</td>\n",
       "      <td>6.929418</td>\n",
       "      <td>68.643324</td>\n",
       "      <td>1.567363</td>\n",
       "      <td>8.792890</td>\n",
       "      <td>3.120351</td>\n",
       "      <td>10.184715</td>\n",
       "      <td>14.744489</td>\n",
       "      <td>40.792501</td>\n",
       "      <td>52.000277</td>\n",
       "      <td>61.575144</td>\n",
       "    </tr>\n",
       "    <tr>\n",
       "      <th>14576</th>\n",
       "      <td>2017-12-09 11:59:59</td>\n",
       "      <td>5.335862</td>\n",
       "      <td>6.091855</td>\n",
       "      <td>4.617558</td>\n",
       "      <td>37.369774</td>\n",
       "      <td>560.889077</td>\n",
       "      <td>85.718304</td>\n",
       "      <td>7.762770</td>\n",
       "      <td>9.158609</td>\n",
       "      <td>1199.245914</td>\n",
       "      <td>...</td>\n",
       "      <td>6.803482</td>\n",
       "      <td>73.755150</td>\n",
       "      <td>1.529220</td>\n",
       "      <td>8.769645</td>\n",
       "      <td>3.141541</td>\n",
       "      <td>10.403181</td>\n",
       "      <td>16.045275</td>\n",
       "      <td>40.712449</td>\n",
       "      <td>51.945355</td>\n",
       "      <td>61.295107</td>\n",
       "    </tr>\n",
       "    <tr>\n",
       "      <th>14577</th>\n",
       "      <td>2017-12-09 12:59:59</td>\n",
       "      <td>4.838619</td>\n",
       "      <td>6.121323</td>\n",
       "      <td>4.144989</td>\n",
       "      <td>38.591551</td>\n",
       "      <td>559.031805</td>\n",
       "      <td>119.499241</td>\n",
       "      <td>7.356687</td>\n",
       "      <td>9.304952</td>\n",
       "      <td>1196.569267</td>\n",
       "      <td>...</td>\n",
       "      <td>6.862249</td>\n",
       "      <td>69.049291</td>\n",
       "      <td>1.612542</td>\n",
       "      <td>8.897321</td>\n",
       "      <td>3.130493</td>\n",
       "      <td>10.549470</td>\n",
       "      <td>15.104931</td>\n",
       "      <td>40.755632</td>\n",
       "      <td>52.161648</td>\n",
       "      <td>61.412113</td>\n",
       "    </tr>\n",
       "    <tr>\n",
       "      <th>14578</th>\n",
       "      <td>2017-12-09 13:59:59</td>\n",
       "      <td>4.525061</td>\n",
       "      <td>5.970515</td>\n",
       "      <td>4.020002</td>\n",
       "      <td>40.074026</td>\n",
       "      <td>555.682872</td>\n",
       "      <td>122.262690</td>\n",
       "      <td>6.586020</td>\n",
       "      <td>9.299606</td>\n",
       "      <td>1204.866639</td>\n",
       "      <td>...</td>\n",
       "      <td>6.886013</td>\n",
       "      <td>67.002189</td>\n",
       "      <td>1.596616</td>\n",
       "      <td>8.529606</td>\n",
       "      <td>2.911418</td>\n",
       "      <td>11.115147</td>\n",
       "      <td>14.515579</td>\n",
       "      <td>32.589863</td>\n",
       "      <td>51.619196</td>\n",
       "      <td>61.340054</td>\n",
       "    </tr>\n",
       "  </tbody>\n",
       "</table>\n",
       "<p>12802 rows × 91 columns</p>\n",
       "</div>"
      ],
      "text/plain": [
       "                     date  rougher.input.feed_au  rougher.input.feed_ag  \\\n",
       "0     2016-01-15 00:00:00               6.486150               6.100378   \n",
       "1     2016-01-15 01:00:00               6.478583               6.161113   \n",
       "2     2016-01-15 02:00:00               6.362222               6.116455   \n",
       "3     2016-01-15 03:00:00               6.118189               6.043309   \n",
       "4     2016-01-15 04:00:00               5.663707               6.060915   \n",
       "...                   ...                    ...                    ...   \n",
       "14574 2017-12-09 09:59:59               4.599524               5.822083   \n",
       "14575 2017-12-09 10:59:59               4.658125               5.844800   \n",
       "14576 2017-12-09 11:59:59               5.335862               6.091855   \n",
       "14577 2017-12-09 12:59:59               4.838619               6.121323   \n",
       "14578 2017-12-09 13:59:59               4.525061               5.970515   \n",
       "\n",
       "       rougher.input.feed_pb  rougher.input.feed_sol  rougher.input.feed_rate  \\\n",
       "0                   2.284912               36.808594               523.546326   \n",
       "1                   2.266033               35.753385               525.290581   \n",
       "2                   2.159622               35.971630               530.026610   \n",
       "3                   2.037807               36.862241               542.590390   \n",
       "4                   1.786875               34.347666               540.531893   \n",
       "...                      ...                     ...                      ...   \n",
       "14574               4.255546               37.480479               559.895089   \n",
       "14575               4.241564               37.395565               561.464855   \n",
       "14576               4.617558               37.369774               560.889077   \n",
       "14577               4.144989               38.591551               559.031805   \n",
       "14578               4.020002               40.074026               555.682872   \n",
       "\n",
       "       rougher.input.feed_size  rougher.input.floatbank10_sulfate  \\\n",
       "0                    55.486599                          11.986616   \n",
       "1                    57.278666                          11.971193   \n",
       "2                    57.510649                          11.920603   \n",
       "3                    57.792734                          11.630094   \n",
       "4                    56.047189                          10.957755   \n",
       "...                        ...                                ...   \n",
       "14574                85.247019                           6.775864   \n",
       "14575                83.860651                           6.770561   \n",
       "14576                85.718304                           7.762770   \n",
       "14577               119.499241                           7.356687   \n",
       "14578               122.262690                           6.586020   \n",
       "\n",
       "       rougher.input.floatbank10_xanthate  rougher.state.floatbank10_a_air  \\\n",
       "0                                6.007990                       999.706909   \n",
       "1                                6.005766                      1000.286398   \n",
       "2                                6.197377                       999.719565   \n",
       "3                                6.203177                       999.814770   \n",
       "4                                6.198826                       999.678690   \n",
       "...                                   ...                              ...   \n",
       "14574                            9.005425                      1200.454685   \n",
       "14575                            9.000889                      1200.958146   \n",
       "14576                            9.158609                      1199.245914   \n",
       "14577                            9.304952                      1196.569267   \n",
       "14578                            9.299606                      1204.866639   \n",
       "\n",
       "       ...  final.output.concentrate_sol  final.output.recovery  \\\n",
       "0      ...                      5.507324              70.541216   \n",
       "1      ...                      5.257781              69.266198   \n",
       "2      ...                      5.383759              68.116445   \n",
       "3      ...                      4.858634              68.347543   \n",
       "4      ...                      4.939416              66.927016   \n",
       "...    ...                           ...                    ...   \n",
       "14574  ...                      7.053796              64.054699   \n",
       "14575  ...                      6.929418              68.643324   \n",
       "14576  ...                      6.803482              73.755150   \n",
       "14577  ...                      6.862249              69.049291   \n",
       "14578  ...                      6.886013              67.002189   \n",
       "\n",
       "       final.output.tail_au  final.output.tail_ag  final.output.tail_pb  \\\n",
       "0                  2.143149             10.411962              0.895447   \n",
       "1                  2.224930             10.462676              0.927452   \n",
       "2                  2.257889             10.507046              0.953716   \n",
       "3                  2.146849             10.422762              0.883763   \n",
       "4                  2.055292             10.360302              0.792826   \n",
       "...                     ...                   ...                   ...   \n",
       "14574              1.761994              8.578502              3.365823   \n",
       "14575              1.567363              8.792890              3.120351   \n",
       "14576              1.529220              8.769645              3.141541   \n",
       "14577              1.612542              8.897321              3.130493   \n",
       "14578              1.596616              8.529606              2.911418   \n",
       "\n",
       "       final.output.tail_sol  rougher.input.metal_sum  \\\n",
       "0                  16.904297                14.871440   \n",
       "1                  16.634514                14.905729   \n",
       "2                  16.208849                14.638299   \n",
       "3                  16.532835                14.199305   \n",
       "4                  16.525686                13.511497   \n",
       "...                      ...                      ...   \n",
       "14574              10.603464                14.677153   \n",
       "14575              10.184715                14.744489   \n",
       "14576              10.403181                16.045275   \n",
       "14577              10.549470                15.104931   \n",
       "14578              11.115147                14.515579   \n",
       "\n",
       "       rougher.output.metal_sum  primary_cleaner.output.metal_sum  \\\n",
       "0                     38.395653                         53.111627   \n",
       "1                     38.945647                         53.174338   \n",
       "2                     38.649756                         52.927464   \n",
       "3                     38.411473                         43.979185   \n",
       "4                     38.867359                         52.121146   \n",
       "...                         ...                               ...   \n",
       "14574                 40.761110                         52.745451   \n",
       "14575                 40.792501                         52.000277   \n",
       "14576                 40.712449                         51.945355   \n",
       "14577                 40.755632                         52.161648   \n",
       "14578                 32.589863                         51.619196   \n",
       "\n",
       "       final.output.metal_sum  \n",
       "0                   58.137072  \n",
       "1                   58.699942  \n",
       "2                   58.927421  \n",
       "3                   58.714815  \n",
       "4                   59.065251  \n",
       "...                       ...  \n",
       "14574               61.546553  \n",
       "14575               61.575144  \n",
       "14576               61.295107  \n",
       "14577               61.412113  \n",
       "14578               61.340054  \n",
       "\n",
       "[12802 rows x 91 columns]"
      ]
     },
     "execution_count": 184,
     "metadata": {},
     "output_type": "execute_result"
    }
   ],
   "source": [
    "df_train"
   ]
  },
  {
   "cell_type": "markdown",
   "metadata": {},
   "source": [
    "Вспомним, что в начале мы объявили константу NUMERIC_COLUMNS, которая хранит названия численных входных признаков"
   ]
  },
  {
   "cell_type": "code",
   "execution_count": 185,
   "metadata": {},
   "outputs": [],
   "source": [
    "features_train, target_train_roug_rec, target_train_fin_rec = df_train[NUMERIC_COLUMNS].drop(['rougher.output.recovery',\n",
    "                                                                           'final.output.recovery'],axis=1), df_train['rougher.output.recovery'], df_train['final.output.recovery']\n",
    "    \n",
    "features_test, target_test_roug_rec, target_test_fin_rec= df_test.drop(['date','rougher.output.recovery',\n",
    "                                                                           'final.output.recovery'],axis=1), df_test['rougher.output.recovery'], df_test['final.output.recovery']\n",
    "    "
   ]
  },
  {
   "cell_type": "markdown",
   "metadata": {},
   "source": [
    "Обучим несколько моделей. Начнем с линейной регрессии"
   ]
  },
  {
   "cell_type": "code",
   "execution_count": 186,
   "metadata": {},
   "outputs": [
    {
     "data": {
      "text/html": [
       "<div>\n",
       "<style scoped>\n",
       "    .dataframe tbody tr th:only-of-type {\n",
       "        vertical-align: middle;\n",
       "    }\n",
       "\n",
       "    .dataframe tbody tr th {\n",
       "        vertical-align: top;\n",
       "    }\n",
       "\n",
       "    .dataframe thead th {\n",
       "        text-align: right;\n",
       "    }\n",
       "</style>\n",
       "<table border=\"1\" class=\"dataframe\">\n",
       "  <thead>\n",
       "    <tr style=\"text-align: right;\">\n",
       "      <th></th>\n",
       "      <th>rougher.input.feed_au</th>\n",
       "      <th>rougher.input.feed_ag</th>\n",
       "      <th>rougher.input.feed_pb</th>\n",
       "      <th>rougher.input.feed_sol</th>\n",
       "      <th>rougher.input.feed_rate</th>\n",
       "      <th>rougher.input.feed_size</th>\n",
       "      <th>rougher.input.floatbank10_sulfate</th>\n",
       "      <th>rougher.input.floatbank10_xanthate</th>\n",
       "      <th>rougher.state.floatbank10_a_air</th>\n",
       "      <th>rougher.state.floatbank10_a_level</th>\n",
       "      <th>...</th>\n",
       "      <th>secondary_cleaner.state.floatbank4_b_air</th>\n",
       "      <th>secondary_cleaner.state.floatbank4_b_level</th>\n",
       "      <th>secondary_cleaner.state.floatbank5_a_air</th>\n",
       "      <th>secondary_cleaner.state.floatbank5_a_level</th>\n",
       "      <th>secondary_cleaner.state.floatbank5_b_air</th>\n",
       "      <th>secondary_cleaner.state.floatbank5_b_level</th>\n",
       "      <th>secondary_cleaner.state.floatbank6_a_air</th>\n",
       "      <th>secondary_cleaner.state.floatbank6_a_level</th>\n",
       "      <th>rougher.output.recovery</th>\n",
       "      <th>final.output.recovery</th>\n",
       "    </tr>\n",
       "  </thead>\n",
       "  <tbody>\n",
       "    <tr>\n",
       "      <th>0</th>\n",
       "      <td>6.486150</td>\n",
       "      <td>6.100378</td>\n",
       "      <td>2.284912</td>\n",
       "      <td>36.808594</td>\n",
       "      <td>523.546326</td>\n",
       "      <td>55.486599</td>\n",
       "      <td>11.986616</td>\n",
       "      <td>6.007990</td>\n",
       "      <td>999.706909</td>\n",
       "      <td>-404.066986</td>\n",
       "      <td>...</td>\n",
       "      <td>12.099931</td>\n",
       "      <td>-504.715942</td>\n",
       "      <td>9.925633</td>\n",
       "      <td>-498.310211</td>\n",
       "      <td>8.079666</td>\n",
       "      <td>-500.470978</td>\n",
       "      <td>14.151341</td>\n",
       "      <td>-605.841980</td>\n",
       "      <td>87.107763</td>\n",
       "      <td>70.541216</td>\n",
       "    </tr>\n",
       "    <tr>\n",
       "      <th>1</th>\n",
       "      <td>6.478583</td>\n",
       "      <td>6.161113</td>\n",
       "      <td>2.266033</td>\n",
       "      <td>35.753385</td>\n",
       "      <td>525.290581</td>\n",
       "      <td>57.278666</td>\n",
       "      <td>11.971193</td>\n",
       "      <td>6.005766</td>\n",
       "      <td>1000.286398</td>\n",
       "      <td>-400.065196</td>\n",
       "      <td>...</td>\n",
       "      <td>11.950531</td>\n",
       "      <td>-501.331529</td>\n",
       "      <td>10.039245</td>\n",
       "      <td>-500.169983</td>\n",
       "      <td>7.984757</td>\n",
       "      <td>-500.582168</td>\n",
       "      <td>13.998353</td>\n",
       "      <td>-599.787184</td>\n",
       "      <td>86.843261</td>\n",
       "      <td>69.266198</td>\n",
       "    </tr>\n",
       "    <tr>\n",
       "      <th>2</th>\n",
       "      <td>6.362222</td>\n",
       "      <td>6.116455</td>\n",
       "      <td>2.159622</td>\n",
       "      <td>35.971630</td>\n",
       "      <td>530.026610</td>\n",
       "      <td>57.510649</td>\n",
       "      <td>11.920603</td>\n",
       "      <td>6.197377</td>\n",
       "      <td>999.719565</td>\n",
       "      <td>-400.074028</td>\n",
       "      <td>...</td>\n",
       "      <td>11.912783</td>\n",
       "      <td>-501.133383</td>\n",
       "      <td>10.070913</td>\n",
       "      <td>-500.129135</td>\n",
       "      <td>8.013877</td>\n",
       "      <td>-500.517572</td>\n",
       "      <td>14.028663</td>\n",
       "      <td>-601.427363</td>\n",
       "      <td>86.842308</td>\n",
       "      <td>68.116445</td>\n",
       "    </tr>\n",
       "    <tr>\n",
       "      <th>3</th>\n",
       "      <td>6.118189</td>\n",
       "      <td>6.043309</td>\n",
       "      <td>2.037807</td>\n",
       "      <td>36.862241</td>\n",
       "      <td>542.590390</td>\n",
       "      <td>57.792734</td>\n",
       "      <td>11.630094</td>\n",
       "      <td>6.203177</td>\n",
       "      <td>999.814770</td>\n",
       "      <td>-400.200179</td>\n",
       "      <td>...</td>\n",
       "      <td>11.999550</td>\n",
       "      <td>-501.193686</td>\n",
       "      <td>9.970366</td>\n",
       "      <td>-499.201640</td>\n",
       "      <td>7.977324</td>\n",
       "      <td>-500.255908</td>\n",
       "      <td>14.005551</td>\n",
       "      <td>-599.996129</td>\n",
       "      <td>87.226430</td>\n",
       "      <td>68.347543</td>\n",
       "    </tr>\n",
       "    <tr>\n",
       "      <th>4</th>\n",
       "      <td>5.663707</td>\n",
       "      <td>6.060915</td>\n",
       "      <td>1.786875</td>\n",
       "      <td>34.347666</td>\n",
       "      <td>540.531893</td>\n",
       "      <td>56.047189</td>\n",
       "      <td>10.957755</td>\n",
       "      <td>6.198826</td>\n",
       "      <td>999.678690</td>\n",
       "      <td>-399.752729</td>\n",
       "      <td>...</td>\n",
       "      <td>11.953070</td>\n",
       "      <td>-501.053894</td>\n",
       "      <td>9.925709</td>\n",
       "      <td>-501.686727</td>\n",
       "      <td>7.894242</td>\n",
       "      <td>-500.356035</td>\n",
       "      <td>13.996647</td>\n",
       "      <td>-601.496691</td>\n",
       "      <td>86.688794</td>\n",
       "      <td>66.927016</td>\n",
       "    </tr>\n",
       "    <tr>\n",
       "      <th>...</th>\n",
       "      <td>...</td>\n",
       "      <td>...</td>\n",
       "      <td>...</td>\n",
       "      <td>...</td>\n",
       "      <td>...</td>\n",
       "      <td>...</td>\n",
       "      <td>...</td>\n",
       "      <td>...</td>\n",
       "      <td>...</td>\n",
       "      <td>...</td>\n",
       "      <td>...</td>\n",
       "      <td>...</td>\n",
       "      <td>...</td>\n",
       "      <td>...</td>\n",
       "      <td>...</td>\n",
       "      <td>...</td>\n",
       "      <td>...</td>\n",
       "      <td>...</td>\n",
       "      <td>...</td>\n",
       "      <td>...</td>\n",
       "      <td>...</td>\n",
       "    </tr>\n",
       "    <tr>\n",
       "      <th>14574</th>\n",
       "      <td>4.599524</td>\n",
       "      <td>5.822083</td>\n",
       "      <td>4.255546</td>\n",
       "      <td>37.480479</td>\n",
       "      <td>559.895089</td>\n",
       "      <td>85.247019</td>\n",
       "      <td>6.775864</td>\n",
       "      <td>9.005425</td>\n",
       "      <td>1200.454685</td>\n",
       "      <td>-300.012582</td>\n",
       "      <td>...</td>\n",
       "      <td>20.034440</td>\n",
       "      <td>-499.842047</td>\n",
       "      <td>18.001504</td>\n",
       "      <td>-499.872052</td>\n",
       "      <td>12.998309</td>\n",
       "      <td>-500.027809</td>\n",
       "      <td>20.007108</td>\n",
       "      <td>-500.850685</td>\n",
       "      <td>87.684717</td>\n",
       "      <td>64.054699</td>\n",
       "    </tr>\n",
       "    <tr>\n",
       "      <th>14575</th>\n",
       "      <td>4.658125</td>\n",
       "      <td>5.844800</td>\n",
       "      <td>4.241564</td>\n",
       "      <td>37.395565</td>\n",
       "      <td>561.464855</td>\n",
       "      <td>83.860651</td>\n",
       "      <td>6.770561</td>\n",
       "      <td>9.000889</td>\n",
       "      <td>1200.958146</td>\n",
       "      <td>-300.013649</td>\n",
       "      <td>...</td>\n",
       "      <td>19.988437</td>\n",
       "      <td>-500.125966</td>\n",
       "      <td>18.011724</td>\n",
       "      <td>-500.090861</td>\n",
       "      <td>13.007108</td>\n",
       "      <td>-500.258238</td>\n",
       "      <td>19.983872</td>\n",
       "      <td>-502.581707</td>\n",
       "      <td>90.677361</td>\n",
       "      <td>68.643324</td>\n",
       "    </tr>\n",
       "    <tr>\n",
       "      <th>14576</th>\n",
       "      <td>5.335862</td>\n",
       "      <td>6.091855</td>\n",
       "      <td>4.617558</td>\n",
       "      <td>37.369774</td>\n",
       "      <td>560.889077</td>\n",
       "      <td>85.718304</td>\n",
       "      <td>7.762770</td>\n",
       "      <td>9.158609</td>\n",
       "      <td>1199.245914</td>\n",
       "      <td>-300.845518</td>\n",
       "      <td>...</td>\n",
       "      <td>20.007571</td>\n",
       "      <td>-499.740028</td>\n",
       "      <td>18.006038</td>\n",
       "      <td>-499.834374</td>\n",
       "      <td>13.001114</td>\n",
       "      <td>-500.155694</td>\n",
       "      <td>20.007840</td>\n",
       "      <td>-501.296428</td>\n",
       "      <td>89.574376</td>\n",
       "      <td>73.755150</td>\n",
       "    </tr>\n",
       "    <tr>\n",
       "      <th>14577</th>\n",
       "      <td>4.838619</td>\n",
       "      <td>6.121323</td>\n",
       "      <td>4.144989</td>\n",
       "      <td>38.591551</td>\n",
       "      <td>559.031805</td>\n",
       "      <td>119.499241</td>\n",
       "      <td>7.356687</td>\n",
       "      <td>9.304952</td>\n",
       "      <td>1196.569267</td>\n",
       "      <td>-299.512227</td>\n",
       "      <td>...</td>\n",
       "      <td>20.035660</td>\n",
       "      <td>-500.251357</td>\n",
       "      <td>17.998535</td>\n",
       "      <td>-500.395178</td>\n",
       "      <td>12.954048</td>\n",
       "      <td>-499.895163</td>\n",
       "      <td>19.968498</td>\n",
       "      <td>-501.041608</td>\n",
       "      <td>87.724007</td>\n",
       "      <td>69.049291</td>\n",
       "    </tr>\n",
       "    <tr>\n",
       "      <th>14578</th>\n",
       "      <td>4.525061</td>\n",
       "      <td>5.970515</td>\n",
       "      <td>4.020002</td>\n",
       "      <td>40.074026</td>\n",
       "      <td>555.682872</td>\n",
       "      <td>122.262690</td>\n",
       "      <td>6.586020</td>\n",
       "      <td>9.299606</td>\n",
       "      <td>1204.866639</td>\n",
       "      <td>-299.235675</td>\n",
       "      <td>...</td>\n",
       "      <td>19.951231</td>\n",
       "      <td>-499.857027</td>\n",
       "      <td>18.019543</td>\n",
       "      <td>-500.451156</td>\n",
       "      <td>13.023431</td>\n",
       "      <td>-499.914391</td>\n",
       "      <td>19.990885</td>\n",
       "      <td>-501.518452</td>\n",
       "      <td>88.890579</td>\n",
       "      <td>67.002189</td>\n",
       "    </tr>\n",
       "  </tbody>\n",
       "</table>\n",
       "<p>12802 rows × 54 columns</p>\n",
       "</div>"
      ],
      "text/plain": [
       "       rougher.input.feed_au  rougher.input.feed_ag  rougher.input.feed_pb  \\\n",
       "0                   6.486150               6.100378               2.284912   \n",
       "1                   6.478583               6.161113               2.266033   \n",
       "2                   6.362222               6.116455               2.159622   \n",
       "3                   6.118189               6.043309               2.037807   \n",
       "4                   5.663707               6.060915               1.786875   \n",
       "...                      ...                    ...                    ...   \n",
       "14574               4.599524               5.822083               4.255546   \n",
       "14575               4.658125               5.844800               4.241564   \n",
       "14576               5.335862               6.091855               4.617558   \n",
       "14577               4.838619               6.121323               4.144989   \n",
       "14578               4.525061               5.970515               4.020002   \n",
       "\n",
       "       rougher.input.feed_sol  rougher.input.feed_rate  \\\n",
       "0                   36.808594               523.546326   \n",
       "1                   35.753385               525.290581   \n",
       "2                   35.971630               530.026610   \n",
       "3                   36.862241               542.590390   \n",
       "4                   34.347666               540.531893   \n",
       "...                       ...                      ...   \n",
       "14574               37.480479               559.895089   \n",
       "14575               37.395565               561.464855   \n",
       "14576               37.369774               560.889077   \n",
       "14577               38.591551               559.031805   \n",
       "14578               40.074026               555.682872   \n",
       "\n",
       "       rougher.input.feed_size  rougher.input.floatbank10_sulfate  \\\n",
       "0                    55.486599                          11.986616   \n",
       "1                    57.278666                          11.971193   \n",
       "2                    57.510649                          11.920603   \n",
       "3                    57.792734                          11.630094   \n",
       "4                    56.047189                          10.957755   \n",
       "...                        ...                                ...   \n",
       "14574                85.247019                           6.775864   \n",
       "14575                83.860651                           6.770561   \n",
       "14576                85.718304                           7.762770   \n",
       "14577               119.499241                           7.356687   \n",
       "14578               122.262690                           6.586020   \n",
       "\n",
       "       rougher.input.floatbank10_xanthate  rougher.state.floatbank10_a_air  \\\n",
       "0                                6.007990                       999.706909   \n",
       "1                                6.005766                      1000.286398   \n",
       "2                                6.197377                       999.719565   \n",
       "3                                6.203177                       999.814770   \n",
       "4                                6.198826                       999.678690   \n",
       "...                                   ...                              ...   \n",
       "14574                            9.005425                      1200.454685   \n",
       "14575                            9.000889                      1200.958146   \n",
       "14576                            9.158609                      1199.245914   \n",
       "14577                            9.304952                      1196.569267   \n",
       "14578                            9.299606                      1204.866639   \n",
       "\n",
       "       rougher.state.floatbank10_a_level  ...  \\\n",
       "0                            -404.066986  ...   \n",
       "1                            -400.065196  ...   \n",
       "2                            -400.074028  ...   \n",
       "3                            -400.200179  ...   \n",
       "4                            -399.752729  ...   \n",
       "...                                  ...  ...   \n",
       "14574                        -300.012582  ...   \n",
       "14575                        -300.013649  ...   \n",
       "14576                        -300.845518  ...   \n",
       "14577                        -299.512227  ...   \n",
       "14578                        -299.235675  ...   \n",
       "\n",
       "       secondary_cleaner.state.floatbank4_b_air  \\\n",
       "0                                     12.099931   \n",
       "1                                     11.950531   \n",
       "2                                     11.912783   \n",
       "3                                     11.999550   \n",
       "4                                     11.953070   \n",
       "...                                         ...   \n",
       "14574                                 20.034440   \n",
       "14575                                 19.988437   \n",
       "14576                                 20.007571   \n",
       "14577                                 20.035660   \n",
       "14578                                 19.951231   \n",
       "\n",
       "       secondary_cleaner.state.floatbank4_b_level  \\\n",
       "0                                     -504.715942   \n",
       "1                                     -501.331529   \n",
       "2                                     -501.133383   \n",
       "3                                     -501.193686   \n",
       "4                                     -501.053894   \n",
       "...                                           ...   \n",
       "14574                                 -499.842047   \n",
       "14575                                 -500.125966   \n",
       "14576                                 -499.740028   \n",
       "14577                                 -500.251357   \n",
       "14578                                 -499.857027   \n",
       "\n",
       "       secondary_cleaner.state.floatbank5_a_air  \\\n",
       "0                                      9.925633   \n",
       "1                                     10.039245   \n",
       "2                                     10.070913   \n",
       "3                                      9.970366   \n",
       "4                                      9.925709   \n",
       "...                                         ...   \n",
       "14574                                 18.001504   \n",
       "14575                                 18.011724   \n",
       "14576                                 18.006038   \n",
       "14577                                 17.998535   \n",
       "14578                                 18.019543   \n",
       "\n",
       "       secondary_cleaner.state.floatbank5_a_level  \\\n",
       "0                                     -498.310211   \n",
       "1                                     -500.169983   \n",
       "2                                     -500.129135   \n",
       "3                                     -499.201640   \n",
       "4                                     -501.686727   \n",
       "...                                           ...   \n",
       "14574                                 -499.872052   \n",
       "14575                                 -500.090861   \n",
       "14576                                 -499.834374   \n",
       "14577                                 -500.395178   \n",
       "14578                                 -500.451156   \n",
       "\n",
       "       secondary_cleaner.state.floatbank5_b_air  \\\n",
       "0                                      8.079666   \n",
       "1                                      7.984757   \n",
       "2                                      8.013877   \n",
       "3                                      7.977324   \n",
       "4                                      7.894242   \n",
       "...                                         ...   \n",
       "14574                                 12.998309   \n",
       "14575                                 13.007108   \n",
       "14576                                 13.001114   \n",
       "14577                                 12.954048   \n",
       "14578                                 13.023431   \n",
       "\n",
       "       secondary_cleaner.state.floatbank5_b_level  \\\n",
       "0                                     -500.470978   \n",
       "1                                     -500.582168   \n",
       "2                                     -500.517572   \n",
       "3                                     -500.255908   \n",
       "4                                     -500.356035   \n",
       "...                                           ...   \n",
       "14574                                 -500.027809   \n",
       "14575                                 -500.258238   \n",
       "14576                                 -500.155694   \n",
       "14577                                 -499.895163   \n",
       "14578                                 -499.914391   \n",
       "\n",
       "       secondary_cleaner.state.floatbank6_a_air  \\\n",
       "0                                     14.151341   \n",
       "1                                     13.998353   \n",
       "2                                     14.028663   \n",
       "3                                     14.005551   \n",
       "4                                     13.996647   \n",
       "...                                         ...   \n",
       "14574                                 20.007108   \n",
       "14575                                 19.983872   \n",
       "14576                                 20.007840   \n",
       "14577                                 19.968498   \n",
       "14578                                 19.990885   \n",
       "\n",
       "       secondary_cleaner.state.floatbank6_a_level  rougher.output.recovery  \\\n",
       "0                                     -605.841980                87.107763   \n",
       "1                                     -599.787184                86.843261   \n",
       "2                                     -601.427363                86.842308   \n",
       "3                                     -599.996129                87.226430   \n",
       "4                                     -601.496691                86.688794   \n",
       "...                                           ...                      ...   \n",
       "14574                                 -500.850685                87.684717   \n",
       "14575                                 -502.581707                90.677361   \n",
       "14576                                 -501.296428                89.574376   \n",
       "14577                                 -501.041608                87.724007   \n",
       "14578                                 -501.518452                88.890579   \n",
       "\n",
       "       final.output.recovery  \n",
       "0                  70.541216  \n",
       "1                  69.266198  \n",
       "2                  68.116445  \n",
       "3                  68.347543  \n",
       "4                  66.927016  \n",
       "...                      ...  \n",
       "14574              64.054699  \n",
       "14575              68.643324  \n",
       "14576              73.755150  \n",
       "14577              69.049291  \n",
       "14578              67.002189  \n",
       "\n",
       "[12802 rows x 54 columns]"
      ]
     },
     "execution_count": 186,
     "metadata": {},
     "output_type": "execute_result"
    }
   ],
   "source": [
    "df_train[NUMERIC_COLUMNS]"
   ]
  },
  {
   "cell_type": "markdown",
   "metadata": {},
   "source": [
    "### Линейная регрессия"
   ]
  },
  {
   "cell_type": "markdown",
   "metadata": {},
   "source": [
    "Масштабируем данные"
   ]
  },
  {
   "cell_type": "code",
   "execution_count": 187,
   "metadata": {},
   "outputs": [],
   "source": [
    "scaler = StandardScaler()"
   ]
  },
  {
   "cell_type": "code",
   "execution_count": 188,
   "metadata": {},
   "outputs": [],
   "source": [
    "scaler.fit(features_train)\n",
    "\n",
    "features_train_scaled = scaler.transform(features_train)\n",
    "features_test_scaled = scaler.transform(features_test)"
   ]
  },
  {
   "cell_type": "code",
   "execution_count": 189,
   "metadata": {},
   "outputs": [],
   "source": [
    "model_l_r = LinearRegression()\n",
    "model_l_f = LinearRegression() "
   ]
  },
  {
   "cell_type": "code",
   "execution_count": 190,
   "metadata": {},
   "outputs": [
    {
     "data": {
      "text/plain": [
       "LinearRegression()"
      ]
     },
     "execution_count": 190,
     "metadata": {},
     "output_type": "execute_result"
    }
   ],
   "source": [
    "model_l_r.fit(features_train_scaled,target_train_roug_rec)\n",
    "model_l_f.fit(features_train_scaled,target_train_fin_rec)"
   ]
  },
  {
   "cell_type": "code",
   "execution_count": 191,
   "metadata": {},
   "outputs": [
    {
     "name": "stdout",
     "output_type": "stream",
     "text": [
      "CPU times: user 1.43 s, sys: 1.8 s, total: 3.23 s\n",
      "Wall time: 3.49 s\n"
     ]
    }
   ],
   "source": [
    "%%time\n",
    "predictions_train_cross_roug_rec = cross_val_predict(model_l_r, features_train_scaled, target_train_roug_rec, cv=5)\n",
    "predictions_train_cross_fin_rec = cross_val_predict(model_l_f, features_train_scaled, target_train_fin_rec, cv=5)"
   ]
  },
  {
   "cell_type": "code",
   "execution_count": 192,
   "metadata": {},
   "outputs": [
    {
     "name": "stdout",
     "output_type": "stream",
     "text": [
      "sMAPE для rougher.recovery 6.91 %\n",
      "sMAPE для final.recovery 9.09 %\n",
      "Агрегированная оценка модели линейной регрессии равнa 8.545 %\n"
     ]
    }
   ],
   "source": [
    "smape_r_l = round(sMAPE(target_train_roug_rec,predictions_train_cross_roug_rec ),2)\n",
    "smape_f_l = round(sMAPE(target_train_fin_rec,predictions_train_cross_fin_rec ),2)\n",
    "print('sMAPE для rougher.recovery',round(sMAPE(target_train_roug_rec,predictions_train_cross_roug_rec ),2),'%')\n",
    "print('sMAPE для final.recovery',round(sMAPE(target_train_fin_rec,predictions_train_cross_fin_rec ),2),'%')\n",
    "\n",
    "print('Агрегированная оценка модели линейной регрессии равнa', 0.25*smape_r_l+0.75*smape_f_l,'%' )"
   ]
  },
  {
   "cell_type": "markdown",
   "metadata": {},
   "source": [
    "Результат интересный, интерпретируется это так, ошибка предсказаний для первого восстановления составляет примерно 11.02%, 5.49% для финального. Сравним с другими моделями."
   ]
  },
  {
   "cell_type": "markdown",
   "metadata": {},
   "source": [
    "### Дерево решений"
   ]
  },
  {
   "cell_type": "code",
   "execution_count": 201,
   "metadata": {},
   "outputs": [
    {
     "name": "stdout",
     "output_type": "stream",
     "text": [
      "best_depth для rougher 5\n",
      "best_depth для final 2\n",
      "CPU times: user 16.9 s, sys: 15.1 ms, total: 16.9 s\n",
      "Wall time: 16.9 s\n"
     ]
    }
   ],
   "source": [
    "%%time\n",
    "\n",
    "best_depth_r = 0\n",
    "best_depth_f = 0\n",
    "\n",
    "smape_tree_best_r = 1e300\n",
    "model_tree_r_best = None\n",
    "smape_tree_best_f = 1e300\n",
    "model_tree_f_best = None\n",
    "\n",
    "depthes = [None] + [i for i in range(2, 7)]\n",
    "for depth in depthes:\n",
    "    model_tree_r = DecisionTreeRegressor(max_depth=depth, random_state=12345)\n",
    "    model_tree_f = DecisionTreeRegressor(max_depth=depth, random_state=12345)\n",
    " \n",
    "    predictions_train_cross_roug_rec = cross_val_predict(model_tree_r, features_train, target_train_roug_rec, cv=5)\n",
    "    \n",
    "    smape_r = sMAPE(target_train_roug_rec,predictions_train_cross_roug_rec)\n",
    "    if smape_tree_best_r > smape_r:\n",
    "        best_depth_r = depth\n",
    "        model_tree_r_best = model_tree_r\n",
    "        smape_tree_best_r = smape_r\n",
    "        \n",
    "        \n",
    "    predictions_train_cross_fin_rec = cross_val_predict(model_tree_f, features_train, target_train_fin_rec, cv=5)\n",
    "    \n",
    "    smape_f = sMAPE(target_train_fin_rec,predictions_train_cross_fin_rec)\n",
    "    if smape_tree_best_f > smape_f:\n",
    "        best_depth_f = depth\n",
    "        model_tree_f_best = model_tree_f\n",
    "        smape_tree_best_f = smape_f\n",
    "\n",
    "print('best_depth для rougher', best_depth_r)\n",
    "print('best_depth для final', best_depth_f)"
   ]
  },
  {
   "cell_type": "code",
   "execution_count": 202,
   "metadata": {},
   "outputs": [],
   "source": [
    "# model_tree_f_best = DecisionTreeRegressor(max_depth=best_depth, random_state=12345)\n",
    "# predictions_train_cross_fin_rec = cross_val_predict(model_tree_f_best, features_train, target_train_fin_rec, cv=5)"
   ]
  },
  {
   "cell_type": "code",
   "execution_count": 203,
   "metadata": {},
   "outputs": [],
   "source": [
    "smape_r_tree = round(sMAPE(target_train_roug_rec,predictions_train_cross_roug_rec ),2)\n",
    "smape_f_tree = round(sMAPE(target_train_fin_rec,predictions_train_cross_fin_rec ),2)"
   ]
  },
  {
   "cell_type": "code",
   "execution_count": 204,
   "metadata": {},
   "outputs": [
    {
     "name": "stdout",
     "output_type": "stream",
     "text": [
      "Best max_depth for rougher.recovery 5\n",
      "sMAPE для rougher.recovery 6.55 %\n",
      "---------------------------------------------------\n",
      "Best max_depth for final.recovery 5\n",
      "sMAPE для final.recovery 9.56 %\n",
      "Агрегированная оценка модели линейной регрессии равнa 8.545 %\n"
     ]
    }
   ],
   "source": [
    "print('Best max_depth for rougher.recovery', best_depth)       \n",
    "print('sMAPE для rougher.recovery',round(sMAPE(target_train_roug_rec,predictions_train_cross_roug_rec ),2),'%')\n",
    "print('---------------------------------------------------')\n",
    "print('Best max_depth for final.recovery', best_depth)\n",
    "print('sMAPE для final.recovery',round(sMAPE(target_train_fin_rec,predictions_train_cross_fin_rec ),2),'%')\n",
    "\n",
    "print('Агрегированная оценка модели линейной регрессии равнa', 0.25*smape_r_l+0.75*smape_f_l,'%' )"
   ]
  },
  {
   "cell_type": "markdown",
   "metadata": {},
   "source": [
    "Отличный результат, ошибка предсказания восстановления после первого грубого этапа равна ~6.5%, что значительно лучше, чем у линейной регрессии. Ошибка после финального этапа равна примерно 9.4%, что тоже лучше линейной регрессии, перейдем к случайному лесу"
   ]
  },
  {
   "cell_type": "markdown",
   "metadata": {},
   "source": [
    "### Случайный лес"
   ]
  },
  {
   "cell_type": "code",
   "execution_count": 197,
   "metadata": {},
   "outputs": [
    {
     "name": "stderr",
     "output_type": "stream",
     "text": [
      "100%|██████████| 6/6 [11:50<00:00, 118.36s/it]"
     ]
    },
    {
     "name": "stdout",
     "output_type": "stream",
     "text": [
      "CPU times: user 11min 48s, sys: 0 ns, total: 11min 48s\n",
      "Wall time: 11min 50s\n"
     ]
    },
    {
     "name": "stderr",
     "output_type": "stream",
     "text": [
      "\n"
     ]
    }
   ],
   "source": [
    "%%time\n",
    "best_depth_r = 0\n",
    "\n",
    "\n",
    "best_est_r = 0\n",
    "\n",
    "\n",
    "best_model_forest_r = None\n",
    "best_model_forest_f = None\n",
    "\n",
    "smape_forest_best_r = 1e300\n",
    "\n",
    "depthes = [None]+[i for i in range(2,7)]\n",
    "for depth in tqdm(depthes):\n",
    "    for est in range(10,121,25):\n",
    "        \n",
    "        model_forest_r = RandomForestRegressor(n_estimators=est, max_depth=depth, random_state=12345)\n",
    "        \n",
    "        predictions_train_cross_roug_rec_forest = cross_val_predict(model_forest_r, features_train, target_train_roug_rec, cv=3)\n",
    "        \n",
    "        smape_r_forest = sMAPE(target_train_roug_rec,predictions_train_cross_roug_rec_forest)\n",
    "        if smape_r_forest < smape_forest_best_r:\n",
    "            smape_forest_best_r = smape_r_forest\n",
    "            best_depth_r = depth\n",
    "            best_est_r = est\n",
    "            best_model_forest_r = model_forest_r\n",
    "            "
   ]
  },
  {
   "cell_type": "code",
   "execution_count": 199,
   "metadata": {},
   "outputs": [
    {
     "name": "stderr",
     "output_type": "stream",
     "text": [
      "100%|██████████| 6/6 [12:24<00:00, 124.17s/it]"
     ]
    },
    {
     "name": "stdout",
     "output_type": "stream",
     "text": [
      "CPU times: user 12min 21s, sys: 697 ms, total: 12min 22s\n",
      "Wall time: 12min 24s\n"
     ]
    },
    {
     "name": "stderr",
     "output_type": "stream",
     "text": [
      "\n"
     ]
    }
   ],
   "source": [
    "%%time\n",
    "best_depth_f = 0\n",
    "\n",
    "best_est_f = 0\n",
    "\n",
    "\n",
    "best_model_forest_r = None\n",
    "best_model_forest_f = None\n",
    "\n",
    "smape_forest_best_f = 1e300\n",
    "\n",
    "depthes = [None]+[i for i in range(2,7)]\n",
    "for depth in tqdm(depthes):\n",
    "    for est in range(10,121,25):\n",
    "        \n",
    "        model_forest_f = RandomForestRegressor(n_estimators=est, max_depth=depth, random_state=12345)\n",
    "        \n",
    "        predictions_train_cross_fin_rec_forest = cross_val_predict(model_forest_f, features_train, target_train_fin_rec, cv=3)\n",
    "        \n",
    "        smape_f_forest = sMAPE(target_train_fin_rec,predictions_train_cross_fin_rec_forest)\n",
    "        if smape_f_forest < smape_forest_best_f:\n",
    "            smape_forest_best_f = smape_f_forest\n",
    "            best_depth_f = depth\n",
    "            best_est_f = est\n",
    "            best_model_forest_f = model_forest_f\n",
    "            "
   ]
  },
  {
   "cell_type": "code",
   "execution_count": 216,
   "metadata": {},
   "outputs": [
    {
     "name": "stdout",
     "output_type": "stream",
     "text": [
      "Этап: rougher\n",
      "Лучшее количество деревьев 35\n",
      "Лучшая глубина 5\n",
      "sMAPE для rougher.recovery 6.14 %\n",
      "----------------------------------------\n",
      "Этап: final\n",
      "Лучшее количество деревьев 10\n",
      "Лучшая глубина 2\n",
      "sMAPE для final.recovery 8.69 %\n",
      "Агрегированная оценка модели случайного леса равнa 8.0525 %\n"
     ]
    }
   ],
   "source": [
    "print('Этап: rougher')\n",
    "print('Лучшее количество деревьев', best_est_r)\n",
    "print('Лучшая глубина', best_depth_r)\n",
    "print('sMAPE для rougher.recovery', round(smape_forest_best_r,2),'%')\n",
    "print('----------------------------------------')\n",
    "print('Этап: final')\n",
    "print('Лучшее количество деревьев', best_est_f)\n",
    "print('Лучшая глубина', best_depth_f)\n",
    "print('sMAPE для final.recovery', round(smape_forest_best_f,2),'%')\n",
    "\n",
    "print('Агрегированная оценка модели случайного леса равнa', 0.25*round(smape_forest_best_r,2)+0.75*round(smape_forest_best_f,2),'%' )"
   ]
  },
  {
   "cell_type": "markdown",
   "metadata": {},
   "source": [
    "Интересный результат, ошибка предсказания восстановления после первого грубого этапа равна `6.14`%, что значительно лучше, чем у линейной регрессии. Ошибка после финального этапа равна примерно `8.57`%. Результаты случайного леса лучше чем все остальные модели"
   ]
  },
  {
   "cell_type": "markdown",
   "metadata": {},
   "source": [
    "### Подведение итогов"
   ]
  },
  {
   "cell_type": "markdown",
   "metadata": {},
   "source": [
    "Лучшей моделью на кросс-валидации оказался случайный лес, его агрегированная оценка равна 7.9625%. Значит можем переходить к проверке модели на тестовой выборке"
   ]
  },
  {
   "cell_type": "markdown",
   "metadata": {},
   "source": [
    "### проверка на тестовой выборке"
   ]
  },
  {
   "cell_type": "code",
   "execution_count": 207,
   "metadata": {},
   "outputs": [
    {
     "name": "stdout",
     "output_type": "stream",
     "text": [
      "CPU times: user 7.76 s, sys: 12.1 ms, total: 7.77 s\n",
      "Wall time: 7.78 s\n"
     ]
    },
    {
     "data": {
      "text/plain": [
       "RandomForestRegressor(max_depth=2, n_estimators=10, random_state=12345)"
      ]
     },
     "execution_count": 207,
     "metadata": {},
     "output_type": "execute_result"
    }
   ],
   "source": [
    "%%time\n",
    "model_r = RandomForestRegressor(n_estimators=best_est_r, max_depth=best_depth_r,random_state=12345)\n",
    "model_f = RandomForestRegressor(n_estimators=best_est_f, max_depth=best_depth_f,random_state=12345)\n",
    "\n",
    "model_r.fit(features_train, target_train_roug_rec)\n",
    "model_f.fit(features_train, target_train_fin_rec)"
   ]
  },
  {
   "cell_type": "code",
   "execution_count": 208,
   "metadata": {},
   "outputs": [
    {
     "name": "stdout",
     "output_type": "stream",
     "text": [
      "sMAPE для rougher.recovery 3.7742179673791303\n",
      "sMAPE для final.recovery 8.457278219420909\n"
     ]
    }
   ],
   "source": [
    "predictions_test_r = model_r.predict(features_test)\n",
    "predictions_test_f = model_f.predict(features_test)\n",
    "\n",
    "print('sMAPE для rougher.recovery', sMAPE(target_test_roug_rec, predictions_test_r))\n",
    "print('sMAPE для final.recovery', sMAPE(target_test_fin_rec, predictions_test_f))"
   ]
  },
  {
   "cell_type": "markdown",
   "metadata": {},
   "source": [
    "Отличный результат, ошибка предсказания восстановления после первого грубого этапа равна 0.5%, что значительно лучше, чем у линейной регрессии. Ошибка после финального этапа равна примерно 1%"
   ]
  },
  {
   "cell_type": "markdown",
   "metadata": {},
   "source": [
    "Итоговый sMAPE равен `0.25*smape(rougher)+0.75*smape(final)`"
   ]
  },
  {
   "cell_type": "code",
   "execution_count": 209,
   "metadata": {},
   "outputs": [],
   "source": [
    "ans_smape = 0.25*sMAPE(target_test_roug_rec, predictions_test_r)+0.75*sMAPE(target_test_fin_rec, predictions_test_f)"
   ]
  },
  {
   "cell_type": "code",
   "execution_count": 210,
   "metadata": {},
   "outputs": [
    {
     "name": "stdout",
     "output_type": "stream",
     "text": [
      "Итоговый smape 7.29 %\n"
     ]
    }
   ],
   "source": [
    "print('Итоговый smape', round(ans_smape,2),'%')"
   ]
  },
  {
   "cell_type": "markdown",
   "metadata": {},
   "source": [
    "### Проверка модели  на адекватность"
   ]
  },
  {
   "cell_type": "code",
   "execution_count": 211,
   "metadata": {},
   "outputs": [
    {
     "data": {
      "text/plain": [
       "DummyRegressor()"
      ]
     },
     "execution_count": 211,
     "metadata": {},
     "output_type": "execute_result"
    }
   ],
   "source": [
    "dummy_regr_r = DummyRegressor(strategy=\"mean\")\n",
    "dummy_regr_f = DummyRegressor(strategy=\"mean\")\n",
    "\n",
    "dummy_regr_r.fit(features_train, target_train_roug_rec)\n",
    "dummy_regr_f.fit(features_train, target_train_fin_rec)"
   ]
  },
  {
   "cell_type": "code",
   "execution_count": 212,
   "metadata": {},
   "outputs": [],
   "source": [
    "dummy_preds_r = dummy_regr_r.predict(features_test)\n",
    "dummy_preds_f = dummy_regr_f.predict(features_test)"
   ]
  },
  {
   "cell_type": "code",
   "execution_count": 213,
   "metadata": {},
   "outputs": [
    {
     "name": "stdout",
     "output_type": "stream",
     "text": [
      "sMAPE константного классификатора для rougher.recovery 6.021534116607876\n",
      "sMAPE константного классификатора для final.recovery 9.184064500144073\n",
      "Агрегированная оценка константного классификатора 8.393431904260023\n"
     ]
    }
   ],
   "source": [
    "smape_dum_r = sMAPE(target_test_roug_rec, dummy_preds_r)\n",
    "smape_dum_f = sMAPE(target_test_fin_rec, dummy_preds_f)\n",
    "\n",
    "print('sMAPE константного классификатора для rougher.recovery', smape_dum_r)\n",
    "print('sMAPE константного классификатора для final.recovery', smape_dum_f)\n",
    "\n",
    "print('Агрегированная оценка константного классификатора', 0.25*smape_dum_r+0.75*smape_dum_f)"
   ]
  },
  {
   "cell_type": "markdown",
   "metadata": {},
   "source": [
    "Наша модель прошла проверку на адекватность, опередив константнй классификатор на несколько процнентов."
   ]
  },
  {
   "cell_type": "markdown",
   "metadata": {},
   "source": [
    "## Подведение итогов"
   ]
  },
  {
   "cell_type": "markdown",
   "metadata": {},
   "source": [
    "Мы провели исследование нескольких моделей, лучшей оказался случайный лес. Теперь предприятие может заранее предсказать будет ли выгодным восстановление золото из руды."
   ]
  },
  {
   "cell_type": "markdown",
   "metadata": {},
   "source": [
    "Нам предстояло выполнить исследовательскую работу для производства, которое восстанавливает золото из руды.\n",
    "\n",
    "Наша работа состояло  из 4 этапов:\n",
    "\n",
    "    Подгтовка данных\n",
    "    Анализ данных\n",
    "    Модель\n",
    "    Подведение итогов\n",
    "\n",
    "1) Подготовка данных включила в себя открытие файлов и их изучение. Проверка эффективности обогащения. Замена пропусков в тестовой выборке. Замена пропусков\n",
    "\n",
    "2) Проанализировали изменение концентрации металлов. Сравненили распределения размеров гранул исходного сырья. Исследовали суммарные концентрации металлов на всех этапах\n",
    "\n",
    "3) Построенили и сравнили результатов моделей: линейной регрессии, дерево решений, случайный лес.\n",
    "\n",
    "4) проверили на адекватность результаты нашей модели сравни результаты с константным классификатором\n",
    "\n",
    "ТЕперь компания может заранее определить стоит запускать производство или нет\n"
   ]
  }
 ],
 "metadata": {
  "ExecuteTimeLog": [
   {
    "duration": 909,
    "start_time": "2023-07-27T09:55:29.253Z"
   },
   {
    "duration": 387,
    "start_time": "2023-07-27T09:56:41.494Z"
   },
   {
    "duration": 2020,
    "start_time": "2023-07-27T09:57:05.085Z"
   },
   {
    "duration": 677,
    "start_time": "2023-07-27T09:57:24.559Z"
   },
   {
    "duration": 19,
    "start_time": "2023-07-27T09:59:30.381Z"
   },
   {
    "duration": 17,
    "start_time": "2023-07-27T09:59:39.550Z"
   },
   {
    "duration": 4,
    "start_time": "2023-07-27T10:39:25.512Z"
   },
   {
    "duration": 14,
    "start_time": "2023-07-27T10:41:44.765Z"
   },
   {
    "duration": 18,
    "start_time": "2023-07-27T10:41:47.294Z"
   },
   {
    "duration": 10,
    "start_time": "2023-07-27T10:44:22.485Z"
   },
   {
    "duration": 9,
    "start_time": "2023-07-27T10:44:28.594Z"
   },
   {
    "duration": 13,
    "start_time": "2023-07-27T10:44:38.362Z"
   },
   {
    "duration": 11,
    "start_time": "2023-07-27T10:44:42.759Z"
   },
   {
    "duration": 14,
    "start_time": "2023-07-27T10:44:50.742Z"
   },
   {
    "duration": 14,
    "start_time": "2023-07-27T10:44:58.242Z"
   },
   {
    "duration": 16,
    "start_time": "2023-07-27T10:55:36.793Z"
   },
   {
    "duration": 19,
    "start_time": "2023-07-27T10:55:58.997Z"
   },
   {
    "duration": 5834,
    "start_time": "2023-07-27T10:57:01.713Z"
   },
   {
    "duration": 5,
    "start_time": "2023-07-27T10:57:20.886Z"
   },
   {
    "duration": 7,
    "start_time": "2023-07-27T10:57:28.495Z"
   },
   {
    "duration": 5,
    "start_time": "2023-07-27T10:57:38.897Z"
   },
   {
    "duration": 4309,
    "start_time": "2023-07-27T11:01:19.056Z"
   },
   {
    "duration": 15,
    "start_time": "2023-07-27T11:02:45.396Z"
   },
   {
    "duration": 6550,
    "start_time": "2023-07-27T11:02:59.212Z"
   },
   {
    "duration": 0,
    "start_time": "2023-07-27T11:03:42.984Z"
   },
   {
    "duration": 15027,
    "start_time": "2023-07-27T11:04:04.149Z"
   },
   {
    "duration": 2,
    "start_time": "2023-07-27T11:06:04.460Z"
   },
   {
    "duration": 11,
    "start_time": "2023-07-27T11:38:33.384Z"
   },
   {
    "duration": 7,
    "start_time": "2023-07-27T11:41:11.299Z"
   },
   {
    "duration": 17,
    "start_time": "2023-07-27T11:41:31.048Z"
   },
   {
    "duration": 20,
    "start_time": "2023-07-27T11:41:39.037Z"
   },
   {
    "duration": 14,
    "start_time": "2023-07-27T11:41:42.471Z"
   },
   {
    "duration": 8,
    "start_time": "2023-07-27T11:41:45.777Z"
   },
   {
    "duration": 19,
    "start_time": "2023-07-27T11:41:52.574Z"
   },
   {
    "duration": 7,
    "start_time": "2023-07-27T11:42:18.904Z"
   },
   {
    "duration": 13,
    "start_time": "2023-07-27T11:42:24.577Z"
   },
   {
    "duration": 26,
    "start_time": "2023-07-27T11:43:27.370Z"
   },
   {
    "duration": 27,
    "start_time": "2023-07-27T11:44:02.318Z"
   },
   {
    "duration": 16,
    "start_time": "2023-07-27T11:44:03.381Z"
   },
   {
    "duration": 16,
    "start_time": "2023-07-27T11:44:15.281Z"
   },
   {
    "duration": 32,
    "start_time": "2023-07-27T11:44:28.045Z"
   },
   {
    "duration": 2,
    "start_time": "2023-07-27T11:44:40.184Z"
   },
   {
    "duration": 5,
    "start_time": "2023-07-27T11:44:40.974Z"
   },
   {
    "duration": 910,
    "start_time": "2023-07-27T11:44:41.543Z"
   },
   {
    "duration": 22,
    "start_time": "2023-07-27T11:44:42.454Z"
   },
   {
    "duration": 34,
    "start_time": "2023-07-27T11:44:42.477Z"
   },
   {
    "duration": 26,
    "start_time": "2023-07-27T11:44:42.512Z"
   },
   {
    "duration": 62,
    "start_time": "2023-07-27T11:44:42.540Z"
   },
   {
    "duration": 15,
    "start_time": "2023-07-27T11:44:42.604Z"
   },
   {
    "duration": 2,
    "start_time": "2023-07-27T11:44:42.633Z"
   },
   {
    "duration": 14111,
    "start_time": "2023-07-27T11:44:42.803Z"
   },
   {
    "duration": 23,
    "start_time": "2023-07-27T11:44:56.915Z"
   },
   {
    "duration": 65,
    "start_time": "2023-07-27T11:44:56.942Z"
   },
   {
    "duration": 4,
    "start_time": "2023-07-27T11:44:57.008Z"
   },
   {
    "duration": 35,
    "start_time": "2023-07-27T11:44:57.014Z"
   },
   {
    "duration": 11,
    "start_time": "2023-07-27T11:46:11.333Z"
   },
   {
    "duration": 4769,
    "start_time": "2023-07-27T11:46:26.773Z"
   },
   {
    "duration": 4701,
    "start_time": "2023-07-27T11:46:37.218Z"
   },
   {
    "duration": 30,
    "start_time": "2023-07-27T11:47:33.015Z"
   },
   {
    "duration": 20,
    "start_time": "2023-07-27T11:48:04.573Z"
   },
   {
    "duration": 12,
    "start_time": "2023-07-27T11:48:18.454Z"
   },
   {
    "duration": 14,
    "start_time": "2023-07-27T11:48:41.198Z"
   },
   {
    "duration": 11,
    "start_time": "2023-07-27T11:48:54.492Z"
   },
   {
    "duration": 3807,
    "start_time": "2023-07-27T11:49:41.594Z"
   },
   {
    "duration": 20,
    "start_time": "2023-07-27T11:50:01.450Z"
   },
   {
    "duration": 1206,
    "start_time": "2023-07-27T11:50:13.645Z"
   },
   {
    "duration": 1039,
    "start_time": "2023-07-27T11:50:14.853Z"
   },
   {
    "duration": 23,
    "start_time": "2023-07-27T11:50:15.893Z"
   },
   {
    "duration": 39,
    "start_time": "2023-07-27T11:50:15.929Z"
   },
   {
    "duration": 96,
    "start_time": "2023-07-27T11:50:15.975Z"
   },
   {
    "duration": 144,
    "start_time": "2023-07-27T11:50:16.073Z"
   },
   {
    "duration": 231,
    "start_time": "2023-07-27T11:50:16.219Z"
   },
   {
    "duration": 109,
    "start_time": "2023-07-27T11:50:16.452Z"
   },
   {
    "duration": 15439,
    "start_time": "2023-07-27T11:50:16.562Z"
   },
   {
    "duration": 25,
    "start_time": "2023-07-27T11:50:32.003Z"
   },
   {
    "duration": 95,
    "start_time": "2023-07-27T11:50:32.032Z"
   },
   {
    "duration": 4600,
    "start_time": "2023-07-27T11:50:32.129Z"
   },
   {
    "duration": 0,
    "start_time": "2023-07-27T11:50:36.732Z"
   },
   {
    "duration": 0,
    "start_time": "2023-07-27T11:50:36.745Z"
   },
   {
    "duration": 15,
    "start_time": "2023-07-27T11:50:47.202Z"
   },
   {
    "duration": 23,
    "start_time": "2023-07-27T11:50:57.396Z"
   },
   {
    "duration": 14,
    "start_time": "2023-07-27T11:51:10.001Z"
   },
   {
    "duration": 25,
    "start_time": "2023-07-27T11:51:17.039Z"
   },
   {
    "duration": 44,
    "start_time": "2023-07-27T11:51:21.350Z"
   },
   {
    "duration": 935,
    "start_time": "2023-07-27T11:52:28.284Z"
   },
   {
    "duration": 1094,
    "start_time": "2023-07-27T11:52:29.229Z"
   },
   {
    "duration": 20,
    "start_time": "2023-07-27T11:52:30.324Z"
   },
   {
    "duration": 244,
    "start_time": "2023-07-27T11:52:30.345Z"
   },
   {
    "duration": 15,
    "start_time": "2023-07-27T11:52:30.592Z"
   },
   {
    "duration": 122,
    "start_time": "2023-07-27T11:52:30.608Z"
   },
   {
    "duration": 80,
    "start_time": "2023-07-27T11:52:30.732Z"
   },
   {
    "duration": 84,
    "start_time": "2023-07-27T11:52:30.814Z"
   },
   {
    "duration": 14679,
    "start_time": "2023-07-27T11:52:30.900Z"
   },
   {
    "duration": 17,
    "start_time": "2023-07-27T11:52:45.581Z"
   },
   {
    "duration": 56,
    "start_time": "2023-07-27T11:52:45.600Z"
   },
   {
    "duration": 79,
    "start_time": "2023-07-27T11:52:45.663Z"
   },
   {
    "duration": 98,
    "start_time": "2023-07-27T11:52:45.744Z"
   },
   {
    "duration": 185,
    "start_time": "2023-07-27T11:52:45.845Z"
   },
   {
    "duration": 21,
    "start_time": "2023-07-27T11:52:57.949Z"
   },
   {
    "duration": 11,
    "start_time": "2023-07-27T11:53:25.753Z"
   },
   {
    "duration": 28,
    "start_time": "2023-07-27T11:53:31.619Z"
   },
   {
    "duration": 11,
    "start_time": "2023-07-27T12:06:06.534Z"
   },
   {
    "duration": 5,
    "start_time": "2023-07-27T12:06:17.270Z"
   },
   {
    "duration": 4,
    "start_time": "2023-07-27T12:06:23.611Z"
   },
   {
    "duration": 4,
    "start_time": "2023-07-27T12:06:33.965Z"
   },
   {
    "duration": 1589,
    "start_time": "2023-07-27T12:11:47.656Z"
   },
   {
    "duration": 158,
    "start_time": "2023-07-27T12:12:45.887Z"
   },
   {
    "duration": 4910,
    "start_time": "2023-07-27T12:13:19.046Z"
   },
   {
    "duration": 6197,
    "start_time": "2023-07-27T12:13:31.652Z"
   },
   {
    "duration": 9,
    "start_time": "2023-07-27T12:14:34.000Z"
   },
   {
    "duration": 1356,
    "start_time": "2023-07-27T12:26:06.953Z"
   },
   {
    "duration": 956,
    "start_time": "2023-07-27T12:26:08.311Z"
   },
   {
    "duration": 29,
    "start_time": "2023-07-27T12:26:09.269Z"
   },
   {
    "duration": 33,
    "start_time": "2023-07-27T12:26:09.300Z"
   },
   {
    "duration": 40,
    "start_time": "2023-07-27T12:26:09.335Z"
   },
   {
    "duration": 59,
    "start_time": "2023-07-27T12:26:09.378Z"
   },
   {
    "duration": 26,
    "start_time": "2023-07-27T12:26:09.439Z"
   },
   {
    "duration": 14,
    "start_time": "2023-07-27T12:26:09.468Z"
   },
   {
    "duration": 26,
    "start_time": "2023-07-27T12:26:09.484Z"
   },
   {
    "duration": 9,
    "start_time": "2023-07-27T12:26:09.513Z"
   },
   {
    "duration": 65,
    "start_time": "2023-07-27T12:26:09.523Z"
   },
   {
    "duration": 20,
    "start_time": "2023-07-27T12:26:09.590Z"
   },
   {
    "duration": 73,
    "start_time": "2023-07-27T12:26:09.612Z"
   },
   {
    "duration": 27,
    "start_time": "2023-07-27T12:26:09.688Z"
   },
   {
    "duration": 37,
    "start_time": "2023-07-27T12:26:09.717Z"
   },
   {
    "duration": 3,
    "start_time": "2023-07-27T12:31:15.902Z"
   },
   {
    "duration": 5,
    "start_time": "2023-07-27T12:31:20.082Z"
   },
   {
    "duration": 1954,
    "start_time": "2023-07-27T12:31:34.659Z"
   },
   {
    "duration": 963,
    "start_time": "2023-07-27T12:31:36.615Z"
   },
   {
    "duration": 19,
    "start_time": "2023-07-27T12:31:37.579Z"
   },
   {
    "duration": 66,
    "start_time": "2023-07-27T12:31:37.599Z"
   },
   {
    "duration": 9,
    "start_time": "2023-07-27T12:31:37.676Z"
   },
   {
    "duration": 30,
    "start_time": "2023-07-27T12:31:37.686Z"
   },
   {
    "duration": 35,
    "start_time": "2023-07-27T12:31:37.718Z"
   },
   {
    "duration": 32,
    "start_time": "2023-07-27T12:31:37.755Z"
   },
   {
    "duration": 16,
    "start_time": "2023-07-27T12:31:37.789Z"
   },
   {
    "duration": 18,
    "start_time": "2023-07-27T12:31:37.807Z"
   },
   {
    "duration": 46,
    "start_time": "2023-07-27T12:31:37.842Z"
   },
   {
    "duration": 20,
    "start_time": "2023-07-27T12:31:37.889Z"
   },
   {
    "duration": 63,
    "start_time": "2023-07-27T12:31:37.911Z"
   },
   {
    "duration": 34,
    "start_time": "2023-07-27T12:31:37.976Z"
   },
   {
    "duration": 41,
    "start_time": "2023-07-27T12:31:38.012Z"
   },
   {
    "duration": 39,
    "start_time": "2023-07-27T12:31:38.066Z"
   },
   {
    "duration": 1824,
    "start_time": "2023-07-27T12:32:02.787Z"
   },
   {
    "duration": 1198,
    "start_time": "2023-07-27T12:32:04.613Z"
   },
   {
    "duration": 56,
    "start_time": "2023-07-27T12:32:05.813Z"
   },
   {
    "duration": 115,
    "start_time": "2023-07-27T12:32:05.872Z"
   },
   {
    "duration": 63,
    "start_time": "2023-07-27T12:32:05.994Z"
   },
   {
    "duration": 86,
    "start_time": "2023-07-27T12:32:06.059Z"
   },
   {
    "duration": 55,
    "start_time": "2023-07-27T12:32:06.148Z"
   },
   {
    "duration": 62,
    "start_time": "2023-07-27T12:32:06.205Z"
   },
   {
    "duration": 50,
    "start_time": "2023-07-27T12:32:06.270Z"
   },
   {
    "duration": 86,
    "start_time": "2023-07-27T12:32:06.325Z"
   },
   {
    "duration": 81,
    "start_time": "2023-07-27T12:32:06.413Z"
   },
   {
    "duration": 87,
    "start_time": "2023-07-27T12:32:06.495Z"
   },
   {
    "duration": 215,
    "start_time": "2023-07-27T12:32:06.584Z"
   },
   {
    "duration": 0,
    "start_time": "2023-07-27T12:32:06.802Z"
   },
   {
    "duration": 0,
    "start_time": "2023-07-27T12:32:06.803Z"
   },
   {
    "duration": 0,
    "start_time": "2023-07-27T12:32:06.804Z"
   },
   {
    "duration": 0,
    "start_time": "2023-07-27T12:32:06.806Z"
   },
   {
    "duration": 24,
    "start_time": "2023-07-27T12:32:49.730Z"
   },
   {
    "duration": 4,
    "start_time": "2023-07-27T12:33:19.614Z"
   },
   {
    "duration": 585,
    "start_time": "2023-07-27T12:34:13.994Z"
   },
   {
    "duration": 12,
    "start_time": "2023-07-27T12:34:21.217Z"
   },
   {
    "duration": 7,
    "start_time": "2023-07-27T12:35:15.338Z"
   },
   {
    "duration": 9,
    "start_time": "2023-07-27T12:35:54.240Z"
   },
   {
    "duration": 579,
    "start_time": "2023-07-27T12:37:30.779Z"
   },
   {
    "duration": 644,
    "start_time": "2023-07-27T12:38:08.431Z"
   },
   {
    "duration": 609,
    "start_time": "2023-07-27T12:38:28.091Z"
   },
   {
    "duration": 617,
    "start_time": "2023-07-27T12:38:34.954Z"
   },
   {
    "duration": 20,
    "start_time": "2023-07-27T12:40:55.459Z"
   },
   {
    "duration": 29,
    "start_time": "2023-07-27T12:40:55.877Z"
   },
   {
    "duration": 22,
    "start_time": "2023-07-27T12:40:56.064Z"
   },
   {
    "duration": 10,
    "start_time": "2023-07-27T12:40:56.563Z"
   },
   {
    "duration": 15,
    "start_time": "2023-07-27T12:41:55.396Z"
   },
   {
    "duration": 25,
    "start_time": "2023-07-27T12:42:10.016Z"
   },
   {
    "duration": 12,
    "start_time": "2023-07-27T13:33:04.182Z"
   },
   {
    "duration": 10,
    "start_time": "2023-07-27T13:35:17.878Z"
   },
   {
    "duration": 5,
    "start_time": "2023-07-27T13:35:22.077Z"
   },
   {
    "duration": 11,
    "start_time": "2023-07-27T13:35:31.905Z"
   },
   {
    "duration": 14,
    "start_time": "2023-07-27T13:45:16.413Z"
   },
   {
    "duration": 42,
    "start_time": "2023-07-27T13:45:24.755Z"
   },
   {
    "duration": 56,
    "start_time": "2023-07-27T13:45:31.950Z"
   },
   {
    "duration": 16,
    "start_time": "2023-07-27T13:45:58.491Z"
   },
   {
    "duration": 50,
    "start_time": "2023-07-27T13:46:25.017Z"
   },
   {
    "duration": 33,
    "start_time": "2023-07-27T13:46:28.816Z"
   },
   {
    "duration": 26,
    "start_time": "2023-07-27T13:46:35.852Z"
   },
   {
    "duration": 25,
    "start_time": "2023-07-27T13:46:57.170Z"
   },
   {
    "duration": 26,
    "start_time": "2023-07-27T13:47:03.719Z"
   },
   {
    "duration": 14,
    "start_time": "2023-07-27T13:47:14.198Z"
   },
   {
    "duration": 37,
    "start_time": "2023-07-27T13:47:24.346Z"
   },
   {
    "duration": 29,
    "start_time": "2023-07-27T13:47:35.676Z"
   },
   {
    "duration": 63,
    "start_time": "2023-07-27T13:47:37.885Z"
   },
   {
    "duration": 51,
    "start_time": "2023-07-27T13:47:54.179Z"
   },
   {
    "duration": 19,
    "start_time": "2023-07-27T13:47:57.978Z"
   },
   {
    "duration": 43,
    "start_time": "2023-07-27T13:49:59.938Z"
   },
   {
    "duration": 37,
    "start_time": "2023-07-27T13:54:16.850Z"
   },
   {
    "duration": 42,
    "start_time": "2023-07-27T13:54:22.951Z"
   },
   {
    "duration": 22,
    "start_time": "2023-07-27T13:54:39.575Z"
   },
   {
    "duration": 35,
    "start_time": "2023-07-27T13:56:19.254Z"
   },
   {
    "duration": 4662,
    "start_time": "2023-07-27T13:57:05.238Z"
   },
   {
    "duration": 3482,
    "start_time": "2023-07-27T13:57:22.505Z"
   },
   {
    "duration": 3516,
    "start_time": "2023-07-27T13:57:32.353Z"
   },
   {
    "duration": 2032,
    "start_time": "2023-07-27T13:58:31.766Z"
   },
   {
    "duration": 61,
    "start_time": "2023-07-27T13:59:05.749Z"
   },
   {
    "duration": 107,
    "start_time": "2023-07-27T13:59:29.466Z"
   },
   {
    "duration": 133,
    "start_time": "2023-07-27T14:00:11.135Z"
   },
   {
    "duration": 104,
    "start_time": "2023-07-27T14:00:26.942Z"
   },
   {
    "duration": 5414,
    "start_time": "2023-07-27T14:00:45.335Z"
   },
   {
    "duration": 110,
    "start_time": "2023-07-27T14:01:01.936Z"
   },
   {
    "duration": 62,
    "start_time": "2023-07-27T14:01:25.853Z"
   },
   {
    "duration": 59,
    "start_time": "2023-07-27T14:01:44.243Z"
   },
   {
    "duration": 89,
    "start_time": "2023-07-27T14:02:04.496Z"
   },
   {
    "duration": 130,
    "start_time": "2023-07-27T14:02:14.444Z"
   },
   {
    "duration": 3233,
    "start_time": "2023-07-27T14:02:40.947Z"
   },
   {
    "duration": 106,
    "start_time": "2023-07-27T14:02:54.768Z"
   },
   {
    "duration": 98,
    "start_time": "2023-07-27T14:03:09.447Z"
   },
   {
    "duration": 91,
    "start_time": "2023-07-27T14:03:25.988Z"
   },
   {
    "duration": 77,
    "start_time": "2023-07-27T14:04:08.291Z"
   },
   {
    "duration": 106,
    "start_time": "2023-07-27T14:04:28.874Z"
   },
   {
    "duration": 112,
    "start_time": "2023-07-27T14:04:46.617Z"
   },
   {
    "duration": 85,
    "start_time": "2023-07-27T14:04:50.018Z"
   },
   {
    "duration": 98,
    "start_time": "2023-07-27T14:05:08.309Z"
   },
   {
    "duration": 99,
    "start_time": "2023-07-27T14:05:27.451Z"
   },
   {
    "duration": 46,
    "start_time": "2023-07-27T14:05:48.275Z"
   },
   {
    "duration": 97,
    "start_time": "2023-07-27T14:06:47.509Z"
   },
   {
    "duration": 76,
    "start_time": "2023-07-27T14:07:09.223Z"
   },
   {
    "duration": 71,
    "start_time": "2023-07-27T14:07:57.174Z"
   },
   {
    "duration": 40,
    "start_time": "2023-07-27T14:08:07.075Z"
   },
   {
    "duration": 98,
    "start_time": "2023-07-27T14:08:17.996Z"
   },
   {
    "duration": 93,
    "start_time": "2023-07-27T14:08:53.812Z"
   },
   {
    "duration": 93,
    "start_time": "2023-07-27T14:09:15.011Z"
   },
   {
    "duration": 119,
    "start_time": "2023-07-27T14:09:27.651Z"
   },
   {
    "duration": 95,
    "start_time": "2023-07-27T14:09:46.078Z"
   },
   {
    "duration": 87,
    "start_time": "2023-07-27T14:10:01.678Z"
   },
   {
    "duration": 73,
    "start_time": "2023-07-27T14:10:33.341Z"
   },
   {
    "duration": 106,
    "start_time": "2023-07-27T14:10:57.871Z"
   },
   {
    "duration": 16,
    "start_time": "2023-07-27T14:11:36.093Z"
   },
   {
    "duration": 107,
    "start_time": "2023-07-27T14:11:37.894Z"
   },
   {
    "duration": 4,
    "start_time": "2023-07-27T14:11:53.481Z"
   },
   {
    "duration": 5,
    "start_time": "2023-07-27T14:12:37.096Z"
   },
   {
    "duration": 10,
    "start_time": "2023-07-27T14:14:41.747Z"
   },
   {
    "duration": 5,
    "start_time": "2023-07-27T14:15:44.246Z"
   },
   {
    "duration": 43,
    "start_time": "2023-07-27T14:16:54.853Z"
   },
   {
    "duration": 4558,
    "start_time": "2023-07-27T14:17:07.150Z"
   },
   {
    "duration": 3023,
    "start_time": "2023-07-27T14:18:55.382Z"
   },
   {
    "duration": 20,
    "start_time": "2023-07-27T14:19:08.363Z"
   },
   {
    "duration": 27,
    "start_time": "2023-07-27T14:19:19.266Z"
   },
   {
    "duration": 2648,
    "start_time": "2023-07-27T14:19:36.392Z"
   },
   {
    "duration": 947,
    "start_time": "2023-07-27T14:19:39.048Z"
   },
   {
    "duration": 28,
    "start_time": "2023-07-27T14:19:39.997Z"
   },
   {
    "duration": 63,
    "start_time": "2023-07-27T14:19:40.029Z"
   },
   {
    "duration": 14,
    "start_time": "2023-07-27T14:19:40.093Z"
   },
   {
    "duration": 55,
    "start_time": "2023-07-27T14:19:40.108Z"
   },
   {
    "duration": 24,
    "start_time": "2023-07-27T14:19:40.164Z"
   },
   {
    "duration": 7,
    "start_time": "2023-07-27T14:19:40.190Z"
   },
   {
    "duration": 16,
    "start_time": "2023-07-27T14:19:40.199Z"
   },
   {
    "duration": 73,
    "start_time": "2023-07-27T14:19:40.218Z"
   },
   {
    "duration": 15,
    "start_time": "2023-07-27T14:19:40.293Z"
   },
   {
    "duration": 658,
    "start_time": "2023-07-27T14:19:40.309Z"
   },
   {
    "duration": 14,
    "start_time": "2023-07-27T14:19:40.968Z"
   },
   {
    "duration": 101,
    "start_time": "2023-07-27T14:19:40.983Z"
   },
   {
    "duration": 26,
    "start_time": "2023-07-27T14:19:41.086Z"
   },
   {
    "duration": 31,
    "start_time": "2023-07-27T14:19:41.114Z"
   },
   {
    "duration": 49,
    "start_time": "2023-07-27T14:19:41.146Z"
   },
   {
    "duration": 156,
    "start_time": "2023-07-27T14:19:41.197Z"
   },
   {
    "duration": 0,
    "start_time": "2023-07-27T14:19:41.355Z"
   },
   {
    "duration": 0,
    "start_time": "2023-07-27T14:19:41.357Z"
   },
   {
    "duration": 0,
    "start_time": "2023-07-27T14:19:41.358Z"
   },
   {
    "duration": 0,
    "start_time": "2023-07-27T14:19:41.360Z"
   },
   {
    "duration": 0,
    "start_time": "2023-07-27T14:19:41.361Z"
   },
   {
    "duration": 0,
    "start_time": "2023-07-27T14:19:41.362Z"
   },
   {
    "duration": 21,
    "start_time": "2023-07-27T14:19:55.084Z"
   },
   {
    "duration": 6,
    "start_time": "2023-07-27T14:19:56.709Z"
   },
   {
    "duration": 10,
    "start_time": "2023-07-27T14:19:57.060Z"
   },
   {
    "duration": 2,
    "start_time": "2023-07-27T14:19:57.212Z"
   },
   {
    "duration": 9080,
    "start_time": "2023-07-27T14:19:58.926Z"
   },
   {
    "duration": 2,
    "start_time": "2023-07-27T14:20:50.603Z"
   },
   {
    "duration": 806,
    "start_time": "2023-07-27T14:24:04.532Z"
   },
   {
    "duration": 98,
    "start_time": "2023-07-27T14:24:12.208Z"
   },
   {
    "duration": 126,
    "start_time": "2023-07-27T14:24:26.085Z"
   },
   {
    "duration": 92,
    "start_time": "2023-07-27T14:24:30.037Z"
   },
   {
    "duration": 100,
    "start_time": "2023-07-27T14:24:34.480Z"
   },
   {
    "duration": 130,
    "start_time": "2023-07-27T14:25:01.195Z"
   },
   {
    "duration": 90,
    "start_time": "2023-07-27T14:25:27.312Z"
   },
   {
    "duration": 84,
    "start_time": "2023-07-27T14:25:44.361Z"
   },
   {
    "duration": 178,
    "start_time": "2023-07-27T14:26:53.398Z"
   },
   {
    "duration": 61,
    "start_time": "2023-07-28T07:54:30.033Z"
   },
   {
    "duration": 1665,
    "start_time": "2023-07-28T07:54:37.159Z"
   },
   {
    "duration": 3477,
    "start_time": "2023-07-28T07:54:38.826Z"
   },
   {
    "duration": 21,
    "start_time": "2023-07-28T07:54:42.304Z"
   },
   {
    "duration": 26,
    "start_time": "2023-07-28T07:54:42.326Z"
   },
   {
    "duration": 16,
    "start_time": "2023-07-28T07:54:42.354Z"
   },
   {
    "duration": 16,
    "start_time": "2023-07-28T07:54:42.372Z"
   },
   {
    "duration": 13,
    "start_time": "2023-07-28T07:54:42.390Z"
   },
   {
    "duration": 2,
    "start_time": "2023-07-28T07:54:42.405Z"
   },
   {
    "duration": 10,
    "start_time": "2023-07-28T07:54:42.409Z"
   },
   {
    "duration": 26,
    "start_time": "2023-07-28T07:54:42.420Z"
   },
   {
    "duration": 9,
    "start_time": "2023-07-28T07:54:42.447Z"
   },
   {
    "duration": 477,
    "start_time": "2023-07-28T07:54:42.458Z"
   },
   {
    "duration": 24,
    "start_time": "2023-07-28T07:54:42.937Z"
   },
   {
    "duration": 23,
    "start_time": "2023-07-28T07:54:42.964Z"
   },
   {
    "duration": 39,
    "start_time": "2023-07-28T07:54:42.988Z"
   },
   {
    "duration": 10,
    "start_time": "2023-07-28T07:54:43.029Z"
   },
   {
    "duration": 23,
    "start_time": "2023-07-28T07:54:43.041Z"
   },
   {
    "duration": 3,
    "start_time": "2023-07-28T07:54:43.066Z"
   },
   {
    "duration": 8,
    "start_time": "2023-07-28T07:54:43.071Z"
   },
   {
    "duration": 5,
    "start_time": "2023-07-28T07:54:43.081Z"
   },
   {
    "duration": 35,
    "start_time": "2023-07-28T07:54:43.087Z"
   },
   {
    "duration": 16,
    "start_time": "2023-07-28T07:54:43.124Z"
   },
   {
    "duration": 11,
    "start_time": "2023-07-28T07:54:43.142Z"
   },
   {
    "duration": 7,
    "start_time": "2023-07-28T07:54:43.155Z"
   },
   {
    "duration": 87,
    "start_time": "2023-07-28T07:54:43.164Z"
   },
   {
    "duration": 50,
    "start_time": "2023-07-28T07:54:43.253Z"
   },
   {
    "duration": 81,
    "start_time": "2023-07-28T07:54:43.305Z"
   },
   {
    "duration": 101,
    "start_time": "2023-07-28T07:54:43.388Z"
   },
   {
    "duration": 4,
    "start_time": "2023-07-28T07:54:43.490Z"
   },
   {
    "duration": 92,
    "start_time": "2023-07-28T07:54:43.496Z"
   },
   {
    "duration": 109,
    "start_time": "2023-07-28T08:02:52.833Z"
   },
   {
    "duration": 216,
    "start_time": "2023-07-28T08:03:08.924Z"
   },
   {
    "duration": 90,
    "start_time": "2023-07-28T08:03:49.565Z"
   },
   {
    "duration": 255,
    "start_time": "2023-07-28T08:03:55.141Z"
   },
   {
    "duration": 233,
    "start_time": "2023-07-28T08:04:09.411Z"
   },
   {
    "duration": 318,
    "start_time": "2023-07-28T08:04:12.925Z"
   },
   {
    "duration": 251,
    "start_time": "2023-07-28T08:04:16.199Z"
   },
   {
    "duration": 261,
    "start_time": "2023-07-28T08:04:20.769Z"
   },
   {
    "duration": 3,
    "start_time": "2023-07-28T08:07:13.435Z"
   },
   {
    "duration": 98,
    "start_time": "2023-07-28T08:07:51.545Z"
   },
   {
    "duration": 4,
    "start_time": "2023-07-28T08:07:56.008Z"
   },
   {
    "duration": 2650,
    "start_time": "2023-07-28T08:10:51.437Z"
   },
   {
    "duration": 2839,
    "start_time": "2023-07-28T08:13:17.404Z"
   },
   {
    "duration": 3235,
    "start_time": "2023-07-28T08:14:06.753Z"
   },
   {
    "duration": 50,
    "start_time": "2023-07-28T12:43:15.837Z"
   },
   {
    "duration": 1872,
    "start_time": "2023-07-28T12:43:25.510Z"
   },
   {
    "duration": 2168,
    "start_time": "2023-07-28T12:43:27.384Z"
   },
   {
    "duration": 23,
    "start_time": "2023-07-28T12:43:29.554Z"
   },
   {
    "duration": 24,
    "start_time": "2023-07-28T12:43:29.578Z"
   },
   {
    "duration": 5,
    "start_time": "2023-07-28T12:43:29.608Z"
   },
   {
    "duration": 21,
    "start_time": "2023-07-28T12:43:29.616Z"
   },
   {
    "duration": 17,
    "start_time": "2023-07-28T12:43:29.640Z"
   },
   {
    "duration": 3,
    "start_time": "2023-07-28T12:43:29.660Z"
   },
   {
    "duration": 5,
    "start_time": "2023-07-28T12:43:29.665Z"
   },
   {
    "duration": 43,
    "start_time": "2023-07-28T12:43:29.672Z"
   },
   {
    "duration": 11,
    "start_time": "2023-07-28T12:43:29.717Z"
   },
   {
    "duration": 489,
    "start_time": "2023-07-28T12:43:29.730Z"
   },
   {
    "duration": 15,
    "start_time": "2023-07-28T12:43:30.221Z"
   },
   {
    "duration": 86,
    "start_time": "2023-07-28T12:43:30.240Z"
   },
   {
    "duration": 77,
    "start_time": "2023-07-28T12:43:30.328Z"
   },
   {
    "duration": 24,
    "start_time": "2023-07-28T12:43:30.407Z"
   },
   {
    "duration": 53,
    "start_time": "2023-07-28T12:43:30.432Z"
   },
   {
    "duration": 52,
    "start_time": "2023-07-28T12:43:30.487Z"
   },
   {
    "duration": 57,
    "start_time": "2023-07-28T12:43:30.541Z"
   },
   {
    "duration": 63,
    "start_time": "2023-07-28T12:43:30.600Z"
   },
   {
    "duration": 51,
    "start_time": "2023-07-28T12:43:30.666Z"
   },
   {
    "duration": 105,
    "start_time": "2023-07-28T12:43:30.719Z"
   },
   {
    "duration": 76,
    "start_time": "2023-07-28T12:43:30.826Z"
   },
   {
    "duration": 27,
    "start_time": "2023-07-28T12:43:30.904Z"
   },
   {
    "duration": 100,
    "start_time": "2023-07-28T12:43:30.933Z"
   },
   {
    "duration": 91,
    "start_time": "2023-07-28T12:43:31.035Z"
   },
   {
    "duration": 113,
    "start_time": "2023-07-28T12:43:31.128Z"
   },
   {
    "duration": 115,
    "start_time": "2023-07-28T12:43:31.243Z"
   },
   {
    "duration": 5,
    "start_time": "2023-07-28T12:43:31.360Z"
   },
   {
    "duration": 51,
    "start_time": "2023-07-28T12:43:31.367Z"
   },
   {
    "duration": 3026,
    "start_time": "2023-07-28T12:43:31.420Z"
   },
   {
    "duration": 157,
    "start_time": "2023-07-28T12:43:34.448Z"
   },
   {
    "duration": 175,
    "start_time": "2023-07-28T12:43:54.154Z"
   },
   {
    "duration": 191,
    "start_time": "2023-07-28T12:43:59.316Z"
   },
   {
    "duration": 284,
    "start_time": "2023-07-28T12:46:33.958Z"
   },
   {
    "duration": 419,
    "start_time": "2023-07-28T12:47:02.766Z"
   },
   {
    "duration": 568,
    "start_time": "2023-07-28T12:47:09.079Z"
   },
   {
    "duration": 518,
    "start_time": "2023-07-28T12:47:40.432Z"
   },
   {
    "duration": 11,
    "start_time": "2023-07-28T20:15:35.756Z"
   },
   {
    "duration": 1464,
    "start_time": "2023-07-28T20:15:41.107Z"
   },
   {
    "duration": 3218,
    "start_time": "2023-07-28T20:15:42.573Z"
   },
   {
    "duration": 20,
    "start_time": "2023-07-28T20:15:45.793Z"
   },
   {
    "duration": 31,
    "start_time": "2023-07-28T20:15:45.815Z"
   },
   {
    "duration": 4,
    "start_time": "2023-07-28T20:15:45.848Z"
   },
   {
    "duration": 20,
    "start_time": "2023-07-28T20:15:45.854Z"
   },
   {
    "duration": 15,
    "start_time": "2023-07-28T20:15:45.876Z"
   },
   {
    "duration": 3,
    "start_time": "2023-07-28T20:15:45.892Z"
   },
   {
    "duration": 4,
    "start_time": "2023-07-28T20:15:45.896Z"
   },
   {
    "duration": 9,
    "start_time": "2023-07-28T20:15:45.903Z"
   },
   {
    "duration": 18,
    "start_time": "2023-07-28T20:15:45.914Z"
   },
   {
    "duration": 470,
    "start_time": "2023-07-28T20:15:45.933Z"
   },
   {
    "duration": 13,
    "start_time": "2023-07-28T20:15:46.405Z"
   },
   {
    "duration": 22,
    "start_time": "2023-07-28T20:15:46.419Z"
   },
   {
    "duration": 38,
    "start_time": "2023-07-28T20:15:46.442Z"
   },
   {
    "duration": 7,
    "start_time": "2023-07-28T20:15:46.482Z"
   },
   {
    "duration": 19,
    "start_time": "2023-07-28T20:15:46.491Z"
   },
   {
    "duration": 2,
    "start_time": "2023-07-28T20:15:46.512Z"
   },
   {
    "duration": 5,
    "start_time": "2023-07-28T20:15:46.516Z"
   },
   {
    "duration": 14,
    "start_time": "2023-07-28T20:15:46.522Z"
   },
   {
    "duration": 6,
    "start_time": "2023-07-28T20:15:46.537Z"
   },
   {
    "duration": 14,
    "start_time": "2023-07-28T20:15:46.545Z"
   },
   {
    "duration": 8,
    "start_time": "2023-07-28T20:15:46.560Z"
   },
   {
    "duration": 4,
    "start_time": "2023-07-28T20:15:46.570Z"
   },
   {
    "duration": 72,
    "start_time": "2023-07-28T20:15:46.575Z"
   },
   {
    "duration": 49,
    "start_time": "2023-07-28T20:15:46.649Z"
   },
   {
    "duration": 87,
    "start_time": "2023-07-28T20:15:46.700Z"
   },
   {
    "duration": 93,
    "start_time": "2023-07-28T20:15:46.790Z"
   },
   {
    "duration": 4,
    "start_time": "2023-07-28T20:15:46.884Z"
   },
   {
    "duration": 6,
    "start_time": "2023-07-28T20:15:46.890Z"
   },
   {
    "duration": 2714,
    "start_time": "2023-07-28T20:15:46.898Z"
   },
   {
    "duration": 511,
    "start_time": "2023-07-28T20:15:49.614Z"
   },
   {
    "duration": 4,
    "start_time": "2023-07-28T20:15:50.126Z"
   },
   {
    "duration": 85,
    "start_time": "2023-07-28T20:15:50.131Z"
   },
   {
    "duration": 21,
    "start_time": "2023-07-28T20:45:13.502Z"
   },
   {
    "duration": 1022,
    "start_time": "2023-07-28T20:52:05.299Z"
   },
   {
    "duration": 659,
    "start_time": "2023-07-28T20:52:29.132Z"
   },
   {
    "duration": 589,
    "start_time": "2023-07-28T20:52:48.407Z"
   },
   {
    "duration": 86,
    "start_time": "2023-07-28T20:53:05.854Z"
   },
   {
    "duration": 591,
    "start_time": "2023-07-28T20:53:08.142Z"
   },
   {
    "duration": 855,
    "start_time": "2023-07-28T20:53:34.279Z"
   },
   {
    "duration": 854,
    "start_time": "2023-07-28T20:53:52.257Z"
   },
   {
    "duration": 854,
    "start_time": "2023-07-28T20:54:03.930Z"
   },
   {
    "duration": 1065,
    "start_time": "2023-07-28T20:54:12.423Z"
   },
   {
    "duration": 884,
    "start_time": "2023-07-28T20:54:18.200Z"
   },
   {
    "duration": 1532,
    "start_time": "2023-07-28T20:55:19.971Z"
   },
   {
    "duration": 1505,
    "start_time": "2023-07-29T08:39:49.088Z"
   },
   {
    "duration": 116,
    "start_time": "2023-07-29T08:40:31.534Z"
   },
   {
    "duration": 3,
    "start_time": "2023-07-29T08:40:35.860Z"
   },
   {
    "duration": 11,
    "start_time": "2023-07-29T08:41:37.684Z"
   },
   {
    "duration": 4,
    "start_time": "2023-07-29T08:45:59.384Z"
   },
   {
    "duration": 3,
    "start_time": "2023-07-29T08:47:43.334Z"
   },
   {
    "duration": 2256,
    "start_time": "2023-07-29T08:47:53.230Z"
   },
   {
    "duration": 3216,
    "start_time": "2023-07-29T08:47:55.488Z"
   },
   {
    "duration": 22,
    "start_time": "2023-07-29T08:47:58.708Z"
   },
   {
    "duration": 29,
    "start_time": "2023-07-29T08:47:58.733Z"
   },
   {
    "duration": 4,
    "start_time": "2023-07-29T08:47:58.764Z"
   },
   {
    "duration": 35,
    "start_time": "2023-07-29T08:47:58.770Z"
   },
   {
    "duration": 18,
    "start_time": "2023-07-29T08:47:58.807Z"
   },
   {
    "duration": 3,
    "start_time": "2023-07-29T08:47:58.827Z"
   },
   {
    "duration": 3,
    "start_time": "2023-07-29T08:47:58.857Z"
   },
   {
    "duration": 6,
    "start_time": "2023-07-29T08:47:58.862Z"
   },
   {
    "duration": 9,
    "start_time": "2023-07-29T08:47:58.870Z"
   },
   {
    "duration": 462,
    "start_time": "2023-07-29T08:47:58.881Z"
   },
   {
    "duration": 12,
    "start_time": "2023-07-29T08:47:59.355Z"
   },
   {
    "duration": 32,
    "start_time": "2023-07-29T08:47:59.369Z"
   },
   {
    "duration": 30,
    "start_time": "2023-07-29T08:47:59.402Z"
   },
   {
    "duration": 9,
    "start_time": "2023-07-29T08:47:59.434Z"
   },
   {
    "duration": 13,
    "start_time": "2023-07-29T08:47:59.444Z"
   },
   {
    "duration": 3,
    "start_time": "2023-07-29T08:47:59.458Z"
   },
   {
    "duration": 7,
    "start_time": "2023-07-29T08:47:59.463Z"
   },
   {
    "duration": 5,
    "start_time": "2023-07-29T08:47:59.471Z"
   },
   {
    "duration": 10,
    "start_time": "2023-07-29T08:47:59.478Z"
   },
   {
    "duration": 13,
    "start_time": "2023-07-29T08:47:59.490Z"
   },
   {
    "duration": 4,
    "start_time": "2023-07-29T08:47:59.504Z"
   },
   {
    "duration": 7,
    "start_time": "2023-07-29T08:47:59.510Z"
   },
   {
    "duration": 66,
    "start_time": "2023-07-29T08:47:59.518Z"
   },
   {
    "duration": 43,
    "start_time": "2023-07-29T08:47:59.586Z"
   },
   {
    "duration": 82,
    "start_time": "2023-07-29T08:47:59.631Z"
   },
   {
    "duration": 97,
    "start_time": "2023-07-29T08:47:59.715Z"
   },
   {
    "duration": 4,
    "start_time": "2023-07-29T08:47:59.814Z"
   },
   {
    "duration": 6,
    "start_time": "2023-07-29T08:47:59.819Z"
   },
   {
    "duration": 2593,
    "start_time": "2023-07-29T08:47:59.826Z"
   },
   {
    "duration": 465,
    "start_time": "2023-07-29T08:48:02.421Z"
   },
   {
    "duration": 3,
    "start_time": "2023-07-29T08:48:02.887Z"
   },
   {
    "duration": 34,
    "start_time": "2023-07-29T08:48:02.892Z"
   },
   {
    "duration": 1472,
    "start_time": "2023-07-29T08:48:02.928Z"
   },
   {
    "duration": 4,
    "start_time": "2023-07-29T08:48:04.402Z"
   },
   {
    "duration": 4,
    "start_time": "2023-07-29T08:49:40.036Z"
   },
   {
    "duration": 3,
    "start_time": "2023-07-29T08:51:18.854Z"
   },
   {
    "duration": 90,
    "start_time": "2023-07-29T09:05:13.424Z"
   },
   {
    "duration": 108,
    "start_time": "2023-07-29T09:05:21.328Z"
   },
   {
    "duration": 20,
    "start_time": "2023-07-29T09:05:34.205Z"
   },
   {
    "duration": 13,
    "start_time": "2023-07-29T09:06:17.092Z"
   },
   {
    "duration": 3,
    "start_time": "2023-07-29T09:07:01.978Z"
   },
   {
    "duration": 3,
    "start_time": "2023-07-29T09:07:06.609Z"
   },
   {
    "duration": 150,
    "start_time": "2023-07-29T09:07:31.511Z"
   },
   {
    "duration": 10,
    "start_time": "2023-07-29T09:09:40.532Z"
   },
   {
    "duration": 9,
    "start_time": "2023-07-29T09:09:43.803Z"
   },
   {
    "duration": 3,
    "start_time": "2023-07-29T09:09:46.919Z"
   },
   {
    "duration": 11,
    "start_time": "2023-07-29T09:09:47.190Z"
   },
   {
    "duration": 2,
    "start_time": "2023-07-29T09:10:01.676Z"
   },
   {
    "duration": 194,
    "start_time": "2023-07-29T09:10:02.594Z"
   },
   {
    "duration": 12,
    "start_time": "2023-07-29T09:10:29.853Z"
   },
   {
    "duration": 3,
    "start_time": "2023-07-29T09:10:30.988Z"
   },
   {
    "duration": 47,
    "start_time": "2023-07-29T09:10:31.217Z"
   },
   {
    "duration": 2,
    "start_time": "2023-07-29T09:10:59.902Z"
   },
   {
    "duration": 36,
    "start_time": "2023-07-29T09:11:00.277Z"
   },
   {
    "duration": 11,
    "start_time": "2023-07-29T09:11:33.862Z"
   },
   {
    "duration": 4,
    "start_time": "2023-07-29T09:11:40.418Z"
   },
   {
    "duration": 4,
    "start_time": "2023-07-29T09:11:45.286Z"
   },
   {
    "duration": 69,
    "start_time": "2023-07-29T09:34:41.638Z"
   },
   {
    "duration": 66,
    "start_time": "2023-07-29T09:35:07.985Z"
   },
   {
    "duration": 64,
    "start_time": "2023-07-29T09:35:10.887Z"
   },
   {
    "duration": 46,
    "start_time": "2023-07-29T09:35:20.916Z"
   },
   {
    "duration": 13,
    "start_time": "2023-07-29T09:35:50.639Z"
   },
   {
    "duration": 14,
    "start_time": "2023-07-29T09:36:03.999Z"
   },
   {
    "duration": 1453,
    "start_time": "2023-07-29T09:36:12.415Z"
   },
   {
    "duration": 1535,
    "start_time": "2023-07-29T09:36:13.870Z"
   },
   {
    "duration": 61,
    "start_time": "2023-07-29T09:36:15.406Z"
   },
   {
    "duration": 21,
    "start_time": "2023-07-29T09:36:15.469Z"
   },
   {
    "duration": 7,
    "start_time": "2023-07-29T09:36:15.492Z"
   },
   {
    "duration": 19,
    "start_time": "2023-07-29T09:36:15.501Z"
   },
   {
    "duration": 35,
    "start_time": "2023-07-29T09:36:15.521Z"
   },
   {
    "duration": 2,
    "start_time": "2023-07-29T09:36:15.558Z"
   },
   {
    "duration": 8,
    "start_time": "2023-07-29T09:36:15.562Z"
   },
   {
    "duration": 14,
    "start_time": "2023-07-29T09:36:15.572Z"
   },
   {
    "duration": 18,
    "start_time": "2023-07-29T09:36:15.587Z"
   },
   {
    "duration": 441,
    "start_time": "2023-07-29T09:36:15.607Z"
   },
   {
    "duration": 12,
    "start_time": "2023-07-29T09:36:16.056Z"
   },
   {
    "duration": 37,
    "start_time": "2023-07-29T09:36:16.070Z"
   },
   {
    "duration": 43,
    "start_time": "2023-07-29T09:36:16.109Z"
   },
   {
    "duration": 10,
    "start_time": "2023-07-29T09:36:16.154Z"
   },
   {
    "duration": 21,
    "start_time": "2023-07-29T09:36:16.166Z"
   },
   {
    "duration": 12,
    "start_time": "2023-07-29T09:36:16.189Z"
   },
   {
    "duration": 13,
    "start_time": "2023-07-29T09:36:16.202Z"
   },
   {
    "duration": 20,
    "start_time": "2023-07-29T09:36:16.216Z"
   },
   {
    "duration": 33,
    "start_time": "2023-07-29T09:36:16.237Z"
   },
   {
    "duration": 24,
    "start_time": "2023-07-29T09:36:16.272Z"
   },
   {
    "duration": 16,
    "start_time": "2023-07-29T09:36:16.297Z"
   },
   {
    "duration": 5,
    "start_time": "2023-07-29T09:36:16.314Z"
   },
   {
    "duration": 63,
    "start_time": "2023-07-29T09:36:16.320Z"
   },
   {
    "duration": 44,
    "start_time": "2023-07-29T09:36:16.384Z"
   },
   {
    "duration": 85,
    "start_time": "2023-07-29T09:36:16.430Z"
   },
   {
    "duration": 92,
    "start_time": "2023-07-29T09:36:16.519Z"
   },
   {
    "duration": 5,
    "start_time": "2023-07-29T09:36:16.613Z"
   },
   {
    "duration": 4,
    "start_time": "2023-07-29T09:36:16.620Z"
   },
   {
    "duration": 2668,
    "start_time": "2023-07-29T09:36:16.625Z"
   },
   {
    "duration": 469,
    "start_time": "2023-07-29T09:36:19.295Z"
   },
   {
    "duration": 4,
    "start_time": "2023-07-29T09:36:19.766Z"
   },
   {
    "duration": 29,
    "start_time": "2023-07-29T09:36:19.772Z"
   },
   {
    "duration": 1416,
    "start_time": "2023-07-29T09:36:19.803Z"
   },
   {
    "duration": 5,
    "start_time": "2023-07-29T09:36:21.222Z"
   },
   {
    "duration": 36,
    "start_time": "2023-07-29T09:36:21.230Z"
   },
   {
    "duration": 2,
    "start_time": "2023-07-29T09:36:21.268Z"
   },
   {
    "duration": 9,
    "start_time": "2023-07-29T09:36:21.272Z"
   },
   {
    "duration": 147,
    "start_time": "2023-07-29T09:36:21.282Z"
   },
   {
    "duration": 0,
    "start_time": "2023-07-29T09:36:21.430Z"
   },
   {
    "duration": 0,
    "start_time": "2023-07-29T09:36:21.432Z"
   },
   {
    "duration": 9,
    "start_time": "2023-07-29T09:37:36.673Z"
   },
   {
    "duration": 1431,
    "start_time": "2023-07-29T09:37:42.653Z"
   },
   {
    "duration": 791,
    "start_time": "2023-07-29T09:37:44.086Z"
   },
   {
    "duration": 21,
    "start_time": "2023-07-29T09:37:44.879Z"
   },
   {
    "duration": 23,
    "start_time": "2023-07-29T09:37:44.902Z"
   },
   {
    "duration": 8,
    "start_time": "2023-07-29T09:37:44.927Z"
   },
   {
    "duration": 19,
    "start_time": "2023-07-29T09:37:44.957Z"
   },
   {
    "duration": 25,
    "start_time": "2023-07-29T09:37:44.979Z"
   },
   {
    "duration": 23,
    "start_time": "2023-07-29T09:37:45.006Z"
   },
   {
    "duration": 34,
    "start_time": "2023-07-29T09:37:45.031Z"
   },
   {
    "duration": 11,
    "start_time": "2023-07-29T09:37:45.068Z"
   },
   {
    "duration": 11,
    "start_time": "2023-07-29T09:37:45.081Z"
   },
   {
    "duration": 39,
    "start_time": "2023-07-29T09:37:45.094Z"
   },
   {
    "duration": 503,
    "start_time": "2023-07-29T09:37:45.136Z"
   },
   {
    "duration": 12,
    "start_time": "2023-07-29T09:37:45.641Z"
   },
   {
    "duration": 22,
    "start_time": "2023-07-29T09:37:45.655Z"
   },
   {
    "duration": 64,
    "start_time": "2023-07-29T09:37:45.678Z"
   },
   {
    "duration": 10,
    "start_time": "2023-07-29T09:37:45.743Z"
   },
   {
    "duration": 10,
    "start_time": "2023-07-29T09:37:45.754Z"
   },
   {
    "duration": 9,
    "start_time": "2023-07-29T09:37:45.766Z"
   },
   {
    "duration": 6,
    "start_time": "2023-07-29T09:37:45.776Z"
   },
   {
    "duration": 5,
    "start_time": "2023-07-29T09:37:45.784Z"
   },
   {
    "duration": 9,
    "start_time": "2023-07-29T09:37:45.791Z"
   },
   {
    "duration": 4,
    "start_time": "2023-07-29T09:37:45.801Z"
   },
   {
    "duration": 5,
    "start_time": "2023-07-29T09:37:45.807Z"
   },
   {
    "duration": 5,
    "start_time": "2023-07-29T09:37:45.814Z"
   },
   {
    "duration": 84,
    "start_time": "2023-07-29T09:37:45.821Z"
   },
   {
    "duration": 56,
    "start_time": "2023-07-29T09:37:45.907Z"
   },
   {
    "duration": 74,
    "start_time": "2023-07-29T09:37:45.966Z"
   },
   {
    "duration": 102,
    "start_time": "2023-07-29T09:37:46.041Z"
   },
   {
    "duration": 13,
    "start_time": "2023-07-29T09:37:46.145Z"
   },
   {
    "duration": 12,
    "start_time": "2023-07-29T09:37:46.161Z"
   },
   {
    "duration": 2842,
    "start_time": "2023-07-29T09:37:46.174Z"
   },
   {
    "duration": 513,
    "start_time": "2023-07-29T09:37:49.018Z"
   },
   {
    "duration": 4,
    "start_time": "2023-07-29T09:37:49.532Z"
   },
   {
    "duration": 30,
    "start_time": "2023-07-29T09:37:49.537Z"
   },
   {
    "duration": 1467,
    "start_time": "2023-07-29T09:37:49.569Z"
   },
   {
    "duration": 4,
    "start_time": "2023-07-29T09:37:51.037Z"
   },
   {
    "duration": 36,
    "start_time": "2023-07-29T09:37:51.042Z"
   },
   {
    "duration": 2,
    "start_time": "2023-07-29T09:37:51.080Z"
   },
   {
    "duration": 6,
    "start_time": "2023-07-29T09:37:51.085Z"
   },
   {
    "duration": 38,
    "start_time": "2023-07-29T09:37:51.093Z"
   },
   {
    "duration": 3,
    "start_time": "2023-07-29T09:37:51.133Z"
   },
   {
    "duration": 229,
    "start_time": "2023-07-29T09:37:51.137Z"
   },
   {
    "duration": 441,
    "start_time": "2023-07-29T09:38:31.516Z"
   },
   {
    "duration": 1629,
    "start_time": "2023-07-29T11:37:15.930Z"
   },
   {
    "duration": 2395,
    "start_time": "2023-07-29T11:37:17.560Z"
   },
   {
    "duration": 17,
    "start_time": "2023-07-29T11:37:19.957Z"
   },
   {
    "duration": 42,
    "start_time": "2023-07-29T11:37:19.976Z"
   },
   {
    "duration": 9,
    "start_time": "2023-07-29T11:37:20.020Z"
   },
   {
    "duration": 33,
    "start_time": "2023-07-29T11:37:20.031Z"
   },
   {
    "duration": 15,
    "start_time": "2023-07-29T11:37:20.066Z"
   },
   {
    "duration": 10,
    "start_time": "2023-07-29T11:37:20.083Z"
   },
   {
    "duration": 24,
    "start_time": "2023-07-29T11:37:20.094Z"
   },
   {
    "duration": 6,
    "start_time": "2023-07-29T11:37:20.122Z"
   },
   {
    "duration": 19,
    "start_time": "2023-07-29T11:37:20.130Z"
   },
   {
    "duration": 23,
    "start_time": "2023-07-29T11:37:20.151Z"
   },
   {
    "duration": 499,
    "start_time": "2023-07-29T11:37:20.176Z"
   },
   {
    "duration": 13,
    "start_time": "2023-07-29T11:37:20.677Z"
   },
   {
    "duration": 61,
    "start_time": "2023-07-29T11:37:20.691Z"
   },
   {
    "duration": 26,
    "start_time": "2023-07-29T11:37:20.754Z"
   },
   {
    "duration": 7,
    "start_time": "2023-07-29T11:37:20.782Z"
   },
   {
    "duration": 30,
    "start_time": "2023-07-29T11:37:20.790Z"
   },
   {
    "duration": 14,
    "start_time": "2023-07-29T11:37:20.822Z"
   },
   {
    "duration": 33,
    "start_time": "2023-07-29T11:37:20.837Z"
   },
   {
    "duration": 19,
    "start_time": "2023-07-29T11:37:20.872Z"
   },
   {
    "duration": 48,
    "start_time": "2023-07-29T11:37:20.893Z"
   },
   {
    "duration": 32,
    "start_time": "2023-07-29T11:37:20.942Z"
   },
   {
    "duration": 15,
    "start_time": "2023-07-29T11:37:20.976Z"
   },
   {
    "duration": 63,
    "start_time": "2023-07-29T11:37:20.992Z"
   },
   {
    "duration": 67,
    "start_time": "2023-07-29T11:37:21.057Z"
   },
   {
    "duration": 36,
    "start_time": "2023-07-29T11:37:21.126Z"
   },
   {
    "duration": 76,
    "start_time": "2023-07-29T11:37:21.166Z"
   },
   {
    "duration": 101,
    "start_time": "2023-07-29T11:37:21.243Z"
   },
   {
    "duration": 5,
    "start_time": "2023-07-29T11:37:21.345Z"
   },
   {
    "duration": 11,
    "start_time": "2023-07-29T11:37:21.351Z"
   },
   {
    "duration": 2681,
    "start_time": "2023-07-29T11:37:21.364Z"
   },
   {
    "duration": 477,
    "start_time": "2023-07-29T11:37:24.048Z"
   },
   {
    "duration": 4,
    "start_time": "2023-07-29T11:37:24.526Z"
   },
   {
    "duration": 19,
    "start_time": "2023-07-29T11:37:24.531Z"
   },
   {
    "duration": 1450,
    "start_time": "2023-07-29T11:37:24.551Z"
   },
   {
    "duration": 22,
    "start_time": "2023-07-29T11:37:26.003Z"
   },
   {
    "duration": 39,
    "start_time": "2023-07-29T11:37:26.027Z"
   },
   {
    "duration": 3,
    "start_time": "2023-07-29T11:37:26.068Z"
   },
   {
    "duration": 26,
    "start_time": "2023-07-29T11:37:26.072Z"
   },
   {
    "duration": 78,
    "start_time": "2023-07-29T11:37:26.118Z"
   },
   {
    "duration": 15,
    "start_time": "2023-07-29T11:37:26.198Z"
   },
   {
    "duration": 4072,
    "start_time": "2023-07-29T11:37:26.229Z"
   },
   {
    "duration": 48,
    "start_time": "2023-07-29T11:40:57.695Z"
   },
   {
    "duration": 158,
    "start_time": "2023-07-29T11:42:02.300Z"
   },
   {
    "duration": 7,
    "start_time": "2023-07-29T11:42:20.330Z"
   },
   {
    "duration": 20,
    "start_time": "2023-07-29T11:42:24.824Z"
   },
   {
    "duration": 13,
    "start_time": "2023-07-29T11:42:37.120Z"
   },
   {
    "duration": 4,
    "start_time": "2023-07-29T11:42:41.851Z"
   },
   {
    "duration": 5,
    "start_time": "2023-07-29T11:44:19.522Z"
   },
   {
    "duration": 10,
    "start_time": "2023-07-29T11:44:24.237Z"
   },
   {
    "duration": 4,
    "start_time": "2023-07-29T11:45:08.470Z"
   },
   {
    "duration": 7,
    "start_time": "2023-07-29T11:45:11.845Z"
   },
   {
    "duration": 24,
    "start_time": "2023-07-29T11:45:11.854Z"
   },
   {
    "duration": 13,
    "start_time": "2023-07-29T11:45:11.880Z"
   },
   {
    "duration": 66,
    "start_time": "2023-07-29T11:45:11.895Z"
   },
   {
    "duration": 3,
    "start_time": "2023-07-29T11:45:11.963Z"
   },
   {
    "duration": 3780,
    "start_time": "2023-07-29T11:45:11.967Z"
   },
   {
    "duration": 175,
    "start_time": "2023-07-29T11:45:15.750Z"
   },
   {
    "duration": 100,
    "start_time": "2023-07-29T11:45:15.927Z"
   },
   {
    "duration": 6,
    "start_time": "2023-07-29T11:50:19.522Z"
   },
   {
    "duration": 5,
    "start_time": "2023-07-29T11:50:23.491Z"
   },
   {
    "duration": 8,
    "start_time": "2023-07-29T11:52:50.686Z"
   },
   {
    "duration": 9,
    "start_time": "2023-07-29T11:53:40.828Z"
   },
   {
    "duration": 2,
    "start_time": "2023-07-29T11:53:43.354Z"
   },
   {
    "duration": 5,
    "start_time": "2023-07-29T11:53:43.730Z"
   },
   {
    "duration": 27,
    "start_time": "2023-07-29T11:53:47.122Z"
   },
   {
    "duration": 3,
    "start_time": "2023-07-29T11:53:49.754Z"
   },
   {
    "duration": 5,
    "start_time": "2023-07-29T11:53:58.231Z"
   },
   {
    "duration": 8,
    "start_time": "2023-07-29T11:56:13.937Z"
   },
   {
    "duration": 2,
    "start_time": "2023-07-29T11:56:14.770Z"
   },
   {
    "duration": 3,
    "start_time": "2023-07-29T11:56:14.990Z"
   },
   {
    "duration": 42,
    "start_time": "2023-07-29T11:56:15.182Z"
   },
   {
    "duration": 3,
    "start_time": "2023-07-29T11:56:15.619Z"
   },
   {
    "duration": 6358,
    "start_time": "2023-07-29T11:56:15.854Z"
   },
   {
    "duration": 222,
    "start_time": "2023-07-29T11:56:22.214Z"
   },
   {
    "duration": 176,
    "start_time": "2023-07-29T11:56:22.501Z"
   },
   {
    "duration": 4,
    "start_time": "2023-07-29T11:56:27.549Z"
   },
   {
    "duration": 2,
    "start_time": "2023-07-29T11:56:36.776Z"
   },
   {
    "duration": 4,
    "start_time": "2023-07-29T11:56:36.920Z"
   },
   {
    "duration": 37,
    "start_time": "2023-07-29T11:56:37.084Z"
   },
   {
    "duration": 3,
    "start_time": "2023-07-29T11:56:37.419Z"
   },
   {
    "duration": 2016,
    "start_time": "2023-07-29T11:56:37.588Z"
   },
   {
    "duration": 118,
    "start_time": "2023-07-29T11:56:39.612Z"
   },
   {
    "duration": 69,
    "start_time": "2023-07-29T11:56:39.732Z"
   },
   {
    "duration": 15,
    "start_time": "2023-07-29T11:57:06.323Z"
   },
   {
    "duration": 4,
    "start_time": "2023-07-29T11:57:07.026Z"
   },
   {
    "duration": 3,
    "start_time": "2023-07-29T11:57:52.566Z"
   },
   {
    "duration": 5,
    "start_time": "2023-07-29T11:58:23.619Z"
   },
   {
    "duration": 21,
    "start_time": "2023-07-29T11:58:34.297Z"
   },
   {
    "duration": 1595,
    "start_time": "2023-07-30T13:40:43.974Z"
   },
   {
    "duration": 1233,
    "start_time": "2023-07-30T13:41:11.347Z"
   },
   {
    "duration": 2010,
    "start_time": "2023-07-30T13:41:12.582Z"
   },
   {
    "duration": 16,
    "start_time": "2023-07-30T13:41:14.593Z"
   },
   {
    "duration": 21,
    "start_time": "2023-07-30T13:41:14.611Z"
   },
   {
    "duration": 5,
    "start_time": "2023-07-30T13:41:14.634Z"
   },
   {
    "duration": 20,
    "start_time": "2023-07-30T13:41:14.641Z"
   },
   {
    "duration": 13,
    "start_time": "2023-07-30T13:41:14.662Z"
   },
   {
    "duration": 3,
    "start_time": "2023-07-30T13:41:14.676Z"
   },
   {
    "duration": 10,
    "start_time": "2023-07-30T13:41:14.680Z"
   },
   {
    "duration": 5,
    "start_time": "2023-07-30T13:41:14.700Z"
   },
   {
    "duration": 9,
    "start_time": "2023-07-30T13:41:14.706Z"
   },
   {
    "duration": 18,
    "start_time": "2023-07-30T13:41:14.716Z"
   },
   {
    "duration": 414,
    "start_time": "2023-07-30T13:41:14.735Z"
   },
   {
    "duration": 11,
    "start_time": "2023-07-30T13:41:15.152Z"
   },
   {
    "duration": 23,
    "start_time": "2023-07-30T13:41:15.164Z"
   },
   {
    "duration": 27,
    "start_time": "2023-07-30T13:41:15.188Z"
   },
   {
    "duration": 7,
    "start_time": "2023-07-30T13:41:15.216Z"
   },
   {
    "duration": 9,
    "start_time": "2023-07-30T13:41:15.224Z"
   },
   {
    "duration": 3,
    "start_time": "2023-07-30T13:41:15.234Z"
   },
   {
    "duration": 5,
    "start_time": "2023-07-30T13:41:15.238Z"
   },
   {
    "duration": 6,
    "start_time": "2023-07-30T13:41:15.244Z"
   },
   {
    "duration": 7,
    "start_time": "2023-07-30T13:41:15.251Z"
   },
   {
    "duration": 7,
    "start_time": "2023-07-30T13:41:15.259Z"
   },
   {
    "duration": 17,
    "start_time": "2023-07-30T13:41:15.267Z"
   },
   {
    "duration": 7,
    "start_time": "2023-07-30T13:41:15.285Z"
   },
   {
    "duration": 61,
    "start_time": "2023-07-30T13:41:15.294Z"
   },
   {
    "duration": 55,
    "start_time": "2023-07-30T13:41:15.356Z"
   },
   {
    "duration": 62,
    "start_time": "2023-07-30T13:41:15.413Z"
   },
   {
    "duration": 96,
    "start_time": "2023-07-30T13:41:15.476Z"
   },
   {
    "duration": 4,
    "start_time": "2023-07-30T13:41:15.573Z"
   },
   {
    "duration": 17,
    "start_time": "2023-07-30T13:41:15.578Z"
   },
   {
    "duration": 2327,
    "start_time": "2023-07-30T13:41:15.596Z"
   },
   {
    "duration": 428,
    "start_time": "2023-07-30T13:41:17.924Z"
   },
   {
    "duration": 3,
    "start_time": "2023-07-30T13:41:18.353Z"
   },
   {
    "duration": 24,
    "start_time": "2023-07-30T13:41:18.357Z"
   },
   {
    "duration": 1237,
    "start_time": "2023-07-30T13:41:18.383Z"
   },
   {
    "duration": 4,
    "start_time": "2023-07-30T13:41:19.622Z"
   },
   {
    "duration": 17,
    "start_time": "2023-07-30T13:41:19.628Z"
   },
   {
    "duration": 117,
    "start_time": "2023-07-30T13:41:19.647Z"
   },
   {
    "duration": 0,
    "start_time": "2023-07-30T13:41:19.766Z"
   },
   {
    "duration": 0,
    "start_time": "2023-07-30T13:41:19.767Z"
   },
   {
    "duration": 0,
    "start_time": "2023-07-30T13:41:19.768Z"
   },
   {
    "duration": 0,
    "start_time": "2023-07-30T13:41:19.768Z"
   },
   {
    "duration": 0,
    "start_time": "2023-07-30T13:41:19.769Z"
   },
   {
    "duration": 0,
    "start_time": "2023-07-30T13:41:19.770Z"
   },
   {
    "duration": 0,
    "start_time": "2023-07-30T13:41:19.770Z"
   },
   {
    "duration": 0,
    "start_time": "2023-07-30T13:41:19.772Z"
   },
   {
    "duration": 0,
    "start_time": "2023-07-30T13:41:19.772Z"
   },
   {
    "duration": 2,
    "start_time": "2023-07-30T13:42:38.304Z"
   },
   {
    "duration": 4,
    "start_time": "2023-07-30T13:42:38.508Z"
   },
   {
    "duration": 27,
    "start_time": "2023-07-30T13:42:39.058Z"
   },
   {
    "duration": 2,
    "start_time": "2023-07-30T13:42:41.986Z"
   },
   {
    "duration": 354,
    "start_time": "2023-07-30T13:42:46.454Z"
   },
   {
    "duration": 1640,
    "start_time": "2023-07-30T13:54:54.290Z"
   },
   {
    "duration": 2625,
    "start_time": "2023-07-30T13:55:06.798Z"
   },
   {
    "duration": 1919,
    "start_time": "2023-07-30T13:55:11.198Z"
   },
   {
    "duration": 41,
    "start_time": "2023-07-30T13:55:29.502Z"
   },
   {
    "duration": 7,
    "start_time": "2023-07-30T13:55:51.974Z"
   },
   {
    "duration": 6,
    "start_time": "2023-07-30T13:56:10.470Z"
   },
   {
    "duration": 1790,
    "start_time": "2023-07-30T14:05:35.312Z"
   },
   {
    "duration": 2,
    "start_time": "2023-07-30T14:05:39.920Z"
   },
   {
    "duration": 8,
    "start_time": "2023-07-30T14:05:40.288Z"
   },
   {
    "duration": 1999,
    "start_time": "2023-07-30T14:05:53.802Z"
   },
   {
    "duration": 3,
    "start_time": "2023-07-30T14:05:55.804Z"
   },
   {
    "duration": 108,
    "start_time": "2023-07-30T14:05:55.808Z"
   },
   {
    "duration": 8,
    "start_time": "2023-07-30T14:05:57.286Z"
   },
   {
    "duration": 5,
    "start_time": "2023-07-30T14:06:03.771Z"
   },
   {
    "duration": 4,
    "start_time": "2023-07-30T14:06:30.680Z"
   },
   {
    "duration": 4010,
    "start_time": "2023-07-30T14:08:18.390Z"
   },
   {
    "duration": 4,
    "start_time": "2023-07-30T14:08:52.092Z"
   },
   {
    "duration": 4,
    "start_time": "2023-07-30T14:09:34.798Z"
   },
   {
    "duration": 5,
    "start_time": "2023-07-30T14:10:00.959Z"
   },
   {
    "duration": 1294,
    "start_time": "2023-07-30T15:25:26.346Z"
   },
   {
    "duration": 1451,
    "start_time": "2023-07-30T15:25:27.642Z"
   },
   {
    "duration": 26,
    "start_time": "2023-07-30T15:25:29.094Z"
   },
   {
    "duration": 19,
    "start_time": "2023-07-30T15:25:29.122Z"
   },
   {
    "duration": 4,
    "start_time": "2023-07-30T15:25:29.144Z"
   },
   {
    "duration": 26,
    "start_time": "2023-07-30T15:25:29.149Z"
   },
   {
    "duration": 12,
    "start_time": "2023-07-30T15:25:29.176Z"
   },
   {
    "duration": 20,
    "start_time": "2023-07-30T15:25:29.190Z"
   },
   {
    "duration": 3,
    "start_time": "2023-07-30T15:25:29.211Z"
   },
   {
    "duration": 23,
    "start_time": "2023-07-30T15:25:29.216Z"
   },
   {
    "duration": 46,
    "start_time": "2023-07-30T15:25:29.240Z"
   },
   {
    "duration": 18,
    "start_time": "2023-07-30T15:25:29.288Z"
   },
   {
    "duration": 415,
    "start_time": "2023-07-30T15:25:29.308Z"
   },
   {
    "duration": 12,
    "start_time": "2023-07-30T15:25:29.727Z"
   },
   {
    "duration": 22,
    "start_time": "2023-07-30T15:25:29.740Z"
   },
   {
    "duration": 19,
    "start_time": "2023-07-30T15:25:29.763Z"
   },
   {
    "duration": 33,
    "start_time": "2023-07-30T15:25:29.783Z"
   },
   {
    "duration": 11,
    "start_time": "2023-07-30T15:25:29.818Z"
   },
   {
    "duration": 2,
    "start_time": "2023-07-30T15:25:29.830Z"
   },
   {
    "duration": 5,
    "start_time": "2023-07-30T15:25:29.833Z"
   },
   {
    "duration": 5,
    "start_time": "2023-07-30T15:25:29.839Z"
   },
   {
    "duration": 9,
    "start_time": "2023-07-30T15:25:29.845Z"
   },
   {
    "duration": 7,
    "start_time": "2023-07-30T15:25:29.855Z"
   },
   {
    "duration": 7,
    "start_time": "2023-07-30T15:25:29.863Z"
   },
   {
    "duration": 6,
    "start_time": "2023-07-30T15:25:29.871Z"
   },
   {
    "duration": 72,
    "start_time": "2023-07-30T15:25:29.878Z"
   },
   {
    "duration": 35,
    "start_time": "2023-07-30T15:25:29.951Z"
   },
   {
    "duration": 80,
    "start_time": "2023-07-30T15:25:29.988Z"
   },
   {
    "duration": 87,
    "start_time": "2023-07-30T15:25:30.070Z"
   },
   {
    "duration": 5,
    "start_time": "2023-07-30T15:25:30.158Z"
   },
   {
    "duration": 21,
    "start_time": "2023-07-30T15:25:30.164Z"
   },
   {
    "duration": 2434,
    "start_time": "2023-07-30T15:25:30.187Z"
   },
   {
    "duration": 421,
    "start_time": "2023-07-30T15:25:32.623Z"
   },
   {
    "duration": 4,
    "start_time": "2023-07-30T15:25:33.046Z"
   },
   {
    "duration": 21,
    "start_time": "2023-07-30T15:25:33.051Z"
   },
   {
    "duration": 1299,
    "start_time": "2023-07-30T15:25:33.073Z"
   },
   {
    "duration": 4,
    "start_time": "2023-07-30T15:25:34.374Z"
   },
   {
    "duration": 50,
    "start_time": "2023-07-30T15:25:34.379Z"
   },
   {
    "duration": 3,
    "start_time": "2023-07-30T15:25:34.431Z"
   },
   {
    "duration": 20,
    "start_time": "2023-07-30T15:25:34.435Z"
   },
   {
    "duration": 40,
    "start_time": "2023-07-30T15:25:34.458Z"
   },
   {
    "duration": 2,
    "start_time": "2023-07-30T15:25:34.502Z"
   },
   {
    "duration": 2616,
    "start_time": "2023-07-30T15:25:34.505Z"
   },
   {
    "duration": 7886,
    "start_time": "2023-07-30T15:25:37.123Z"
   },
   {
    "duration": 5,
    "start_time": "2023-07-30T15:25:45.011Z"
   },
   {
    "duration": 201,
    "start_time": "2023-07-30T15:25:45.018Z"
   },
   {
    "duration": 11388,
    "start_time": "2023-07-30T15:25:57.685Z"
   },
   {
    "duration": 4,
    "start_time": "2023-07-30T15:26:52.840Z"
   },
   {
    "duration": 12492,
    "start_time": "2023-07-30T15:26:55.959Z"
   },
   {
    "duration": 4,
    "start_time": "2023-07-30T15:27:31.540Z"
   },
   {
    "duration": 11721,
    "start_time": "2023-07-30T15:27:35.440Z"
   },
   {
    "duration": 11233,
    "start_time": "2023-07-30T15:27:49.515Z"
   },
   {
    "duration": 5,
    "start_time": "2023-07-30T15:28:45.044Z"
   },
   {
    "duration": 11272,
    "start_time": "2023-07-30T15:28:49.445Z"
   },
   {
    "duration": 7,
    "start_time": "2023-07-30T15:29:11.480Z"
   },
   {
    "duration": 1286,
    "start_time": "2023-07-30T15:29:24.442Z"
   },
   {
    "duration": 797,
    "start_time": "2023-07-30T15:29:25.729Z"
   },
   {
    "duration": 16,
    "start_time": "2023-07-30T15:29:26.527Z"
   },
   {
    "duration": 17,
    "start_time": "2023-07-30T15:29:26.545Z"
   },
   {
    "duration": 4,
    "start_time": "2023-07-30T15:29:26.564Z"
   },
   {
    "duration": 54,
    "start_time": "2023-07-30T15:29:26.570Z"
   },
   {
    "duration": 13,
    "start_time": "2023-07-30T15:29:26.625Z"
   },
   {
    "duration": 6,
    "start_time": "2023-07-30T15:29:26.639Z"
   },
   {
    "duration": 11,
    "start_time": "2023-07-30T15:29:26.647Z"
   },
   {
    "duration": 7,
    "start_time": "2023-07-30T15:29:26.659Z"
   },
   {
    "duration": 15,
    "start_time": "2023-07-30T15:29:26.667Z"
   },
   {
    "duration": 29,
    "start_time": "2023-07-30T15:29:26.683Z"
   },
   {
    "duration": 462,
    "start_time": "2023-07-30T15:29:26.713Z"
   },
   {
    "duration": 17,
    "start_time": "2023-07-30T15:29:27.178Z"
   },
   {
    "duration": 41,
    "start_time": "2023-07-30T15:29:27.196Z"
   },
   {
    "duration": 20,
    "start_time": "2023-07-30T15:29:27.239Z"
   },
   {
    "duration": 7,
    "start_time": "2023-07-30T15:29:27.261Z"
   },
   {
    "duration": 8,
    "start_time": "2023-07-30T15:29:27.270Z"
   },
   {
    "duration": 3,
    "start_time": "2023-07-30T15:29:27.279Z"
   },
   {
    "duration": 9,
    "start_time": "2023-07-30T15:29:27.283Z"
   },
   {
    "duration": 4,
    "start_time": "2023-07-30T15:29:27.294Z"
   },
   {
    "duration": 19,
    "start_time": "2023-07-30T15:29:27.299Z"
   },
   {
    "duration": 7,
    "start_time": "2023-07-30T15:29:27.319Z"
   },
   {
    "duration": 9,
    "start_time": "2023-07-30T15:29:27.328Z"
   },
   {
    "duration": 5,
    "start_time": "2023-07-30T15:29:27.338Z"
   },
   {
    "duration": 62,
    "start_time": "2023-07-30T15:29:27.345Z"
   },
   {
    "duration": 48,
    "start_time": "2023-07-30T15:29:27.408Z"
   },
   {
    "duration": 115,
    "start_time": "2023-07-30T15:29:27.458Z"
   },
   {
    "duration": 109,
    "start_time": "2023-07-30T15:29:27.575Z"
   },
   {
    "duration": 25,
    "start_time": "2023-07-30T15:29:27.686Z"
   },
   {
    "duration": 14,
    "start_time": "2023-07-30T15:29:27.713Z"
   },
   {
    "duration": 2360,
    "start_time": "2023-07-30T15:29:27.729Z"
   },
   {
    "duration": 429,
    "start_time": "2023-07-30T15:29:30.090Z"
   },
   {
    "duration": 4,
    "start_time": "2023-07-30T15:29:30.521Z"
   },
   {
    "duration": 48,
    "start_time": "2023-07-30T15:29:30.527Z"
   },
   {
    "duration": 1348,
    "start_time": "2023-07-30T15:29:30.577Z"
   },
   {
    "duration": 3,
    "start_time": "2023-07-30T15:29:31.927Z"
   },
   {
    "duration": 47,
    "start_time": "2023-07-30T15:29:31.932Z"
   },
   {
    "duration": 36,
    "start_time": "2023-07-30T15:29:31.980Z"
   },
   {
    "duration": 36,
    "start_time": "2023-07-30T15:29:32.017Z"
   },
   {
    "duration": 40,
    "start_time": "2023-07-30T15:29:32.056Z"
   },
   {
    "duration": 18,
    "start_time": "2023-07-30T15:29:32.097Z"
   },
   {
    "duration": 1201,
    "start_time": "2023-07-30T15:29:32.116Z"
   },
   {
    "duration": 8209,
    "start_time": "2023-07-30T15:29:33.319Z"
   },
   {
    "duration": 9,
    "start_time": "2023-07-30T15:29:41.531Z"
   },
   {
    "duration": 11798,
    "start_time": "2023-07-30T15:29:41.543Z"
   },
   {
    "duration": 6,
    "start_time": "2023-07-30T15:30:01.775Z"
   },
   {
    "duration": 1267,
    "start_time": "2023-07-30T15:30:12.217Z"
   },
   {
    "duration": 753,
    "start_time": "2023-07-30T15:30:13.485Z"
   },
   {
    "duration": 17,
    "start_time": "2023-07-30T15:30:14.240Z"
   },
   {
    "duration": 18,
    "start_time": "2023-07-30T15:30:14.260Z"
   },
   {
    "duration": 19,
    "start_time": "2023-07-30T15:30:14.280Z"
   },
   {
    "duration": 33,
    "start_time": "2023-07-30T15:30:14.301Z"
   },
   {
    "duration": 13,
    "start_time": "2023-07-30T15:30:14.336Z"
   },
   {
    "duration": 2,
    "start_time": "2023-07-30T15:30:14.351Z"
   },
   {
    "duration": 5,
    "start_time": "2023-07-30T15:30:14.354Z"
   },
   {
    "duration": 9,
    "start_time": "2023-07-30T15:30:14.362Z"
   },
   {
    "duration": 9,
    "start_time": "2023-07-30T15:30:14.373Z"
   },
   {
    "duration": 30,
    "start_time": "2023-07-30T15:30:14.383Z"
   },
   {
    "duration": 416,
    "start_time": "2023-07-30T15:30:14.415Z"
   },
   {
    "duration": 11,
    "start_time": "2023-07-30T15:30:14.833Z"
   },
   {
    "duration": 19,
    "start_time": "2023-07-30T15:30:14.846Z"
   },
   {
    "duration": 42,
    "start_time": "2023-07-30T15:30:14.867Z"
   },
   {
    "duration": 9,
    "start_time": "2023-07-30T15:30:14.911Z"
   },
   {
    "duration": 26,
    "start_time": "2023-07-30T15:30:14.921Z"
   },
   {
    "duration": 13,
    "start_time": "2023-07-30T15:30:14.948Z"
   },
   {
    "duration": 15,
    "start_time": "2023-07-30T15:30:14.963Z"
   },
   {
    "duration": 10,
    "start_time": "2023-07-30T15:30:14.980Z"
   },
   {
    "duration": 48,
    "start_time": "2023-07-30T15:30:14.992Z"
   },
   {
    "duration": 33,
    "start_time": "2023-07-30T15:30:15.042Z"
   },
   {
    "duration": 46,
    "start_time": "2023-07-30T15:30:15.076Z"
   },
   {
    "duration": 25,
    "start_time": "2023-07-30T15:30:15.123Z"
   },
   {
    "duration": 89,
    "start_time": "2023-07-30T15:30:15.149Z"
   },
   {
    "duration": 35,
    "start_time": "2023-07-30T15:30:15.240Z"
   },
   {
    "duration": 77,
    "start_time": "2023-07-30T15:30:15.279Z"
   },
   {
    "duration": 100,
    "start_time": "2023-07-30T15:30:15.358Z"
   },
   {
    "duration": 5,
    "start_time": "2023-07-30T15:30:15.460Z"
   },
   {
    "duration": 5,
    "start_time": "2023-07-30T15:30:15.466Z"
   },
   {
    "duration": 2426,
    "start_time": "2023-07-30T15:30:15.472Z"
   },
   {
    "duration": 447,
    "start_time": "2023-07-30T15:30:17.911Z"
   },
   {
    "duration": 3,
    "start_time": "2023-07-30T15:30:18.360Z"
   },
   {
    "duration": 24,
    "start_time": "2023-07-30T15:30:18.365Z"
   },
   {
    "duration": 1347,
    "start_time": "2023-07-30T15:30:18.390Z"
   },
   {
    "duration": 3,
    "start_time": "2023-07-30T15:30:19.738Z"
   },
   {
    "duration": 21,
    "start_time": "2023-07-30T15:30:19.742Z"
   },
   {
    "duration": 2,
    "start_time": "2023-07-30T15:30:19.765Z"
   },
   {
    "duration": 14,
    "start_time": "2023-07-30T15:30:19.768Z"
   },
   {
    "duration": 48,
    "start_time": "2023-07-30T15:30:19.783Z"
   },
   {
    "duration": 8,
    "start_time": "2023-07-30T15:30:19.832Z"
   },
   {
    "duration": 1671,
    "start_time": "2023-07-30T15:30:19.841Z"
   },
   {
    "duration": 12210,
    "start_time": "2023-07-30T15:30:21.514Z"
   },
   {
    "duration": 83,
    "start_time": "2023-07-30T15:30:33.726Z"
   },
   {
    "duration": 11484,
    "start_time": "2023-07-30T15:30:33.810Z"
   },
   {
    "duration": 18,
    "start_time": "2023-07-30T15:30:45.300Z"
   },
   {
    "duration": 3,
    "start_time": "2023-07-30T15:30:46.996Z"
   },
   {
    "duration": 6,
    "start_time": "2023-07-30T15:30:47.198Z"
   },
   {
    "duration": 25,
    "start_time": "2023-07-30T15:30:47.451Z"
   },
   {
    "duration": 3,
    "start_time": "2023-07-30T15:30:47.889Z"
   },
   {
    "duration": 1725,
    "start_time": "2023-07-30T15:30:48.092Z"
   },
   {
    "duration": 9914,
    "start_time": "2023-07-30T15:30:49.819Z"
   },
   {
    "duration": 8,
    "start_time": "2023-07-30T15:30:59.735Z"
   },
   {
    "duration": 5,
    "start_time": "2023-07-30T15:32:47.669Z"
   },
   {
    "duration": 1362,
    "start_time": "2023-07-30T15:32:51.116Z"
   },
   {
    "duration": 4,
    "start_time": "2023-07-30T15:33:45.530Z"
   },
   {
    "duration": 12101,
    "start_time": "2023-07-30T15:33:50.082Z"
   },
   {
    "duration": 4,
    "start_time": "2023-07-30T15:34:05.116Z"
   },
   {
    "duration": 83053,
    "start_time": "2023-07-30T15:41:50.036Z"
   },
   {
    "duration": 63,
    "start_time": "2023-07-30T17:56:56.867Z"
   },
   {
    "duration": 80708,
    "start_time": "2023-07-30T17:57:05.438Z"
   },
   {
    "duration": 1453,
    "start_time": "2023-07-30T19:14:15.016Z"
   },
   {
    "duration": 780,
    "start_time": "2023-07-30T19:14:16.470Z"
   },
   {
    "duration": 16,
    "start_time": "2023-07-30T19:14:17.251Z"
   },
   {
    "duration": 19,
    "start_time": "2023-07-30T19:14:17.268Z"
   },
   {
    "duration": 4,
    "start_time": "2023-07-30T19:14:17.301Z"
   },
   {
    "duration": 42,
    "start_time": "2023-07-30T19:14:17.306Z"
   },
   {
    "duration": 13,
    "start_time": "2023-07-30T19:14:17.350Z"
   },
   {
    "duration": 3,
    "start_time": "2023-07-30T19:14:17.364Z"
   },
   {
    "duration": 8,
    "start_time": "2023-07-30T19:14:17.368Z"
   },
   {
    "duration": 9,
    "start_time": "2023-07-30T19:14:17.377Z"
   },
   {
    "duration": 11,
    "start_time": "2023-07-30T19:14:17.387Z"
   },
   {
    "duration": 15,
    "start_time": "2023-07-30T19:14:17.400Z"
   },
   {
    "duration": 433,
    "start_time": "2023-07-30T19:14:17.417Z"
   },
   {
    "duration": 11,
    "start_time": "2023-07-30T19:14:17.853Z"
   },
   {
    "duration": 30,
    "start_time": "2023-07-30T19:14:17.865Z"
   },
   {
    "duration": 40,
    "start_time": "2023-07-30T19:14:17.896Z"
   },
   {
    "duration": 7,
    "start_time": "2023-07-30T19:14:17.937Z"
   },
   {
    "duration": 11,
    "start_time": "2023-07-30T19:14:17.946Z"
   },
   {
    "duration": 5,
    "start_time": "2023-07-30T19:14:17.958Z"
   },
   {
    "duration": 8,
    "start_time": "2023-07-30T19:14:17.965Z"
   },
   {
    "duration": 20,
    "start_time": "2023-07-30T19:14:17.974Z"
   },
   {
    "duration": 24,
    "start_time": "2023-07-30T19:14:17.995Z"
   },
   {
    "duration": 13,
    "start_time": "2023-07-30T19:14:18.020Z"
   },
   {
    "duration": 8,
    "start_time": "2023-07-30T19:14:18.035Z"
   },
   {
    "duration": 6,
    "start_time": "2023-07-30T19:14:18.044Z"
   },
   {
    "duration": 63,
    "start_time": "2023-07-30T19:14:18.051Z"
   },
   {
    "duration": 46,
    "start_time": "2023-07-30T19:14:18.116Z"
   },
   {
    "duration": 74,
    "start_time": "2023-07-30T19:14:18.163Z"
   },
   {
    "duration": 97,
    "start_time": "2023-07-30T19:14:18.239Z"
   },
   {
    "duration": 4,
    "start_time": "2023-07-30T19:14:18.338Z"
   },
   {
    "duration": 7,
    "start_time": "2023-07-30T19:14:18.344Z"
   },
   {
    "duration": 2567,
    "start_time": "2023-07-30T19:14:18.352Z"
   },
   {
    "duration": 467,
    "start_time": "2023-07-30T19:14:20.920Z"
   },
   {
    "duration": 3,
    "start_time": "2023-07-30T19:14:21.388Z"
   },
   {
    "duration": 28,
    "start_time": "2023-07-30T19:14:21.392Z"
   },
   {
    "duration": 1404,
    "start_time": "2023-07-30T19:14:21.422Z"
   },
   {
    "duration": 5,
    "start_time": "2023-07-30T19:14:22.828Z"
   },
   {
    "duration": 20,
    "start_time": "2023-07-30T19:14:22.834Z"
   },
   {
    "duration": 3,
    "start_time": "2023-07-30T19:14:22.855Z"
   },
   {
    "duration": 4,
    "start_time": "2023-07-30T19:14:22.860Z"
   },
   {
    "duration": 54,
    "start_time": "2023-07-30T19:14:22.868Z"
   },
   {
    "duration": 2,
    "start_time": "2023-07-30T19:14:22.925Z"
   },
   {
    "duration": 1279,
    "start_time": "2023-07-30T19:14:22.929Z"
   },
   {
    "duration": 4712,
    "start_time": "2023-07-30T19:14:24.210Z"
   },
   {
    "duration": 5,
    "start_time": "2023-07-30T19:14:28.923Z"
   },
   {
    "duration": 90693,
    "start_time": "2023-07-30T19:14:28.930Z"
   },
   {
    "duration": 1429,
    "start_time": "2023-07-30T19:26:10.464Z"
   },
   {
    "duration": 811,
    "start_time": "2023-07-30T19:26:11.894Z"
   },
   {
    "duration": 24,
    "start_time": "2023-07-30T19:26:12.707Z"
   },
   {
    "duration": 31,
    "start_time": "2023-07-30T19:26:12.734Z"
   },
   {
    "duration": 4,
    "start_time": "2023-07-30T19:26:12.767Z"
   },
   {
    "duration": 34,
    "start_time": "2023-07-30T19:26:12.772Z"
   },
   {
    "duration": 15,
    "start_time": "2023-07-30T19:26:12.808Z"
   },
   {
    "duration": 6,
    "start_time": "2023-07-30T19:26:12.825Z"
   },
   {
    "duration": 8,
    "start_time": "2023-07-30T19:26:12.832Z"
   },
   {
    "duration": 8,
    "start_time": "2023-07-30T19:26:12.842Z"
   },
   {
    "duration": 12,
    "start_time": "2023-07-30T19:26:12.851Z"
   },
   {
    "duration": 36,
    "start_time": "2023-07-30T19:26:12.864Z"
   },
   {
    "duration": 456,
    "start_time": "2023-07-30T19:26:12.902Z"
   },
   {
    "duration": 14,
    "start_time": "2023-07-30T19:26:13.359Z"
   },
   {
    "duration": 21,
    "start_time": "2023-07-30T19:26:13.374Z"
   },
   {
    "duration": 24,
    "start_time": "2023-07-30T19:26:13.396Z"
   },
   {
    "duration": 7,
    "start_time": "2023-07-30T19:26:13.422Z"
   },
   {
    "duration": 11,
    "start_time": "2023-07-30T19:26:13.431Z"
   },
   {
    "duration": 2,
    "start_time": "2023-07-30T19:26:13.444Z"
   },
   {
    "duration": 5,
    "start_time": "2023-07-30T19:26:13.447Z"
   },
   {
    "duration": 4,
    "start_time": "2023-07-30T19:26:13.454Z"
   },
   {
    "duration": 5,
    "start_time": "2023-07-30T19:26:13.459Z"
   },
   {
    "duration": 7,
    "start_time": "2023-07-30T19:26:13.466Z"
   },
   {
    "duration": 4,
    "start_time": "2023-07-30T19:26:13.475Z"
   },
   {
    "duration": 3,
    "start_time": "2023-07-30T19:26:13.502Z"
   },
   {
    "duration": 77,
    "start_time": "2023-07-30T19:26:13.506Z"
   },
   {
    "duration": 59,
    "start_time": "2023-07-30T19:26:13.584Z"
   },
   {
    "duration": 71,
    "start_time": "2023-07-30T19:26:13.646Z"
   },
   {
    "duration": 99,
    "start_time": "2023-07-30T19:26:13.719Z"
   },
   {
    "duration": 5,
    "start_time": "2023-07-30T19:26:13.820Z"
   },
   {
    "duration": 9,
    "start_time": "2023-07-30T19:26:13.827Z"
   },
   {
    "duration": 2582,
    "start_time": "2023-07-30T19:26:13.838Z"
   },
   {
    "duration": 450,
    "start_time": "2023-07-30T19:26:16.422Z"
   },
   {
    "duration": 3,
    "start_time": "2023-07-30T19:26:16.873Z"
   },
   {
    "duration": 26,
    "start_time": "2023-07-30T19:26:16.877Z"
   },
   {
    "duration": 1427,
    "start_time": "2023-07-30T19:26:16.904Z"
   },
   {
    "duration": 5,
    "start_time": "2023-07-30T19:26:18.332Z"
   },
   {
    "duration": 16,
    "start_time": "2023-07-30T19:26:18.339Z"
   },
   {
    "duration": 3,
    "start_time": "2023-07-30T19:26:18.356Z"
   },
   {
    "duration": 17,
    "start_time": "2023-07-30T19:26:18.360Z"
   },
   {
    "duration": 44,
    "start_time": "2023-07-30T19:26:18.378Z"
   },
   {
    "duration": 3,
    "start_time": "2023-07-30T19:26:18.424Z"
   },
   {
    "duration": 1181,
    "start_time": "2023-07-30T19:26:18.428Z"
   },
   {
    "duration": 4696,
    "start_time": "2023-07-30T19:26:19.610Z"
   },
   {
    "duration": 5,
    "start_time": "2023-07-30T19:26:24.399Z"
   },
   {
    "duration": 83588,
    "start_time": "2023-07-30T19:26:24.406Z"
   },
   {
    "duration": 2081,
    "start_time": "2023-07-30T19:36:00.618Z"
   },
   {
    "duration": 725,
    "start_time": "2023-07-30T19:36:02.701Z"
   },
   {
    "duration": 17,
    "start_time": "2023-07-30T19:36:03.427Z"
   },
   {
    "duration": 29,
    "start_time": "2023-07-30T19:36:03.446Z"
   },
   {
    "duration": 41,
    "start_time": "2023-07-30T19:36:03.477Z"
   },
   {
    "duration": 28,
    "start_time": "2023-07-30T19:36:03.520Z"
   },
   {
    "duration": 17,
    "start_time": "2023-07-30T19:36:03.550Z"
   },
   {
    "duration": 3,
    "start_time": "2023-07-30T19:36:03.569Z"
   },
   {
    "duration": 6,
    "start_time": "2023-07-30T19:36:03.574Z"
   },
   {
    "duration": 6,
    "start_time": "2023-07-30T19:36:03.582Z"
   },
   {
    "duration": 8,
    "start_time": "2023-07-30T19:36:03.599Z"
   },
   {
    "duration": 17,
    "start_time": "2023-07-30T19:36:03.609Z"
   },
   {
    "duration": 407,
    "start_time": "2023-07-30T19:36:03.627Z"
   },
   {
    "duration": 11,
    "start_time": "2023-07-30T19:36:04.036Z"
   },
   {
    "duration": 23,
    "start_time": "2023-07-30T19:36:04.048Z"
   },
   {
    "duration": 35,
    "start_time": "2023-07-30T19:36:04.072Z"
   },
   {
    "duration": 7,
    "start_time": "2023-07-30T19:36:04.108Z"
   },
   {
    "duration": 17,
    "start_time": "2023-07-30T19:36:04.116Z"
   },
   {
    "duration": 9,
    "start_time": "2023-07-30T19:36:04.135Z"
   },
   {
    "duration": 6,
    "start_time": "2023-07-30T19:36:04.146Z"
   },
   {
    "duration": 14,
    "start_time": "2023-07-30T19:36:04.153Z"
   },
   {
    "duration": 23,
    "start_time": "2023-07-30T19:36:04.169Z"
   },
   {
    "duration": 6,
    "start_time": "2023-07-30T19:36:04.193Z"
   },
   {
    "duration": 12,
    "start_time": "2023-07-30T19:36:04.201Z"
   },
   {
    "duration": 5,
    "start_time": "2023-07-30T19:36:04.215Z"
   },
   {
    "duration": 54,
    "start_time": "2023-07-30T19:36:04.221Z"
   },
   {
    "duration": 44,
    "start_time": "2023-07-30T19:36:04.277Z"
   },
   {
    "duration": 77,
    "start_time": "2023-07-30T19:36:04.324Z"
   },
   {
    "duration": 122,
    "start_time": "2023-07-30T19:36:04.403Z"
   },
   {
    "duration": 5,
    "start_time": "2023-07-30T19:36:04.527Z"
   },
   {
    "duration": 14,
    "start_time": "2023-07-30T19:36:04.533Z"
   },
   {
    "duration": 3283,
    "start_time": "2023-07-30T19:36:04.548Z"
   },
   {
    "duration": 872,
    "start_time": "2023-07-30T19:36:07.832Z"
   },
   {
    "duration": 3,
    "start_time": "2023-07-30T19:36:08.705Z"
   },
   {
    "duration": 27,
    "start_time": "2023-07-30T19:36:08.710Z"
   },
   {
    "duration": 1581,
    "start_time": "2023-07-30T19:36:08.739Z"
   },
   {
    "duration": 3,
    "start_time": "2023-07-30T19:36:10.321Z"
   },
   {
    "duration": 17,
    "start_time": "2023-07-30T19:36:10.326Z"
   },
   {
    "duration": 2,
    "start_time": "2023-07-30T19:36:10.345Z"
   },
   {
    "duration": 26,
    "start_time": "2023-07-30T19:36:10.348Z"
   },
   {
    "duration": 38,
    "start_time": "2023-07-30T19:36:10.376Z"
   },
   {
    "duration": 5,
    "start_time": "2023-07-30T19:36:10.416Z"
   },
   {
    "duration": 780,
    "start_time": "2023-07-30T19:36:10.422Z"
   },
   {
    "duration": 1324,
    "start_time": "2023-07-30T19:36:12.972Z"
   },
   {
    "duration": 822,
    "start_time": "2023-07-30T19:36:14.298Z"
   },
   {
    "duration": 18,
    "start_time": "2023-07-30T19:36:15.122Z"
   },
   {
    "duration": 73,
    "start_time": "2023-07-30T19:36:15.142Z"
   },
   {
    "duration": 4,
    "start_time": "2023-07-30T19:36:15.217Z"
   },
   {
    "duration": 85,
    "start_time": "2023-07-30T19:36:15.223Z"
   },
   {
    "duration": 18,
    "start_time": "2023-07-30T19:36:15.311Z"
   },
   {
    "duration": 4,
    "start_time": "2023-07-30T19:36:15.331Z"
   },
   {
    "duration": 63,
    "start_time": "2023-07-30T19:36:15.337Z"
   },
   {
    "duration": 13,
    "start_time": "2023-07-30T19:36:15.404Z"
   },
   {
    "duration": 12,
    "start_time": "2023-07-30T19:36:15.418Z"
   },
   {
    "duration": 24,
    "start_time": "2023-07-30T19:36:15.431Z"
   },
   {
    "duration": 986,
    "start_time": "2023-07-30T19:36:15.457Z"
   },
   {
    "duration": 55,
    "start_time": "2023-07-30T19:36:16.445Z"
   },
   {
    "duration": 19,
    "start_time": "2023-07-30T19:36:16.501Z"
   },
   {
    "duration": 90,
    "start_time": "2023-07-30T19:36:16.521Z"
   },
   {
    "duration": 9,
    "start_time": "2023-07-30T19:36:16.613Z"
   },
   {
    "duration": 82,
    "start_time": "2023-07-30T19:36:16.623Z"
   },
   {
    "duration": 2,
    "start_time": "2023-07-30T19:36:16.708Z"
   },
   {
    "duration": 13,
    "start_time": "2023-07-30T19:36:16.712Z"
   },
   {
    "duration": 10,
    "start_time": "2023-07-30T19:36:16.726Z"
   },
   {
    "duration": 15,
    "start_time": "2023-07-30T19:36:16.738Z"
   },
   {
    "duration": 7,
    "start_time": "2023-07-30T19:36:16.754Z"
   },
   {
    "duration": 3,
    "start_time": "2023-07-30T19:36:16.800Z"
   },
   {
    "duration": 21,
    "start_time": "2023-07-30T19:36:16.804Z"
   },
   {
    "duration": 88,
    "start_time": "2023-07-30T19:36:16.827Z"
   },
   {
    "duration": 38,
    "start_time": "2023-07-30T19:36:16.916Z"
   },
   {
    "duration": 86,
    "start_time": "2023-07-30T19:36:16.958Z"
   },
   {
    "duration": 95,
    "start_time": "2023-07-30T19:36:17.046Z"
   },
   {
    "duration": 4,
    "start_time": "2023-07-30T19:36:17.143Z"
   },
   {
    "duration": 8,
    "start_time": "2023-07-30T19:36:17.149Z"
   },
   {
    "duration": 2462,
    "start_time": "2023-07-30T19:36:17.159Z"
   },
   {
    "duration": 440,
    "start_time": "2023-07-30T19:36:19.622Z"
   },
   {
    "duration": 4,
    "start_time": "2023-07-30T19:36:20.064Z"
   },
   {
    "duration": 33,
    "start_time": "2023-07-30T19:36:20.069Z"
   },
   {
    "duration": 1839,
    "start_time": "2023-07-30T19:36:20.103Z"
   },
   {
    "duration": 56,
    "start_time": "2023-07-30T19:36:21.943Z"
   },
   {
    "duration": 16,
    "start_time": "2023-07-30T19:36:22.001Z"
   },
   {
    "duration": 3,
    "start_time": "2023-07-30T19:36:22.018Z"
   },
   {
    "duration": 6,
    "start_time": "2023-07-30T19:36:22.022Z"
   },
   {
    "duration": 84,
    "start_time": "2023-07-30T19:36:22.029Z"
   },
   {
    "duration": 2,
    "start_time": "2023-07-30T19:36:22.115Z"
   },
   {
    "duration": 882,
    "start_time": "2023-07-30T19:36:22.118Z"
   },
   {
    "duration": 4302,
    "start_time": "2023-07-30T19:36:23.002Z"
   },
   {
    "duration": 94,
    "start_time": "2023-07-30T19:36:27.305Z"
   },
   {
    "duration": 47338,
    "start_time": "2023-07-30T19:36:27.400Z"
   },
   {
    "duration": 8,
    "start_time": "2023-07-30T19:37:14.740Z"
   },
   {
    "duration": 0,
    "start_time": "2023-07-30T19:37:14.749Z"
   },
   {
    "duration": 40609,
    "start_time": "2023-07-30T19:38:18.892Z"
   },
   {
    "duration": 5514,
    "start_time": "2023-07-30T19:38:59.502Z"
   },
   {
    "duration": 6,
    "start_time": "2023-07-30T19:39:05.018Z"
   },
   {
    "duration": 1383664,
    "start_time": "2023-07-30T19:41:40.016Z"
   },
   {
    "duration": 3,
    "start_time": "2023-07-30T20:04:43.681Z"
   },
   {
    "duration": 376072,
    "start_time": "2023-07-30T20:05:10.126Z"
   },
   {
    "duration": 6,
    "start_time": "2023-07-30T20:12:05.248Z"
   },
   {
    "duration": 265359,
    "start_time": "2023-07-30T20:12:11.964Z"
   },
   {
    "duration": 5,
    "start_time": "2023-07-30T20:16:37.325Z"
   },
   {
    "duration": 12,
    "start_time": "2023-07-30T20:25:56.478Z"
   },
   {
    "duration": 9,
    "start_time": "2023-07-30T20:35:30.793Z"
   },
   {
    "duration": 0,
    "start_time": "2023-07-30T20:38:38.231Z"
   },
   {
    "duration": 128095,
    "start_time": "2023-07-30T20:39:52.837Z"
   },
   {
    "duration": 128733,
    "start_time": "2023-07-30T20:42:38.845Z"
   },
   {
    "duration": 160,
    "start_time": "2023-07-30T20:44:47.581Z"
   },
   {
    "duration": 4,
    "start_time": "2023-07-30T20:56:14.981Z"
   },
   {
    "duration": 3,
    "start_time": "2023-07-30T20:59:04.394Z"
   },
   {
    "duration": 9,
    "start_time": "2023-07-31T21:14:20.296Z"
   },
   {
    "duration": 191,
    "start_time": "2023-07-31T21:14:30.361Z"
   },
   {
    "duration": 1764,
    "start_time": "2023-08-01T09:03:20.167Z"
   },
   {
    "duration": 2313,
    "start_time": "2023-08-01T09:04:03.604Z"
   },
   {
    "duration": 28,
    "start_time": "2023-08-01T09:04:24.228Z"
   },
   {
    "duration": 23,
    "start_time": "2023-08-01T09:04:24.556Z"
   },
   {
    "duration": 22,
    "start_time": "2023-08-01T09:04:25.642Z"
   },
   {
    "duration": 4,
    "start_time": "2023-08-01T09:04:29.578Z"
   },
   {
    "duration": 22,
    "start_time": "2023-08-01T09:04:32.251Z"
   },
   {
    "duration": 17,
    "start_time": "2023-08-01T09:04:32.686Z"
   },
   {
    "duration": 5,
    "start_time": "2023-08-01T09:04:40.373Z"
   },
   {
    "duration": 8,
    "start_time": "2023-08-01T09:04:47.293Z"
   },
   {
    "duration": 4,
    "start_time": "2023-08-01T09:11:25.687Z"
   },
   {
    "duration": 788,
    "start_time": "2023-08-01T09:11:26.327Z"
   },
   {
    "duration": 22,
    "start_time": "2023-08-01T09:11:27.117Z"
   },
   {
    "duration": 27,
    "start_time": "2023-08-01T09:11:27.140Z"
   },
   {
    "duration": 21,
    "start_time": "2023-08-01T09:11:27.169Z"
   },
   {
    "duration": 19,
    "start_time": "2023-08-01T09:11:27.192Z"
   },
   {
    "duration": 24,
    "start_time": "2023-08-01T09:11:27.213Z"
   },
   {
    "duration": 15,
    "start_time": "2023-08-01T09:11:27.239Z"
   },
   {
    "duration": 4,
    "start_time": "2023-08-01T09:11:27.256Z"
   },
   {
    "duration": 9,
    "start_time": "2023-08-01T09:11:27.262Z"
   },
   {
    "duration": 47,
    "start_time": "2023-08-01T09:11:27.273Z"
   },
   {
    "duration": 497,
    "start_time": "2023-08-01T09:11:27.971Z"
   },
   {
    "duration": 14,
    "start_time": "2023-08-01T09:11:58.649Z"
   },
   {
    "duration": 22,
    "start_time": "2023-08-01T09:12:01.663Z"
   },
   {
    "duration": 25,
    "start_time": "2023-08-01T09:12:03.137Z"
   },
   {
    "duration": 1531,
    "start_time": "2023-08-01T09:12:19.534Z"
   },
   {
    "duration": 709,
    "start_time": "2023-08-01T09:12:21.067Z"
   },
   {
    "duration": 32,
    "start_time": "2023-08-01T09:12:21.778Z"
   },
   {
    "duration": 32,
    "start_time": "2023-08-01T09:12:21.813Z"
   },
   {
    "duration": 56,
    "start_time": "2023-08-01T09:12:21.848Z"
   },
   {
    "duration": 48,
    "start_time": "2023-08-01T09:12:21.906Z"
   },
   {
    "duration": 51,
    "start_time": "2023-08-01T09:12:21.955Z"
   },
   {
    "duration": 19,
    "start_time": "2023-08-01T09:12:22.008Z"
   },
   {
    "duration": 19,
    "start_time": "2023-08-01T09:12:22.028Z"
   },
   {
    "duration": 40,
    "start_time": "2023-08-01T09:12:22.050Z"
   },
   {
    "duration": 29,
    "start_time": "2023-08-01T09:12:22.092Z"
   },
   {
    "duration": 444,
    "start_time": "2023-08-01T09:12:22.123Z"
   },
   {
    "duration": 13,
    "start_time": "2023-08-01T09:12:22.568Z"
   },
   {
    "duration": 43,
    "start_time": "2023-08-01T09:12:22.582Z"
   },
   {
    "duration": 134,
    "start_time": "2023-08-01T09:12:22.626Z"
   },
   {
    "duration": 0,
    "start_time": "2023-08-01T09:12:22.763Z"
   },
   {
    "duration": 0,
    "start_time": "2023-08-01T09:12:22.764Z"
   },
   {
    "duration": 0,
    "start_time": "2023-08-01T09:12:22.765Z"
   },
   {
    "duration": 0,
    "start_time": "2023-08-01T09:12:22.766Z"
   },
   {
    "duration": 0,
    "start_time": "2023-08-01T09:12:22.767Z"
   },
   {
    "duration": 0,
    "start_time": "2023-08-01T09:12:22.768Z"
   },
   {
    "duration": 0,
    "start_time": "2023-08-01T09:12:22.769Z"
   },
   {
    "duration": 0,
    "start_time": "2023-08-01T09:12:22.770Z"
   },
   {
    "duration": 0,
    "start_time": "2023-08-01T09:12:22.771Z"
   },
   {
    "duration": 0,
    "start_time": "2023-08-01T09:12:22.772Z"
   },
   {
    "duration": 0,
    "start_time": "2023-08-01T09:12:22.773Z"
   },
   {
    "duration": 0,
    "start_time": "2023-08-01T09:12:22.775Z"
   },
   {
    "duration": 0,
    "start_time": "2023-08-01T09:12:22.776Z"
   },
   {
    "duration": 0,
    "start_time": "2023-08-01T09:12:22.777Z"
   },
   {
    "duration": 0,
    "start_time": "2023-08-01T09:12:22.778Z"
   },
   {
    "duration": 0,
    "start_time": "2023-08-01T09:12:22.779Z"
   },
   {
    "duration": 0,
    "start_time": "2023-08-01T09:12:22.779Z"
   },
   {
    "duration": 0,
    "start_time": "2023-08-01T09:12:22.780Z"
   },
   {
    "duration": 0,
    "start_time": "2023-08-01T09:12:22.781Z"
   },
   {
    "duration": 0,
    "start_time": "2023-08-01T09:12:22.809Z"
   },
   {
    "duration": 0,
    "start_time": "2023-08-01T09:12:22.810Z"
   },
   {
    "duration": 0,
    "start_time": "2023-08-01T09:12:22.811Z"
   },
   {
    "duration": 0,
    "start_time": "2023-08-01T09:12:22.812Z"
   },
   {
    "duration": 0,
    "start_time": "2023-08-01T09:12:22.813Z"
   },
   {
    "duration": 0,
    "start_time": "2023-08-01T09:12:22.814Z"
   },
   {
    "duration": 0,
    "start_time": "2023-08-01T09:12:22.815Z"
   },
   {
    "duration": 0,
    "start_time": "2023-08-01T09:12:22.816Z"
   },
   {
    "duration": 0,
    "start_time": "2023-08-01T09:12:22.817Z"
   },
   {
    "duration": 0,
    "start_time": "2023-08-01T09:12:22.818Z"
   },
   {
    "duration": 0,
    "start_time": "2023-08-01T09:12:22.819Z"
   },
   {
    "duration": 0,
    "start_time": "2023-08-01T09:12:22.821Z"
   },
   {
    "duration": 0,
    "start_time": "2023-08-01T09:12:22.822Z"
   },
   {
    "duration": 0,
    "start_time": "2023-08-01T09:12:22.823Z"
   },
   {
    "duration": 0,
    "start_time": "2023-08-01T09:12:22.824Z"
   },
   {
    "duration": 0,
    "start_time": "2023-08-01T09:12:22.826Z"
   },
   {
    "duration": 0,
    "start_time": "2023-08-01T09:12:22.827Z"
   },
   {
    "duration": 0,
    "start_time": "2023-08-01T09:12:22.828Z"
   },
   {
    "duration": 0,
    "start_time": "2023-08-01T09:12:22.830Z"
   },
   {
    "duration": 0,
    "start_time": "2023-08-01T09:12:22.831Z"
   },
   {
    "duration": 3,
    "start_time": "2023-08-01T10:49:03.147Z"
   },
   {
    "duration": 15,
    "start_time": "2023-08-01T10:49:25.907Z"
   },
   {
    "duration": 6,
    "start_time": "2023-08-01T11:07:29.772Z"
   },
   {
    "duration": 36,
    "start_time": "2023-08-01T11:07:34.407Z"
   },
   {
    "duration": 5,
    "start_time": "2023-08-01T11:07:51.978Z"
   },
   {
    "duration": 12,
    "start_time": "2023-08-01T11:10:31.615Z"
   },
   {
    "duration": 43,
    "start_time": "2023-08-01T11:10:35.737Z"
   },
   {
    "duration": 5,
    "start_time": "2023-08-01T11:11:43.776Z"
   },
   {
    "duration": 6,
    "start_time": "2023-08-01T11:11:52.154Z"
   },
   {
    "duration": 4,
    "start_time": "2023-08-01T11:11:58.262Z"
   },
   {
    "duration": 5,
    "start_time": "2023-08-01T11:12:01.727Z"
   },
   {
    "duration": 37,
    "start_time": "2023-08-01T11:12:15.483Z"
   },
   {
    "duration": 2779,
    "start_time": "2023-08-01T11:14:39.932Z"
   },
   {
    "duration": 2452,
    "start_time": "2023-08-01T11:14:54.242Z"
   },
   {
    "duration": 18,
    "start_time": "2023-08-01T11:15:20.725Z"
   },
   {
    "duration": 278,
    "start_time": "2023-08-01T11:15:32.281Z"
   },
   {
    "duration": 554,
    "start_time": "2023-08-01T11:15:49.939Z"
   },
   {
    "duration": 30,
    "start_time": "2023-08-01T11:16:17.812Z"
   },
   {
    "duration": 244,
    "start_time": "2023-08-01T11:16:32.967Z"
   },
   {
    "duration": 243,
    "start_time": "2023-08-01T11:16:37.609Z"
   },
   {
    "duration": 12,
    "start_time": "2023-08-01T11:16:57.536Z"
   },
   {
    "duration": 242,
    "start_time": "2023-08-01T11:17:02.545Z"
   },
   {
    "duration": 251,
    "start_time": "2023-08-01T11:17:11.244Z"
   },
   {
    "duration": 7,
    "start_time": "2023-08-01T11:17:26.620Z"
   },
   {
    "duration": 261,
    "start_time": "2023-08-01T11:17:32.675Z"
   },
   {
    "duration": 254,
    "start_time": "2023-08-01T11:17:34.902Z"
   },
   {
    "duration": 6,
    "start_time": "2023-08-01T11:17:39.539Z"
   },
   {
    "duration": 130,
    "start_time": "2023-08-01T11:21:40.532Z"
   },
   {
    "duration": 6,
    "start_time": "2023-08-01T11:21:43.082Z"
   },
   {
    "duration": 282,
    "start_time": "2023-08-01T11:21:43.965Z"
   },
   {
    "duration": 125,
    "start_time": "2023-08-01T11:21:47.723Z"
   },
   {
    "duration": 17,
    "start_time": "2023-08-01T11:23:10.087Z"
   },
   {
    "duration": 44,
    "start_time": "2023-08-01T11:23:22.012Z"
   },
   {
    "duration": 7,
    "start_time": "2023-08-01T11:23:43.940Z"
   },
   {
    "duration": 17,
    "start_time": "2023-08-01T11:24:05.520Z"
   },
   {
    "duration": 6,
    "start_time": "2023-08-01T11:24:07.487Z"
   },
   {
    "duration": 12,
    "start_time": "2023-08-01T11:24:19.631Z"
   },
   {
    "duration": 7,
    "start_time": "2023-08-01T11:24:29.011Z"
   },
   {
    "duration": 13,
    "start_time": "2023-08-01T11:24:31.037Z"
   },
   {
    "duration": 15,
    "start_time": "2023-08-01T11:24:43.123Z"
   },
   {
    "duration": 103,
    "start_time": "2023-08-01T11:26:55.388Z"
   },
   {
    "duration": 4,
    "start_time": "2023-08-01T11:27:01.578Z"
   },
   {
    "duration": 4,
    "start_time": "2023-08-01T11:27:05.123Z"
   },
   {
    "duration": 3114,
    "start_time": "2023-08-01T11:27:05.511Z"
   },
   {
    "duration": 3263,
    "start_time": "2023-08-01T11:28:51.346Z"
   },
   {
    "duration": 4074,
    "start_time": "2023-08-01T11:28:57.227Z"
   },
   {
    "duration": 10,
    "start_time": "2023-08-01T12:31:51.093Z"
   },
   {
    "duration": 5,
    "start_time": "2023-08-01T12:32:00.760Z"
   },
   {
    "duration": 1448,
    "start_time": "2023-08-01T12:32:35.403Z"
   },
   {
    "duration": 751,
    "start_time": "2023-08-01T12:32:36.853Z"
   },
   {
    "duration": 25,
    "start_time": "2023-08-01T12:32:37.606Z"
   },
   {
    "duration": 20,
    "start_time": "2023-08-01T12:32:37.633Z"
   },
   {
    "duration": 32,
    "start_time": "2023-08-01T12:32:37.655Z"
   },
   {
    "duration": 11,
    "start_time": "2023-08-01T12:32:37.689Z"
   },
   {
    "duration": 28,
    "start_time": "2023-08-01T12:32:37.709Z"
   },
   {
    "duration": 15,
    "start_time": "2023-08-01T12:32:37.739Z"
   },
   {
    "duration": 4,
    "start_time": "2023-08-01T12:32:37.755Z"
   },
   {
    "duration": 18,
    "start_time": "2023-08-01T12:32:37.762Z"
   },
   {
    "duration": 35,
    "start_time": "2023-08-01T12:32:37.782Z"
   },
   {
    "duration": 449,
    "start_time": "2023-08-01T12:32:37.819Z"
   },
   {
    "duration": 14,
    "start_time": "2023-08-01T12:32:38.270Z"
   },
   {
    "duration": 120,
    "start_time": "2023-08-01T12:32:38.286Z"
   },
   {
    "duration": 67,
    "start_time": "2023-08-01T12:32:38.408Z"
   },
   {
    "duration": 17,
    "start_time": "2023-08-01T12:32:38.477Z"
   },
   {
    "duration": 29,
    "start_time": "2023-08-01T12:32:38.495Z"
   },
   {
    "duration": 27,
    "start_time": "2023-08-01T12:32:38.526Z"
   },
   {
    "duration": 13,
    "start_time": "2023-08-01T12:32:38.554Z"
   },
   {
    "duration": 17,
    "start_time": "2023-08-01T12:32:38.568Z"
   },
   {
    "duration": 26,
    "start_time": "2023-08-01T12:32:38.587Z"
   },
   {
    "duration": 23,
    "start_time": "2023-08-01T12:32:38.614Z"
   },
   {
    "duration": 23,
    "start_time": "2023-08-01T12:32:38.639Z"
   },
   {
    "duration": 18,
    "start_time": "2023-08-01T12:32:38.664Z"
   },
   {
    "duration": 8,
    "start_time": "2023-08-01T12:32:38.684Z"
   },
   {
    "duration": 29,
    "start_time": "2023-08-01T12:32:38.694Z"
   },
   {
    "duration": 29,
    "start_time": "2023-08-01T12:32:38.725Z"
   },
   {
    "duration": 28,
    "start_time": "2023-08-01T12:32:38.758Z"
   },
   {
    "duration": 15,
    "start_time": "2023-08-01T12:32:38.788Z"
   },
   {
    "duration": 211,
    "start_time": "2023-08-01T12:32:38.805Z"
   },
   {
    "duration": 6,
    "start_time": "2023-08-01T12:32:39.018Z"
   },
   {
    "duration": 183,
    "start_time": "2023-08-01T12:32:39.026Z"
   },
   {
    "duration": 6,
    "start_time": "2023-08-01T12:32:39.211Z"
   },
   {
    "duration": 51,
    "start_time": "2023-08-01T12:32:39.218Z"
   },
   {
    "duration": 20,
    "start_time": "2023-08-01T12:32:39.271Z"
   },
   {
    "duration": 121,
    "start_time": "2023-08-01T12:32:39.293Z"
   },
   {
    "duration": 5,
    "start_time": "2023-08-01T12:32:39.417Z"
   },
   {
    "duration": 26,
    "start_time": "2023-08-01T12:32:39.424Z"
   },
   {
    "duration": 27,
    "start_time": "2023-08-01T12:32:39.452Z"
   },
   {
    "duration": 106,
    "start_time": "2023-08-01T12:32:39.480Z"
   },
   {
    "duration": 0,
    "start_time": "2023-08-01T12:32:39.588Z"
   },
   {
    "duration": 0,
    "start_time": "2023-08-01T12:32:39.589Z"
   },
   {
    "duration": 0,
    "start_time": "2023-08-01T12:32:39.590Z"
   },
   {
    "duration": 0,
    "start_time": "2023-08-01T12:32:39.591Z"
   },
   {
    "duration": 0,
    "start_time": "2023-08-01T12:32:39.592Z"
   },
   {
    "duration": 0,
    "start_time": "2023-08-01T12:32:39.608Z"
   },
   {
    "duration": 0,
    "start_time": "2023-08-01T12:32:39.610Z"
   },
   {
    "duration": 0,
    "start_time": "2023-08-01T12:32:39.611Z"
   },
   {
    "duration": 0,
    "start_time": "2023-08-01T12:32:39.612Z"
   },
   {
    "duration": 0,
    "start_time": "2023-08-01T12:32:39.613Z"
   },
   {
    "duration": 0,
    "start_time": "2023-08-01T12:32:39.613Z"
   },
   {
    "duration": 0,
    "start_time": "2023-08-01T12:32:39.614Z"
   },
   {
    "duration": 0,
    "start_time": "2023-08-01T12:32:39.615Z"
   },
   {
    "duration": 0,
    "start_time": "2023-08-01T12:32:39.616Z"
   },
   {
    "duration": 0,
    "start_time": "2023-08-01T12:32:39.617Z"
   },
   {
    "duration": 0,
    "start_time": "2023-08-01T12:32:39.618Z"
   },
   {
    "duration": 0,
    "start_time": "2023-08-01T12:32:39.619Z"
   },
   {
    "duration": 0,
    "start_time": "2023-08-01T12:32:39.620Z"
   },
   {
    "duration": 0,
    "start_time": "2023-08-01T12:32:39.621Z"
   },
   {
    "duration": 0,
    "start_time": "2023-08-01T12:32:39.622Z"
   },
   {
    "duration": 0,
    "start_time": "2023-08-01T12:32:39.623Z"
   },
   {
    "duration": 0,
    "start_time": "2023-08-01T12:32:39.623Z"
   },
   {
    "duration": 0,
    "start_time": "2023-08-01T12:32:39.624Z"
   },
   {
    "duration": 2329,
    "start_time": "2023-08-01T12:32:48.745Z"
   },
   {
    "duration": 4,
    "start_time": "2023-08-01T12:33:01.203Z"
   },
   {
    "duration": 5,
    "start_time": "2023-08-01T12:33:10.508Z"
   },
   {
    "duration": 5,
    "start_time": "2023-08-01T12:33:18.147Z"
   },
   {
    "duration": 1455,
    "start_time": "2023-08-01T12:34:15.729Z"
   },
   {
    "duration": 1067,
    "start_time": "2023-08-01T12:34:17.186Z"
   },
   {
    "duration": 76,
    "start_time": "2023-08-01T12:34:18.254Z"
   },
   {
    "duration": 26,
    "start_time": "2023-08-01T12:34:18.332Z"
   },
   {
    "duration": 21,
    "start_time": "2023-08-01T12:34:18.409Z"
   },
   {
    "duration": 11,
    "start_time": "2023-08-01T12:34:18.431Z"
   },
   {
    "duration": 72,
    "start_time": "2023-08-01T12:34:18.443Z"
   },
   {
    "duration": 15,
    "start_time": "2023-08-01T12:34:18.517Z"
   },
   {
    "duration": 4,
    "start_time": "2023-08-01T12:34:18.534Z"
   },
   {
    "duration": 70,
    "start_time": "2023-08-01T12:34:18.541Z"
   },
   {
    "duration": 19,
    "start_time": "2023-08-01T12:34:18.613Z"
   },
   {
    "duration": 890,
    "start_time": "2023-08-01T12:34:18.634Z"
   },
   {
    "duration": 14,
    "start_time": "2023-08-01T12:34:19.526Z"
   },
   {
    "duration": 45,
    "start_time": "2023-08-01T12:34:19.542Z"
   },
   {
    "duration": 32,
    "start_time": "2023-08-01T12:34:19.589Z"
   },
   {
    "duration": 19,
    "start_time": "2023-08-01T12:34:19.623Z"
   },
   {
    "duration": 11,
    "start_time": "2023-08-01T12:34:19.644Z"
   },
   {
    "duration": 22,
    "start_time": "2023-08-01T12:34:19.657Z"
   },
   {
    "duration": 10,
    "start_time": "2023-08-01T12:34:19.681Z"
   },
   {
    "duration": 5,
    "start_time": "2023-08-01T12:34:19.693Z"
   },
   {
    "duration": 18,
    "start_time": "2023-08-01T12:34:19.699Z"
   },
   {
    "duration": 7,
    "start_time": "2023-08-01T12:34:19.719Z"
   },
   {
    "duration": 22,
    "start_time": "2023-08-01T12:34:19.728Z"
   },
   {
    "duration": 17,
    "start_time": "2023-08-01T12:34:19.752Z"
   },
   {
    "duration": 12,
    "start_time": "2023-08-01T12:34:19.770Z"
   },
   {
    "duration": 10,
    "start_time": "2023-08-01T12:34:19.784Z"
   },
   {
    "duration": 12,
    "start_time": "2023-08-01T12:34:19.795Z"
   },
   {
    "duration": 4,
    "start_time": "2023-08-01T12:34:19.812Z"
   },
   {
    "duration": 8,
    "start_time": "2023-08-01T12:34:19.817Z"
   },
   {
    "duration": 148,
    "start_time": "2023-08-01T12:34:19.826Z"
   },
   {
    "duration": 9,
    "start_time": "2023-08-01T12:34:19.976Z"
   },
   {
    "duration": 144,
    "start_time": "2023-08-01T12:34:19.986Z"
   },
   {
    "duration": 8,
    "start_time": "2023-08-01T12:34:20.132Z"
   },
   {
    "duration": 30,
    "start_time": "2023-08-01T12:34:20.142Z"
   },
   {
    "duration": 16,
    "start_time": "2023-08-01T12:34:20.174Z"
   },
   {
    "duration": 103,
    "start_time": "2023-08-01T12:34:20.209Z"
   },
   {
    "duration": 5,
    "start_time": "2023-08-01T12:34:20.314Z"
   },
   {
    "duration": 19,
    "start_time": "2023-08-01T12:34:20.320Z"
   },
   {
    "duration": 120,
    "start_time": "2023-08-01T12:34:20.340Z"
   },
   {
    "duration": 0,
    "start_time": "2023-08-01T12:34:20.461Z"
   },
   {
    "duration": 0,
    "start_time": "2023-08-01T12:34:20.463Z"
   },
   {
    "duration": 0,
    "start_time": "2023-08-01T12:34:20.464Z"
   },
   {
    "duration": 0,
    "start_time": "2023-08-01T12:34:20.465Z"
   },
   {
    "duration": 0,
    "start_time": "2023-08-01T12:34:20.466Z"
   },
   {
    "duration": 0,
    "start_time": "2023-08-01T12:34:20.468Z"
   },
   {
    "duration": 0,
    "start_time": "2023-08-01T12:34:20.469Z"
   },
   {
    "duration": 0,
    "start_time": "2023-08-01T12:34:20.470Z"
   },
   {
    "duration": 0,
    "start_time": "2023-08-01T12:34:20.471Z"
   },
   {
    "duration": 0,
    "start_time": "2023-08-01T12:34:20.472Z"
   },
   {
    "duration": 0,
    "start_time": "2023-08-01T12:34:20.473Z"
   },
   {
    "duration": 0,
    "start_time": "2023-08-01T12:34:20.474Z"
   },
   {
    "duration": 0,
    "start_time": "2023-08-01T12:34:20.476Z"
   },
   {
    "duration": 0,
    "start_time": "2023-08-01T12:34:20.477Z"
   },
   {
    "duration": 0,
    "start_time": "2023-08-01T12:34:20.478Z"
   },
   {
    "duration": 0,
    "start_time": "2023-08-01T12:34:20.509Z"
   },
   {
    "duration": 0,
    "start_time": "2023-08-01T12:34:20.511Z"
   },
   {
    "duration": 0,
    "start_time": "2023-08-01T12:34:20.512Z"
   },
   {
    "duration": 0,
    "start_time": "2023-08-01T12:34:20.513Z"
   },
   {
    "duration": 0,
    "start_time": "2023-08-01T12:34:20.514Z"
   },
   {
    "duration": 0,
    "start_time": "2023-08-01T12:34:20.515Z"
   },
   {
    "duration": 0,
    "start_time": "2023-08-01T12:34:20.517Z"
   },
   {
    "duration": 0,
    "start_time": "2023-08-01T12:34:20.518Z"
   },
   {
    "duration": 0,
    "start_time": "2023-08-01T12:34:20.519Z"
   },
   {
    "duration": 4,
    "start_time": "2023-08-01T12:34:33.123Z"
   },
   {
    "duration": 4,
    "start_time": "2023-08-01T12:34:38.422Z"
   },
   {
    "duration": 1717,
    "start_time": "2023-08-01T12:34:38.832Z"
   },
   {
    "duration": 1739,
    "start_time": "2023-08-01T12:36:25.169Z"
   },
   {
    "duration": 1653,
    "start_time": "2023-08-01T12:36:49.490Z"
   },
   {
    "duration": 1828,
    "start_time": "2023-08-01T12:37:30.039Z"
   },
   {
    "duration": 2041,
    "start_time": "2023-08-01T12:37:38.616Z"
   },
   {
    "duration": 1855,
    "start_time": "2023-08-01T12:37:52.756Z"
   },
   {
    "duration": 1648,
    "start_time": "2023-08-01T12:38:27.773Z"
   },
   {
    "duration": 1754,
    "start_time": "2023-08-01T12:38:59.844Z"
   },
   {
    "duration": 72,
    "start_time": "2023-08-01T12:42:48.516Z"
   },
   {
    "duration": 122,
    "start_time": "2023-08-01T12:43:01.204Z"
   },
   {
    "duration": 685,
    "start_time": "2023-08-01T12:43:04.179Z"
   },
   {
    "duration": 198,
    "start_time": "2023-08-01T12:43:09.605Z"
   },
   {
    "duration": 75,
    "start_time": "2023-08-01T12:43:12.516Z"
   },
   {
    "duration": 217,
    "start_time": "2023-08-01T12:43:25.171Z"
   },
   {
    "duration": 170,
    "start_time": "2023-08-01T12:43:32.389Z"
   },
   {
    "duration": 62,
    "start_time": "2023-08-01T12:44:28.455Z"
   },
   {
    "duration": 77,
    "start_time": "2023-08-01T12:44:44.827Z"
   },
   {
    "duration": 60,
    "start_time": "2023-08-01T12:44:52.400Z"
   },
   {
    "duration": 4,
    "start_time": "2023-08-01T12:45:52.444Z"
   },
   {
    "duration": 78,
    "start_time": "2023-08-01T12:45:55.324Z"
   },
   {
    "duration": 76,
    "start_time": "2023-08-01T12:46:11.698Z"
   },
   {
    "duration": 183,
    "start_time": "2023-08-01T12:46:26.644Z"
   },
   {
    "duration": 39,
    "start_time": "2023-08-01T12:46:44.284Z"
   },
   {
    "duration": 1210,
    "start_time": "2023-08-01T12:46:50.867Z"
   },
   {
    "duration": 1465,
    "start_time": "2023-08-01T12:47:49.721Z"
   },
   {
    "duration": 925,
    "start_time": "2023-08-01T12:48:51.956Z"
   },
   {
    "duration": 74,
    "start_time": "2023-08-01T12:49:03.535Z"
   },
   {
    "duration": 80,
    "start_time": "2023-08-01T12:50:26.295Z"
   },
   {
    "duration": 5,
    "start_time": "2023-08-01T12:50:46.424Z"
   },
   {
    "duration": 12,
    "start_time": "2023-08-01T12:52:09.546Z"
   },
   {
    "duration": 13,
    "start_time": "2023-08-01T12:52:13.977Z"
   },
   {
    "duration": 6,
    "start_time": "2023-08-01T12:52:17.749Z"
   },
   {
    "duration": 33,
    "start_time": "2023-08-01T12:53:33.655Z"
   },
   {
    "duration": 80,
    "start_time": "2023-08-01T12:53:52.237Z"
   },
   {
    "duration": 77,
    "start_time": "2023-08-01T12:56:01.248Z"
   },
   {
    "duration": 70,
    "start_time": "2023-08-01T12:56:05.562Z"
   },
   {
    "duration": 3,
    "start_time": "2023-08-01T12:56:57.963Z"
   },
   {
    "duration": 30,
    "start_time": "2023-08-01T12:56:58.317Z"
   },
   {
    "duration": 4,
    "start_time": "2023-08-01T12:57:10.256Z"
   },
   {
    "duration": 802,
    "start_time": "2023-08-01T12:57:10.262Z"
   },
   {
    "duration": 23,
    "start_time": "2023-08-01T12:57:11.067Z"
   },
   {
    "duration": 44,
    "start_time": "2023-08-01T12:57:11.093Z"
   },
   {
    "duration": 36,
    "start_time": "2023-08-01T12:57:11.140Z"
   },
   {
    "duration": 18,
    "start_time": "2023-08-01T12:57:11.179Z"
   },
   {
    "duration": 26,
    "start_time": "2023-08-01T12:57:11.199Z"
   },
   {
    "duration": 17,
    "start_time": "2023-08-01T12:57:11.227Z"
   },
   {
    "duration": 7,
    "start_time": "2023-08-01T12:57:11.246Z"
   },
   {
    "duration": 11,
    "start_time": "2023-08-01T12:57:11.254Z"
   },
   {
    "duration": 46,
    "start_time": "2023-08-01T12:57:11.268Z"
   },
   {
    "duration": 460,
    "start_time": "2023-08-01T12:57:11.316Z"
   },
   {
    "duration": 15,
    "start_time": "2023-08-01T12:57:11.777Z"
   },
   {
    "duration": 33,
    "start_time": "2023-08-01T12:57:11.794Z"
   },
   {
    "duration": 11,
    "start_time": "2023-08-01T12:57:11.829Z"
   },
   {
    "duration": 6,
    "start_time": "2023-08-01T12:57:11.842Z"
   },
   {
    "duration": 6,
    "start_time": "2023-08-01T12:57:11.850Z"
   },
   {
    "duration": 14,
    "start_time": "2023-08-01T12:57:11.858Z"
   },
   {
    "duration": 19,
    "start_time": "2023-08-01T12:57:11.874Z"
   },
   {
    "duration": 14,
    "start_time": "2023-08-01T12:57:11.896Z"
   },
   {
    "duration": 17,
    "start_time": "2023-08-01T12:57:11.912Z"
   },
   {
    "duration": 25,
    "start_time": "2023-08-01T12:57:11.931Z"
   },
   {
    "duration": 40,
    "start_time": "2023-08-01T12:57:11.958Z"
   },
   {
    "duration": 18,
    "start_time": "2023-08-01T12:57:12.000Z"
   },
   {
    "duration": 16,
    "start_time": "2023-08-01T12:57:12.020Z"
   },
   {
    "duration": 25,
    "start_time": "2023-08-01T12:57:12.037Z"
   },
   {
    "duration": 32,
    "start_time": "2023-08-01T12:57:12.064Z"
   },
   {
    "duration": 44,
    "start_time": "2023-08-01T12:57:12.098Z"
   },
   {
    "duration": 20,
    "start_time": "2023-08-01T12:57:12.146Z"
   },
   {
    "duration": 157,
    "start_time": "2023-08-01T12:57:12.168Z"
   },
   {
    "duration": 8,
    "start_time": "2023-08-01T12:57:12.327Z"
   },
   {
    "duration": 148,
    "start_time": "2023-08-01T12:57:12.336Z"
   },
   {
    "duration": 8,
    "start_time": "2023-08-01T12:57:12.486Z"
   },
   {
    "duration": 39,
    "start_time": "2023-08-01T12:57:12.496Z"
   },
   {
    "duration": 16,
    "start_time": "2023-08-01T12:57:12.537Z"
   },
   {
    "duration": 116,
    "start_time": "2023-08-01T12:57:12.555Z"
   },
   {
    "duration": 3,
    "start_time": "2023-08-01T12:57:12.673Z"
   },
   {
    "duration": 59,
    "start_time": "2023-08-01T12:57:12.677Z"
   },
   {
    "duration": 149,
    "start_time": "2023-08-01T12:57:12.738Z"
   },
   {
    "duration": 0,
    "start_time": "2023-08-01T12:57:12.889Z"
   },
   {
    "duration": 11,
    "start_time": "2023-08-01T12:57:35.082Z"
   },
   {
    "duration": 113,
    "start_time": "2023-08-01T12:57:39.051Z"
   },
   {
    "duration": 74,
    "start_time": "2023-08-01T12:57:44.785Z"
   },
   {
    "duration": 115,
    "start_time": "2023-08-01T12:57:49.734Z"
   },
   {
    "duration": 70,
    "start_time": "2023-08-01T12:58:23.929Z"
   },
   {
    "duration": 111,
    "start_time": "2023-08-01T12:58:24.733Z"
   },
   {
    "duration": 110,
    "start_time": "2023-08-01T12:58:27.673Z"
   },
   {
    "duration": 66,
    "start_time": "2023-08-01T12:58:28.553Z"
   },
   {
    "duration": 162,
    "start_time": "2023-08-01T12:58:35.060Z"
   },
   {
    "duration": 2688,
    "start_time": "2023-08-01T12:58:40.655Z"
   },
   {
    "duration": 178,
    "start_time": "2023-08-01T12:58:54.081Z"
   },
   {
    "duration": 177,
    "start_time": "2023-08-01T12:58:59.721Z"
   },
   {
    "duration": 70,
    "start_time": "2023-08-01T12:59:00.699Z"
   },
   {
    "duration": 294,
    "start_time": "2023-08-01T12:59:13.448Z"
   },
   {
    "duration": 154,
    "start_time": "2023-08-01T12:59:24.481Z"
   },
   {
    "duration": 4,
    "start_time": "2023-08-01T12:59:28.051Z"
   },
   {
    "duration": 709,
    "start_time": "2023-08-01T12:59:28.056Z"
   },
   {
    "duration": 21,
    "start_time": "2023-08-01T12:59:28.768Z"
   },
   {
    "duration": 52,
    "start_time": "2023-08-01T12:59:28.791Z"
   },
   {
    "duration": 27,
    "start_time": "2023-08-01T12:59:28.845Z"
   },
   {
    "duration": 22,
    "start_time": "2023-08-01T12:59:28.874Z"
   },
   {
    "duration": 27,
    "start_time": "2023-08-01T12:59:28.897Z"
   },
   {
    "duration": 17,
    "start_time": "2023-08-01T12:59:28.926Z"
   },
   {
    "duration": 21,
    "start_time": "2023-08-01T12:59:28.944Z"
   },
   {
    "duration": 13,
    "start_time": "2023-08-01T12:59:28.967Z"
   },
   {
    "duration": 21,
    "start_time": "2023-08-01T12:59:28.982Z"
   },
   {
    "duration": 389,
    "start_time": "2023-08-01T12:59:29.005Z"
   },
   {
    "duration": 18,
    "start_time": "2023-08-01T12:59:29.396Z"
   },
   {
    "duration": 97,
    "start_time": "2023-08-01T12:59:29.417Z"
   },
   {
    "duration": 22,
    "start_time": "2023-08-01T12:59:29.516Z"
   },
   {
    "duration": 34,
    "start_time": "2023-08-01T12:59:29.539Z"
   },
   {
    "duration": 42,
    "start_time": "2023-08-01T12:59:29.575Z"
   },
   {
    "duration": 22,
    "start_time": "2023-08-01T12:59:29.619Z"
   },
   {
    "duration": 62,
    "start_time": "2023-08-01T12:59:29.643Z"
   },
   {
    "duration": 23,
    "start_time": "2023-08-01T12:59:29.706Z"
   },
   {
    "duration": 11,
    "start_time": "2023-08-01T12:59:29.731Z"
   },
   {
    "duration": 19,
    "start_time": "2023-08-01T12:59:29.744Z"
   },
   {
    "duration": 36,
    "start_time": "2023-08-01T12:59:29.764Z"
   },
   {
    "duration": 8,
    "start_time": "2023-08-01T12:59:29.802Z"
   },
   {
    "duration": 5,
    "start_time": "2023-08-01T12:59:29.812Z"
   },
   {
    "duration": 12,
    "start_time": "2023-08-01T12:59:29.818Z"
   },
   {
    "duration": 6,
    "start_time": "2023-08-01T12:59:29.832Z"
   },
   {
    "duration": 24,
    "start_time": "2023-08-01T12:59:29.840Z"
   },
   {
    "duration": 15,
    "start_time": "2023-08-01T12:59:29.867Z"
   },
   {
    "duration": 151,
    "start_time": "2023-08-01T12:59:29.884Z"
   },
   {
    "duration": 9,
    "start_time": "2023-08-01T12:59:30.036Z"
   },
   {
    "duration": 175,
    "start_time": "2023-08-01T12:59:30.047Z"
   },
   {
    "duration": 18,
    "start_time": "2023-08-01T12:59:30.224Z"
   },
   {
    "duration": 62,
    "start_time": "2023-08-01T12:59:30.243Z"
   },
   {
    "duration": 47,
    "start_time": "2023-08-01T12:59:30.307Z"
   },
   {
    "duration": 183,
    "start_time": "2023-08-01T12:59:30.355Z"
   },
   {
    "duration": 3,
    "start_time": "2023-08-01T12:59:30.540Z"
   },
   {
    "duration": 116,
    "start_time": "2023-08-01T12:59:30.545Z"
   },
   {
    "duration": 202,
    "start_time": "2023-08-01T12:59:30.663Z"
   },
   {
    "duration": 77,
    "start_time": "2023-08-01T12:59:30.867Z"
   },
   {
    "duration": 181,
    "start_time": "2023-08-01T12:59:30.946Z"
   },
   {
    "duration": 78,
    "start_time": "2023-08-01T12:59:50.550Z"
   },
   {
    "duration": 71,
    "start_time": "2023-08-01T13:00:22.035Z"
   },
   {
    "duration": 71,
    "start_time": "2023-08-01T13:00:29.660Z"
   },
   {
    "duration": 173,
    "start_time": "2023-08-01T13:00:31.945Z"
   },
   {
    "duration": 6,
    "start_time": "2023-08-01T13:01:22.891Z"
   },
   {
    "duration": 5,
    "start_time": "2023-08-01T13:01:30.988Z"
   },
   {
    "duration": 3,
    "start_time": "2023-08-01T13:01:52.914Z"
   },
   {
    "duration": 708,
    "start_time": "2023-08-01T13:01:52.919Z"
   },
   {
    "duration": 22,
    "start_time": "2023-08-01T13:01:53.629Z"
   },
   {
    "duration": 22,
    "start_time": "2023-08-01T13:01:53.654Z"
   },
   {
    "duration": 43,
    "start_time": "2023-08-01T13:01:53.679Z"
   },
   {
    "duration": 5,
    "start_time": "2023-08-01T13:01:53.725Z"
   },
   {
    "duration": 30,
    "start_time": "2023-08-01T13:01:53.732Z"
   },
   {
    "duration": 17,
    "start_time": "2023-08-01T13:01:53.764Z"
   },
   {
    "duration": 29,
    "start_time": "2023-08-01T13:01:53.783Z"
   },
   {
    "duration": 27,
    "start_time": "2023-08-01T13:01:53.814Z"
   },
   {
    "duration": 26,
    "start_time": "2023-08-01T13:01:53.844Z"
   },
   {
    "duration": 400,
    "start_time": "2023-08-01T13:01:53.872Z"
   },
   {
    "duration": 17,
    "start_time": "2023-08-01T13:01:54.274Z"
   },
   {
    "duration": 55,
    "start_time": "2023-08-01T13:01:54.293Z"
   },
   {
    "duration": 14,
    "start_time": "2023-08-01T13:01:54.350Z"
   },
   {
    "duration": 8,
    "start_time": "2023-08-01T13:01:54.366Z"
   },
   {
    "duration": 15,
    "start_time": "2023-08-01T13:01:54.376Z"
   },
   {
    "duration": 13,
    "start_time": "2023-08-01T13:01:54.393Z"
   },
   {
    "duration": 9,
    "start_time": "2023-08-01T13:01:54.408Z"
   },
   {
    "duration": 2,
    "start_time": "2023-08-01T13:01:54.419Z"
   },
   {
    "duration": 9,
    "start_time": "2023-08-01T13:01:54.423Z"
   },
   {
    "duration": 16,
    "start_time": "2023-08-01T13:01:54.434Z"
   },
   {
    "duration": 8,
    "start_time": "2023-08-01T13:01:54.452Z"
   },
   {
    "duration": 6,
    "start_time": "2023-08-01T13:01:54.462Z"
   },
   {
    "duration": 5,
    "start_time": "2023-08-01T13:01:54.470Z"
   },
   {
    "duration": 9,
    "start_time": "2023-08-01T13:01:54.477Z"
   },
   {
    "duration": 9,
    "start_time": "2023-08-01T13:01:54.488Z"
   },
   {
    "duration": 21,
    "start_time": "2023-08-01T13:01:54.498Z"
   },
   {
    "duration": 8,
    "start_time": "2023-08-01T13:01:54.524Z"
   },
   {
    "duration": 132,
    "start_time": "2023-08-01T13:01:54.534Z"
   },
   {
    "duration": 8,
    "start_time": "2023-08-01T13:01:54.668Z"
   },
   {
    "duration": 143,
    "start_time": "2023-08-01T13:01:54.678Z"
   },
   {
    "duration": 8,
    "start_time": "2023-08-01T13:01:54.823Z"
   },
   {
    "duration": 22,
    "start_time": "2023-08-01T13:01:54.833Z"
   },
   {
    "duration": 16,
    "start_time": "2023-08-01T13:01:54.857Z"
   },
   {
    "duration": 101,
    "start_time": "2023-08-01T13:01:54.909Z"
   },
   {
    "duration": 4,
    "start_time": "2023-08-01T13:01:55.011Z"
   },
   {
    "duration": 40,
    "start_time": "2023-08-01T13:01:55.016Z"
   },
   {
    "duration": 182,
    "start_time": "2023-08-01T13:01:55.059Z"
   },
   {
    "duration": 72,
    "start_time": "2023-08-01T13:01:55.243Z"
   },
   {
    "duration": 6,
    "start_time": "2023-08-01T13:01:55.317Z"
   },
   {
    "duration": 180,
    "start_time": "2023-08-01T13:01:55.324Z"
   },
   {
    "duration": 5,
    "start_time": "2023-08-01T13:03:23.633Z"
   },
   {
    "duration": 6,
    "start_time": "2023-08-01T13:03:39.712Z"
   },
   {
    "duration": 14,
    "start_time": "2023-08-01T13:03:48.999Z"
   },
   {
    "duration": 4,
    "start_time": "2023-08-01T13:03:55.711Z"
   },
   {
    "duration": 894,
    "start_time": "2023-08-01T13:03:55.721Z"
   },
   {
    "duration": 21,
    "start_time": "2023-08-01T13:03:56.617Z"
   },
   {
    "duration": 33,
    "start_time": "2023-08-01T13:03:56.640Z"
   },
   {
    "duration": 27,
    "start_time": "2023-08-01T13:03:56.674Z"
   },
   {
    "duration": 16,
    "start_time": "2023-08-01T13:03:56.710Z"
   },
   {
    "duration": 27,
    "start_time": "2023-08-01T13:03:56.728Z"
   },
   {
    "duration": 22,
    "start_time": "2023-08-01T13:03:56.757Z"
   },
   {
    "duration": 4,
    "start_time": "2023-08-01T13:03:56.781Z"
   },
   {
    "duration": 28,
    "start_time": "2023-08-01T13:03:56.787Z"
   },
   {
    "duration": 24,
    "start_time": "2023-08-01T13:03:56.817Z"
   },
   {
    "duration": 456,
    "start_time": "2023-08-01T13:03:56.843Z"
   },
   {
    "duration": 14,
    "start_time": "2023-08-01T13:03:57.300Z"
   },
   {
    "duration": 38,
    "start_time": "2023-08-01T13:03:57.316Z"
   },
   {
    "duration": 4,
    "start_time": "2023-08-01T13:03:57.358Z"
   },
   {
    "duration": 6,
    "start_time": "2023-08-01T13:03:57.364Z"
   },
   {
    "duration": 7,
    "start_time": "2023-08-01T13:03:57.372Z"
   },
   {
    "duration": 13,
    "start_time": "2023-08-01T13:03:57.381Z"
   },
   {
    "duration": 17,
    "start_time": "2023-08-01T13:03:57.396Z"
   },
   {
    "duration": 3,
    "start_time": "2023-08-01T13:03:57.416Z"
   },
   {
    "duration": 14,
    "start_time": "2023-08-01T13:03:57.421Z"
   },
   {
    "duration": 8,
    "start_time": "2023-08-01T13:03:57.437Z"
   },
   {
    "duration": 12,
    "start_time": "2023-08-01T13:03:57.447Z"
   },
   {
    "duration": 13,
    "start_time": "2023-08-01T13:03:57.461Z"
   },
   {
    "duration": 9,
    "start_time": "2023-08-01T13:03:57.475Z"
   },
   {
    "duration": 8,
    "start_time": "2023-08-01T13:03:57.486Z"
   },
   {
    "duration": 12,
    "start_time": "2023-08-01T13:03:57.496Z"
   },
   {
    "duration": 12,
    "start_time": "2023-08-01T13:03:57.510Z"
   },
   {
    "duration": 9,
    "start_time": "2023-08-01T13:03:57.523Z"
   },
   {
    "duration": 139,
    "start_time": "2023-08-01T13:03:57.533Z"
   },
   {
    "duration": 8,
    "start_time": "2023-08-01T13:03:57.674Z"
   },
   {
    "duration": 287,
    "start_time": "2023-08-01T13:03:57.683Z"
   },
   {
    "duration": 8,
    "start_time": "2023-08-01T13:03:57.973Z"
   },
   {
    "duration": 39,
    "start_time": "2023-08-01T13:03:57.983Z"
   },
   {
    "duration": 15,
    "start_time": "2023-08-01T13:03:58.024Z"
   },
   {
    "duration": 108,
    "start_time": "2023-08-01T13:03:58.041Z"
   },
   {
    "duration": 3,
    "start_time": "2023-08-01T13:03:58.150Z"
   },
   {
    "duration": 37,
    "start_time": "2023-08-01T13:03:58.154Z"
   },
   {
    "duration": 40,
    "start_time": "2023-08-01T13:03:58.193Z"
   },
   {
    "duration": 4,
    "start_time": "2023-08-01T13:04:43.962Z"
   },
   {
    "duration": 721,
    "start_time": "2023-08-01T13:04:43.968Z"
   },
   {
    "duration": 30,
    "start_time": "2023-08-01T13:04:44.691Z"
   },
   {
    "duration": 28,
    "start_time": "2023-08-01T13:04:44.723Z"
   },
   {
    "duration": 23,
    "start_time": "2023-08-01T13:04:44.753Z"
   },
   {
    "duration": 21,
    "start_time": "2023-08-01T13:04:44.778Z"
   },
   {
    "duration": 27,
    "start_time": "2023-08-01T13:04:44.800Z"
   },
   {
    "duration": 16,
    "start_time": "2023-08-01T13:04:44.829Z"
   },
   {
    "duration": 18,
    "start_time": "2023-08-01T13:04:44.847Z"
   },
   {
    "duration": 37,
    "start_time": "2023-08-01T13:04:44.867Z"
   },
   {
    "duration": 15,
    "start_time": "2023-08-01T13:04:44.908Z"
   },
   {
    "duration": 393,
    "start_time": "2023-08-01T13:04:44.925Z"
   },
   {
    "duration": 14,
    "start_time": "2023-08-01T13:04:45.320Z"
   },
   {
    "duration": 37,
    "start_time": "2023-08-01T13:04:45.336Z"
   },
   {
    "duration": 28,
    "start_time": "2023-08-01T13:04:45.375Z"
   },
   {
    "duration": 9,
    "start_time": "2023-08-01T13:04:45.405Z"
   },
   {
    "duration": 19,
    "start_time": "2023-08-01T13:04:45.416Z"
   },
   {
    "duration": 20,
    "start_time": "2023-08-01T13:04:45.437Z"
   },
   {
    "duration": 11,
    "start_time": "2023-08-01T13:04:45.459Z"
   },
   {
    "duration": 10,
    "start_time": "2023-08-01T13:04:45.472Z"
   },
   {
    "duration": 13,
    "start_time": "2023-08-01T13:04:45.484Z"
   },
   {
    "duration": 6,
    "start_time": "2023-08-01T13:04:45.499Z"
   },
   {
    "duration": 10,
    "start_time": "2023-08-01T13:04:45.507Z"
   },
   {
    "duration": 7,
    "start_time": "2023-08-01T13:04:45.518Z"
   },
   {
    "duration": 12,
    "start_time": "2023-08-01T13:04:45.526Z"
   },
   {
    "duration": 25,
    "start_time": "2023-08-01T13:04:45.539Z"
   },
   {
    "duration": 29,
    "start_time": "2023-08-01T13:04:45.566Z"
   },
   {
    "duration": 11,
    "start_time": "2023-08-01T13:04:45.598Z"
   },
   {
    "duration": 10,
    "start_time": "2023-08-01T13:04:45.612Z"
   },
   {
    "duration": 134,
    "start_time": "2023-08-01T13:04:45.624Z"
   },
   {
    "duration": 8,
    "start_time": "2023-08-01T13:04:45.760Z"
   },
   {
    "duration": 184,
    "start_time": "2023-08-01T13:04:45.770Z"
   },
   {
    "duration": 9,
    "start_time": "2023-08-01T13:04:45.956Z"
   },
   {
    "duration": 40,
    "start_time": "2023-08-01T13:04:45.968Z"
   },
   {
    "duration": 19,
    "start_time": "2023-08-01T13:04:46.011Z"
   },
   {
    "duration": 122,
    "start_time": "2023-08-01T13:04:46.032Z"
   },
   {
    "duration": 3,
    "start_time": "2023-08-01T13:04:46.155Z"
   },
   {
    "duration": 42,
    "start_time": "2023-08-01T13:04:46.161Z"
   },
   {
    "duration": 28,
    "start_time": "2023-08-01T13:04:46.205Z"
   },
   {
    "duration": 180,
    "start_time": "2023-08-01T13:04:46.235Z"
   },
   {
    "duration": 65,
    "start_time": "2023-08-01T13:04:46.416Z"
   },
   {
    "duration": 5,
    "start_time": "2023-08-01T13:04:46.483Z"
   },
   {
    "duration": 173,
    "start_time": "2023-08-01T13:04:46.509Z"
   },
   {
    "duration": 6,
    "start_time": "2023-08-01T13:05:04.784Z"
   },
   {
    "duration": 25,
    "start_time": "2023-08-01T13:05:07.405Z"
   },
   {
    "duration": 6,
    "start_time": "2023-08-01T13:05:07.796Z"
   },
   {
    "duration": 168,
    "start_time": "2023-08-01T13:05:10.123Z"
   },
   {
    "duration": 20,
    "start_time": "2023-08-01T13:05:12.040Z"
   },
   {
    "duration": 5,
    "start_time": "2023-08-01T13:05:12.236Z"
   },
   {
    "duration": 169,
    "start_time": "2023-08-01T13:05:12.442Z"
   },
   {
    "duration": 16,
    "start_time": "2023-08-01T13:05:14.223Z"
   },
   {
    "duration": 6,
    "start_time": "2023-08-01T13:05:14.487Z"
   },
   {
    "duration": 166,
    "start_time": "2023-08-01T13:05:15.260Z"
   },
   {
    "duration": 15,
    "start_time": "2023-08-01T13:05:16.902Z"
   },
   {
    "duration": 6,
    "start_time": "2023-08-01T13:05:17.161Z"
   },
   {
    "duration": 168,
    "start_time": "2023-08-01T13:05:17.616Z"
   },
   {
    "duration": 14,
    "start_time": "2023-08-01T13:05:19.075Z"
   },
   {
    "duration": 5,
    "start_time": "2023-08-01T13:05:19.263Z"
   },
   {
    "duration": 177,
    "start_time": "2023-08-01T13:05:19.441Z"
   },
   {
    "duration": 14,
    "start_time": "2023-08-01T13:05:20.909Z"
   },
   {
    "duration": 13,
    "start_time": "2023-08-01T13:05:21.270Z"
   },
   {
    "duration": 12,
    "start_time": "2023-08-01T13:05:21.456Z"
   },
   {
    "duration": 12,
    "start_time": "2023-08-01T13:05:21.624Z"
   },
   {
    "duration": 11,
    "start_time": "2023-08-01T13:05:21.783Z"
   },
   {
    "duration": 12,
    "start_time": "2023-08-01T13:05:21.956Z"
   },
   {
    "duration": 11,
    "start_time": "2023-08-01T13:05:22.095Z"
   },
   {
    "duration": 12,
    "start_time": "2023-08-01T13:05:22.266Z"
   },
   {
    "duration": 11,
    "start_time": "2023-08-01T13:05:22.463Z"
   },
   {
    "duration": 11,
    "start_time": "2023-08-01T13:05:22.616Z"
   },
   {
    "duration": 12,
    "start_time": "2023-08-01T13:05:23.152Z"
   },
   {
    "duration": 5,
    "start_time": "2023-08-01T13:05:23.387Z"
   },
   {
    "duration": 161,
    "start_time": "2023-08-01T13:05:25.064Z"
   },
   {
    "duration": 1688,
    "start_time": "2023-08-01T13:07:37.533Z"
   },
   {
    "duration": 5,
    "start_time": "2023-08-01T13:08:01.241Z"
   },
   {
    "duration": 734,
    "start_time": "2023-08-01T13:08:01.247Z"
   },
   {
    "duration": 33,
    "start_time": "2023-08-01T13:08:01.984Z"
   },
   {
    "duration": 23,
    "start_time": "2023-08-01T13:08:02.018Z"
   },
   {
    "duration": 28,
    "start_time": "2023-08-01T13:08:02.043Z"
   },
   {
    "duration": 23,
    "start_time": "2023-08-01T13:08:02.073Z"
   },
   {
    "duration": 48,
    "start_time": "2023-08-01T13:08:02.098Z"
   },
   {
    "duration": 16,
    "start_time": "2023-08-01T13:08:02.148Z"
   },
   {
    "duration": 15,
    "start_time": "2023-08-01T13:08:02.165Z"
   },
   {
    "duration": 23,
    "start_time": "2023-08-01T13:08:02.182Z"
   },
   {
    "duration": 14,
    "start_time": "2023-08-01T13:08:02.208Z"
   },
   {
    "duration": 429,
    "start_time": "2023-08-01T13:08:02.224Z"
   },
   {
    "duration": 13,
    "start_time": "2023-08-01T13:08:02.654Z"
   },
   {
    "duration": 25,
    "start_time": "2023-08-01T13:08:02.669Z"
   },
   {
    "duration": 14,
    "start_time": "2023-08-01T13:08:02.708Z"
   },
   {
    "duration": 9,
    "start_time": "2023-08-01T13:08:02.724Z"
   },
   {
    "duration": 9,
    "start_time": "2023-08-01T13:08:02.735Z"
   },
   {
    "duration": 15,
    "start_time": "2023-08-01T13:08:02.746Z"
   },
   {
    "duration": 10,
    "start_time": "2023-08-01T13:08:02.763Z"
   },
   {
    "duration": 5,
    "start_time": "2023-08-01T13:08:02.775Z"
   },
   {
    "duration": 6,
    "start_time": "2023-08-01T13:08:02.781Z"
   },
   {
    "duration": 6,
    "start_time": "2023-08-01T13:08:02.789Z"
   },
   {
    "duration": 12,
    "start_time": "2023-08-01T13:08:02.797Z"
   },
   {
    "duration": 8,
    "start_time": "2023-08-01T13:08:02.810Z"
   },
   {
    "duration": 13,
    "start_time": "2023-08-01T13:08:02.820Z"
   },
   {
    "duration": 9,
    "start_time": "2023-08-01T13:08:02.835Z"
   },
   {
    "duration": 6,
    "start_time": "2023-08-01T13:08:02.846Z"
   },
   {
    "duration": 10,
    "start_time": "2023-08-01T13:08:02.854Z"
   },
   {
    "duration": 6,
    "start_time": "2023-08-01T13:08:02.868Z"
   },
   {
    "duration": 130,
    "start_time": "2023-08-01T13:08:02.876Z"
   },
   {
    "duration": 9,
    "start_time": "2023-08-01T13:08:03.007Z"
   },
   {
    "duration": 140,
    "start_time": "2023-08-01T13:08:03.017Z"
   },
   {
    "duration": 8,
    "start_time": "2023-08-01T13:08:03.159Z"
   },
   {
    "duration": 19,
    "start_time": "2023-08-01T13:08:03.168Z"
   },
   {
    "duration": 34,
    "start_time": "2023-08-01T13:08:03.188Z"
   },
   {
    "duration": 103,
    "start_time": "2023-08-01T13:08:03.223Z"
   },
   {
    "duration": 3,
    "start_time": "2023-08-01T13:08:03.328Z"
   },
   {
    "duration": 52,
    "start_time": "2023-08-01T13:08:03.332Z"
   },
   {
    "duration": 33,
    "start_time": "2023-08-01T13:08:03.386Z"
   },
   {
    "duration": 184,
    "start_time": "2023-08-01T13:08:03.421Z"
   },
   {
    "duration": 66,
    "start_time": "2023-08-01T13:08:03.609Z"
   },
   {
    "duration": 7,
    "start_time": "2023-08-01T13:08:03.677Z"
   },
   {
    "duration": 186,
    "start_time": "2023-08-01T13:08:03.685Z"
   },
   {
    "duration": 1746,
    "start_time": "2023-08-01T13:08:07.803Z"
   },
   {
    "duration": 164,
    "start_time": "2023-08-01T13:10:43.815Z"
   },
   {
    "duration": 25,
    "start_time": "2023-08-01T13:10:49.058Z"
   },
   {
    "duration": 4,
    "start_time": "2023-08-01T13:10:55.720Z"
   },
   {
    "duration": 785,
    "start_time": "2023-08-01T13:10:55.726Z"
   },
   {
    "duration": 21,
    "start_time": "2023-08-01T13:10:56.514Z"
   },
   {
    "duration": 44,
    "start_time": "2023-08-01T13:10:56.537Z"
   },
   {
    "duration": 36,
    "start_time": "2023-08-01T13:10:56.584Z"
   },
   {
    "duration": 21,
    "start_time": "2023-08-01T13:10:56.621Z"
   },
   {
    "duration": 36,
    "start_time": "2023-08-01T13:10:56.644Z"
   },
   {
    "duration": 16,
    "start_time": "2023-08-01T13:10:56.682Z"
   },
   {
    "duration": 5,
    "start_time": "2023-08-01T13:10:56.700Z"
   },
   {
    "duration": 17,
    "start_time": "2023-08-01T13:10:56.706Z"
   },
   {
    "duration": 60,
    "start_time": "2023-08-01T13:10:56.725Z"
   },
   {
    "duration": 410,
    "start_time": "2023-08-01T13:10:56.787Z"
   },
   {
    "duration": 18,
    "start_time": "2023-08-01T13:10:57.198Z"
   },
   {
    "duration": 37,
    "start_time": "2023-08-01T13:10:57.218Z"
   },
   {
    "duration": 10,
    "start_time": "2023-08-01T13:10:57.257Z"
   },
   {
    "duration": 20,
    "start_time": "2023-08-01T13:10:57.269Z"
   },
   {
    "duration": 18,
    "start_time": "2023-08-01T13:10:57.291Z"
   },
   {
    "duration": 40,
    "start_time": "2023-08-01T13:10:57.311Z"
   },
   {
    "duration": 30,
    "start_time": "2023-08-01T13:10:57.353Z"
   },
   {
    "duration": 4,
    "start_time": "2023-08-01T13:10:57.384Z"
   },
   {
    "duration": 20,
    "start_time": "2023-08-01T13:10:57.389Z"
   },
   {
    "duration": 13,
    "start_time": "2023-08-01T13:10:57.411Z"
   },
   {
    "duration": 31,
    "start_time": "2023-08-01T13:10:57.426Z"
   },
   {
    "duration": 16,
    "start_time": "2023-08-01T13:10:57.459Z"
   },
   {
    "duration": 29,
    "start_time": "2023-08-01T13:10:57.476Z"
   },
   {
    "duration": 14,
    "start_time": "2023-08-01T13:10:57.507Z"
   },
   {
    "duration": 28,
    "start_time": "2023-08-01T13:10:57.523Z"
   },
   {
    "duration": 14,
    "start_time": "2023-08-01T13:10:57.553Z"
   },
   {
    "duration": 4,
    "start_time": "2023-08-01T13:10:57.571Z"
   },
   {
    "duration": 135,
    "start_time": "2023-08-01T13:10:57.577Z"
   },
   {
    "duration": 9,
    "start_time": "2023-08-01T13:10:57.714Z"
   },
   {
    "duration": 156,
    "start_time": "2023-08-01T13:10:57.724Z"
   },
   {
    "duration": 9,
    "start_time": "2023-08-01T13:10:57.882Z"
   },
   {
    "duration": 31,
    "start_time": "2023-08-01T13:10:57.893Z"
   },
   {
    "duration": 17,
    "start_time": "2023-08-01T13:10:57.926Z"
   },
   {
    "duration": 115,
    "start_time": "2023-08-01T13:10:57.944Z"
   },
   {
    "duration": 3,
    "start_time": "2023-08-01T13:10:58.061Z"
   },
   {
    "duration": 45,
    "start_time": "2023-08-01T13:10:58.066Z"
   },
   {
    "duration": 30,
    "start_time": "2023-08-01T13:10:58.113Z"
   },
   {
    "duration": 194,
    "start_time": "2023-08-01T13:10:58.145Z"
   },
   {
    "duration": 78,
    "start_time": "2023-08-01T13:10:58.341Z"
   },
   {
    "duration": 6,
    "start_time": "2023-08-01T13:10:58.421Z"
   },
   {
    "duration": 228,
    "start_time": "2023-08-01T13:10:58.428Z"
   },
   {
    "duration": 5,
    "start_time": "2023-08-01T13:21:17.090Z"
   },
   {
    "duration": 5,
    "start_time": "2023-08-01T13:21:28.928Z"
   },
   {
    "duration": 20,
    "start_time": "2023-08-01T13:21:54.906Z"
   },
   {
    "duration": 12,
    "start_time": "2023-08-01T13:22:02.827Z"
   },
   {
    "duration": 1563,
    "start_time": "2023-08-01T13:22:08.848Z"
   },
   {
    "duration": 1678,
    "start_time": "2023-08-01T13:22:32.819Z"
   },
   {
    "duration": 1492,
    "start_time": "2023-08-01T13:22:57.451Z"
   },
   {
    "duration": 517,
    "start_time": "2023-08-01T13:27:18.619Z"
   },
   {
    "duration": 301,
    "start_time": "2023-08-01T13:34:48.869Z"
   },
   {
    "duration": 1090,
    "start_time": "2023-08-01T13:36:15.679Z"
   },
   {
    "duration": 14,
    "start_time": "2023-08-01T13:37:50.983Z"
   },
   {
    "duration": 13,
    "start_time": "2023-08-01T13:37:54.158Z"
   },
   {
    "duration": 1063,
    "start_time": "2023-08-01T13:39:22.658Z"
   },
   {
    "duration": 17,
    "start_time": "2023-08-01T13:40:32.082Z"
   },
   {
    "duration": 4,
    "start_time": "2023-08-01T13:41:01.548Z"
   },
   {
    "duration": 4,
    "start_time": "2023-08-01T13:41:10.154Z"
   },
   {
    "duration": 18,
    "start_time": "2023-08-01T13:41:39.460Z"
   },
   {
    "duration": 211,
    "start_time": "2023-08-01T13:42:35.858Z"
   },
   {
    "duration": 210,
    "start_time": "2023-08-01T13:42:57.316Z"
   },
   {
    "duration": 226,
    "start_time": "2023-08-01T13:43:13.302Z"
   },
   {
    "duration": 271,
    "start_time": "2023-08-01T14:12:28.047Z"
   },
   {
    "duration": 308,
    "start_time": "2023-08-01T14:13:23.674Z"
   },
   {
    "duration": 323,
    "start_time": "2023-08-01T14:16:05.454Z"
   },
   {
    "duration": 271,
    "start_time": "2023-08-01T14:16:14.218Z"
   },
   {
    "duration": 288,
    "start_time": "2023-08-01T14:16:54.424Z"
   },
   {
    "duration": 379,
    "start_time": "2023-08-01T14:17:06.612Z"
   },
   {
    "duration": 249,
    "start_time": "2023-08-01T14:17:10.649Z"
   },
   {
    "duration": 299,
    "start_time": "2023-08-01T14:17:15.881Z"
   },
   {
    "duration": 257,
    "start_time": "2023-08-01T14:17:50.761Z"
   },
   {
    "duration": 197,
    "start_time": "2023-08-01T14:17:59.116Z"
   },
   {
    "duration": 188,
    "start_time": "2023-08-01T14:18:02.352Z"
   },
   {
    "duration": 210,
    "start_time": "2023-08-01T14:18:09.399Z"
   },
   {
    "duration": 268,
    "start_time": "2023-08-01T14:18:20.414Z"
   },
   {
    "duration": 213,
    "start_time": "2023-08-01T14:21:51.848Z"
   },
   {
    "duration": 213,
    "start_time": "2023-08-01T14:22:03.792Z"
   },
   {
    "duration": 228,
    "start_time": "2023-08-01T14:22:15.464Z"
   },
   {
    "duration": 220,
    "start_time": "2023-08-01T14:22:22.644Z"
   },
   {
    "duration": 14,
    "start_time": "2023-08-01T15:20:21.524Z"
   },
   {
    "duration": 708,
    "start_time": "2023-08-01T15:21:33.938Z"
   },
   {
    "duration": 3,
    "start_time": "2023-08-01T15:26:30.783Z"
   },
   {
    "duration": 12,
    "start_time": "2023-08-01T15:26:30.941Z"
   },
   {
    "duration": 105,
    "start_time": "2023-08-01T15:26:31.134Z"
   },
   {
    "duration": 5,
    "start_time": "2023-08-01T15:26:42.025Z"
   },
   {
    "duration": 20,
    "start_time": "2023-08-01T15:26:42.774Z"
   },
   {
    "duration": 29,
    "start_time": "2023-08-01T15:27:15.392Z"
   },
   {
    "duration": 1531,
    "start_time": "2023-08-01T15:27:41.997Z"
   },
   {
    "duration": 824,
    "start_time": "2023-08-01T15:27:43.530Z"
   },
   {
    "duration": 24,
    "start_time": "2023-08-01T15:27:44.356Z"
   },
   {
    "duration": 49,
    "start_time": "2023-08-01T15:27:44.382Z"
   },
   {
    "duration": 55,
    "start_time": "2023-08-01T15:27:44.432Z"
   },
   {
    "duration": 16,
    "start_time": "2023-08-01T15:27:44.489Z"
   },
   {
    "duration": 41,
    "start_time": "2023-08-01T15:27:44.507Z"
   },
   {
    "duration": 14,
    "start_time": "2023-08-01T15:27:44.550Z"
   },
   {
    "duration": 4,
    "start_time": "2023-08-01T15:27:44.566Z"
   },
   {
    "duration": 14,
    "start_time": "2023-08-01T15:27:44.573Z"
   },
   {
    "duration": 42,
    "start_time": "2023-08-01T15:27:44.588Z"
   },
   {
    "duration": 507,
    "start_time": "2023-08-01T15:27:44.632Z"
   },
   {
    "duration": 14,
    "start_time": "2023-08-01T15:27:45.141Z"
   },
   {
    "duration": 39,
    "start_time": "2023-08-01T15:27:45.156Z"
   },
   {
    "duration": 48,
    "start_time": "2023-08-01T15:27:45.197Z"
   },
   {
    "duration": 23,
    "start_time": "2023-08-01T15:27:45.247Z"
   },
   {
    "duration": 14,
    "start_time": "2023-08-01T15:27:45.271Z"
   },
   {
    "duration": 47,
    "start_time": "2023-08-01T15:27:45.287Z"
   },
   {
    "duration": 15,
    "start_time": "2023-08-01T15:27:45.336Z"
   },
   {
    "duration": 27,
    "start_time": "2023-08-01T15:27:45.352Z"
   },
   {
    "duration": 12,
    "start_time": "2023-08-01T15:27:45.381Z"
   },
   {
    "duration": 44,
    "start_time": "2023-08-01T15:27:45.395Z"
   },
   {
    "duration": 32,
    "start_time": "2023-08-01T15:27:45.441Z"
   },
   {
    "duration": 48,
    "start_time": "2023-08-01T15:27:45.475Z"
   },
   {
    "duration": 23,
    "start_time": "2023-08-01T15:27:45.525Z"
   },
   {
    "duration": 73,
    "start_time": "2023-08-01T15:27:45.550Z"
   },
   {
    "duration": 55,
    "start_time": "2023-08-01T15:27:45.625Z"
   },
   {
    "duration": 17,
    "start_time": "2023-08-01T15:27:45.685Z"
   },
   {
    "duration": 26,
    "start_time": "2023-08-01T15:27:45.703Z"
   },
   {
    "duration": 216,
    "start_time": "2023-08-01T15:27:45.731Z"
   },
   {
    "duration": 11,
    "start_time": "2023-08-01T15:27:45.950Z"
   },
   {
    "duration": 194,
    "start_time": "2023-08-01T15:27:45.965Z"
   },
   {
    "duration": 8,
    "start_time": "2023-08-01T15:27:46.161Z"
   },
   {
    "duration": 40,
    "start_time": "2023-08-01T15:27:46.171Z"
   },
   {
    "duration": 20,
    "start_time": "2023-08-01T15:27:46.213Z"
   },
   {
    "duration": 113,
    "start_time": "2023-08-01T15:27:46.234Z"
   },
   {
    "duration": 3,
    "start_time": "2023-08-01T15:27:46.349Z"
   },
   {
    "duration": 51,
    "start_time": "2023-08-01T15:27:46.354Z"
   },
   {
    "duration": 35,
    "start_time": "2023-08-01T15:27:46.406Z"
   },
   {
    "duration": 186,
    "start_time": "2023-08-01T15:27:46.443Z"
   },
   {
    "duration": 85,
    "start_time": "2023-08-01T15:27:46.631Z"
   },
   {
    "duration": 8,
    "start_time": "2023-08-01T15:27:46.723Z"
   },
   {
    "duration": 270,
    "start_time": "2023-08-01T15:27:46.733Z"
   },
   {
    "duration": 21,
    "start_time": "2023-08-01T15:27:47.004Z"
   },
   {
    "duration": 47,
    "start_time": "2023-08-01T15:27:47.027Z"
   },
   {
    "duration": 85,
    "start_time": "2023-08-01T15:27:47.076Z"
   },
   {
    "duration": 1494,
    "start_time": "2023-08-01T15:27:47.163Z"
   },
   {
    "duration": 3,
    "start_time": "2023-08-01T15:27:48.659Z"
   },
   {
    "duration": 226,
    "start_time": "2023-08-01T15:27:48.664Z"
   },
   {
    "duration": 4,
    "start_time": "2023-08-01T15:27:48.892Z"
   },
   {
    "duration": 27,
    "start_time": "2023-08-01T15:27:48.897Z"
   },
   {
    "duration": 739,
    "start_time": "2023-08-01T15:27:48.927Z"
   },
   {
    "duration": 4,
    "start_time": "2023-08-01T15:27:49.668Z"
   },
   {
    "duration": 48,
    "start_time": "2023-08-01T15:27:49.674Z"
   },
   {
    "duration": 125,
    "start_time": "2023-08-01T15:27:49.725Z"
   },
   {
    "duration": 0,
    "start_time": "2023-08-01T15:27:49.852Z"
   },
   {
    "duration": 0,
    "start_time": "2023-08-01T15:27:49.853Z"
   },
   {
    "duration": 0,
    "start_time": "2023-08-01T15:27:49.854Z"
   },
   {
    "duration": 0,
    "start_time": "2023-08-01T15:27:49.855Z"
   },
   {
    "duration": 0,
    "start_time": "2023-08-01T15:27:49.857Z"
   },
   {
    "duration": 0,
    "start_time": "2023-08-01T15:27:49.858Z"
   },
   {
    "duration": 0,
    "start_time": "2023-08-01T15:27:49.859Z"
   },
   {
    "duration": 0,
    "start_time": "2023-08-01T15:27:49.860Z"
   },
   {
    "duration": 0,
    "start_time": "2023-08-01T15:27:49.862Z"
   },
   {
    "duration": 0,
    "start_time": "2023-08-01T15:27:49.863Z"
   },
   {
    "duration": 0,
    "start_time": "2023-08-01T15:27:49.864Z"
   },
   {
    "duration": 0,
    "start_time": "2023-08-01T15:27:49.865Z"
   },
   {
    "duration": 0,
    "start_time": "2023-08-01T15:27:49.866Z"
   },
   {
    "duration": 0,
    "start_time": "2023-08-01T15:27:49.867Z"
   },
   {
    "duration": 0,
    "start_time": "2023-08-01T15:27:49.868Z"
   },
   {
    "duration": 0,
    "start_time": "2023-08-01T15:27:49.869Z"
   },
   {
    "duration": 0,
    "start_time": "2023-08-01T15:27:49.870Z"
   },
   {
    "duration": 9,
    "start_time": "2023-08-01T15:28:09.287Z"
   },
   {
    "duration": 3,
    "start_time": "2023-08-01T15:28:11.723Z"
   },
   {
    "duration": 33,
    "start_time": "2023-08-01T15:28:12.103Z"
   },
   {
    "duration": 1808,
    "start_time": "2023-08-01T17:47:46.410Z"
   },
   {
    "duration": 2442,
    "start_time": "2023-08-01T17:47:48.220Z"
   },
   {
    "duration": 26,
    "start_time": "2023-08-01T17:47:50.665Z"
   },
   {
    "duration": 37,
    "start_time": "2023-08-01T17:47:50.693Z"
   },
   {
    "duration": 85,
    "start_time": "2023-08-01T17:47:50.733Z"
   },
   {
    "duration": 7,
    "start_time": "2023-08-01T17:47:50.820Z"
   },
   {
    "duration": 46,
    "start_time": "2023-08-01T17:47:50.829Z"
   },
   {
    "duration": 32,
    "start_time": "2023-08-01T17:47:50.877Z"
   },
   {
    "duration": 6,
    "start_time": "2023-08-01T17:47:50.911Z"
   },
   {
    "duration": 20,
    "start_time": "2023-08-01T17:47:50.921Z"
   },
   {
    "duration": 25,
    "start_time": "2023-08-01T17:47:50.943Z"
   },
   {
    "duration": 565,
    "start_time": "2023-08-01T17:47:51.008Z"
   },
   {
    "duration": 15,
    "start_time": "2023-08-01T17:47:51.575Z"
   },
   {
    "duration": 145,
    "start_time": "2023-08-01T17:47:51.592Z"
   },
   {
    "duration": 27,
    "start_time": "2023-08-01T17:47:51.740Z"
   },
   {
    "duration": 21,
    "start_time": "2023-08-01T17:47:51.770Z"
   },
   {
    "duration": 24,
    "start_time": "2023-08-01T17:47:51.793Z"
   },
   {
    "duration": 31,
    "start_time": "2023-08-01T17:47:51.819Z"
   },
   {
    "duration": 70,
    "start_time": "2023-08-01T17:47:51.852Z"
   },
   {
    "duration": 25,
    "start_time": "2023-08-01T17:47:51.925Z"
   },
   {
    "duration": 18,
    "start_time": "2023-08-01T17:47:51.952Z"
   },
   {
    "duration": 37,
    "start_time": "2023-08-01T17:47:51.972Z"
   },
   {
    "duration": 26,
    "start_time": "2023-08-01T17:47:52.011Z"
   },
   {
    "duration": 39,
    "start_time": "2023-08-01T17:47:52.039Z"
   },
   {
    "duration": 20,
    "start_time": "2023-08-01T17:47:52.080Z"
   },
   {
    "duration": 127,
    "start_time": "2023-08-01T17:47:52.103Z"
   },
   {
    "duration": 129,
    "start_time": "2023-08-01T17:47:52.232Z"
   },
   {
    "duration": 287,
    "start_time": "2023-08-01T17:47:52.364Z"
   },
   {
    "duration": 70,
    "start_time": "2023-08-01T17:47:52.653Z"
   },
   {
    "duration": 535,
    "start_time": "2023-08-01T17:47:52.725Z"
   },
   {
    "duration": 9,
    "start_time": "2023-08-01T17:47:53.261Z"
   },
   {
    "duration": 245,
    "start_time": "2023-08-01T17:47:53.272Z"
   },
   {
    "duration": 8,
    "start_time": "2023-08-01T17:47:53.519Z"
   },
   {
    "duration": 40,
    "start_time": "2023-08-01T17:47:53.528Z"
   },
   {
    "duration": 15,
    "start_time": "2023-08-01T17:47:53.570Z"
   },
   {
    "duration": 123,
    "start_time": "2023-08-01T17:47:53.587Z"
   },
   {
    "duration": 2,
    "start_time": "2023-08-01T17:47:56.364Z"
   },
   {
    "duration": 46,
    "start_time": "2023-08-01T17:47:59.420Z"
   },
   {
    "duration": 36,
    "start_time": "2023-08-01T17:48:02.606Z"
   },
   {
    "duration": 185,
    "start_time": "2023-08-01T17:48:02.957Z"
   },
   {
    "duration": 11,
    "start_time": "2023-08-01T17:48:51.252Z"
   },
   {
    "duration": 87,
    "start_time": "2023-08-01T17:48:53.020Z"
   },
   {
    "duration": 8,
    "start_time": "2023-08-01T17:48:53.604Z"
   },
   {
    "duration": 10,
    "start_time": "2023-08-01T17:49:24.059Z"
   },
   {
    "duration": 138,
    "start_time": "2023-08-01T17:49:35.960Z"
   },
   {
    "duration": 49,
    "start_time": "2023-08-01T17:49:48.476Z"
   },
   {
    "duration": 49,
    "start_time": "2023-08-01T17:50:53.805Z"
   },
   {
    "duration": 81,
    "start_time": "2023-08-01T17:55:31.679Z"
   },
   {
    "duration": 1541,
    "start_time": "2023-08-01T17:55:40.283Z"
   },
   {
    "duration": 2106,
    "start_time": "2023-08-01T17:55:41.826Z"
   },
   {
    "duration": 29,
    "start_time": "2023-08-01T17:55:43.934Z"
   },
   {
    "duration": 29,
    "start_time": "2023-08-01T17:55:43.965Z"
   },
   {
    "duration": 28,
    "start_time": "2023-08-01T17:55:43.996Z"
   },
   {
    "duration": 4,
    "start_time": "2023-08-01T17:55:44.027Z"
   },
   {
    "duration": 30,
    "start_time": "2023-08-01T17:55:44.032Z"
   },
   {
    "duration": 16,
    "start_time": "2023-08-01T17:55:44.064Z"
   },
   {
    "duration": 5,
    "start_time": "2023-08-01T17:55:44.109Z"
   },
   {
    "duration": 12,
    "start_time": "2023-08-01T17:55:44.116Z"
   },
   {
    "duration": 22,
    "start_time": "2023-08-01T17:55:44.130Z"
   },
   {
    "duration": 476,
    "start_time": "2023-08-01T17:55:44.155Z"
   },
   {
    "duration": 15,
    "start_time": "2023-08-01T17:55:44.632Z"
   },
   {
    "duration": 42,
    "start_time": "2023-08-01T17:55:44.648Z"
   },
   {
    "duration": 29,
    "start_time": "2023-08-01T17:55:44.692Z"
   },
   {
    "duration": 11,
    "start_time": "2023-08-01T17:55:44.723Z"
   },
   {
    "duration": 11,
    "start_time": "2023-08-01T17:55:44.735Z"
   },
   {
    "duration": 15,
    "start_time": "2023-08-01T17:55:44.749Z"
   },
   {
    "duration": 14,
    "start_time": "2023-08-01T17:55:44.766Z"
   },
   {
    "duration": 6,
    "start_time": "2023-08-01T17:55:44.781Z"
   },
   {
    "duration": 7,
    "start_time": "2023-08-01T17:55:44.789Z"
   },
   {
    "duration": 9,
    "start_time": "2023-08-01T17:55:44.797Z"
   },
   {
    "duration": 13,
    "start_time": "2023-08-01T17:55:44.807Z"
   },
   {
    "duration": 27,
    "start_time": "2023-08-01T17:55:44.822Z"
   },
   {
    "duration": 19,
    "start_time": "2023-08-01T17:55:44.851Z"
   },
   {
    "duration": 15,
    "start_time": "2023-08-01T17:55:44.872Z"
   },
   {
    "duration": 18,
    "start_time": "2023-08-01T17:55:44.889Z"
   },
   {
    "duration": 16,
    "start_time": "2023-08-01T17:55:44.910Z"
   },
   {
    "duration": 25,
    "start_time": "2023-08-01T17:55:44.927Z"
   },
   {
    "duration": 149,
    "start_time": "2023-08-01T17:55:44.954Z"
   },
   {
    "duration": 8,
    "start_time": "2023-08-01T17:55:45.104Z"
   },
   {
    "duration": 147,
    "start_time": "2023-08-01T17:55:45.114Z"
   },
   {
    "duration": 8,
    "start_time": "2023-08-01T17:55:45.263Z"
   },
   {
    "duration": 43,
    "start_time": "2023-08-01T17:55:45.272Z"
   },
   {
    "duration": 16,
    "start_time": "2023-08-01T17:55:45.317Z"
   },
   {
    "duration": 117,
    "start_time": "2023-08-01T17:55:45.336Z"
   },
   {
    "duration": 4,
    "start_time": "2023-08-01T17:55:45.455Z"
   },
   {
    "duration": 57,
    "start_time": "2023-08-01T17:55:45.460Z"
   },
   {
    "duration": 50,
    "start_time": "2023-08-01T17:55:45.519Z"
   },
   {
    "duration": 205,
    "start_time": "2023-08-01T17:55:45.570Z"
   },
   {
    "duration": 86,
    "start_time": "2023-08-01T17:56:11.743Z"
   },
   {
    "duration": 1439,
    "start_time": "2023-08-01T17:56:26.459Z"
   },
   {
    "duration": 2140,
    "start_time": "2023-08-01T17:56:27.900Z"
   },
   {
    "duration": 26,
    "start_time": "2023-08-01T17:56:30.042Z"
   },
   {
    "duration": 63,
    "start_time": "2023-08-01T17:56:30.070Z"
   },
   {
    "duration": 36,
    "start_time": "2023-08-01T17:56:30.136Z"
   },
   {
    "duration": 30,
    "start_time": "2023-08-01T17:56:30.174Z"
   },
   {
    "duration": 82,
    "start_time": "2023-08-01T17:56:30.207Z"
   },
   {
    "duration": 58,
    "start_time": "2023-08-01T17:56:30.290Z"
   },
   {
    "duration": 63,
    "start_time": "2023-08-01T17:56:30.349Z"
   },
   {
    "duration": 56,
    "start_time": "2023-08-01T17:56:30.415Z"
   },
   {
    "duration": 61,
    "start_time": "2023-08-01T17:56:30.473Z"
   },
   {
    "duration": 453,
    "start_time": "2023-08-01T17:56:30.535Z"
   },
   {
    "duration": 21,
    "start_time": "2023-08-01T17:56:30.990Z"
   },
   {
    "duration": 58,
    "start_time": "2023-08-01T17:56:31.014Z"
   },
   {
    "duration": 39,
    "start_time": "2023-08-01T17:56:31.074Z"
   },
   {
    "duration": 33,
    "start_time": "2023-08-01T17:56:31.116Z"
   },
   {
    "duration": 33,
    "start_time": "2023-08-01T17:56:31.151Z"
   },
   {
    "duration": 33,
    "start_time": "2023-08-01T17:56:31.187Z"
   },
   {
    "duration": 27,
    "start_time": "2023-08-01T17:56:31.223Z"
   },
   {
    "duration": 21,
    "start_time": "2023-08-01T17:56:31.252Z"
   },
   {
    "duration": 37,
    "start_time": "2023-08-01T17:56:31.275Z"
   },
   {
    "duration": 19,
    "start_time": "2023-08-01T17:56:31.315Z"
   },
   {
    "duration": 31,
    "start_time": "2023-08-01T17:56:31.337Z"
   },
   {
    "duration": 17,
    "start_time": "2023-08-01T17:56:31.370Z"
   },
   {
    "duration": 30,
    "start_time": "2023-08-01T17:56:31.390Z"
   },
   {
    "duration": 50,
    "start_time": "2023-08-01T17:56:31.422Z"
   },
   {
    "duration": 44,
    "start_time": "2023-08-01T17:56:31.474Z"
   },
   {
    "duration": 24,
    "start_time": "2023-08-01T17:56:31.521Z"
   },
   {
    "duration": 23,
    "start_time": "2023-08-01T17:56:31.547Z"
   },
   {
    "duration": 188,
    "start_time": "2023-08-01T17:56:31.572Z"
   },
   {
    "duration": 8,
    "start_time": "2023-08-01T17:56:31.762Z"
   },
   {
    "duration": 140,
    "start_time": "2023-08-01T17:56:31.771Z"
   },
   {
    "duration": 11,
    "start_time": "2023-08-01T17:56:31.913Z"
   },
   {
    "duration": 165,
    "start_time": "2023-08-01T17:56:31.926Z"
   },
   {
    "duration": 59,
    "start_time": "2023-08-01T17:56:32.093Z"
   },
   {
    "duration": 230,
    "start_time": "2023-08-01T17:56:32.155Z"
   },
   {
    "duration": 16,
    "start_time": "2023-08-01T17:56:32.387Z"
   },
   {
    "duration": 39,
    "start_time": "2023-08-01T17:56:32.406Z"
   },
   {
    "duration": 32,
    "start_time": "2023-08-01T17:56:32.447Z"
   },
   {
    "duration": 218,
    "start_time": "2023-08-01T17:56:32.480Z"
   },
   {
    "duration": 49,
    "start_time": "2023-08-01T17:56:48.884Z"
   },
   {
    "duration": 1577,
    "start_time": "2023-08-01T17:56:58.557Z"
   },
   {
    "duration": 2369,
    "start_time": "2023-08-01T17:57:00.136Z"
   },
   {
    "duration": 29,
    "start_time": "2023-08-01T17:57:02.507Z"
   },
   {
    "duration": 50,
    "start_time": "2023-08-01T17:57:02.538Z"
   },
   {
    "duration": 44,
    "start_time": "2023-08-01T17:57:02.591Z"
   },
   {
    "duration": 23,
    "start_time": "2023-08-01T17:57:02.637Z"
   },
   {
    "duration": 48,
    "start_time": "2023-08-01T17:57:02.662Z"
   },
   {
    "duration": 21,
    "start_time": "2023-08-01T17:57:02.712Z"
   },
   {
    "duration": 5,
    "start_time": "2023-08-01T17:57:02.734Z"
   },
   {
    "duration": 28,
    "start_time": "2023-08-01T17:57:02.741Z"
   },
   {
    "duration": 20,
    "start_time": "2023-08-01T17:57:02.771Z"
   },
   {
    "duration": 490,
    "start_time": "2023-08-01T17:57:02.793Z"
   },
   {
    "duration": 25,
    "start_time": "2023-08-01T17:57:03.285Z"
   },
   {
    "duration": 55,
    "start_time": "2023-08-01T17:57:03.313Z"
   },
   {
    "duration": 6,
    "start_time": "2023-08-01T17:57:03.370Z"
   },
   {
    "duration": 8,
    "start_time": "2023-08-01T17:57:03.377Z"
   },
   {
    "duration": 5,
    "start_time": "2023-08-01T17:57:03.387Z"
   },
   {
    "duration": 16,
    "start_time": "2023-08-01T17:57:03.393Z"
   },
   {
    "duration": 10,
    "start_time": "2023-08-01T17:57:03.411Z"
   },
   {
    "duration": 5,
    "start_time": "2023-08-01T17:57:03.422Z"
   },
   {
    "duration": 7,
    "start_time": "2023-08-01T17:57:03.429Z"
   },
   {
    "duration": 7,
    "start_time": "2023-08-01T17:57:03.437Z"
   },
   {
    "duration": 8,
    "start_time": "2023-08-01T17:57:03.446Z"
   },
   {
    "duration": 7,
    "start_time": "2023-08-01T17:57:03.455Z"
   },
   {
    "duration": 5,
    "start_time": "2023-08-01T17:57:03.464Z"
   },
   {
    "duration": 5,
    "start_time": "2023-08-01T17:57:03.471Z"
   },
   {
    "duration": 31,
    "start_time": "2023-08-01T17:57:03.478Z"
   },
   {
    "duration": 9,
    "start_time": "2023-08-01T17:57:03.511Z"
   },
   {
    "duration": 13,
    "start_time": "2023-08-01T17:57:03.522Z"
   },
   {
    "duration": 163,
    "start_time": "2023-08-01T17:57:03.537Z"
   },
   {
    "duration": 13,
    "start_time": "2023-08-01T17:57:03.702Z"
   },
   {
    "duration": 159,
    "start_time": "2023-08-01T17:57:03.717Z"
   },
   {
    "duration": 8,
    "start_time": "2023-08-01T17:57:03.878Z"
   },
   {
    "duration": 49,
    "start_time": "2023-08-01T17:57:03.888Z"
   },
   {
    "duration": 16,
    "start_time": "2023-08-01T17:57:03.939Z"
   },
   {
    "duration": 114,
    "start_time": "2023-08-01T17:57:03.956Z"
   },
   {
    "duration": 5,
    "start_time": "2023-08-01T17:57:04.072Z"
   },
   {
    "duration": 65,
    "start_time": "2023-08-01T17:57:04.079Z"
   },
   {
    "duration": 44,
    "start_time": "2023-08-01T17:57:04.147Z"
   },
   {
    "duration": 166,
    "start_time": "2023-08-01T17:57:13.219Z"
   },
   {
    "duration": 50,
    "start_time": "2023-08-01T18:02:05.382Z"
   },
   {
    "duration": 1800,
    "start_time": "2023-08-01T18:02:14.477Z"
   },
   {
    "duration": 2189,
    "start_time": "2023-08-01T18:02:16.280Z"
   },
   {
    "duration": 29,
    "start_time": "2023-08-01T18:02:18.471Z"
   },
   {
    "duration": 49,
    "start_time": "2023-08-01T18:02:18.502Z"
   },
   {
    "duration": 35,
    "start_time": "2023-08-01T18:02:18.553Z"
   },
   {
    "duration": 26,
    "start_time": "2023-08-01T18:02:18.590Z"
   },
   {
    "duration": 23,
    "start_time": "2023-08-01T18:02:18.618Z"
   },
   {
    "duration": 15,
    "start_time": "2023-08-01T18:02:18.643Z"
   },
   {
    "duration": 5,
    "start_time": "2023-08-01T18:02:18.660Z"
   },
   {
    "duration": 15,
    "start_time": "2023-08-01T18:02:18.667Z"
   },
   {
    "duration": 34,
    "start_time": "2023-08-01T18:02:18.684Z"
   },
   {
    "duration": 490,
    "start_time": "2023-08-01T18:02:18.719Z"
   },
   {
    "duration": 20,
    "start_time": "2023-08-01T18:02:19.211Z"
   },
   {
    "duration": 49,
    "start_time": "2023-08-01T18:02:19.234Z"
   },
   {
    "duration": 67,
    "start_time": "2023-08-01T18:02:19.285Z"
   },
   {
    "duration": 36,
    "start_time": "2023-08-01T18:02:19.360Z"
   },
   {
    "duration": 24,
    "start_time": "2023-08-01T18:02:19.398Z"
   },
   {
    "duration": 42,
    "start_time": "2023-08-01T18:02:19.425Z"
   },
   {
    "duration": 20,
    "start_time": "2023-08-01T18:02:19.469Z"
   },
   {
    "duration": 26,
    "start_time": "2023-08-01T18:02:19.491Z"
   },
   {
    "duration": 6,
    "start_time": "2023-08-01T18:02:19.519Z"
   },
   {
    "duration": 47,
    "start_time": "2023-08-01T18:02:19.529Z"
   },
   {
    "duration": 16,
    "start_time": "2023-08-01T18:02:19.578Z"
   },
   {
    "duration": 8,
    "start_time": "2023-08-01T18:02:19.595Z"
   },
   {
    "duration": 16,
    "start_time": "2023-08-01T18:02:19.604Z"
   },
   {
    "duration": 9,
    "start_time": "2023-08-01T18:02:19.622Z"
   },
   {
    "duration": 35,
    "start_time": "2023-08-01T18:02:19.633Z"
   },
   {
    "duration": 24,
    "start_time": "2023-08-01T18:02:19.669Z"
   },
   {
    "duration": 213,
    "start_time": "2023-08-01T18:02:19.694Z"
   },
   {
    "duration": 464,
    "start_time": "2023-08-01T18:02:19.909Z"
   },
   {
    "duration": 10,
    "start_time": "2023-08-01T18:02:20.375Z"
   },
   {
    "duration": 299,
    "start_time": "2023-08-01T18:02:20.387Z"
   },
   {
    "duration": 25,
    "start_time": "2023-08-01T18:02:20.688Z"
   },
   {
    "duration": 65,
    "start_time": "2023-08-01T18:02:20.715Z"
   },
   {
    "duration": 38,
    "start_time": "2023-08-01T18:02:20.782Z"
   },
   {
    "duration": 175,
    "start_time": "2023-08-01T18:02:20.823Z"
   },
   {
    "duration": 7,
    "start_time": "2023-08-01T18:02:21.001Z"
   },
   {
    "duration": 157,
    "start_time": "2023-08-01T18:02:21.010Z"
   },
   {
    "duration": 131,
    "start_time": "2023-08-01T18:02:21.169Z"
   },
   {
    "duration": 222,
    "start_time": "2023-08-01T18:02:21.302Z"
   },
   {
    "duration": 4,
    "start_time": "2023-08-01T18:08:55.956Z"
   },
   {
    "duration": 2,
    "start_time": "2023-08-01T18:08:56.190Z"
   },
   {
    "duration": 3,
    "start_time": "2023-08-01T18:08:56.458Z"
   },
   {
    "duration": 3,
    "start_time": "2023-08-01T18:08:56.735Z"
   },
   {
    "duration": 1547,
    "start_time": "2023-08-01T18:09:44.184Z"
   },
   {
    "duration": 2169,
    "start_time": "2023-08-01T18:09:45.733Z"
   },
   {
    "duration": 27,
    "start_time": "2023-08-01T18:09:47.904Z"
   },
   {
    "duration": 22,
    "start_time": "2023-08-01T18:09:47.933Z"
   },
   {
    "duration": 35,
    "start_time": "2023-08-01T18:09:47.957Z"
   },
   {
    "duration": 5,
    "start_time": "2023-08-01T18:09:48.010Z"
   },
   {
    "duration": 26,
    "start_time": "2023-08-01T18:09:48.016Z"
   },
   {
    "duration": 16,
    "start_time": "2023-08-01T18:09:48.045Z"
   },
   {
    "duration": 5,
    "start_time": "2023-08-01T18:09:48.063Z"
   },
   {
    "duration": 38,
    "start_time": "2023-08-01T18:09:48.070Z"
   },
   {
    "duration": 19,
    "start_time": "2023-08-01T18:09:48.111Z"
   },
   {
    "duration": 505,
    "start_time": "2023-08-01T18:09:48.132Z"
   },
   {
    "duration": 17,
    "start_time": "2023-08-01T18:09:48.638Z"
   },
   {
    "duration": 27,
    "start_time": "2023-08-01T18:09:48.658Z"
   },
   {
    "duration": 4,
    "start_time": "2023-08-01T18:09:48.687Z"
   },
   {
    "duration": 2,
    "start_time": "2023-08-01T18:09:48.709Z"
   },
   {
    "duration": 6,
    "start_time": "2023-08-01T18:09:48.713Z"
   },
   {
    "duration": 47,
    "start_time": "2023-08-01T18:09:48.721Z"
   },
   {
    "duration": 32,
    "start_time": "2023-08-01T18:09:48.770Z"
   },
   {
    "duration": 11,
    "start_time": "2023-08-01T18:09:48.804Z"
   },
   {
    "duration": 20,
    "start_time": "2023-08-01T18:09:48.816Z"
   },
   {
    "duration": 23,
    "start_time": "2023-08-01T18:09:48.838Z"
   },
   {
    "duration": 33,
    "start_time": "2023-08-01T18:09:48.862Z"
   },
   {
    "duration": 20,
    "start_time": "2023-08-01T18:09:48.897Z"
   },
   {
    "duration": 18,
    "start_time": "2023-08-01T18:09:48.919Z"
   },
   {
    "duration": 23,
    "start_time": "2023-08-01T18:09:48.939Z"
   },
   {
    "duration": 21,
    "start_time": "2023-08-01T18:09:48.964Z"
   },
   {
    "duration": 26,
    "start_time": "2023-08-01T18:09:48.988Z"
   },
   {
    "duration": 28,
    "start_time": "2023-08-01T18:09:49.016Z"
   },
   {
    "duration": 162,
    "start_time": "2023-08-01T18:09:49.046Z"
   },
   {
    "duration": 9,
    "start_time": "2023-08-01T18:09:49.210Z"
   },
   {
    "duration": 155,
    "start_time": "2023-08-01T18:09:49.221Z"
   },
   {
    "duration": 10,
    "start_time": "2023-08-01T18:09:49.377Z"
   },
   {
    "duration": 127,
    "start_time": "2023-08-01T18:09:49.389Z"
   },
   {
    "duration": 28,
    "start_time": "2023-08-01T18:09:49.518Z"
   },
   {
    "duration": 97,
    "start_time": "2023-08-01T18:09:49.547Z"
   },
   {
    "duration": 4,
    "start_time": "2023-08-01T18:09:49.645Z"
   },
   {
    "duration": 167,
    "start_time": "2023-08-01T18:09:49.651Z"
   },
   {
    "duration": 63,
    "start_time": "2023-08-01T18:09:49.820Z"
   },
   {
    "duration": 259,
    "start_time": "2023-08-01T18:09:49.885Z"
   },
   {
    "duration": 17,
    "start_time": "2023-08-01T18:09:50.149Z"
   },
   {
    "duration": 39,
    "start_time": "2023-08-01T18:09:50.168Z"
   },
   {
    "duration": 6,
    "start_time": "2023-08-01T18:09:50.209Z"
   },
   {
    "duration": 8,
    "start_time": "2023-08-01T18:09:50.217Z"
   },
   {
    "duration": 7,
    "start_time": "2023-08-01T18:09:50.227Z"
   },
   {
    "duration": 6,
    "start_time": "2023-08-01T18:09:50.236Z"
   },
   {
    "duration": 14,
    "start_time": "2023-08-01T18:09:50.244Z"
   },
   {
    "duration": 5,
    "start_time": "2023-08-01T18:09:50.259Z"
   },
   {
    "duration": 1680,
    "start_time": "2023-08-01T18:09:56.399Z"
   },
   {
    "duration": 169,
    "start_time": "2023-08-01T18:13:53.420Z"
   },
   {
    "duration": 73,
    "start_time": "2023-08-01T18:14:11.876Z"
   },
   {
    "duration": 87,
    "start_time": "2023-08-01T18:14:27.650Z"
   },
   {
    "duration": 63,
    "start_time": "2023-08-01T18:14:41.555Z"
   },
   {
    "duration": 73,
    "start_time": "2023-08-01T18:27:00.697Z"
   },
   {
    "duration": 80,
    "start_time": "2023-08-01T18:28:32.386Z"
   },
   {
    "duration": 4,
    "start_time": "2023-08-01T18:31:21.888Z"
   },
   {
    "duration": 898,
    "start_time": "2023-08-01T18:31:21.896Z"
   },
   {
    "duration": 28,
    "start_time": "2023-08-01T18:31:22.796Z"
   },
   {
    "duration": 34,
    "start_time": "2023-08-01T18:31:22.826Z"
   },
   {
    "duration": 28,
    "start_time": "2023-08-01T18:31:22.862Z"
   },
   {
    "duration": 8,
    "start_time": "2023-08-01T18:31:22.892Z"
   },
   {
    "duration": 23,
    "start_time": "2023-08-01T18:31:22.909Z"
   },
   {
    "duration": 22,
    "start_time": "2023-08-01T18:31:22.935Z"
   },
   {
    "duration": 4,
    "start_time": "2023-08-01T18:31:22.960Z"
   },
   {
    "duration": 43,
    "start_time": "2023-08-01T18:31:22.966Z"
   },
   {
    "duration": 16,
    "start_time": "2023-08-01T18:31:23.013Z"
   },
   {
    "duration": 545,
    "start_time": "2023-08-01T18:31:23.032Z"
   },
   {
    "duration": 13,
    "start_time": "2023-08-01T18:31:23.579Z"
   },
   {
    "duration": 35,
    "start_time": "2023-08-01T18:31:23.594Z"
   },
   {
    "duration": 6,
    "start_time": "2023-08-01T18:31:23.632Z"
   },
   {
    "duration": 9,
    "start_time": "2023-08-01T18:31:23.640Z"
   },
   {
    "duration": 11,
    "start_time": "2023-08-01T18:31:23.651Z"
   },
   {
    "duration": 26,
    "start_time": "2023-08-01T18:31:23.663Z"
   },
   {
    "duration": 27,
    "start_time": "2023-08-01T18:31:23.691Z"
   },
   {
    "duration": 15,
    "start_time": "2023-08-01T18:31:23.721Z"
   },
   {
    "duration": 16,
    "start_time": "2023-08-01T18:31:23.738Z"
   },
   {
    "duration": 16,
    "start_time": "2023-08-01T18:31:23.756Z"
   },
   {
    "duration": 41,
    "start_time": "2023-08-01T18:31:23.775Z"
   },
   {
    "duration": 11,
    "start_time": "2023-08-01T18:31:23.818Z"
   },
   {
    "duration": 12,
    "start_time": "2023-08-01T18:31:23.832Z"
   },
   {
    "duration": 18,
    "start_time": "2023-08-01T18:31:23.847Z"
   },
   {
    "duration": 60,
    "start_time": "2023-08-01T18:31:23.867Z"
   },
   {
    "duration": 24,
    "start_time": "2023-08-01T18:31:23.929Z"
   },
   {
    "duration": 31,
    "start_time": "2023-08-01T18:31:23.957Z"
   },
   {
    "duration": 178,
    "start_time": "2023-08-01T18:31:23.990Z"
   },
   {
    "duration": 8,
    "start_time": "2023-08-01T18:31:24.170Z"
   },
   {
    "duration": 157,
    "start_time": "2023-08-01T18:31:24.179Z"
   },
   {
    "duration": 10,
    "start_time": "2023-08-01T18:31:24.339Z"
   },
   {
    "duration": 26,
    "start_time": "2023-08-01T18:31:24.351Z"
   },
   {
    "duration": 40,
    "start_time": "2023-08-01T18:31:24.379Z"
   },
   {
    "duration": 111,
    "start_time": "2023-08-01T18:31:24.421Z"
   },
   {
    "duration": 4,
    "start_time": "2023-08-01T18:31:24.534Z"
   },
   {
    "duration": 42,
    "start_time": "2023-08-01T18:31:24.539Z"
   },
   {
    "duration": 46,
    "start_time": "2023-08-01T18:31:24.583Z"
   },
   {
    "duration": 231,
    "start_time": "2023-08-01T18:31:24.631Z"
   },
   {
    "duration": 10,
    "start_time": "2023-08-01T18:31:36.887Z"
   },
   {
    "duration": 61,
    "start_time": "2023-08-01T18:31:39.881Z"
   },
   {
    "duration": 5,
    "start_time": "2023-08-01T18:31:40.203Z"
   },
   {
    "duration": 6,
    "start_time": "2023-08-01T18:32:17.280Z"
   },
   {
    "duration": 8,
    "start_time": "2023-08-01T18:32:30.647Z"
   },
   {
    "duration": 6,
    "start_time": "2023-08-01T18:32:40.597Z"
   },
   {
    "duration": 10,
    "start_time": "2023-08-01T18:33:11.343Z"
   },
   {
    "duration": 2,
    "start_time": "2023-08-01T18:37:30.550Z"
   },
   {
    "duration": 2271,
    "start_time": "2023-08-01T18:41:55.465Z"
   },
   {
    "duration": 47,
    "start_time": "2023-08-01T18:50:31.287Z"
   },
   {
    "duration": 2178,
    "start_time": "2023-08-01T18:50:32.834Z"
   },
   {
    "duration": 4,
    "start_time": "2023-08-01T18:51:03.767Z"
   },
   {
    "duration": 875,
    "start_time": "2023-08-01T18:51:03.773Z"
   },
   {
    "duration": 22,
    "start_time": "2023-08-01T18:51:04.651Z"
   },
   {
    "duration": 49,
    "start_time": "2023-08-01T18:51:04.675Z"
   },
   {
    "duration": 40,
    "start_time": "2023-08-01T18:51:04.727Z"
   },
   {
    "duration": 38,
    "start_time": "2023-08-01T18:51:04.769Z"
   },
   {
    "duration": 53,
    "start_time": "2023-08-01T18:51:04.808Z"
   },
   {
    "duration": 20,
    "start_time": "2023-08-01T18:51:04.863Z"
   },
   {
    "duration": 16,
    "start_time": "2023-08-01T18:51:04.885Z"
   },
   {
    "duration": 60,
    "start_time": "2023-08-01T18:51:04.902Z"
   },
   {
    "duration": 38,
    "start_time": "2023-08-01T18:51:04.964Z"
   },
   {
    "duration": 520,
    "start_time": "2023-08-01T18:51:05.004Z"
   },
   {
    "duration": 16,
    "start_time": "2023-08-01T18:51:05.526Z"
   },
   {
    "duration": 39,
    "start_time": "2023-08-01T18:51:05.546Z"
   },
   {
    "duration": 17,
    "start_time": "2023-08-01T18:51:05.587Z"
   },
   {
    "duration": 33,
    "start_time": "2023-08-01T18:51:05.606Z"
   },
   {
    "duration": 47,
    "start_time": "2023-08-01T18:51:05.641Z"
   },
   {
    "duration": 105,
    "start_time": "2023-08-01T18:51:05.690Z"
   },
   {
    "duration": 47,
    "start_time": "2023-08-01T18:51:05.797Z"
   },
   {
    "duration": 33,
    "start_time": "2023-08-01T18:51:05.846Z"
   },
   {
    "duration": 14,
    "start_time": "2023-08-01T18:51:05.882Z"
   },
   {
    "duration": 21,
    "start_time": "2023-08-01T18:51:05.899Z"
   },
   {
    "duration": 26,
    "start_time": "2023-08-01T18:51:05.923Z"
   },
   {
    "duration": 28,
    "start_time": "2023-08-01T18:51:05.952Z"
   },
   {
    "duration": 16,
    "start_time": "2023-08-01T18:51:05.983Z"
   },
   {
    "duration": 17,
    "start_time": "2023-08-01T18:51:06.002Z"
   },
   {
    "duration": 28,
    "start_time": "2023-08-01T18:51:06.022Z"
   },
   {
    "duration": 25,
    "start_time": "2023-08-01T18:51:06.052Z"
   },
   {
    "duration": 26,
    "start_time": "2023-08-01T18:51:06.079Z"
   },
   {
    "duration": 149,
    "start_time": "2023-08-01T18:51:06.107Z"
   },
   {
    "duration": 8,
    "start_time": "2023-08-01T18:51:06.259Z"
   },
   {
    "duration": 162,
    "start_time": "2023-08-01T18:51:06.268Z"
   },
   {
    "duration": 9,
    "start_time": "2023-08-01T18:51:06.432Z"
   },
   {
    "duration": 30,
    "start_time": "2023-08-01T18:51:06.443Z"
   },
   {
    "duration": 37,
    "start_time": "2023-08-01T18:51:06.474Z"
   },
   {
    "duration": 117,
    "start_time": "2023-08-01T18:51:06.513Z"
   },
   {
    "duration": 3,
    "start_time": "2023-08-01T18:51:06.632Z"
   },
   {
    "duration": 29,
    "start_time": "2023-08-01T18:51:06.638Z"
   },
   {
    "duration": 13,
    "start_time": "2023-08-01T18:51:06.669Z"
   },
   {
    "duration": 20,
    "start_time": "2023-08-01T18:51:06.684Z"
   },
   {
    "duration": 19,
    "start_time": "2023-08-01T18:51:06.708Z"
   },
   {
    "duration": 38,
    "start_time": "2023-08-01T18:51:06.729Z"
   },
   {
    "duration": 42,
    "start_time": "2023-08-01T18:51:06.769Z"
   },
   {
    "duration": 29,
    "start_time": "2023-08-01T18:51:06.813Z"
   },
   {
    "duration": 61,
    "start_time": "2023-08-01T18:51:06.845Z"
   },
   {
    "duration": 52,
    "start_time": "2023-08-01T18:51:06.908Z"
   },
   {
    "duration": 88,
    "start_time": "2023-08-01T18:51:06.962Z"
   },
   {
    "duration": 20,
    "start_time": "2023-08-01T18:51:07.052Z"
   },
   {
    "duration": 28,
    "start_time": "2023-08-01T18:51:07.073Z"
   },
   {
    "duration": 2216,
    "start_time": "2023-08-01T18:51:07.103Z"
   },
   {
    "duration": 52,
    "start_time": "2023-08-01T18:51:28.615Z"
   },
   {
    "duration": 5,
    "start_time": "2023-08-01T19:20:01.085Z"
   },
   {
    "duration": 872,
    "start_time": "2023-08-01T19:20:01.093Z"
   },
   {
    "duration": 26,
    "start_time": "2023-08-01T19:20:01.967Z"
   },
   {
    "duration": 58,
    "start_time": "2023-08-01T19:20:02.008Z"
   },
   {
    "duration": 40,
    "start_time": "2023-08-01T19:20:02.068Z"
   },
   {
    "duration": 81,
    "start_time": "2023-08-01T19:20:02.110Z"
   },
   {
    "duration": 88,
    "start_time": "2023-08-01T19:20:02.193Z"
   },
   {
    "duration": 116,
    "start_time": "2023-08-01T19:20:02.283Z"
   },
   {
    "duration": 111,
    "start_time": "2023-08-01T19:20:02.403Z"
   },
   {
    "duration": 42,
    "start_time": "2023-08-01T19:20:02.517Z"
   },
   {
    "duration": 50,
    "start_time": "2023-08-01T19:20:02.562Z"
   },
   {
    "duration": 582,
    "start_time": "2023-08-01T19:20:02.615Z"
   },
   {
    "duration": 26,
    "start_time": "2023-08-01T19:20:03.199Z"
   },
   {
    "duration": 39,
    "start_time": "2023-08-01T19:20:03.226Z"
   },
   {
    "duration": 10,
    "start_time": "2023-08-01T19:20:03.267Z"
   },
   {
    "duration": 8,
    "start_time": "2023-08-01T19:20:03.279Z"
   },
   {
    "duration": 5,
    "start_time": "2023-08-01T19:20:03.289Z"
   },
   {
    "duration": 15,
    "start_time": "2023-08-01T19:20:03.296Z"
   },
   {
    "duration": 22,
    "start_time": "2023-08-01T19:20:03.313Z"
   },
   {
    "duration": 6,
    "start_time": "2023-08-01T19:20:03.337Z"
   },
   {
    "duration": 12,
    "start_time": "2023-08-01T19:20:03.344Z"
   },
   {
    "duration": 19,
    "start_time": "2023-08-01T19:20:03.358Z"
   },
   {
    "duration": 17,
    "start_time": "2023-08-01T19:20:03.379Z"
   },
   {
    "duration": 5,
    "start_time": "2023-08-01T19:20:03.401Z"
   },
   {
    "duration": 23,
    "start_time": "2023-08-01T19:20:03.407Z"
   },
   {
    "duration": 14,
    "start_time": "2023-08-01T19:20:03.432Z"
   },
   {
    "duration": 15,
    "start_time": "2023-08-01T19:20:03.448Z"
   },
   {
    "duration": 6,
    "start_time": "2023-08-01T19:20:03.465Z"
   },
   {
    "duration": 17,
    "start_time": "2023-08-01T19:20:03.472Z"
   },
   {
    "duration": 176,
    "start_time": "2023-08-01T19:20:03.490Z"
   },
   {
    "duration": 8,
    "start_time": "2023-08-01T19:20:03.668Z"
   },
   {
    "duration": 161,
    "start_time": "2023-08-01T19:20:03.678Z"
   },
   {
    "duration": 8,
    "start_time": "2023-08-01T19:20:03.841Z"
   },
   {
    "duration": 22,
    "start_time": "2023-08-01T19:20:03.851Z"
   },
   {
    "duration": 37,
    "start_time": "2023-08-01T19:20:03.875Z"
   },
   {
    "duration": 119,
    "start_time": "2023-08-01T19:20:03.915Z"
   },
   {
    "duration": 3,
    "start_time": "2023-08-01T19:20:04.036Z"
   },
   {
    "duration": 13,
    "start_time": "2023-08-01T19:20:04.041Z"
   },
   {
    "duration": 9,
    "start_time": "2023-08-01T19:20:04.056Z"
   },
   {
    "duration": 8,
    "start_time": "2023-08-01T19:20:04.067Z"
   },
   {
    "duration": 6,
    "start_time": "2023-08-01T19:20:04.077Z"
   },
   {
    "duration": 6,
    "start_time": "2023-08-01T19:20:04.085Z"
   },
   {
    "duration": 5,
    "start_time": "2023-08-01T19:20:04.093Z"
   },
   {
    "duration": 27,
    "start_time": "2023-08-01T19:20:04.108Z"
   },
   {
    "duration": 8,
    "start_time": "2023-08-01T19:20:04.138Z"
   },
   {
    "duration": 8,
    "start_time": "2023-08-01T19:20:04.148Z"
   },
   {
    "duration": 9,
    "start_time": "2023-08-01T19:20:04.159Z"
   },
   {
    "duration": 13,
    "start_time": "2023-08-01T19:20:04.170Z"
   },
   {
    "duration": 19,
    "start_time": "2023-08-01T19:20:04.185Z"
   },
   {
    "duration": 2188,
    "start_time": "2023-08-01T19:20:04.206Z"
   },
   {
    "duration": 52,
    "start_time": "2023-08-01T19:20:06.396Z"
   },
   {
    "duration": 3,
    "start_time": "2023-08-01T19:20:06.903Z"
   },
   {
    "duration": 432,
    "start_time": "2023-08-01T19:20:07.284Z"
   },
   {
    "duration": 422,
    "start_time": "2023-08-01T19:20:28.893Z"
   },
   {
    "duration": 3,
    "start_time": "2023-08-01T19:21:31.305Z"
   },
   {
    "duration": 16,
    "start_time": "2023-08-01T19:21:33.599Z"
   },
   {
    "duration": 4030,
    "start_time": "2023-08-01T19:21:41.267Z"
   },
   {
    "duration": 1852,
    "start_time": "2023-08-02T12:06:32.167Z"
   },
   {
    "duration": 3338,
    "start_time": "2023-08-02T12:06:34.021Z"
   },
   {
    "duration": 36,
    "start_time": "2023-08-02T12:06:37.363Z"
   },
   {
    "duration": 31,
    "start_time": "2023-08-02T12:06:37.401Z"
   },
   {
    "duration": 56,
    "start_time": "2023-08-02T12:06:37.434Z"
   },
   {
    "duration": 4,
    "start_time": "2023-08-02T12:06:37.492Z"
   },
   {
    "duration": 23,
    "start_time": "2023-08-02T12:06:37.497Z"
   },
   {
    "duration": 15,
    "start_time": "2023-08-02T12:06:37.521Z"
   },
   {
    "duration": 22,
    "start_time": "2023-08-02T12:06:37.538Z"
   },
   {
    "duration": 10,
    "start_time": "2023-08-02T12:06:37.563Z"
   },
   {
    "duration": 18,
    "start_time": "2023-08-02T12:06:37.575Z"
   },
   {
    "duration": 504,
    "start_time": "2023-08-02T12:06:37.595Z"
   },
   {
    "duration": 13,
    "start_time": "2023-08-02T12:06:38.101Z"
   },
   {
    "duration": 40,
    "start_time": "2023-08-02T12:06:38.116Z"
   },
   {
    "duration": 4,
    "start_time": "2023-08-02T12:06:38.160Z"
   },
   {
    "duration": 5,
    "start_time": "2023-08-02T12:06:38.167Z"
   },
   {
    "duration": 11,
    "start_time": "2023-08-02T12:06:38.174Z"
   },
   {
    "duration": 38,
    "start_time": "2023-08-02T12:06:38.186Z"
   },
   {
    "duration": 14,
    "start_time": "2023-08-02T12:06:38.225Z"
   },
   {
    "duration": 3,
    "start_time": "2023-08-02T12:06:38.241Z"
   },
   {
    "duration": 5,
    "start_time": "2023-08-02T12:06:38.246Z"
   },
   {
    "duration": 11,
    "start_time": "2023-08-02T12:06:38.253Z"
   },
   {
    "duration": 13,
    "start_time": "2023-08-02T12:06:38.266Z"
   },
   {
    "duration": 15,
    "start_time": "2023-08-02T12:06:38.281Z"
   },
   {
    "duration": 18,
    "start_time": "2023-08-02T12:06:38.298Z"
   },
   {
    "duration": 11,
    "start_time": "2023-08-02T12:06:38.318Z"
   },
   {
    "duration": 5,
    "start_time": "2023-08-02T12:06:38.331Z"
   },
   {
    "duration": 3,
    "start_time": "2023-08-02T12:06:38.340Z"
   },
   {
    "duration": 8,
    "start_time": "2023-08-02T12:06:38.344Z"
   },
   {
    "duration": 172,
    "start_time": "2023-08-02T12:06:38.353Z"
   },
   {
    "duration": 8,
    "start_time": "2023-08-02T12:06:38.527Z"
   },
   {
    "duration": 153,
    "start_time": "2023-08-02T12:06:38.537Z"
   },
   {
    "duration": 9,
    "start_time": "2023-08-02T12:06:38.691Z"
   },
   {
    "duration": 26,
    "start_time": "2023-08-02T12:06:38.701Z"
   },
   {
    "duration": 43,
    "start_time": "2023-08-02T12:06:38.729Z"
   },
   {
    "duration": 129,
    "start_time": "2023-08-02T12:06:38.775Z"
   },
   {
    "duration": 3,
    "start_time": "2023-08-02T12:06:38.906Z"
   },
   {
    "duration": 4,
    "start_time": "2023-08-02T12:06:38.912Z"
   },
   {
    "duration": 5,
    "start_time": "2023-08-02T12:06:38.919Z"
   },
   {
    "duration": 8,
    "start_time": "2023-08-02T12:06:38.926Z"
   },
   {
    "duration": 25,
    "start_time": "2023-08-02T12:06:38.937Z"
   },
   {
    "duration": 3,
    "start_time": "2023-08-02T12:06:38.965Z"
   },
   {
    "duration": 14,
    "start_time": "2023-08-02T12:06:38.969Z"
   },
   {
    "duration": 6,
    "start_time": "2023-08-02T12:06:38.985Z"
   },
   {
    "duration": 14,
    "start_time": "2023-08-02T12:06:38.993Z"
   },
   {
    "duration": 13,
    "start_time": "2023-08-02T12:06:39.009Z"
   },
   {
    "duration": 10,
    "start_time": "2023-08-02T12:06:39.024Z"
   },
   {
    "duration": 9,
    "start_time": "2023-08-02T12:06:39.036Z"
   },
   {
    "duration": 16,
    "start_time": "2023-08-02T12:06:39.046Z"
   },
   {
    "duration": 1960,
    "start_time": "2023-08-02T12:06:39.065Z"
   },
   {
    "duration": 63,
    "start_time": "2023-08-02T12:06:41.027Z"
   },
   {
    "duration": 3,
    "start_time": "2023-08-02T12:06:41.092Z"
   },
   {
    "duration": 504,
    "start_time": "2023-08-02T12:06:41.096Z"
   },
   {
    "duration": 4,
    "start_time": "2023-08-02T12:06:41.602Z"
   },
   {
    "duration": 15,
    "start_time": "2023-08-02T12:06:41.607Z"
   },
   {
    "duration": 3926,
    "start_time": "2023-08-02T12:06:41.623Z"
   },
   {
    "duration": 6,
    "start_time": "2023-08-02T12:06:45.551Z"
   },
   {
    "duration": 31,
    "start_time": "2023-08-02T12:06:45.560Z"
   },
   {
    "duration": 27,
    "start_time": "2023-08-02T12:08:42.416Z"
   },
   {
    "duration": 2233,
    "start_time": "2023-08-02T12:09:07.579Z"
   },
   {
    "duration": 4,
    "start_time": "2023-08-02T12:10:27.462Z"
   },
   {
    "duration": 10,
    "start_time": "2023-08-02T12:10:31.912Z"
   },
   {
    "duration": 3,
    "start_time": "2023-08-02T12:10:35.647Z"
   },
   {
    "duration": 169,
    "start_time": "2023-08-02T12:10:36.040Z"
   },
   {
    "duration": 30,
    "start_time": "2023-08-02T12:10:57.194Z"
   },
   {
    "duration": 19,
    "start_time": "2023-08-02T12:11:18.827Z"
   },
   {
    "duration": 3,
    "start_time": "2023-08-02T12:11:20.644Z"
   },
   {
    "duration": 19,
    "start_time": "2023-08-02T12:11:20.863Z"
   },
   {
    "duration": 3,
    "start_time": "2023-08-02T12:11:23.127Z"
   },
   {
    "duration": 50,
    "start_time": "2023-08-02T12:11:24.444Z"
   },
   {
    "duration": 26,
    "start_time": "2023-08-02T12:11:44.686Z"
   },
   {
    "duration": 45,
    "start_time": "2023-08-02T12:11:53.141Z"
   },
   {
    "duration": 12,
    "start_time": "2023-08-02T12:14:34.136Z"
   },
   {
    "duration": 4,
    "start_time": "2023-08-02T12:14:40.519Z"
   },
   {
    "duration": 916,
    "start_time": "2023-08-02T12:14:40.529Z"
   },
   {
    "duration": 37,
    "start_time": "2023-08-02T12:14:41.448Z"
   },
   {
    "duration": 23,
    "start_time": "2023-08-02T12:14:41.487Z"
   },
   {
    "duration": 29,
    "start_time": "2023-08-02T12:14:41.511Z"
   },
   {
    "duration": 6,
    "start_time": "2023-08-02T12:14:41.561Z"
   },
   {
    "duration": 27,
    "start_time": "2023-08-02T12:14:41.570Z"
   },
   {
    "duration": 23,
    "start_time": "2023-08-02T12:14:41.599Z"
   },
   {
    "duration": 5,
    "start_time": "2023-08-02T12:14:41.624Z"
   },
   {
    "duration": 26,
    "start_time": "2023-08-02T12:14:41.630Z"
   },
   {
    "duration": 19,
    "start_time": "2023-08-02T12:14:41.660Z"
   },
   {
    "duration": 512,
    "start_time": "2023-08-02T12:14:41.682Z"
   },
   {
    "duration": 15,
    "start_time": "2023-08-02T12:14:42.196Z"
   },
   {
    "duration": 25,
    "start_time": "2023-08-02T12:14:42.212Z"
   },
   {
    "duration": 5,
    "start_time": "2023-08-02T12:14:42.238Z"
   },
   {
    "duration": 13,
    "start_time": "2023-08-02T12:14:42.245Z"
   },
   {
    "duration": 7,
    "start_time": "2023-08-02T12:14:42.261Z"
   },
   {
    "duration": 25,
    "start_time": "2023-08-02T12:14:42.271Z"
   },
   {
    "duration": 9,
    "start_time": "2023-08-02T12:14:42.298Z"
   },
   {
    "duration": 25,
    "start_time": "2023-08-02T12:14:42.309Z"
   },
   {
    "duration": 27,
    "start_time": "2023-08-02T12:14:42.335Z"
   },
   {
    "duration": 22,
    "start_time": "2023-08-02T12:14:42.364Z"
   },
   {
    "duration": 26,
    "start_time": "2023-08-02T12:14:42.388Z"
   },
   {
    "duration": 20,
    "start_time": "2023-08-02T12:14:42.416Z"
   },
   {
    "duration": 20,
    "start_time": "2023-08-02T12:14:42.438Z"
   },
   {
    "duration": 6,
    "start_time": "2023-08-02T12:14:42.461Z"
   },
   {
    "duration": 16,
    "start_time": "2023-08-02T12:14:42.469Z"
   },
   {
    "duration": 11,
    "start_time": "2023-08-02T12:14:42.487Z"
   },
   {
    "duration": 3,
    "start_time": "2023-08-02T12:14:42.502Z"
   },
   {
    "duration": 136,
    "start_time": "2023-08-02T12:14:42.506Z"
   },
   {
    "duration": 18,
    "start_time": "2023-08-02T12:14:42.644Z"
   },
   {
    "duration": 135,
    "start_time": "2023-08-02T12:14:42.664Z"
   },
   {
    "duration": 8,
    "start_time": "2023-08-02T12:14:42.801Z"
   },
   {
    "duration": 22,
    "start_time": "2023-08-02T12:14:42.810Z"
   },
   {
    "duration": 30,
    "start_time": "2023-08-02T12:14:42.834Z"
   },
   {
    "duration": 112,
    "start_time": "2023-08-02T12:14:42.867Z"
   },
   {
    "duration": 2,
    "start_time": "2023-08-02T12:14:42.981Z"
   },
   {
    "duration": 7,
    "start_time": "2023-08-02T12:14:42.985Z"
   },
   {
    "duration": 4,
    "start_time": "2023-08-02T12:14:42.993Z"
   },
   {
    "duration": 5,
    "start_time": "2023-08-02T12:14:42.999Z"
   },
   {
    "duration": 8,
    "start_time": "2023-08-02T12:14:43.005Z"
   },
   {
    "duration": 10,
    "start_time": "2023-08-02T12:14:43.015Z"
   },
   {
    "duration": 4,
    "start_time": "2023-08-02T12:14:43.027Z"
   },
   {
    "duration": 12,
    "start_time": "2023-08-02T12:14:43.032Z"
   },
   {
    "duration": 11,
    "start_time": "2023-08-02T12:14:43.046Z"
   },
   {
    "duration": 3,
    "start_time": "2023-08-02T12:14:43.059Z"
   },
   {
    "duration": 7,
    "start_time": "2023-08-02T12:14:43.064Z"
   },
   {
    "duration": 7,
    "start_time": "2023-08-02T12:14:43.073Z"
   },
   {
    "duration": 4,
    "start_time": "2023-08-02T12:14:43.082Z"
   },
   {
    "duration": 2212,
    "start_time": "2023-08-02T12:14:43.087Z"
   },
   {
    "duration": 56,
    "start_time": "2023-08-02T12:14:45.301Z"
   },
   {
    "duration": 2071,
    "start_time": "2023-08-02T12:14:45.360Z"
   },
   {
    "duration": 2,
    "start_time": "2023-08-02T12:14:47.433Z"
   },
   {
    "duration": 407,
    "start_time": "2023-08-02T12:14:47.437Z"
   },
   {
    "duration": 3,
    "start_time": "2023-08-02T12:14:47.846Z"
   },
   {
    "duration": 24,
    "start_time": "2023-08-02T12:14:47.856Z"
   },
   {
    "duration": 4362,
    "start_time": "2023-08-02T12:14:47.882Z"
   },
   {
    "duration": 12,
    "start_time": "2023-08-02T12:14:52.246Z"
   },
   {
    "duration": 12,
    "start_time": "2023-08-02T12:15:53.905Z"
   },
   {
    "duration": 33,
    "start_time": "2023-08-02T12:15:56.335Z"
   },
   {
    "duration": 29,
    "start_time": "2023-08-02T12:16:00.391Z"
   },
   {
    "duration": 4,
    "start_time": "2023-08-02T12:16:04.802Z"
   },
   {
    "duration": 22,
    "start_time": "2023-08-02T12:16:05.123Z"
   },
   {
    "duration": 2,
    "start_time": "2023-08-02T12:16:07.182Z"
   },
   {
    "duration": 785,
    "start_time": "2023-08-02T12:16:08.475Z"
   },
   {
    "duration": 4673,
    "start_time": "2023-08-02T12:16:11.197Z"
   },
   {
    "duration": 8,
    "start_time": "2023-08-02T12:16:29.546Z"
   },
   {
    "duration": 8,
    "start_time": "2023-08-02T12:16:40.538Z"
   },
   {
    "duration": 9,
    "start_time": "2023-08-02T12:16:50.327Z"
   },
   {
    "duration": 8451,
    "start_time": "2023-08-02T12:37:50.589Z"
   },
   {
    "duration": 1329,
    "start_time": "2023-08-02T12:37:59.042Z"
   },
   {
    "duration": 8,
    "start_time": "2023-08-02T12:38:00.373Z"
   },
   {
    "duration": 37,
    "start_time": "2023-08-02T12:38:00.384Z"
   },
   {
    "duration": 112,
    "start_time": "2023-08-02T12:43:30.016Z"
   },
   {
    "duration": 1595,
    "start_time": "2023-08-02T12:45:31.029Z"
   },
   {
    "duration": 813,
    "start_time": "2023-08-02T12:45:32.626Z"
   },
   {
    "duration": 43,
    "start_time": "2023-08-02T12:45:33.441Z"
   },
   {
    "duration": 21,
    "start_time": "2023-08-02T12:45:33.487Z"
   },
   {
    "duration": 25,
    "start_time": "2023-08-02T12:45:33.510Z"
   },
   {
    "duration": 5,
    "start_time": "2023-08-02T12:45:33.556Z"
   },
   {
    "duration": 35,
    "start_time": "2023-08-02T12:45:33.563Z"
   },
   {
    "duration": 17,
    "start_time": "2023-08-02T12:45:33.601Z"
   },
   {
    "duration": 4,
    "start_time": "2023-08-02T12:45:33.620Z"
   },
   {
    "duration": 41,
    "start_time": "2023-08-02T12:45:33.626Z"
   },
   {
    "duration": 30,
    "start_time": "2023-08-02T12:45:33.672Z"
   },
   {
    "duration": 536,
    "start_time": "2023-08-02T12:45:33.704Z"
   },
   {
    "duration": 13,
    "start_time": "2023-08-02T12:45:34.242Z"
   },
   {
    "duration": 33,
    "start_time": "2023-08-02T12:45:34.258Z"
   },
   {
    "duration": 3,
    "start_time": "2023-08-02T12:45:34.292Z"
   },
   {
    "duration": 6,
    "start_time": "2023-08-02T12:45:34.296Z"
   },
   {
    "duration": 6,
    "start_time": "2023-08-02T12:45:34.303Z"
   },
   {
    "duration": 16,
    "start_time": "2023-08-02T12:45:34.311Z"
   },
   {
    "duration": 28,
    "start_time": "2023-08-02T12:45:34.329Z"
   },
   {
    "duration": 2,
    "start_time": "2023-08-02T12:45:34.359Z"
   },
   {
    "duration": 6,
    "start_time": "2023-08-02T12:45:34.363Z"
   },
   {
    "duration": 6,
    "start_time": "2023-08-02T12:45:34.370Z"
   },
   {
    "duration": 8,
    "start_time": "2023-08-02T12:45:34.378Z"
   },
   {
    "duration": 12,
    "start_time": "2023-08-02T12:45:34.387Z"
   },
   {
    "duration": 20,
    "start_time": "2023-08-02T12:45:34.400Z"
   },
   {
    "duration": 9,
    "start_time": "2023-08-02T12:45:34.422Z"
   },
   {
    "duration": 13,
    "start_time": "2023-08-02T12:45:34.433Z"
   },
   {
    "duration": 5,
    "start_time": "2023-08-02T12:45:34.451Z"
   },
   {
    "duration": 8,
    "start_time": "2023-08-02T12:45:34.458Z"
   },
   {
    "duration": 293,
    "start_time": "2023-08-02T12:45:34.468Z"
   },
   {
    "duration": 9,
    "start_time": "2023-08-02T12:45:34.763Z"
   },
   {
    "duration": 391,
    "start_time": "2023-08-02T12:45:34.774Z"
   },
   {
    "duration": 8,
    "start_time": "2023-08-02T12:45:35.166Z"
   },
   {
    "duration": 75,
    "start_time": "2023-08-02T12:45:35.182Z"
   },
   {
    "duration": 21,
    "start_time": "2023-08-02T12:45:35.260Z"
   },
   {
    "duration": 284,
    "start_time": "2023-08-02T12:45:35.284Z"
   },
   {
    "duration": 4,
    "start_time": "2023-08-02T12:45:35.570Z"
   },
   {
    "duration": 8,
    "start_time": "2023-08-02T12:45:35.576Z"
   },
   {
    "duration": 20,
    "start_time": "2023-08-02T12:45:35.586Z"
   },
   {
    "duration": 11,
    "start_time": "2023-08-02T12:45:35.608Z"
   },
   {
    "duration": 4,
    "start_time": "2023-08-02T12:45:35.659Z"
   },
   {
    "duration": 5,
    "start_time": "2023-08-02T12:45:35.666Z"
   },
   {
    "duration": 12,
    "start_time": "2023-08-02T12:45:35.673Z"
   },
   {
    "duration": 9,
    "start_time": "2023-08-02T12:45:35.687Z"
   },
   {
    "duration": 6,
    "start_time": "2023-08-02T12:45:35.698Z"
   },
   {
    "duration": 53,
    "start_time": "2023-08-02T12:45:35.706Z"
   },
   {
    "duration": 8,
    "start_time": "2023-08-02T12:45:35.762Z"
   },
   {
    "duration": 29,
    "start_time": "2023-08-02T12:45:35.773Z"
   },
   {
    "duration": 54,
    "start_time": "2023-08-02T12:45:35.804Z"
   },
   {
    "duration": 2530,
    "start_time": "2023-08-02T12:45:35.861Z"
   },
   {
    "duration": 45,
    "start_time": "2023-08-02T12:45:38.393Z"
   },
   {
    "duration": 2049,
    "start_time": "2023-08-02T12:45:38.440Z"
   },
   {
    "duration": 2,
    "start_time": "2023-08-02T12:45:40.491Z"
   },
   {
    "duration": 487,
    "start_time": "2023-08-02T12:45:40.494Z"
   },
   {
    "duration": 4,
    "start_time": "2023-08-02T12:45:40.982Z"
   },
   {
    "duration": 14,
    "start_time": "2023-08-02T12:45:40.987Z"
   },
   {
    "duration": 3843,
    "start_time": "2023-08-02T12:45:41.002Z"
   },
   {
    "duration": 9,
    "start_time": "2023-08-02T12:45:44.847Z"
   },
   {
    "duration": 38,
    "start_time": "2023-08-02T12:45:44.859Z"
   },
   {
    "duration": 10,
    "start_time": "2023-08-02T12:45:44.899Z"
   },
   {
    "duration": 47,
    "start_time": "2023-08-02T12:45:44.910Z"
   },
   {
    "duration": 3,
    "start_time": "2023-08-02T12:45:44.959Z"
   },
   {
    "duration": 26,
    "start_time": "2023-08-02T12:45:44.965Z"
   },
   {
    "duration": 2,
    "start_time": "2023-08-02T12:45:44.993Z"
   },
   {
    "duration": 1364,
    "start_time": "2023-08-02T12:45:44.997Z"
   },
   {
    "duration": 4299,
    "start_time": "2023-08-02T12:45:46.363Z"
   },
   {
    "duration": 96,
    "start_time": "2023-08-02T12:45:50.665Z"
   },
   {
    "duration": 8309,
    "start_time": "2023-08-02T12:45:50.763Z"
   },
   {
    "duration": 1299,
    "start_time": "2023-08-02T12:45:59.074Z"
   },
   {
    "duration": 5,
    "start_time": "2023-08-02T12:46:00.376Z"
   },
   {
    "duration": 62,
    "start_time": "2023-08-02T12:46:00.384Z"
   },
   {
    "duration": 188,
    "start_time": "2023-08-02T12:46:00.448Z"
   },
   {
    "duration": 0,
    "start_time": "2023-08-02T12:46:00.637Z"
   },
   {
    "duration": 0,
    "start_time": "2023-08-02T12:46:00.638Z"
   },
   {
    "duration": 0,
    "start_time": "2023-08-02T12:46:00.639Z"
   },
   {
    "duration": 0,
    "start_time": "2023-08-02T12:46:00.640Z"
   },
   {
    "duration": 0,
    "start_time": "2023-08-02T12:46:00.642Z"
   },
   {
    "duration": 0,
    "start_time": "2023-08-02T12:46:00.643Z"
   },
   {
    "duration": 0,
    "start_time": "2023-08-02T12:46:00.644Z"
   },
   {
    "duration": 0,
    "start_time": "2023-08-02T12:46:00.645Z"
   },
   {
    "duration": 0,
    "start_time": "2023-08-02T12:46:00.658Z"
   },
   {
    "duration": 7,
    "start_time": "2023-08-02T12:46:05.117Z"
   },
   {
    "duration": 6,
    "start_time": "2023-08-02T12:46:13.992Z"
   },
   {
    "duration": 1685,
    "start_time": "2023-08-02T12:49:07.992Z"
   },
   {
    "duration": 865,
    "start_time": "2023-08-02T12:49:09.680Z"
   },
   {
    "duration": 38,
    "start_time": "2023-08-02T12:49:10.547Z"
   },
   {
    "duration": 21,
    "start_time": "2023-08-02T12:49:10.587Z"
   },
   {
    "duration": 20,
    "start_time": "2023-08-02T12:49:10.610Z"
   },
   {
    "duration": 26,
    "start_time": "2023-08-02T12:49:10.632Z"
   },
   {
    "duration": 24,
    "start_time": "2023-08-02T12:49:10.661Z"
   },
   {
    "duration": 15,
    "start_time": "2023-08-02T12:49:10.686Z"
   },
   {
    "duration": 5,
    "start_time": "2023-08-02T12:49:10.703Z"
   },
   {
    "duration": 8,
    "start_time": "2023-08-02T12:49:10.712Z"
   },
   {
    "duration": 24,
    "start_time": "2023-08-02T12:49:10.756Z"
   },
   {
    "duration": 515,
    "start_time": "2023-08-02T12:49:10.782Z"
   },
   {
    "duration": 13,
    "start_time": "2023-08-02T12:49:11.301Z"
   },
   {
    "duration": 22,
    "start_time": "2023-08-02T12:49:11.316Z"
   },
   {
    "duration": 3,
    "start_time": "2023-08-02T12:49:11.340Z"
   },
   {
    "duration": 12,
    "start_time": "2023-08-02T12:49:11.345Z"
   },
   {
    "duration": 5,
    "start_time": "2023-08-02T12:49:11.360Z"
   },
   {
    "duration": 18,
    "start_time": "2023-08-02T12:49:11.368Z"
   },
   {
    "duration": 12,
    "start_time": "2023-08-02T12:49:11.387Z"
   },
   {
    "duration": 2,
    "start_time": "2023-08-02T12:49:11.401Z"
   },
   {
    "duration": 4,
    "start_time": "2023-08-02T12:49:11.404Z"
   },
   {
    "duration": 4,
    "start_time": "2023-08-02T12:49:11.410Z"
   },
   {
    "duration": 24,
    "start_time": "2023-08-02T12:49:11.416Z"
   },
   {
    "duration": 16,
    "start_time": "2023-08-02T12:49:11.441Z"
   },
   {
    "duration": 4,
    "start_time": "2023-08-02T12:49:11.460Z"
   },
   {
    "duration": 13,
    "start_time": "2023-08-02T12:49:11.467Z"
   },
   {
    "duration": 8,
    "start_time": "2023-08-02T12:49:11.483Z"
   },
   {
    "duration": 2,
    "start_time": "2023-08-02T12:49:11.495Z"
   },
   {
    "duration": 10,
    "start_time": "2023-08-02T12:49:11.499Z"
   },
   {
    "duration": 155,
    "start_time": "2023-08-02T12:49:11.511Z"
   },
   {
    "duration": 8,
    "start_time": "2023-08-02T12:49:11.668Z"
   },
   {
    "duration": 162,
    "start_time": "2023-08-02T12:49:11.680Z"
   },
   {
    "duration": 14,
    "start_time": "2023-08-02T12:49:11.844Z"
   },
   {
    "duration": 31,
    "start_time": "2023-08-02T12:49:11.861Z"
   },
   {
    "duration": 15,
    "start_time": "2023-08-02T12:49:11.894Z"
   },
   {
    "duration": 129,
    "start_time": "2023-08-02T12:49:11.910Z"
   },
   {
    "duration": 2,
    "start_time": "2023-08-02T12:49:12.041Z"
   },
   {
    "duration": 6,
    "start_time": "2023-08-02T12:49:12.045Z"
   },
   {
    "duration": 11,
    "start_time": "2023-08-02T12:49:12.058Z"
   },
   {
    "duration": 4,
    "start_time": "2023-08-02T12:49:12.072Z"
   },
   {
    "duration": 5,
    "start_time": "2023-08-02T12:49:12.078Z"
   },
   {
    "duration": 8,
    "start_time": "2023-08-02T12:49:12.085Z"
   },
   {
    "duration": 5,
    "start_time": "2023-08-02T12:49:12.095Z"
   },
   {
    "duration": 5,
    "start_time": "2023-08-02T12:49:12.101Z"
   },
   {
    "duration": 4,
    "start_time": "2023-08-02T12:49:12.108Z"
   },
   {
    "duration": 7,
    "start_time": "2023-08-02T12:49:12.113Z"
   },
   {
    "duration": 11,
    "start_time": "2023-08-02T12:49:12.122Z"
   },
   {
    "duration": 48,
    "start_time": "2023-08-02T12:49:12.135Z"
   },
   {
    "duration": 5,
    "start_time": "2023-08-02T12:49:12.185Z"
   },
   {
    "duration": 3495,
    "start_time": "2023-08-02T12:49:12.192Z"
   },
   {
    "duration": 41,
    "start_time": "2023-08-02T12:49:15.690Z"
   },
   {
    "duration": 2075,
    "start_time": "2023-08-02T12:49:15.734Z"
   },
   {
    "duration": 2,
    "start_time": "2023-08-02T12:49:17.811Z"
   },
   {
    "duration": 467,
    "start_time": "2023-08-02T12:49:17.815Z"
   },
   {
    "duration": 6,
    "start_time": "2023-08-02T12:49:18.285Z"
   },
   {
    "duration": 15,
    "start_time": "2023-08-02T12:49:18.292Z"
   },
   {
    "duration": 4048,
    "start_time": "2023-08-02T12:49:18.309Z"
   },
   {
    "duration": 6,
    "start_time": "2023-08-02T12:49:22.361Z"
   },
   {
    "duration": 90,
    "start_time": "2023-08-02T12:49:22.369Z"
   },
   {
    "duration": 9,
    "start_time": "2023-08-02T12:49:22.461Z"
   },
   {
    "duration": 92,
    "start_time": "2023-08-02T12:49:22.472Z"
   },
   {
    "duration": 3,
    "start_time": "2023-08-02T12:49:22.566Z"
   },
   {
    "duration": 29,
    "start_time": "2023-08-02T12:49:22.571Z"
   },
   {
    "duration": 55,
    "start_time": "2023-08-02T12:49:22.602Z"
   },
   {
    "duration": 808,
    "start_time": "2023-08-02T12:49:22.659Z"
   },
   {
    "duration": 7008,
    "start_time": "2023-08-02T12:49:23.560Z"
   },
   {
    "duration": 11,
    "start_time": "2023-08-02T12:49:30.656Z"
   },
   {
    "duration": 8571,
    "start_time": "2023-08-02T12:49:30.670Z"
   },
   {
    "duration": 1207,
    "start_time": "2023-08-02T12:49:39.243Z"
   },
   {
    "duration": 6,
    "start_time": "2023-08-02T12:49:40.452Z"
   },
   {
    "duration": 11,
    "start_time": "2023-08-02T12:49:40.460Z"
   },
   {
    "duration": 1723,
    "start_time": "2023-08-02T12:50:05.050Z"
   },
   {
    "duration": 1412,
    "start_time": "2023-08-02T12:50:06.776Z"
   },
   {
    "duration": 85,
    "start_time": "2023-08-02T12:50:08.190Z"
   },
   {
    "duration": 22,
    "start_time": "2023-08-02T12:50:08.278Z"
   },
   {
    "duration": 32,
    "start_time": "2023-08-02T12:50:08.358Z"
   },
   {
    "duration": 5,
    "start_time": "2023-08-02T12:50:08.391Z"
   },
   {
    "duration": 84,
    "start_time": "2023-08-02T12:50:08.397Z"
   },
   {
    "duration": 15,
    "start_time": "2023-08-02T12:50:08.483Z"
   },
   {
    "duration": 8,
    "start_time": "2023-08-02T12:50:08.557Z"
   },
   {
    "duration": 12,
    "start_time": "2023-08-02T12:50:08.571Z"
   },
   {
    "duration": 72,
    "start_time": "2023-08-02T12:50:08.584Z"
   },
   {
    "duration": 1213,
    "start_time": "2023-08-02T12:50:08.660Z"
   },
   {
    "duration": 14,
    "start_time": "2023-08-02T12:50:09.876Z"
   },
   {
    "duration": 83,
    "start_time": "2023-08-02T12:50:09.892Z"
   },
   {
    "duration": 10,
    "start_time": "2023-08-02T12:50:09.977Z"
   },
   {
    "duration": 3,
    "start_time": "2023-08-02T12:50:09.990Z"
   },
   {
    "duration": 15,
    "start_time": "2023-08-02T12:50:09.994Z"
   },
   {
    "duration": 17,
    "start_time": "2023-08-02T12:50:10.059Z"
   },
   {
    "duration": 10,
    "start_time": "2023-08-02T12:50:10.078Z"
   },
   {
    "duration": 2,
    "start_time": "2023-08-02T12:50:10.090Z"
   },
   {
    "duration": 5,
    "start_time": "2023-08-02T12:50:10.093Z"
   },
   {
    "duration": 5,
    "start_time": "2023-08-02T12:50:10.099Z"
   },
   {
    "duration": 4,
    "start_time": "2023-08-02T12:50:10.161Z"
   },
   {
    "duration": 20,
    "start_time": "2023-08-02T12:50:10.166Z"
   },
   {
    "duration": 5,
    "start_time": "2023-08-02T12:50:10.189Z"
   },
   {
    "duration": 4,
    "start_time": "2023-08-02T12:50:10.196Z"
   },
   {
    "duration": 5,
    "start_time": "2023-08-02T12:50:10.201Z"
   },
   {
    "duration": 12,
    "start_time": "2023-08-02T12:50:10.210Z"
   },
   {
    "duration": 4,
    "start_time": "2023-08-02T12:50:10.258Z"
   },
   {
    "duration": 322,
    "start_time": "2023-08-02T12:50:10.265Z"
   },
   {
    "duration": 8,
    "start_time": "2023-08-02T12:50:10.588Z"
   },
   {
    "duration": 379,
    "start_time": "2023-08-02T12:50:10.597Z"
   },
   {
    "duration": 8,
    "start_time": "2023-08-02T12:50:10.978Z"
   },
   {
    "duration": 87,
    "start_time": "2023-08-02T12:50:10.987Z"
   },
   {
    "duration": 16,
    "start_time": "2023-08-02T12:50:11.077Z"
   },
   {
    "duration": 270,
    "start_time": "2023-08-02T12:50:11.095Z"
   },
   {
    "duration": 3,
    "start_time": "2023-08-02T12:50:11.367Z"
   },
   {
    "duration": 10,
    "start_time": "2023-08-02T12:50:11.371Z"
   },
   {
    "duration": 6,
    "start_time": "2023-08-02T12:50:11.383Z"
   },
   {
    "duration": 7,
    "start_time": "2023-08-02T12:50:11.390Z"
   },
   {
    "duration": 7,
    "start_time": "2023-08-02T12:50:11.399Z"
   },
   {
    "duration": 50,
    "start_time": "2023-08-02T12:50:11.407Z"
   },
   {
    "duration": 10,
    "start_time": "2023-08-02T12:50:11.460Z"
   },
   {
    "duration": 5,
    "start_time": "2023-08-02T12:50:11.472Z"
   },
   {
    "duration": 22,
    "start_time": "2023-08-02T12:50:11.480Z"
   },
   {
    "duration": 21,
    "start_time": "2023-08-02T12:50:11.504Z"
   },
   {
    "duration": 36,
    "start_time": "2023-08-02T12:50:11.527Z"
   },
   {
    "duration": 10,
    "start_time": "2023-08-02T12:50:11.566Z"
   },
   {
    "duration": 11,
    "start_time": "2023-08-02T12:50:11.578Z"
   },
   {
    "duration": 4450,
    "start_time": "2023-08-02T12:50:11.590Z"
   },
   {
    "duration": 46,
    "start_time": "2023-08-02T12:50:16.042Z"
   },
   {
    "duration": 1972,
    "start_time": "2023-08-02T12:50:16.090Z"
   },
   {
    "duration": 7,
    "start_time": "2023-08-02T12:50:18.064Z"
   },
   {
    "duration": 514,
    "start_time": "2023-08-02T12:50:18.074Z"
   },
   {
    "duration": 4,
    "start_time": "2023-08-02T12:50:18.590Z"
   },
   {
    "duration": 14,
    "start_time": "2023-08-02T12:50:18.595Z"
   },
   {
    "duration": 3805,
    "start_time": "2023-08-02T12:50:18.611Z"
   },
   {
    "duration": 4,
    "start_time": "2023-08-02T12:50:22.418Z"
   },
   {
    "duration": 39,
    "start_time": "2023-08-02T12:50:22.423Z"
   },
   {
    "duration": 13,
    "start_time": "2023-08-02T12:50:22.465Z"
   },
   {
    "duration": 38,
    "start_time": "2023-08-02T12:50:22.481Z"
   },
   {
    "duration": 3,
    "start_time": "2023-08-02T12:50:22.521Z"
   },
   {
    "duration": 48,
    "start_time": "2023-08-02T12:50:22.525Z"
   },
   {
    "duration": 3,
    "start_time": "2023-08-02T12:50:22.575Z"
   },
   {
    "duration": 890,
    "start_time": "2023-08-02T12:50:22.580Z"
   },
   {
    "duration": 5111,
    "start_time": "2023-08-02T12:50:23.561Z"
   },
   {
    "duration": 87,
    "start_time": "2023-08-02T12:50:28.681Z"
   },
   {
    "duration": 8341,
    "start_time": "2023-08-02T12:50:28.770Z"
   },
   {
    "duration": 1317,
    "start_time": "2023-08-02T12:50:37.113Z"
   },
   {
    "duration": 5,
    "start_time": "2023-08-02T12:50:38.432Z"
   },
   {
    "duration": 21,
    "start_time": "2023-08-02T12:50:38.440Z"
   },
   {
    "duration": 706593,
    "start_time": "2023-08-02T12:50:38.464Z"
   },
   {
    "duration": 113,
    "start_time": "2023-08-02T13:02:25.059Z"
   },
   {
    "duration": 0,
    "start_time": "2023-08-02T13:02:25.174Z"
   },
   {
    "duration": 0,
    "start_time": "2023-08-02T13:02:25.175Z"
   },
   {
    "duration": 0,
    "start_time": "2023-08-02T13:02:25.177Z"
   },
   {
    "duration": 0,
    "start_time": "2023-08-02T13:02:25.178Z"
   },
   {
    "duration": 0,
    "start_time": "2023-08-02T13:02:25.179Z"
   },
   {
    "duration": 0,
    "start_time": "2023-08-02T13:02:25.180Z"
   },
   {
    "duration": 0,
    "start_time": "2023-08-02T13:02:25.181Z"
   },
   {
    "duration": 4,
    "start_time": "2023-08-02T13:12:49.832Z"
   },
   {
    "duration": 25678,
    "start_time": "2023-08-02T13:13:01.255Z"
   },
   {
    "duration": 7,
    "start_time": "2023-08-02T13:13:37.701Z"
   },
   {
    "duration": 13036,
    "start_time": "2023-08-02T13:17:08.437Z"
   },
   {
    "duration": 30,
    "start_time": "2023-08-02T13:17:21.475Z"
   },
   {
    "duration": 4,
    "start_time": "2023-08-02T13:20:30.046Z"
   },
   {
    "duration": 4,
    "start_time": "2023-08-02T13:20:30.645Z"
   },
   {
    "duration": 10,
    "start_time": "2023-08-02T13:20:35.330Z"
   },
   {
    "duration": 4,
    "start_time": "2023-08-02T13:20:51.094Z"
   },
   {
    "duration": 6,
    "start_time": "2023-08-02T13:20:56.728Z"
   },
   {
    "duration": 3,
    "start_time": "2023-08-02T13:20:57.860Z"
   },
   {
    "duration": 6,
    "start_time": "2023-08-02T13:20:58.678Z"
   },
   {
    "duration": 4573,
    "start_time": "2023-08-03T12:48:25.889Z"
   },
   {
    "duration": 3760,
    "start_time": "2023-08-03T12:48:30.464Z"
   },
   {
    "duration": 24,
    "start_time": "2023-08-03T12:48:34.225Z"
   },
   {
    "duration": 17,
    "start_time": "2023-08-03T12:48:34.251Z"
   },
   {
    "duration": 33,
    "start_time": "2023-08-03T12:48:34.270Z"
   },
   {
    "duration": 19,
    "start_time": "2023-08-03T12:48:34.304Z"
   },
   {
    "duration": 22,
    "start_time": "2023-08-03T12:48:34.325Z"
   },
   {
    "duration": 13,
    "start_time": "2023-08-03T12:48:34.349Z"
   },
   {
    "duration": 4,
    "start_time": "2023-08-03T12:48:34.363Z"
   },
   {
    "duration": 30,
    "start_time": "2023-08-03T12:48:34.370Z"
   },
   {
    "duration": 25,
    "start_time": "2023-08-03T12:48:34.402Z"
   },
   {
    "duration": 438,
    "start_time": "2023-08-03T12:48:34.428Z"
   },
   {
    "duration": 16,
    "start_time": "2023-08-03T12:48:34.868Z"
   },
   {
    "duration": 65,
    "start_time": "2023-08-03T12:48:34.891Z"
   },
   {
    "duration": 9,
    "start_time": "2023-08-03T12:48:34.958Z"
   },
   {
    "duration": 21,
    "start_time": "2023-08-03T12:48:34.968Z"
   },
   {
    "duration": 19,
    "start_time": "2023-08-03T12:48:34.991Z"
   },
   {
    "duration": 19,
    "start_time": "2023-08-03T12:48:35.012Z"
   },
   {
    "duration": 14,
    "start_time": "2023-08-03T12:48:35.033Z"
   },
   {
    "duration": 5,
    "start_time": "2023-08-03T12:48:35.049Z"
   },
   {
    "duration": 22,
    "start_time": "2023-08-03T12:48:35.055Z"
   },
   {
    "duration": 15,
    "start_time": "2023-08-03T12:48:35.078Z"
   },
   {
    "duration": 15,
    "start_time": "2023-08-03T12:48:35.095Z"
   },
   {
    "duration": 14,
    "start_time": "2023-08-03T12:48:35.112Z"
   },
   {
    "duration": 10,
    "start_time": "2023-08-03T12:48:35.128Z"
   },
   {
    "duration": 6,
    "start_time": "2023-08-03T12:48:35.140Z"
   },
   {
    "duration": 18,
    "start_time": "2023-08-03T12:48:35.148Z"
   },
   {
    "duration": 12,
    "start_time": "2023-08-03T12:48:35.171Z"
   },
   {
    "duration": 18,
    "start_time": "2023-08-03T12:48:35.185Z"
   },
   {
    "duration": 184,
    "start_time": "2023-08-03T12:48:35.205Z"
   },
   {
    "duration": 9,
    "start_time": "2023-08-03T12:48:35.391Z"
   },
   {
    "duration": 139,
    "start_time": "2023-08-03T12:48:35.402Z"
   },
   {
    "duration": 10,
    "start_time": "2023-08-03T12:48:35.543Z"
   },
   {
    "duration": 47,
    "start_time": "2023-08-03T12:48:35.555Z"
   },
   {
    "duration": 13,
    "start_time": "2023-08-03T12:48:35.604Z"
   },
   {
    "duration": 86,
    "start_time": "2023-08-03T12:48:35.618Z"
   },
   {
    "duration": 14,
    "start_time": "2023-08-03T12:48:35.706Z"
   },
   {
    "duration": 5,
    "start_time": "2023-08-03T12:48:35.722Z"
   },
   {
    "duration": 14,
    "start_time": "2023-08-03T12:48:35.728Z"
   },
   {
    "duration": 12,
    "start_time": "2023-08-03T12:48:35.744Z"
   },
   {
    "duration": 16,
    "start_time": "2023-08-03T12:48:35.758Z"
   },
   {
    "duration": 7,
    "start_time": "2023-08-03T12:48:35.776Z"
   },
   {
    "duration": 7,
    "start_time": "2023-08-03T12:48:35.785Z"
   },
   {
    "duration": 7,
    "start_time": "2023-08-03T12:48:35.794Z"
   },
   {
    "duration": 14,
    "start_time": "2023-08-03T12:48:35.803Z"
   },
   {
    "duration": 7,
    "start_time": "2023-08-03T12:48:35.818Z"
   },
   {
    "duration": 21,
    "start_time": "2023-08-03T12:48:35.826Z"
   },
   {
    "duration": 6,
    "start_time": "2023-08-03T12:48:35.849Z"
   },
   {
    "duration": 24,
    "start_time": "2023-08-03T12:48:35.856Z"
   },
   {
    "duration": 1601,
    "start_time": "2023-08-03T12:48:35.881Z"
   },
   {
    "duration": 51,
    "start_time": "2023-08-03T12:48:37.483Z"
   },
   {
    "duration": 1586,
    "start_time": "2023-08-03T12:48:37.536Z"
   },
   {
    "duration": 457,
    "start_time": "2023-08-03T12:48:39.124Z"
   },
   {
    "duration": 429,
    "start_time": "2023-08-03T12:48:39.583Z"
   },
   {
    "duration": 373,
    "start_time": "2023-08-03T12:48:58.035Z"
   },
   {
    "duration": 1618,
    "start_time": "2023-08-03T15:45:19.844Z"
   },
   {
    "duration": 3391,
    "start_time": "2023-08-03T15:45:21.464Z"
   },
   {
    "duration": 23,
    "start_time": "2023-08-03T15:45:24.857Z"
   },
   {
    "duration": 17,
    "start_time": "2023-08-03T15:45:24.882Z"
   },
   {
    "duration": 38,
    "start_time": "2023-08-03T15:45:24.901Z"
   },
   {
    "duration": 15,
    "start_time": "2023-08-03T15:45:24.941Z"
   },
   {
    "duration": 20,
    "start_time": "2023-08-03T15:45:24.957Z"
   },
   {
    "duration": 13,
    "start_time": "2023-08-03T15:45:24.979Z"
   },
   {
    "duration": 4,
    "start_time": "2023-08-03T15:45:24.993Z"
   },
   {
    "duration": 9,
    "start_time": "2023-08-03T15:45:24.998Z"
   },
   {
    "duration": 17,
    "start_time": "2023-08-03T15:45:25.009Z"
   },
   {
    "duration": 496,
    "start_time": "2023-08-03T15:45:25.028Z"
   },
   {
    "duration": 14,
    "start_time": "2023-08-03T15:45:25.525Z"
   },
   {
    "duration": 32,
    "start_time": "2023-08-03T15:45:25.542Z"
   },
   {
    "duration": 11,
    "start_time": "2023-08-03T15:45:25.576Z"
   },
   {
    "duration": 9,
    "start_time": "2023-08-03T15:45:25.588Z"
   },
   {
    "duration": 36,
    "start_time": "2023-08-03T15:45:25.598Z"
   },
   {
    "duration": 17,
    "start_time": "2023-08-03T15:45:25.635Z"
   },
   {
    "duration": 24,
    "start_time": "2023-08-03T15:45:25.653Z"
   },
   {
    "duration": 4,
    "start_time": "2023-08-03T15:45:25.678Z"
   },
   {
    "duration": 9,
    "start_time": "2023-08-03T15:45:25.684Z"
   },
   {
    "duration": 5,
    "start_time": "2023-08-03T15:45:25.694Z"
   },
   {
    "duration": 27,
    "start_time": "2023-08-03T15:45:25.700Z"
   },
   {
    "duration": 6,
    "start_time": "2023-08-03T15:45:25.729Z"
   },
   {
    "duration": 6,
    "start_time": "2023-08-03T15:45:25.737Z"
   },
   {
    "duration": 6,
    "start_time": "2023-08-03T15:45:25.744Z"
   },
   {
    "duration": 7,
    "start_time": "2023-08-03T15:45:25.752Z"
   },
   {
    "duration": 9,
    "start_time": "2023-08-03T15:45:25.760Z"
   },
   {
    "duration": 10,
    "start_time": "2023-08-03T15:45:25.770Z"
   },
   {
    "duration": 136,
    "start_time": "2023-08-03T15:45:25.782Z"
   },
   {
    "duration": 7,
    "start_time": "2023-08-03T15:45:25.920Z"
   },
   {
    "duration": 123,
    "start_time": "2023-08-03T15:45:25.928Z"
   },
   {
    "duration": 7,
    "start_time": "2023-08-03T15:45:26.053Z"
   },
   {
    "duration": 30,
    "start_time": "2023-08-03T15:45:26.061Z"
   },
   {
    "duration": 16,
    "start_time": "2023-08-03T15:45:26.093Z"
   },
   {
    "duration": 108,
    "start_time": "2023-08-03T15:45:26.110Z"
   },
   {
    "duration": 2,
    "start_time": "2023-08-03T15:45:26.220Z"
   },
   {
    "duration": 5,
    "start_time": "2023-08-03T15:45:26.223Z"
   },
   {
    "duration": 5,
    "start_time": "2023-08-03T15:45:26.229Z"
   },
   {
    "duration": 6,
    "start_time": "2023-08-03T15:45:26.236Z"
   },
   {
    "duration": 2,
    "start_time": "2023-08-03T15:45:26.246Z"
   },
   {
    "duration": 5,
    "start_time": "2023-08-03T15:45:26.249Z"
   },
   {
    "duration": 19,
    "start_time": "2023-08-03T15:45:26.255Z"
   },
   {
    "duration": 4,
    "start_time": "2023-08-03T15:45:26.276Z"
   },
   {
    "duration": 5,
    "start_time": "2023-08-03T15:45:26.282Z"
   },
   {
    "duration": 4,
    "start_time": "2023-08-03T15:45:26.288Z"
   },
   {
    "duration": 7,
    "start_time": "2023-08-03T15:45:26.293Z"
   },
   {
    "duration": 5,
    "start_time": "2023-08-03T15:45:26.302Z"
   },
   {
    "duration": 4,
    "start_time": "2023-08-03T15:45:26.309Z"
   },
   {
    "duration": 2628,
    "start_time": "2023-08-03T15:45:26.315Z"
   },
   {
    "duration": 49,
    "start_time": "2023-08-03T15:45:28.945Z"
   },
   {
    "duration": 4997,
    "start_time": "2023-08-03T15:45:35.379Z"
   },
   {
    "duration": 3598,
    "start_time": "2023-08-03T15:45:51.586Z"
   },
   {
    "duration": 2918,
    "start_time": "2023-08-03T15:46:21.998Z"
   },
   {
    "duration": 2936,
    "start_time": "2023-08-03T15:48:24.596Z"
   },
   {
    "duration": 3002,
    "start_time": "2023-08-03T15:48:36.658Z"
   },
   {
    "duration": 3047,
    "start_time": "2023-08-03T15:49:44.513Z"
   },
   {
    "duration": 3122,
    "start_time": "2023-08-03T15:49:57.137Z"
   },
   {
    "duration": 3091,
    "start_time": "2023-08-03T15:50:40.979Z"
   },
   {
    "duration": 3083,
    "start_time": "2023-08-03T15:50:50.291Z"
   },
   {
    "duration": 1023,
    "start_time": "2023-08-03T16:02:23.507Z"
   },
   {
    "duration": 3168,
    "start_time": "2023-08-03T16:02:37.807Z"
   },
   {
    "duration": 359,
    "start_time": "2023-08-03T16:16:29.210Z"
   },
   {
    "duration": 442,
    "start_time": "2023-08-03T16:16:37.859Z"
   },
   {
    "duration": 445,
    "start_time": "2023-08-03T16:19:24.361Z"
   },
   {
    "duration": 19,
    "start_time": "2023-08-03T16:28:44.706Z"
   },
   {
    "duration": 15,
    "start_time": "2023-08-03T16:28:55.747Z"
   },
   {
    "duration": 4,
    "start_time": "2023-08-03T16:29:00.557Z"
   },
   {
    "duration": 879,
    "start_time": "2023-08-03T16:29:00.565Z"
   },
   {
    "duration": 20,
    "start_time": "2023-08-03T16:29:01.446Z"
   },
   {
    "duration": 31,
    "start_time": "2023-08-03T16:29:01.475Z"
   },
   {
    "duration": 42,
    "start_time": "2023-08-03T16:29:01.508Z"
   },
   {
    "duration": 25,
    "start_time": "2023-08-03T16:29:01.552Z"
   },
   {
    "duration": 59,
    "start_time": "2023-08-03T16:29:01.579Z"
   },
   {
    "duration": 51,
    "start_time": "2023-08-03T16:29:01.639Z"
   },
   {
    "duration": 23,
    "start_time": "2023-08-03T16:29:01.692Z"
   },
   {
    "duration": 50,
    "start_time": "2023-08-03T16:29:01.716Z"
   },
   {
    "duration": 82,
    "start_time": "2023-08-03T16:29:01.768Z"
   },
   {
    "duration": 500,
    "start_time": "2023-08-03T16:29:01.852Z"
   },
   {
    "duration": 13,
    "start_time": "2023-08-03T16:29:02.353Z"
   },
   {
    "duration": 44,
    "start_time": "2023-08-03T16:29:02.367Z"
   },
   {
    "duration": 14,
    "start_time": "2023-08-03T16:29:02.413Z"
   },
   {
    "duration": 16,
    "start_time": "2023-08-03T16:29:02.428Z"
   },
   {
    "duration": 23,
    "start_time": "2023-08-03T16:29:02.445Z"
   },
   {
    "duration": 21,
    "start_time": "2023-08-03T16:29:02.471Z"
   },
   {
    "duration": 30,
    "start_time": "2023-08-03T16:29:02.493Z"
   },
   {
    "duration": 13,
    "start_time": "2023-08-03T16:29:02.525Z"
   },
   {
    "duration": 6,
    "start_time": "2023-08-03T16:29:02.540Z"
   },
   {
    "duration": 20,
    "start_time": "2023-08-03T16:29:02.547Z"
   },
   {
    "duration": 24,
    "start_time": "2023-08-03T16:29:02.568Z"
   },
   {
    "duration": 16,
    "start_time": "2023-08-03T16:29:02.593Z"
   },
   {
    "duration": 21,
    "start_time": "2023-08-03T16:29:02.610Z"
   },
   {
    "duration": 39,
    "start_time": "2023-08-03T16:29:02.633Z"
   },
   {
    "duration": 28,
    "start_time": "2023-08-03T16:29:02.674Z"
   },
   {
    "duration": 12,
    "start_time": "2023-08-03T16:29:02.704Z"
   },
   {
    "duration": 20,
    "start_time": "2023-08-03T16:29:02.719Z"
   },
   {
    "duration": 139,
    "start_time": "2023-08-03T16:29:02.741Z"
   },
   {
    "duration": 6,
    "start_time": "2023-08-03T16:29:02.882Z"
   },
   {
    "duration": 123,
    "start_time": "2023-08-03T16:29:02.890Z"
   },
   {
    "duration": 6,
    "start_time": "2023-08-03T16:29:03.015Z"
   },
   {
    "duration": 25,
    "start_time": "2023-08-03T16:29:03.022Z"
   },
   {
    "duration": 25,
    "start_time": "2023-08-03T16:29:03.049Z"
   },
   {
    "duration": 86,
    "start_time": "2023-08-03T16:29:03.076Z"
   },
   {
    "duration": 2,
    "start_time": "2023-08-03T16:29:03.174Z"
   },
   {
    "duration": 26,
    "start_time": "2023-08-03T16:29:03.178Z"
   },
   {
    "duration": 31,
    "start_time": "2023-08-03T16:29:03.205Z"
   },
   {
    "duration": 30,
    "start_time": "2023-08-03T16:29:03.238Z"
   },
   {
    "duration": 18,
    "start_time": "2023-08-03T16:29:03.269Z"
   },
   {
    "duration": 18,
    "start_time": "2023-08-03T16:29:03.288Z"
   },
   {
    "duration": 11,
    "start_time": "2023-08-03T16:29:03.307Z"
   },
   {
    "duration": 16,
    "start_time": "2023-08-03T16:29:03.319Z"
   },
   {
    "duration": 8,
    "start_time": "2023-08-03T16:29:03.336Z"
   },
   {
    "duration": 9,
    "start_time": "2023-08-03T16:29:03.345Z"
   },
   {
    "duration": 25,
    "start_time": "2023-08-03T16:29:03.355Z"
   },
   {
    "duration": 18,
    "start_time": "2023-08-03T16:29:03.381Z"
   },
   {
    "duration": 17,
    "start_time": "2023-08-03T16:29:03.401Z"
   },
   {
    "duration": 1730,
    "start_time": "2023-08-03T16:29:03.419Z"
   },
   {
    "duration": 45,
    "start_time": "2023-08-03T16:29:05.151Z"
   },
   {
    "duration": 3073,
    "start_time": "2023-08-03T16:29:05.197Z"
   },
   {
    "duration": 456,
    "start_time": "2023-08-03T16:29:08.274Z"
   },
   {
    "duration": 3,
    "start_time": "2023-08-03T16:29:08.732Z"
   },
   {
    "duration": 34,
    "start_time": "2023-08-03T16:29:08.736Z"
   },
   {
    "duration": 3781,
    "start_time": "2023-08-03T16:29:12.852Z"
   },
   {
    "duration": 4020,
    "start_time": "2023-08-03T16:42:31.724Z"
   },
   {
    "duration": 3819,
    "start_time": "2023-08-03T16:42:48.705Z"
   },
   {
    "duration": 96,
    "start_time": "2023-08-03T16:47:39.121Z"
   },
   {
    "duration": 5,
    "start_time": "2023-08-03T16:47:43.807Z"
   },
   {
    "duration": 826,
    "start_time": "2023-08-03T16:47:43.814Z"
   },
   {
    "duration": 19,
    "start_time": "2023-08-03T16:47:44.642Z"
   },
   {
    "duration": 27,
    "start_time": "2023-08-03T16:47:44.663Z"
   },
   {
    "duration": 21,
    "start_time": "2023-08-03T16:47:44.691Z"
   },
   {
    "duration": 9,
    "start_time": "2023-08-03T16:47:44.714Z"
   },
   {
    "duration": 18,
    "start_time": "2023-08-03T16:47:44.724Z"
   },
   {
    "duration": 36,
    "start_time": "2023-08-03T16:47:44.743Z"
   },
   {
    "duration": 4,
    "start_time": "2023-08-03T16:47:44.781Z"
   },
   {
    "duration": 25,
    "start_time": "2023-08-03T16:47:44.787Z"
   },
   {
    "duration": 26,
    "start_time": "2023-08-03T16:47:44.814Z"
   },
   {
    "duration": 535,
    "start_time": "2023-08-03T16:47:44.842Z"
   },
   {
    "duration": 14,
    "start_time": "2023-08-03T16:47:45.378Z"
   },
   {
    "duration": 42,
    "start_time": "2023-08-03T16:47:45.393Z"
   },
   {
    "duration": 10,
    "start_time": "2023-08-03T16:47:45.436Z"
   },
   {
    "duration": 15,
    "start_time": "2023-08-03T16:47:45.448Z"
   },
   {
    "duration": 18,
    "start_time": "2023-08-03T16:47:45.465Z"
   },
   {
    "duration": 17,
    "start_time": "2023-08-03T16:47:45.484Z"
   },
   {
    "duration": 19,
    "start_time": "2023-08-03T16:47:45.503Z"
   },
   {
    "duration": 10,
    "start_time": "2023-08-03T16:47:45.523Z"
   },
   {
    "duration": 12,
    "start_time": "2023-08-03T16:47:45.535Z"
   },
   {
    "duration": 6,
    "start_time": "2023-08-03T16:47:45.548Z"
   },
   {
    "duration": 13,
    "start_time": "2023-08-03T16:47:45.556Z"
   },
   {
    "duration": 9,
    "start_time": "2023-08-03T16:47:45.572Z"
   },
   {
    "duration": 23,
    "start_time": "2023-08-03T16:47:45.582Z"
   },
   {
    "duration": 13,
    "start_time": "2023-08-03T16:47:45.607Z"
   },
   {
    "duration": 28,
    "start_time": "2023-08-03T16:47:45.621Z"
   },
   {
    "duration": 15,
    "start_time": "2023-08-03T16:47:45.651Z"
   },
   {
    "duration": 17,
    "start_time": "2023-08-03T16:47:45.668Z"
   },
   {
    "duration": 139,
    "start_time": "2023-08-03T16:47:45.687Z"
   },
   {
    "duration": 7,
    "start_time": "2023-08-03T16:47:45.828Z"
   },
   {
    "duration": 121,
    "start_time": "2023-08-03T16:47:45.836Z"
   },
   {
    "duration": 7,
    "start_time": "2023-08-03T16:47:45.958Z"
   },
   {
    "duration": 29,
    "start_time": "2023-08-03T16:47:45.966Z"
   },
   {
    "duration": 14,
    "start_time": "2023-08-03T16:47:45.997Z"
   },
   {
    "duration": 112,
    "start_time": "2023-08-03T16:47:46.012Z"
   },
   {
    "duration": 3,
    "start_time": "2023-08-03T16:47:46.126Z"
   },
   {
    "duration": 5,
    "start_time": "2023-08-03T16:47:46.131Z"
   },
   {
    "duration": 4,
    "start_time": "2023-08-03T16:47:46.137Z"
   },
   {
    "duration": 20,
    "start_time": "2023-08-03T16:47:46.143Z"
   },
   {
    "duration": 4,
    "start_time": "2023-08-03T16:47:46.164Z"
   },
   {
    "duration": 2,
    "start_time": "2023-08-03T16:47:46.174Z"
   },
   {
    "duration": 10,
    "start_time": "2023-08-03T16:47:46.177Z"
   },
   {
    "duration": 19,
    "start_time": "2023-08-03T16:47:46.189Z"
   },
   {
    "duration": 4,
    "start_time": "2023-08-03T16:47:46.209Z"
   },
   {
    "duration": 3,
    "start_time": "2023-08-03T16:47:46.215Z"
   },
   {
    "duration": 7,
    "start_time": "2023-08-03T16:47:46.220Z"
   },
   {
    "duration": 9,
    "start_time": "2023-08-03T16:47:46.229Z"
   },
   {
    "duration": 20,
    "start_time": "2023-08-03T16:47:46.239Z"
   },
   {
    "duration": 1822,
    "start_time": "2023-08-03T16:47:46.260Z"
   },
   {
    "duration": 36,
    "start_time": "2023-08-03T16:47:48.084Z"
   },
   {
    "duration": 3055,
    "start_time": "2023-08-03T16:47:48.122Z"
   },
   {
    "duration": 433,
    "start_time": "2023-08-03T16:47:51.180Z"
   },
   {
    "duration": 3,
    "start_time": "2023-08-03T16:47:51.615Z"
   },
   {
    "duration": 34,
    "start_time": "2023-08-03T16:47:51.619Z"
   },
   {
    "duration": 3879,
    "start_time": "2023-08-03T16:47:51.655Z"
   },
   {
    "duration": 3,
    "start_time": "2023-08-03T16:47:55.536Z"
   },
   {
    "duration": 29,
    "start_time": "2023-08-03T16:47:55.541Z"
   },
   {
    "duration": 9,
    "start_time": "2023-08-03T16:47:55.574Z"
   },
   {
    "duration": 42,
    "start_time": "2023-08-03T16:47:55.585Z"
   },
   {
    "duration": 3,
    "start_time": "2023-08-03T16:47:55.628Z"
   },
   {
    "duration": 21,
    "start_time": "2023-08-03T16:47:55.632Z"
   },
   {
    "duration": 2,
    "start_time": "2023-08-03T16:47:55.655Z"
   },
   {
    "duration": 218,
    "start_time": "2023-08-03T16:47:55.658Z"
   },
   {
    "duration": 3499,
    "start_time": "2023-08-03T16:47:55.878Z"
   },
   {
    "duration": 97,
    "start_time": "2023-08-03T16:47:59.379Z"
   },
   {
    "duration": 9041,
    "start_time": "2023-08-03T16:47:59.479Z"
   },
   {
    "duration": 1264,
    "start_time": "2023-08-03T16:48:08.522Z"
   },
   {
    "duration": 4,
    "start_time": "2023-08-03T16:48:09.790Z"
   },
   {
    "duration": 13,
    "start_time": "2023-08-03T16:48:09.795Z"
   },
   {
    "duration": 710157,
    "start_time": "2023-08-03T16:48:17.293Z"
   },
   {
    "duration": 10599,
    "start_time": "2023-08-03T17:00:07.452Z"
   },
   {
    "duration": 744999,
    "start_time": "2023-08-03T17:13:08.398Z"
   },
   {
    "duration": 3422,
    "start_time": "2023-08-03T17:28:19.992Z"
   },
   {
    "duration": 16906,
    "start_time": "2023-08-03T17:28:55.329Z"
   },
   {
    "duration": 2,
    "start_time": "2023-08-03T17:29:32.462Z"
   },
   {
    "duration": 4,
    "start_time": "2023-08-03T17:29:32.707Z"
   },
   {
    "duration": 6,
    "start_time": "2023-08-03T17:29:33.430Z"
   },
   {
    "duration": 6,
    "start_time": "2023-08-03T17:29:51.549Z"
   },
   {
    "duration": 7,
    "start_time": "2023-08-03T17:30:00.619Z"
   },
   {
    "duration": 7788,
    "start_time": "2023-08-03T17:31:00.675Z"
   },
   {
    "duration": 28,
    "start_time": "2023-08-03T17:31:08.465Z"
   },
   {
    "duration": 4,
    "start_time": "2023-08-03T17:32:15.128Z"
   },
   {
    "duration": 4,
    "start_time": "2023-08-03T17:32:15.345Z"
   },
   {
    "duration": 6,
    "start_time": "2023-08-03T17:32:20.163Z"
   },
   {
    "duration": 3,
    "start_time": "2023-08-03T17:32:20.404Z"
   },
   {
    "duration": 4,
    "start_time": "2023-08-03T17:32:20.708Z"
   },
   {
    "duration": 659307,
    "start_time": "2023-08-03T17:51:43.559Z"
   },
   {
    "duration": 7,
    "start_time": "2023-08-03T18:03:17.434Z"
   },
   {
    "duration": 2922,
    "start_time": "2023-08-04T17:34:57.804Z"
   },
   {
    "duration": 2153,
    "start_time": "2023-08-04T17:35:00.728Z"
   },
   {
    "duration": 25,
    "start_time": "2023-08-04T17:35:02.883Z"
   },
   {
    "duration": 50,
    "start_time": "2023-08-04T17:35:02.910Z"
   },
   {
    "duration": 55,
    "start_time": "2023-08-04T17:35:02.962Z"
   },
   {
    "duration": 72,
    "start_time": "2023-08-04T17:35:03.019Z"
   },
   {
    "duration": 115,
    "start_time": "2023-08-04T17:35:03.092Z"
   },
   {
    "duration": 16,
    "start_time": "2023-08-04T17:35:03.209Z"
   },
   {
    "duration": 8,
    "start_time": "2023-08-04T17:35:03.227Z"
   },
   {
    "duration": 15,
    "start_time": "2023-08-04T17:35:03.237Z"
   },
   {
    "duration": 19,
    "start_time": "2023-08-04T17:35:03.254Z"
   },
   {
    "duration": 483,
    "start_time": "2023-08-04T17:35:03.275Z"
   },
   {
    "duration": 13,
    "start_time": "2023-08-04T17:35:03.760Z"
   },
   {
    "duration": 33,
    "start_time": "2023-08-04T17:35:03.775Z"
   },
   {
    "duration": 11,
    "start_time": "2023-08-04T17:35:03.810Z"
   },
   {
    "duration": 13,
    "start_time": "2023-08-04T17:35:03.823Z"
   },
   {
    "duration": 18,
    "start_time": "2023-08-04T17:35:03.837Z"
   },
   {
    "duration": 21,
    "start_time": "2023-08-04T17:35:03.856Z"
   },
   {
    "duration": 10,
    "start_time": "2023-08-04T17:35:03.879Z"
   },
   {
    "duration": 10,
    "start_time": "2023-08-04T17:35:03.891Z"
   },
   {
    "duration": 14,
    "start_time": "2023-08-04T17:35:03.903Z"
   },
   {
    "duration": 5,
    "start_time": "2023-08-04T17:35:03.919Z"
   },
   {
    "duration": 11,
    "start_time": "2023-08-04T17:35:03.925Z"
   },
   {
    "duration": 9,
    "start_time": "2023-08-04T17:35:03.937Z"
   },
   {
    "duration": 7,
    "start_time": "2023-08-04T17:35:03.947Z"
   },
   {
    "duration": 13,
    "start_time": "2023-08-04T17:35:03.956Z"
   },
   {
    "duration": 36,
    "start_time": "2023-08-04T17:35:03.970Z"
   },
   {
    "duration": 13,
    "start_time": "2023-08-04T17:35:04.009Z"
   },
   {
    "duration": 29,
    "start_time": "2023-08-04T17:35:04.024Z"
   },
   {
    "duration": 149,
    "start_time": "2023-08-04T17:35:04.055Z"
   },
   {
    "duration": 8,
    "start_time": "2023-08-04T17:35:04.206Z"
   },
   {
    "duration": 130,
    "start_time": "2023-08-04T17:35:04.215Z"
   },
   {
    "duration": 8,
    "start_time": "2023-08-04T17:35:04.347Z"
   },
   {
    "duration": 53,
    "start_time": "2023-08-04T17:35:04.356Z"
   },
   {
    "duration": 16,
    "start_time": "2023-08-04T17:35:04.410Z"
   },
   {
    "duration": 94,
    "start_time": "2023-08-04T17:35:04.428Z"
   },
   {
    "duration": 2,
    "start_time": "2023-08-04T17:35:04.524Z"
   },
   {
    "duration": 19,
    "start_time": "2023-08-04T17:35:04.527Z"
   },
   {
    "duration": 15,
    "start_time": "2023-08-04T17:35:04.548Z"
   },
   {
    "duration": 15,
    "start_time": "2023-08-04T17:35:04.564Z"
   },
   {
    "duration": 17,
    "start_time": "2023-08-04T17:35:04.581Z"
   },
   {
    "duration": 22,
    "start_time": "2023-08-04T17:35:04.599Z"
   },
   {
    "duration": 26,
    "start_time": "2023-08-04T17:35:04.623Z"
   },
   {
    "duration": 15,
    "start_time": "2023-08-04T17:35:04.651Z"
   },
   {
    "duration": 9,
    "start_time": "2023-08-04T17:35:04.667Z"
   },
   {
    "duration": 16,
    "start_time": "2023-08-04T17:35:04.677Z"
   },
   {
    "duration": 11,
    "start_time": "2023-08-04T17:35:04.695Z"
   },
   {
    "duration": 22,
    "start_time": "2023-08-04T17:35:04.708Z"
   },
   {
    "duration": 5,
    "start_time": "2023-08-04T17:35:04.732Z"
   },
   {
    "duration": 1766,
    "start_time": "2023-08-04T17:35:04.738Z"
   },
   {
    "duration": 42,
    "start_time": "2023-08-04T17:35:06.508Z"
   },
   {
    "duration": 3061,
    "start_time": "2023-08-04T17:35:06.552Z"
   },
   {
    "duration": 611,
    "start_time": "2023-08-04T17:35:09.615Z"
   },
   {
    "duration": 3,
    "start_time": "2023-08-04T17:35:22.221Z"
   },
   {
    "duration": 13,
    "start_time": "2023-08-04T17:35:22.341Z"
   },
   {
    "duration": 3799,
    "start_time": "2023-08-04T17:35:22.476Z"
   }
  ],
  "kernelspec": {
   "display_name": "Python 3 (ipykernel)",
   "language": "python",
   "name": "python3"
  },
  "language_info": {
   "codemirror_mode": {
    "name": "ipython",
    "version": 3
   },
   "file_extension": ".py",
   "mimetype": "text/x-python",
   "name": "python",
   "nbconvert_exporter": "python",
   "pygments_lexer": "ipython3",
   "version": "3.10.8"
  },
  "toc": {
   "base_numbering": 1,
   "nav_menu": {},
   "number_sections": true,
   "sideBar": true,
   "skip_h1_title": true,
   "title_cell": "Содержание",
   "title_sidebar": "Contents",
   "toc_cell": true,
   "toc_position": {
    "height": "calc(100% - 180px)",
    "left": "10px",
    "top": "150px",
    "width": "371px"
   },
   "toc_section_display": true,
   "toc_window_display": true
  }
 },
 "nbformat": 4,
 "nbformat_minor": 2
}
