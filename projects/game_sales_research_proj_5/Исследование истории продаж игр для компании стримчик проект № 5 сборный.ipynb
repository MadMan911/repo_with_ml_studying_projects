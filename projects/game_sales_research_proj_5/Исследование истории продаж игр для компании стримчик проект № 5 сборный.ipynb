{
 "cells": [
  {
   "cell_type": "markdown",
   "id": "dabcc00d",
   "metadata": {
    "toc": true
   },
   "source": [
    "<h1>Table of Contents<span class=\"tocSkip\"></span></h1>\n",
    "<div class=\"toc\"><ul class=\"toc-item\"><li><span><a href=\"#Шаг-1.-Откройте-файл-с-данными.\" data-toc-modified-id=\"Шаг-1.-Откройте-файл-с-данными.-1\"><span class=\"toc-item-num\">1&nbsp;&nbsp;</span>Шаг 1. Откройте файл с данными.</a></span></li><li><span><a href=\"#Шаг-2.-Подготовьте-данные\" data-toc-modified-id=\"Шаг-2.-Подготовьте-данные-2\"><span class=\"toc-item-num\">2&nbsp;&nbsp;</span>Шаг 2. Подготовьте данные</a></span><ul class=\"toc-item\"><li><span><a href=\"#Заменяем-названия-столбцов-на-нормальные\" data-toc-modified-id=\"Заменяем-названия-столбцов-на-нормальные-2.1\"><span class=\"toc-item-num\">2.1&nbsp;&nbsp;</span>Заменяем названия столбцов на нормальные</a></span></li><li><span><a href=\"#Привести-все-столбцы-к-правильному-типу.\" data-toc-modified-id=\"Привести-все-столбцы-к-правильному-типу.-2.2\"><span class=\"toc-item-num\">2.2&nbsp;&nbsp;</span>Привести все столбцы к правильному типу.</a></span></li><li><span><a href=\"#Cуммарные-продажи-во-всех-регионах\" data-toc-modified-id=\"Cуммарные-продажи-во-всех-регионах-2.3\"><span class=\"toc-item-num\">2.3&nbsp;&nbsp;</span>Cуммарные продажи во всех регионах</a></span></li><li><span><a href=\"#Проверим-данные-на-явные-и-неявные-дубликаты.\" data-toc-modified-id=\"Проверим-данные-на-явные-и-неявные-дубликаты.-2.4\"><span class=\"toc-item-num\">2.4&nbsp;&nbsp;</span>Проверим данные на явные и неявные дубликаты.</a></span></li></ul></li><li><span><a href=\"#Шаг-3.-Проведите-исследовательский-анализ-данных\" data-toc-modified-id=\"Шаг-3.-Проведите-исследовательский-анализ-данных-3\"><span class=\"toc-item-num\">3&nbsp;&nbsp;</span>Шаг 3. Проведите исследовательский анализ данных</a></span><ul class=\"toc-item\"><li><span><a href=\"#сколько-игр-выпускалось-в-разные-годы\" data-toc-modified-id=\"сколько-игр-выпускалось-в-разные-годы-3.1\"><span class=\"toc-item-num\">3.1&nbsp;&nbsp;</span>сколько игр выпускалось в разные годы</a></span></li><li><span><a href=\"#как-менялись-продажи-по-платформам\" data-toc-modified-id=\"как-менялись-продажи-по-платформам-3.2\"><span class=\"toc-item-num\">3.2&nbsp;&nbsp;</span>как менялись продажи по платформам</a></span></li><li><span><a href=\"#Взять-данные-за-актуальны-период-времени\" data-toc-modified-id=\"Взять-данные-за-актуальны-период-времени-3.3\"><span class=\"toc-item-num\">3.3&nbsp;&nbsp;</span>Взять данные за актуальны период времени</a></span></li><li><span><a href=\"#Какие-платформы-лидируют-по-продажам,-растут-или-падают,-выберем-несколько\" data-toc-modified-id=\"Какие-платформы-лидируют-по-продажам,-растут-или-падают,-выберем-несколько-3.4\"><span class=\"toc-item-num\">3.4&nbsp;&nbsp;</span>Какие платформы лидируют по продажам, растут или падают, выберем несколько</a></span></li><li><span><a href=\"#график-«ящик-с-усами»-по-глобальным-продажам-игр-в-разбивке-по-платформам.\" data-toc-modified-id=\"график-«ящик-с-усами»-по-глобальным-продажам-игр-в-разбивке-по-платформам.-3.5\"><span class=\"toc-item-num\">3.5&nbsp;&nbsp;</span>график «ящик с усами» по глобальным продажам игр в разбивке по платформам.</a></span></li><li><span><a href=\"#как-влияют-на-продажи-внутри-одной-популярной-платформы-отзывы-пользователей-и-критиков.\" data-toc-modified-id=\"как-влияют-на-продажи-внутри-одной-популярной-платформы-отзывы-пользователей-и-критиков.-3.6\"><span class=\"toc-item-num\">3.6&nbsp;&nbsp;</span>как влияют на продажи внутри одной популярной платформы отзывы пользователей и критиков.</a></span></li><li><span><a href=\"#Соотнесите-выводы-с-продажами-игр-на-других-платформах\" data-toc-modified-id=\"Соотнесите-выводы-с-продажами-игр-на-других-платформах-3.7\"><span class=\"toc-item-num\">3.7&nbsp;&nbsp;</span>Соотнесите выводы с продажами игр на других платформах</a></span></li><li><span><a href=\"#общее-распределение-игр-по-жанрам\" data-toc-modified-id=\"общее-распределение-игр-по-жанрам-3.8\"><span class=\"toc-item-num\">3.8&nbsp;&nbsp;</span>общее распределение игр по жанрам</a></span></li></ul></li><li><span><a href=\"#Шаг-4.-Составьте-портрет-пользователя-каждого-региона\" data-toc-modified-id=\"Шаг-4.-Составьте-портрет-пользователя-каждого-региона-4\"><span class=\"toc-item-num\">4&nbsp;&nbsp;</span>Шаг 4. Составьте портрет пользователя каждого региона</a></span><ul class=\"toc-item\"><li><span><a href=\"#Топ-5-платформ-для-каждого-региона.\" data-toc-modified-id=\"Топ-5-платформ-для-каждого-региона.-4.1\"><span class=\"toc-item-num\">4.1&nbsp;&nbsp;</span>Топ 5 платформ для каждого региона.</a></span><ul class=\"toc-item\"><li><span><a href=\"#NA\" data-toc-modified-id=\"NA-4.1.1\"><span class=\"toc-item-num\">4.1.1&nbsp;&nbsp;</span>NA</a></span></li><li><span><a href=\"#EU\" data-toc-modified-id=\"EU-4.1.2\"><span class=\"toc-item-num\">4.1.2&nbsp;&nbsp;</span>EU</a></span></li><li><span><a href=\"#JP\" data-toc-modified-id=\"JP-4.1.3\"><span class=\"toc-item-num\">4.1.3&nbsp;&nbsp;</span>JP</a></span></li></ul></li><li><span><a href=\"#Самые-популярные-жанры-(топ-5)\" data-toc-modified-id=\"Самые-популярные-жанры-(топ-5)-4.2\"><span class=\"toc-item-num\">4.2&nbsp;&nbsp;</span>Самые популярные жанры (топ-5)</a></span><ul class=\"toc-item\"><li><span><a href=\"#NA\" data-toc-modified-id=\"NA-4.2.1\"><span class=\"toc-item-num\">4.2.1&nbsp;&nbsp;</span>NA</a></span></li><li><span><a href=\"#EU\" data-toc-modified-id=\"EU-4.2.2\"><span class=\"toc-item-num\">4.2.2&nbsp;&nbsp;</span>EU</a></span></li><li><span><a href=\"#JP\" data-toc-modified-id=\"JP-4.2.3\"><span class=\"toc-item-num\">4.2.3&nbsp;&nbsp;</span>JP</a></span></li></ul></li><li><span><a href=\"#Влияет-ли-рейтинг-ESRB-на-продажи-в-отдельном-регионе?\" data-toc-modified-id=\"Влияет-ли-рейтинг-ESRB-на-продажи-в-отдельном-регионе?-4.3\"><span class=\"toc-item-num\">4.3&nbsp;&nbsp;</span>Влияет ли рейтинг ESRB на продажи в отдельном регионе?</a></span><ul class=\"toc-item\"><li><span><a href=\"#NA\" data-toc-modified-id=\"NA-4.3.1\"><span class=\"toc-item-num\">4.3.1&nbsp;&nbsp;</span>NA</a></span></li><li><span><a href=\"#EU\" data-toc-modified-id=\"EU-4.3.2\"><span class=\"toc-item-num\">4.3.2&nbsp;&nbsp;</span>EU</a></span></li><li><span><a href=\"#JP\" data-toc-modified-id=\"JP-4.3.3\"><span class=\"toc-item-num\">4.3.3&nbsp;&nbsp;</span>JP</a></span></li></ul></li></ul></li><li><span><a href=\"#Шаг-5.-Проверьте-гипотезы\" data-toc-modified-id=\"Шаг-5.-Проверьте-гипотезы-5\"><span class=\"toc-item-num\">5&nbsp;&nbsp;</span>Шаг 5. Проверьте гипотезы</a></span><ul class=\"toc-item\"><li><span><a href=\"#Средние-пользовательские-рейтинги-платформ-Xbox-One-и-PC-одинаковые;\" data-toc-modified-id=\"Средние-пользовательские-рейтинги-платформ-Xbox-One-и-PC-одинаковые;-5.1\"><span class=\"toc-item-num\">5.1&nbsp;&nbsp;</span>Средние пользовательские рейтинги платформ Xbox One и PC одинаковые;</a></span></li><li><span><a href=\"#Средние-пользовательские-рейтинги-жанров-Action-(англ.-«действие»,-экшен-игры)-и-Sports-(англ.-«спортивные-соревнования»)-разные.\" data-toc-modified-id=\"Средние-пользовательские-рейтинги-жанров-Action-(англ.-«действие»,-экшен-игры)-и-Sports-(англ.-«спортивные-соревнования»)-разные.-5.2\"><span class=\"toc-item-num\">5.2&nbsp;&nbsp;</span>Средние пользовательские рейтинги жанров Action (англ. «действие», экшен-игры) и Sports (англ. «спортивные соревнования») разные.</a></span></li></ul></li><li><span><a href=\"#Общий-вывод.\" data-toc-modified-id=\"Общий-вывод.-6\"><span class=\"toc-item-num\">6&nbsp;&nbsp;</span>Общий вывод.</a></span></li></ul></div>"
   ]
  },
  {
   "cell_type": "markdown",
   "id": "5c8b54b2",
   "metadata": {},
   "source": [
    "Мы работаем в интернет-магазине «Стримчик», который продаёт по всему миру компьютерные игры. Из открытых источников доступны исторические данные о продажах игр, оценки пользователей и экспертов, жанры и платформы (например, Xbox или PlayStation). Нам нужно выявить определяющие успешность игры закономерности. Это позволит сделать ставку на потенциально популярный продукт и спланировать рекламные кампании.\n",
    "\n",
    "Перед нами данные до 2016 года. Представим, что сейчас декабрь 2016 г., и мы планируете кампанию на 2017-й. Для этого проведем исследование имеющихся данных и сделем определенные выводы, какие же продукты будут популярны, а какие нет.\n",
    "\n",
    "Изучим как оценки ESRB (Entertainment Software Rating Board) влияет на прибыль и оценки пользователей.\n",
    "\n",
    "Работа будет состоять из 6 этапов:\n",
    "- изучение файла с данными\n",
    "- предобработка данных\n",
    "- проведение исследования и поис закономерностей\n",
    "- составление портрета пользователя\n",
    "- проверка гипотез\n",
    "- подведение итогов"
   ]
  },
  {
   "cell_type": "markdown",
   "id": "4e41bab9",
   "metadata": {},
   "source": [
    "# Описание данных\n",
    "\n",
    "   `Name` — название игры\n",
    "   \n",
    "   `Platform` — платформа\n",
    "    \n",
    "   `Year_of_Release` — год выпуска\n",
    "   \n",
    "   `Genre` — жанр игры\n",
    "   \n",
    "   `NA_sales` — продажи в Северной Америке (миллионы проданных копий)\n",
    "   \n",
    "   `EU_sales` — продажи в Европе (миллионы проданных копий)\n",
    "   \n",
    "   `JP_sales` — продажи в Японии (миллионы проданных копий)\n",
    "   \n",
    "   `Other_sales` — продажи в других странах (миллионы проданных копий)\n",
    "   \n",
    "   `Critic_Score` — оценка критиков (максимум 100)\n",
    "   \n",
    "   `User_Score` — оценка пользователей (максимум 10)\n",
    "   \n",
    "   `Rating` — рейтинг от организации ESRB (англ. Entertainment Software Rating Board). Эта ассоциация определяет рейтинг компьютерных игр и присваивает им подходящую возрастную категорию.\n",
    "\n",
    "Данные за 2016 год могут быть неполными."
   ]
  },
  {
   "cell_type": "markdown",
   "id": "7162079e",
   "metadata": {},
   "source": [
    "## Шаг 1. Откройте файл с данными."
   ]
  },
  {
   "cell_type": "code",
   "execution_count": 1,
   "id": "d86c46ef",
   "metadata": {},
   "outputs": [],
   "source": [
    "import pandas as pd\n",
    "import matplotlib.pyplot as plt"
   ]
  },
  {
   "cell_type": "code",
   "execution_count": 2,
   "id": "5e33e82f",
   "metadata": {},
   "outputs": [],
   "source": [
    "data = pd.read_csv('/datasets/games.csv')"
   ]
  },
  {
   "cell_type": "code",
   "execution_count": 3,
   "id": "b2a4ef39",
   "metadata": {},
   "outputs": [
    {
     "data": {
      "text/html": [
       "<div>\n",
       "<style scoped>\n",
       "    .dataframe tbody tr th:only-of-type {\n",
       "        vertical-align: middle;\n",
       "    }\n",
       "\n",
       "    .dataframe tbody tr th {\n",
       "        vertical-align: top;\n",
       "    }\n",
       "\n",
       "    .dataframe thead th {\n",
       "        text-align: right;\n",
       "    }\n",
       "</style>\n",
       "<table border=\"1\" class=\"dataframe\">\n",
       "  <thead>\n",
       "    <tr style=\"text-align: right;\">\n",
       "      <th></th>\n",
       "      <th>Name</th>\n",
       "      <th>Platform</th>\n",
       "      <th>Year_of_Release</th>\n",
       "      <th>Genre</th>\n",
       "      <th>NA_sales</th>\n",
       "      <th>EU_sales</th>\n",
       "      <th>JP_sales</th>\n",
       "      <th>Other_sales</th>\n",
       "      <th>Critic_Score</th>\n",
       "      <th>User_Score</th>\n",
       "      <th>Rating</th>\n",
       "    </tr>\n",
       "  </thead>\n",
       "  <tbody>\n",
       "    <tr>\n",
       "      <th>0</th>\n",
       "      <td>Wii Sports</td>\n",
       "      <td>Wii</td>\n",
       "      <td>2006.0</td>\n",
       "      <td>Sports</td>\n",
       "      <td>41.36</td>\n",
       "      <td>28.96</td>\n",
       "      <td>3.77</td>\n",
       "      <td>8.45</td>\n",
       "      <td>76.0</td>\n",
       "      <td>8</td>\n",
       "      <td>E</td>\n",
       "    </tr>\n",
       "    <tr>\n",
       "      <th>1</th>\n",
       "      <td>Super Mario Bros.</td>\n",
       "      <td>NES</td>\n",
       "      <td>1985.0</td>\n",
       "      <td>Platform</td>\n",
       "      <td>29.08</td>\n",
       "      <td>3.58</td>\n",
       "      <td>6.81</td>\n",
       "      <td>0.77</td>\n",
       "      <td>NaN</td>\n",
       "      <td>NaN</td>\n",
       "      <td>NaN</td>\n",
       "    </tr>\n",
       "    <tr>\n",
       "      <th>2</th>\n",
       "      <td>Mario Kart Wii</td>\n",
       "      <td>Wii</td>\n",
       "      <td>2008.0</td>\n",
       "      <td>Racing</td>\n",
       "      <td>15.68</td>\n",
       "      <td>12.76</td>\n",
       "      <td>3.79</td>\n",
       "      <td>3.29</td>\n",
       "      <td>82.0</td>\n",
       "      <td>8.3</td>\n",
       "      <td>E</td>\n",
       "    </tr>\n",
       "    <tr>\n",
       "      <th>3</th>\n",
       "      <td>Wii Sports Resort</td>\n",
       "      <td>Wii</td>\n",
       "      <td>2009.0</td>\n",
       "      <td>Sports</td>\n",
       "      <td>15.61</td>\n",
       "      <td>10.93</td>\n",
       "      <td>3.28</td>\n",
       "      <td>2.95</td>\n",
       "      <td>80.0</td>\n",
       "      <td>8</td>\n",
       "      <td>E</td>\n",
       "    </tr>\n",
       "    <tr>\n",
       "      <th>4</th>\n",
       "      <td>Pokemon Red/Pokemon Blue</td>\n",
       "      <td>GB</td>\n",
       "      <td>1996.0</td>\n",
       "      <td>Role-Playing</td>\n",
       "      <td>11.27</td>\n",
       "      <td>8.89</td>\n",
       "      <td>10.22</td>\n",
       "      <td>1.00</td>\n",
       "      <td>NaN</td>\n",
       "      <td>NaN</td>\n",
       "      <td>NaN</td>\n",
       "    </tr>\n",
       "  </tbody>\n",
       "</table>\n",
       "</div>"
      ],
      "text/plain": [
       "                       Name Platform  Year_of_Release         Genre  NA_sales  \\\n",
       "0                Wii Sports      Wii           2006.0        Sports     41.36   \n",
       "1         Super Mario Bros.      NES           1985.0      Platform     29.08   \n",
       "2            Mario Kart Wii      Wii           2008.0        Racing     15.68   \n",
       "3         Wii Sports Resort      Wii           2009.0        Sports     15.61   \n",
       "4  Pokemon Red/Pokemon Blue       GB           1996.0  Role-Playing     11.27   \n",
       "\n",
       "   EU_sales  JP_sales  Other_sales  Critic_Score User_Score Rating  \n",
       "0     28.96      3.77         8.45          76.0          8      E  \n",
       "1      3.58      6.81         0.77           NaN        NaN    NaN  \n",
       "2     12.76      3.79         3.29          82.0        8.3      E  \n",
       "3     10.93      3.28         2.95          80.0          8      E  \n",
       "4      8.89     10.22         1.00           NaN        NaN    NaN  "
      ]
     },
     "execution_count": 3,
     "metadata": {},
     "output_type": "execute_result"
    }
   ],
   "source": [
    "data.head()"
   ]
  },
  {
   "cell_type": "code",
   "execution_count": 4,
   "id": "2b039ab6",
   "metadata": {},
   "outputs": [
    {
     "data": {
      "text/plain": [
       "(16715, 11)"
      ]
     },
     "execution_count": 4,
     "metadata": {},
     "output_type": "execute_result"
    }
   ],
   "source": [
    "data.shape"
   ]
  },
  {
   "cell_type": "code",
   "execution_count": 5,
   "id": "371ea915",
   "metadata": {},
   "outputs": [
    {
     "name": "stdout",
     "output_type": "stream",
     "text": [
      "<class 'pandas.core.frame.DataFrame'>\n",
      "RangeIndex: 16715 entries, 0 to 16714\n",
      "Data columns (total 11 columns):\n",
      " #   Column           Non-Null Count  Dtype  \n",
      "---  ------           --------------  -----  \n",
      " 0   Name             16713 non-null  object \n",
      " 1   Platform         16715 non-null  object \n",
      " 2   Year_of_Release  16446 non-null  float64\n",
      " 3   Genre            16713 non-null  object \n",
      " 4   NA_sales         16715 non-null  float64\n",
      " 5   EU_sales         16715 non-null  float64\n",
      " 6   JP_sales         16715 non-null  float64\n",
      " 7   Other_sales      16715 non-null  float64\n",
      " 8   Critic_Score     8137 non-null   float64\n",
      " 9   User_Score       10014 non-null  object \n",
      " 10  Rating           9949 non-null   object \n",
      "dtypes: float64(6), object(5)\n",
      "memory usage: 1.4+ MB\n"
     ]
    }
   ],
   "source": [
    "data.info()"
   ]
  },
  {
   "cell_type": "markdown",
   "id": "542e9a92",
   "metadata": {},
   "source": [
    "**Заключение о данных:**\n",
    "- Объем данных достаточный для нашего исследования, 16715 строк!\n",
    "- 5 категориальных переменных и 6 числовых\n",
    "\n",
    "**Ошибки:**\n",
    "- В названиях признаков присутствуют большие буквы, что не удобно для работы\n",
    "- Отсутствует очень много значений в столбцах Critic_Score, User_Score, Rating"
   ]
  },
  {
   "cell_type": "markdown",
   "id": "7aa69a87",
   "metadata": {},
   "source": [
    "## Шаг 2. Подготовьте данные\n",
    "\n",
    "- [x] Замените названия столбцов (приведите к нижнему регистру);\n",
    "- [x] Преобразуйте данные в нужные типы. Опишите, в каких столбцах заменили тип данных и почему;\n",
    "- [x] Обработайте пропуски при необходимости:\n",
    "      \n",
    "   - [x] Объясните, почему заполнили пропуски определённым образом или почему не стали это делать;\n",
    "   - [x] Опишите причины, которые могли привести к пропускам;\n",
    "   - [x] Обратите внимание на аббревиатуру 'tbd' в столбце с оценкой пользователей. Отдельно разберите это значение и опишите, как его обработать;\n",
    "- [x] Посчитайте суммарные продажи во всех регионах и запишите их в отдельный столбец."
   ]
  },
  {
   "cell_type": "markdown",
   "id": "2f08cd87",
   "metadata": {},
   "source": [
    "###  Заменяем названия столбцов на нормальные"
   ]
  },
  {
   "cell_type": "code",
   "execution_count": 6,
   "id": "7a3475e3",
   "metadata": {},
   "outputs": [
    {
     "data": {
      "text/plain": [
       "Index(['name', 'platform', 'year_of_release', 'genre', 'na_sales', 'eu_sales',\n",
       "       'jp_sales', 'other_sales', 'critic_score', 'user_score', 'rating'],\n",
       "      dtype='object')"
      ]
     },
     "execution_count": 6,
     "metadata": {},
     "output_type": "execute_result"
    }
   ],
   "source": [
    "cols = list(data.columns)\n",
    "for col in range(len(cols)):\n",
    "    cols[col] = cols[col].lower()\n",
    "    \n",
    "data.columns=cols\n",
    "data.columns"
   ]
  },
  {
   "cell_type": "markdown",
   "id": "4ab5e682",
   "metadata": {},
   "source": [
    "### Привести все столбцы к правильному типу."
   ]
  },
  {
   "cell_type": "code",
   "execution_count": 7,
   "id": "5b21b6ae",
   "metadata": {},
   "outputs": [
    {
     "data": {
      "text/plain": [
       "name                object\n",
       "platform            object\n",
       "year_of_release    float64\n",
       "genre               object\n",
       "na_sales           float64\n",
       "eu_sales           float64\n",
       "jp_sales           float64\n",
       "other_sales        float64\n",
       "critic_score       float64\n",
       "user_score          object\n",
       "rating              object\n",
       "dtype: object"
      ]
     },
     "execution_count": 7,
     "metadata": {},
     "output_type": "execute_result"
    }
   ],
   "source": [
    "data.dtypes"
   ]
  },
  {
   "cell_type": "markdown",
   "id": "a0fbb885",
   "metadata": {},
   "source": [
    "Надо поменять тип у перемеенной year_of_release, потому что не может быть игра выпущена в 2015.5 году.\n",
    "Кроме того, надо поменять user_score на float, потому что в этой переменной значения это числа."
   ]
  },
  {
   "cell_type": "code",
   "execution_count": 8,
   "id": "d31a9f35",
   "metadata": {},
   "outputs": [],
   "source": [
    "# data['year_of_release'] = data['year_of_release'].astype(int)"
   ]
  },
  {
   "cell_type": "markdown",
   "id": "812074bf",
   "metadata": {},
   "source": [
    "Но в то же время выходит, что нан это неопределенное число, но пандас считает его float, поэтому не получится пока что не будем менять тип этого признака."
   ]
  },
  {
   "cell_type": "code",
   "execution_count": 9,
   "id": "215744ea",
   "metadata": {},
   "outputs": [
    {
     "data": {
      "text/html": [
       "<div>\n",
       "<style scoped>\n",
       "    .dataframe tbody tr th:only-of-type {\n",
       "        vertical-align: middle;\n",
       "    }\n",
       "\n",
       "    .dataframe tbody tr th {\n",
       "        vertical-align: top;\n",
       "    }\n",
       "\n",
       "    .dataframe thead th {\n",
       "        text-align: right;\n",
       "    }\n",
       "</style>\n",
       "<table border=\"1\" class=\"dataframe\">\n",
       "  <thead>\n",
       "    <tr style=\"text-align: right;\">\n",
       "      <th></th>\n",
       "      <th>name</th>\n",
       "      <th>platform</th>\n",
       "      <th>year_of_release</th>\n",
       "      <th>genre</th>\n",
       "      <th>na_sales</th>\n",
       "      <th>eu_sales</th>\n",
       "      <th>jp_sales</th>\n",
       "      <th>other_sales</th>\n",
       "      <th>critic_score</th>\n",
       "      <th>user_score</th>\n",
       "      <th>rating</th>\n",
       "    </tr>\n",
       "  </thead>\n",
       "  <tbody>\n",
       "    <tr>\n",
       "      <th>119</th>\n",
       "      <td>Zumba Fitness</td>\n",
       "      <td>Wii</td>\n",
       "      <td>2010.0</td>\n",
       "      <td>Sports</td>\n",
       "      <td>3.45</td>\n",
       "      <td>2.59</td>\n",
       "      <td>0.0</td>\n",
       "      <td>0.66</td>\n",
       "      <td>NaN</td>\n",
       "      <td>tbd</td>\n",
       "      <td>E</td>\n",
       "    </tr>\n",
       "    <tr>\n",
       "      <th>301</th>\n",
       "      <td>Namco Museum: 50th Anniversary</td>\n",
       "      <td>PS2</td>\n",
       "      <td>2005.0</td>\n",
       "      <td>Misc</td>\n",
       "      <td>2.08</td>\n",
       "      <td>1.35</td>\n",
       "      <td>0.0</td>\n",
       "      <td>0.54</td>\n",
       "      <td>61.0</td>\n",
       "      <td>tbd</td>\n",
       "      <td>E10+</td>\n",
       "    </tr>\n",
       "    <tr>\n",
       "      <th>520</th>\n",
       "      <td>Zumba Fitness 2</td>\n",
       "      <td>Wii</td>\n",
       "      <td>2011.0</td>\n",
       "      <td>Sports</td>\n",
       "      <td>1.51</td>\n",
       "      <td>1.03</td>\n",
       "      <td>0.0</td>\n",
       "      <td>0.27</td>\n",
       "      <td>NaN</td>\n",
       "      <td>tbd</td>\n",
       "      <td>T</td>\n",
       "    </tr>\n",
       "    <tr>\n",
       "      <th>645</th>\n",
       "      <td>uDraw Studio</td>\n",
       "      <td>Wii</td>\n",
       "      <td>2010.0</td>\n",
       "      <td>Misc</td>\n",
       "      <td>1.65</td>\n",
       "      <td>0.57</td>\n",
       "      <td>0.0</td>\n",
       "      <td>0.20</td>\n",
       "      <td>71.0</td>\n",
       "      <td>tbd</td>\n",
       "      <td>E</td>\n",
       "    </tr>\n",
       "    <tr>\n",
       "      <th>657</th>\n",
       "      <td>Frogger's Adventures: Temple of the Frog</td>\n",
       "      <td>GBA</td>\n",
       "      <td>NaN</td>\n",
       "      <td>Adventure</td>\n",
       "      <td>2.15</td>\n",
       "      <td>0.18</td>\n",
       "      <td>0.0</td>\n",
       "      <td>0.07</td>\n",
       "      <td>73.0</td>\n",
       "      <td>tbd</td>\n",
       "      <td>E</td>\n",
       "    </tr>\n",
       "    <tr>\n",
       "      <th>...</th>\n",
       "      <td>...</td>\n",
       "      <td>...</td>\n",
       "      <td>...</td>\n",
       "      <td>...</td>\n",
       "      <td>...</td>\n",
       "      <td>...</td>\n",
       "      <td>...</td>\n",
       "      <td>...</td>\n",
       "      <td>...</td>\n",
       "      <td>...</td>\n",
       "      <td>...</td>\n",
       "    </tr>\n",
       "    <tr>\n",
       "      <th>16695</th>\n",
       "      <td>Planet Monsters</td>\n",
       "      <td>GBA</td>\n",
       "      <td>2001.0</td>\n",
       "      <td>Action</td>\n",
       "      <td>0.01</td>\n",
       "      <td>0.00</td>\n",
       "      <td>0.0</td>\n",
       "      <td>0.00</td>\n",
       "      <td>67.0</td>\n",
       "      <td>tbd</td>\n",
       "      <td>E</td>\n",
       "    </tr>\n",
       "    <tr>\n",
       "      <th>16697</th>\n",
       "      <td>Bust-A-Move 3000</td>\n",
       "      <td>GC</td>\n",
       "      <td>2003.0</td>\n",
       "      <td>Puzzle</td>\n",
       "      <td>0.01</td>\n",
       "      <td>0.00</td>\n",
       "      <td>0.0</td>\n",
       "      <td>0.00</td>\n",
       "      <td>53.0</td>\n",
       "      <td>tbd</td>\n",
       "      <td>E</td>\n",
       "    </tr>\n",
       "    <tr>\n",
       "      <th>16698</th>\n",
       "      <td>Mega Brain Boost</td>\n",
       "      <td>DS</td>\n",
       "      <td>2008.0</td>\n",
       "      <td>Puzzle</td>\n",
       "      <td>0.01</td>\n",
       "      <td>0.00</td>\n",
       "      <td>0.0</td>\n",
       "      <td>0.00</td>\n",
       "      <td>48.0</td>\n",
       "      <td>tbd</td>\n",
       "      <td>E</td>\n",
       "    </tr>\n",
       "    <tr>\n",
       "      <th>16704</th>\n",
       "      <td>Plushees</td>\n",
       "      <td>DS</td>\n",
       "      <td>2008.0</td>\n",
       "      <td>Simulation</td>\n",
       "      <td>0.01</td>\n",
       "      <td>0.00</td>\n",
       "      <td>0.0</td>\n",
       "      <td>0.00</td>\n",
       "      <td>NaN</td>\n",
       "      <td>tbd</td>\n",
       "      <td>E</td>\n",
       "    </tr>\n",
       "    <tr>\n",
       "      <th>16706</th>\n",
       "      <td>Men in Black II: Alien Escape</td>\n",
       "      <td>GC</td>\n",
       "      <td>2003.0</td>\n",
       "      <td>Shooter</td>\n",
       "      <td>0.01</td>\n",
       "      <td>0.00</td>\n",
       "      <td>0.0</td>\n",
       "      <td>0.00</td>\n",
       "      <td>NaN</td>\n",
       "      <td>tbd</td>\n",
       "      <td>T</td>\n",
       "    </tr>\n",
       "  </tbody>\n",
       "</table>\n",
       "<p>2424 rows × 11 columns</p>\n",
       "</div>"
      ],
      "text/plain": [
       "                                           name platform  year_of_release  \\\n",
       "119                               Zumba Fitness      Wii           2010.0   \n",
       "301              Namco Museum: 50th Anniversary      PS2           2005.0   \n",
       "520                             Zumba Fitness 2      Wii           2011.0   \n",
       "645                                uDraw Studio      Wii           2010.0   \n",
       "657    Frogger's Adventures: Temple of the Frog      GBA              NaN   \n",
       "...                                         ...      ...              ...   \n",
       "16695                           Planet Monsters      GBA           2001.0   \n",
       "16697                          Bust-A-Move 3000       GC           2003.0   \n",
       "16698                          Mega Brain Boost       DS           2008.0   \n",
       "16704                                  Plushees       DS           2008.0   \n",
       "16706             Men in Black II: Alien Escape       GC           2003.0   \n",
       "\n",
       "            genre  na_sales  eu_sales  jp_sales  other_sales  critic_score  \\\n",
       "119        Sports      3.45      2.59       0.0         0.66           NaN   \n",
       "301          Misc      2.08      1.35       0.0         0.54          61.0   \n",
       "520        Sports      1.51      1.03       0.0         0.27           NaN   \n",
       "645          Misc      1.65      0.57       0.0         0.20          71.0   \n",
       "657     Adventure      2.15      0.18       0.0         0.07          73.0   \n",
       "...           ...       ...       ...       ...          ...           ...   \n",
       "16695      Action      0.01      0.00       0.0         0.00          67.0   \n",
       "16697      Puzzle      0.01      0.00       0.0         0.00          53.0   \n",
       "16698      Puzzle      0.01      0.00       0.0         0.00          48.0   \n",
       "16704  Simulation      0.01      0.00       0.0         0.00           NaN   \n",
       "16706     Shooter      0.01      0.00       0.0         0.00           NaN   \n",
       "\n",
       "      user_score rating  \n",
       "119          tbd      E  \n",
       "301          tbd   E10+  \n",
       "520          tbd      T  \n",
       "645          tbd      E  \n",
       "657          tbd      E  \n",
       "...          ...    ...  \n",
       "16695        tbd      E  \n",
       "16697        tbd      E  \n",
       "16698        tbd      E  \n",
       "16704        tbd      E  \n",
       "16706        tbd      T  \n",
       "\n",
       "[2424 rows x 11 columns]"
      ]
     },
     "execution_count": 9,
     "metadata": {},
     "output_type": "execute_result"
    }
   ],
   "source": [
    "# data['user_score'] = data['user_score'].astype(float)\n",
    "data['user_score'].unique()\n",
    "data.loc[data['user_score']=='tbd']"
   ]
  },
  {
   "cell_type": "markdown",
   "id": "614d14ee",
   "metadata": {},
   "source": [
    "Долго пытался понять, что же значит tbd в признаке user_score, очевидно, что это расшифровывается как to be determined, что значит \"уточнение следует\". Пришел к выводу, что это значит, что оценок не достаточно, чтобы можно было выставить какую-то оценку, ведь если он например одна, то оценка пользователе будет равна одной этой оценке, что значит, что это не будет объектиной оценкой. Вот. поэтому думаю, что удалить эти строчки не совсем хорошо, тем более, что их почти 2к. поэтому думаю , что данное значение  можно приравнять к NaN, потому что оценка тоже по сути не определена."
   ]
  },
  {
   "cell_type": "code",
   "execution_count": 10,
   "id": "314706f2",
   "metadata": {},
   "outputs": [],
   "source": [
    "data['user_score'] = data['user_score'].replace('tbd', None)"
   ]
  },
  {
   "cell_type": "code",
   "execution_count": 11,
   "id": "66e137ca",
   "metadata": {},
   "outputs": [
    {
     "data": {
      "text/html": [
       "<div>\n",
       "<style scoped>\n",
       "    .dataframe tbody tr th:only-of-type {\n",
       "        vertical-align: middle;\n",
       "    }\n",
       "\n",
       "    .dataframe tbody tr th {\n",
       "        vertical-align: top;\n",
       "    }\n",
       "\n",
       "    .dataframe thead th {\n",
       "        text-align: right;\n",
       "    }\n",
       "</style>\n",
       "<table border=\"1\" class=\"dataframe\">\n",
       "  <thead>\n",
       "    <tr style=\"text-align: right;\">\n",
       "      <th></th>\n",
       "      <th>name</th>\n",
       "      <th>platform</th>\n",
       "      <th>year_of_release</th>\n",
       "      <th>genre</th>\n",
       "      <th>na_sales</th>\n",
       "      <th>eu_sales</th>\n",
       "      <th>jp_sales</th>\n",
       "      <th>other_sales</th>\n",
       "      <th>critic_score</th>\n",
       "      <th>user_score</th>\n",
       "      <th>rating</th>\n",
       "    </tr>\n",
       "  </thead>\n",
       "  <tbody>\n",
       "  </tbody>\n",
       "</table>\n",
       "</div>"
      ],
      "text/plain": [
       "Empty DataFrame\n",
       "Columns: [name, platform, year_of_release, genre, na_sales, eu_sales, jp_sales, other_sales, critic_score, user_score, rating]\n",
       "Index: []"
      ]
     },
     "execution_count": 11,
     "metadata": {},
     "output_type": "execute_result"
    }
   ],
   "source": [
    "data.loc[data['user_score']=='tbd']"
   ]
  },
  {
   "cell_type": "markdown",
   "id": "37bdfd76",
   "metadata": {},
   "source": [
    "Посмотрим количество пропусков в каждом столбце."
   ]
  },
  {
   "cell_type": "code",
   "execution_count": 12,
   "id": "6a55bc75",
   "metadata": {},
   "outputs": [
    {
     "data": {
      "text/plain": [
       "name                  2\n",
       "platform              0\n",
       "year_of_release     269\n",
       "genre                 2\n",
       "na_sales              0\n",
       "eu_sales              0\n",
       "jp_sales              0\n",
       "other_sales           0\n",
       "critic_score       8578\n",
       "user_score         7955\n",
       "rating             6766\n",
       "dtype: int64"
      ]
     },
     "execution_count": 12,
     "metadata": {},
     "output_type": "execute_result"
    }
   ],
   "source": [
    "data.isna().sum()"
   ]
  },
  {
   "cell_type": "markdown",
   "id": "07a89c90",
   "metadata": {},
   "source": [
    "Проверим, несут ли какие-то важные данные строки из первой группы пропусков."
   ]
  },
  {
   "cell_type": "code",
   "execution_count": 13,
   "id": "480712aa",
   "metadata": {},
   "outputs": [
    {
     "data": {
      "text/html": [
       "<div>\n",
       "<style scoped>\n",
       "    .dataframe tbody tr th:only-of-type {\n",
       "        vertical-align: middle;\n",
       "    }\n",
       "\n",
       "    .dataframe tbody tr th {\n",
       "        vertical-align: top;\n",
       "    }\n",
       "\n",
       "    .dataframe thead th {\n",
       "        text-align: right;\n",
       "    }\n",
       "</style>\n",
       "<table border=\"1\" class=\"dataframe\">\n",
       "  <thead>\n",
       "    <tr style=\"text-align: right;\">\n",
       "      <th></th>\n",
       "      <th>name</th>\n",
       "      <th>platform</th>\n",
       "      <th>year_of_release</th>\n",
       "      <th>genre</th>\n",
       "      <th>na_sales</th>\n",
       "      <th>eu_sales</th>\n",
       "      <th>jp_sales</th>\n",
       "      <th>other_sales</th>\n",
       "      <th>critic_score</th>\n",
       "      <th>user_score</th>\n",
       "      <th>rating</th>\n",
       "    </tr>\n",
       "  </thead>\n",
       "  <tbody>\n",
       "    <tr>\n",
       "      <th>659</th>\n",
       "      <td>NaN</td>\n",
       "      <td>GEN</td>\n",
       "      <td>1993.0</td>\n",
       "      <td>NaN</td>\n",
       "      <td>1.78</td>\n",
       "      <td>0.53</td>\n",
       "      <td>0.00</td>\n",
       "      <td>0.08</td>\n",
       "      <td>NaN</td>\n",
       "      <td>NaN</td>\n",
       "      <td>NaN</td>\n",
       "    </tr>\n",
       "    <tr>\n",
       "      <th>14244</th>\n",
       "      <td>NaN</td>\n",
       "      <td>GEN</td>\n",
       "      <td>1993.0</td>\n",
       "      <td>NaN</td>\n",
       "      <td>0.00</td>\n",
       "      <td>0.00</td>\n",
       "      <td>0.03</td>\n",
       "      <td>0.00</td>\n",
       "      <td>NaN</td>\n",
       "      <td>NaN</td>\n",
       "      <td>NaN</td>\n",
       "    </tr>\n",
       "  </tbody>\n",
       "</table>\n",
       "</div>"
      ],
      "text/plain": [
       "      name platform  year_of_release genre  na_sales  eu_sales  jp_sales  \\\n",
       "659    NaN      GEN           1993.0   NaN      1.78      0.53      0.00   \n",
       "14244  NaN      GEN           1993.0   NaN      0.00      0.00      0.03   \n",
       "\n",
       "       other_sales  critic_score user_score rating  \n",
       "659           0.08           NaN        NaN    NaN  \n",
       "14244         0.00           NaN        NaN    NaN  "
      ]
     },
     "execution_count": 13,
     "metadata": {},
     "output_type": "execute_result"
    }
   ],
   "source": [
    "data.loc[data['genre'].isna()]"
   ]
  },
  {
   "cell_type": "code",
   "execution_count": 14,
   "id": "75d53ac8",
   "metadata": {},
   "outputs": [
    {
     "data": {
      "text/plain": [
       "name                object\n",
       "platform            object\n",
       "year_of_release    float64\n",
       "genre               object\n",
       "na_sales           float64\n",
       "eu_sales           float64\n",
       "jp_sales           float64\n",
       "other_sales        float64\n",
       "critic_score       float64\n",
       "user_score         float64\n",
       "rating              object\n",
       "dtype: object"
      ]
     },
     "execution_count": 14,
     "metadata": {},
     "output_type": "execute_result"
    }
   ],
   "source": [
    "data['user_score'] = data['user_score'].astype(float)\n",
    "data.dtypes"
   ]
  },
  {
   "cell_type": "markdown",
   "id": "16c27386",
   "metadata": {},
   "source": [
    "у нас есть две группы пропусков, в первых признаках и в последних. В первых признаках у нас пропусков совсем мало, поэтому можем их спокойно удалить"
   ]
  },
  {
   "cell_type": "code",
   "execution_count": 15,
   "id": "b4584a2a",
   "metadata": {},
   "outputs": [
    {
     "data": {
      "text/plain": [
       "name                  0\n",
       "platform              0\n",
       "year_of_release       0\n",
       "genre                 0\n",
       "na_sales              0\n",
       "eu_sales              0\n",
       "jp_sales              0\n",
       "other_sales           0\n",
       "critic_score       8461\n",
       "user_score         7835\n",
       "rating             6676\n",
       "dtype: int64"
      ]
     },
     "execution_count": 15,
     "metadata": {},
     "output_type": "execute_result"
    }
   ],
   "source": [
    "data = data.dropna(subset=['name','year_of_release','genre'])\n",
    "data.isna().sum()"
   ]
  },
  {
   "cell_type": "markdown",
   "id": "610a034a",
   "metadata": {},
   "source": [
    "Также поставим заглушку в столбце rating, так как этот рейтинг составляется только для игр разработанных в америке и канаде."
   ]
  },
  {
   "cell_type": "code",
   "execution_count": 16,
   "id": "b4aa5a08",
   "metadata": {},
   "outputs": [
    {
     "data": {
      "text/plain": [
       "name                  0\n",
       "platform              0\n",
       "year_of_release       0\n",
       "genre                 0\n",
       "na_sales              0\n",
       "eu_sales              0\n",
       "jp_sales              0\n",
       "other_sales           0\n",
       "critic_score       8461\n",
       "user_score         7835\n",
       "rating                0\n",
       "dtype: int64"
      ]
     },
     "execution_count": 16,
     "metadata": {},
     "output_type": "execute_result"
    }
   ],
   "source": [
    "data['rating']=data['rating'].fillna('Unknown')\n",
    "data.isna().sum()"
   ]
  },
  {
   "cell_type": "code",
   "execution_count": 17,
   "id": "003e1e4b",
   "metadata": {
    "scrolled": false
   },
   "outputs": [
    {
     "data": {
      "text/plain": [
       "68.99436302142053"
      ]
     },
     "execution_count": 17,
     "metadata": {},
     "output_type": "execute_result"
    },
    {
     "data": {
      "image/png": "[encoded data removed]",
      "text/plain": [
       "<Figure size 432x288 with 1 Axes>"
      ]
     },
     "metadata": {
      "needs_background": "light"
     },
     "output_type": "display_data"
    }
   ],
   "source": [
    "data['critic_score'].plot(kind='hist',bins=50)\n",
    "data['critic_score'].mean() "
   ]
  },
  {
   "cell_type": "markdown",
   "id": "5174079c",
   "metadata": {},
   "source": [
    "Я принял решение никак не заполнять пропуски в critic_score, user_score, rating, потому что прпоуски есть почти у половины данных, а вырезать их из нашего исследования не совсем правильно, заменять на медиану или среднее тоже плохой вариант, потому что опять же пропуски у половину данных."
   ]
  },
  {
   "cell_type": "markdown",
   "id": "463ac027",
   "metadata": {},
   "source": [
    "А теперь в самом конце можно и поменять тип данных у столбца year_of_release"
   ]
  },
  {
   "cell_type": "code",
   "execution_count": 18,
   "id": "f04411a1",
   "metadata": {},
   "outputs": [
    {
     "data": {
      "text/plain": [
       "name                object\n",
       "platform            object\n",
       "year_of_release      int64\n",
       "genre               object\n",
       "na_sales           float64\n",
       "eu_sales           float64\n",
       "jp_sales           float64\n",
       "other_sales        float64\n",
       "critic_score       float64\n",
       "user_score         float64\n",
       "rating              object\n",
       "dtype: object"
      ]
     },
     "execution_count": 18,
     "metadata": {},
     "output_type": "execute_result"
    }
   ],
   "source": [
    "data['year_of_release'] = data['year_of_release'].astype(int)\n",
    "data.dtypes"
   ]
  },
  {
   "cell_type": "markdown",
   "id": "cac20942",
   "metadata": {},
   "source": [
    "###  Cуммарные продажи во всех регионах"
   ]
  },
  {
   "cell_type": "code",
   "execution_count": 19,
   "id": "a5bfd89d",
   "metadata": {},
   "outputs": [
    {
     "data": {
      "text/html": [
       "<div>\n",
       "<style scoped>\n",
       "    .dataframe tbody tr th:only-of-type {\n",
       "        vertical-align: middle;\n",
       "    }\n",
       "\n",
       "    .dataframe tbody tr th {\n",
       "        vertical-align: top;\n",
       "    }\n",
       "\n",
       "    .dataframe thead th {\n",
       "        text-align: right;\n",
       "    }\n",
       "</style>\n",
       "<table border=\"1\" class=\"dataframe\">\n",
       "  <thead>\n",
       "    <tr style=\"text-align: right;\">\n",
       "      <th></th>\n",
       "      <th>name</th>\n",
       "      <th>platform</th>\n",
       "      <th>year_of_release</th>\n",
       "      <th>genre</th>\n",
       "      <th>na_sales</th>\n",
       "      <th>eu_sales</th>\n",
       "      <th>jp_sales</th>\n",
       "      <th>other_sales</th>\n",
       "      <th>critic_score</th>\n",
       "      <th>user_score</th>\n",
       "      <th>rating</th>\n",
       "      <th>total_sales</th>\n",
       "    </tr>\n",
       "  </thead>\n",
       "  <tbody>\n",
       "    <tr>\n",
       "      <th>0</th>\n",
       "      <td>Wii Sports</td>\n",
       "      <td>Wii</td>\n",
       "      <td>2006</td>\n",
       "      <td>Sports</td>\n",
       "      <td>41.36</td>\n",
       "      <td>28.96</td>\n",
       "      <td>3.77</td>\n",
       "      <td>8.45</td>\n",
       "      <td>76.0</td>\n",
       "      <td>8.0</td>\n",
       "      <td>E</td>\n",
       "      <td>82.54</td>\n",
       "    </tr>\n",
       "    <tr>\n",
       "      <th>1</th>\n",
       "      <td>Super Mario Bros.</td>\n",
       "      <td>NES</td>\n",
       "      <td>1985</td>\n",
       "      <td>Platform</td>\n",
       "      <td>29.08</td>\n",
       "      <td>3.58</td>\n",
       "      <td>6.81</td>\n",
       "      <td>0.77</td>\n",
       "      <td>NaN</td>\n",
       "      <td>NaN</td>\n",
       "      <td>Unknown</td>\n",
       "      <td>40.24</td>\n",
       "    </tr>\n",
       "    <tr>\n",
       "      <th>2</th>\n",
       "      <td>Mario Kart Wii</td>\n",
       "      <td>Wii</td>\n",
       "      <td>2008</td>\n",
       "      <td>Racing</td>\n",
       "      <td>15.68</td>\n",
       "      <td>12.76</td>\n",
       "      <td>3.79</td>\n",
       "      <td>3.29</td>\n",
       "      <td>82.0</td>\n",
       "      <td>8.3</td>\n",
       "      <td>E</td>\n",
       "      <td>35.52</td>\n",
       "    </tr>\n",
       "    <tr>\n",
       "      <th>3</th>\n",
       "      <td>Wii Sports Resort</td>\n",
       "      <td>Wii</td>\n",
       "      <td>2009</td>\n",
       "      <td>Sports</td>\n",
       "      <td>15.61</td>\n",
       "      <td>10.93</td>\n",
       "      <td>3.28</td>\n",
       "      <td>2.95</td>\n",
       "      <td>80.0</td>\n",
       "      <td>8.0</td>\n",
       "      <td>E</td>\n",
       "      <td>32.77</td>\n",
       "    </tr>\n",
       "    <tr>\n",
       "      <th>4</th>\n",
       "      <td>Pokemon Red/Pokemon Blue</td>\n",
       "      <td>GB</td>\n",
       "      <td>1996</td>\n",
       "      <td>Role-Playing</td>\n",
       "      <td>11.27</td>\n",
       "      <td>8.89</td>\n",
       "      <td>10.22</td>\n",
       "      <td>1.00</td>\n",
       "      <td>NaN</td>\n",
       "      <td>NaN</td>\n",
       "      <td>Unknown</td>\n",
       "      <td>31.38</td>\n",
       "    </tr>\n",
       "  </tbody>\n",
       "</table>\n",
       "</div>"
      ],
      "text/plain": [
       "                       name platform  year_of_release         genre  na_sales  \\\n",
       "0                Wii Sports      Wii             2006        Sports     41.36   \n",
       "1         Super Mario Bros.      NES             1985      Platform     29.08   \n",
       "2            Mario Kart Wii      Wii             2008        Racing     15.68   \n",
       "3         Wii Sports Resort      Wii             2009        Sports     15.61   \n",
       "4  Pokemon Red/Pokemon Blue       GB             1996  Role-Playing     11.27   \n",
       "\n",
       "   eu_sales  jp_sales  other_sales  critic_score  user_score   rating  \\\n",
       "0     28.96      3.77         8.45          76.0         8.0        E   \n",
       "1      3.58      6.81         0.77           NaN         NaN  Unknown   \n",
       "2     12.76      3.79         3.29          82.0         8.3        E   \n",
       "3     10.93      3.28         2.95          80.0         8.0        E   \n",
       "4      8.89     10.22         1.00           NaN         NaN  Unknown   \n",
       "\n",
       "   total_sales  \n",
       "0        82.54  \n",
       "1        40.24  \n",
       "2        35.52  \n",
       "3        32.77  \n",
       "4        31.38  "
      ]
     },
     "execution_count": 19,
     "metadata": {},
     "output_type": "execute_result"
    }
   ],
   "source": [
    "data['total_sales'] = data['na_sales']+data['eu_sales']+data['jp_sales']+data['other_sales']\n",
    "data.head()"
   ]
  },
  {
   "cell_type": "markdown",
   "id": "4d342e2c",
   "metadata": {},
   "source": [
    "### Проверим данные на явные и неявные дубликаты."
   ]
  },
  {
   "cell_type": "code",
   "execution_count": 20,
   "id": "9b67719f",
   "metadata": {},
   "outputs": [
    {
     "data": {
      "text/html": [
       "<div>\n",
       "<style scoped>\n",
       "    .dataframe tbody tr th:only-of-type {\n",
       "        vertical-align: middle;\n",
       "    }\n",
       "\n",
       "    .dataframe tbody tr th {\n",
       "        vertical-align: top;\n",
       "    }\n",
       "\n",
       "    .dataframe thead th {\n",
       "        text-align: right;\n",
       "    }\n",
       "</style>\n",
       "<table border=\"1\" class=\"dataframe\">\n",
       "  <thead>\n",
       "    <tr style=\"text-align: right;\">\n",
       "      <th></th>\n",
       "      <th>name</th>\n",
       "      <th>platform</th>\n",
       "      <th>year_of_release</th>\n",
       "      <th>genre</th>\n",
       "      <th>na_sales</th>\n",
       "      <th>eu_sales</th>\n",
       "      <th>jp_sales</th>\n",
       "      <th>other_sales</th>\n",
       "      <th>critic_score</th>\n",
       "      <th>user_score</th>\n",
       "      <th>rating</th>\n",
       "      <th>total_sales</th>\n",
       "    </tr>\n",
       "  </thead>\n",
       "  <tbody>\n",
       "    <tr>\n",
       "      <th>604</th>\n",
       "      <td>Madden NFL 13</td>\n",
       "      <td>PS3</td>\n",
       "      <td>2012</td>\n",
       "      <td>Sports</td>\n",
       "      <td>2.11</td>\n",
       "      <td>0.22</td>\n",
       "      <td>0.0</td>\n",
       "      <td>0.23</td>\n",
       "      <td>83.0</td>\n",
       "      <td>5.5</td>\n",
       "      <td>E</td>\n",
       "      <td>2.56</td>\n",
       "    </tr>\n",
       "    <tr>\n",
       "      <th>16230</th>\n",
       "      <td>Madden NFL 13</td>\n",
       "      <td>PS3</td>\n",
       "      <td>2012</td>\n",
       "      <td>Sports</td>\n",
       "      <td>0.00</td>\n",
       "      <td>0.01</td>\n",
       "      <td>0.0</td>\n",
       "      <td>0.00</td>\n",
       "      <td>83.0</td>\n",
       "      <td>5.5</td>\n",
       "      <td>E</td>\n",
       "      <td>0.01</td>\n",
       "    </tr>\n",
       "  </tbody>\n",
       "</table>\n",
       "</div>"
      ],
      "text/plain": [
       "                name platform  year_of_release   genre  na_sales  eu_sales  \\\n",
       "604    Madden NFL 13      PS3             2012  Sports      2.11      0.22   \n",
       "16230  Madden NFL 13      PS3             2012  Sports      0.00      0.01   \n",
       "\n",
       "       jp_sales  other_sales  critic_score  user_score rating  total_sales  \n",
       "604         0.0         0.23          83.0         5.5      E         2.56  \n",
       "16230       0.0         0.00          83.0         5.5      E         0.01  "
      ]
     },
     "execution_count": 20,
     "metadata": {},
     "output_type": "execute_result"
    }
   ],
   "source": [
    "data[data[['name', 'platform','year_of_release']].duplicated(keep=False)]"
   ]
  },
  {
   "cell_type": "code",
   "execution_count": 21,
   "id": "bfadc1d7",
   "metadata": {},
   "outputs": [],
   "source": [
    "data = data.drop_duplicates(subset=['name'], keep='first')"
   ]
  },
  {
   "cell_type": "code",
   "execution_count": 22,
   "id": "b0110974",
   "metadata": {},
   "outputs": [
    {
     "data": {
      "text/html": [
       "<div>\n",
       "<style scoped>\n",
       "    .dataframe tbody tr th:only-of-type {\n",
       "        vertical-align: middle;\n",
       "    }\n",
       "\n",
       "    .dataframe tbody tr th {\n",
       "        vertical-align: top;\n",
       "    }\n",
       "\n",
       "    .dataframe thead th {\n",
       "        text-align: right;\n",
       "    }\n",
       "</style>\n",
       "<table border=\"1\" class=\"dataframe\">\n",
       "  <thead>\n",
       "    <tr style=\"text-align: right;\">\n",
       "      <th></th>\n",
       "      <th>name</th>\n",
       "      <th>platform</th>\n",
       "      <th>year_of_release</th>\n",
       "      <th>genre</th>\n",
       "      <th>na_sales</th>\n",
       "      <th>eu_sales</th>\n",
       "      <th>jp_sales</th>\n",
       "      <th>other_sales</th>\n",
       "      <th>critic_score</th>\n",
       "      <th>user_score</th>\n",
       "      <th>rating</th>\n",
       "      <th>total_sales</th>\n",
       "    </tr>\n",
       "  </thead>\n",
       "  <tbody>\n",
       "  </tbody>\n",
       "</table>\n",
       "</div>"
      ],
      "text/plain": [
       "Empty DataFrame\n",
       "Columns: [name, platform, year_of_release, genre, na_sales, eu_sales, jp_sales, other_sales, critic_score, user_score, rating, total_sales]\n",
       "Index: []"
      ]
     },
     "execution_count": 22,
     "metadata": {},
     "output_type": "execute_result"
    }
   ],
   "source": [
    "data[data[['name', 'platform','year_of_release']].duplicated(keep=False)]"
   ]
  },
  {
   "cell_type": "code",
   "execution_count": 23,
   "id": "1ef4ae29",
   "metadata": {},
   "outputs": [
    {
     "data": {
      "text/plain": [
       "array(['Wii', 'NES', 'GB', 'DS', 'X360', 'PS3', 'PS2', 'SNES', 'GBA',\n",
       "       'PS4', '3DS', 'N64', 'PS', 'XB', 'PC', '2600', 'PSP', 'WiiU', 'GC',\n",
       "       'GEN', 'XOne', 'DC', 'SAT', 'PSV', 'SCD', 'WS', 'NG', 'TG16',\n",
       "       '3DO', 'GG', 'PCFX'], dtype=object)"
      ]
     },
     "execution_count": 23,
     "metadata": {},
     "output_type": "execute_result"
    }
   ],
   "source": [
    "data['platform'].unique()"
   ]
  },
  {
   "cell_type": "markdown",
   "id": "03517ca1",
   "metadata": {},
   "source": [
    "в platform  нет неявных дубликатов"
   ]
  },
  {
   "cell_type": "markdown",
   "id": "32aa10f2",
   "metadata": {},
   "source": [
    "в name присутствует очень много названий, по идее каждое название должно быть уникальным, попробуем проделать удаление лишних пробелов"
   ]
  },
  {
   "cell_type": "code",
   "execution_count": 24,
   "id": "38d9d136",
   "metadata": {},
   "outputs": [
    {
     "data": {
      "text/plain": [
       "(11426, 12)"
      ]
     },
     "execution_count": 24,
     "metadata": {},
     "output_type": "execute_result"
    }
   ],
   "source": [
    "data.shape"
   ]
  },
  {
   "cell_type": "code",
   "execution_count": 25,
   "id": "2b8c4362",
   "metadata": {},
   "outputs": [],
   "source": [
    "data['name'] = data['name'].str.strip()"
   ]
  },
  {
   "cell_type": "code",
   "execution_count": 26,
   "id": "5e4c24ad",
   "metadata": {},
   "outputs": [],
   "source": [
    "data = data.drop_duplicates(subset=['name'])"
   ]
  },
  {
   "cell_type": "code",
   "execution_count": 27,
   "id": "dc019f89",
   "metadata": {},
   "outputs": [
    {
     "data": {
      "text/plain": [
       "(11426, 12)"
      ]
     },
     "execution_count": 27,
     "metadata": {},
     "output_type": "execute_result"
    }
   ],
   "source": [
    "data.shape"
   ]
  },
  {
   "cell_type": "markdown",
   "id": "ec18ea19",
   "metadata": {},
   "source": [
    "Это говорит о том, что в датасете нет неявных дубликатов либо они более неочевидные."
   ]
  },
  {
   "cell_type": "markdown",
   "id": "6506401b",
   "metadata": {},
   "source": [
    "**Вывод** \n",
    "Предобработали значения:\n",
    "- Заменили названия столбцов\n",
    "- привели все столбцы к корректным типам данных\n",
    "- Добавили суммарные продажи\n",
    "- Убрали явные и неявные дубликаты\n",
    "\n",
    "Теперь с данными можно продолжать работу."
   ]
  },
  {
   "cell_type": "markdown",
   "id": "e4817bbb",
   "metadata": {},
   "source": [
    "## Шаг 3. Проведите исследовательский анализ данных\n",
    "\n",
    "- [x] Посмотрите, сколько игр выпускалось в разные годы. Важны ли данные за все периоды?\n",
    "- [x] Посмотрите, как менялись продажи по платформам. Выберите платформы с наибольшими суммарными продажами и постройте распределение по годам. За какой характерный срок появляются новые и исчезают старые платформы?\n",
    "- [x] Возьмите данные за соответствующий актуальный период. Актуальный период определите самостоятельно в результате исследования предыдущих вопросов. Основной фактор — эти данные помогут построить прогноз на 2017 год.\n",
    "   \n",
    "Не учитывайте в работе данные за предыдущие годы.\n",
    "   \n",
    "   \n",
    "Какие платформы лидируют по продажам, растут или падают? Выберите несколько потенциально прибыльных платформ.\n",
    "   \n",
    "   \n",
    "- [x] Постройте график «ящик с усами» по глобальным продажам игр в разбивке по платформам. Опишите результат.\n",
    "- [x] Посмотрите, как влияют на продажи внутри одной популярной платформы отзывы пользователей и критиков. Постройте диаграмму рассеяния и посчитайте корреляцию между отзывами и продажами. Сформулируйте выводы.\n",
    "- [x] Соотнесите выводы с продажами игр на других платформах.\n",
    "- [x] Посмотрите на общее распределение игр по жанрам. Что можно сказать о самых прибыльных жанрах? Выделяются ли жанры с высокими и низкими продажами?"
   ]
  },
  {
   "cell_type": "markdown",
   "id": "4879c886",
   "metadata": {},
   "source": [
    "###  сколько игр выпускалось в разные годы"
   ]
  },
  {
   "cell_type": "code",
   "execution_count": 28,
   "id": "ad65e3f5",
   "metadata": {},
   "outputs": [],
   "source": [
    "import seaborn as sns"
   ]
  },
  {
   "cell_type": "code",
   "execution_count": 29,
   "id": "2d693fa0",
   "metadata": {},
   "outputs": [
    {
     "data": {
      "text/plain": [
       "<AxesSubplot:ylabel='Frequency'>"
      ]
     },
     "execution_count": 29,
     "metadata": {},
     "output_type": "execute_result"
    },
    {
     "data": {
      "image/png": "[encoded data removed]",
      "text/plain": [
       "<Figure size 432x288 with 1 Axes>"
      ]
     },
     "metadata": {
      "needs_background": "light"
     },
     "output_type": "display_data"
    }
   ],
   "source": [
    "data['year_of_release'].plot(kind='hist',bins=35)"
   ]
  },
  {
   "cell_type": "code",
   "execution_count": 30,
   "id": "52674502",
   "metadata": {},
   "outputs": [
    {
     "data": {
      "image/png": "[encoded data removed]",
      "text/plain": [
       "<Figure size 432x288 with 1 Axes>"
      ]
     },
     "metadata": {
      "needs_background": "light"
     },
     "output_type": "display_data"
    }
   ],
   "source": [
    "buf = data.pivot_table(index=['year_of_release'],values=['name'],aggfunc=['count'])\n",
    "buf.columns = ['Количество вышедших игр']\n",
    "buf.plot(grid=True,legend=True);"
   ]
  },
  {
   "cell_type": "markdown",
   "id": "1540df36",
   "metadata": {},
   "source": [
    "На графике видно, что до 1995 года если выйдет 20-30 игр это уже успех, поэтому данные за этот период не так важны. "
   ]
  },
  {
   "cell_type": "markdown",
   "id": "083a7b76",
   "metadata": {},
   "source": [
    "###  как менялись продажи по платформам"
   ]
  },
  {
   "cell_type": "code",
   "execution_count": 31,
   "id": "a03dd555",
   "metadata": {},
   "outputs": [
    {
     "data": {
      "text/plain": [
       "array(['Wii', 'NES', 'GB', 'DS', 'X360', 'PS3', 'PS2', 'SNES', 'GBA',\n",
       "       'PS4', '3DS', 'N64', 'PS', 'XB', 'PC', '2600', 'PSP', 'WiiU', 'GC',\n",
       "       'GEN', 'XOne', 'DC', 'SAT', 'PSV', 'SCD', 'WS', 'NG', 'TG16',\n",
       "       '3DO', 'GG', 'PCFX'], dtype=object)"
      ]
     },
     "execution_count": 31,
     "metadata": {},
     "output_type": "execute_result"
    }
   ],
   "source": [
    "data['platform'].unique()"
   ]
  },
  {
   "cell_type": "code",
   "execution_count": 32,
   "id": "f1847a62",
   "metadata": {},
   "outputs": [
    {
     "data": {
      "text/html": [
       "<div>\n",
       "<style scoped>\n",
       "    .dataframe tbody tr th:only-of-type {\n",
       "        vertical-align: middle;\n",
       "    }\n",
       "\n",
       "    .dataframe tbody tr th {\n",
       "        vertical-align: top;\n",
       "    }\n",
       "\n",
       "    .dataframe thead th {\n",
       "        text-align: right;\n",
       "    }\n",
       "</style>\n",
       "<table border=\"1\" class=\"dataframe\">\n",
       "  <thead>\n",
       "    <tr style=\"text-align: right;\">\n",
       "      <th></th>\n",
       "      <th>total_sales_sum</th>\n",
       "      <th>year_of_release_max</th>\n",
       "    </tr>\n",
       "    <tr>\n",
       "      <th>platform</th>\n",
       "      <th></th>\n",
       "      <th></th>\n",
       "    </tr>\n",
       "  </thead>\n",
       "  <tbody>\n",
       "    <tr>\n",
       "      <th>PS2</th>\n",
       "      <td>1121.07</td>\n",
       "      <td>2011</td>\n",
       "    </tr>\n",
       "    <tr>\n",
       "      <th>Wii</th>\n",
       "      <td>769.65</td>\n",
       "      <td>2016</td>\n",
       "    </tr>\n",
       "    <tr>\n",
       "      <th>PS</th>\n",
       "      <td>697.10</td>\n",
       "      <td>2003</td>\n",
       "    </tr>\n",
       "    <tr>\n",
       "      <th>DS</th>\n",
       "      <td>690.89</td>\n",
       "      <td>2013</td>\n",
       "    </tr>\n",
       "    <tr>\n",
       "      <th>X360</th>\n",
       "      <td>569.68</td>\n",
       "      <td>2016</td>\n",
       "    </tr>\n",
       "    <tr>\n",
       "      <th>PS3</th>\n",
       "      <td>524.88</td>\n",
       "      <td>2016</td>\n",
       "    </tr>\n",
       "    <tr>\n",
       "      <th>PS4</th>\n",
       "      <td>255.01</td>\n",
       "      <td>2016</td>\n",
       "    </tr>\n",
       "    <tr>\n",
       "      <th>GBA</th>\n",
       "      <td>242.69</td>\n",
       "      <td>2007</td>\n",
       "    </tr>\n",
       "    <tr>\n",
       "      <th>NES</th>\n",
       "      <td>234.59</td>\n",
       "      <td>1994</td>\n",
       "    </tr>\n",
       "    <tr>\n",
       "      <th>GB</th>\n",
       "      <td>233.85</td>\n",
       "      <td>2001</td>\n",
       "    </tr>\n",
       "    <tr>\n",
       "      <th>3DS</th>\n",
       "      <td>228.10</td>\n",
       "      <td>2016</td>\n",
       "    </tr>\n",
       "    <tr>\n",
       "      <th>PSP</th>\n",
       "      <td>206.16</td>\n",
       "      <td>2015</td>\n",
       "    </tr>\n",
       "    <tr>\n",
       "      <th>SNES</th>\n",
       "      <td>195.91</td>\n",
       "      <td>1999</td>\n",
       "    </tr>\n",
       "    <tr>\n",
       "      <th>N64</th>\n",
       "      <td>189.63</td>\n",
       "      <td>2001</td>\n",
       "    </tr>\n",
       "    <tr>\n",
       "      <th>PC</th>\n",
       "      <td>174.18</td>\n",
       "      <td>2016</td>\n",
       "    </tr>\n",
       "    <tr>\n",
       "      <th>GC</th>\n",
       "      <td>112.26</td>\n",
       "      <td>2006</td>\n",
       "    </tr>\n",
       "    <tr>\n",
       "      <th>XB</th>\n",
       "      <td>105.81</td>\n",
       "      <td>2006</td>\n",
       "    </tr>\n",
       "    <tr>\n",
       "      <th>2600</th>\n",
       "      <td>78.21</td>\n",
       "      <td>1989</td>\n",
       "    </tr>\n",
       "    <tr>\n",
       "      <th>WiiU</th>\n",
       "      <td>53.95</td>\n",
       "      <td>2016</td>\n",
       "    </tr>\n",
       "    <tr>\n",
       "      <th>PSV</th>\n",
       "      <td>32.61</td>\n",
       "      <td>2016</td>\n",
       "    </tr>\n",
       "    <tr>\n",
       "      <th>XOne</th>\n",
       "      <td>31.82</td>\n",
       "      <td>2016</td>\n",
       "    </tr>\n",
       "    <tr>\n",
       "      <th>SAT</th>\n",
       "      <td>29.68</td>\n",
       "      <td>1998</td>\n",
       "    </tr>\n",
       "    <tr>\n",
       "      <th>GEN</th>\n",
       "      <td>22.77</td>\n",
       "      <td>1994</td>\n",
       "    </tr>\n",
       "    <tr>\n",
       "      <th>DC</th>\n",
       "      <td>12.98</td>\n",
       "      <td>2008</td>\n",
       "    </tr>\n",
       "    <tr>\n",
       "      <th>SCD</th>\n",
       "      <td>1.86</td>\n",
       "      <td>1994</td>\n",
       "    </tr>\n",
       "    <tr>\n",
       "      <th>NG</th>\n",
       "      <td>1.11</td>\n",
       "      <td>1996</td>\n",
       "    </tr>\n",
       "    <tr>\n",
       "      <th>WS</th>\n",
       "      <td>0.66</td>\n",
       "      <td>2001</td>\n",
       "    </tr>\n",
       "    <tr>\n",
       "      <th>TG16</th>\n",
       "      <td>0.16</td>\n",
       "      <td>1995</td>\n",
       "    </tr>\n",
       "    <tr>\n",
       "      <th>3DO</th>\n",
       "      <td>0.10</td>\n",
       "      <td>1995</td>\n",
       "    </tr>\n",
       "    <tr>\n",
       "      <th>GG</th>\n",
       "      <td>0.04</td>\n",
       "      <td>1992</td>\n",
       "    </tr>\n",
       "    <tr>\n",
       "      <th>PCFX</th>\n",
       "      <td>0.03</td>\n",
       "      <td>1996</td>\n",
       "    </tr>\n",
       "  </tbody>\n",
       "</table>\n",
       "</div>"
      ],
      "text/plain": [
       "          total_sales_sum  year_of_release_max\n",
       "platform                                      \n",
       "PS2               1121.07                 2011\n",
       "Wii                769.65                 2016\n",
       "PS                 697.10                 2003\n",
       "DS                 690.89                 2013\n",
       "X360               569.68                 2016\n",
       "PS3                524.88                 2016\n",
       "PS4                255.01                 2016\n",
       "GBA                242.69                 2007\n",
       "NES                234.59                 1994\n",
       "GB                 233.85                 2001\n",
       "3DS                228.10                 2016\n",
       "PSP                206.16                 2015\n",
       "SNES               195.91                 1999\n",
       "N64                189.63                 2001\n",
       "PC                 174.18                 2016\n",
       "GC                 112.26                 2006\n",
       "XB                 105.81                 2006\n",
       "2600                78.21                 1989\n",
       "WiiU                53.95                 2016\n",
       "PSV                 32.61                 2016\n",
       "XOne                31.82                 2016\n",
       "SAT                 29.68                 1998\n",
       "GEN                 22.77                 1994\n",
       "DC                  12.98                 2008\n",
       "SCD                  1.86                 1994\n",
       "NG                   1.11                 1996\n",
       "WS                   0.66                 2001\n",
       "TG16                 0.16                 1995\n",
       "3DO                  0.10                 1995\n",
       "GG                   0.04                 1992\n",
       "PCFX                 0.03                 1996"
      ]
     },
     "execution_count": 32,
     "metadata": {},
     "output_type": "execute_result"
    }
   ],
   "source": [
    "data_buf = data.pivot_table(index='platform', values=['total_sales','year_of_release'],aggfunc=['sum','max'])\n",
    "data_buf.columns = ['total_sales_sum','year_of_release_sum','total_sales_max','year_of_release_max']\n",
    "\n",
    "data_buf[['total_sales_sum', 'year_of_release_max']].sort_values(by='total_sales_sum',ascending=False)"
   ]
  },
  {
   "cell_type": "code",
   "execution_count": 33,
   "id": "0a907c6a",
   "metadata": {},
   "outputs": [
    {
     "data": {
      "text/plain": [
       "<AxesSubplot:title={'center':'PS2_sales'}, xlabel='year_of_release', ylabel='total_sales'>"
      ]
     },
     "execution_count": 33,
     "metadata": {},
     "output_type": "execute_result"
    },
    {
     "data": {
      "image/png": "[encoded data removed]",
      "text/plain": [
       "<Figure size 432x288 with 1 Axes>"
      ]
     },
     "metadata": {
      "needs_background": "light"
     },
     "output_type": "display_data"
    }
   ],
   "source": [
    "name='PS2'\n",
    "a = data.loc[data['platform']==name].pivot_table(index='year_of_release',values=['total_sales'],aggfunc=['sum'])\n",
    "a.columns= ['total_sales']\n",
    "# plt.ylabel('total_sales')\n",
    "a.plot(ylabel='total_sales',title=name+'_sales',grid=True,color='r',style='o-')\n"
   ]
  },
  {
   "cell_type": "markdown",
   "id": "56ce20ae",
   "metadata": {},
   "source": [
    "Как видим по этому графику, ps2 продержалась около 10 лет, пока продажи совсе не сошли на нет, скорее всего через 10 лет после выпуска, ее прекратили выпускать"
   ]
  },
  {
   "cell_type": "code",
   "execution_count": 34,
   "id": "f375bdaa",
   "metadata": {},
   "outputs": [
    {
     "data": {
      "text/plain": [
       "<AxesSubplot:title={'center':'PS3_sales'}, xlabel='year_of_release', ylabel='total_sales'>"
      ]
     },
     "execution_count": 34,
     "metadata": {},
     "output_type": "execute_result"
    },
    {
     "data": {
      "image/png": "[encoded data removed]",
      "text/plain": [
       "<Figure size 432x288 with 1 Axes>"
      ]
     },
     "metadata": {
      "needs_background": "light"
     },
     "output_type": "display_data"
    }
   ],
   "source": [
    "name='PS3'\n",
    "a = data.loc[data['platform']==name].pivot_table(index='year_of_release',values=['total_sales'],aggfunc=['sum'])\n",
    "a.columns= ['total_sales']\n",
    "# plt.ylabel('total_sales')\n",
    "a.plot(ylabel='total_sales',title=name+'_sales',grid=True,color='r',style='o-')\n"
   ]
  },
  {
   "cell_type": "markdown",
   "id": "798055e7",
   "metadata": {},
   "source": [
    "ps3 это младший брат ps2, видим, что псоле выпуска ps3(2006 год) продажи ps2 резко пошли вниз, значит ps3 была гораздо интереснее потребителям, она новее, больше игр долно выйти, поэтому эра ps2 закончилась с выходом ps3. Игры выпускать на старую консоль нет смысла, потому что многие переходят на новую консоль, поэтому так сильно на графике падают продажи.\n",
    "\n",
    "Кроме того, ps3 тоже продержалась на рынке около 10 лет"
   ]
  },
  {
   "cell_type": "code",
   "execution_count": 35,
   "id": "0e689181",
   "metadata": {},
   "outputs": [
    {
     "data": {
      "text/plain": [
       "<AxesSubplot:title={'center':'X360_sales'}, xlabel='year_of_release', ylabel='total_sales'>"
      ]
     },
     "execution_count": 35,
     "metadata": {},
     "output_type": "execute_result"
    },
    {
     "data": {
      "image/png": "[encoded data removed]",
      "text/plain": [
       "<Figure size 432x288 with 1 Axes>"
      ]
     },
     "metadata": {
      "needs_background": "light"
     },
     "output_type": "display_data"
    }
   ],
   "source": [
    "name='X360'\n",
    "a = data.loc[data['platform']==name].pivot_table(index='year_of_release',values=['total_sales'],aggfunc=['sum'])\n",
    "a.columns= ['total_sales']\n",
    "# plt.ylabel('total_sales')\n",
    "a.plot(ylabel='total_sales',title=name+'_sales',grid=True,color='r',style='o-')\n"
   ]
  },
  {
   "cell_type": "markdown",
   "id": "1c980d39",
   "metadata": {},
   "source": [
    "Кроме PS3 место PS2 пришла занять еще одна консоль, это x360, видно, что игры на нее выпускали также примерно 10 лет. Хоть у нас данные только до 2016 года, но продажи уже к 2016 году сошли на нет."
   ]
  },
  {
   "cell_type": "code",
   "execution_count": 36,
   "id": "2187acc5",
   "metadata": {},
   "outputs": [
    {
     "data": {
      "text/plain": [
       "<AxesSubplot:title={'center':'Wii_sales'}, xlabel='year_of_release', ylabel='total_sales'>"
      ]
     },
     "execution_count": 36,
     "metadata": {},
     "output_type": "execute_result"
    },
    {
     "data": {
      "image/png": "[encoded data removed]",
      "text/plain": [
       "<Figure size 432x288 with 1 Axes>"
      ]
     },
     "metadata": {
      "needs_background": "light"
     },
     "output_type": "display_data"
    }
   ],
   "source": [
    "name='Wii'\n",
    "a = data.loc[data['platform']==name].pivot_table(index='year_of_release',values=['total_sales'],aggfunc=['sum'])\n",
    "a.columns= ['total_sales']\n",
    "# plt.ylabel('total_sales')\n",
    "a.plot(ylabel='total_sales',title=name+'_sales',grid=True,color='r',style='o-')\n"
   ]
  },
  {
   "cell_type": "markdown",
   "id": "b18804c8",
   "metadata": {},
   "source": [
    "Платформа тоже продержалась около 10 лет, свои продажи она начала значительно уверенее, чем ее конкуренты. Но в 2010 году, когда произошел \"бум\" ps3 и x360, продажи игр резко пошли на спад и за 2 года с 125 упали до 25."
   ]
  },
  {
   "cell_type": "markdown",
   "id": "04b052a6",
   "metadata": {},
   "source": [
    "___"
   ]
  },
  {
   "cell_type": "markdown",
   "id": "ef6c7e24",
   "metadata": {},
   "source": [
    "Так как в данных есть ошибка, исправим ее, чтобы график был сразу правильным"
   ]
  },
  {
   "cell_type": "code",
   "execution_count": 37,
   "id": "8dee657a",
   "metadata": {},
   "outputs": [
    {
     "data": {
      "text/html": [
       "<div>\n",
       "<style scoped>\n",
       "    .dataframe tbody tr th:only-of-type {\n",
       "        vertical-align: middle;\n",
       "    }\n",
       "\n",
       "    .dataframe tbody tr th {\n",
       "        vertical-align: top;\n",
       "    }\n",
       "\n",
       "    .dataframe thead th {\n",
       "        text-align: right;\n",
       "    }\n",
       "</style>\n",
       "<table border=\"1\" class=\"dataframe\">\n",
       "  <thead>\n",
       "    <tr style=\"text-align: right;\">\n",
       "      <th></th>\n",
       "      <th>name</th>\n",
       "      <th>platform</th>\n",
       "      <th>year_of_release</th>\n",
       "      <th>genre</th>\n",
       "      <th>na_sales</th>\n",
       "      <th>eu_sales</th>\n",
       "      <th>jp_sales</th>\n",
       "      <th>other_sales</th>\n",
       "      <th>critic_score</th>\n",
       "      <th>user_score</th>\n",
       "      <th>rating</th>\n",
       "      <th>total_sales</th>\n",
       "    </tr>\n",
       "  </thead>\n",
       "  <tbody>\n",
       "    <tr>\n",
       "      <th>0</th>\n",
       "      <td>Wii Sports</td>\n",
       "      <td>Wii</td>\n",
       "      <td>2006</td>\n",
       "      <td>Sports</td>\n",
       "      <td>41.36</td>\n",
       "      <td>28.96</td>\n",
       "      <td>3.77</td>\n",
       "      <td>8.45</td>\n",
       "      <td>76.0</td>\n",
       "      <td>8.0</td>\n",
       "      <td>E</td>\n",
       "      <td>82.54</td>\n",
       "    </tr>\n",
       "    <tr>\n",
       "      <th>1</th>\n",
       "      <td>Super Mario Bros.</td>\n",
       "      <td>NES</td>\n",
       "      <td>1985</td>\n",
       "      <td>Platform</td>\n",
       "      <td>29.08</td>\n",
       "      <td>3.58</td>\n",
       "      <td>6.81</td>\n",
       "      <td>0.77</td>\n",
       "      <td>NaN</td>\n",
       "      <td>NaN</td>\n",
       "      <td>Unknown</td>\n",
       "      <td>40.24</td>\n",
       "    </tr>\n",
       "    <tr>\n",
       "      <th>2</th>\n",
       "      <td>Mario Kart Wii</td>\n",
       "      <td>Wii</td>\n",
       "      <td>2008</td>\n",
       "      <td>Racing</td>\n",
       "      <td>15.68</td>\n",
       "      <td>12.76</td>\n",
       "      <td>3.79</td>\n",
       "      <td>3.29</td>\n",
       "      <td>82.0</td>\n",
       "      <td>8.3</td>\n",
       "      <td>E</td>\n",
       "      <td>35.52</td>\n",
       "    </tr>\n",
       "    <tr>\n",
       "      <th>3</th>\n",
       "      <td>Wii Sports Resort</td>\n",
       "      <td>Wii</td>\n",
       "      <td>2009</td>\n",
       "      <td>Sports</td>\n",
       "      <td>15.61</td>\n",
       "      <td>10.93</td>\n",
       "      <td>3.28</td>\n",
       "      <td>2.95</td>\n",
       "      <td>80.0</td>\n",
       "      <td>8.0</td>\n",
       "      <td>E</td>\n",
       "      <td>32.77</td>\n",
       "    </tr>\n",
       "    <tr>\n",
       "      <th>4</th>\n",
       "      <td>Pokemon Red/Pokemon Blue</td>\n",
       "      <td>GB</td>\n",
       "      <td>1996</td>\n",
       "      <td>Role-Playing</td>\n",
       "      <td>11.27</td>\n",
       "      <td>8.89</td>\n",
       "      <td>10.22</td>\n",
       "      <td>1.00</td>\n",
       "      <td>NaN</td>\n",
       "      <td>NaN</td>\n",
       "      <td>Unknown</td>\n",
       "      <td>31.38</td>\n",
       "    </tr>\n",
       "    <tr>\n",
       "      <th>...</th>\n",
       "      <td>...</td>\n",
       "      <td>...</td>\n",
       "      <td>...</td>\n",
       "      <td>...</td>\n",
       "      <td>...</td>\n",
       "      <td>...</td>\n",
       "      <td>...</td>\n",
       "      <td>...</td>\n",
       "      <td>...</td>\n",
       "      <td>...</td>\n",
       "      <td>...</td>\n",
       "      <td>...</td>\n",
       "    </tr>\n",
       "    <tr>\n",
       "      <th>16705</th>\n",
       "      <td>15 Days</td>\n",
       "      <td>PC</td>\n",
       "      <td>2009</td>\n",
       "      <td>Adventure</td>\n",
       "      <td>0.00</td>\n",
       "      <td>0.01</td>\n",
       "      <td>0.00</td>\n",
       "      <td>0.00</td>\n",
       "      <td>63.0</td>\n",
       "      <td>5.8</td>\n",
       "      <td>Unknown</td>\n",
       "      <td>0.01</td>\n",
       "    </tr>\n",
       "    <tr>\n",
       "      <th>16707</th>\n",
       "      <td>Aiyoku no Eustia</td>\n",
       "      <td>PSV</td>\n",
       "      <td>2014</td>\n",
       "      <td>Misc</td>\n",
       "      <td>0.00</td>\n",
       "      <td>0.00</td>\n",
       "      <td>0.01</td>\n",
       "      <td>0.00</td>\n",
       "      <td>NaN</td>\n",
       "      <td>NaN</td>\n",
       "      <td>Unknown</td>\n",
       "      <td>0.01</td>\n",
       "    </tr>\n",
       "    <tr>\n",
       "      <th>16708</th>\n",
       "      <td>Woody Woodpecker in Crazy Castle 5</td>\n",
       "      <td>GBA</td>\n",
       "      <td>2002</td>\n",
       "      <td>Platform</td>\n",
       "      <td>0.01</td>\n",
       "      <td>0.00</td>\n",
       "      <td>0.00</td>\n",
       "      <td>0.00</td>\n",
       "      <td>NaN</td>\n",
       "      <td>NaN</td>\n",
       "      <td>Unknown</td>\n",
       "      <td>0.01</td>\n",
       "    </tr>\n",
       "    <tr>\n",
       "      <th>16711</th>\n",
       "      <td>LMA Manager 2007</td>\n",
       "      <td>X360</td>\n",
       "      <td>2006</td>\n",
       "      <td>Sports</td>\n",
       "      <td>0.00</td>\n",
       "      <td>0.01</td>\n",
       "      <td>0.00</td>\n",
       "      <td>0.00</td>\n",
       "      <td>NaN</td>\n",
       "      <td>NaN</td>\n",
       "      <td>Unknown</td>\n",
       "      <td>0.01</td>\n",
       "    </tr>\n",
       "    <tr>\n",
       "      <th>16712</th>\n",
       "      <td>Haitaka no Psychedelica</td>\n",
       "      <td>PSV</td>\n",
       "      <td>2016</td>\n",
       "      <td>Adventure</td>\n",
       "      <td>0.00</td>\n",
       "      <td>0.00</td>\n",
       "      <td>0.01</td>\n",
       "      <td>0.00</td>\n",
       "      <td>NaN</td>\n",
       "      <td>NaN</td>\n",
       "      <td>Unknown</td>\n",
       "      <td>0.01</td>\n",
       "    </tr>\n",
       "  </tbody>\n",
       "</table>\n",
       "<p>11425 rows × 12 columns</p>\n",
       "</div>"
      ],
      "text/plain": [
       "                                     name platform  year_of_release  \\\n",
       "0                              Wii Sports      Wii             2006   \n",
       "1                       Super Mario Bros.      NES             1985   \n",
       "2                          Mario Kart Wii      Wii             2008   \n",
       "3                       Wii Sports Resort      Wii             2009   \n",
       "4                Pokemon Red/Pokemon Blue       GB             1996   \n",
       "...                                   ...      ...              ...   \n",
       "16705                             15 Days       PC             2009   \n",
       "16707                    Aiyoku no Eustia      PSV             2014   \n",
       "16708  Woody Woodpecker in Crazy Castle 5      GBA             2002   \n",
       "16711                    LMA Manager 2007     X360             2006   \n",
       "16712             Haitaka no Psychedelica      PSV             2016   \n",
       "\n",
       "              genre  na_sales  eu_sales  jp_sales  other_sales  critic_score  \\\n",
       "0            Sports     41.36     28.96      3.77         8.45          76.0   \n",
       "1          Platform     29.08      3.58      6.81         0.77           NaN   \n",
       "2            Racing     15.68     12.76      3.79         3.29          82.0   \n",
       "3            Sports     15.61     10.93      3.28         2.95          80.0   \n",
       "4      Role-Playing     11.27      8.89     10.22         1.00           NaN   \n",
       "...             ...       ...       ...       ...          ...           ...   \n",
       "16705     Adventure      0.00      0.01      0.00         0.00          63.0   \n",
       "16707          Misc      0.00      0.00      0.01         0.00           NaN   \n",
       "16708      Platform      0.01      0.00      0.00         0.00           NaN   \n",
       "16711        Sports      0.00      0.01      0.00         0.00           NaN   \n",
       "16712     Adventure      0.00      0.00      0.01         0.00           NaN   \n",
       "\n",
       "       user_score   rating  total_sales  \n",
       "0             8.0        E        82.54  \n",
       "1             NaN  Unknown        40.24  \n",
       "2             8.3        E        35.52  \n",
       "3             8.0        E        32.77  \n",
       "4             NaN  Unknown        31.38  \n",
       "...           ...      ...          ...  \n",
       "16705         5.8  Unknown         0.01  \n",
       "16707         NaN  Unknown         0.01  \n",
       "16708         NaN  Unknown         0.01  \n",
       "16711         NaN  Unknown         0.01  \n",
       "16712         NaN  Unknown         0.01  \n",
       "\n",
       "[11425 rows x 12 columns]"
      ]
     },
     "execution_count": 37,
     "metadata": {},
     "output_type": "execute_result"
    }
   ],
   "source": [
    "data.loc[(data['platform']=='DS')&(data['year_of_release']<2000)]\n",
    "data.drop(index=15957)"
   ]
  },
  {
   "cell_type": "code",
   "execution_count": 38,
   "id": "a4f247ad",
   "metadata": {},
   "outputs": [
    {
     "data": {
      "text/plain": [
       "<AxesSubplot:title={'center':'DS_sales'}, xlabel='year_of_release', ylabel='total_sales'>"
      ]
     },
     "execution_count": 38,
     "metadata": {},
     "output_type": "execute_result"
    },
    {
     "data": {
      "image/png": "[encoded data removed]",
      "text/plain": [
       "<Figure size 432x288 with 1 Axes>"
      ]
     },
     "metadata": {
      "needs_background": "light"
     },
     "output_type": "display_data"
    }
   ],
   "source": [
    "name='DS'\n",
    "a = data.loc[(data['platform']==name)&(data['year_of_release']>2000)].pivot_table(index='year_of_release',values=['total_sales'],aggfunc=['sum'])\n",
    "a.columns= ['total_sales']\n",
    "# plt.ylabel('total_sales')\n",
    "a.plot(ylabel='total_sales',title=name+'_sales',grid=True,color='r',style='o-')\n"
   ]
  },
  {
   "cell_type": "code",
   "execution_count": 39,
   "id": "829a4b3c",
   "metadata": {},
   "outputs": [
    {
     "data": {
      "text/plain": [
       "(11426, 12)"
      ]
     },
     "execution_count": 39,
     "metadata": {},
     "output_type": "execute_result"
    }
   ],
   "source": [
    "data.shape"
   ]
  },
  {
   "cell_type": "code",
   "execution_count": 40,
   "id": "39c01e41",
   "metadata": {
    "scrolled": true
   },
   "outputs": [],
   "source": [
    "data = data.drop(15957)"
   ]
  },
  {
   "cell_type": "markdown",
   "id": "aa611006",
   "metadata": {},
   "source": [
    "В 2004 пошел выпуск игр, а значит и продажи пошли вверх. Опять же консоль просуществовала примерно 10 лет с 2004 по 2014."
   ]
  },
  {
   "cell_type": "code",
   "execution_count": 41,
   "id": "1e5266c2",
   "metadata": {},
   "outputs": [
    {
     "data": {
      "text/plain": [
       "<AxesSubplot:title={'center':'PS_sales'}, xlabel='year_of_release', ylabel='total_sales'>"
      ]
     },
     "execution_count": 41,
     "metadata": {},
     "output_type": "execute_result"
    },
    {
     "data": {
      "image/png": "[encoded data removed]",
      "text/plain": [
       "<Figure size 432x288 with 1 Axes>"
      ]
     },
     "metadata": {
      "needs_background": "light"
     },
     "output_type": "display_data"
    }
   ],
   "source": [
    "name='PS'\n",
    "a = data.loc[data['platform']==name].pivot_table(index='year_of_release',values=['total_sales'],aggfunc=['sum'])\n",
    "a.columns= ['total_sales']\n",
    "# plt.ylabel('total_sales')\n",
    "a.plot(ylabel='total_sales',title=name+'_sales',grid=True,color='r',style='o-')\n"
   ]
  },
  {
   "cell_type": "markdown",
   "id": "9b9b4f8a",
   "metadata": {},
   "source": [
    "Для PS картина примерно похожая как и для остальных консолей, игры выпускаются около 10 лет, пик приходится на 3-5 год существования консол, видимо как раз за это время собирают хорошие 3А проекты. Как у всех остальных консолей total_sales плавно стремится к нулю."
   ]
  },
  {
   "cell_type": "code",
   "execution_count": 42,
   "id": "5ecd6872",
   "metadata": {},
   "outputs": [
    {
     "data": {
      "text/plain": [
       "<AxesSubplot:title={'center':'PS4_sales'}, xlabel='year_of_release', ylabel='total_sales'>"
      ]
     },
     "execution_count": 42,
     "metadata": {},
     "output_type": "execute_result"
    },
    {
     "data": {
      "image/png": "[encoded data removed]",
      "text/plain": [
       "<Figure size 432x288 with 1 Axes>"
      ]
     },
     "metadata": {
      "needs_background": "light"
     },
     "output_type": "display_data"
    }
   ],
   "source": [
    "name='PS4'\n",
    "a = data.loc[data['platform']==name].pivot_table(index='year_of_release',values=['total_sales'],aggfunc=['sum'])\n",
    "a.columns= ['total_sales']\n",
    "# plt.ylabel('total_sales')\n",
    "a.plot(ylabel='total_sales',title=name+'_sales',grid=True,color='r',style='o-')\n"
   ]
  },
  {
   "cell_type": "markdown",
   "id": "c32416fd",
   "metadata": {},
   "source": [
    "Данных о консоли PS4 очень мало, потому что с выхода прошло только 3 года, поэтмоу скорее всего в 2015 был даже не пик популярности. Но несмотря на недавний выпуск консоли, она находится на достойном месте, особенно если сравнивать с остальными консолями, которые нахоядтся ниже в таблице."
   ]
  },
  {
   "cell_type": "code",
   "execution_count": 43,
   "id": "ff763e03",
   "metadata": {},
   "outputs": [
    {
     "data": {
      "text/plain": [
       "<AxesSubplot:title={'center':'GBA_sales'}, xlabel='year_of_release', ylabel='total_sales'>"
      ]
     },
     "execution_count": 43,
     "metadata": {},
     "output_type": "execute_result"
    },
    {
     "data": {
      "image/png": "[encoded data removed]",
      "text/plain": [
       "<Figure size 432x288 with 1 Axes>"
      ]
     },
     "metadata": {
      "needs_background": "light"
     },
     "output_type": "display_data"
    }
   ],
   "source": [
    "name='GBA'\n",
    "a = data.loc[data['platform']==name].pivot_table(index='year_of_release',values=['total_sales'],aggfunc=['sum'])\n",
    "a.columns= ['total_sales']\n",
    "# plt.ylabel('total_sales')\n",
    "a.plot(ylabel='total_sales',title=name+'_sales',grid=True,color='r',style='o-')\n"
   ]
  },
  {
   "cell_type": "markdown",
   "id": "1a8e3f9a",
   "metadata": {},
   "source": [
    "Данная консоль немного выбивается из общей картины потому что игры выходили всего 7 лет, в первый год продажи были почти равны нулю, но в 2001 она почти сразу добралась до пика."
   ]
  },
  {
   "cell_type": "code",
   "execution_count": 44,
   "id": "5a3d9759",
   "metadata": {},
   "outputs": [
    {
     "data": {
      "text/html": [
       "<div>\n",
       "<style scoped>\n",
       "    .dataframe tbody tr th:only-of-type {\n",
       "        vertical-align: middle;\n",
       "    }\n",
       "\n",
       "    .dataframe tbody tr th {\n",
       "        vertical-align: top;\n",
       "    }\n",
       "\n",
       "    .dataframe thead th {\n",
       "        text-align: right;\n",
       "    }\n",
       "</style>\n",
       "<table border=\"1\" class=\"dataframe\">\n",
       "  <thead>\n",
       "    <tr style=\"text-align: right;\">\n",
       "      <th></th>\n",
       "      <th>name</th>\n",
       "      <th>platform</th>\n",
       "      <th>year_of_release</th>\n",
       "      <th>genre</th>\n",
       "      <th>na_sales</th>\n",
       "      <th>eu_sales</th>\n",
       "      <th>jp_sales</th>\n",
       "      <th>other_sales</th>\n",
       "      <th>critic_score</th>\n",
       "      <th>user_score</th>\n",
       "      <th>rating</th>\n",
       "      <th>total_sales</th>\n",
       "    </tr>\n",
       "  </thead>\n",
       "  <tbody>\n",
       "    <tr>\n",
       "      <th>85</th>\n",
       "      <td>The Sims 3</td>\n",
       "      <td>PC</td>\n",
       "      <td>2009</td>\n",
       "      <td>Simulation</td>\n",
       "      <td>0.99</td>\n",
       "      <td>6.42</td>\n",
       "      <td>0.0</td>\n",
       "      <td>0.60</td>\n",
       "      <td>86.0</td>\n",
       "      <td>7.6</td>\n",
       "      <td>T</td>\n",
       "      <td>8.01</td>\n",
       "    </tr>\n",
       "    <tr>\n",
       "      <th>138</th>\n",
       "      <td>World of Warcraft</td>\n",
       "      <td>PC</td>\n",
       "      <td>2004</td>\n",
       "      <td>Role-Playing</td>\n",
       "      <td>0.08</td>\n",
       "      <td>6.21</td>\n",
       "      <td>0.0</td>\n",
       "      <td>0.00</td>\n",
       "      <td>93.0</td>\n",
       "      <td>7.3</td>\n",
       "      <td>T</td>\n",
       "      <td>6.29</td>\n",
       "    </tr>\n",
       "    <tr>\n",
       "      <th>192</th>\n",
       "      <td>Diablo III</td>\n",
       "      <td>PC</td>\n",
       "      <td>2012</td>\n",
       "      <td>Role-Playing</td>\n",
       "      <td>2.44</td>\n",
       "      <td>2.16</td>\n",
       "      <td>0.0</td>\n",
       "      <td>0.54</td>\n",
       "      <td>88.0</td>\n",
       "      <td>4.0</td>\n",
       "      <td>M</td>\n",
       "      <td>5.14</td>\n",
       "    </tr>\n",
       "    <tr>\n",
       "      <th>195</th>\n",
       "      <td>Microsoft Flight Simulator</td>\n",
       "      <td>PC</td>\n",
       "      <td>1996</td>\n",
       "      <td>Simulation</td>\n",
       "      <td>3.22</td>\n",
       "      <td>1.69</td>\n",
       "      <td>0.0</td>\n",
       "      <td>0.20</td>\n",
       "      <td>NaN</td>\n",
       "      <td>NaN</td>\n",
       "      <td>Unknown</td>\n",
       "      <td>5.11</td>\n",
       "    </tr>\n",
       "    <tr>\n",
       "      <th>218</th>\n",
       "      <td>StarCraft II: Wings of Liberty</td>\n",
       "      <td>PC</td>\n",
       "      <td>2010</td>\n",
       "      <td>Strategy</td>\n",
       "      <td>2.57</td>\n",
       "      <td>1.68</td>\n",
       "      <td>0.0</td>\n",
       "      <td>0.58</td>\n",
       "      <td>93.0</td>\n",
       "      <td>8.2</td>\n",
       "      <td>T</td>\n",
       "      <td>4.83</td>\n",
       "    </tr>\n",
       "    <tr>\n",
       "      <th>...</th>\n",
       "      <td>...</td>\n",
       "      <td>...</td>\n",
       "      <td>...</td>\n",
       "      <td>...</td>\n",
       "      <td>...</td>\n",
       "      <td>...</td>\n",
       "      <td>...</td>\n",
       "      <td>...</td>\n",
       "      <td>...</td>\n",
       "      <td>...</td>\n",
       "      <td>...</td>\n",
       "      <td>...</td>\n",
       "    </tr>\n",
       "    <tr>\n",
       "      <th>16678</th>\n",
       "      <td>End of Nations</td>\n",
       "      <td>PC</td>\n",
       "      <td>2012</td>\n",
       "      <td>Strategy</td>\n",
       "      <td>0.01</td>\n",
       "      <td>0.00</td>\n",
       "      <td>0.0</td>\n",
       "      <td>0.00</td>\n",
       "      <td>NaN</td>\n",
       "      <td>NaN</td>\n",
       "      <td>T</td>\n",
       "      <td>0.01</td>\n",
       "    </tr>\n",
       "    <tr>\n",
       "      <th>16681</th>\n",
       "      <td>Worms 2</td>\n",
       "      <td>PC</td>\n",
       "      <td>1997</td>\n",
       "      <td>Strategy</td>\n",
       "      <td>0.00</td>\n",
       "      <td>0.01</td>\n",
       "      <td>0.0</td>\n",
       "      <td>0.00</td>\n",
       "      <td>NaN</td>\n",
       "      <td>8.1</td>\n",
       "      <td>K-A</td>\n",
       "      <td>0.01</td>\n",
       "    </tr>\n",
       "    <tr>\n",
       "      <th>16696</th>\n",
       "      <td>Breach</td>\n",
       "      <td>PC</td>\n",
       "      <td>2011</td>\n",
       "      <td>Shooter</td>\n",
       "      <td>0.01</td>\n",
       "      <td>0.00</td>\n",
       "      <td>0.0</td>\n",
       "      <td>0.00</td>\n",
       "      <td>61.0</td>\n",
       "      <td>5.8</td>\n",
       "      <td>T</td>\n",
       "      <td>0.01</td>\n",
       "    </tr>\n",
       "    <tr>\n",
       "      <th>16702</th>\n",
       "      <td>STORM: Frontline Nation</td>\n",
       "      <td>PC</td>\n",
       "      <td>2011</td>\n",
       "      <td>Strategy</td>\n",
       "      <td>0.00</td>\n",
       "      <td>0.01</td>\n",
       "      <td>0.0</td>\n",
       "      <td>0.00</td>\n",
       "      <td>60.0</td>\n",
       "      <td>7.2</td>\n",
       "      <td>E10+</td>\n",
       "      <td>0.01</td>\n",
       "    </tr>\n",
       "    <tr>\n",
       "      <th>16705</th>\n",
       "      <td>15 Days</td>\n",
       "      <td>PC</td>\n",
       "      <td>2009</td>\n",
       "      <td>Adventure</td>\n",
       "      <td>0.00</td>\n",
       "      <td>0.01</td>\n",
       "      <td>0.0</td>\n",
       "      <td>0.00</td>\n",
       "      <td>63.0</td>\n",
       "      <td>5.8</td>\n",
       "      <td>Unknown</td>\n",
       "      <td>0.01</td>\n",
       "    </tr>\n",
       "  </tbody>\n",
       "</table>\n",
       "<p>508 rows × 12 columns</p>\n",
       "</div>"
      ],
      "text/plain": [
       "                                 name platform  year_of_release         genre  \\\n",
       "85                         The Sims 3       PC             2009    Simulation   \n",
       "138                 World of Warcraft       PC             2004  Role-Playing   \n",
       "192                        Diablo III       PC             2012  Role-Playing   \n",
       "195        Microsoft Flight Simulator       PC             1996    Simulation   \n",
       "218    StarCraft II: Wings of Liberty       PC             2010      Strategy   \n",
       "...                               ...      ...              ...           ...   \n",
       "16678                  End of Nations       PC             2012      Strategy   \n",
       "16681                         Worms 2       PC             1997      Strategy   \n",
       "16696                          Breach       PC             2011       Shooter   \n",
       "16702         STORM: Frontline Nation       PC             2011      Strategy   \n",
       "16705                         15 Days       PC             2009     Adventure   \n",
       "\n",
       "       na_sales  eu_sales  jp_sales  other_sales  critic_score  user_score  \\\n",
       "85         0.99      6.42       0.0         0.60          86.0         7.6   \n",
       "138        0.08      6.21       0.0         0.00          93.0         7.3   \n",
       "192        2.44      2.16       0.0         0.54          88.0         4.0   \n",
       "195        3.22      1.69       0.0         0.20           NaN         NaN   \n",
       "218        2.57      1.68       0.0         0.58          93.0         8.2   \n",
       "...         ...       ...       ...          ...           ...         ...   \n",
       "16678      0.01      0.00       0.0         0.00           NaN         NaN   \n",
       "16681      0.00      0.01       0.0         0.00           NaN         8.1   \n",
       "16696      0.01      0.00       0.0         0.00          61.0         5.8   \n",
       "16702      0.00      0.01       0.0         0.00          60.0         7.2   \n",
       "16705      0.00      0.01       0.0         0.00          63.0         5.8   \n",
       "\n",
       "        rating  total_sales  \n",
       "85           T         8.01  \n",
       "138          T         6.29  \n",
       "192          M         5.14  \n",
       "195    Unknown         5.11  \n",
       "218          T         4.83  \n",
       "...        ...          ...  \n",
       "16678        T         0.01  \n",
       "16681      K-A         0.01  \n",
       "16696        T         0.01  \n",
       "16702     E10+         0.01  \n",
       "16705  Unknown         0.01  \n",
       "\n",
       "[508 rows x 12 columns]"
      ]
     },
     "execution_count": 44,
     "metadata": {},
     "output_type": "execute_result"
    }
   ],
   "source": [
    "data.loc[data['platform']=='PC']"
   ]
  },
  {
   "cell_type": "code",
   "execution_count": 45,
   "id": "63b83b20",
   "metadata": {},
   "outputs": [
    {
     "data": {
      "text/plain": [
       "<AxesSubplot:title={'center':'PC_sales'}, xlabel='year_of_release', ylabel='total_sales'>"
      ]
     },
     "execution_count": 45,
     "metadata": {},
     "output_type": "execute_result"
    },
    {
     "data": {
      "image/png": "[encoded data removed]",
      "text/plain": [
       "<Figure size 432x288 with 1 Axes>"
      ]
     },
     "metadata": {
      "needs_background": "light"
     },
     "output_type": "display_data"
    }
   ],
   "source": [
    "name='PC'\n",
    "a = data.loc[data['platform']==name].pivot_table(index='year_of_release',values=['total_sales'],aggfunc=['sum'])\n",
    "a.columns = ['total_sales']\n",
    "# plt.ylabel('total_sales')\n",
    "a.plot(ylabel='total_sales',title=name+'_sales',grid=True,color='r',style='o-')\n"
   ]
  },
  {
   "cell_type": "markdown",
   "id": "63b37f30",
   "metadata": {},
   "source": [
    "Интересно было посмотреть как с продажами игры у компиков, получаетсе у них нет какой явной зависимости, а продажи в сравнении с консолями совсем маленькие, думаю это может быть связано с тем, что далеко не у каждого компьютер может потянуть игру, а консоли они сразу идут такие, что все игры, которые будут на эти консоли выходить, будут рботать у всех одинаково.\n"
   ]
  },
  {
   "cell_type": "markdown",
   "id": "895bb26a",
   "metadata": {},
   "source": [
    "Для понимания общей картины этого будет достаточно.\n",
    "\n",
    "Итого, консоли получает поддержку в виде выходящих игр примрно 10 лет, после чего перестают выходить, так как появляются более интересные и мощне платформы."
   ]
  },
  {
   "cell_type": "markdown",
   "id": "a7bddfb1",
   "metadata": {},
   "source": [
    "### Взять данные за актуальны период времени"
   ]
  },
  {
   "cell_type": "code",
   "execution_count": 46,
   "id": "29a98927",
   "metadata": {},
   "outputs": [
    {
     "data": {
      "text/html": [
       "<div>\n",
       "<style scoped>\n",
       "    .dataframe tbody tr th:only-of-type {\n",
       "        vertical-align: middle;\n",
       "    }\n",
       "\n",
       "    .dataframe tbody tr th {\n",
       "        vertical-align: top;\n",
       "    }\n",
       "\n",
       "    .dataframe thead th {\n",
       "        text-align: right;\n",
       "    }\n",
       "</style>\n",
       "<table border=\"1\" class=\"dataframe\">\n",
       "  <thead>\n",
       "    <tr style=\"text-align: right;\">\n",
       "      <th></th>\n",
       "      <th>total_sales_sum</th>\n",
       "      <th>year_of_release_min</th>\n",
       "      <th>year_of_release_max</th>\n",
       "    </tr>\n",
       "    <tr>\n",
       "      <th>platform</th>\n",
       "      <th></th>\n",
       "      <th></th>\n",
       "      <th></th>\n",
       "    </tr>\n",
       "  </thead>\n",
       "  <tbody>\n",
       "    <tr>\n",
       "      <th>PS2</th>\n",
       "      <td>1121.07</td>\n",
       "      <td>2000</td>\n",
       "      <td>2011</td>\n",
       "    </tr>\n",
       "    <tr>\n",
       "      <th>Wii</th>\n",
       "      <td>769.65</td>\n",
       "      <td>2006</td>\n",
       "      <td>2016</td>\n",
       "    </tr>\n",
       "    <tr>\n",
       "      <th>PS</th>\n",
       "      <td>697.10</td>\n",
       "      <td>1994</td>\n",
       "      <td>2003</td>\n",
       "    </tr>\n",
       "    <tr>\n",
       "      <th>DS</th>\n",
       "      <td>690.87</td>\n",
       "      <td>2004</td>\n",
       "      <td>2013</td>\n",
       "    </tr>\n",
       "    <tr>\n",
       "      <th>X360</th>\n",
       "      <td>569.68</td>\n",
       "      <td>2005</td>\n",
       "      <td>2016</td>\n",
       "    </tr>\n",
       "    <tr>\n",
       "      <th>PS3</th>\n",
       "      <td>524.88</td>\n",
       "      <td>2006</td>\n",
       "      <td>2016</td>\n",
       "    </tr>\n",
       "    <tr>\n",
       "      <th>PS4</th>\n",
       "      <td>255.01</td>\n",
       "      <td>2013</td>\n",
       "      <td>2016</td>\n",
       "    </tr>\n",
       "    <tr>\n",
       "      <th>GBA</th>\n",
       "      <td>242.69</td>\n",
       "      <td>2000</td>\n",
       "      <td>2007</td>\n",
       "    </tr>\n",
       "    <tr>\n",
       "      <th>NES</th>\n",
       "      <td>234.59</td>\n",
       "      <td>1983</td>\n",
       "      <td>1994</td>\n",
       "    </tr>\n",
       "    <tr>\n",
       "      <th>GB</th>\n",
       "      <td>233.85</td>\n",
       "      <td>1989</td>\n",
       "      <td>2001</td>\n",
       "    </tr>\n",
       "    <tr>\n",
       "      <th>3DS</th>\n",
       "      <td>228.10</td>\n",
       "      <td>2011</td>\n",
       "      <td>2016</td>\n",
       "    </tr>\n",
       "    <tr>\n",
       "      <th>PSP</th>\n",
       "      <td>206.16</td>\n",
       "      <td>2004</td>\n",
       "      <td>2015</td>\n",
       "    </tr>\n",
       "    <tr>\n",
       "      <th>SNES</th>\n",
       "      <td>195.91</td>\n",
       "      <td>1990</td>\n",
       "      <td>1999</td>\n",
       "    </tr>\n",
       "    <tr>\n",
       "      <th>N64</th>\n",
       "      <td>189.63</td>\n",
       "      <td>1996</td>\n",
       "      <td>2001</td>\n",
       "    </tr>\n",
       "    <tr>\n",
       "      <th>PC</th>\n",
       "      <td>174.18</td>\n",
       "      <td>1985</td>\n",
       "      <td>2016</td>\n",
       "    </tr>\n",
       "    <tr>\n",
       "      <th>GC</th>\n",
       "      <td>112.26</td>\n",
       "      <td>2001</td>\n",
       "      <td>2006</td>\n",
       "    </tr>\n",
       "    <tr>\n",
       "      <th>XB</th>\n",
       "      <td>105.81</td>\n",
       "      <td>2000</td>\n",
       "      <td>2006</td>\n",
       "    </tr>\n",
       "    <tr>\n",
       "      <th>2600</th>\n",
       "      <td>78.21</td>\n",
       "      <td>1980</td>\n",
       "      <td>1989</td>\n",
       "    </tr>\n",
       "    <tr>\n",
       "      <th>WiiU</th>\n",
       "      <td>53.95</td>\n",
       "      <td>2012</td>\n",
       "      <td>2016</td>\n",
       "    </tr>\n",
       "    <tr>\n",
       "      <th>PSV</th>\n",
       "      <td>32.61</td>\n",
       "      <td>2011</td>\n",
       "      <td>2016</td>\n",
       "    </tr>\n",
       "    <tr>\n",
       "      <th>XOne</th>\n",
       "      <td>31.82</td>\n",
       "      <td>2013</td>\n",
       "      <td>2016</td>\n",
       "    </tr>\n",
       "    <tr>\n",
       "      <th>SAT</th>\n",
       "      <td>29.68</td>\n",
       "      <td>1994</td>\n",
       "      <td>1998</td>\n",
       "    </tr>\n",
       "    <tr>\n",
       "      <th>GEN</th>\n",
       "      <td>22.77</td>\n",
       "      <td>1990</td>\n",
       "      <td>1994</td>\n",
       "    </tr>\n",
       "    <tr>\n",
       "      <th>DC</th>\n",
       "      <td>12.98</td>\n",
       "      <td>1998</td>\n",
       "      <td>2008</td>\n",
       "    </tr>\n",
       "    <tr>\n",
       "      <th>SCD</th>\n",
       "      <td>1.86</td>\n",
       "      <td>1993</td>\n",
       "      <td>1994</td>\n",
       "    </tr>\n",
       "    <tr>\n",
       "      <th>NG</th>\n",
       "      <td>1.11</td>\n",
       "      <td>1993</td>\n",
       "      <td>1996</td>\n",
       "    </tr>\n",
       "    <tr>\n",
       "      <th>WS</th>\n",
       "      <td>0.66</td>\n",
       "      <td>1999</td>\n",
       "      <td>2001</td>\n",
       "    </tr>\n",
       "    <tr>\n",
       "      <th>TG16</th>\n",
       "      <td>0.16</td>\n",
       "      <td>1995</td>\n",
       "      <td>1995</td>\n",
       "    </tr>\n",
       "    <tr>\n",
       "      <th>3DO</th>\n",
       "      <td>0.10</td>\n",
       "      <td>1994</td>\n",
       "      <td>1995</td>\n",
       "    </tr>\n",
       "    <tr>\n",
       "      <th>GG</th>\n",
       "      <td>0.04</td>\n",
       "      <td>1992</td>\n",
       "      <td>1992</td>\n",
       "    </tr>\n",
       "    <tr>\n",
       "      <th>PCFX</th>\n",
       "      <td>0.03</td>\n",
       "      <td>1996</td>\n",
       "      <td>1996</td>\n",
       "    </tr>\n",
       "  </tbody>\n",
       "</table>\n",
       "</div>"
      ],
      "text/plain": [
       "          total_sales_sum  year_of_release_min  year_of_release_max\n",
       "platform                                                           \n",
       "PS2               1121.07                 2000                 2011\n",
       "Wii                769.65                 2006                 2016\n",
       "PS                 697.10                 1994                 2003\n",
       "DS                 690.87                 2004                 2013\n",
       "X360               569.68                 2005                 2016\n",
       "PS3                524.88                 2006                 2016\n",
       "PS4                255.01                 2013                 2016\n",
       "GBA                242.69                 2000                 2007\n",
       "NES                234.59                 1983                 1994\n",
       "GB                 233.85                 1989                 2001\n",
       "3DS                228.10                 2011                 2016\n",
       "PSP                206.16                 2004                 2015\n",
       "SNES               195.91                 1990                 1999\n",
       "N64                189.63                 1996                 2001\n",
       "PC                 174.18                 1985                 2016\n",
       "GC                 112.26                 2001                 2006\n",
       "XB                 105.81                 2000                 2006\n",
       "2600                78.21                 1980                 1989\n",
       "WiiU                53.95                 2012                 2016\n",
       "PSV                 32.61                 2011                 2016\n",
       "XOne                31.82                 2013                 2016\n",
       "SAT                 29.68                 1994                 1998\n",
       "GEN                 22.77                 1990                 1994\n",
       "DC                  12.98                 1998                 2008\n",
       "SCD                  1.86                 1993                 1994\n",
       "NG                   1.11                 1993                 1996\n",
       "WS                   0.66                 1999                 2001\n",
       "TG16                 0.16                 1995                 1995\n",
       "3DO                  0.10                 1994                 1995\n",
       "GG                   0.04                 1992                 1992\n",
       "PCFX                 0.03                 1996                 1996"
      ]
     },
     "execution_count": 46,
     "metadata": {},
     "output_type": "execute_result"
    }
   ],
   "source": [
    "data_buf = data.pivot_table(index='platform', values=['total_sales','year_of_release'],aggfunc={'total_sales':'sum', \n",
    "                                                                                                'year_of_release':['min', 'max']})\n",
    "data_buf.columns = ['total_sales_sum','year_of_release_max','year_of_release_min']\n",
    "\n",
    "data_buf = data_buf[['total_sales_sum','year_of_release_min', 'year_of_release_max']].sort_values(by='total_sales_sum',ascending=False)\n",
    "data_buf"
   ]
  },
  {
   "cell_type": "markdown",
   "id": "aacdfe27",
   "metadata": {},
   "source": [
    "Самое разумное это взять консоли которые были выпущены не раньше 2010 года."
   ]
  },
  {
   "cell_type": "markdown",
   "id": "492df43b",
   "metadata": {},
   "source": [
    "### Какие платформы лидируют по продажам, растут или падают, выберем несколько "
   ]
  },
  {
   "cell_type": "markdown",
   "id": "d964ddfe",
   "metadata": {},
   "source": [
    "Рассмотрим платформы из прошлого пукта"
   ]
  },
  {
   "cell_type": "code",
   "execution_count": 47,
   "id": "61c69b1b",
   "metadata": {},
   "outputs": [
    {
     "data": {
      "text/html": [
       "<div>\n",
       "<style scoped>\n",
       "    .dataframe tbody tr th:only-of-type {\n",
       "        vertical-align: middle;\n",
       "    }\n",
       "\n",
       "    .dataframe tbody tr th {\n",
       "        vertical-align: top;\n",
       "    }\n",
       "\n",
       "    .dataframe thead th {\n",
       "        text-align: right;\n",
       "    }\n",
       "</style>\n",
       "<table border=\"1\" class=\"dataframe\">\n",
       "  <thead>\n",
       "    <tr style=\"text-align: right;\">\n",
       "      <th></th>\n",
       "      <th>total_sales_sum</th>\n",
       "      <th>year_of_release_min</th>\n",
       "      <th>year_of_release_max</th>\n",
       "    </tr>\n",
       "    <tr>\n",
       "      <th>platform</th>\n",
       "      <th></th>\n",
       "      <th></th>\n",
       "      <th></th>\n",
       "    </tr>\n",
       "  </thead>\n",
       "  <tbody>\n",
       "    <tr>\n",
       "      <th>PS4</th>\n",
       "      <td>255.01</td>\n",
       "      <td>2013</td>\n",
       "      <td>2016</td>\n",
       "    </tr>\n",
       "    <tr>\n",
       "      <th>XOne</th>\n",
       "      <td>31.82</td>\n",
       "      <td>2013</td>\n",
       "      <td>2016</td>\n",
       "    </tr>\n",
       "  </tbody>\n",
       "</table>\n",
       "</div>"
      ],
      "text/plain": [
       "          total_sales_sum  year_of_release_min  year_of_release_max\n",
       "platform                                                           \n",
       "PS4                255.01                 2013                 2016\n",
       "XOne                31.82                 2013                 2016"
      ]
     },
     "execution_count": 47,
     "metadata": {},
     "output_type": "execute_result"
    }
   ],
   "source": [
    "data_buf.loc[(data_buf['year_of_release_min'] >= 2013)]"
   ]
  },
  {
   "cell_type": "markdown",
   "id": "fab69981",
   "metadata": {},
   "source": [
    "Перед нами список платформ, которые еще развиваются и на которые еще выходят игры. По сути у них еще впереди и они должны \"пожить\" еще около 5 лет."
   ]
  },
  {
   "cell_type": "markdown",
   "id": "9aa46fd6",
   "metadata": {},
   "source": [
    "### график «ящик с усами» по глобальным продажам игр в разбивке по платформам."
   ]
  },
  {
   "cell_type": "code",
   "execution_count": 48,
   "id": "e7c962b3",
   "metadata": {},
   "outputs": [],
   "source": [
    "import matplotlib.pyplot as plt"
   ]
  },
  {
   "cell_type": "code",
   "execution_count": 49,
   "id": "7a4fc2d2",
   "metadata": {
    "scrolled": false
   },
   "outputs": [
    {
     "data": {
      "image/png": "[encoded data removed]",
      "text/plain": [
       "<Figure size 1440x1440 with 4 Axes>"
      ]
     },
     "metadata": {
      "needs_background": "light"
     },
     "output_type": "display_data"
    }
   ],
   "source": [
    "# Настройка размеров подложки\n",
    "plt.figure(figsize=(20, 20))\n",
    "# Вывод графиков\n",
    "names = ['PS4', 'XOne', 'WiiU', 'PC']\n",
    "for i in range(len(names)):\n",
    "    plt.subplot(2, 2, i+1)\n",
    "    plt.ylim(-1,4)\n",
    "    plt.title(names[i])\n",
    "    plt.grid()\n",
    "    plt.ylabel('million copies')\n",
    "    plt.boxplot(data.loc[data['platform']==names[i],'total_sales']);"
   ]
  },
  {
   "cell_type": "code",
   "execution_count": 50,
   "id": "7147c10e",
   "metadata": {
    "scrolled": false
   },
   "outputs": [],
   "source": [
    "# names = ['PS4', 'XOne', 'WiiU', 'PC']\n",
    "# for name in names:\n",
    "#     data.loc[data['platform']==name,'total_sales'].plot(kind='box',title=name,ylabel='millions copies',grid=True, ylim=(-1,4));\n",
    "#     plt.show()\n"
   ]
  },
  {
   "cell_type": "markdown",
   "id": "05de9775",
   "metadata": {},
   "source": [
    "Как мы видим, для каждой игры, для абсолютно каждой платформы, есть игры, продажи которых на основном фоне выглядят как выбросы и аномали, но очевидно, что если игра была невероятно успшно, то это не совсем корректно назвать выбросом, поэтмоу в данной ситуации нельзя удалять или заменять эти выбросы."
   ]
  },
  {
   "cell_type": "markdown",
   "id": "56d6cc1c",
   "metadata": {},
   "source": [
    "### как влияют на продажи внутри одной популярной платформы отзывы пользователей и критиков."
   ]
  },
  {
   "cell_type": "markdown",
   "id": "e456a7a4",
   "metadata": {},
   "source": [
    "Построим диаграмму рассеяния для двух популярных консолей, почему для двух сейчас объясню, пержде всего, за все время самой популярной консолью была ps2, а сейчас(на 2016 год) самой популярной является ps4, поэтому посмотрим как раньше и сейчас влияет отзывы пользователей и критиков на количество покупок."
   ]
  },
  {
   "cell_type": "markdown",
   "id": "4973324a",
   "metadata": {},
   "source": [
    "**PS2**"
   ]
  },
  {
   "cell_type": "code",
   "execution_count": 51,
   "id": "48f0aab0",
   "metadata": {},
   "outputs": [
    {
     "data": {
      "image/png": "[encoded data removed]",
      "text/plain": [
       "<Figure size 432x288 with 1 Axes>"
      ]
     },
     "metadata": {
      "needs_background": "light"
     },
     "output_type": "display_data"
    }
   ],
   "source": [
    "data.loc[data['platform']=='PS2'].plot(kind='scatter', x='user_score', y='total_sales',title='PS2 sales from users score',grid=True);"
   ]
  },
  {
   "cell_type": "markdown",
   "id": "b6ce64ca",
   "metadata": {},
   "source": [
    "Связь присутствует, но совсем незначительная, можно сказать, что это погрешность"
   ]
  },
  {
   "cell_type": "code",
   "execution_count": 52,
   "id": "44c0d555",
   "metadata": {},
   "outputs": [
    {
     "data": {
      "image/png": "[encoded data removed]",
      "text/plain": [
       "<Figure size 432x288 with 1 Axes>"
      ]
     },
     "metadata": {
      "needs_background": "light"
     },
     "output_type": "display_data"
    }
   ],
   "source": [
    "ps2 = data.loc[data['platform']=='PS2']\n",
    "ps2.plot(kind='scatter', x='critic_score', y='total_sales',title='PS2 sales from critic score',grid=True);"
   ]
  },
  {
   "cell_type": "markdown",
   "id": "7b0d5906",
   "metadata": {},
   "source": [
    "Можно сказать, что тоже прослеживается какая-то связь, даже более сильная чем от оценок пользователей, но все равно она трудно уловимая."
   ]
  },
  {
   "cell_type": "code",
   "execution_count": 53,
   "id": "039d0675",
   "metadata": {},
   "outputs": [
    {
     "data": {
      "text/plain": [
       "critic_score    0.395352\n",
       "user_score      0.181132\n",
       "Name: total_sales, dtype: float64"
      ]
     },
     "execution_count": 53,
     "metadata": {},
     "output_type": "execute_result"
    }
   ],
   "source": [
    "ps2.corr()['total_sales'][['critic_score','user_score']]"
   ]
  },
  {
   "cell_type": "markdown",
   "id": "9c70c488",
   "metadata": {},
   "source": [
    "Как мы видим, действительно, положительная линейная связь просматривается, но для user_score она совсем слаба, а для critic_score умеренна."
   ]
  },
  {
   "cell_type": "markdown",
   "id": "96ce9aec",
   "metadata": {},
   "source": [
    "**PS4**"
   ]
  },
  {
   "cell_type": "code",
   "execution_count": 54,
   "id": "fa8d25df",
   "metadata": {},
   "outputs": [
    {
     "data": {
      "image/png": "[encoded data removed]",
      "text/plain": [
       "<Figure size 432x288 with 1 Axes>"
      ]
     },
     "metadata": {
      "needs_background": "light"
     },
     "output_type": "display_data"
    }
   ],
   "source": [
    "data.loc[data['platform']=='PS4'].plot(kind='scatter', x='user_score', y='total_sales',title='PS4 sales from users score',grid=True);"
   ]
  },
  {
   "cell_type": "markdown",
   "id": "415fd70a",
   "metadata": {},
   "source": [
    "связь никакая практически не просматривается"
   ]
  },
  {
   "cell_type": "code",
   "execution_count": 55,
   "id": "c0ff9fa1",
   "metadata": {},
   "outputs": [
    {
     "data": {
      "image/png": "[encoded data removed]",
      "text/plain": [
       "<Figure size 432x288 with 1 Axes>"
      ]
     },
     "metadata": {
      "needs_background": "light"
     },
     "output_type": "display_data"
    }
   ],
   "source": [
    "data.loc[data['platform']=='PS4'].plot(kind='scatter', x='critic_score', y='total_sales',title='PS4 sales from users score',grid=True);"
   ]
  },
  {
   "cell_type": "code",
   "execution_count": null,
   "id": "ee01bf6a",
   "metadata": {},
   "outputs": [],
   "source": []
  },
  {
   "cell_type": "code",
   "execution_count": 56,
   "id": "02069839",
   "metadata": {},
   "outputs": [
    {
     "data": {
      "text/plain": [
       "critic_score    0.418959\n",
       "user_score     -0.046670\n",
       "Name: total_sales, dtype: float64"
      ]
     },
     "execution_count": 56,
     "metadata": {},
     "output_type": "execute_result"
    }
   ],
   "source": [
    "ps4 = data.loc[data['platform'] == 'PS4']\n",
    "ps4.corr()['total_sales'][['critic_score','user_score']]"
   ]
  },
  {
   "cell_type": "markdown",
   "id": "6d776b60",
   "metadata": {},
   "source": [
    "Как видим, у user_score малая отрицательная линейная связь, а у critic_score умеренная положительная линейная зависимость "
   ]
  },
  {
   "cell_type": "markdown",
   "id": "131d9b24",
   "metadata": {},
   "source": [
    "Выводы можно сделать такие:\n",
    "- связь количества продаж и отзывы пользователей не существует или существует совсем маленькая.\n",
    "- связь количества продаж и отзывов критиков наблюдается, она умеренная, что просматриваец и на графике и с помощью коэффициента корреляции."
   ]
  },
  {
   "cell_type": "markdown",
   "id": "d02a97fb",
   "metadata": {},
   "source": [
    "### Соотнесите выводы с продажами игр на других платформах"
   ]
  },
  {
   "cell_type": "markdown",
   "id": "d2f5ab6f",
   "metadata": {},
   "source": [
    "Рассмотрим коэффициенты корреляции для нескольких других развивающихся платформ"
   ]
  },
  {
   "cell_type": "markdown",
   "id": "1e4553e5",
   "metadata": {},
   "source": [
    "PS4 добавил для наглядности"
   ]
  },
  {
   "cell_type": "code",
   "execution_count": 57,
   "id": "729b2383",
   "metadata": {},
   "outputs": [
    {
     "data": {
      "text/plain": [
       "critic_score    0.418959\n",
       "user_score     -0.046670\n",
       "Name: total_sales, dtype: float64"
      ]
     },
     "execution_count": 57,
     "metadata": {},
     "output_type": "execute_result"
    }
   ],
   "source": [
    "data.loc[(data['platform']=='PS4')&(data['year_of_release']>=2013)].corr()['total_sales'][['critic_score','user_score']]"
   ]
  },
  {
   "cell_type": "code",
   "execution_count": 58,
   "id": "68f74fc4",
   "metadata": {},
   "outputs": [
    {
     "data": {
      "text/plain": [
       "critic_score    0.518354\n",
       "user_score      0.120972\n",
       "Name: total_sales, dtype: float64"
      ]
     },
     "execution_count": 58,
     "metadata": {},
     "output_type": "execute_result"
    }
   ],
   "source": [
    "data.loc[(data['platform']=='XOne')&(data['year_of_release']>=2013)].corr()['total_sales'][['critic_score','user_score']]"
   ]
  },
  {
   "cell_type": "code",
   "execution_count": 59,
   "id": "79f5703e",
   "metadata": {},
   "outputs": [
    {
     "data": {
      "text/plain": [
       "critic_score    0.085947\n",
       "user_score     -0.309672\n",
       "Name: total_sales, dtype: float64"
      ]
     },
     "execution_count": 59,
     "metadata": {},
     "output_type": "execute_result"
    }
   ],
   "source": [
    "data.loc[(data['platform']=='PC')&(data['year_of_release']>=2013)].corr()['total_sales'][['critic_score','user_score']]"
   ]
  },
  {
   "cell_type": "markdown",
   "id": "b1bebb44",
   "metadata": {},
   "source": [
    "Интересный результат, получается, что для некоторых платформ связь оценок пользователей и общих продаж является умеренной.\n",
    "\n",
    "А связь оценок критиков и продаж везде примерно равна 0.4"
   ]
  },
  {
   "cell_type": "markdown",
   "id": "a47ff6c2",
   "metadata": {},
   "source": [
    "### общее распределение игр по жанрам"
   ]
  },
  {
   "cell_type": "code",
   "execution_count": 60,
   "id": "afa1814d",
   "metadata": {},
   "outputs": [
    {
     "data": {
      "text/plain": [
       "<AxesSubplot:>"
      ]
     },
     "execution_count": 60,
     "metadata": {},
     "output_type": "execute_result"
    },
    {
     "data": {
      "image/png": "[encoded data removed]",
      "text/plain": [
       "<Figure size 432x288 with 1 Axes>"
      ]
     },
     "metadata": {
      "needs_background": "light"
     },
     "output_type": "display_data"
    }
   ],
   "source": [
    "data['genre'].value_counts().plot(kind='bar')"
   ]
  },
  {
   "cell_type": "markdown",
   "id": "afd50763",
   "metadata": {},
   "source": [
    "Больше всего игр жанра Action, а меньше всего игр жанр puzzle"
   ]
  },
  {
   "cell_type": "code",
   "execution_count": 61,
   "id": "9e9cca2a",
   "metadata": {},
   "outputs": [
    {
     "data": {
      "image/png": "[encoded data removed]",
      "text/plain": [
       "<Figure size 504x504 with 1 Axes>"
      ]
     },
     "metadata": {
      "needs_background": "light"
     },
     "output_type": "display_data"
    },
    {
     "data": {
      "image/png": "[encoded data removed]",
      "text/plain": [
       "<Figure size 504x504 with 1 Axes>"
      ]
     },
     "metadata": {
      "needs_background": "light"
     },
     "output_type": "display_data"
    }
   ],
   "source": [
    "genres = data.loc[data['year_of_release']>=2013].pivot_table(index='genre', values=['total_sales'],aggfunc=['sum','count'])\n",
    "genres.columns = ['total_sales_sum', 'total_sales_count']\n",
    "genres.plot(figsize=(7,7),title='Total sales');\n",
    "\n",
    "\n",
    "genres = data.loc[data['year_of_release']>=2013].pivot_table(index='genre', values=['total_sales'],aggfunc=['median'])\n",
    "genres.columns = ['total_sales_median']\n",
    "genres.plot(figsize=(7,7),title='Median sales');\n",
    "\n"
   ]
  },
  {
   "cell_type": "markdown",
   "id": "717db28d",
   "metadata": {},
   "source": [
    "Жанры с высокими продажами имеют и большое количество самих игр, от есть берется количеством, вряд ли sports игры могут посорвноваться с action, которых в два раза больше, это если смотреть по среднем у всех продаж\n",
    "\n",
    "С медианной немного другая картина, жанр шутер занимает уверенное первое место по популярности среди других жанров.\n",
    "Такая разница происходит, потому что у жанра action много маленьких не сильно популярных проектов, поэтому скммарная популярность сильно выбивается."
   ]
  },
  {
   "cell_type": "markdown",
   "id": "ba686205",
   "metadata": {},
   "source": [
    "## Шаг 4. Составьте портрет пользователя каждого региона\n",
    "Определите для пользователя каждого региона (NA, EU, JP):\n",
    "\n",
    "- [x] Самые популярные платформы (топ-5). Опишите различия в долях продаж.\n",
    "- [x] Самые популярные жанры (топ-5). Поясните разницу.\n",
    "- [x] Влияет ли рейтинг ESRB на продажи в отдельном регионе?"
   ]
  },
  {
   "cell_type": "markdown",
   "id": "86cb8046",
   "metadata": {},
   "source": [
    "### Топ 5 платформ для каждого региона."
   ]
  },
  {
   "cell_type": "code",
   "execution_count": 62,
   "id": "d4dff78d",
   "metadata": {},
   "outputs": [
    {
     "data": {
      "text/html": [
       "<div>\n",
       "<style scoped>\n",
       "    .dataframe tbody tr th:only-of-type {\n",
       "        vertical-align: middle;\n",
       "    }\n",
       "\n",
       "    .dataframe tbody tr th {\n",
       "        vertical-align: top;\n",
       "    }\n",
       "\n",
       "    .dataframe thead th {\n",
       "        text-align: right;\n",
       "    }\n",
       "</style>\n",
       "<table border=\"1\" class=\"dataframe\">\n",
       "  <thead>\n",
       "    <tr style=\"text-align: right;\">\n",
       "      <th></th>\n",
       "      <th>name</th>\n",
       "      <th>platform</th>\n",
       "      <th>year_of_release</th>\n",
       "      <th>genre</th>\n",
       "      <th>na_sales</th>\n",
       "      <th>eu_sales</th>\n",
       "      <th>jp_sales</th>\n",
       "      <th>other_sales</th>\n",
       "      <th>critic_score</th>\n",
       "      <th>user_score</th>\n",
       "      <th>rating</th>\n",
       "      <th>total_sales</th>\n",
       "    </tr>\n",
       "  </thead>\n",
       "  <tbody>\n",
       "    <tr>\n",
       "      <th>0</th>\n",
       "      <td>Wii Sports</td>\n",
       "      <td>Wii</td>\n",
       "      <td>2006</td>\n",
       "      <td>Sports</td>\n",
       "      <td>41.36</td>\n",
       "      <td>28.96</td>\n",
       "      <td>3.77</td>\n",
       "      <td>8.45</td>\n",
       "      <td>76.0</td>\n",
       "      <td>8.0</td>\n",
       "      <td>E</td>\n",
       "      <td>82.54</td>\n",
       "    </tr>\n",
       "    <tr>\n",
       "      <th>1</th>\n",
       "      <td>Super Mario Bros.</td>\n",
       "      <td>NES</td>\n",
       "      <td>1985</td>\n",
       "      <td>Platform</td>\n",
       "      <td>29.08</td>\n",
       "      <td>3.58</td>\n",
       "      <td>6.81</td>\n",
       "      <td>0.77</td>\n",
       "      <td>NaN</td>\n",
       "      <td>NaN</td>\n",
       "      <td>Unknown</td>\n",
       "      <td>40.24</td>\n",
       "    </tr>\n",
       "  </tbody>\n",
       "</table>\n",
       "</div>"
      ],
      "text/plain": [
       "                name platform  year_of_release     genre  na_sales  eu_sales  \\\n",
       "0         Wii Sports      Wii             2006    Sports     41.36     28.96   \n",
       "1  Super Mario Bros.      NES             1985  Platform     29.08      3.58   \n",
       "\n",
       "   jp_sales  other_sales  critic_score  user_score   rating  total_sales  \n",
       "0      3.77         8.45          76.0         8.0        E        82.54  \n",
       "1      6.81         0.77           NaN         NaN  Unknown        40.24  "
      ]
     },
     "execution_count": 62,
     "metadata": {},
     "output_type": "execute_result"
    }
   ],
   "source": [
    "data.head(2)"
   ]
  },
  {
   "cell_type": "code",
   "execution_count": 63,
   "id": "c726cf70",
   "metadata": {},
   "outputs": [
    {
     "data": {
      "text/html": [
       "<div>\n",
       "<style scoped>\n",
       "    .dataframe tbody tr th:only-of-type {\n",
       "        vertical-align: middle;\n",
       "    }\n",
       "\n",
       "    .dataframe tbody tr th {\n",
       "        vertical-align: top;\n",
       "    }\n",
       "\n",
       "    .dataframe thead tr th {\n",
       "        text-align: left;\n",
       "    }\n",
       "\n",
       "    .dataframe thead tr:last-of-type th {\n",
       "        text-align: right;\n",
       "    }\n",
       "</style>\n",
       "<table border=\"1\" class=\"dataframe\">\n",
       "  <thead>\n",
       "    <tr>\n",
       "      <th></th>\n",
       "      <th colspan=\"3\" halign=\"left\">sum</th>\n",
       "    </tr>\n",
       "    <tr>\n",
       "      <th></th>\n",
       "      <th>eu_sales</th>\n",
       "      <th>jp_sales</th>\n",
       "      <th>na_sales</th>\n",
       "    </tr>\n",
       "    <tr>\n",
       "      <th>platform</th>\n",
       "      <th></th>\n",
       "      <th></th>\n",
       "      <th></th>\n",
       "    </tr>\n",
       "  </thead>\n",
       "  <tbody>\n",
       "    <tr>\n",
       "      <th>3DS</th>\n",
       "      <td>27.13</td>\n",
       "      <td>63.08</td>\n",
       "      <td>34.28</td>\n",
       "    </tr>\n",
       "    <tr>\n",
       "      <th>DS</th>\n",
       "      <td>0.39</td>\n",
       "      <td>0.00</td>\n",
       "      <td>0.11</td>\n",
       "    </tr>\n",
       "    <tr>\n",
       "      <th>PC</th>\n",
       "      <td>10.40</td>\n",
       "      <td>0.00</td>\n",
       "      <td>3.55</td>\n",
       "    </tr>\n",
       "    <tr>\n",
       "      <th>PS3</th>\n",
       "      <td>30.73</td>\n",
       "      <td>14.55</td>\n",
       "      <td>25.54</td>\n",
       "    </tr>\n",
       "    <tr>\n",
       "      <th>PS4</th>\n",
       "      <td>115.48</td>\n",
       "      <td>12.71</td>\n",
       "      <td>87.47</td>\n",
       "    </tr>\n",
       "    <tr>\n",
       "      <th>PSP</th>\n",
       "      <td>0.00</td>\n",
       "      <td>2.10</td>\n",
       "      <td>0.00</td>\n",
       "    </tr>\n",
       "    <tr>\n",
       "      <th>PSV</th>\n",
       "      <td>2.16</td>\n",
       "      <td>12.20</td>\n",
       "      <td>2.37</td>\n",
       "    </tr>\n",
       "    <tr>\n",
       "      <th>Wii</th>\n",
       "      <td>4.48</td>\n",
       "      <td>0.05</td>\n",
       "      <td>6.02</td>\n",
       "    </tr>\n",
       "    <tr>\n",
       "      <th>WiiU</th>\n",
       "      <td>12.23</td>\n",
       "      <td>8.82</td>\n",
       "      <td>18.12</td>\n",
       "    </tr>\n",
       "    <tr>\n",
       "      <th>X360</th>\n",
       "      <td>12.24</td>\n",
       "      <td>0.18</td>\n",
       "      <td>30.81</td>\n",
       "    </tr>\n",
       "    <tr>\n",
       "      <th>XOne</th>\n",
       "      <td>10.10</td>\n",
       "      <td>0.23</td>\n",
       "      <td>18.66</td>\n",
       "    </tr>\n",
       "  </tbody>\n",
       "</table>\n",
       "</div>"
      ],
      "text/plain": [
       "              sum                  \n",
       "         eu_sales jp_sales na_sales\n",
       "platform                           \n",
       "3DS         27.13    63.08    34.28\n",
       "DS           0.39     0.00     0.11\n",
       "PC          10.40     0.00     3.55\n",
       "PS3         30.73    14.55    25.54\n",
       "PS4        115.48    12.71    87.47\n",
       "PSP          0.00     2.10     0.00\n",
       "PSV          2.16    12.20     2.37\n",
       "Wii          4.48     0.05     6.02\n",
       "WiiU        12.23     8.82    18.12\n",
       "X360        12.24     0.18    30.81\n",
       "XOne        10.10     0.23    18.66"
      ]
     },
     "execution_count": 63,
     "metadata": {},
     "output_type": "execute_result"
    }
   ],
   "source": [
    "t5_plat = data.loc[data['year_of_release']>=2013].pivot_table(index='platform', values=['na_sales', 'eu_sales', 'jp_sales'],aggfunc=[sum])\n",
    "t5_plat"
   ]
  },
  {
   "cell_type": "markdown",
   "id": "c75e3d4b",
   "metadata": {},
   "source": [
    "#### NA"
   ]
  },
  {
   "cell_type": "code",
   "execution_count": 64,
   "id": "8e8ac11c",
   "metadata": {
    "scrolled": true
   },
   "outputs": [
    {
     "data": {
      "text/plain": [
       "platform\n",
       "PS4     87.47\n",
       "3DS     34.28\n",
       "X360    30.81\n",
       "PS3     25.54\n",
       "XOne    18.66\n",
       "Name: na_sales, dtype: float64"
      ]
     },
     "execution_count": 64,
     "metadata": {},
     "output_type": "execute_result"
    }
   ],
   "source": [
    "t5_plat['sum'] ['na_sales'].sort_values(ascending=False).head()"
   ]
  },
  {
   "cell_type": "markdown",
   "id": "183ec058",
   "metadata": {},
   "source": [
    "PS4 у них самая популярная"
   ]
  },
  {
   "cell_type": "markdown",
   "id": "f8c36b7b",
   "metadata": {},
   "source": [
    "#### EU"
   ]
  },
  {
   "cell_type": "code",
   "execution_count": 65,
   "id": "a5aadb8e",
   "metadata": {},
   "outputs": [
    {
     "data": {
      "text/plain": [
       "platform\n",
       "PS4     115.48\n",
       "PS3      30.73\n",
       "3DS      27.13\n",
       "X360     12.24\n",
       "WiiU     12.23\n",
       "Name: eu_sales, dtype: float64"
      ]
     },
     "execution_count": 65,
     "metadata": {},
     "output_type": "execute_result"
    }
   ],
   "source": [
    "t5_plat['sum']['eu_sales'].sort_values(ascending=False).head()"
   ]
  },
  {
   "cell_type": "markdown",
   "id": "b440d07f",
   "metadata": {},
   "source": [
    "PS4 идет очень близко, можно сказать они обе на первом месте"
   ]
  },
  {
   "cell_type": "markdown",
   "id": "e647b091",
   "metadata": {},
   "source": [
    "#### JP"
   ]
  },
  {
   "cell_type": "code",
   "execution_count": 66,
   "id": "8239dd66",
   "metadata": {},
   "outputs": [
    {
     "data": {
      "text/plain": [
       "platform\n",
       "3DS     63.08\n",
       "PS3     14.55\n",
       "PS4     12.71\n",
       "PSV     12.20\n",
       "WiiU     8.82\n",
       "Name: jp_sales, dtype: float64"
      ]
     },
     "execution_count": 66,
     "metadata": {},
     "output_type": "execute_result"
    }
   ],
   "source": [
    "t5_plat['sum']['jp_sales'].sort_values(ascending=False).head()"
   ]
  },
  {
   "cell_type": "markdown",
   "id": "818a4312",
   "metadata": {},
   "source": [
    "Японцы всегда выделяются на фоне общей массы, данный случай не стал исключением, получилось, что 3DS значительно обходит все остальные платформы"
   ]
  },
  {
   "cell_type": "markdown",
   "id": "5b31e34c",
   "metadata": {},
   "source": [
    "Вывод, несмотря на то, что JP выделяются на фоне, PS4 является самой популярной платформой."
   ]
  },
  {
   "cell_type": "markdown",
   "id": "f8bee611",
   "metadata": {},
   "source": [
    "### Самые популярные жанры (топ-5)"
   ]
  },
  {
   "cell_type": "code",
   "execution_count": 67,
   "id": "1fcd9545",
   "metadata": {
    "scrolled": true
   },
   "outputs": [
    {
     "data": {
      "text/html": [
       "<div>\n",
       "<style scoped>\n",
       "    .dataframe tbody tr th:only-of-type {\n",
       "        vertical-align: middle;\n",
       "    }\n",
       "\n",
       "    .dataframe tbody tr th {\n",
       "        vertical-align: top;\n",
       "    }\n",
       "\n",
       "    .dataframe thead tr th {\n",
       "        text-align: left;\n",
       "    }\n",
       "\n",
       "    .dataframe thead tr:last-of-type th {\n",
       "        text-align: right;\n",
       "    }\n",
       "</style>\n",
       "<table border=\"1\" class=\"dataframe\">\n",
       "  <thead>\n",
       "    <tr>\n",
       "      <th></th>\n",
       "      <th colspan=\"3\" halign=\"left\">sum</th>\n",
       "    </tr>\n",
       "    <tr>\n",
       "      <th></th>\n",
       "      <th>eu_sales</th>\n",
       "      <th>jp_sales</th>\n",
       "      <th>na_sales</th>\n",
       "    </tr>\n",
       "    <tr>\n",
       "      <th>genre</th>\n",
       "      <th></th>\n",
       "      <th></th>\n",
       "      <th></th>\n",
       "    </tr>\n",
       "  </thead>\n",
       "  <tbody>\n",
       "    <tr>\n",
       "      <th>Action</th>\n",
       "      <td>60.11</td>\n",
       "      <td>31.90</td>\n",
       "      <td>57.12</td>\n",
       "    </tr>\n",
       "    <tr>\n",
       "      <th>Adventure</th>\n",
       "      <td>4.99</td>\n",
       "      <td>4.88</td>\n",
       "      <td>4.24</td>\n",
       "    </tr>\n",
       "    <tr>\n",
       "      <th>Fighting</th>\n",
       "      <td>5.15</td>\n",
       "      <td>5.84</td>\n",
       "      <td>9.04</td>\n",
       "    </tr>\n",
       "    <tr>\n",
       "      <th>Misc</th>\n",
       "      <td>10.22</td>\n",
       "      <td>7.60</td>\n",
       "      <td>14.46</td>\n",
       "    </tr>\n",
       "    <tr>\n",
       "      <th>Platform</th>\n",
       "      <td>10.64</td>\n",
       "      <td>4.20</td>\n",
       "      <td>12.57</td>\n",
       "    </tr>\n",
       "    <tr>\n",
       "      <th>Puzzle</th>\n",
       "      <td>1.00</td>\n",
       "      <td>1.06</td>\n",
       "      <td>0.74</td>\n",
       "    </tr>\n",
       "    <tr>\n",
       "      <th>Racing</th>\n",
       "      <td>15.34</td>\n",
       "      <td>2.16</td>\n",
       "      <td>9.76</td>\n",
       "    </tr>\n",
       "    <tr>\n",
       "      <th>Role-Playing</th>\n",
       "      <td>24.31</td>\n",
       "      <td>41.94</td>\n",
       "      <td>29.75</td>\n",
       "    </tr>\n",
       "    <tr>\n",
       "      <th>Shooter</th>\n",
       "      <td>49.56</td>\n",
       "      <td>5.02</td>\n",
       "      <td>55.67</td>\n",
       "    </tr>\n",
       "    <tr>\n",
       "      <th>Simulation</th>\n",
       "      <td>9.43</td>\n",
       "      <td>4.49</td>\n",
       "      <td>3.70</td>\n",
       "    </tr>\n",
       "    <tr>\n",
       "      <th>Sports</th>\n",
       "      <td>31.04</td>\n",
       "      <td>3.26</td>\n",
       "      <td>27.39</td>\n",
       "    </tr>\n",
       "    <tr>\n",
       "      <th>Strategy</th>\n",
       "      <td>3.55</td>\n",
       "      <td>1.57</td>\n",
       "      <td>2.49</td>\n",
       "    </tr>\n",
       "  </tbody>\n",
       "</table>\n",
       "</div>"
      ],
      "text/plain": [
       "                  sum                  \n",
       "             eu_sales jp_sales na_sales\n",
       "genre                                  \n",
       "Action          60.11    31.90    57.12\n",
       "Adventure        4.99     4.88     4.24\n",
       "Fighting         5.15     5.84     9.04\n",
       "Misc            10.22     7.60    14.46\n",
       "Platform        10.64     4.20    12.57\n",
       "Puzzle           1.00     1.06     0.74\n",
       "Racing          15.34     2.16     9.76\n",
       "Role-Playing    24.31    41.94    29.75\n",
       "Shooter         49.56     5.02    55.67\n",
       "Simulation       9.43     4.49     3.70\n",
       "Sports          31.04     3.26    27.39\n",
       "Strategy         3.55     1.57     2.49"
      ]
     },
     "execution_count": 67,
     "metadata": {},
     "output_type": "execute_result"
    }
   ],
   "source": [
    "t5_genre = data.loc[data['year_of_release']>=2013].pivot_table(index='genre', values=['na_sales', 'eu_sales', 'jp_sales'],aggfunc=[sum])\n",
    "t5_genre"
   ]
  },
  {
   "cell_type": "markdown",
   "id": "7d4b003d",
   "metadata": {},
   "source": [
    "#### NA"
   ]
  },
  {
   "cell_type": "code",
   "execution_count": 68,
   "id": "aa3dfa6e",
   "metadata": {},
   "outputs": [
    {
     "data": {
      "text/plain": [
       "genre\n",
       "Action          57.12\n",
       "Shooter         55.67\n",
       "Role-Playing    29.75\n",
       "Sports          27.39\n",
       "Misc            14.46\n",
       "Name: na_sales, dtype: float64"
      ]
     },
     "execution_count": 68,
     "metadata": {},
     "output_type": "execute_result"
    }
   ],
   "source": [
    "t5_genre['sum']['na_sales'].sort_values(ascending=False).head()"
   ]
  },
  {
   "cell_type": "markdown",
   "id": "fbacf262",
   "metadata": {},
   "source": [
    "#### EU"
   ]
  },
  {
   "cell_type": "code",
   "execution_count": 69,
   "id": "6da259e2",
   "metadata": {},
   "outputs": [
    {
     "data": {
      "text/plain": [
       "genre\n",
       "Action          60.11\n",
       "Shooter         49.56\n",
       "Sports          31.04\n",
       "Role-Playing    24.31\n",
       "Racing          15.34\n",
       "Name: eu_sales, dtype: float64"
      ]
     },
     "execution_count": 69,
     "metadata": {},
     "output_type": "execute_result"
    }
   ],
   "source": [
    "t5_genre['sum']['eu_sales'].sort_values(ascending=False).head()"
   ]
  },
  {
   "cell_type": "markdown",
   "id": "0d9c9c1d",
   "metadata": {},
   "source": [
    "#### JP"
   ]
  },
  {
   "cell_type": "code",
   "execution_count": 70,
   "id": "295342db",
   "metadata": {},
   "outputs": [
    {
     "data": {
      "text/plain": [
       "genre\n",
       "Role-Playing    41.94\n",
       "Action          31.90\n",
       "Misc             7.60\n",
       "Fighting         5.84\n",
       "Shooter          5.02\n",
       "Name: jp_sales, dtype: float64"
      ]
     },
     "execution_count": 70,
     "metadata": {},
     "output_type": "execute_result"
    }
   ],
   "source": [
    "t5_genre['sum']['jp_sales'].sort_values(ascending=False).head()"
   ]
  },
  {
   "cell_type": "markdown",
   "id": "315ae9f7",
   "metadata": {},
   "source": [
    "Вывод, несмотря на то, что JP выделяются на фоне, жанр action находится на первом месте."
   ]
  },
  {
   "cell_type": "markdown",
   "id": "6d738a8a",
   "metadata": {},
   "source": [
    "### Влияет ли рейтинг ESRB на продажи в отдельном регионе?"
   ]
  },
  {
   "cell_type": "code",
   "execution_count": 71,
   "id": "eb8b2757",
   "metadata": {},
   "outputs": [
    {
     "data": {
      "text/plain": [
       "Unknown    5550\n",
       "E          2499\n",
       "T          1820\n",
       "M           847\n",
       "E10+        700\n",
       "EC            5\n",
       "K-A           3\n",
       "RP            1\n",
       "Name: rating, dtype: int64"
      ]
     },
     "execution_count": 71,
     "metadata": {},
     "output_type": "execute_result"
    }
   ],
   "source": [
    "data['rating'].value_counts()"
   ]
  },
  {
   "attachments": {
    "%D0%B8%D0%B7%D0%BE%D0%B1%D1%80%D0%B0%D0%B6%D0%B5%D0%BD%D0%B8%D0%B5.png": {
     "image/png": "[encoded data removed]"
    }
   },
   "cell_type": "markdown",
   "id": "e6216ddd",
   "metadata": {},
   "source": [
    "![%D0%B8%D0%B7%D0%BE%D0%B1%D1%80%D0%B0%D0%B6%D0%B5%D0%BD%D0%B8%D0%B5.png](attachment:%D0%B8%D0%B7%D0%BE%D0%B1%D1%80%D0%B0%D0%B6%D0%B5%D0%BD%D0%B8%D0%B5.png)"
   ]
  },
  {
   "cell_type": "markdown",
   "id": "42b01f3d",
   "metadata": {},
   "source": [
    "#### NA"
   ]
  },
  {
   "cell_type": "code",
   "execution_count": 72,
   "id": "01a967f0",
   "metadata": {},
   "outputs": [
    {
     "data": {
      "text/html": [
       "<div>\n",
       "<style scoped>\n",
       "    .dataframe tbody tr th:only-of-type {\n",
       "        vertical-align: middle;\n",
       "    }\n",
       "\n",
       "    .dataframe tbody tr th {\n",
       "        vertical-align: top;\n",
       "    }\n",
       "\n",
       "    .dataframe thead th {\n",
       "        text-align: right;\n",
       "    }\n",
       "</style>\n",
       "<table border=\"1\" class=\"dataframe\">\n",
       "  <thead>\n",
       "    <tr style=\"text-align: right;\">\n",
       "      <th></th>\n",
       "      <th>na_sales_count</th>\n",
       "      <th>na_sales_mean</th>\n",
       "      <th>na_sales_median</th>\n",
       "      <th>na_sales_sum</th>\n",
       "    </tr>\n",
       "    <tr>\n",
       "      <th>rating</th>\n",
       "      <th></th>\n",
       "      <th></th>\n",
       "      <th></th>\n",
       "      <th></th>\n",
       "    </tr>\n",
       "  </thead>\n",
       "  <tbody>\n",
       "    <tr>\n",
       "      <th>Unknown</th>\n",
       "      <td>5550</td>\n",
       "      <td>0.187541</td>\n",
       "      <td>0.00</td>\n",
       "      <td>1040.85</td>\n",
       "    </tr>\n",
       "    <tr>\n",
       "      <th>E</th>\n",
       "      <td>2499</td>\n",
       "      <td>0.388575</td>\n",
       "      <td>0.13</td>\n",
       "      <td>971.05</td>\n",
       "    </tr>\n",
       "    <tr>\n",
       "      <th>T</th>\n",
       "      <td>1820</td>\n",
       "      <td>0.286643</td>\n",
       "      <td>0.11</td>\n",
       "      <td>521.69</td>\n",
       "    </tr>\n",
       "    <tr>\n",
       "      <th>M</th>\n",
       "      <td>847</td>\n",
       "      <td>0.584699</td>\n",
       "      <td>0.18</td>\n",
       "      <td>495.24</td>\n",
       "    </tr>\n",
       "    <tr>\n",
       "      <th>E10+</th>\n",
       "      <td>700</td>\n",
       "      <td>0.303286</td>\n",
       "      <td>0.12</td>\n",
       "      <td>212.30</td>\n",
       "    </tr>\n",
       "    <tr>\n",
       "      <th>EC</th>\n",
       "      <td>5</td>\n",
       "      <td>0.270000</td>\n",
       "      <td>0.27</td>\n",
       "      <td>1.35</td>\n",
       "    </tr>\n",
       "    <tr>\n",
       "      <th>K-A</th>\n",
       "      <td>3</td>\n",
       "      <td>0.853333</td>\n",
       "      <td>0.26</td>\n",
       "      <td>2.56</td>\n",
       "    </tr>\n",
       "    <tr>\n",
       "      <th>RP</th>\n",
       "      <td>1</td>\n",
       "      <td>0.000000</td>\n",
       "      <td>0.00</td>\n",
       "      <td>0.00</td>\n",
       "    </tr>\n",
       "  </tbody>\n",
       "</table>\n",
       "</div>"
      ],
      "text/plain": [
       "         na_sales_count  na_sales_mean  na_sales_median  na_sales_sum\n",
       "rating                                                               \n",
       "Unknown            5550       0.187541             0.00       1040.85\n",
       "E                  2499       0.388575             0.13        971.05\n",
       "T                  1820       0.286643             0.11        521.69\n",
       "M                   847       0.584699             0.18        495.24\n",
       "E10+                700       0.303286             0.12        212.30\n",
       "EC                    5       0.270000             0.27          1.35\n",
       "K-A                   3       0.853333             0.26          2.56\n",
       "RP                    1       0.000000             0.00          0.00"
      ]
     },
     "execution_count": 72,
     "metadata": {},
     "output_type": "execute_result"
    }
   ],
   "source": [
    "sales = 'na'\n",
    "rating = data.pivot_table(index='rating',values=[sales+'_sales'], aggfunc=['count','mean','median','sum'])\n",
    "rating.columns = [sales+'_sales_count', sales+'_sales_mean', sales+'_sales_median',sales+'_sales_sum']\n",
    "rating.sort_values(by=sales+'_sales_count',ascending=False)"
   ]
  },
  {
   "cell_type": "code",
   "execution_count": 73,
   "id": "cf1bbc2d",
   "metadata": {
    "scrolled": false
   },
   "outputs": [
    {
     "data": {
      "image/png": "[encoded data removed]",
      "text/plain": [
       "<Figure size 432x288 with 1 Axes>"
      ]
     },
     "metadata": {
      "needs_background": "light"
     },
     "output_type": "display_data"
    }
   ],
   "source": [
    "rating[sales+'_sales_median'].plot(kind='bar');"
   ]
  },
  {
   "cell_type": "markdown",
   "id": "198ce7fd",
   "metadata": {},
   "source": [
    "В NA на продажи влияет рейтинг ESRB, рейтинг М является самым популярным. (рейтинг М это люди 17+), хоть и  ЕС и К-А имеют медиану больше, но их количество мало, значит лучше обратить внимание на М"
   ]
  },
  {
   "cell_type": "markdown",
   "id": "13b541ee",
   "metadata": {},
   "source": [
    "#### EU"
   ]
  },
  {
   "cell_type": "code",
   "execution_count": 74,
   "id": "3a493f26",
   "metadata": {
    "scrolled": false
   },
   "outputs": [
    {
     "data": {
      "text/html": [
       "<div>\n",
       "<style scoped>\n",
       "    .dataframe tbody tr th:only-of-type {\n",
       "        vertical-align: middle;\n",
       "    }\n",
       "\n",
       "    .dataframe tbody tr th {\n",
       "        vertical-align: top;\n",
       "    }\n",
       "\n",
       "    .dataframe thead th {\n",
       "        text-align: right;\n",
       "    }\n",
       "</style>\n",
       "<table border=\"1\" class=\"dataframe\">\n",
       "  <thead>\n",
       "    <tr style=\"text-align: right;\">\n",
       "      <th></th>\n",
       "      <th>eu_sales_count</th>\n",
       "      <th>eu_sales_mean</th>\n",
       "      <th>eu_sales_median</th>\n",
       "    </tr>\n",
       "    <tr>\n",
       "      <th>rating</th>\n",
       "      <th></th>\n",
       "      <th></th>\n",
       "      <th></th>\n",
       "    </tr>\n",
       "  </thead>\n",
       "  <tbody>\n",
       "    <tr>\n",
       "      <th>Unknown</th>\n",
       "      <td>5550</td>\n",
       "      <td>0.090647</td>\n",
       "      <td>0.00</td>\n",
       "    </tr>\n",
       "    <tr>\n",
       "      <th>E</th>\n",
       "      <td>2499</td>\n",
       "      <td>0.226947</td>\n",
       "      <td>0.03</td>\n",
       "    </tr>\n",
       "    <tr>\n",
       "      <th>T</th>\n",
       "      <td>1820</td>\n",
       "      <td>0.175890</td>\n",
       "      <td>0.04</td>\n",
       "    </tr>\n",
       "    <tr>\n",
       "      <th>M</th>\n",
       "      <td>847</td>\n",
       "      <td>0.347485</td>\n",
       "      <td>0.10</td>\n",
       "    </tr>\n",
       "    <tr>\n",
       "      <th>E10+</th>\n",
       "      <td>700</td>\n",
       "      <td>0.158457</td>\n",
       "      <td>0.02</td>\n",
       "    </tr>\n",
       "    <tr>\n",
       "      <th>EC</th>\n",
       "      <td>5</td>\n",
       "      <td>0.018000</td>\n",
       "      <td>0.00</td>\n",
       "    </tr>\n",
       "    <tr>\n",
       "      <th>K-A</th>\n",
       "      <td>3</td>\n",
       "      <td>0.090000</td>\n",
       "      <td>0.10</td>\n",
       "    </tr>\n",
       "    <tr>\n",
       "      <th>RP</th>\n",
       "      <td>1</td>\n",
       "      <td>0.030000</td>\n",
       "      <td>0.03</td>\n",
       "    </tr>\n",
       "  </tbody>\n",
       "</table>\n",
       "</div>"
      ],
      "text/plain": [
       "         eu_sales_count  eu_sales_mean  eu_sales_median\n",
       "rating                                                 \n",
       "Unknown            5550       0.090647             0.00\n",
       "E                  2499       0.226947             0.03\n",
       "T                  1820       0.175890             0.04\n",
       "M                   847       0.347485             0.10\n",
       "E10+                700       0.158457             0.02\n",
       "EC                    5       0.018000             0.00\n",
       "K-A                   3       0.090000             0.10\n",
       "RP                    1       0.030000             0.03"
      ]
     },
     "execution_count": 74,
     "metadata": {},
     "output_type": "execute_result"
    }
   ],
   "source": [
    "sales = 'eu'\n",
    "rating = data.pivot_table(index='rating',values=[sales+'_sales'], aggfunc=['count','mean','median'])\n",
    "rating.columns = [sales+'_sales_count', sales+'_sales_mean', sales+'_sales_median']\n",
    "rating.sort_values(by=sales+'_sales_count',ascending=False)"
   ]
  },
  {
   "cell_type": "markdown",
   "id": "306cb5f6",
   "metadata": {},
   "source": [
    "Так же в EU рейтинг М является самым популярным по медиане"
   ]
  },
  {
   "cell_type": "markdown",
   "id": "1712716a",
   "metadata": {},
   "source": [
    "#### JP"
   ]
  },
  {
   "cell_type": "code",
   "execution_count": 75,
   "id": "3764ed74",
   "metadata": {},
   "outputs": [
    {
     "data": {
      "text/html": [
       "<div>\n",
       "<style scoped>\n",
       "    .dataframe tbody tr th:only-of-type {\n",
       "        vertical-align: middle;\n",
       "    }\n",
       "\n",
       "    .dataframe tbody tr th {\n",
       "        vertical-align: top;\n",
       "    }\n",
       "\n",
       "    .dataframe thead th {\n",
       "        text-align: right;\n",
       "    }\n",
       "</style>\n",
       "<table border=\"1\" class=\"dataframe\">\n",
       "  <thead>\n",
       "    <tr style=\"text-align: right;\">\n",
       "      <th></th>\n",
       "      <th>jp_sales_count</th>\n",
       "      <th>jp_sales_mean</th>\n",
       "      <th>jp_sales_median</th>\n",
       "    </tr>\n",
       "    <tr>\n",
       "      <th>rating</th>\n",
       "      <th></th>\n",
       "      <th></th>\n",
       "      <th></th>\n",
       "    </tr>\n",
       "  </thead>\n",
       "  <tbody>\n",
       "    <tr>\n",
       "      <th>Unknown</th>\n",
       "      <td>5550</td>\n",
       "      <td>0.140029</td>\n",
       "      <td>0.03</td>\n",
       "    </tr>\n",
       "    <tr>\n",
       "      <th>E</th>\n",
       "      <td>2499</td>\n",
       "      <td>0.076863</td>\n",
       "      <td>0.00</td>\n",
       "    </tr>\n",
       "    <tr>\n",
       "      <th>T</th>\n",
       "      <td>1820</td>\n",
       "      <td>0.076451</td>\n",
       "      <td>0.00</td>\n",
       "    </tr>\n",
       "    <tr>\n",
       "      <th>M</th>\n",
       "      <td>847</td>\n",
       "      <td>0.062125</td>\n",
       "      <td>0.00</td>\n",
       "    </tr>\n",
       "    <tr>\n",
       "      <th>E10+</th>\n",
       "      <td>700</td>\n",
       "      <td>0.052514</td>\n",
       "      <td>0.00</td>\n",
       "    </tr>\n",
       "    <tr>\n",
       "      <th>EC</th>\n",
       "      <td>5</td>\n",
       "      <td>0.000000</td>\n",
       "      <td>0.00</td>\n",
       "    </tr>\n",
       "    <tr>\n",
       "      <th>K-A</th>\n",
       "      <td>3</td>\n",
       "      <td>0.486667</td>\n",
       "      <td>0.00</td>\n",
       "    </tr>\n",
       "    <tr>\n",
       "      <th>RP</th>\n",
       "      <td>1</td>\n",
       "      <td>0.000000</td>\n",
       "      <td>0.00</td>\n",
       "    </tr>\n",
       "  </tbody>\n",
       "</table>\n",
       "</div>"
      ],
      "text/plain": [
       "         jp_sales_count  jp_sales_mean  jp_sales_median\n",
       "rating                                                 \n",
       "Unknown            5550       0.140029             0.03\n",
       "E                  2499       0.076863             0.00\n",
       "T                  1820       0.076451             0.00\n",
       "M                   847       0.062125             0.00\n",
       "E10+                700       0.052514             0.00\n",
       "EC                    5       0.000000             0.00\n",
       "K-A                   3       0.486667             0.00\n",
       "RP                    1       0.000000             0.00"
      ]
     },
     "execution_count": 75,
     "metadata": {},
     "output_type": "execute_result"
    }
   ],
   "source": [
    "sales = 'jp'\n",
    "rating = data.pivot_table(index='rating',values=[sales+'_sales'], aggfunc=['count','mean','median'])\n",
    "rating.columns = [sales+'_sales_count', sales+'_sales_mean', sales+'_sales_median']\n",
    "rating.sort_values(by=sales+'_sales_count',ascending=False)"
   ]
  },
  {
   "cell_type": "markdown",
   "id": "f717f7c2",
   "metadata": {},
   "source": [
    "У JP картина же совершенно другая, во-первых игр у них значительно меньше. Во-вторых, на продажи не влияют рейтинги игр, хотя и unknown и имеет популярность в два раза больше каждого остального рейтинга."
   ]
  },
  {
   "cell_type": "markdown",
   "id": "a0bca7a8",
   "metadata": {},
   "source": [
    "**Вывод**\n",
    "\n",
    "регион jp очень сильно отличается от других регионов. na и eu наоборот очень похожи и имеют почти одинаковые результаты."
   ]
  },
  {
   "cell_type": "markdown",
   "id": "e94dc39d",
   "metadata": {},
   "source": [
    "Портреты пользователей разных регионов:\n",
    "\n",
    "**NA:**\n",
    "\n"
   ]
  },
  {
   "cell_type": "markdown",
   "id": "f6ac7973",
   "metadata": {},
   "source": [
    "Пользователь играющий на PS4 в игры жанра action с ограничением возраста 17+ рейтинг M"
   ]
  },
  {
   "cell_type": "markdown",
   "id": "318c8c3c",
   "metadata": {},
   "source": [
    "**EU:**"
   ]
  },
  {
   "cell_type": "markdown",
   "id": "4fc3d9fc",
   "metadata": {},
   "source": [
    "Пользователь играющий на PS4 в игры жанра action с ограничением возраста 17+ рейтинг М."
   ]
  },
  {
   "cell_type": "markdown",
   "id": "a42d5610",
   "metadata": {},
   "source": [
    "**JP:**"
   ]
  },
  {
   "cell_type": "markdown",
   "id": "f4125f90",
   "metadata": {},
   "source": [
    "Пользователь играющий на 3DS  в игры жанра role_play c неизвестным рейтингом ESRB."
   ]
  },
  {
   "cell_type": "markdown",
   "id": "40992a68",
   "metadata": {},
   "source": [
    "## Шаг 5. Проверьте гипотезы\n",
    "\n",
    "- [x] Средние пользовательские рейтинги платформ Xbox One и PC одинаковые;\n",
    "- [x] Средние пользовательские рейтинги жанров Action (англ. «действие», экшен-игры) и Sports (англ. «спортивные соревнования») разные."
   ]
  },
  {
   "cell_type": "markdown",
   "id": "c84da700",
   "metadata": {},
   "source": [
    "### Средние пользовательские рейтинги платформ Xbox One и PC одинаковые;"
   ]
  },
  {
   "cell_type": "markdown",
   "id": "aa74c58a",
   "metadata": {},
   "source": [
    "Нулевая гипотеза:  Средние пользовательские рейтинги платформ Xbox One и PC одинаковые\n",
    "\n",
    "Альтернативаная гипотеза:  Средние пользовательские рейтинги платформ Xbox One и PC разные\n",
    "\n",
    "Пусть уровень статистической значимости a = 0.1"
   ]
  },
  {
   "cell_type": "markdown",
   "id": "e7d32868",
   "metadata": {},
   "source": [
    "Уровень статистической значимости устанавливает 0.1, так как xbox и windows(утверждаю, что пользователи PC это во основном пользователи windows, так как на 2016 год количество пользователей на windows составляло около 80%, ссылку приложу в следующей ячейке) имеют одного производителя, платформы достаточно сильно связаны, так например, игры которые имеются на xbox и windows практически одинаковы. Значит, pvalue должно быть маленьким, чтобы отвергнуть гипотезу. Однако все-таки платформы сильно отличаются, поэтому уровень 10% будет достаточным"
   ]
  },
  {
   "cell_type": "markdown",
   "id": "f9920fa1",
   "metadata": {},
   "source": [
    "https://www.tadviser.ru/index.php/%D0%A1%D1%82%D0%B0%D1%82%D1%8C%D1%8F:%D0%9E%D0%BF%D0%B5%D1%80%D0%B0%D1%86%D0%B8%D0%BE%D0%BD%D0%BD%D1%8B%D0%B5_%D1%81%D0%B8%D1%81%D1%82%D0%B5%D0%BC%D1%8B_(%D0%BC%D0%B8%D1%80%D0%BE%D0%B2%D0%BE%D0%B9_%D1%80%D1%8B%D0%BD%D0%BE%D0%BA)"
   ]
  },
  {
   "cell_type": "code",
   "execution_count": 76,
   "id": "27f88d57",
   "metadata": {},
   "outputs": [
    {
     "data": {
      "text/html": [
       "<div>\n",
       "<style scoped>\n",
       "    .dataframe tbody tr th:only-of-type {\n",
       "        vertical-align: middle;\n",
       "    }\n",
       "\n",
       "    .dataframe tbody tr th {\n",
       "        vertical-align: top;\n",
       "    }\n",
       "\n",
       "    .dataframe thead th {\n",
       "        text-align: right;\n",
       "    }\n",
       "</style>\n",
       "<table border=\"1\" class=\"dataframe\">\n",
       "  <thead>\n",
       "    <tr style=\"text-align: right;\">\n",
       "      <th></th>\n",
       "      <th>name</th>\n",
       "      <th>platform</th>\n",
       "      <th>year_of_release</th>\n",
       "      <th>genre</th>\n",
       "      <th>na_sales</th>\n",
       "      <th>eu_sales</th>\n",
       "      <th>jp_sales</th>\n",
       "      <th>other_sales</th>\n",
       "      <th>critic_score</th>\n",
       "      <th>user_score</th>\n",
       "      <th>rating</th>\n",
       "      <th>total_sales</th>\n",
       "    </tr>\n",
       "  </thead>\n",
       "  <tbody>\n",
       "    <tr>\n",
       "      <th>242</th>\n",
       "      <td>Halo 5: Guardians</td>\n",
       "      <td>XOne</td>\n",
       "      <td>2015</td>\n",
       "      <td>Shooter</td>\n",
       "      <td>2.78</td>\n",
       "      <td>1.27</td>\n",
       "      <td>0.03</td>\n",
       "      <td>0.41</td>\n",
       "      <td>84.0</td>\n",
       "      <td>6.4</td>\n",
       "      <td>T</td>\n",
       "      <td>4.49</td>\n",
       "    </tr>\n",
       "    <tr>\n",
       "      <th>413</th>\n",
       "      <td>Gears of War: Ultimate Edition</td>\n",
       "      <td>XOne</td>\n",
       "      <td>2015</td>\n",
       "      <td>Shooter</td>\n",
       "      <td>2.61</td>\n",
       "      <td>0.33</td>\n",
       "      <td>0.00</td>\n",
       "      <td>0.34</td>\n",
       "      <td>82.0</td>\n",
       "      <td>7.5</td>\n",
       "      <td>M</td>\n",
       "      <td>3.28</td>\n",
       "    </tr>\n",
       "    <tr>\n",
       "      <th>422</th>\n",
       "      <td>Halo: The Master Chief Collection</td>\n",
       "      <td>XOne</td>\n",
       "      <td>2014</td>\n",
       "      <td>Shooter</td>\n",
       "      <td>1.91</td>\n",
       "      <td>1.00</td>\n",
       "      <td>0.03</td>\n",
       "      <td>0.29</td>\n",
       "      <td>85.0</td>\n",
       "      <td>7.2</td>\n",
       "      <td>M</td>\n",
       "      <td>3.23</td>\n",
       "    </tr>\n",
       "    <tr>\n",
       "      <th>484</th>\n",
       "      <td>Titanfall</td>\n",
       "      <td>XOne</td>\n",
       "      <td>2014</td>\n",
       "      <td>Shooter</td>\n",
       "      <td>1.84</td>\n",
       "      <td>0.80</td>\n",
       "      <td>0.04</td>\n",
       "      <td>0.27</td>\n",
       "      <td>86.0</td>\n",
       "      <td>6.4</td>\n",
       "      <td>M</td>\n",
       "      <td>2.95</td>\n",
       "    </tr>\n",
       "    <tr>\n",
       "      <th>738</th>\n",
       "      <td>Forza Motorsport 5</td>\n",
       "      <td>XOne</td>\n",
       "      <td>2013</td>\n",
       "      <td>Racing</td>\n",
       "      <td>1.21</td>\n",
       "      <td>0.79</td>\n",
       "      <td>0.01</td>\n",
       "      <td>0.19</td>\n",
       "      <td>79.0</td>\n",
       "      <td>5.9</td>\n",
       "      <td>E</td>\n",
       "      <td>2.20</td>\n",
       "    </tr>\n",
       "  </tbody>\n",
       "</table>\n",
       "</div>"
      ],
      "text/plain": [
       "                                  name platform  year_of_release    genre  \\\n",
       "242                  Halo 5: Guardians     XOne             2015  Shooter   \n",
       "413     Gears of War: Ultimate Edition     XOne             2015  Shooter   \n",
       "422  Halo: The Master Chief Collection     XOne             2014  Shooter   \n",
       "484                          Titanfall     XOne             2014  Shooter   \n",
       "738                 Forza Motorsport 5     XOne             2013   Racing   \n",
       "\n",
       "     na_sales  eu_sales  jp_sales  other_sales  critic_score  user_score  \\\n",
       "242      2.78      1.27      0.03         0.41          84.0         6.4   \n",
       "413      2.61      0.33      0.00         0.34          82.0         7.5   \n",
       "422      1.91      1.00      0.03         0.29          85.0         7.2   \n",
       "484      1.84      0.80      0.04         0.27          86.0         6.4   \n",
       "738      1.21      0.79      0.01         0.19          79.0         5.9   \n",
       "\n",
       "    rating  total_sales  \n",
       "242      T         4.49  \n",
       "413      M         3.28  \n",
       "422      M         3.23  \n",
       "484      M         2.95  \n",
       "738      E         2.20  "
      ]
     },
     "execution_count": 76,
     "metadata": {},
     "output_type": "execute_result"
    }
   ],
   "source": [
    "import scipy.stats as st\n",
    "\n",
    "xone = data.loc[data['platform']=='XOne']\n",
    "pc = data.loc[data['platform']=='PC']\n",
    "\n",
    "xone.head()"
   ]
  },
  {
   "cell_type": "code",
   "execution_count": 77,
   "id": "27875d92",
   "metadata": {},
   "outputs": [
    {
     "data": {
      "text/plain": [
       "1.1876923076923078"
      ]
     },
     "execution_count": 77,
     "metadata": {},
     "output_type": "execute_result"
    }
   ],
   "source": [
    "xone['user_score'].dropna().var()"
   ]
  },
  {
   "cell_type": "code",
   "execution_count": 78,
   "id": "d87214ad",
   "metadata": {},
   "outputs": [
    {
     "data": {
      "text/plain": [
       "2.1376723038576357"
      ]
     },
     "execution_count": 78,
     "metadata": {},
     "output_type": "execute_result"
    }
   ],
   "source": [
    "pc['user_score'].dropna().var()"
   ]
  },
  {
   "cell_type": "code",
   "execution_count": 79,
   "id": "497c213c",
   "metadata": {},
   "outputs": [
    {
     "name": "stdout",
     "output_type": "stream",
     "text": [
      "гипотеза не отвергается, результаты теста: Ttest_indResult(statistic=-1.9126498118347084, pvalue=0.056512148457686324)\n"
     ]
    }
   ],
   "source": [
    "a = 0.01\n",
    "tt = st.ttest_ind(xone['user_score'].dropna(), pc['user_score'].dropna(), equal_var=True)\n",
    "if tt[1] <= a:\n",
    "    print('гипотеза отвергается, результаты теста:', tt)\n",
    "else:\n",
    "    print('гипотеза не отвергается, результаты теста:', tt)"
   ]
  },
  {
   "cell_type": "markdown",
   "id": "b21652e5",
   "metadata": {},
   "source": [
    "pvalue 5.5%, значит мы не можем отвергнуть нулеувю гипотезу, так как у нас установлен уровень 1%"
   ]
  },
  {
   "cell_type": "code",
   "execution_count": 80,
   "id": "484ca056",
   "metadata": {},
   "outputs": [
    {
     "data": {
      "text/plain": [
       "6.7666666666666675"
      ]
     },
     "execution_count": 80,
     "metadata": {},
     "output_type": "execute_result"
    }
   ],
   "source": [
    "xone['user_score'].mean()"
   ]
  },
  {
   "cell_type": "code",
   "execution_count": 81,
   "id": "4252eca2",
   "metadata": {},
   "outputs": [
    {
     "data": {
      "text/plain": [
       "7.315860215053763"
      ]
     },
     "execution_count": 81,
     "metadata": {},
     "output_type": "execute_result"
    }
   ],
   "source": [
    "pc['user_score'].mean()"
   ]
  },
  {
   "cell_type": "markdown",
   "id": "a45cbb2f",
   "metadata": {},
   "source": [
    "### Средние пользовательские рейтинги жанров Action (англ. «действие», экшен-игры) и Sports (англ. «спортивные соревнования») разные."
   ]
  },
  {
   "cell_type": "markdown",
   "id": "54bb6e27",
   "metadata": {},
   "source": [
    "Нулевая гипотеза: Средние пользовательские рейтинги жанров Action  и Sports одинаковые. (пойдет от обратного, \"от противного\")\n",
    "\n",
    "Альтернативная гипотеза: Средние пользовательские рейтинги жанров Action  и Sports разные.\n",
    "\n",
    "Уровень статистической значимости a=0.1"
   ]
  },
  {
   "cell_type": "markdown",
   "id": "c1ee93b1",
   "metadata": {},
   "source": [
    "Мы установили уровень статистической значимости 0.1 так как, жанры action и sports очень сильно различаются, что значит, что нам нужно не такое маленькое pvalue, как например в прошлой гипотезе."
   ]
  },
  {
   "cell_type": "code",
   "execution_count": 82,
   "id": "5fcbd697",
   "metadata": {},
   "outputs": [
    {
     "data": {
      "text/plain": [
       "967"
      ]
     },
     "execution_count": 82,
     "metadata": {},
     "output_type": "execute_result"
    }
   ],
   "source": [
    "action = data.loc[data['genre']=='Action']\n",
    "action['user_score'].isna().sum()"
   ]
  },
  {
   "cell_type": "code",
   "execution_count": 83,
   "id": "3362fea3",
   "metadata": {},
   "outputs": [
    {
     "data": {
      "text/plain": [
       "753"
      ]
     },
     "execution_count": 83,
     "metadata": {},
     "output_type": "execute_result"
    }
   ],
   "source": [
    "sports = data.loc[data['genre']=='Sports']\n",
    "sports['user_score'].isna().sum()"
   ]
  },
  {
   "cell_type": "code",
   "execution_count": 84,
   "id": "4f19c79e",
   "metadata": {},
   "outputs": [
    {
     "data": {
      "text/plain": [
       "2.35910639840493"
      ]
     },
     "execution_count": 84,
     "metadata": {},
     "output_type": "execute_result"
    }
   ],
   "source": [
    "sports['user_score'].var()"
   ]
  },
  {
   "cell_type": "code",
   "execution_count": 85,
   "id": "a8ba089d",
   "metadata": {},
   "outputs": [
    {
     "data": {
      "text/plain": [
       "2.05149174037461"
      ]
     },
     "execution_count": 85,
     "metadata": {},
     "output_type": "execute_result"
    }
   ],
   "source": [
    "action['user_score'].var()"
   ]
  },
  {
   "cell_type": "code",
   "execution_count": 86,
   "id": "92e69113",
   "metadata": {},
   "outputs": [
    {
     "name": "stdout",
     "output_type": "stream",
     "text": [
      "гипотеза не отвергается, результаты теста: Ttest_indResult(statistic=-1.1852716391200304, pvalue=0.23608920577739095)\n"
     ]
    }
   ],
   "source": [
    "a = 0.01\n",
    "tt = st.ttest_ind(sports['user_score'].dropna(), action['user_score'].dropna(), equal_var=True)\n",
    "\n",
    "if tt[1] <= a:\n",
    "    print('гипотеза отвергается, результаты теста:', tt)\n",
    "else:\n",
    "    print('гипотеза не отвергается, результаты теста:', tt)"
   ]
  },
  {
   "cell_type": "markdown",
   "id": "020e870d",
   "metadata": {},
   "source": [
    "pvalue равно примерно 23%, что значит при нашем уровне значимости 1% мы не можем отвергнуть нулевую гипотезу."
   ]
  },
  {
   "cell_type": "code",
   "execution_count": 87,
   "id": "371afe26",
   "metadata": {},
   "outputs": [
    {
     "data": {
      "text/plain": [
       "7.125122349102773"
      ]
     },
     "execution_count": 87,
     "metadata": {},
     "output_type": "execute_result"
    }
   ],
   "source": [
    "sports['user_score'].mean()"
   ]
  },
  {
   "cell_type": "code",
   "execution_count": 88,
   "id": "877b7b7c",
   "metadata": {},
   "outputs": [
    {
     "data": {
      "text/plain": [
       "7.215400624349636"
      ]
     },
     "execution_count": 88,
     "metadata": {},
     "output_type": "execute_result"
    }
   ],
   "source": [
    "action['user_score'].mean()"
   ]
  },
  {
   "cell_type": "markdown",
   "id": "3dd36c74",
   "metadata": {},
   "source": [
    "## Общий вывод."
   ]
  },
  {
   "cell_type": "markdown",
   "id": "5c495e40",
   "metadata": {},
   "source": [
    "Из открытых источников доступны исторические данные о продажах игр, оценки пользователей и экспертов, жанры и платформы (например, Xbox или PlayStation). Мы выявили определяющие успешность игры закономерности. Это позволит сделать ставку на потенциально популярный продукт и спланировать рекламные кампании.\n",
    "\n",
    "Какие выводы можно сделать из нашего исследования:\n",
    "- Регионы NA и EU сильно похожи и имею почти идентичные тенденции, регион JP же сильно отличается от двух остальных, поэтому требует индивидуального подхода.\n",
    "- Средние пользовательские рейтинги платформ Xbox One и PC разные, значит к каждой плафторме нужно иметь индивидуальный подход\n",
    "- Средние пользовательские рейтинги жанров Action и Sports разные. Значит нужно чательно выбирать жанр игры в который выбирать, потому что эти два жанра имеют разные пользовательские оценки, то есть можно сказать, что они имеют разные критерии оценки."
   ]
  },
  {
   "cell_type": "markdown",
   "id": "8d371d6d",
   "metadata": {},
   "source": [
    "**Рекомендации:**\n",
    "Так как у нас стриминговый сервис, нужно ориентироваться на набирающие и уже набравшие популярность платформы. \n",
    "Поэтому в первую очередь нужно ориентироваться на такие платформы как PS4, 3DS и Xone, сокрее всего 3DS будет проблематично развивать как стриминговую платформу, тогда можно выбрать PC.\n",
    "\n",
    "- ориентироваться на самы популярные жанры во всех регионах, это жанры Action, Sports, Shooter, role-playing(это JP).\n",
    "- рейтинг M игр имеет наибольшее среднее и медианное количество продаж в сравнении с другими рейтингами, поэтому упор нужно делать именно на них.\n",
    "- рейтинги пользователей на xone и pc значит внимание нужно уделять разное, а чтобы узнать какие именно, нужно провести более глубокие исследования.\n",
    "- жанры action и sports имеют огромные разницы и в самих жанрах, и в пользовательских оценках, поэтому подход нужен разный, для этого нужно проветси более чательные исследования этих жанров."
   ]
  }
 ],
 "metadata": {
  "ExecuteTimeLog": [
   {
    "duration": 883,
    "start_time": "2023-06-04T11:30:53.131Z"
   },
   {
    "duration": 118,
    "start_time": "2023-06-04T11:30:54.017Z"
   },
   {
    "duration": 0,
    "start_time": "2023-06-04T11:30:54.139Z"
   },
   {
    "duration": 0,
    "start_time": "2023-06-04T11:30:54.140Z"
   },
   {
    "duration": 0,
    "start_time": "2023-06-04T11:30:54.141Z"
   },
   {
    "duration": 0,
    "start_time": "2023-06-04T11:30:54.142Z"
   },
   {
    "duration": 0,
    "start_time": "2023-06-04T11:30:54.143Z"
   },
   {
    "duration": 0,
    "start_time": "2023-06-04T11:30:54.144Z"
   },
   {
    "duration": 0,
    "start_time": "2023-06-04T11:30:54.145Z"
   },
   {
    "duration": 0,
    "start_time": "2023-06-04T11:30:54.146Z"
   },
   {
    "duration": 0,
    "start_time": "2023-06-04T11:30:54.147Z"
   },
   {
    "duration": 0,
    "start_time": "2023-06-04T11:30:54.149Z"
   },
   {
    "duration": 0,
    "start_time": "2023-06-04T11:30:54.150Z"
   },
   {
    "duration": 0,
    "start_time": "2023-06-04T11:30:54.152Z"
   },
   {
    "duration": 0,
    "start_time": "2023-06-04T11:30:54.153Z"
   },
   {
    "duration": 0,
    "start_time": "2023-06-04T11:30:54.154Z"
   },
   {
    "duration": 0,
    "start_time": "2023-06-04T11:30:54.155Z"
   },
   {
    "duration": 0,
    "start_time": "2023-06-04T11:30:54.156Z"
   },
   {
    "duration": 0,
    "start_time": "2023-06-04T11:30:54.157Z"
   },
   {
    "duration": 0,
    "start_time": "2023-06-04T11:30:54.158Z"
   },
   {
    "duration": 0,
    "start_time": "2023-06-04T11:30:54.159Z"
   },
   {
    "duration": 0,
    "start_time": "2023-06-04T11:30:54.160Z"
   },
   {
    "duration": 0,
    "start_time": "2023-06-04T11:30:54.161Z"
   },
   {
    "duration": 0,
    "start_time": "2023-06-04T11:30:54.162Z"
   },
   {
    "duration": 0,
    "start_time": "2023-06-04T11:30:54.163Z"
   },
   {
    "duration": 0,
    "start_time": "2023-06-04T11:30:54.164Z"
   },
   {
    "duration": 0,
    "start_time": "2023-06-04T11:30:54.165Z"
   },
   {
    "duration": 1,
    "start_time": "2023-06-04T11:30:54.166Z"
   },
   {
    "duration": 0,
    "start_time": "2023-06-04T11:30:54.168Z"
   },
   {
    "duration": 0,
    "start_time": "2023-06-04T11:30:54.169Z"
   },
   {
    "duration": 0,
    "start_time": "2023-06-04T11:30:54.169Z"
   },
   {
    "duration": 0,
    "start_time": "2023-06-04T11:30:54.171Z"
   },
   {
    "duration": 0,
    "start_time": "2023-06-04T11:30:54.171Z"
   },
   {
    "duration": 1,
    "start_time": "2023-06-04T11:30:54.172Z"
   },
   {
    "duration": 0,
    "start_time": "2023-06-04T11:30:54.174Z"
   },
   {
    "duration": 0,
    "start_time": "2023-06-04T11:30:54.175Z"
   },
   {
    "duration": 0,
    "start_time": "2023-06-04T11:30:54.176Z"
   },
   {
    "duration": 0,
    "start_time": "2023-06-04T11:30:54.177Z"
   },
   {
    "duration": 0,
    "start_time": "2023-06-04T11:30:54.178Z"
   },
   {
    "duration": 0,
    "start_time": "2023-06-04T11:30:54.179Z"
   },
   {
    "duration": 0,
    "start_time": "2023-06-04T11:30:54.180Z"
   },
   {
    "duration": 0,
    "start_time": "2023-06-04T11:30:54.181Z"
   },
   {
    "duration": 0,
    "start_time": "2023-06-04T11:30:54.182Z"
   },
   {
    "duration": 0,
    "start_time": "2023-06-04T11:30:54.246Z"
   },
   {
    "duration": 0,
    "start_time": "2023-06-04T11:30:54.247Z"
   },
   {
    "duration": 0,
    "start_time": "2023-06-04T11:30:54.248Z"
   },
   {
    "duration": 0,
    "start_time": "2023-06-04T11:30:54.249Z"
   },
   {
    "duration": 0,
    "start_time": "2023-06-04T11:30:54.250Z"
   },
   {
    "duration": 0,
    "start_time": "2023-06-04T11:30:54.251Z"
   },
   {
    "duration": 0,
    "start_time": "2023-06-04T11:30:54.252Z"
   },
   {
    "duration": 0,
    "start_time": "2023-06-04T11:30:54.253Z"
   },
   {
    "duration": 0,
    "start_time": "2023-06-04T11:30:54.254Z"
   },
   {
    "duration": 0,
    "start_time": "2023-06-04T11:30:54.255Z"
   },
   {
    "duration": 0,
    "start_time": "2023-06-04T11:30:54.256Z"
   },
   {
    "duration": 0,
    "start_time": "2023-06-04T11:30:54.257Z"
   },
   {
    "duration": 0,
    "start_time": "2023-06-04T11:30:54.258Z"
   },
   {
    "duration": 0,
    "start_time": "2023-06-04T11:30:54.259Z"
   },
   {
    "duration": 0,
    "start_time": "2023-06-04T11:30:54.260Z"
   },
   {
    "duration": 0,
    "start_time": "2023-06-04T11:30:54.261Z"
   },
   {
    "duration": 0,
    "start_time": "2023-06-04T11:30:54.263Z"
   },
   {
    "duration": 0,
    "start_time": "2023-06-04T11:30:54.264Z"
   },
   {
    "duration": 0,
    "start_time": "2023-06-04T11:30:54.265Z"
   },
   {
    "duration": 0,
    "start_time": "2023-06-04T11:30:54.266Z"
   },
   {
    "duration": 0,
    "start_time": "2023-06-04T11:30:54.267Z"
   },
   {
    "duration": 0,
    "start_time": "2023-06-04T11:30:54.269Z"
   },
   {
    "duration": 0,
    "start_time": "2023-06-04T11:30:54.270Z"
   },
   {
    "duration": 0,
    "start_time": "2023-06-04T11:30:54.271Z"
   },
   {
    "duration": 0,
    "start_time": "2023-06-04T11:30:54.272Z"
   },
   {
    "duration": 107,
    "start_time": "2023-06-04T22:20:15.611Z"
   },
   {
    "duration": 1247,
    "start_time": "2023-06-04T22:20:17.728Z"
   },
   {
    "duration": 162,
    "start_time": "2023-06-04T22:20:18.978Z"
   },
   {
    "duration": 23,
    "start_time": "2023-06-04T22:20:21.156Z"
   },
   {
    "duration": 5,
    "start_time": "2023-06-04T22:20:21.459Z"
   },
   {
    "duration": 33,
    "start_time": "2023-06-04T22:20:21.913Z"
   },
   {
    "duration": 936,
    "start_time": "2023-06-04T22:20:34.316Z"
   },
   {
    "duration": 69,
    "start_time": "2023-06-04T22:20:35.254Z"
   },
   {
    "duration": 29,
    "start_time": "2023-06-04T22:20:35.325Z"
   },
   {
    "duration": 53,
    "start_time": "2023-06-04T22:20:35.356Z"
   },
   {
    "duration": 202,
    "start_time": "2023-06-04T22:20:35.416Z"
   },
   {
    "duration": 98,
    "start_time": "2023-06-04T22:20:35.624Z"
   },
   {
    "duration": 49,
    "start_time": "2023-06-04T22:20:35.736Z"
   },
   {
    "duration": 72,
    "start_time": "2023-06-04T22:20:35.799Z"
   },
   {
    "duration": 185,
    "start_time": "2023-06-04T22:20:35.873Z"
   },
   {
    "duration": 71,
    "start_time": "2023-06-04T22:20:36.060Z"
   },
   {
    "duration": 65,
    "start_time": "2023-06-04T22:20:36.133Z"
   },
   {
    "duration": 130,
    "start_time": "2023-06-04T22:20:36.200Z"
   },
   {
    "duration": 143,
    "start_time": "2023-06-04T22:20:36.332Z"
   },
   {
    "duration": 169,
    "start_time": "2023-06-04T22:20:36.479Z"
   },
   {
    "duration": 106,
    "start_time": "2023-06-04T22:20:36.650Z"
   },
   {
    "duration": 268,
    "start_time": "2023-06-04T22:20:36.758Z"
   },
   {
    "duration": 10,
    "start_time": "2023-06-04T22:20:37.028Z"
   },
   {
    "duration": 47,
    "start_time": "2023-06-04T22:20:37.041Z"
   },
   {
    "duration": 314,
    "start_time": "2023-06-04T22:20:37.092Z"
   },
   {
    "duration": 11,
    "start_time": "2023-06-04T22:20:37.407Z"
   },
   {
    "duration": 111,
    "start_time": "2023-06-04T22:20:37.419Z"
   },
   {
    "duration": 270,
    "start_time": "2023-06-04T22:20:37.532Z"
   },
   {
    "duration": 219,
    "start_time": "2023-06-04T22:20:37.803Z"
   },
   {
    "duration": 244,
    "start_time": "2023-06-04T22:20:38.023Z"
   },
   {
    "duration": 208,
    "start_time": "2023-06-04T22:20:38.268Z"
   },
   {
    "duration": 252,
    "start_time": "2023-06-04T22:20:38.482Z"
   },
   {
    "duration": 327,
    "start_time": "2023-06-04T22:20:38.751Z"
   },
   {
    "duration": 238,
    "start_time": "2023-06-04T22:20:39.080Z"
   },
   {
    "duration": 294,
    "start_time": "2023-06-04T22:20:39.331Z"
   },
   {
    "duration": 36,
    "start_time": "2023-06-04T22:20:39.633Z"
   },
   {
    "duration": 220,
    "start_time": "2023-06-04T22:20:39.673Z"
   },
   {
    "duration": 46,
    "start_time": "2023-06-04T22:20:39.897Z"
   },
   {
    "duration": 102,
    "start_time": "2023-06-04T22:20:39.947Z"
   },
   {
    "duration": 915,
    "start_time": "2023-06-04T22:20:40.053Z"
   },
   {
    "duration": 161,
    "start_time": "2023-06-04T22:20:40.970Z"
   },
   {
    "duration": 166,
    "start_time": "2023-06-04T22:20:41.132Z"
   },
   {
    "duration": 112,
    "start_time": "2023-06-04T22:20:41.300Z"
   },
   {
    "duration": 0,
    "start_time": "2023-06-04T22:20:41.418Z"
   },
   {
    "duration": 0,
    "start_time": "2023-06-04T22:20:41.422Z"
   },
   {
    "duration": 0,
    "start_time": "2023-06-04T22:20:41.427Z"
   },
   {
    "duration": 0,
    "start_time": "2023-06-04T22:20:41.428Z"
   },
   {
    "duration": 0,
    "start_time": "2023-06-04T22:20:41.433Z"
   },
   {
    "duration": 0,
    "start_time": "2023-06-04T22:20:41.437Z"
   },
   {
    "duration": 0,
    "start_time": "2023-06-04T22:20:41.453Z"
   },
   {
    "duration": 0,
    "start_time": "2023-06-04T22:20:41.455Z"
   },
   {
    "duration": 0,
    "start_time": "2023-06-04T22:20:41.456Z"
   },
   {
    "duration": 0,
    "start_time": "2023-06-04T22:20:41.459Z"
   },
   {
    "duration": 0,
    "start_time": "2023-06-04T22:20:41.466Z"
   },
   {
    "duration": 0,
    "start_time": "2023-06-04T22:20:41.467Z"
   },
   {
    "duration": 0,
    "start_time": "2023-06-04T22:20:41.469Z"
   },
   {
    "duration": 0,
    "start_time": "2023-06-04T22:20:41.474Z"
   },
   {
    "duration": 0,
    "start_time": "2023-06-04T22:20:41.475Z"
   },
   {
    "duration": 0,
    "start_time": "2023-06-04T22:20:41.477Z"
   },
   {
    "duration": 0,
    "start_time": "2023-06-04T22:20:41.478Z"
   },
   {
    "duration": 0,
    "start_time": "2023-06-04T22:20:41.481Z"
   },
   {
    "duration": 0,
    "start_time": "2023-06-04T22:20:41.482Z"
   },
   {
    "duration": 0,
    "start_time": "2023-06-04T22:20:41.482Z"
   },
   {
    "duration": 0,
    "start_time": "2023-06-04T22:20:41.484Z"
   },
   {
    "duration": 0,
    "start_time": "2023-06-04T22:20:41.484Z"
   },
   {
    "duration": 0,
    "start_time": "2023-06-04T22:20:41.485Z"
   },
   {
    "duration": 0,
    "start_time": "2023-06-04T22:20:41.486Z"
   },
   {
    "duration": 0,
    "start_time": "2023-06-04T22:20:41.488Z"
   },
   {
    "duration": 0,
    "start_time": "2023-06-04T22:20:41.489Z"
   },
   {
    "duration": 0,
    "start_time": "2023-06-04T22:20:41.494Z"
   },
   {
    "duration": 0,
    "start_time": "2023-06-04T22:20:41.495Z"
   },
   {
    "duration": 0,
    "start_time": "2023-06-04T22:20:41.497Z"
   },
   {
    "duration": 0,
    "start_time": "2023-06-04T22:20:41.499Z"
   },
   {
    "duration": 0,
    "start_time": "2023-06-04T22:20:41.507Z"
   },
   {
    "duration": 13,
    "start_time": "2023-06-04T22:20:55.209Z"
   },
   {
    "duration": 777,
    "start_time": "2023-06-04T22:21:00.753Z"
   },
   {
    "duration": 98,
    "start_time": "2023-06-04T22:21:01.532Z"
   },
   {
    "duration": 37,
    "start_time": "2023-06-04T22:21:01.631Z"
   },
   {
    "duration": 281,
    "start_time": "2023-06-04T22:21:01.670Z"
   },
   {
    "duration": 153,
    "start_time": "2023-06-04T22:21:01.954Z"
   },
   {
    "duration": 109,
    "start_time": "2023-06-04T22:21:02.108Z"
   },
   {
    "duration": 111,
    "start_time": "2023-06-04T22:21:02.219Z"
   },
   {
    "duration": 177,
    "start_time": "2023-06-04T22:21:02.332Z"
   },
   {
    "duration": 195,
    "start_time": "2023-06-04T22:21:02.511Z"
   },
   {
    "duration": 112,
    "start_time": "2023-06-04T22:21:02.711Z"
   },
   {
    "duration": 138,
    "start_time": "2023-06-04T22:21:02.827Z"
   },
   {
    "duration": 119,
    "start_time": "2023-06-04T22:21:02.968Z"
   },
   {
    "duration": 273,
    "start_time": "2023-06-04T22:21:03.089Z"
   },
   {
    "duration": 10,
    "start_time": "2023-06-04T22:21:03.365Z"
   },
   {
    "duration": 30,
    "start_time": "2023-06-04T22:21:03.377Z"
   },
   {
    "duration": 235,
    "start_time": "2023-06-04T22:21:03.409Z"
   },
   {
    "duration": 11,
    "start_time": "2023-06-04T22:21:03.646Z"
   },
   {
    "duration": 21,
    "start_time": "2023-06-04T22:21:03.658Z"
   },
   {
    "duration": 262,
    "start_time": "2023-06-04T22:21:03.681Z"
   },
   {
    "duration": 6,
    "start_time": "2023-06-04T22:21:03.945Z"
   },
   {
    "duration": 80,
    "start_time": "2023-06-04T22:21:03.953Z"
   },
   {
    "duration": 274,
    "start_time": "2023-06-04T22:21:04.037Z"
   },
   {
    "duration": 287,
    "start_time": "2023-06-04T22:21:04.315Z"
   },
   {
    "duration": 258,
    "start_time": "2023-06-04T22:21:04.604Z"
   },
   {
    "duration": 196,
    "start_time": "2023-06-04T22:21:04.865Z"
   },
   {
    "duration": 197,
    "start_time": "2023-06-04T22:21:05.064Z"
   },
   {
    "duration": 158,
    "start_time": "2023-06-04T22:21:05.263Z"
   },
   {
    "duration": 153,
    "start_time": "2023-06-04T22:21:05.423Z"
   },
   {
    "duration": 235,
    "start_time": "2023-06-04T22:21:05.578Z"
   },
   {
    "duration": 36,
    "start_time": "2023-06-04T22:21:05.814Z"
   },
   {
    "duration": 219,
    "start_time": "2023-06-04T22:21:05.855Z"
   },
   {
    "duration": 79,
    "start_time": "2023-06-04T22:21:06.076Z"
   },
   {
    "duration": 40,
    "start_time": "2023-06-04T22:21:06.157Z"
   },
   {
    "duration": 930,
    "start_time": "2023-06-04T22:21:06.200Z"
   },
   {
    "duration": 211,
    "start_time": "2023-06-04T22:21:07.133Z"
   },
   {
    "duration": 192,
    "start_time": "2023-06-04T22:21:07.348Z"
   },
   {
    "duration": 13,
    "start_time": "2023-06-04T22:21:07.544Z"
   },
   {
    "duration": 213,
    "start_time": "2023-06-04T22:21:07.564Z"
   },
   {
    "duration": 162,
    "start_time": "2023-06-04T22:21:07.779Z"
   },
   {
    "duration": 101,
    "start_time": "2023-06-04T22:21:07.943Z"
   },
   {
    "duration": 0,
    "start_time": "2023-06-04T22:21:08.047Z"
   },
   {
    "duration": 0,
    "start_time": "2023-06-04T22:21:08.048Z"
   },
   {
    "duration": 0,
    "start_time": "2023-06-04T22:21:08.049Z"
   },
   {
    "duration": 0,
    "start_time": "2023-06-04T22:21:08.051Z"
   },
   {
    "duration": 0,
    "start_time": "2023-06-04T22:21:08.052Z"
   },
   {
    "duration": 0,
    "start_time": "2023-06-04T22:21:08.053Z"
   },
   {
    "duration": 0,
    "start_time": "2023-06-04T22:21:08.054Z"
   },
   {
    "duration": 0,
    "start_time": "2023-06-04T22:21:08.055Z"
   },
   {
    "duration": 0,
    "start_time": "2023-06-04T22:21:08.056Z"
   },
   {
    "duration": 0,
    "start_time": "2023-06-04T22:21:08.057Z"
   },
   {
    "duration": 0,
    "start_time": "2023-06-04T22:21:08.058Z"
   },
   {
    "duration": 0,
    "start_time": "2023-06-04T22:21:08.059Z"
   },
   {
    "duration": 0,
    "start_time": "2023-06-04T22:21:08.060Z"
   },
   {
    "duration": 0,
    "start_time": "2023-06-04T22:21:08.061Z"
   },
   {
    "duration": 0,
    "start_time": "2023-06-04T22:21:08.062Z"
   },
   {
    "duration": 0,
    "start_time": "2023-06-04T22:21:08.063Z"
   },
   {
    "duration": 0,
    "start_time": "2023-06-04T22:21:08.064Z"
   },
   {
    "duration": 0,
    "start_time": "2023-06-04T22:21:08.065Z"
   },
   {
    "duration": 0,
    "start_time": "2023-06-04T22:21:08.066Z"
   },
   {
    "duration": 0,
    "start_time": "2023-06-04T22:21:08.084Z"
   },
   {
    "duration": 0,
    "start_time": "2023-06-04T22:21:08.085Z"
   },
   {
    "duration": 0,
    "start_time": "2023-06-04T22:21:08.086Z"
   },
   {
    "duration": 0,
    "start_time": "2023-06-04T22:21:08.088Z"
   },
   {
    "duration": 0,
    "start_time": "2023-06-04T22:21:08.089Z"
   },
   {
    "duration": 0,
    "start_time": "2023-06-04T22:21:08.090Z"
   },
   {
    "duration": 0,
    "start_time": "2023-06-04T22:21:08.091Z"
   },
   {
    "duration": 0,
    "start_time": "2023-06-04T22:21:08.092Z"
   },
   {
    "duration": 0,
    "start_time": "2023-06-04T22:21:08.093Z"
   },
   {
    "duration": 982,
    "start_time": "2023-06-04T22:21:46.206Z"
   },
   {
    "duration": 99,
    "start_time": "2023-06-04T22:21:47.190Z"
   },
   {
    "duration": 18,
    "start_time": "2023-06-04T22:21:47.291Z"
   },
   {
    "duration": 102,
    "start_time": "2023-06-04T22:21:47.311Z"
   },
   {
    "duration": 66,
    "start_time": "2023-06-04T22:21:47.415Z"
   },
   {
    "duration": 73,
    "start_time": "2023-06-04T22:21:47.483Z"
   },
   {
    "duration": 27,
    "start_time": "2023-06-04T22:21:47.558Z"
   },
   {
    "duration": 68,
    "start_time": "2023-06-04T22:21:47.591Z"
   },
   {
    "duration": 44,
    "start_time": "2023-06-04T22:21:47.662Z"
   },
   {
    "duration": 52,
    "start_time": "2023-06-04T22:21:47.708Z"
   },
   {
    "duration": 9,
    "start_time": "2023-06-04T22:21:47.762Z"
   },
   {
    "duration": 8,
    "start_time": "2023-06-04T22:21:47.772Z"
   },
   {
    "duration": 38,
    "start_time": "2023-06-04T22:21:47.781Z"
   },
   {
    "duration": 38,
    "start_time": "2023-06-04T22:21:47.822Z"
   },
   {
    "duration": 19,
    "start_time": "2023-06-04T22:21:47.862Z"
   },
   {
    "duration": 328,
    "start_time": "2023-06-04T22:21:47.883Z"
   },
   {
    "duration": 10,
    "start_time": "2023-06-04T22:21:48.213Z"
   },
   {
    "duration": 55,
    "start_time": "2023-06-04T22:21:48.225Z"
   },
   {
    "duration": 315,
    "start_time": "2023-06-04T22:21:48.291Z"
   },
   {
    "duration": 12,
    "start_time": "2023-06-04T22:21:48.610Z"
   },
   {
    "duration": 99,
    "start_time": "2023-06-04T22:21:48.625Z"
   },
   {
    "duration": 225,
    "start_time": "2023-06-04T22:21:48.729Z"
   },
   {
    "duration": 220,
    "start_time": "2023-06-04T22:21:48.957Z"
   },
   {
    "duration": 224,
    "start_time": "2023-06-04T22:21:49.179Z"
   },
   {
    "duration": 169,
    "start_time": "2023-06-04T22:21:49.404Z"
   },
   {
    "duration": 220,
    "start_time": "2023-06-04T22:21:49.575Z"
   },
   {
    "duration": 180,
    "start_time": "2023-06-04T22:21:49.797Z"
   },
   {
    "duration": 196,
    "start_time": "2023-06-04T22:21:49.984Z"
   },
   {
    "duration": 272,
    "start_time": "2023-06-04T22:21:50.182Z"
   },
   {
    "duration": 37,
    "start_time": "2023-06-04T22:21:50.456Z"
   },
   {
    "duration": 300,
    "start_time": "2023-06-04T22:21:50.495Z"
   },
   {
    "duration": 44,
    "start_time": "2023-06-04T22:21:50.796Z"
   },
   {
    "duration": 40,
    "start_time": "2023-06-04T22:21:50.842Z"
   },
   {
    "duration": 789,
    "start_time": "2023-06-04T22:21:50.884Z"
   },
   {
    "duration": 183,
    "start_time": "2023-06-04T22:21:51.675Z"
   },
   {
    "duration": 211,
    "start_time": "2023-06-04T22:21:51.860Z"
   },
   {
    "duration": 8,
    "start_time": "2023-06-04T22:21:52.073Z"
   },
   {
    "duration": 274,
    "start_time": "2023-06-04T22:21:52.083Z"
   },
   {
    "duration": 221,
    "start_time": "2023-06-04T22:21:52.361Z"
   },
   {
    "duration": 23,
    "start_time": "2023-06-04T22:21:52.585Z"
   },
   {
    "duration": 87,
    "start_time": "2023-06-04T22:21:52.621Z"
   },
   {
    "duration": 69,
    "start_time": "2023-06-04T22:21:52.713Z"
   },
   {
    "duration": 72,
    "start_time": "2023-06-04T22:21:52.783Z"
   },
   {
    "duration": 309,
    "start_time": "2023-06-04T22:21:52.857Z"
   },
   {
    "duration": 318,
    "start_time": "2023-06-04T22:21:53.179Z"
   },
   {
    "duration": 22,
    "start_time": "2023-06-04T22:21:53.507Z"
   },
   {
    "duration": 45,
    "start_time": "2023-06-04T22:21:53.535Z"
   },
   {
    "duration": 97,
    "start_time": "2023-06-04T22:21:53.581Z"
   },
   {
    "duration": 34,
    "start_time": "2023-06-04T22:21:53.680Z"
   },
   {
    "duration": 57,
    "start_time": "2023-06-04T22:21:53.715Z"
   },
   {
    "duration": 53,
    "start_time": "2023-06-04T22:21:53.773Z"
   },
   {
    "duration": 85,
    "start_time": "2023-06-04T22:21:53.829Z"
   },
   {
    "duration": 64,
    "start_time": "2023-06-04T22:21:53.916Z"
   },
   {
    "duration": 64,
    "start_time": "2023-06-04T22:21:53.982Z"
   },
   {
    "duration": 18,
    "start_time": "2023-06-04T22:21:54.053Z"
   },
   {
    "duration": 73,
    "start_time": "2023-06-04T22:21:54.073Z"
   },
   {
    "duration": 221,
    "start_time": "2023-06-04T22:21:54.150Z"
   },
   {
    "duration": 57,
    "start_time": "2023-06-04T22:21:54.373Z"
   },
   {
    "duration": 176,
    "start_time": "2023-06-04T22:21:54.432Z"
   },
   {
    "duration": 571,
    "start_time": "2023-06-04T22:21:54.610Z"
   },
   {
    "duration": 16,
    "start_time": "2023-06-04T22:21:55.183Z"
   },
   {
    "duration": 57,
    "start_time": "2023-06-04T22:21:55.213Z"
   },
   {
    "duration": 102,
    "start_time": "2023-06-04T22:21:55.272Z"
   },
   {
    "duration": 86,
    "start_time": "2023-06-04T22:21:55.376Z"
   },
   {
    "duration": 9,
    "start_time": "2023-06-04T22:21:55.463Z"
   },
   {
    "duration": 8,
    "start_time": "2023-06-04T22:21:55.473Z"
   },
   {
    "duration": 79,
    "start_time": "2023-06-04T22:21:55.482Z"
   },
   {
    "duration": 9,
    "start_time": "2023-06-04T22:21:55.564Z"
   },
   {
    "duration": 754,
    "start_time": "2023-06-05T02:19:40.020Z"
   },
   {
    "duration": 59,
    "start_time": "2023-06-05T02:19:40.776Z"
   },
   {
    "duration": 132,
    "start_time": "2023-06-05T02:19:40.837Z"
   },
   {
    "duration": 128,
    "start_time": "2023-06-05T02:19:40.971Z"
   },
   {
    "duration": 120,
    "start_time": "2023-06-05T02:19:41.101Z"
   },
   {
    "duration": 114,
    "start_time": "2023-06-05T02:19:41.223Z"
   },
   {
    "duration": 105,
    "start_time": "2023-06-05T02:19:41.338Z"
   },
   {
    "duration": 102,
    "start_time": "2023-06-05T02:19:41.445Z"
   },
   {
    "duration": 90,
    "start_time": "2023-06-05T02:19:41.549Z"
   },
   {
    "duration": 73,
    "start_time": "2023-06-05T02:19:41.642Z"
   },
   {
    "duration": 109,
    "start_time": "2023-06-05T02:19:41.718Z"
   },
   {
    "duration": 129,
    "start_time": "2023-06-05T02:19:41.829Z"
   },
   {
    "duration": 73,
    "start_time": "2023-06-05T02:19:41.960Z"
   },
   {
    "duration": 117,
    "start_time": "2023-06-05T02:19:42.035Z"
   },
   {
    "duration": 119,
    "start_time": "2023-06-05T02:19:42.154Z"
   },
   {
    "duration": 299,
    "start_time": "2023-06-05T02:19:42.274Z"
   },
   {
    "duration": 8,
    "start_time": "2023-06-05T02:19:42.575Z"
   },
   {
    "duration": 105,
    "start_time": "2023-06-05T02:19:42.585Z"
   },
   {
    "duration": 315,
    "start_time": "2023-06-05T02:19:42.692Z"
   },
   {
    "duration": 6,
    "start_time": "2023-06-05T02:19:43.009Z"
   },
   {
    "duration": 134,
    "start_time": "2023-06-05T02:19:43.016Z"
   },
   {
    "duration": 229,
    "start_time": "2023-06-05T02:19:43.152Z"
   },
   {
    "duration": 198,
    "start_time": "2023-06-05T02:19:43.383Z"
   },
   {
    "duration": 265,
    "start_time": "2023-06-05T02:19:43.583Z"
   },
   {
    "duration": 179,
    "start_time": "2023-06-05T02:19:43.850Z"
   },
   {
    "duration": 211,
    "start_time": "2023-06-05T02:19:44.031Z"
   },
   {
    "duration": 261,
    "start_time": "2023-06-05T02:19:44.244Z"
   },
   {
    "duration": 202,
    "start_time": "2023-06-05T02:19:44.510Z"
   },
   {
    "duration": 230,
    "start_time": "2023-06-05T02:19:44.714Z"
   },
   {
    "duration": 27,
    "start_time": "2023-06-05T02:19:44.946Z"
   },
   {
    "duration": 268,
    "start_time": "2023-06-05T02:19:44.974Z"
   },
   {
    "duration": 271,
    "start_time": "2023-06-05T02:19:45.244Z"
   },
   {
    "duration": 174,
    "start_time": "2023-06-05T02:19:45.517Z"
   },
   {
    "duration": 1081,
    "start_time": "2023-06-05T02:19:45.693Z"
   },
   {
    "duration": 236,
    "start_time": "2023-06-05T02:19:46.776Z"
   },
   {
    "duration": 207,
    "start_time": "2023-06-05T02:19:47.015Z"
   },
   {
    "duration": 21,
    "start_time": "2023-06-05T02:19:47.225Z"
   },
   {
    "duration": 327,
    "start_time": "2023-06-05T02:19:47.248Z"
   },
   {
    "duration": 202,
    "start_time": "2023-06-05T02:19:47.577Z"
   },
   {
    "duration": 95,
    "start_time": "2023-06-05T02:19:47.781Z"
   },
   {
    "duration": 203,
    "start_time": "2023-06-05T02:19:47.878Z"
   },
   {
    "duration": 131,
    "start_time": "2023-06-05T02:19:48.082Z"
   },
   {
    "duration": 198,
    "start_time": "2023-06-05T02:19:48.215Z"
   },
   {
    "duration": 265,
    "start_time": "2023-06-05T02:19:48.419Z"
   },
   {
    "duration": 231,
    "start_time": "2023-06-05T02:19:48.686Z"
   },
   {
    "duration": 23,
    "start_time": "2023-06-05T02:19:48.920Z"
   },
   {
    "duration": 224,
    "start_time": "2023-06-05T02:19:48.945Z"
   },
   {
    "duration": 71,
    "start_time": "2023-06-05T02:19:49.171Z"
   },
   {
    "duration": 42,
    "start_time": "2023-06-05T02:19:49.245Z"
   },
   {
    "duration": 99,
    "start_time": "2023-06-05T02:19:49.289Z"
   },
   {
    "duration": 94,
    "start_time": "2023-06-05T02:19:49.391Z"
   },
   {
    "duration": 119,
    "start_time": "2023-06-05T02:19:49.488Z"
   },
   {
    "duration": 509,
    "start_time": "2023-06-05T02:19:49.609Z"
   },
   {
    "duration": 315,
    "start_time": "2023-06-05T02:19:50.120Z"
   },
   {
    "duration": 174,
    "start_time": "2023-06-05T02:19:50.437Z"
   },
   {
    "duration": 187,
    "start_time": "2023-06-05T02:19:50.613Z"
   },
   {
    "duration": 258,
    "start_time": "2023-06-05T02:19:50.802Z"
   },
   {
    "duration": 178,
    "start_time": "2023-06-05T02:19:51.062Z"
   },
   {
    "duration": 138,
    "start_time": "2023-06-05T02:19:51.242Z"
   },
   {
    "duration": 692,
    "start_time": "2023-06-05T02:19:51.382Z"
   },
   {
    "duration": 5,
    "start_time": "2023-06-05T02:19:52.076Z"
   },
   {
    "duration": 282,
    "start_time": "2023-06-05T02:19:52.082Z"
   },
   {
    "duration": 167,
    "start_time": "2023-06-05T02:19:52.366Z"
   },
   {
    "duration": 140,
    "start_time": "2023-06-05T02:19:52.535Z"
   },
   {
    "duration": 154,
    "start_time": "2023-06-05T02:19:52.677Z"
   },
   {
    "duration": 107,
    "start_time": "2023-06-05T02:19:52.833Z"
   },
   {
    "duration": 150,
    "start_time": "2023-06-05T02:19:52.942Z"
   },
   {
    "duration": 132,
    "start_time": "2023-06-05T02:19:53.095Z"
   },
   {
    "duration": 7,
    "start_time": "2023-06-05T02:32:31.720Z"
   },
   {
    "duration": 865,
    "start_time": "2023-06-06T19:16:07.714Z"
   },
   {
    "duration": 95,
    "start_time": "2023-06-06T19:16:08.581Z"
   },
   {
    "duration": 18,
    "start_time": "2023-06-06T19:16:08.678Z"
   },
   {
    "duration": 25,
    "start_time": "2023-06-06T19:16:08.698Z"
   },
   {
    "duration": 27,
    "start_time": "2023-06-06T19:16:08.725Z"
   },
   {
    "duration": 5,
    "start_time": "2023-06-06T19:16:08.754Z"
   },
   {
    "duration": 17,
    "start_time": "2023-06-06T19:16:08.760Z"
   },
   {
    "duration": 14,
    "start_time": "2023-06-06T19:16:08.778Z"
   },
   {
    "duration": 31,
    "start_time": "2023-06-06T19:16:08.793Z"
   },
   {
    "duration": 4,
    "start_time": "2023-06-06T19:16:08.827Z"
   },
   {
    "duration": 24,
    "start_time": "2023-06-06T19:16:08.833Z"
   },
   {
    "duration": 15,
    "start_time": "2023-06-06T19:16:08.859Z"
   },
   {
    "duration": 20,
    "start_time": "2023-06-06T19:16:08.875Z"
   },
   {
    "duration": 23,
    "start_time": "2023-06-06T19:16:08.897Z"
   },
   {
    "duration": 26,
    "start_time": "2023-06-06T19:16:08.922Z"
   },
   {
    "duration": 11,
    "start_time": "2023-06-06T19:16:08.949Z"
   },
   {
    "duration": 200,
    "start_time": "2023-06-06T19:16:08.961Z"
   },
   {
    "duration": 6,
    "start_time": "2023-06-06T19:16:09.162Z"
   },
   {
    "duration": 29,
    "start_time": "2023-06-06T19:16:09.170Z"
   },
   {
    "duration": 22,
    "start_time": "2023-06-06T19:16:09.201Z"
   },
   {
    "duration": 21,
    "start_time": "2023-06-06T19:16:09.225Z"
   },
   {
    "duration": 12,
    "start_time": "2023-06-06T19:16:09.247Z"
   },
   {
    "duration": 24,
    "start_time": "2023-06-06T19:16:09.261Z"
   },
   {
    "duration": 33,
    "start_time": "2023-06-06T19:16:09.286Z"
   },
   {
    "duration": 31,
    "start_time": "2023-06-06T19:16:09.320Z"
   },
   {
    "duration": 38,
    "start_time": "2023-06-06T19:16:09.353Z"
   },
   {
    "duration": 9,
    "start_time": "2023-06-06T19:16:09.393Z"
   },
   {
    "duration": 567,
    "start_time": "2023-06-06T19:16:09.406Z"
   },
   {
    "duration": 192,
    "start_time": "2023-06-06T19:16:09.974Z"
   },
   {
    "duration": 175,
    "start_time": "2023-06-06T19:16:10.169Z"
   },
   {
    "duration": 5,
    "start_time": "2023-06-06T19:16:10.346Z"
   },
   {
    "duration": 37,
    "start_time": "2023-06-06T19:16:10.353Z"
   },
   {
    "duration": 156,
    "start_time": "2023-06-06T19:16:10.392Z"
   },
   {
    "duration": 165,
    "start_time": "2023-06-06T19:16:10.550Z"
   },
   {
    "duration": 174,
    "start_time": "2023-06-06T19:16:10.716Z"
   },
   {
    "duration": 174,
    "start_time": "2023-06-06T19:16:10.892Z"
   },
   {
    "duration": 15,
    "start_time": "2023-06-06T19:16:11.068Z"
   },
   {
    "duration": 249,
    "start_time": "2023-06-06T19:16:11.085Z"
   },
   {
    "duration": 4,
    "start_time": "2023-06-06T19:16:11.335Z"
   },
   {
    "duration": 8,
    "start_time": "2023-06-06T19:16:11.346Z"
   },
   {
    "duration": 171,
    "start_time": "2023-06-06T19:16:11.356Z"
   },
   {
    "duration": 167,
    "start_time": "2023-06-06T19:16:11.528Z"
   },
   {
    "duration": 176,
    "start_time": "2023-06-06T19:16:11.696Z"
   },
   {
    "duration": 23,
    "start_time": "2023-06-06T19:16:11.874Z"
   },
   {
    "duration": 219,
    "start_time": "2023-06-06T19:16:11.898Z"
   },
   {
    "duration": 35,
    "start_time": "2023-06-06T19:16:12.119Z"
   },
   {
    "duration": 7,
    "start_time": "2023-06-06T19:16:12.155Z"
   },
   {
    "duration": 6,
    "start_time": "2023-06-06T19:16:12.164Z"
   },
   {
    "duration": 490,
    "start_time": "2023-06-06T19:16:12.171Z"
   },
   {
    "duration": 2,
    "start_time": "2023-06-06T19:16:12.663Z"
   },
   {
    "duration": 146,
    "start_time": "2023-06-06T19:16:12.667Z"
   },
   {
    "duration": 157,
    "start_time": "2023-06-06T19:16:12.815Z"
   },
   {
    "duration": 8,
    "start_time": "2023-06-06T19:16:12.974Z"
   },
   {
    "duration": 179,
    "start_time": "2023-06-06T19:16:12.983Z"
   },
   {
    "duration": 155,
    "start_time": "2023-06-06T19:16:13.164Z"
   },
   {
    "duration": 9,
    "start_time": "2023-06-06T19:16:13.321Z"
   },
   {
    "duration": 19,
    "start_time": "2023-06-06T19:16:13.331Z"
   },
   {
    "duration": 8,
    "start_time": "2023-06-06T19:16:13.352Z"
   },
   {
    "duration": 14,
    "start_time": "2023-06-06T19:16:13.361Z"
   },
   {
    "duration": 200,
    "start_time": "2023-06-06T19:16:13.377Z"
   },
   {
    "duration": 430,
    "start_time": "2023-06-06T19:16:13.579Z"
   },
   {
    "duration": 13,
    "start_time": "2023-06-06T19:16:14.012Z"
   },
   {
    "duration": 35,
    "start_time": "2023-06-06T19:16:14.028Z"
   },
   {
    "duration": 7,
    "start_time": "2023-06-06T19:16:14.065Z"
   },
   {
    "duration": 8,
    "start_time": "2023-06-06T19:16:14.074Z"
   },
   {
    "duration": 8,
    "start_time": "2023-06-06T19:16:14.084Z"
   },
   {
    "duration": 21,
    "start_time": "2023-06-06T19:16:14.093Z"
   },
   {
    "duration": 33,
    "start_time": "2023-06-06T19:16:14.116Z"
   },
   {
    "duration": 14,
    "start_time": "2023-06-06T19:16:14.151Z"
   },
   {
    "duration": 8,
    "start_time": "2023-06-06T19:16:14.167Z"
   },
   {
    "duration": 22,
    "start_time": "2023-06-06T19:16:14.176Z"
   },
   {
    "duration": 36,
    "start_time": "2023-06-06T19:16:14.200Z"
   },
   {
    "duration": 130,
    "start_time": "2023-06-06T19:16:14.238Z"
   },
   {
    "duration": 27,
    "start_time": "2023-06-06T19:16:14.369Z"
   },
   {
    "duration": 25,
    "start_time": "2023-06-06T19:16:14.397Z"
   },
   {
    "duration": 36,
    "start_time": "2023-06-06T19:16:14.424Z"
   },
   {
    "duration": 8,
    "start_time": "2023-06-06T19:16:14.462Z"
   },
   {
    "duration": 8,
    "start_time": "2023-06-06T19:16:14.471Z"
   },
   {
    "duration": 14,
    "start_time": "2023-06-06T19:16:14.481Z"
   },
   {
    "duration": 12,
    "start_time": "2023-06-06T19:16:14.497Z"
   },
   {
    "duration": 7,
    "start_time": "2023-06-06T19:16:14.511Z"
   },
   {
    "duration": 6,
    "start_time": "2023-06-06T19:16:14.523Z"
   },
   {
    "duration": 6,
    "start_time": "2023-06-06T19:16:14.545Z"
   },
   {
    "duration": 7,
    "start_time": "2023-06-06T19:16:14.553Z"
   },
   {
    "duration": 5,
    "start_time": "2023-06-06T19:16:14.561Z"
   },
   {
    "duration": 6,
    "start_time": "2023-06-06T19:16:14.568Z"
   },
   {
    "duration": 6,
    "start_time": "2023-06-06T19:16:14.576Z"
   },
   {
    "duration": 6,
    "start_time": "2023-06-06T19:16:14.583Z"
   },
   {
    "duration": 697,
    "start_time": "2023-06-07T03:22:45.462Z"
   },
   {
    "duration": 117,
    "start_time": "2023-06-07T03:22:46.161Z"
   },
   {
    "duration": 18,
    "start_time": "2023-06-07T03:22:46.280Z"
   },
   {
    "duration": 17,
    "start_time": "2023-06-07T03:22:46.300Z"
   },
   {
    "duration": 22,
    "start_time": "2023-06-07T03:22:46.320Z"
   },
   {
    "duration": 19,
    "start_time": "2023-06-07T03:22:46.344Z"
   },
   {
    "duration": 48,
    "start_time": "2023-06-07T03:22:46.364Z"
   },
   {
    "duration": 10,
    "start_time": "2023-06-07T03:22:46.414Z"
   },
   {
    "duration": 28,
    "start_time": "2023-06-07T03:22:46.425Z"
   },
   {
    "duration": 4,
    "start_time": "2023-06-07T03:22:46.454Z"
   },
   {
    "duration": 23,
    "start_time": "2023-06-07T03:22:46.459Z"
   },
   {
    "duration": 48,
    "start_time": "2023-06-07T03:22:46.483Z"
   },
   {
    "duration": 36,
    "start_time": "2023-06-07T03:22:46.532Z"
   },
   {
    "duration": 39,
    "start_time": "2023-06-07T03:22:46.571Z"
   },
   {
    "duration": 32,
    "start_time": "2023-06-07T03:22:46.611Z"
   },
   {
    "duration": 7,
    "start_time": "2023-06-07T03:22:46.645Z"
   },
   {
    "duration": 149,
    "start_time": "2023-06-07T03:22:46.654Z"
   },
   {
    "duration": 5,
    "start_time": "2023-06-07T03:22:46.805Z"
   },
   {
    "duration": 22,
    "start_time": "2023-06-07T03:22:46.811Z"
   },
   {
    "duration": 17,
    "start_time": "2023-06-07T03:22:46.835Z"
   },
   {
    "duration": 7,
    "start_time": "2023-06-07T03:22:46.853Z"
   },
   {
    "duration": 48,
    "start_time": "2023-06-07T03:22:46.861Z"
   },
   {
    "duration": 13,
    "start_time": "2023-06-07T03:22:46.911Z"
   },
   {
    "duration": 5,
    "start_time": "2023-06-07T03:22:46.926Z"
   },
   {
    "duration": 10,
    "start_time": "2023-06-07T03:22:46.933Z"
   },
   {
    "duration": 21,
    "start_time": "2023-06-07T03:22:46.944Z"
   },
   {
    "duration": 4,
    "start_time": "2023-06-07T03:22:46.966Z"
   },
   {
    "duration": 471,
    "start_time": "2023-06-07T03:22:46.971Z"
   },
   {
    "duration": 168,
    "start_time": "2023-06-07T03:22:47.443Z"
   },
   {
    "duration": 135,
    "start_time": "2023-06-07T03:22:47.613Z"
   },
   {
    "duration": 5,
    "start_time": "2023-06-07T03:22:47.749Z"
   },
   {
    "duration": 41,
    "start_time": "2023-06-07T03:22:47.755Z"
   },
   {
    "duration": 131,
    "start_time": "2023-06-07T03:22:47.798Z"
   },
   {
    "duration": 136,
    "start_time": "2023-06-07T03:22:47.930Z"
   },
   {
    "duration": 174,
    "start_time": "2023-06-07T03:22:48.068Z"
   },
   {
    "duration": 164,
    "start_time": "2023-06-07T03:22:48.243Z"
   },
   {
    "duration": 17,
    "start_time": "2023-06-07T03:22:48.409Z"
   },
   {
    "duration": 210,
    "start_time": "2023-06-07T03:22:48.428Z"
   },
   {
    "duration": 4,
    "start_time": "2023-06-07T03:22:48.640Z"
   },
   {
    "duration": 13,
    "start_time": "2023-06-07T03:22:48.646Z"
   },
   {
    "duration": 162,
    "start_time": "2023-06-07T03:22:48.663Z"
   },
   {
    "duration": 155,
    "start_time": "2023-06-07T03:22:48.826Z"
   },
   {
    "duration": 150,
    "start_time": "2023-06-07T03:22:48.994Z"
   },
   {
    "duration": 21,
    "start_time": "2023-06-07T03:22:49.145Z"
   },
   {
    "duration": 187,
    "start_time": "2023-06-07T03:22:49.167Z"
   },
   {
    "duration": 48,
    "start_time": "2023-06-07T03:22:49.356Z"
   },
   {
    "duration": 9,
    "start_time": "2023-06-07T03:22:49.406Z"
   },
   {
    "duration": 30,
    "start_time": "2023-06-07T03:22:49.417Z"
   },
   {
    "duration": 417,
    "start_time": "2023-06-07T03:22:49.448Z"
   },
   {
    "duration": 2,
    "start_time": "2023-06-07T03:22:49.866Z"
   },
   {
    "duration": 129,
    "start_time": "2023-06-07T03:22:49.869Z"
   },
   {
    "duration": 131,
    "start_time": "2023-06-07T03:22:49.999Z"
   },
   {
    "duration": 6,
    "start_time": "2023-06-07T03:22:50.131Z"
   },
   {
    "duration": 168,
    "start_time": "2023-06-07T03:22:50.138Z"
   },
   {
    "duration": 129,
    "start_time": "2023-06-07T03:22:50.313Z"
   },
   {
    "duration": 8,
    "start_time": "2023-06-07T03:22:50.443Z"
   },
   {
    "duration": 7,
    "start_time": "2023-06-07T03:22:50.452Z"
   },
   {
    "duration": 11,
    "start_time": "2023-06-07T03:22:50.460Z"
   },
   {
    "duration": 25,
    "start_time": "2023-06-07T03:22:50.496Z"
   },
   {
    "duration": 215,
    "start_time": "2023-06-07T03:22:50.522Z"
   },
   {
    "duration": 295,
    "start_time": "2023-06-07T03:22:50.738Z"
   },
   {
    "duration": 10,
    "start_time": "2023-06-07T03:22:51.035Z"
   },
   {
    "duration": 17,
    "start_time": "2023-06-07T03:22:51.047Z"
   },
   {
    "duration": 29,
    "start_time": "2023-06-07T03:22:51.065Z"
   },
   {
    "duration": 24,
    "start_time": "2023-06-07T03:22:51.095Z"
   },
   {
    "duration": 19,
    "start_time": "2023-06-07T03:22:51.121Z"
   },
   {
    "duration": 29,
    "start_time": "2023-06-07T03:22:51.142Z"
   },
   {
    "duration": 6,
    "start_time": "2023-06-07T03:22:51.173Z"
   },
   {
    "duration": 28,
    "start_time": "2023-06-07T03:22:51.180Z"
   },
   {
    "duration": 27,
    "start_time": "2023-06-07T03:22:51.210Z"
   },
   {
    "duration": 9,
    "start_time": "2023-06-07T03:22:51.239Z"
   },
   {
    "duration": 63,
    "start_time": "2023-06-07T03:22:51.250Z"
   },
   {
    "duration": 116,
    "start_time": "2023-06-07T03:22:51.315Z"
   },
   {
    "duration": 24,
    "start_time": "2023-06-07T03:22:51.433Z"
   },
   {
    "duration": 56,
    "start_time": "2023-06-07T03:22:51.459Z"
   },
   {
    "duration": 21,
    "start_time": "2023-06-07T03:22:51.520Z"
   },
   {
    "duration": 11,
    "start_time": "2023-06-07T03:22:51.543Z"
   },
   {
    "duration": 35,
    "start_time": "2023-06-07T03:22:51.555Z"
   },
   {
    "duration": 37,
    "start_time": "2023-06-07T03:22:51.591Z"
   },
   {
    "duration": 14,
    "start_time": "2023-06-07T03:22:51.629Z"
   },
   {
    "duration": 19,
    "start_time": "2023-06-07T03:22:51.644Z"
   },
   {
    "duration": 56,
    "start_time": "2023-06-07T03:22:51.665Z"
   },
   {
    "duration": 42,
    "start_time": "2023-06-07T03:22:51.723Z"
   },
   {
    "duration": 14,
    "start_time": "2023-06-07T03:22:51.767Z"
   },
   {
    "duration": 40,
    "start_time": "2023-06-07T03:22:51.783Z"
   },
   {
    "duration": 47,
    "start_time": "2023-06-07T03:22:51.825Z"
   },
   {
    "duration": 24,
    "start_time": "2023-06-07T03:22:51.874Z"
   },
   {
    "duration": 36,
    "start_time": "2023-06-07T03:22:51.899Z"
   },
   {
    "duration": 20,
    "start_time": "2023-06-07T03:25:46.177Z"
   },
   {
    "duration": 108,
    "start_time": "2023-06-07T03:29:12.156Z"
   },
   {
    "duration": 47,
    "start_time": "2023-06-07T08:26:43.705Z"
   },
   {
    "duration": 851,
    "start_time": "2023-06-07T08:26:51.394Z"
   },
   {
    "duration": 199,
    "start_time": "2023-06-07T08:26:52.247Z"
   },
   {
    "duration": 27,
    "start_time": "2023-06-07T08:26:52.448Z"
   },
   {
    "duration": 4,
    "start_time": "2023-06-07T08:26:52.478Z"
   },
   {
    "duration": 18,
    "start_time": "2023-06-07T08:26:52.485Z"
   },
   {
    "duration": 6,
    "start_time": "2023-06-07T08:26:52.505Z"
   },
   {
    "duration": 39,
    "start_time": "2023-06-07T08:26:52.513Z"
   },
   {
    "duration": 10,
    "start_time": "2023-06-07T08:26:52.554Z"
   },
   {
    "duration": 25,
    "start_time": "2023-06-07T08:26:52.566Z"
   },
   {
    "duration": 5,
    "start_time": "2023-06-07T08:26:52.593Z"
   },
   {
    "duration": 12,
    "start_time": "2023-06-07T08:26:52.599Z"
   },
   {
    "duration": 38,
    "start_time": "2023-06-07T08:26:52.613Z"
   },
   {
    "duration": 20,
    "start_time": "2023-06-07T08:26:52.653Z"
   },
   {
    "duration": 8,
    "start_time": "2023-06-07T08:26:52.675Z"
   },
   {
    "duration": 16,
    "start_time": "2023-06-07T08:26:52.685Z"
   },
   {
    "duration": 11,
    "start_time": "2023-06-07T08:26:52.702Z"
   },
   {
    "duration": 241,
    "start_time": "2023-06-07T08:26:52.714Z"
   },
   {
    "duration": 9,
    "start_time": "2023-06-07T08:26:52.957Z"
   },
   {
    "duration": 19,
    "start_time": "2023-06-07T08:26:52.968Z"
   },
   {
    "duration": 21,
    "start_time": "2023-06-07T08:26:52.988Z"
   },
   {
    "duration": 8,
    "start_time": "2023-06-07T08:26:53.011Z"
   },
   {
    "duration": 19,
    "start_time": "2023-06-07T08:26:53.049Z"
   },
   {
    "duration": 5,
    "start_time": "2023-06-07T08:26:53.070Z"
   },
   {
    "duration": 6,
    "start_time": "2023-06-07T08:26:53.076Z"
   },
   {
    "duration": 9,
    "start_time": "2023-06-07T08:26:53.083Z"
   },
   {
    "duration": 9,
    "start_time": "2023-06-07T08:26:53.094Z"
   },
   {
    "duration": 4,
    "start_time": "2023-06-07T08:26:53.105Z"
   },
   {
    "duration": 557,
    "start_time": "2023-06-07T08:26:53.150Z"
   },
   {
    "duration": 191,
    "start_time": "2023-06-07T08:26:53.708Z"
   },
   {
    "duration": 184,
    "start_time": "2023-06-07T08:26:53.900Z"
   },
   {
    "duration": 6,
    "start_time": "2023-06-07T08:26:54.086Z"
   },
   {
    "duration": 38,
    "start_time": "2023-06-07T08:26:54.094Z"
   },
   {
    "duration": 209,
    "start_time": "2023-06-07T08:26:54.135Z"
   },
   {
    "duration": 188,
    "start_time": "2023-06-07T08:26:54.357Z"
   },
   {
    "duration": 183,
    "start_time": "2023-06-07T08:26:54.549Z"
   },
   {
    "duration": 175,
    "start_time": "2023-06-07T08:26:54.734Z"
   },
   {
    "duration": 14,
    "start_time": "2023-06-07T08:26:54.912Z"
   },
   {
    "duration": 249,
    "start_time": "2023-06-07T08:26:54.928Z"
   },
   {
    "duration": 3,
    "start_time": "2023-06-07T08:26:55.179Z"
   },
   {
    "duration": 8,
    "start_time": "2023-06-07T08:26:55.184Z"
   },
   {
    "duration": 179,
    "start_time": "2023-06-07T08:26:55.194Z"
   },
   {
    "duration": 187,
    "start_time": "2023-06-07T08:26:55.375Z"
   },
   {
    "duration": 169,
    "start_time": "2023-06-07T08:26:55.563Z"
   },
   {
    "duration": 30,
    "start_time": "2023-06-07T08:26:55.733Z"
   },
   {
    "duration": 177,
    "start_time": "2023-06-07T08:26:55.765Z"
   },
   {
    "duration": 39,
    "start_time": "2023-06-07T08:26:55.944Z"
   },
   {
    "duration": 7,
    "start_time": "2023-06-07T08:26:55.985Z"
   },
   {
    "duration": 8,
    "start_time": "2023-06-07T08:26:55.994Z"
   },
   {
    "duration": 635,
    "start_time": "2023-06-07T08:26:56.004Z"
   },
   {
    "duration": 2,
    "start_time": "2023-06-07T08:26:56.641Z"
   },
   {
    "duration": 139,
    "start_time": "2023-06-07T08:26:56.649Z"
   },
   {
    "duration": 163,
    "start_time": "2023-06-07T08:26:56.789Z"
   },
   {
    "duration": 8,
    "start_time": "2023-06-07T08:26:56.955Z"
   },
   {
    "duration": 163,
    "start_time": "2023-06-07T08:26:56.965Z"
   },
   {
    "duration": 158,
    "start_time": "2023-06-07T08:26:57.129Z"
   },
   {
    "duration": 11,
    "start_time": "2023-06-07T08:26:57.289Z"
   },
   {
    "duration": 16,
    "start_time": "2023-06-07T08:26:57.302Z"
   },
   {
    "duration": 8,
    "start_time": "2023-06-07T08:26:57.319Z"
   },
   {
    "duration": 29,
    "start_time": "2023-06-07T08:26:57.328Z"
   },
   {
    "duration": 178,
    "start_time": "2023-06-07T08:26:57.359Z"
   },
   {
    "duration": 420,
    "start_time": "2023-06-07T08:26:57.539Z"
   },
   {
    "duration": 13,
    "start_time": "2023-06-07T08:26:57.962Z"
   },
   {
    "duration": 22,
    "start_time": "2023-06-07T08:26:57.977Z"
   },
   {
    "duration": 6,
    "start_time": "2023-06-07T08:26:58.000Z"
   },
   {
    "duration": 6,
    "start_time": "2023-06-07T08:26:58.008Z"
   },
   {
    "duration": 12,
    "start_time": "2023-06-07T08:26:58.015Z"
   },
   {
    "duration": 27,
    "start_time": "2023-06-07T08:26:58.051Z"
   },
   {
    "duration": 7,
    "start_time": "2023-06-07T08:26:58.080Z"
   },
   {
    "duration": 7,
    "start_time": "2023-06-07T08:26:58.088Z"
   },
   {
    "duration": 11,
    "start_time": "2023-06-07T08:26:58.096Z"
   },
   {
    "duration": 8,
    "start_time": "2023-06-07T08:26:58.108Z"
   },
   {
    "duration": 65,
    "start_time": "2023-06-07T08:26:58.117Z"
   },
   {
    "duration": 158,
    "start_time": "2023-06-07T08:26:58.184Z"
   },
   {
    "duration": 34,
    "start_time": "2023-06-07T08:26:58.344Z"
   },
   {
    "duration": 26,
    "start_time": "2023-06-07T08:26:58.379Z"
   },
   {
    "duration": 17,
    "start_time": "2023-06-07T08:26:58.407Z"
   },
   {
    "duration": 39,
    "start_time": "2023-06-07T08:26:58.426Z"
   },
   {
    "duration": 6,
    "start_time": "2023-06-07T08:26:58.467Z"
   },
   {
    "duration": 7,
    "start_time": "2023-06-07T08:26:58.474Z"
   },
   {
    "duration": 13,
    "start_time": "2023-06-07T08:26:58.482Z"
   },
   {
    "duration": 17,
    "start_time": "2023-06-07T08:26:58.497Z"
   },
   {
    "duration": 7,
    "start_time": "2023-06-07T08:26:58.519Z"
   },
   {
    "duration": 9,
    "start_time": "2023-06-07T08:26:58.528Z"
   },
   {
    "duration": 7,
    "start_time": "2023-06-07T08:26:58.550Z"
   },
   {
    "duration": 6,
    "start_time": "2023-06-07T08:26:58.560Z"
   },
   {
    "duration": 6,
    "start_time": "2023-06-07T08:26:58.568Z"
   },
   {
    "duration": 9,
    "start_time": "2023-06-07T08:26:58.575Z"
   },
   {
    "duration": 7,
    "start_time": "2023-06-07T08:26:58.585Z"
   },
   {
    "duration": 114,
    "start_time": "2023-06-07T08:28:38.082Z"
   },
   {
    "duration": 17,
    "start_time": "2023-06-07T08:29:04.396Z"
   },
   {
    "duration": 15,
    "start_time": "2023-06-07T08:29:07.783Z"
   },
   {
    "duration": 14,
    "start_time": "2023-06-07T08:29:46.191Z"
   },
   {
    "duration": 18,
    "start_time": "2023-06-07T08:29:48.744Z"
   },
   {
    "duration": 15,
    "start_time": "2023-06-07T08:30:25.274Z"
   },
   {
    "duration": 16,
    "start_time": "2023-06-07T08:30:51.374Z"
   },
   {
    "duration": 15,
    "start_time": "2023-06-07T08:30:56.751Z"
   },
   {
    "duration": 614,
    "start_time": "2023-06-07T08:31:15.098Z"
   },
   {
    "duration": 173,
    "start_time": "2023-06-07T08:31:20.356Z"
   },
   {
    "duration": 11,
    "start_time": "2023-06-07T09:09:10.794Z"
   },
   {
    "duration": 6,
    "start_time": "2023-06-07T09:09:18.060Z"
   },
   {
    "duration": 6,
    "start_time": "2023-06-07T09:11:58.251Z"
   },
   {
    "duration": 691,
    "start_time": "2023-06-07T09:20:37.899Z"
   },
   {
    "duration": 50,
    "start_time": "2023-06-07T09:20:38.592Z"
   },
   {
    "duration": 22,
    "start_time": "2023-06-07T09:20:38.644Z"
   },
   {
    "duration": 5,
    "start_time": "2023-06-07T09:20:38.669Z"
   },
   {
    "duration": 17,
    "start_time": "2023-06-07T09:20:38.675Z"
   },
   {
    "duration": 5,
    "start_time": "2023-06-07T09:20:38.693Z"
   },
   {
    "duration": 12,
    "start_time": "2023-06-07T09:20:38.699Z"
   },
   {
    "duration": 13,
    "start_time": "2023-06-07T09:20:38.712Z"
   },
   {
    "duration": 50,
    "start_time": "2023-06-07T09:20:38.726Z"
   },
   {
    "duration": 5,
    "start_time": "2023-06-07T09:20:38.780Z"
   },
   {
    "duration": 17,
    "start_time": "2023-06-07T09:20:38.787Z"
   },
   {
    "duration": 11,
    "start_time": "2023-06-07T09:20:38.805Z"
   },
   {
    "duration": 13,
    "start_time": "2023-06-07T09:20:38.818Z"
   },
   {
    "duration": 25,
    "start_time": "2023-06-07T09:20:38.833Z"
   },
   {
    "duration": 22,
    "start_time": "2023-06-07T09:20:38.860Z"
   },
   {
    "duration": 10,
    "start_time": "2023-06-07T09:20:38.883Z"
   },
   {
    "duration": 218,
    "start_time": "2023-06-07T09:20:38.894Z"
   },
   {
    "duration": 6,
    "start_time": "2023-06-07T09:20:39.113Z"
   },
   {
    "duration": 30,
    "start_time": "2023-06-07T09:20:39.121Z"
   },
   {
    "duration": 29,
    "start_time": "2023-06-07T09:20:39.153Z"
   },
   {
    "duration": 7,
    "start_time": "2023-06-07T09:20:39.184Z"
   },
   {
    "duration": 14,
    "start_time": "2023-06-07T09:20:39.193Z"
   },
   {
    "duration": 4,
    "start_time": "2023-06-07T09:20:39.208Z"
   },
   {
    "duration": 8,
    "start_time": "2023-06-07T09:20:39.214Z"
   },
   {
    "duration": 38,
    "start_time": "2023-06-07T09:20:39.223Z"
   },
   {
    "duration": 11,
    "start_time": "2023-06-07T09:20:39.263Z"
   },
   {
    "duration": 4,
    "start_time": "2023-06-07T09:20:39.276Z"
   },
   {
    "duration": 536,
    "start_time": "2023-06-07T09:20:39.284Z"
   },
   {
    "duration": 194,
    "start_time": "2023-06-07T09:20:39.822Z"
   },
   {
    "duration": 180,
    "start_time": "2023-06-07T09:20:40.017Z"
   },
   {
    "duration": 5,
    "start_time": "2023-06-07T09:20:40.199Z"
   },
   {
    "duration": 29,
    "start_time": "2023-06-07T09:20:40.205Z"
   },
   {
    "duration": 191,
    "start_time": "2023-06-07T09:20:40.235Z"
   },
   {
    "duration": 188,
    "start_time": "2023-06-07T09:20:40.428Z"
   },
   {
    "duration": 185,
    "start_time": "2023-06-07T09:20:40.618Z"
   },
   {
    "duration": 177,
    "start_time": "2023-06-07T09:20:40.805Z"
   },
   {
    "duration": 23,
    "start_time": "2023-06-07T09:20:40.984Z"
   },
   {
    "duration": 263,
    "start_time": "2023-06-07T09:20:41.009Z"
   },
   {
    "duration": 4,
    "start_time": "2023-06-07T09:20:41.277Z"
   },
   {
    "duration": 14,
    "start_time": "2023-06-07T09:20:41.282Z"
   },
   {
    "duration": 181,
    "start_time": "2023-06-07T09:20:41.298Z"
   },
   {
    "duration": 176,
    "start_time": "2023-06-07T09:20:41.480Z"
   },
   {
    "duration": 183,
    "start_time": "2023-06-07T09:20:41.658Z"
   },
   {
    "duration": 41,
    "start_time": "2023-06-07T09:20:41.842Z"
   },
   {
    "duration": 195,
    "start_time": "2023-06-07T09:20:41.885Z"
   },
   {
    "duration": 27,
    "start_time": "2023-06-07T09:20:42.082Z"
   },
   {
    "duration": 7,
    "start_time": "2023-06-07T09:20:42.110Z"
   },
   {
    "duration": 6,
    "start_time": "2023-06-07T09:20:42.120Z"
   },
   {
    "duration": 489,
    "start_time": "2023-06-07T09:20:42.128Z"
   },
   {
    "duration": 2,
    "start_time": "2023-06-07T09:20:42.619Z"
   },
   {
    "duration": 197,
    "start_time": "2023-06-07T09:20:42.623Z"
   },
   {
    "duration": 171,
    "start_time": "2023-06-07T09:20:42.822Z"
   },
   {
    "duration": 8,
    "start_time": "2023-06-07T09:20:42.995Z"
   },
   {
    "duration": 164,
    "start_time": "2023-06-07T09:20:43.005Z"
   },
   {
    "duration": 165,
    "start_time": "2023-06-07T09:20:43.170Z"
   },
   {
    "duration": 20,
    "start_time": "2023-06-07T09:20:43.336Z"
   },
   {
    "duration": 10,
    "start_time": "2023-06-07T09:20:43.362Z"
   },
   {
    "duration": 11,
    "start_time": "2023-06-07T09:20:43.374Z"
   },
   {
    "duration": 7,
    "start_time": "2023-06-07T09:20:43.387Z"
   },
   {
    "duration": 189,
    "start_time": "2023-06-07T09:20:43.396Z"
   },
   {
    "duration": 429,
    "start_time": "2023-06-07T09:20:43.586Z"
   },
   {
    "duration": 16,
    "start_time": "2023-06-07T09:20:44.017Z"
   },
   {
    "duration": 39,
    "start_time": "2023-06-07T09:20:44.035Z"
   },
   {
    "duration": 8,
    "start_time": "2023-06-07T09:20:44.075Z"
   },
   {
    "duration": 20,
    "start_time": "2023-06-07T09:20:44.085Z"
   },
   {
    "duration": 12,
    "start_time": "2023-06-07T09:20:44.106Z"
   },
   {
    "duration": 23,
    "start_time": "2023-06-07T09:20:44.119Z"
   },
   {
    "duration": 8,
    "start_time": "2023-06-07T09:20:44.150Z"
   },
   {
    "duration": 17,
    "start_time": "2023-06-07T09:20:44.160Z"
   },
   {
    "duration": 17,
    "start_time": "2023-06-07T09:20:44.179Z"
   },
   {
    "duration": 13,
    "start_time": "2023-06-07T09:20:44.198Z"
   },
   {
    "duration": 48,
    "start_time": "2023-06-07T09:20:44.213Z"
   },
   {
    "duration": 154,
    "start_time": "2023-06-07T09:20:44.273Z"
   },
   {
    "duration": 45,
    "start_time": "2023-06-07T09:20:44.428Z"
   },
   {
    "duration": 29,
    "start_time": "2023-06-07T09:20:44.475Z"
   },
   {
    "duration": 18,
    "start_time": "2023-06-07T09:20:44.506Z"
   },
   {
    "duration": 11,
    "start_time": "2023-06-07T09:20:44.526Z"
   },
   {
    "duration": 21,
    "start_time": "2023-06-07T09:20:44.539Z"
   },
   {
    "duration": 8,
    "start_time": "2023-06-07T09:20:44.561Z"
   },
   {
    "duration": 19,
    "start_time": "2023-06-07T09:20:44.571Z"
   },
   {
    "duration": 10,
    "start_time": "2023-06-07T09:20:44.592Z"
   },
   {
    "duration": 7,
    "start_time": "2023-06-07T09:20:44.608Z"
   },
   {
    "duration": 16,
    "start_time": "2023-06-07T09:20:44.617Z"
   },
   {
    "duration": 4,
    "start_time": "2023-06-07T09:20:44.635Z"
   },
   {
    "duration": 6,
    "start_time": "2023-06-07T09:20:44.655Z"
   },
   {
    "duration": 18,
    "start_time": "2023-06-07T09:20:44.663Z"
   },
   {
    "duration": 13,
    "start_time": "2023-06-07T09:20:44.683Z"
   },
   {
    "duration": 10,
    "start_time": "2023-06-07T09:20:44.697Z"
   },
   {
    "duration": 616,
    "start_time": "2023-06-07T09:50:42.595Z"
   },
   {
    "duration": 175,
    "start_time": "2023-06-07T09:50:43.213Z"
   },
   {
    "duration": 17,
    "start_time": "2023-06-07T09:50:43.390Z"
   },
   {
    "duration": 7,
    "start_time": "2023-06-07T09:50:43.409Z"
   },
   {
    "duration": 25,
    "start_time": "2023-06-07T09:50:43.418Z"
   },
   {
    "duration": 4,
    "start_time": "2023-06-07T09:50:43.445Z"
   },
   {
    "duration": 5,
    "start_time": "2023-06-07T09:50:43.450Z"
   },
   {
    "duration": 7,
    "start_time": "2023-06-07T09:50:43.456Z"
   },
   {
    "duration": 24,
    "start_time": "2023-06-07T09:50:43.465Z"
   },
   {
    "duration": 4,
    "start_time": "2023-06-07T09:50:43.492Z"
   },
   {
    "duration": 10,
    "start_time": "2023-06-07T09:50:43.497Z"
   },
   {
    "duration": 16,
    "start_time": "2023-06-07T09:50:43.509Z"
   },
   {
    "duration": 12,
    "start_time": "2023-06-07T09:50:43.527Z"
   },
   {
    "duration": 8,
    "start_time": "2023-06-07T09:50:43.540Z"
   },
   {
    "duration": 36,
    "start_time": "2023-06-07T09:50:43.549Z"
   },
   {
    "duration": 9,
    "start_time": "2023-06-07T09:50:43.587Z"
   },
   {
    "duration": 180,
    "start_time": "2023-06-07T09:50:43.598Z"
   },
   {
    "duration": 6,
    "start_time": "2023-06-07T09:50:43.780Z"
   },
   {
    "duration": 23,
    "start_time": "2023-06-07T09:50:43.788Z"
   },
   {
    "duration": 35,
    "start_time": "2023-06-07T09:50:43.813Z"
   },
   {
    "duration": 12,
    "start_time": "2023-06-07T09:50:43.850Z"
   },
   {
    "duration": 49,
    "start_time": "2023-06-07T09:50:43.864Z"
   },
   {
    "duration": 39,
    "start_time": "2023-06-07T09:50:43.915Z"
   },
   {
    "duration": 46,
    "start_time": "2023-06-07T09:50:43.956Z"
   },
   {
    "duration": 43,
    "start_time": "2023-06-07T09:50:44.004Z"
   },
   {
    "duration": 31,
    "start_time": "2023-06-07T09:50:44.048Z"
   },
   {
    "duration": 43,
    "start_time": "2023-06-07T09:50:44.080Z"
   },
   {
    "duration": 547,
    "start_time": "2023-06-07T09:50:44.127Z"
   },
   {
    "duration": 166,
    "start_time": "2023-06-07T09:50:44.677Z"
   },
   {
    "duration": 146,
    "start_time": "2023-06-07T09:50:44.845Z"
   },
   {
    "duration": 4,
    "start_time": "2023-06-07T09:50:44.993Z"
   },
   {
    "duration": 54,
    "start_time": "2023-06-07T09:50:44.998Z"
   },
   {
    "duration": 133,
    "start_time": "2023-06-07T09:50:45.054Z"
   },
   {
    "duration": 147,
    "start_time": "2023-06-07T09:50:45.189Z"
   },
   {
    "duration": 152,
    "start_time": "2023-06-07T09:50:45.338Z"
   },
   {
    "duration": 187,
    "start_time": "2023-06-07T09:50:45.492Z"
   },
   {
    "duration": 24,
    "start_time": "2023-06-07T09:50:45.681Z"
   },
   {
    "duration": 241,
    "start_time": "2023-06-07T09:50:45.707Z"
   },
   {
    "duration": 5,
    "start_time": "2023-06-07T09:50:45.949Z"
   },
   {
    "duration": 22,
    "start_time": "2023-06-07T09:50:45.956Z"
   },
   {
    "duration": 162,
    "start_time": "2023-06-07T09:50:45.979Z"
   },
   {
    "duration": 165,
    "start_time": "2023-06-07T09:50:46.143Z"
   },
   {
    "duration": 178,
    "start_time": "2023-06-07T09:50:46.311Z"
   },
   {
    "duration": 24,
    "start_time": "2023-06-07T09:50:46.491Z"
   },
   {
    "duration": 179,
    "start_time": "2023-06-07T09:50:46.517Z"
   },
   {
    "duration": 28,
    "start_time": "2023-06-07T09:50:46.698Z"
   },
   {
    "duration": 8,
    "start_time": "2023-06-07T09:50:46.728Z"
   },
   {
    "duration": 13,
    "start_time": "2023-06-07T09:50:46.738Z"
   },
   {
    "duration": 377,
    "start_time": "2023-06-07T09:50:46.752Z"
   },
   {
    "duration": 3,
    "start_time": "2023-06-07T09:50:47.131Z"
   },
   {
    "duration": 126,
    "start_time": "2023-06-07T09:50:47.136Z"
   },
   {
    "duration": 161,
    "start_time": "2023-06-07T09:50:47.264Z"
   },
   {
    "duration": 9,
    "start_time": "2023-06-07T09:50:47.427Z"
   },
   {
    "duration": 178,
    "start_time": "2023-06-07T09:50:47.437Z"
   },
   {
    "duration": 139,
    "start_time": "2023-06-07T09:50:47.617Z"
   },
   {
    "duration": 8,
    "start_time": "2023-06-07T09:50:47.757Z"
   },
   {
    "duration": 8,
    "start_time": "2023-06-07T09:50:47.778Z"
   },
   {
    "duration": 7,
    "start_time": "2023-06-07T09:50:47.788Z"
   },
   {
    "duration": 15,
    "start_time": "2023-06-07T09:50:47.796Z"
   },
   {
    "duration": 165,
    "start_time": "2023-06-07T09:50:47.813Z"
   },
   {
    "duration": 367,
    "start_time": "2023-06-07T09:50:47.980Z"
   },
   {
    "duration": 13,
    "start_time": "2023-06-07T09:50:48.349Z"
   },
   {
    "duration": 31,
    "start_time": "2023-06-07T09:50:48.363Z"
   },
   {
    "duration": 7,
    "start_time": "2023-06-07T09:50:48.395Z"
   },
   {
    "duration": 12,
    "start_time": "2023-06-07T09:50:48.404Z"
   },
   {
    "duration": 18,
    "start_time": "2023-06-07T09:50:48.418Z"
   },
   {
    "duration": 32,
    "start_time": "2023-06-07T09:50:48.438Z"
   },
   {
    "duration": 12,
    "start_time": "2023-06-07T09:50:48.471Z"
   },
   {
    "duration": 14,
    "start_time": "2023-06-07T09:50:48.484Z"
   },
   {
    "duration": 13,
    "start_time": "2023-06-07T09:50:48.500Z"
   },
   {
    "duration": 13,
    "start_time": "2023-06-07T09:50:48.514Z"
   },
   {
    "duration": 36,
    "start_time": "2023-06-07T09:50:48.528Z"
   },
   {
    "duration": 133,
    "start_time": "2023-06-07T09:50:48.565Z"
   },
   {
    "duration": 27,
    "start_time": "2023-06-07T09:50:48.700Z"
   },
   {
    "duration": 24,
    "start_time": "2023-06-07T09:50:48.728Z"
   },
   {
    "duration": 39,
    "start_time": "2023-06-07T09:50:48.754Z"
   },
   {
    "duration": 21,
    "start_time": "2023-06-07T09:50:48.794Z"
   },
   {
    "duration": 19,
    "start_time": "2023-06-07T09:50:48.817Z"
   },
   {
    "duration": 6,
    "start_time": "2023-06-07T09:50:48.838Z"
   },
   {
    "duration": 11,
    "start_time": "2023-06-07T09:50:48.846Z"
   },
   {
    "duration": 7,
    "start_time": "2023-06-07T09:50:48.859Z"
   },
   {
    "duration": 8,
    "start_time": "2023-06-07T09:50:48.877Z"
   },
   {
    "duration": 7,
    "start_time": "2023-06-07T09:50:48.887Z"
   },
   {
    "duration": 9,
    "start_time": "2023-06-07T09:50:48.896Z"
   },
   {
    "duration": 6,
    "start_time": "2023-06-07T09:50:48.906Z"
   },
   {
    "duration": 7,
    "start_time": "2023-06-07T09:50:48.914Z"
   },
   {
    "duration": 7,
    "start_time": "2023-06-07T09:50:48.923Z"
   },
   {
    "duration": 8,
    "start_time": "2023-06-07T09:50:48.932Z"
   }
  ],
  "kernelspec": {
   "display_name": "Python 3 (ipykernel)",
   "language": "python",
   "name": "python3"
  },
  "language_info": {
   "codemirror_mode": {
    "name": "ipython",
    "version": 3
   },
   "file_extension": ".py",
   "mimetype": "text/x-python",
   "name": "python",
   "nbconvert_exporter": "python",
   "pygments_lexer": "ipython3",
   "version": "3.10.8"
  },
  "toc": {
   "base_numbering": 1,
   "nav_menu": {},
   "number_sections": true,
   "sideBar": true,
   "skip_h1_title": true,
   "title_cell": "Table of Contents",
   "title_sidebar": "Contents",
   "toc_cell": true,
   "toc_position": {
    "height": "calc(100% - 180px)",
    "left": "10px",
    "top": "150px",
    "width": "307.2px"
   },
   "toc_section_display": true,
   "toc_window_display": false
  }
 },
 "nbformat": 4,
 "nbformat_minor": 5
}
