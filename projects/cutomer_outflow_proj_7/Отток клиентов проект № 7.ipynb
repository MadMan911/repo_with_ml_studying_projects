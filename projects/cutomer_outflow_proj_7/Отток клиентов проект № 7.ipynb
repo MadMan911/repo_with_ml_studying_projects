{
 "cells": [
  {
   "cell_type": "markdown",
   "metadata": {
    "toc": true
   },
   "source": [
    "<h1>Содержание<span class=\"tocSkip\"></span></h1>\n",
    "<div class=\"toc\"><ul class=\"toc-item\"><li><span><a href=\"#Подготовка-данных\" data-toc-modified-id=\"Подготовка-данных-1\"><span class=\"toc-item-num\">1&nbsp;&nbsp;</span>Подготовка данных</a></span></li><li><span><a href=\"#Исследование-задачи\" data-toc-modified-id=\"Исследование-задачи-2\"><span class=\"toc-item-num\">2&nbsp;&nbsp;</span>Исследование задачи</a></span><ul class=\"toc-item\"><li><span><a href=\"#поиск-дисбаланса\" data-toc-modified-id=\"поиск-дисбаланса-2.1\"><span class=\"toc-item-num\">2.1&nbsp;&nbsp;</span>поиск дисбаланса</a></span><ul class=\"toc-item\"><li><span><a href=\"#Разделим-данные\" data-toc-modified-id=\"Разделим-данные-2.1.1\"><span class=\"toc-item-num\">2.1.1&nbsp;&nbsp;</span>Разделим данные</a></span></li></ul></li><li><span><a href=\"#Масштабирование\" data-toc-modified-id=\"Масштабирование-2.2\"><span class=\"toc-item-num\">2.2&nbsp;&nbsp;</span>Масштабирование</a></span></li><li><span><a href=\"#Нормальное-закодирование-категориальных-признаков.\" data-toc-modified-id=\"Нормальное-закодирование-категориальных-признаков.-2.3\"><span class=\"toc-item-num\">2.3&nbsp;&nbsp;</span>Нормальное закодирование категориальных признаков.</a></span></li><li><span><a href=\"#приступаем-к-обучению\" data-toc-modified-id=\"приступаем-к-обучению-2.4\"><span class=\"toc-item-num\">2.4&nbsp;&nbsp;</span>приступаем к обучению</a></span><ul class=\"toc-item\"><li><span><a href=\"#логистическая-регрессия\" data-toc-modified-id=\"логистическая-регрессия-2.4.1\"><span class=\"toc-item-num\">2.4.1&nbsp;&nbsp;</span>логистическая регрессия</a></span></li><li><span><a href=\"#дерево-решений\" data-toc-modified-id=\"дерево-решений-2.4.2\"><span class=\"toc-item-num\">2.4.2&nbsp;&nbsp;</span>дерево решений</a></span></li><li><span><a href=\"#случайный-лес\" data-toc-modified-id=\"случайный-лес-2.4.3\"><span class=\"toc-item-num\">2.4.3&nbsp;&nbsp;</span>случайный лес</a></span></li></ul></li></ul></li><li><span><a href=\"#Борьба-с-дисбалансом\" data-toc-modified-id=\"Борьба-с-дисбалансом-3\"><span class=\"toc-item-num\">3&nbsp;&nbsp;</span>Борьба с дисбалансом</a></span></li><li><span><a href=\"#Тестирование-модели\" data-toc-modified-id=\"Тестирование-модели-4\"><span class=\"toc-item-num\">4&nbsp;&nbsp;</span>Тестирование модели</a></span></li><li><span><a href=\"#Вывод\" data-toc-modified-id=\"Вывод-5\"><span class=\"toc-item-num\">5&nbsp;&nbsp;</span>Вывод</a></span></li><li><span><a href=\"#Чек-лист-готовности-проекта\" data-toc-modified-id=\"Чек-лист-готовности-проекта-6\"><span class=\"toc-item-num\">6&nbsp;&nbsp;</span>Чек-лист готовности проекта</a></span></li></ul></div>"
   ]
  },
  {
   "cell_type": "markdown",
   "metadata": {},
   "source": [
    "# Отток клиентов"
   ]
  },
  {
   "cell_type": "markdown",
   "metadata": {},
   "source": [
    "Из «Бета-Банка» стали уходить клиенты. Каждый месяц. Немного, но заметно. Банковские маркетологи посчитали: сохранять текущих клиентов дешевле, чем привлекать новых.\n",
    "\n",
    "Нужно спрогнозировать, уйдёт клиент из банка в ближайшее время или нет. Вам предоставлены исторические данные о поведении клиентов и расторжении договоров с банком. \n",
    "\n",
    "Постройте модель с предельно большим значением *F1*-меры. Чтобы сдать проект успешно, нужно довести метрику до 0.59. Проверьте *F1*-меру на тестовой выборке самостоятельно.\n",
    "\n",
    "Дополнительно измеряйте *AUC-ROC*, сравнивайте её значение с *F1*-мерой.\n",
    "\n",
    "Источник данных: [https://www.kaggle.com/barelydedicated/bank-customer-churn-modeling](https://www.kaggle.com/barelydedicated/bank-customer-churn-modeling)"
   ]
  },
  {
   "cell_type": "markdown",
   "metadata": {},
   "source": [
    "**Признаки**\n",
    "\n",
    "- `RowNumber` — индекс строки в данных\n",
    "- `CustomerId` — уникальный идентификатор клиента\n",
    "- `Surname` — фамилия\n",
    "- `CreditScore` — кредитный рейтинг\n",
    "- `Geography` — страна проживания\n",
    "- `Gender` — пол\n",
    "- `Age` — возраст\n",
    "- `Tenure` — сколько лет человек является клиентом банка\n",
    "- `Balance` — баланс на счёте\n",
    "- `NumOfProducts` — количество продуктов банка, используемых клиентом\n",
    "- `HasCrCard` — наличие кредитной карты\n",
    "- `IsActiveMember` — активность клиента\n",
    "- `EstimatedSalary` — предполагаемая зарплата\n",
    "\n",
    "**Целевой признак**\n",
    "\n",
    "- `Exited` — факт ухода клиента"
   ]
  },
  {
   "cell_type": "markdown",
   "metadata": {},
   "source": [
    "Как будет проходить работа. Надо подготовить данные, исследовать все аномалии пропуски и так далее, проверить, чтобы все типы данных были заданы правильно и не было никаких лишних или неправильных вещей в данных.\n",
    "\n",
    "Потом провести поиск дисбаланса и без попытки борьбы с ним попробовать обучить модели и найти лучшую. \n",
    "\n",
    "Далее надо разобраться с дисбалансом даннных, для этого сущевтсвует две известных нам техники, выберем одну из них и применем ее для борьбы с дисбалансом. \n",
    "\n",
    "После этого, проведем обучение моделей, выберем лучшую и попытаемся довести метрику f1-меру довести до значения не меньшего 0.59.\n",
    "\n",
    "Протестируем нашу моедль на тестовой выборке.\n",
    "\n",
    "\n",
    "Итого, работа будет состоять из 6 этапов:\n",
    "\n",
    "- подготовка данных\n",
    "- обучению с дисбалансом\n",
    "- борьба с дисбалансом\n",
    "- обучение без дисбаланса\n",
    "- тестирование\n",
    "- выводы"
   ]
  },
  {
   "cell_type": "markdown",
   "metadata": {},
   "source": [
    "Импортируем нужные библиотеки"
   ]
  },
  {
   "cell_type": "code",
   "execution_count": 57,
   "metadata": {},
   "outputs": [],
   "source": [
    "import pandas as pd\n",
    "import matplotlib.pyplot as plt\n",
    "\n",
    "from sklearn.linear_model import LogisticRegression\n",
    "from sklearn.tree import DecisionTreeClassifier\n",
    "from sklearn.ensemble import RandomForestClassifier\n",
    "\n",
    "from sklearn.model_selection import train_test_split\n",
    "\n",
    "from sklearn.utils import shuffle\n",
    "\n",
    "from sklearn.preprocessing import StandardScaler\n",
    "\n",
    "from sklearn.metrics import f1_score, confusion_matrix, accuracy_score, roc_curve, roc_auc_score"
   ]
  },
  {
   "cell_type": "markdown",
   "metadata": {},
   "source": [
    "## Подготовка данных"
   ]
  },
  {
   "cell_type": "markdown",
   "metadata": {},
   "source": [
    "Загрузим датасет и посмотри на его первые 5 строк"
   ]
  },
  {
   "cell_type": "code",
   "execution_count": 31,
   "metadata": {},
   "outputs": [
    {
     "data": {
      "text/html": [
       "<div>\n",
       "<style scoped>\n",
       "    .dataframe tbody tr th:only-of-type {\n",
       "        vertical-align: middle;\n",
       "    }\n",
       "\n",
       "    .dataframe tbody tr th {\n",
       "        vertical-align: top;\n",
       "    }\n",
       "\n",
       "    .dataframe thead th {\n",
       "        text-align: right;\n",
       "    }\n",
       "</style>\n",
       "<table border=\"1\" class=\"dataframe\">\n",
       "  <thead>\n",
       "    <tr style=\"text-align: right;\">\n",
       "      <th></th>\n",
       "      <th>RowNumber</th>\n",
       "      <th>CustomerId</th>\n",
       "      <th>Surname</th>\n",
       "      <th>CreditScore</th>\n",
       "      <th>Geography</th>\n",
       "      <th>Gender</th>\n",
       "      <th>Age</th>\n",
       "      <th>Tenure</th>\n",
       "      <th>Balance</th>\n",
       "      <th>NumOfProducts</th>\n",
       "      <th>HasCrCard</th>\n",
       "      <th>IsActiveMember</th>\n",
       "      <th>EstimatedSalary</th>\n",
       "      <th>Exited</th>\n",
       "    </tr>\n",
       "  </thead>\n",
       "  <tbody>\n",
       "    <tr>\n",
       "      <th>0</th>\n",
       "      <td>1</td>\n",
       "      <td>15634602</td>\n",
       "      <td>Hargrave</td>\n",
       "      <td>619</td>\n",
       "      <td>France</td>\n",
       "      <td>Female</td>\n",
       "      <td>42</td>\n",
       "      <td>2.0</td>\n",
       "      <td>0.00</td>\n",
       "      <td>1</td>\n",
       "      <td>1</td>\n",
       "      <td>1</td>\n",
       "      <td>101348.88</td>\n",
       "      <td>1</td>\n",
       "    </tr>\n",
       "    <tr>\n",
       "      <th>1</th>\n",
       "      <td>2</td>\n",
       "      <td>15647311</td>\n",
       "      <td>Hill</td>\n",
       "      <td>608</td>\n",
       "      <td>Spain</td>\n",
       "      <td>Female</td>\n",
       "      <td>41</td>\n",
       "      <td>1.0</td>\n",
       "      <td>83807.86</td>\n",
       "      <td>1</td>\n",
       "      <td>0</td>\n",
       "      <td>1</td>\n",
       "      <td>112542.58</td>\n",
       "      <td>0</td>\n",
       "    </tr>\n",
       "    <tr>\n",
       "      <th>2</th>\n",
       "      <td>3</td>\n",
       "      <td>15619304</td>\n",
       "      <td>Onio</td>\n",
       "      <td>502</td>\n",
       "      <td>France</td>\n",
       "      <td>Female</td>\n",
       "      <td>42</td>\n",
       "      <td>8.0</td>\n",
       "      <td>159660.80</td>\n",
       "      <td>3</td>\n",
       "      <td>1</td>\n",
       "      <td>0</td>\n",
       "      <td>113931.57</td>\n",
       "      <td>1</td>\n",
       "    </tr>\n",
       "    <tr>\n",
       "      <th>3</th>\n",
       "      <td>4</td>\n",
       "      <td>15701354</td>\n",
       "      <td>Boni</td>\n",
       "      <td>699</td>\n",
       "      <td>France</td>\n",
       "      <td>Female</td>\n",
       "      <td>39</td>\n",
       "      <td>1.0</td>\n",
       "      <td>0.00</td>\n",
       "      <td>2</td>\n",
       "      <td>0</td>\n",
       "      <td>0</td>\n",
       "      <td>93826.63</td>\n",
       "      <td>0</td>\n",
       "    </tr>\n",
       "    <tr>\n",
       "      <th>4</th>\n",
       "      <td>5</td>\n",
       "      <td>15737888</td>\n",
       "      <td>Mitchell</td>\n",
       "      <td>850</td>\n",
       "      <td>Spain</td>\n",
       "      <td>Female</td>\n",
       "      <td>43</td>\n",
       "      <td>2.0</td>\n",
       "      <td>125510.82</td>\n",
       "      <td>1</td>\n",
       "      <td>1</td>\n",
       "      <td>1</td>\n",
       "      <td>79084.10</td>\n",
       "      <td>0</td>\n",
       "    </tr>\n",
       "  </tbody>\n",
       "</table>\n",
       "</div>"
      ],
      "text/plain": [
       "   RowNumber  CustomerId   Surname  CreditScore Geography  Gender  Age  \\\n",
       "0          1    15634602  Hargrave          619    France  Female   42   \n",
       "1          2    15647311      Hill          608     Spain  Female   41   \n",
       "2          3    15619304      Onio          502    France  Female   42   \n",
       "3          4    15701354      Boni          699    France  Female   39   \n",
       "4          5    15737888  Mitchell          850     Spain  Female   43   \n",
       "\n",
       "   Tenure    Balance  NumOfProducts  HasCrCard  IsActiveMember  \\\n",
       "0     2.0       0.00              1          1               1   \n",
       "1     1.0   83807.86              1          0               1   \n",
       "2     8.0  159660.80              3          1               0   \n",
       "3     1.0       0.00              2          0               0   \n",
       "4     2.0  125510.82              1          1               1   \n",
       "\n",
       "   EstimatedSalary  Exited  \n",
       "0        101348.88       1  \n",
       "1        112542.58       0  \n",
       "2        113931.57       1  \n",
       "3         93826.63       0  \n",
       "4         79084.10       0  "
      ]
     },
     "execution_count": 31,
     "metadata": {},
     "output_type": "execute_result"
    }
   ],
   "source": [
    "data = pd.read_csv('/datasets/Churn.csv')\n",
    "data.head()"
   ]
  },
  {
   "cell_type": "markdown",
   "metadata": {},
   "source": [
    "Узнаем размеры датасета"
   ]
  },
  {
   "cell_type": "code",
   "execution_count": 32,
   "metadata": {},
   "outputs": [
    {
     "data": {
      "text/plain": [
       "(10000, 14)"
      ]
     },
     "execution_count": 32,
     "metadata": {},
     "output_type": "execute_result"
    }
   ],
   "source": [
    "data.shape"
   ]
  },
  {
   "cell_type": "markdown",
   "metadata": {},
   "source": [
    "выведем общую информацию о датасете"
   ]
  },
  {
   "cell_type": "code",
   "execution_count": 33,
   "metadata": {},
   "outputs": [
    {
     "name": "stdout",
     "output_type": "stream",
     "text": [
      "<class 'pandas.core.frame.DataFrame'>\n",
      "RangeIndex: 10000 entries, 0 to 9999\n",
      "Data columns (total 14 columns):\n",
      " #   Column           Non-Null Count  Dtype  \n",
      "---  ------           --------------  -----  \n",
      " 0   RowNumber        10000 non-null  int64  \n",
      " 1   CustomerId       10000 non-null  int64  \n",
      " 2   Surname          10000 non-null  object \n",
      " 3   CreditScore      10000 non-null  int64  \n",
      " 4   Geography        10000 non-null  object \n",
      " 5   Gender           10000 non-null  object \n",
      " 6   Age              10000 non-null  int64  \n",
      " 7   Tenure           9091 non-null   float64\n",
      " 8   Balance          10000 non-null  float64\n",
      " 9   NumOfProducts    10000 non-null  int64  \n",
      " 10  HasCrCard        10000 non-null  int64  \n",
      " 11  IsActiveMember   10000 non-null  int64  \n",
      " 12  EstimatedSalary  10000 non-null  float64\n",
      " 13  Exited           10000 non-null  int64  \n",
      "dtypes: float64(3), int64(8), object(3)\n",
      "memory usage: 1.1+ MB\n"
     ]
    }
   ],
   "source": [
    "data.info()"
   ]
  },
  {
   "cell_type": "markdown",
   "metadata": {},
   "source": [
    "Выведем основную информацию о количественных признаках датасета"
   ]
  },
  {
   "cell_type": "code",
   "execution_count": 34,
   "metadata": {
    "scrolled": true
   },
   "outputs": [
    {
     "data": {
      "text/html": [
       "<div>\n",
       "<style scoped>\n",
       "    .dataframe tbody tr th:only-of-type {\n",
       "        vertical-align: middle;\n",
       "    }\n",
       "\n",
       "    .dataframe tbody tr th {\n",
       "        vertical-align: top;\n",
       "    }\n",
       "\n",
       "    .dataframe thead th {\n",
       "        text-align: right;\n",
       "    }\n",
       "</style>\n",
       "<table border=\"1\" class=\"dataframe\">\n",
       "  <thead>\n",
       "    <tr style=\"text-align: right;\">\n",
       "      <th></th>\n",
       "      <th>RowNumber</th>\n",
       "      <th>CustomerId</th>\n",
       "      <th>CreditScore</th>\n",
       "      <th>Age</th>\n",
       "      <th>Tenure</th>\n",
       "      <th>Balance</th>\n",
       "      <th>NumOfProducts</th>\n",
       "      <th>HasCrCard</th>\n",
       "      <th>IsActiveMember</th>\n",
       "      <th>EstimatedSalary</th>\n",
       "      <th>Exited</th>\n",
       "    </tr>\n",
       "  </thead>\n",
       "  <tbody>\n",
       "    <tr>\n",
       "      <th>count</th>\n",
       "      <td>10000.00000</td>\n",
       "      <td>1.000000e+04</td>\n",
       "      <td>10000.000000</td>\n",
       "      <td>10000.000000</td>\n",
       "      <td>9091.000000</td>\n",
       "      <td>10000.000000</td>\n",
       "      <td>10000.000000</td>\n",
       "      <td>10000.00000</td>\n",
       "      <td>10000.000000</td>\n",
       "      <td>10000.000000</td>\n",
       "      <td>10000.000000</td>\n",
       "    </tr>\n",
       "    <tr>\n",
       "      <th>mean</th>\n",
       "      <td>5000.50000</td>\n",
       "      <td>1.569094e+07</td>\n",
       "      <td>650.528800</td>\n",
       "      <td>38.921800</td>\n",
       "      <td>4.997690</td>\n",
       "      <td>76485.889288</td>\n",
       "      <td>1.530200</td>\n",
       "      <td>0.70550</td>\n",
       "      <td>0.515100</td>\n",
       "      <td>100090.239881</td>\n",
       "      <td>0.203700</td>\n",
       "    </tr>\n",
       "    <tr>\n",
       "      <th>std</th>\n",
       "      <td>2886.89568</td>\n",
       "      <td>7.193619e+04</td>\n",
       "      <td>96.653299</td>\n",
       "      <td>10.487806</td>\n",
       "      <td>2.894723</td>\n",
       "      <td>62397.405202</td>\n",
       "      <td>0.581654</td>\n",
       "      <td>0.45584</td>\n",
       "      <td>0.499797</td>\n",
       "      <td>57510.492818</td>\n",
       "      <td>0.402769</td>\n",
       "    </tr>\n",
       "    <tr>\n",
       "      <th>min</th>\n",
       "      <td>1.00000</td>\n",
       "      <td>1.556570e+07</td>\n",
       "      <td>350.000000</td>\n",
       "      <td>18.000000</td>\n",
       "      <td>0.000000</td>\n",
       "      <td>0.000000</td>\n",
       "      <td>1.000000</td>\n",
       "      <td>0.00000</td>\n",
       "      <td>0.000000</td>\n",
       "      <td>11.580000</td>\n",
       "      <td>0.000000</td>\n",
       "    </tr>\n",
       "    <tr>\n",
       "      <th>25%</th>\n",
       "      <td>2500.75000</td>\n",
       "      <td>1.562853e+07</td>\n",
       "      <td>584.000000</td>\n",
       "      <td>32.000000</td>\n",
       "      <td>2.000000</td>\n",
       "      <td>0.000000</td>\n",
       "      <td>1.000000</td>\n",
       "      <td>0.00000</td>\n",
       "      <td>0.000000</td>\n",
       "      <td>51002.110000</td>\n",
       "      <td>0.000000</td>\n",
       "    </tr>\n",
       "    <tr>\n",
       "      <th>50%</th>\n",
       "      <td>5000.50000</td>\n",
       "      <td>1.569074e+07</td>\n",
       "      <td>652.000000</td>\n",
       "      <td>37.000000</td>\n",
       "      <td>5.000000</td>\n",
       "      <td>97198.540000</td>\n",
       "      <td>1.000000</td>\n",
       "      <td>1.00000</td>\n",
       "      <td>1.000000</td>\n",
       "      <td>100193.915000</td>\n",
       "      <td>0.000000</td>\n",
       "    </tr>\n",
       "    <tr>\n",
       "      <th>75%</th>\n",
       "      <td>7500.25000</td>\n",
       "      <td>1.575323e+07</td>\n",
       "      <td>718.000000</td>\n",
       "      <td>44.000000</td>\n",
       "      <td>7.000000</td>\n",
       "      <td>127644.240000</td>\n",
       "      <td>2.000000</td>\n",
       "      <td>1.00000</td>\n",
       "      <td>1.000000</td>\n",
       "      <td>149388.247500</td>\n",
       "      <td>0.000000</td>\n",
       "    </tr>\n",
       "    <tr>\n",
       "      <th>max</th>\n",
       "      <td>10000.00000</td>\n",
       "      <td>1.581569e+07</td>\n",
       "      <td>850.000000</td>\n",
       "      <td>92.000000</td>\n",
       "      <td>10.000000</td>\n",
       "      <td>250898.090000</td>\n",
       "      <td>4.000000</td>\n",
       "      <td>1.00000</td>\n",
       "      <td>1.000000</td>\n",
       "      <td>199992.480000</td>\n",
       "      <td>1.000000</td>\n",
       "    </tr>\n",
       "  </tbody>\n",
       "</table>\n",
       "</div>"
      ],
      "text/plain": [
       "         RowNumber    CustomerId   CreditScore           Age       Tenure  \\\n",
       "count  10000.00000  1.000000e+04  10000.000000  10000.000000  9091.000000   \n",
       "mean    5000.50000  1.569094e+07    650.528800     38.921800     4.997690   \n",
       "std     2886.89568  7.193619e+04     96.653299     10.487806     2.894723   \n",
       "min        1.00000  1.556570e+07    350.000000     18.000000     0.000000   \n",
       "25%     2500.75000  1.562853e+07    584.000000     32.000000     2.000000   \n",
       "50%     5000.50000  1.569074e+07    652.000000     37.000000     5.000000   \n",
       "75%     7500.25000  1.575323e+07    718.000000     44.000000     7.000000   \n",
       "max    10000.00000  1.581569e+07    850.000000     92.000000    10.000000   \n",
       "\n",
       "             Balance  NumOfProducts    HasCrCard  IsActiveMember  \\\n",
       "count   10000.000000   10000.000000  10000.00000    10000.000000   \n",
       "mean    76485.889288       1.530200      0.70550        0.515100   \n",
       "std     62397.405202       0.581654      0.45584        0.499797   \n",
       "min         0.000000       1.000000      0.00000        0.000000   \n",
       "25%         0.000000       1.000000      0.00000        0.000000   \n",
       "50%     97198.540000       1.000000      1.00000        1.000000   \n",
       "75%    127644.240000       2.000000      1.00000        1.000000   \n",
       "max    250898.090000       4.000000      1.00000        1.000000   \n",
       "\n",
       "       EstimatedSalary        Exited  \n",
       "count     10000.000000  10000.000000  \n",
       "mean     100090.239881      0.203700  \n",
       "std       57510.492818      0.402769  \n",
       "min          11.580000      0.000000  \n",
       "25%       51002.110000      0.000000  \n",
       "50%      100193.915000      0.000000  \n",
       "75%      149388.247500      0.000000  \n",
       "max      199992.480000      1.000000  "
      ]
     },
     "execution_count": 34,
     "metadata": {},
     "output_type": "execute_result"
    }
   ],
   "source": [
    "data.describe()"
   ]
  },
  {
   "cell_type": "code",
   "execution_count": 35,
   "metadata": {},
   "outputs": [
    {
     "data": {
      "text/html": [
       "<div>\n",
       "<style scoped>\n",
       "    .dataframe tbody tr th:only-of-type {\n",
       "        vertical-align: middle;\n",
       "    }\n",
       "\n",
       "    .dataframe tbody tr th {\n",
       "        vertical-align: top;\n",
       "    }\n",
       "\n",
       "    .dataframe thead th {\n",
       "        text-align: right;\n",
       "    }\n",
       "</style>\n",
       "<table border=\"1\" class=\"dataframe\">\n",
       "  <thead>\n",
       "    <tr style=\"text-align: right;\">\n",
       "      <th></th>\n",
       "      <th>count</th>\n",
       "      <th>unique</th>\n",
       "      <th>top</th>\n",
       "      <th>freq</th>\n",
       "      <th>mean</th>\n",
       "      <th>std</th>\n",
       "      <th>min</th>\n",
       "      <th>25%</th>\n",
       "      <th>50%</th>\n",
       "      <th>75%</th>\n",
       "      <th>max</th>\n",
       "    </tr>\n",
       "  </thead>\n",
       "  <tbody>\n",
       "    <tr>\n",
       "      <th>RowNumber</th>\n",
       "      <td>10000.0</td>\n",
       "      <td>NaN</td>\n",
       "      <td>NaN</td>\n",
       "      <td>NaN</td>\n",
       "      <td>5000.5</td>\n",
       "      <td>2886.89568</td>\n",
       "      <td>1.0</td>\n",
       "      <td>2500.75</td>\n",
       "      <td>5000.5</td>\n",
       "      <td>7500.25</td>\n",
       "      <td>10000.0</td>\n",
       "    </tr>\n",
       "    <tr>\n",
       "      <th>CustomerId</th>\n",
       "      <td>10000.0</td>\n",
       "      <td>NaN</td>\n",
       "      <td>NaN</td>\n",
       "      <td>NaN</td>\n",
       "      <td>15690940.5694</td>\n",
       "      <td>71936.186123</td>\n",
       "      <td>15565701.0</td>\n",
       "      <td>15628528.25</td>\n",
       "      <td>15690738.0</td>\n",
       "      <td>15753233.75</td>\n",
       "      <td>15815690.0</td>\n",
       "    </tr>\n",
       "    <tr>\n",
       "      <th>Surname</th>\n",
       "      <td>10000</td>\n",
       "      <td>2932</td>\n",
       "      <td>Smith</td>\n",
       "      <td>32</td>\n",
       "      <td>NaN</td>\n",
       "      <td>NaN</td>\n",
       "      <td>NaN</td>\n",
       "      <td>NaN</td>\n",
       "      <td>NaN</td>\n",
       "      <td>NaN</td>\n",
       "      <td>NaN</td>\n",
       "    </tr>\n",
       "    <tr>\n",
       "      <th>CreditScore</th>\n",
       "      <td>10000.0</td>\n",
       "      <td>NaN</td>\n",
       "      <td>NaN</td>\n",
       "      <td>NaN</td>\n",
       "      <td>650.5288</td>\n",
       "      <td>96.653299</td>\n",
       "      <td>350.0</td>\n",
       "      <td>584.0</td>\n",
       "      <td>652.0</td>\n",
       "      <td>718.0</td>\n",
       "      <td>850.0</td>\n",
       "    </tr>\n",
       "    <tr>\n",
       "      <th>Geography</th>\n",
       "      <td>10000</td>\n",
       "      <td>3</td>\n",
       "      <td>France</td>\n",
       "      <td>5014</td>\n",
       "      <td>NaN</td>\n",
       "      <td>NaN</td>\n",
       "      <td>NaN</td>\n",
       "      <td>NaN</td>\n",
       "      <td>NaN</td>\n",
       "      <td>NaN</td>\n",
       "      <td>NaN</td>\n",
       "    </tr>\n",
       "    <tr>\n",
       "      <th>Gender</th>\n",
       "      <td>10000</td>\n",
       "      <td>2</td>\n",
       "      <td>Male</td>\n",
       "      <td>5457</td>\n",
       "      <td>NaN</td>\n",
       "      <td>NaN</td>\n",
       "      <td>NaN</td>\n",
       "      <td>NaN</td>\n",
       "      <td>NaN</td>\n",
       "      <td>NaN</td>\n",
       "      <td>NaN</td>\n",
       "    </tr>\n",
       "    <tr>\n",
       "      <th>Age</th>\n",
       "      <td>10000.0</td>\n",
       "      <td>NaN</td>\n",
       "      <td>NaN</td>\n",
       "      <td>NaN</td>\n",
       "      <td>38.9218</td>\n",
       "      <td>10.487806</td>\n",
       "      <td>18.0</td>\n",
       "      <td>32.0</td>\n",
       "      <td>37.0</td>\n",
       "      <td>44.0</td>\n",
       "      <td>92.0</td>\n",
       "    </tr>\n",
       "    <tr>\n",
       "      <th>Tenure</th>\n",
       "      <td>9091.0</td>\n",
       "      <td>NaN</td>\n",
       "      <td>NaN</td>\n",
       "      <td>NaN</td>\n",
       "      <td>4.99769</td>\n",
       "      <td>2.894723</td>\n",
       "      <td>0.0</td>\n",
       "      <td>2.0</td>\n",
       "      <td>5.0</td>\n",
       "      <td>7.0</td>\n",
       "      <td>10.0</td>\n",
       "    </tr>\n",
       "    <tr>\n",
       "      <th>Balance</th>\n",
       "      <td>10000.0</td>\n",
       "      <td>NaN</td>\n",
       "      <td>NaN</td>\n",
       "      <td>NaN</td>\n",
       "      <td>76485.889288</td>\n",
       "      <td>62397.405202</td>\n",
       "      <td>0.0</td>\n",
       "      <td>0.0</td>\n",
       "      <td>97198.54</td>\n",
       "      <td>127644.24</td>\n",
       "      <td>250898.09</td>\n",
       "    </tr>\n",
       "    <tr>\n",
       "      <th>NumOfProducts</th>\n",
       "      <td>10000.0</td>\n",
       "      <td>NaN</td>\n",
       "      <td>NaN</td>\n",
       "      <td>NaN</td>\n",
       "      <td>1.5302</td>\n",
       "      <td>0.581654</td>\n",
       "      <td>1.0</td>\n",
       "      <td>1.0</td>\n",
       "      <td>1.0</td>\n",
       "      <td>2.0</td>\n",
       "      <td>4.0</td>\n",
       "    </tr>\n",
       "    <tr>\n",
       "      <th>HasCrCard</th>\n",
       "      <td>10000.0</td>\n",
       "      <td>NaN</td>\n",
       "      <td>NaN</td>\n",
       "      <td>NaN</td>\n",
       "      <td>0.7055</td>\n",
       "      <td>0.45584</td>\n",
       "      <td>0.0</td>\n",
       "      <td>0.0</td>\n",
       "      <td>1.0</td>\n",
       "      <td>1.0</td>\n",
       "      <td>1.0</td>\n",
       "    </tr>\n",
       "    <tr>\n",
       "      <th>IsActiveMember</th>\n",
       "      <td>10000.0</td>\n",
       "      <td>NaN</td>\n",
       "      <td>NaN</td>\n",
       "      <td>NaN</td>\n",
       "      <td>0.5151</td>\n",
       "      <td>0.499797</td>\n",
       "      <td>0.0</td>\n",
       "      <td>0.0</td>\n",
       "      <td>1.0</td>\n",
       "      <td>1.0</td>\n",
       "      <td>1.0</td>\n",
       "    </tr>\n",
       "    <tr>\n",
       "      <th>EstimatedSalary</th>\n",
       "      <td>10000.0</td>\n",
       "      <td>NaN</td>\n",
       "      <td>NaN</td>\n",
       "      <td>NaN</td>\n",
       "      <td>100090.239881</td>\n",
       "      <td>57510.492818</td>\n",
       "      <td>11.58</td>\n",
       "      <td>51002.11</td>\n",
       "      <td>100193.915</td>\n",
       "      <td>149388.2475</td>\n",
       "      <td>199992.48</td>\n",
       "    </tr>\n",
       "    <tr>\n",
       "      <th>Exited</th>\n",
       "      <td>10000.0</td>\n",
       "      <td>NaN</td>\n",
       "      <td>NaN</td>\n",
       "      <td>NaN</td>\n",
       "      <td>0.2037</td>\n",
       "      <td>0.402769</td>\n",
       "      <td>0.0</td>\n",
       "      <td>0.0</td>\n",
       "      <td>0.0</td>\n",
       "      <td>0.0</td>\n",
       "      <td>1.0</td>\n",
       "    </tr>\n",
       "  </tbody>\n",
       "</table>\n",
       "</div>"
      ],
      "text/plain": [
       "                   count unique     top  freq           mean           std  \\\n",
       "RowNumber        10000.0    NaN     NaN   NaN         5000.5    2886.89568   \n",
       "CustomerId       10000.0    NaN     NaN   NaN  15690940.5694  71936.186123   \n",
       "Surname            10000   2932   Smith    32            NaN           NaN   \n",
       "CreditScore      10000.0    NaN     NaN   NaN       650.5288     96.653299   \n",
       "Geography          10000      3  France  5014            NaN           NaN   \n",
       "Gender             10000      2    Male  5457            NaN           NaN   \n",
       "Age              10000.0    NaN     NaN   NaN        38.9218     10.487806   \n",
       "Tenure            9091.0    NaN     NaN   NaN        4.99769      2.894723   \n",
       "Balance          10000.0    NaN     NaN   NaN   76485.889288  62397.405202   \n",
       "NumOfProducts    10000.0    NaN     NaN   NaN         1.5302      0.581654   \n",
       "HasCrCard        10000.0    NaN     NaN   NaN         0.7055       0.45584   \n",
       "IsActiveMember   10000.0    NaN     NaN   NaN         0.5151      0.499797   \n",
       "EstimatedSalary  10000.0    NaN     NaN   NaN  100090.239881  57510.492818   \n",
       "Exited           10000.0    NaN     NaN   NaN         0.2037      0.402769   \n",
       "\n",
       "                        min          25%         50%          75%         max  \n",
       "RowNumber               1.0      2500.75      5000.5      7500.25     10000.0  \n",
       "CustomerId       15565701.0  15628528.25  15690738.0  15753233.75  15815690.0  \n",
       "Surname                 NaN          NaN         NaN          NaN         NaN  \n",
       "CreditScore           350.0        584.0       652.0        718.0       850.0  \n",
       "Geography               NaN          NaN         NaN          NaN         NaN  \n",
       "Gender                  NaN          NaN         NaN          NaN         NaN  \n",
       "Age                    18.0         32.0        37.0         44.0        92.0  \n",
       "Tenure                  0.0          2.0         5.0          7.0        10.0  \n",
       "Balance                 0.0          0.0    97198.54    127644.24   250898.09  \n",
       "NumOfProducts           1.0          1.0         1.0          2.0         4.0  \n",
       "HasCrCard               0.0          0.0         1.0          1.0         1.0  \n",
       "IsActiveMember          0.0          0.0         1.0          1.0         1.0  \n",
       "EstimatedSalary       11.58     51002.11  100193.915  149388.2475   199992.48  \n",
       "Exited                  0.0          0.0         0.0          0.0         1.0  "
      ]
     },
     "execution_count": 35,
     "metadata": {},
     "output_type": "execute_result"
    }
   ],
   "source": [
    "data.describe(include='all').T"
   ]
  },
  {
   "cell_type": "markdown",
   "metadata": {},
   "source": [
    "Выведем количество пропусков по каждому признаку"
   ]
  },
  {
   "cell_type": "code",
   "execution_count": 36,
   "metadata": {
    "scrolled": true
   },
   "outputs": [
    {
     "data": {
      "text/plain": [
       "RowNumber            0\n",
       "CustomerId           0\n",
       "Surname              0\n",
       "CreditScore          0\n",
       "Geography            0\n",
       "Gender               0\n",
       "Age                  0\n",
       "Tenure             909\n",
       "Balance              0\n",
       "NumOfProducts        0\n",
       "HasCrCard            0\n",
       "IsActiveMember       0\n",
       "EstimatedSalary      0\n",
       "Exited               0\n",
       "dtype: int64"
      ]
     },
     "execution_count": 36,
     "metadata": {},
     "output_type": "execute_result"
    }
   ],
   "source": [
    "data.isna().sum()"
   ]
  },
  {
   "cell_type": "markdown",
   "metadata": {},
   "source": [
    "Так как в таске сказано, что наблюдается небольшой отток клиентов, то скорее всего в данных наблюдается дисбаланс данных, поэтому проверим насколько важны строки с пропусками в признаке Tenure"
   ]
  },
  {
   "cell_type": "code",
   "execution_count": 37,
   "metadata": {},
   "outputs": [
    {
     "data": {
      "text/plain": [
       "0.20132013201320131"
      ]
     },
     "execution_count": 37,
     "metadata": {},
     "output_type": "execute_result"
    }
   ],
   "source": [
    "data.loc[(data['Tenure'].isna())&(data['Exited']==1)]['Exited'].count()/909"
   ]
  },
  {
   "cell_type": "code",
   "execution_count": 38,
   "metadata": {
    "scrolled": true
   },
   "outputs": [
    {
     "data": {
      "text/plain": [
       "0.2037"
      ]
     },
     "execution_count": 38,
     "metadata": {},
     "output_type": "execute_result"
    }
   ],
   "source": [
    "data.loc[(data['Exited']==1)]['Exited'].count()/10000"
   ]
  },
  {
   "cell_type": "markdown",
   "metadata": {},
   "source": [
    "Видно, что процентное содержание ушедших такое же как и во всей выборке, поэтмоу мы можем спокойно удалить эти строки."
   ]
  },
  {
   "cell_type": "code",
   "execution_count": 39,
   "metadata": {},
   "outputs": [
    {
     "data": {
      "text/plain": [
       "RowNumber          0\n",
       "CustomerId         0\n",
       "Surname            0\n",
       "CreditScore        0\n",
       "Geography          0\n",
       "Gender             0\n",
       "Age                0\n",
       "Tenure             0\n",
       "Balance            0\n",
       "NumOfProducts      0\n",
       "HasCrCard          0\n",
       "IsActiveMember     0\n",
       "EstimatedSalary    0\n",
       "Exited             0\n",
       "dtype: int64"
      ]
     },
     "execution_count": 39,
     "metadata": {},
     "output_type": "execute_result"
    }
   ],
   "source": [
    "data = data.dropna()\n",
    "data.isna().sum()"
   ]
  },
  {
   "cell_type": "code",
   "execution_count": 40,
   "metadata": {},
   "outputs": [
    {
     "data": {
      "text/plain": [
       "(9091, 14)"
      ]
     },
     "execution_count": 40,
     "metadata": {},
     "output_type": "execute_result"
    }
   ],
   "source": [
    "data.shape"
   ]
  },
  {
   "cell_type": "markdown",
   "metadata": {},
   "source": [
    "Посмотрим на количество уникальных фамилий"
   ]
  },
  {
   "cell_type": "code",
   "execution_count": 43,
   "metadata": {},
   "outputs": [
    {
     "data": {
      "text/plain": [
       "2787"
      ]
     },
     "execution_count": 43,
     "metadata": {},
     "output_type": "execute_result"
    }
   ],
   "source": [
    "len(data['Surname'].unique())"
   ]
  },
  {
   "cell_type": "markdown",
   "metadata": {},
   "source": [
    "Проверим на явные дубликаты"
   ]
  },
  {
   "cell_type": "code",
   "execution_count": 44,
   "metadata": {},
   "outputs": [
    {
     "data": {
      "text/plain": [
       "0"
      ]
     },
     "execution_count": 44,
     "metadata": {},
     "output_type": "execute_result"
    }
   ],
   "source": [
    "data.duplicated().sum()"
   ]
  },
  {
   "cell_type": "markdown",
   "metadata": {},
   "source": [
    "Теперь котегориальный признаки нужно закодировать, для этого применим ОНЕ"
   ]
  },
  {
   "cell_type": "code",
   "execution_count": 45,
   "metadata": {},
   "outputs": [],
   "source": [
    "data_with_surname = data\n",
    "data=data.drop(['Surname','RowNumber', 'CustomerId'],axis=1)"
   ]
  },
  {
   "cell_type": "markdown",
   "metadata": {},
   "source": [
    "попытаемся не влезть в дамми ловушку"
   ]
  },
  {
   "cell_type": "code",
   "execution_count": 67,
   "metadata": {
    "scrolled": true
   },
   "outputs": [
    {
     "data": {
      "text/html": [
       "<div>\n",
       "<style scoped>\n",
       "    .dataframe tbody tr th:only-of-type {\n",
       "        vertical-align: middle;\n",
       "    }\n",
       "\n",
       "    .dataframe tbody tr th {\n",
       "        vertical-align: top;\n",
       "    }\n",
       "\n",
       "    .dataframe thead th {\n",
       "        text-align: right;\n",
       "    }\n",
       "</style>\n",
       "<table border=\"1\" class=\"dataframe\">\n",
       "  <thead>\n",
       "    <tr style=\"text-align: right;\">\n",
       "      <th></th>\n",
       "      <th>CreditScore</th>\n",
       "      <th>Age</th>\n",
       "      <th>Tenure</th>\n",
       "      <th>Balance</th>\n",
       "      <th>NumOfProducts</th>\n",
       "      <th>HasCrCard</th>\n",
       "      <th>IsActiveMember</th>\n",
       "      <th>EstimatedSalary</th>\n",
       "      <th>Exited</th>\n",
       "      <th>Geography_Germany</th>\n",
       "      <th>Geography_Spain</th>\n",
       "      <th>Gender_Male</th>\n",
       "    </tr>\n",
       "  </thead>\n",
       "  <tbody>\n",
       "    <tr>\n",
       "      <th>0</th>\n",
       "      <td>619</td>\n",
       "      <td>42</td>\n",
       "      <td>2.0</td>\n",
       "      <td>0.00</td>\n",
       "      <td>1</td>\n",
       "      <td>1</td>\n",
       "      <td>1</td>\n",
       "      <td>101348.88</td>\n",
       "      <td>1</td>\n",
       "      <td>0</td>\n",
       "      <td>0</td>\n",
       "      <td>0</td>\n",
       "    </tr>\n",
       "    <tr>\n",
       "      <th>1</th>\n",
       "      <td>608</td>\n",
       "      <td>41</td>\n",
       "      <td>1.0</td>\n",
       "      <td>83807.86</td>\n",
       "      <td>1</td>\n",
       "      <td>0</td>\n",
       "      <td>1</td>\n",
       "      <td>112542.58</td>\n",
       "      <td>0</td>\n",
       "      <td>0</td>\n",
       "      <td>1</td>\n",
       "      <td>0</td>\n",
       "    </tr>\n",
       "    <tr>\n",
       "      <th>2</th>\n",
       "      <td>502</td>\n",
       "      <td>42</td>\n",
       "      <td>8.0</td>\n",
       "      <td>159660.80</td>\n",
       "      <td>3</td>\n",
       "      <td>1</td>\n",
       "      <td>0</td>\n",
       "      <td>113931.57</td>\n",
       "      <td>1</td>\n",
       "      <td>0</td>\n",
       "      <td>0</td>\n",
       "      <td>0</td>\n",
       "    </tr>\n",
       "    <tr>\n",
       "      <th>3</th>\n",
       "      <td>699</td>\n",
       "      <td>39</td>\n",
       "      <td>1.0</td>\n",
       "      <td>0.00</td>\n",
       "      <td>2</td>\n",
       "      <td>0</td>\n",
       "      <td>0</td>\n",
       "      <td>93826.63</td>\n",
       "      <td>0</td>\n",
       "      <td>0</td>\n",
       "      <td>0</td>\n",
       "      <td>0</td>\n",
       "    </tr>\n",
       "    <tr>\n",
       "      <th>4</th>\n",
       "      <td>850</td>\n",
       "      <td>43</td>\n",
       "      <td>2.0</td>\n",
       "      <td>125510.82</td>\n",
       "      <td>1</td>\n",
       "      <td>1</td>\n",
       "      <td>1</td>\n",
       "      <td>79084.10</td>\n",
       "      <td>0</td>\n",
       "      <td>0</td>\n",
       "      <td>1</td>\n",
       "      <td>0</td>\n",
       "    </tr>\n",
       "  </tbody>\n",
       "</table>\n",
       "</div>"
      ],
      "text/plain": [
       "   CreditScore  Age  Tenure    Balance  NumOfProducts  HasCrCard  \\\n",
       "0          619   42     2.0       0.00              1          1   \n",
       "1          608   41     1.0   83807.86              1          0   \n",
       "2          502   42     8.0  159660.80              3          1   \n",
       "3          699   39     1.0       0.00              2          0   \n",
       "4          850   43     2.0  125510.82              1          1   \n",
       "\n",
       "   IsActiveMember  EstimatedSalary  Exited  Geography_Germany  \\\n",
       "0               1        101348.88       1                  0   \n",
       "1               1        112542.58       0                  0   \n",
       "2               0        113931.57       1                  0   \n",
       "3               0         93826.63       0                  0   \n",
       "4               1         79084.10       0                  0   \n",
       "\n",
       "   Geography_Spain  Gender_Male  \n",
       "0                0            0  \n",
       "1                1            0  \n",
       "2                0            0  \n",
       "3                0            0  \n",
       "4                1            0  "
      ]
     },
     "execution_count": 67,
     "metadata": {},
     "output_type": "execute_result"
    }
   ],
   "source": [
    "data = pd.get_dummies(data, drop_first=True)\n",
    "data.head()"
   ]
  },
  {
   "cell_type": "markdown",
   "metadata": {},
   "source": [
    "Вывод: данных наблюдается хорошее количество. От пропусков мы избавились, на данные это почти не должно было повлиять. Явные дубликаты не обнаружены. Закодировали данные, к сожалению пришлось потерять фамилии, но думаю между ними никакой связи с оттоком не должно быть\n",
    "Приступим к работе!"
   ]
  },
  {
   "cell_type": "markdown",
   "metadata": {},
   "source": [
    "## Исследование задачи"
   ]
  },
  {
   "cell_type": "markdown",
   "metadata": {},
   "source": [
    "### поиск дисбаланса"
   ]
  },
  {
   "cell_type": "markdown",
   "metadata": {},
   "source": [
    "Требуется обучить модели без учета дисбаланса данных, попробуем его для начала найти"
   ]
  },
  {
   "cell_type": "code",
   "execution_count": 68,
   "metadata": {},
   "outputs": [
    {
     "data": {
      "text/plain": [
       "0.2039379606203938"
      ]
     },
     "execution_count": 68,
     "metadata": {},
     "output_type": "execute_result"
    }
   ],
   "source": [
    "data.loc[(data['Exited']==1)]['Exited'].count()/data.shape[0]"
   ]
  },
  {
   "cell_type": "markdown",
   "metadata": {},
   "source": [
    "Ушедшие клиенты составляют примерно 18.5% от общего количества клиентов. Это с уверенностью можно назвать дисбалансом классов. Но попробуй обучить несколько разных моделей без учета этого дисбаланса"
   ]
  },
  {
   "cell_type": "markdown",
   "metadata": {},
   "source": [
    "#### Разделим данные"
   ]
  },
  {
   "cell_type": "code",
   "execution_count": 69,
   "metadata": {},
   "outputs": [],
   "source": [
    "target = data['Exited']\n",
    "features = data.drop('Exited', axis=1)"
   ]
  },
  {
   "cell_type": "code",
   "execution_count": 70,
   "metadata": {
    "scrolled": true
   },
   "outputs": [
    {
     "name": "stdout",
     "output_type": "stream",
     "text": [
      "0    1\n",
      "1    0\n",
      "2    1\n",
      "3    0\n",
      "4    0\n",
      "Name: Exited, dtype: int64\n"
     ]
    },
    {
     "data": {
      "text/plain": [
       "Index(['CreditScore', 'Age', 'Tenure', 'Balance', 'NumOfProducts', 'HasCrCard',\n",
       "       'IsActiveMember', 'EstimatedSalary', 'Geography_Germany',\n",
       "       'Geography_Spain', 'Gender_Male'],\n",
       "      dtype='object')"
      ]
     },
     "execution_count": 70,
     "metadata": {},
     "output_type": "execute_result"
    }
   ],
   "source": [
    "print(target.head())\n",
    "features.columns"
   ]
  },
  {
   "cell_type": "markdown",
   "metadata": {},
   "source": [
    "Разделим данные на обучающие, валидационные, тестовые в отношении 3:1:1"
   ]
  },
  {
   "cell_type": "code",
   "execution_count": 71,
   "metadata": {},
   "outputs": [],
   "source": [
    "features_train, features_buf, target_train, target_buf = train_test_split(\n",
    "                    features, target, test_size=0.4, random_state=12345\n",
    ")\n",
    "features_valid, features_test, target_valid, target_test = train_test_split(\n",
    "                    features_buf, target_buf, test_size=0.5, random_state=12345)"
   ]
  },
  {
   "cell_type": "markdown",
   "metadata": {},
   "source": [
    "### Масштабирование"
   ]
  },
  {
   "cell_type": "code",
   "execution_count": 72,
   "metadata": {},
   "outputs": [
    {
     "data": {
      "text/html": [
       "<div>\n",
       "<style scoped>\n",
       "    .dataframe tbody tr th:only-of-type {\n",
       "        vertical-align: middle;\n",
       "    }\n",
       "\n",
       "    .dataframe tbody tr th {\n",
       "        vertical-align: top;\n",
       "    }\n",
       "\n",
       "    .dataframe thead th {\n",
       "        text-align: right;\n",
       "    }\n",
       "</style>\n",
       "<table border=\"1\" class=\"dataframe\">\n",
       "  <thead>\n",
       "    <tr style=\"text-align: right;\">\n",
       "      <th></th>\n",
       "      <th>CreditScore</th>\n",
       "      <th>Age</th>\n",
       "      <th>Tenure</th>\n",
       "      <th>Balance</th>\n",
       "      <th>NumOfProducts</th>\n",
       "      <th>HasCrCard</th>\n",
       "      <th>IsActiveMember</th>\n",
       "      <th>EstimatedSalary</th>\n",
       "      <th>Exited</th>\n",
       "      <th>Geography_Germany</th>\n",
       "      <th>Geography_Spain</th>\n",
       "      <th>Gender_Male</th>\n",
       "    </tr>\n",
       "  </thead>\n",
       "  <tbody>\n",
       "    <tr>\n",
       "      <th>0</th>\n",
       "      <td>619</td>\n",
       "      <td>42</td>\n",
       "      <td>2.0</td>\n",
       "      <td>0.00</td>\n",
       "      <td>1</td>\n",
       "      <td>1</td>\n",
       "      <td>1</td>\n",
       "      <td>101348.88</td>\n",
       "      <td>1</td>\n",
       "      <td>0</td>\n",
       "      <td>0</td>\n",
       "      <td>0</td>\n",
       "    </tr>\n",
       "    <tr>\n",
       "      <th>1</th>\n",
       "      <td>608</td>\n",
       "      <td>41</td>\n",
       "      <td>1.0</td>\n",
       "      <td>83807.86</td>\n",
       "      <td>1</td>\n",
       "      <td>0</td>\n",
       "      <td>1</td>\n",
       "      <td>112542.58</td>\n",
       "      <td>0</td>\n",
       "      <td>0</td>\n",
       "      <td>1</td>\n",
       "      <td>0</td>\n",
       "    </tr>\n",
       "    <tr>\n",
       "      <th>2</th>\n",
       "      <td>502</td>\n",
       "      <td>42</td>\n",
       "      <td>8.0</td>\n",
       "      <td>159660.80</td>\n",
       "      <td>3</td>\n",
       "      <td>1</td>\n",
       "      <td>0</td>\n",
       "      <td>113931.57</td>\n",
       "      <td>1</td>\n",
       "      <td>0</td>\n",
       "      <td>0</td>\n",
       "      <td>0</td>\n",
       "    </tr>\n",
       "    <tr>\n",
       "      <th>3</th>\n",
       "      <td>699</td>\n",
       "      <td>39</td>\n",
       "      <td>1.0</td>\n",
       "      <td>0.00</td>\n",
       "      <td>2</td>\n",
       "      <td>0</td>\n",
       "      <td>0</td>\n",
       "      <td>93826.63</td>\n",
       "      <td>0</td>\n",
       "      <td>0</td>\n",
       "      <td>0</td>\n",
       "      <td>0</td>\n",
       "    </tr>\n",
       "    <tr>\n",
       "      <th>4</th>\n",
       "      <td>850</td>\n",
       "      <td>43</td>\n",
       "      <td>2.0</td>\n",
       "      <td>125510.82</td>\n",
       "      <td>1</td>\n",
       "      <td>1</td>\n",
       "      <td>1</td>\n",
       "      <td>79084.10</td>\n",
       "      <td>0</td>\n",
       "      <td>0</td>\n",
       "      <td>1</td>\n",
       "      <td>0</td>\n",
       "    </tr>\n",
       "  </tbody>\n",
       "</table>\n",
       "</div>"
      ],
      "text/plain": [
       "   CreditScore  Age  Tenure    Balance  NumOfProducts  HasCrCard  \\\n",
       "0          619   42     2.0       0.00              1          1   \n",
       "1          608   41     1.0   83807.86              1          0   \n",
       "2          502   42     8.0  159660.80              3          1   \n",
       "3          699   39     1.0       0.00              2          0   \n",
       "4          850   43     2.0  125510.82              1          1   \n",
       "\n",
       "   IsActiveMember  EstimatedSalary  Exited  Geography_Germany  \\\n",
       "0               1        101348.88       1                  0   \n",
       "1               1        112542.58       0                  0   \n",
       "2               0        113931.57       1                  0   \n",
       "3               0         93826.63       0                  0   \n",
       "4               1         79084.10       0                  0   \n",
       "\n",
       "   Geography_Spain  Gender_Male  \n",
       "0                0            0  \n",
       "1                1            0  \n",
       "2                0            0  \n",
       "3                0            0  \n",
       "4                1            0  "
      ]
     },
     "execution_count": 72,
     "metadata": {},
     "output_type": "execute_result"
    }
   ],
   "source": [
    "pd.options.mode.chained_assignment = None\n",
    "data.head()"
   ]
  },
  {
   "cell_type": "code",
   "execution_count": 73,
   "metadata": {},
   "outputs": [],
   "source": [
    "scaler = StandardScaler()\n",
    "\n",
    "numeric = ['CreditScore','Age','Tenure','Balance','NumOfProducts','HasCrCard','IsActiveMember','EstimatedSalary']\n",
    "\n",
    "scaler.fit(features_train[numeric])\n",
    "\n",
    "features_train[numeric] = scaler.transform(features_train[numeric])\n",
    "features_valid[numeric] = scaler.transform(features_valid[numeric])\n",
    "features_test[numeric] = scaler.transform(features_test[numeric])"
   ]
  },
  {
   "cell_type": "markdown",
   "metadata": {},
   "source": [
    "### Нормальное закодирование категориальных признаков.\n",
    "Здесь нужно сделать как раз закодирование ОНЕ с помощью ОneHotEncoder встроенного в sklearn "
   ]
  },
  {
   "cell_type": "code",
   "execution_count": 74,
   "metadata": {},
   "outputs": [],
   "source": [
    "#from sklearn.preprocessing import OneHotEncoder"
   ]
  },
  {
   "cell_type": "code",
   "execution_count": 75,
   "metadata": {},
   "outputs": [],
   "source": [
    "#categ = ['Geography', 'Gender']"
   ]
  },
  {
   "cell_type": "code",
   "execution_count": 76,
   "metadata": {},
   "outputs": [],
   "source": [
    "#enc = OneHotEncoder(drop='first',handle_unknown='ignore')\n",
    "#enc.fit(features_train[categ])"
   ]
  },
  {
   "cell_type": "code",
   "execution_count": null,
   "metadata": {},
   "outputs": [],
   "source": []
  },
  {
   "cell_type": "markdown",
   "metadata": {},
   "source": [
    "### приступаем к обучению"
   ]
  },
  {
   "cell_type": "markdown",
   "metadata": {},
   "source": [
    "#### логистическая регрессия"
   ]
  },
  {
   "cell_type": "code",
   "execution_count": 77,
   "metadata": {},
   "outputs": [],
   "source": [
    "model_1 = LogisticRegression(random_state=12345)"
   ]
  },
  {
   "cell_type": "code",
   "execution_count": 78,
   "metadata": {},
   "outputs": [],
   "source": [
    "model_1.fit(features_train, target_train)\n",
    "\n",
    "predictions_valid_1 = model_1.predict(features_valid)"
   ]
  },
  {
   "cell_type": "code",
   "execution_count": 80,
   "metadata": {},
   "outputs": [
    {
     "name": "stdout",
     "output_type": "stream",
     "text": [
      "f1 0.3033932135728543\n",
      "accuracy 0.8080308030803081\n"
     ]
    }
   ],
   "source": [
    "print('f1',f1_score(predictions_valid_1, target_valid))\n",
    "print('accuracy',model_1.score(features_valid, target_valid))"
   ]
  },
  {
   "cell_type": "markdown",
   "metadata": {},
   "source": [
    "F1 мера равна 0.3, это значит, что она совсем нам не подходит, так как она плохо описывает нашу выборку."
   ]
  },
  {
   "cell_type": "code",
   "execution_count": 81,
   "metadata": {},
   "outputs": [
    {
     "data": {
      "text/plain": [
       "array([[1393,   48],\n",
       "       [ 301,   76]])"
      ]
     },
     "execution_count": 81,
     "metadata": {},
     "output_type": "execute_result"
    }
   ],
   "source": [
    "confusion_matrix(target_valid, predictions_valid_1)"
   ]
  },
  {
   "cell_type": "markdown",
   "metadata": {},
   "source": []
  },
  {
   "cell_type": "code",
   "execution_count": 82,
   "metadata": {},
   "outputs": [],
   "source": [
    "model_2 = LogisticRegression(solver='liblinear',random_state=12345)"
   ]
  },
  {
   "cell_type": "code",
   "execution_count": 83,
   "metadata": {},
   "outputs": [],
   "source": [
    "model_2.fit(features_train, target_train)\n",
    "\n",
    "predictions_valid_2 = model_2.predict(features_valid)"
   ]
  },
  {
   "cell_type": "code",
   "execution_count": 84,
   "metadata": {},
   "outputs": [
    {
     "name": "stdout",
     "output_type": "stream",
     "text": [
      "0.3033932135728543\n",
      "0.8080308030803081\n"
     ]
    }
   ],
   "source": [
    "print(f1_score(predictions_valid_2, target_valid))\n",
    "print(model_2.score(features_valid, target_valid))"
   ]
  },
  {
   "cell_type": "markdown",
   "metadata": {},
   "source": [
    "Понятно, что логистическая регрессия нам не подходит. Перейдем к дереву"
   ]
  },
  {
   "cell_type": "markdown",
   "metadata": {},
   "source": [
    "#### дерево решений"
   ]
  },
  {
   "cell_type": "markdown",
   "metadata": {},
   "source": [
    "Попробуем дерево решений"
   ]
  },
  {
   "cell_type": "code",
   "execution_count": 85,
   "metadata": {},
   "outputs": [
    {
     "name": "stdout",
     "output_type": "stream",
     "text": [
      "best_depth = 7\n",
      "f1_score = 0.5764331210191083\n",
      "CPU times: user 287 ms, sys: 0 ns, total: 287 ms\n",
      "Wall time: 285 ms\n"
     ]
    }
   ],
   "source": [
    "%%time\n",
    "\n",
    "best_depth = 0\n",
    "max_f1 = 0\n",
    "for depth in range(1, 16):\n",
    "\n",
    "    model_3 = DecisionTreeClassifier(max_depth=depth, random_state=12345)\n",
    "    model_3.fit(features_train, target_train)\n",
    "\n",
    "    predictions_valid_3 = model_3.predict(features_valid)\n",
    "    f1 = f1_score(predictions_valid_3, target_valid)\n",
    "    if f1 > max_f1:\n",
    "        max_f1 = f1\n",
    "        best_depth = depth\n",
    "\n",
    "print('best_depth =', best_depth)\n",
    "print('f1_score =', max_f1)"
   ]
  },
  {
   "cell_type": "markdown",
   "metadata": {},
   "source": [
    "уже гораздо лучше, но еще не дотягивает до необходимого нам значения f1-меры."
   ]
  },
  {
   "cell_type": "markdown",
   "metadata": {},
   "source": [
    "#### случайный лес"
   ]
  },
  {
   "cell_type": "markdown",
   "metadata": {},
   "source": [
    "Подберем оптимальные значения гиперпараметров случайного леса."
   ]
  },
  {
   "cell_type": "code",
   "execution_count": 86,
   "metadata": {},
   "outputs": [
    {
     "name": "stdout",
     "output_type": "stream",
     "text": [
      "Best F1:  0.5845648604269295\n",
      "best_depth 15\n",
      "CPU times: user 1.55 s, sys: 0 ns, total: 1.55 s\n",
      "Wall time: 1.55 s\n"
     ]
    }
   ],
   "source": [
    "# %%time\n",
    "\n",
    "# best_depth = 0\n",
    "# best_f1 = 0\n",
    "# for depth in range(1,16):\n",
    "#     model_4 = RandomForestClassifier(n_estimators=20, max_depth=depth, random_state=12345)\n",
    "    \n",
    "#     model_4.fit(features_train, target_train)\n",
    "    \n",
    "#     predictions_valid_4 = model_4.predict(features_valid)\n",
    "#     f1 = f1_score(predictions_valid_4, target_valid)\n",
    "\n",
    "#     if f1 > best_f1:\n",
    "#         best_depth = depth\n",
    "#         best_f1 = f1\n",
    "        \n",
    "# print('Best F1: ',best_f1)\n",
    "# print('best_depth', best_depth)\n"
   ]
  },
  {
   "cell_type": "code",
   "execution_count": 87,
   "metadata": {},
   "outputs": [
    {
     "name": "stdout",
     "output_type": "stream",
     "text": [
      "Best F1:  0.5874587458745875\n",
      "best_est 55\n",
      "CPU times: user 6.7 s, sys: 0 ns, total: 6.7 s\n",
      "Wall time: 6.71 s\n"
     ]
    }
   ],
   "source": [
    "# %%time\n",
    "\n",
    "# best_est = 0\n",
    "# best_f1 = 0\n",
    "# for est in range(10, 101, 5):\n",
    "#     model_5 = RandomForestClassifier(n_estimators=est,  max_depth=best_depth, random_state=12345)\n",
    "    \n",
    "#     model_5.fit(features_train, target_train)\n",
    "    \n",
    "#     predictions_valid_5 = model_5.predict(features_valid)\n",
    "#     f1 = f1_score(predictions_valid_5, target_valid)\n",
    "\n",
    "#     if f1 > best_f1:\n",
    "#         best_est = est\n",
    "#         best_f1 = f1\n",
    "    \n",
    "    \n",
    "# print('Best F1: ',best_f1)\n",
    "# print('best_est', best_est)"
   ]
  },
  {
   "cell_type": "code",
   "execution_count": 90,
   "metadata": {},
   "outputs": [
    {
     "name": "stdout",
     "output_type": "stream",
     "text": [
      "Best F1:  0.5796610169491526\n",
      "best_est 40\n",
      "best_depth 11\n",
      "CPU times: user 16 s, sys: 69.3 ms, total: 16.1 s\n",
      "Wall time: 16.1 s\n"
     ]
    }
   ],
   "source": [
    "%%time\n",
    "\n",
    "best_est = 0\n",
    "best_f1 = 0\n",
    "best_depth = 0\n",
    "for est in range(10, 101, 10):\n",
    "    for depth in range(1, 14, 2):\n",
    "        model_5 = RandomForestClassifier(random_state=12345, n_estimators=est, max_depth=depth)\n",
    "        \n",
    "        model_5.fit(features_train, target_train)\n",
    "    \n",
    "        predictions_valid_5 = model_5.predict(features_valid)\n",
    "        f1 = f1_score(predictions_valid_5, target_valid)\n",
    "\n",
    "        if f1 > best_f1:\n",
    "            best_est = est\n",
    "            best_depth = depth\n",
    "            best_f1 = f1\n",
    "    \n",
    "    \n",
    "print('Best F1: ',best_f1)\n",
    "print('best_est', best_est)\n",
    "print('best_depth', best_depth)"
   ]
  },
  {
   "cell_type": "code",
   "execution_count": 92,
   "metadata": {},
   "outputs": [
    {
     "name": "stdout",
     "output_type": "stream",
     "text": [
      "Accuracy 0.8635863586358636\n"
     ]
    }
   ],
   "source": [
    "model_5 = RandomForestClassifier(n_estimators=best_est, max_depth=best_depth, random_state=12345)\n",
    "\n",
    "model_5.fit(features_train, target_train)\n",
    "\n",
    "# predicted_valid = model_5.predict(features_valid)\n",
    "\n",
    "print('Accuracy',model_5.score(features_valid, target_valid))"
   ]
  },
  {
   "cell_type": "markdown",
   "metadata": {},
   "source": [
    "Выводы, дисбаланс вносит большие проблемы с предсказаниеями, лучшее значение у f1 меры на валидационной выборке получилось у модели дерева, но оно все равно достаточно низкое, поэтотму будем пытаться избавляться от дисбаланса."
   ]
  },
  {
   "cell_type": "markdown",
   "metadata": {},
   "source": [
    "## Борьба с дисбалансом"
   ]
  },
  {
   "cell_type": "markdown",
   "metadata": {},
   "source": [
    "Первым делом, определимся какой техникой мы будем пользоваться, есть две техники, upsampling (мы дублируем класс, который встречается реже) и downsampling ( мы откидываем часть выборки часто встречающегося класса). Так как у нас достаточно много элементов положительного класса, то мы воспользуемся техникой downsampling, но на всякий случай можно обе проверить.\n",
    "\n",
    "В прошлом пункте, мы проверяли три модели, но логистическая регрессия плохо себя показала, поэтому мы не будем ее рассматривать\n"
   ]
  },
  {
   "cell_type": "code",
   "execution_count": 93,
   "metadata": {},
   "outputs": [],
   "source": [
    "def downsample(features, target, decrease):\n",
    "    '''\n",
    "    На вход подается две выборки, тренировчные прихнаки и тренировочные ответы, \n",
    "    а так же третим элементом подается на какую долю мы усеньшим нашу выборку\n",
    "    '''\n",
    "    \n",
    "    features_zeros = features[target==0]\n",
    "    features_ones = features[target==1]\n",
    "    target_zeros = target[target==0]\n",
    "    target_ones = target[target==1]\n",
    "    \n",
    "    features_zeros_downsampled = features_zeros.sample(frac=decrease, random_state=12345)\n",
    "    target_zeros_downsampled = target_zeros.sample(frac=decrease, random_state=12345)\n",
    "    \n",
    "    features_downsampled = pd.concat([features_zeros_downsampled]+[features_ones])\n",
    "    target_downsampled = pd.concat([target_zeros_downsampled]+[target_ones])\n",
    "    \n",
    "    features_downsampled, target_downsampled = shuffle(\n",
    "        features_downsampled, target_downsampled, random_state=12345)\n",
    "    \n",
    "    return features_downsampled, target_downsampled"
   ]
  },
  {
   "cell_type": "code",
   "execution_count": 94,
   "metadata": {},
   "outputs": [
    {
     "name": "stdout",
     "output_type": "stream",
     "text": [
      "(7237, 11)\n",
      "(1854, 11)\n"
     ]
    }
   ],
   "source": [
    "features_zeros = features[target==0]\n",
    "features_ones = features[target==1]\n",
    "\n",
    "print(features_zeros.shape)\n",
    "print(features_ones.shape)"
   ]
  },
  {
   "cell_type": "code",
   "execution_count": 101,
   "metadata": {},
   "outputs": [
    {
     "name": "stdout",
     "output_type": "stream",
     "text": [
      "0.26253972640596934\n"
     ]
    }
   ],
   "source": [
    "print(1900/7237)"
   ]
  },
  {
   "cell_type": "markdown",
   "metadata": {},
   "source": [
    "уменьшим отрицательный класс до 1900 элементов, для этого откинем 1- (1900/7237) =  0.737 от количестива элементов отрицательного класса"
   ]
  },
  {
   "cell_type": "code",
   "execution_count": 102,
   "metadata": {},
   "outputs": [],
   "source": [
    "features_downsampled, target_downsampled = downsample(features_train, target_train, 0.262)"
   ]
  },
  {
   "cell_type": "code",
   "execution_count": 106,
   "metadata": {},
   "outputs": [],
   "source": [
    "# features_downsampled= pd.DataFrame(features_downsampled)\n",
    "# target_downsampled = pd.DataFrame(target_downsampled)\n"
   ]
  },
  {
   "cell_type": "code",
   "execution_count": 108,
   "metadata": {},
   "outputs": [
    {
     "name": "stdout",
     "output_type": "stream",
     "text": [
      "(1134, 11)\n",
      "(1126, 11)\n"
     ]
    }
   ],
   "source": [
    "features_zeros = features_downsampled[target_downsampled==0]\n",
    "features_ones = features_downsampled[target_downsampled==1]\n",
    "\n",
    "print(features_zeros.shape)\n",
    "print(features_ones.shape)"
   ]
  },
  {
   "cell_type": "markdown",
   "metadata": {},
   "source": [
    "дисбаланс убран,теперь можно приступить к обучению"
   ]
  },
  {
   "cell_type": "code",
   "execution_count": 111,
   "metadata": {},
   "outputs": [],
   "source": [
    "# best_depth = 0\n",
    "# best_f1 = 0\n",
    "# for depth in range(1,16,1):\n",
    "#     model = DecisionTreeClassifier(max_depth=depth, random_state=12345)\n",
    "#     model.fit(features_downsampled, target_downsampled)\n",
    "    \n",
    "#     predicted_valid = model.predict(features_valid)\n",
    "#     f1 = f1_score(target_valid, predicted_valid)\n",
    "#     if f1> best_f1:\n",
    "#         best_f1= f1\n",
    "#         best_depth = depth\n",
    "        \n",
    "# print('Best f1 score =', best_f1)\n",
    "# print('Best depth =', best_depth)"
   ]
  },
  {
   "cell_type": "code",
   "execution_count": 113,
   "metadata": {},
   "outputs": [
    {
     "name": "stdout",
     "output_type": "stream",
     "text": [
      "Best f1 score = 0.6054490413723511\n",
      "Best est = 90\n",
      "Best depth = 11\n",
      "CPU times: user 12.6 s, sys: 91 ms, total: 12.7 s\n",
      "Wall time: 12.7 s\n"
     ]
    }
   ],
   "source": [
    "%%time\n",
    "best_est = 0\n",
    "best_f1 = 0\n",
    "best_depth = 0\n",
    "for depth in range(1,16,2):\n",
    "    for est in range(10,101,10):\n",
    "        model = RandomForestClassifier(n_estimators=est,max_depth=depth, random_state=12345)\n",
    "        model.fit(features_downsampled, target_downsampled)\n",
    "\n",
    "        predicted_valid = model.predict(features_valid)\n",
    "        f1 = f1_score(target_valid, predicted_valid)\n",
    "        if f1 > best_f1:\n",
    "            best_f1= f1\n",
    "            best_est = est\n",
    "            best_depth = depth\n",
    "\n",
    "print('Best f1 score =', best_f1)\n",
    "print('Best est =', best_est)\n",
    "print('Best depth =', best_depth)"
   ]
  },
  {
   "cell_type": "markdown",
   "metadata": {},
   "source": [
    "успех, у нас получилось довести f1 меру до необходимого значения c гиперпараметрами: глубина максимальная 11, количество деревьев - 90 шт."
   ]
  },
  {
   "cell_type": "code",
   "execution_count": 114,
   "metadata": {},
   "outputs": [],
   "source": [
    "def upsample(features, target, repeat):\n",
    "    ### увеливаем количество данных положительногог класса\n",
    "    features_zeros = features[target == 0]\n",
    "    features_ones = features[target == 1]\n",
    "    target_zeros = target[target == 0]\n",
    "    target_ones = target[target == 1]\n",
    "\n",
    "    features_upsampled = pd.concat([features_zeros] + [features_ones] * repeat)\n",
    "    target_upsampled = pd.concat([target_zeros] + [target_ones] * repeat)\n",
    "    \n",
    "    features_upsampled, target_upsampled = shuffle(\n",
    "        features_upsampled, target_upsampled, random_state=12345)\n",
    "    \n",
    "    return features_upsampled, target_upsampled\n",
    "\n",
    "features_upsampled, target_upsampled = upsample(features_train, target_train, 5)\n"
   ]
  },
  {
   "cell_type": "code",
   "execution_count": 115,
   "metadata": {},
   "outputs": [
    {
     "name": "stdout",
     "output_type": "stream",
     "text": [
      "Best f1 score = 0.6292993630573248\n",
      "Best est = 90\n",
      "Best depth = 13\n",
      "CPU times: user 29.2 s, sys: 70.3 ms, total: 29.2 s\n",
      "Wall time: 29.3 s\n"
     ]
    }
   ],
   "source": [
    "%%time\n",
    "best_est = 0\n",
    "best_f1 = 0\n",
    "best_depth = 0\n",
    "for depth in range(1,16,2):\n",
    "    for est in range(10,101,10):\n",
    "        model = RandomForestClassifier(n_estimators=est,max_depth=depth, random_state=12345)\n",
    "        model.fit(features_upsampled, target_upsampled)\n",
    "\n",
    "        predicted_valid = model.predict(features_valid)\n",
    "        f1 = f1_score(target_valid, predicted_valid)\n",
    "        if f1 > best_f1:\n",
    "            best_f1= f1\n",
    "            best_est = est\n",
    "            best_depth = depth\n",
    "\n",
    "print('Best f1 score =', best_f1)\n",
    "print('Best est =', best_est)\n",
    "print('Best depth =', best_depth)"
   ]
  },
  {
   "cell_type": "markdown",
   "metadata": {},
   "source": [
    "Результат просто фантастический, модель, которая обучилась на увеличенной выборке гораздо лучше себя показала на валидационной выборке.\n",
    "Поэтому далее будем использовать эту выборку и эту модель с данными гиперпараметрами"
   ]
  },
  {
   "cell_type": "markdown",
   "metadata": {},
   "source": [
    "## Тестирование модели"
   ]
  },
  {
   "cell_type": "code",
   "execution_count": 116,
   "metadata": {},
   "outputs": [
    {
     "name": "stdout",
     "output_type": "stream",
     "text": [
      "Значение f1 меры равно 0.5944517833553501\n",
      "Accuracy 0.8312259483232546\n"
     ]
    }
   ],
   "source": [
    "est = 90\n",
    "depth = 13\n",
    "\n",
    "model = RandomForestClassifier(n_estimators=est, max_depth=depth, random_state=12345)\n",
    "model.fit(features_upsampled, target_upsampled)\n",
    "\n",
    "predicted_test = model.predict(features_test)\n",
    "\n",
    "f1 = f1_score(target_test, predicted_test)\n",
    "\n",
    "print('Значение f1 меры равно', f1)\n",
    "print('Accuracy', accuracy_score(target_test, predicted_test))"
   ]
  },
  {
   "cell_type": "markdown",
   "metadata": {},
   "source": [
    "На тестовой выборке значения модели вполне хорошие, не совсем понятно на какой из выборок нужно иметь значение f1 меры не менее 0.59.\n",
    "\n",
    "Модель достаточно хорошо обучилась, нужно проверить ее на адекватность."
   ]
  },
  {
   "cell_type": "code",
   "execution_count": 118,
   "metadata": {},
   "outputs": [
    {
     "name": "stdout",
     "output_type": "stream",
     "text": [
      "Значение f1 меры равно 0.3235023041474654\n",
      "Accuracy 0.19296316657504123\n"
     ]
    }
   ],
   "source": [
    "predicted_const = pd.Series([1]*target_test.shape[0])\n",
    "\n",
    "f1 = f1_score(target_test, predicted_const)\n",
    "\n",
    "print('Значение f1 меры равно', f1)\n",
    "print('Accuracy', accuracy_score(target_test, predicted_const))"
   ]
  },
  {
   "cell_type": "code",
   "execution_count": 120,
   "metadata": {},
   "outputs": [],
   "source": [
    "from sklearn.dummy import DummyClassifier"
   ]
  },
  {
   "cell_type": "code",
   "execution_count": 121,
   "metadata": {},
   "outputs": [
    {
     "data": {
      "text/plain": [
       "0.3235023041474654"
      ]
     },
     "execution_count": 121,
     "metadata": {},
     "output_type": "execute_result"
    }
   ],
   "source": [
    "dummy_model = DummyClassifier(strategy='constant', constant=1)\n",
    "dummy_model.fit(features_train, target_train)\n",
    "f1_score(dummy_model.predict(features_test), target_test)"
   ]
  },
  {
   "cell_type": "markdown",
   "metadata": {},
   "source": [
    "посторим ROC кривую"
   ]
  },
  {
   "cell_type": "code",
   "execution_count": 122,
   "metadata": {},
   "outputs": [],
   "source": [
    "probabilities_test = model.predict_proba(features_test)\n",
    "probabilities_one_test = probabilities_test[:, 1]\n",
    "\n",
    "fpr, tpr, thresholds = roc_curve(target_test, probabilities_one_test)"
   ]
  },
  {
   "cell_type": "code",
   "execution_count": 123,
   "metadata": {},
   "outputs": [
    {
     "data": {
      "image/png": "[encoded data removed]",
      "text/plain": [
       "<Figure size 432x288 with 1 Axes>"
      ]
     },
     "metadata": {
      "needs_background": "light"
     },
     "output_type": "display_data"
    }
   ],
   "source": [
    "plt.plot(fpr,tpr)\n",
    "# ROC-кривая случайной модели \n",
    "plt.plot([0, 1], [0, 1], linestyle='--')\n",
    "\n",
    "plt.xlim(0,1)\n",
    "plt.ylim(0,1)\n",
    "\n",
    "\n",
    "plt.xlabel('False Positive Rate') \n",
    "plt.ylabel('True Positive Rate') \n",
    "\n",
    "plt.title(\"ROC-кривая\")\n",
    "\n",
    "plt.show()"
   ]
  },
  {
   "cell_type": "code",
   "execution_count": 124,
   "metadata": {},
   "outputs": [
    {
     "name": "stdout",
     "output_type": "stream",
     "text": [
      "0.8540293594789508\n"
     ]
    }
   ],
   "source": [
    "auc_roc = roc_auc_score(target_test, probabilities_one_test)\n",
    "\n",
    "\n",
    "print(auc_roc)"
   ]
  },
  {
   "cell_type": "markdown",
   "metadata": {},
   "source": [
    "## Вывод"
   ]
  },
  {
   "cell_type": "markdown",
   "metadata": {},
   "source": [
    "Была проделана работа, по исследования базы данных банка, обучили много разных моделей, нашли наилучшую, теперь готовы искать клиентов, которые собираются уходить из банка. Наша модель, может определить, собирается ли уходить, это поможет банку сохранить старых клиентов, так как сохранить старых дешевле, а значит выгодней, чем переманить к себе новых. \n",
    "\n",
    "Мы проделали подготовку данных. Проверили на явные дубликаты, убрали пропуски, проверили типы данных и закодировали категориальные данные техникой ОНЕ. \n",
    "\n",
    "В работе были проделаны следующие шаги :\n",
    "- подготовка данных\n",
    "- исследование задания и поиск дисбаланса, обучение модели\n",
    "- борьба с дисбалансом, повторное оббучение моделей.\n",
    "- тестирование модели\n",
    "- подведение итогово"
   ]
  },
  {
   "cell_type": "markdown",
   "metadata": {},
   "source": [
    "## Чек-лист готовности проекта"
   ]
  },
  {
   "cell_type": "markdown",
   "metadata": {},
   "source": [
    "Поставьте 'x' в выполненных пунктах. Далее нажмите Shift+Enter."
   ]
  },
  {
   "cell_type": "markdown",
   "metadata": {},
   "source": [
    "- [x]  Jupyter Notebook открыт\n",
    "- [x]  Весь код выполняется без ошибок\n",
    "- [x]  Ячейки с кодом расположены в порядке исполнения\n",
    "- [x]  Выполнен шаг 1: данные подготовлены\n",
    "- [x]  Выполнен шаг 2: задача исследована\n",
    "    - [x]  Исследован баланс классов\n",
    "    - [x]  Изучены модели без учёта дисбаланса\n",
    "    - [x]  Написаны выводы по результатам исследования\n",
    "- [x]  Выполнен шаг 3: учтён дисбаланс\n",
    "    - [x]  Применено несколько способов борьбы с дисбалансом\n",
    "    - [x]  Написаны выводы по результатам исследования\n",
    "- [x]  Выполнен шаг 4: проведено тестирование\n",
    "- [x]  Удалось достичь *F1*-меры не менее 0.59\n",
    "- [x]  Исследована метрика *AUC-ROC*"
   ]
  },
  {
   "cell_type": "code",
   "execution_count": null,
   "metadata": {},
   "outputs": [],
   "source": []
  }
 ],
 "metadata": {
  "ExecuteTimeLog": [
   {
    "duration": 1135,
    "start_time": "2023-06-30T13:20:26.488Z"
   },
   {
    "duration": 2575,
    "start_time": "2023-06-30T13:20:59.249Z"
   },
   {
    "duration": 2163,
    "start_time": "2023-06-30T13:22:15.149Z"
   },
   {
    "duration": 201,
    "start_time": "2023-06-30T13:22:48.036Z"
   },
   {
    "duration": 4,
    "start_time": "2023-06-30T13:23:00.972Z"
   },
   {
    "duration": 14,
    "start_time": "2023-06-30T13:23:09.017Z"
   },
   {
    "duration": 43,
    "start_time": "2023-06-30T13:23:37.640Z"
   },
   {
    "duration": 7,
    "start_time": "2023-06-30T13:25:54.486Z"
   },
   {
    "duration": 5,
    "start_time": "2023-06-30T14:19:05.398Z"
   },
   {
    "duration": 5,
    "start_time": "2023-06-30T14:19:28.734Z"
   },
   {
    "duration": 1379,
    "start_time": "2023-06-30T14:21:00.255Z"
   },
   {
    "duration": 11,
    "start_time": "2023-06-30T14:21:10.897Z"
   },
   {
    "duration": 5,
    "start_time": "2023-06-30T14:21:24.655Z"
   },
   {
    "duration": 4,
    "start_time": "2023-06-30T14:21:45.839Z"
   },
   {
    "duration": 101,
    "start_time": "2023-06-30T14:22:02.395Z"
   },
   {
    "duration": 7,
    "start_time": "2023-06-30T14:23:09.657Z"
   },
   {
    "duration": 5,
    "start_time": "2023-06-30T14:24:45.067Z"
   },
   {
    "duration": 27,
    "start_time": "2023-06-30T14:33:57.939Z"
   },
   {
    "duration": 6,
    "start_time": "2023-06-30T14:34:06.128Z"
   },
   {
    "duration": 6,
    "start_time": "2023-06-30T14:34:40.242Z"
   },
   {
    "duration": 13,
    "start_time": "2023-06-30T14:36:21.007Z"
   },
   {
    "duration": 9,
    "start_time": "2023-06-30T14:36:29.299Z"
   },
   {
    "duration": 4,
    "start_time": "2023-06-30T14:36:31.500Z"
   },
   {
    "duration": 3,
    "start_time": "2023-06-30T14:36:43.890Z"
   },
   {
    "duration": 3,
    "start_time": "2023-06-30T14:36:44.084Z"
   },
   {
    "duration": 7,
    "start_time": "2023-06-30T14:39:59.689Z"
   },
   {
    "duration": 12,
    "start_time": "2023-06-30T14:43:27.589Z"
   },
   {
    "duration": 13,
    "start_time": "2023-06-30T14:43:33.635Z"
   },
   {
    "duration": 12,
    "start_time": "2023-06-30T14:43:37.607Z"
   },
   {
    "duration": 55,
    "start_time": "2023-06-30T14:48:55.003Z"
   },
   {
    "duration": 11,
    "start_time": "2023-06-30T14:48:58.910Z"
   },
   {
    "duration": 5,
    "start_time": "2023-06-30T14:54:01.088Z"
   },
   {
    "duration": 12,
    "start_time": "2023-06-30T14:54:17.943Z"
   },
   {
    "duration": 4,
    "start_time": "2023-06-30T14:54:22.926Z"
   },
   {
    "duration": 4,
    "start_time": "2023-06-30T14:54:37.754Z"
   },
   {
    "duration": 3,
    "start_time": "2023-06-30T14:57:25.866Z"
   },
   {
    "duration": 13,
    "start_time": "2023-06-30T14:59:19.132Z"
   },
   {
    "duration": 12,
    "start_time": "2023-06-30T14:59:31.643Z"
   },
   {
    "duration": 8,
    "start_time": "2023-06-30T14:59:51.870Z"
   },
   {
    "duration": 43,
    "start_time": "2023-07-01T08:48:11.008Z"
   },
   {
    "duration": 1036,
    "start_time": "2023-07-01T08:48:19.115Z"
   },
   {
    "duration": 90,
    "start_time": "2023-07-01T08:48:20.152Z"
   },
   {
    "duration": 3,
    "start_time": "2023-07-01T08:48:20.275Z"
   },
   {
    "duration": 10,
    "start_time": "2023-07-01T08:48:20.971Z"
   },
   {
    "duration": 33,
    "start_time": "2023-07-01T08:48:21.443Z"
   },
   {
    "duration": 6,
    "start_time": "2023-07-01T08:48:22.118Z"
   },
   {
    "duration": 6,
    "start_time": "2023-07-01T08:48:22.635Z"
   },
   {
    "duration": 5,
    "start_time": "2023-07-01T08:48:22.917Z"
   },
   {
    "duration": 13,
    "start_time": "2023-07-01T08:48:23.456Z"
   },
   {
    "duration": 8,
    "start_time": "2023-07-01T08:48:23.737Z"
   },
   {
    "duration": 2,
    "start_time": "2023-07-01T08:48:24.346Z"
   },
   {
    "duration": 2,
    "start_time": "2023-07-01T08:48:24.603Z"
   },
   {
    "duration": 4,
    "start_time": "2023-07-01T08:48:25.155Z"
   },
   {
    "duration": 10,
    "start_time": "2023-07-01T08:48:25.729Z"
   },
   {
    "duration": 5,
    "start_time": "2023-07-01T08:48:27.169Z"
   },
   {
    "duration": 4,
    "start_time": "2023-07-01T08:48:27.854Z"
   },
   {
    "duration": 6,
    "start_time": "2023-07-01T08:48:28.136Z"
   },
   {
    "duration": 7,
    "start_time": "2023-07-01T08:48:28.631Z"
   },
   {
    "duration": 67,
    "start_time": "2023-07-01T08:48:29.700Z"
   },
   {
    "duration": 2,
    "start_time": "2023-07-01T08:48:54.878Z"
   },
   {
    "duration": 18,
    "start_time": "2023-07-01T08:48:56.847Z"
   },
   {
    "duration": 23,
    "start_time": "2023-07-01T08:53:52.516Z"
   },
   {
    "duration": 4,
    "start_time": "2023-07-01T09:00:22.204Z"
   },
   {
    "duration": 1935,
    "start_time": "2023-07-01T09:00:32.510Z"
   },
   {
    "duration": 8,
    "start_time": "2023-07-01T09:00:50.062Z"
   },
   {
    "duration": 11,
    "start_time": "2023-07-01T09:00:58.893Z"
   },
   {
    "duration": 6,
    "start_time": "2023-07-01T09:01:06.581Z"
   },
   {
    "duration": 18,
    "start_time": "2023-07-01T09:01:46.759Z"
   },
   {
    "duration": 3,
    "start_time": "2023-07-01T09:03:34.569Z"
   },
   {
    "duration": 25,
    "start_time": "2023-07-01T09:03:34.909Z"
   },
   {
    "duration": 8,
    "start_time": "2023-07-01T09:04:02.167Z"
   },
   {
    "duration": 5,
    "start_time": "2023-07-01T09:04:02.876Z"
   },
   {
    "duration": 5,
    "start_time": "2023-07-01T09:04:03.123Z"
   },
   {
    "duration": 7,
    "start_time": "2023-07-01T09:04:05.002Z"
   },
   {
    "duration": 3,
    "start_time": "2023-07-01T09:04:06.958Z"
   },
   {
    "duration": 323,
    "start_time": "2023-07-01T09:04:07.285Z"
   },
   {
    "duration": 5,
    "start_time": "2023-07-01T09:04:28.694Z"
   },
   {
    "duration": 11,
    "start_time": "2023-07-01T09:05:13.897Z"
   },
   {
    "duration": 7,
    "start_time": "2023-07-01T09:05:18.488Z"
   },
   {
    "duration": 8,
    "start_time": "2023-07-01T09:05:54.398Z"
   },
   {
    "duration": 3,
    "start_time": "2023-07-01T09:05:57.412Z"
   },
   {
    "duration": 15,
    "start_time": "2023-07-01T09:05:57.964Z"
   },
   {
    "duration": 8,
    "start_time": "2023-07-01T09:05:58.427Z"
   },
   {
    "duration": 8,
    "start_time": "2023-07-01T09:09:57.120Z"
   },
   {
    "duration": 3,
    "start_time": "2023-07-01T09:10:03.838Z"
   },
   {
    "duration": 6,
    "start_time": "2023-07-01T09:10:08.272Z"
   },
   {
    "duration": 5,
    "start_time": "2023-07-01T09:10:20.837Z"
   },
   {
    "duration": 462,
    "start_time": "2023-07-01T09:37:27.163Z"
   },
   {
    "duration": 4,
    "start_time": "2023-07-01T09:48:43.405Z"
   },
   {
    "duration": 451,
    "start_time": "2023-07-01T09:48:49.603Z"
   },
   {
    "duration": 566,
    "start_time": "2023-07-01T09:54:10.829Z"
   },
   {
    "duration": 1702,
    "start_time": "2023-07-01T09:57:29.055Z"
   },
   {
    "duration": 3678,
    "start_time": "2023-07-01T10:40:14.507Z"
   },
   {
    "duration": 6046,
    "start_time": "2023-07-01T10:41:04.314Z"
   },
   {
    "duration": 3612,
    "start_time": "2023-07-01T10:41:19.146Z"
   },
   {
    "duration": 6808,
    "start_time": "2023-07-01T10:41:26.219Z"
   },
   {
    "duration": 5,
    "start_time": "2023-07-01T11:26:07.594Z"
   },
   {
    "duration": 5,
    "start_time": "2023-07-01T11:26:32.557Z"
   },
   {
    "duration": 6,
    "start_time": "2023-07-01T11:27:02.449Z"
   },
   {
    "duration": 8,
    "start_time": "2023-07-01T11:28:29.477Z"
   },
   {
    "duration": 4,
    "start_time": "2023-07-01T11:28:44.387Z"
   },
   {
    "duration": 6,
    "start_time": "2023-07-01T11:28:44.747Z"
   },
   {
    "duration": 17,
    "start_time": "2023-07-01T11:28:46.513Z"
   },
   {
    "duration": 6,
    "start_time": "2023-07-01T11:29:06.720Z"
   },
   {
    "duration": 6,
    "start_time": "2023-07-01T11:29:08.958Z"
   },
   {
    "duration": 14,
    "start_time": "2023-07-01T11:29:09.566Z"
   },
   {
    "duration": 3,
    "start_time": "2023-07-01T11:29:38.544Z"
   },
   {
    "duration": 4,
    "start_time": "2023-07-01T11:29:44.858Z"
   },
   {
    "duration": 5,
    "start_time": "2023-07-01T11:29:45.138Z"
   },
   {
    "duration": 7,
    "start_time": "2023-07-01T11:29:45.983Z"
   },
   {
    "duration": 9,
    "start_time": "2023-07-01T11:45:36.521Z"
   },
   {
    "duration": 9,
    "start_time": "2023-07-01T11:45:55.868Z"
   },
   {
    "duration": 9,
    "start_time": "2023-07-01T11:50:32.234Z"
   },
   {
    "duration": 10,
    "start_time": "2023-07-01T11:50:48.186Z"
   },
   {
    "duration": 7,
    "start_time": "2023-07-01T11:50:51.403Z"
   },
   {
    "duration": 18,
    "start_time": "2023-07-01T11:50:55.489Z"
   },
   {
    "duration": 3,
    "start_time": "2023-07-01T11:51:13.536Z"
   },
   {
    "duration": 3,
    "start_time": "2023-07-01T11:51:38.407Z"
   },
   {
    "duration": 81,
    "start_time": "2023-07-01T11:52:31.675Z"
   },
   {
    "duration": 20,
    "start_time": "2023-07-01T11:52:52.196Z"
   },
   {
    "duration": 15,
    "start_time": "2023-07-01T11:53:16.046Z"
   },
   {
    "duration": 16,
    "start_time": "2023-07-01T11:53:37.975Z"
   },
   {
    "duration": 4,
    "start_time": "2023-07-01T11:53:42.823Z"
   },
   {
    "duration": 26,
    "start_time": "2023-07-01T11:53:52.373Z"
   },
   {
    "duration": 8,
    "start_time": "2023-07-01T11:54:01.295Z"
   },
   {
    "duration": 29,
    "start_time": "2023-07-01T11:54:01.508Z"
   },
   {
    "duration": 30,
    "start_time": "2023-07-01T11:54:09.374Z"
   },
   {
    "duration": 27,
    "start_time": "2023-07-01T11:54:14.672Z"
   },
   {
    "duration": 10,
    "start_time": "2023-07-01T11:54:20.736Z"
   },
   {
    "duration": 9,
    "start_time": "2023-07-01T11:54:27.058Z"
   },
   {
    "duration": 3,
    "start_time": "2023-07-01T11:54:31.085Z"
   },
   {
    "duration": 3,
    "start_time": "2023-07-01T11:54:34.941Z"
   },
   {
    "duration": 4,
    "start_time": "2023-07-01T11:54:44.361Z"
   },
   {
    "duration": 6,
    "start_time": "2023-07-01T11:55:24.044Z"
   },
   {
    "duration": 11,
    "start_time": "2023-07-01T11:56:06.140Z"
   },
   {
    "duration": 11,
    "start_time": "2023-07-01T11:56:08.939Z"
   },
   {
    "duration": 2,
    "start_time": "2023-07-01T11:56:09.356Z"
   },
   {
    "duration": 7,
    "start_time": "2023-07-01T11:56:09.525Z"
   },
   {
    "duration": 6,
    "start_time": "2023-07-01T11:56:19.143Z"
   },
   {
    "duration": 220,
    "start_time": "2023-07-01T13:10:16.102Z"
   },
   {
    "duration": 1305,
    "start_time": "2023-07-01T13:11:41.311Z"
   },
   {
    "duration": 3,
    "start_time": "2023-07-01T13:15:46.006Z"
   },
   {
    "duration": 78,
    "start_time": "2023-07-01T13:16:06.728Z"
   },
   {
    "duration": 103,
    "start_time": "2023-07-01T13:16:45.889Z"
   },
   {
    "duration": 75,
    "start_time": "2023-07-01T13:16:50.582Z"
   },
   {
    "duration": 75,
    "start_time": "2023-07-01T13:16:54.879Z"
   },
   {
    "duration": 87,
    "start_time": "2023-07-01T13:17:02.676Z"
   },
   {
    "duration": 79,
    "start_time": "2023-07-01T13:17:06.984Z"
   },
   {
    "duration": 8,
    "start_time": "2023-07-01T13:20:43.442Z"
   },
   {
    "duration": 4,
    "start_time": "2023-07-01T13:20:48.012Z"
   },
   {
    "duration": 7,
    "start_time": "2023-07-01T13:21:19.136Z"
   },
   {
    "duration": 17,
    "start_time": "2023-07-01T13:26:00.504Z"
   },
   {
    "duration": 3,
    "start_time": "2023-07-01T13:26:06.162Z"
   },
   {
    "duration": 13,
    "start_time": "2023-07-01T13:26:09.468Z"
   },
   {
    "duration": 11,
    "start_time": "2023-07-01T13:26:45.366Z"
   },
   {
    "duration": 495,
    "start_time": "2023-07-01T13:27:02.940Z"
   },
   {
    "duration": 107,
    "start_time": "2023-07-01T13:27:06.810Z"
   },
   {
    "duration": 3,
    "start_time": "2023-07-01T13:28:41.459Z"
   },
   {
    "duration": 36,
    "start_time": "2023-07-01T13:28:45.307Z"
   },
   {
    "duration": 6,
    "start_time": "2023-07-01T13:28:56.682Z"
   },
   {
    "duration": 1608,
    "start_time": "2023-07-03T18:59:32.747Z"
   },
   {
    "duration": 104,
    "start_time": "2023-07-03T18:59:34.358Z"
   },
   {
    "duration": 6,
    "start_time": "2023-07-03T18:59:34.465Z"
   },
   {
    "duration": 23,
    "start_time": "2023-07-03T18:59:34.474Z"
   },
   {
    "duration": 57,
    "start_time": "2023-07-03T18:59:34.499Z"
   },
   {
    "duration": 13,
    "start_time": "2023-07-03T18:59:34.558Z"
   },
   {
    "duration": 26,
    "start_time": "2023-07-03T18:59:34.574Z"
   },
   {
    "duration": 8,
    "start_time": "2023-07-03T18:59:34.602Z"
   },
   {
    "duration": 17,
    "start_time": "2023-07-03T18:59:34.612Z"
   },
   {
    "duration": 9,
    "start_time": "2023-07-03T18:59:34.651Z"
   },
   {
    "duration": 8,
    "start_time": "2023-07-03T18:59:34.662Z"
   },
   {
    "duration": 11,
    "start_time": "2023-07-03T18:59:34.671Z"
   },
   {
    "duration": 8,
    "start_time": "2023-07-03T18:59:34.684Z"
   },
   {
    "duration": 15,
    "start_time": "2023-07-03T18:59:34.696Z"
   },
   {
    "duration": 4,
    "start_time": "2023-07-03T18:59:34.712Z"
   },
   {
    "duration": 67,
    "start_time": "2023-07-03T18:59:34.718Z"
   },
   {
    "duration": 8,
    "start_time": "2023-07-03T18:59:34.787Z"
   },
   {
    "duration": 4,
    "start_time": "2023-07-03T18:59:34.797Z"
   },
   {
    "duration": 8,
    "start_time": "2023-07-03T18:59:34.802Z"
   },
   {
    "duration": 13,
    "start_time": "2023-07-03T18:59:34.811Z"
   },
   {
    "duration": 3,
    "start_time": "2023-07-03T18:59:34.826Z"
   },
   {
    "duration": 815,
    "start_time": "2023-07-03T18:59:34.858Z"
   },
   {
    "duration": 21,
    "start_time": "2023-07-03T18:59:35.752Z"
   },
   {
    "duration": 99,
    "start_time": "2023-07-03T18:59:35.774Z"
   },
   {
    "duration": 85,
    "start_time": "2023-07-03T18:59:35.875Z"
   },
   {
    "duration": 35,
    "start_time": "2023-07-03T18:59:35.963Z"
   },
   {
    "duration": 195,
    "start_time": "2023-07-03T18:59:36.000Z"
   },
   {
    "duration": 586,
    "start_time": "2023-07-03T18:59:36.199Z"
   },
   {
    "duration": 1830,
    "start_time": "2023-07-03T18:59:36.788Z"
   },
   {
    "duration": 8749,
    "start_time": "2023-07-03T18:59:38.620Z"
   },
   {
    "duration": 7,
    "start_time": "2023-07-03T18:59:47.375Z"
   },
   {
    "duration": 22,
    "start_time": "2023-07-03T18:59:47.384Z"
   },
   {
    "duration": 15,
    "start_time": "2023-07-03T18:59:47.408Z"
   },
   {
    "duration": 3,
    "start_time": "2023-07-03T18:59:47.426Z"
   },
   {
    "duration": 10,
    "start_time": "2023-07-03T18:59:47.431Z"
   },
   {
    "duration": 243,
    "start_time": "2023-07-03T18:59:47.443Z"
   },
   {
    "duration": 1759,
    "start_time": "2023-07-03T18:59:47.688Z"
   },
   {
    "duration": 120,
    "start_time": "2023-07-03T18:59:49.451Z"
   },
   {
    "duration": 11,
    "start_time": "2023-07-03T18:59:49.574Z"
   },
   {
    "duration": 27,
    "start_time": "2023-07-03T18:59:49.587Z"
   },
   {
    "duration": 195,
    "start_time": "2023-07-03T18:59:49.619Z"
   },
   {
    "duration": 8,
    "start_time": "2023-07-03T18:59:49.816Z"
   },
   {
    "duration": 3374,
    "start_time": "2023-07-03T19:10:31.692Z"
   },
   {
    "duration": 213,
    "start_time": "2023-07-03T19:10:35.069Z"
   },
   {
    "duration": 24,
    "start_time": "2023-07-03T19:10:35.284Z"
   },
   {
    "duration": 99,
    "start_time": "2023-07-03T19:10:35.310Z"
   },
   {
    "duration": 245,
    "start_time": "2023-07-03T19:10:35.412Z"
   },
   {
    "duration": 59,
    "start_time": "2023-07-03T19:10:35.658Z"
   },
   {
    "duration": 58,
    "start_time": "2023-07-03T19:10:35.721Z"
   },
   {
    "duration": 25,
    "start_time": "2023-07-03T19:10:35.784Z"
   },
   {
    "duration": 132,
    "start_time": "2023-07-03T19:10:35.816Z"
   },
   {
    "duration": 141,
    "start_time": "2023-07-03T19:10:35.954Z"
   },
   {
    "duration": 75,
    "start_time": "2023-07-03T19:10:36.097Z"
   },
   {
    "duration": 117,
    "start_time": "2023-07-03T19:10:36.174Z"
   },
   {
    "duration": 84,
    "start_time": "2023-07-03T19:10:36.294Z"
   },
   {
    "duration": 66,
    "start_time": "2023-07-03T19:10:36.384Z"
   },
   {
    "duration": 43,
    "start_time": "2023-07-03T19:10:36.462Z"
   },
   {
    "duration": 188,
    "start_time": "2023-07-03T19:10:36.520Z"
   },
   {
    "duration": 86,
    "start_time": "2023-07-03T19:10:36.725Z"
   },
   {
    "duration": 11,
    "start_time": "2023-07-03T19:10:36.821Z"
   },
   {
    "duration": 73,
    "start_time": "2023-07-03T19:10:36.845Z"
   },
   {
    "duration": 88,
    "start_time": "2023-07-03T19:10:36.925Z"
   },
   {
    "duration": 52,
    "start_time": "2023-07-03T19:10:37.019Z"
   },
   {
    "duration": 834,
    "start_time": "2023-07-03T19:10:37.073Z"
   },
   {
    "duration": 100,
    "start_time": "2023-07-03T19:10:37.915Z"
   },
   {
    "duration": 132,
    "start_time": "2023-07-03T19:10:38.022Z"
   },
   {
    "duration": 3,
    "start_time": "2023-07-03T19:10:38.157Z"
   },
   {
    "duration": 144,
    "start_time": "2023-07-03T19:10:38.162Z"
   },
   {
    "duration": 97,
    "start_time": "2023-07-03T19:10:38.308Z"
   },
   {
    "duration": 1348,
    "start_time": "2023-07-03T19:10:38.407Z"
   },
   {
    "duration": 5388,
    "start_time": "2023-07-03T19:10:39.757Z"
   },
   {
    "duration": 29004,
    "start_time": "2023-07-03T19:10:45.149Z"
   },
   {
    "duration": 54,
    "start_time": "2023-07-03T19:11:14.155Z"
   },
   {
    "duration": 63,
    "start_time": "2023-07-03T19:11:14.212Z"
   },
   {
    "duration": 86,
    "start_time": "2023-07-03T19:11:14.277Z"
   },
   {
    "duration": 4,
    "start_time": "2023-07-03T19:11:14.365Z"
   },
   {
    "duration": 35,
    "start_time": "2023-07-03T19:11:14.371Z"
   },
   {
    "duration": 801,
    "start_time": "2023-07-03T19:11:14.410Z"
   },
   {
    "duration": 4899,
    "start_time": "2023-07-03T19:11:15.213Z"
   },
   {
    "duration": 290,
    "start_time": "2023-07-03T19:11:20.118Z"
   },
   {
    "duration": 19,
    "start_time": "2023-07-03T19:11:20.414Z"
   },
   {
    "duration": 80,
    "start_time": "2023-07-03T19:11:20.440Z"
   },
   {
    "duration": 586,
    "start_time": "2023-07-03T19:11:20.535Z"
   },
   {
    "duration": 8,
    "start_time": "2023-07-03T19:11:21.124Z"
   },
   {
    "duration": 48,
    "start_time": "2023-07-04T13:20:30.405Z"
   },
   {
    "duration": 1744,
    "start_time": "2023-07-04T13:20:36.753Z"
   },
   {
    "duration": 383,
    "start_time": "2023-07-04T13:20:41.813Z"
   },
   {
    "duration": 4,
    "start_time": "2023-07-04T13:20:45.099Z"
   },
   {
    "duration": 18,
    "start_time": "2023-07-04T13:20:45.621Z"
   },
   {
    "duration": 46,
    "start_time": "2023-07-04T13:20:50.113Z"
   },
   {
    "duration": 62,
    "start_time": "2023-07-05T03:11:59.296Z"
   },
   {
    "duration": 2008,
    "start_time": "2023-07-05T03:12:05.826Z"
   },
   {
    "duration": 114,
    "start_time": "2023-07-05T03:12:08.439Z"
   },
   {
    "duration": 4,
    "start_time": "2023-07-05T03:12:09.159Z"
   },
   {
    "duration": 14,
    "start_time": "2023-07-05T03:12:10.973Z"
   },
   {
    "duration": 41,
    "start_time": "2023-07-05T03:12:11.426Z"
   },
   {
    "duration": 64,
    "start_time": "2023-07-05T03:12:12.898Z"
   },
   {
    "duration": 9,
    "start_time": "2023-07-05T03:12:29.918Z"
   },
   {
    "duration": 6,
    "start_time": "2023-07-05T03:12:31.131Z"
   },
   {
    "duration": 7,
    "start_time": "2023-07-05T03:12:33.634Z"
   },
   {
    "duration": 11,
    "start_time": "2023-07-05T03:12:34.478Z"
   },
   {
    "duration": 5,
    "start_time": "2023-07-05T03:12:37.026Z"
   },
   {
    "duration": 3,
    "start_time": "2023-07-05T03:12:44.556Z"
   },
   {
    "duration": 5,
    "start_time": "2023-07-05T03:12:45.445Z"
   },
   {
    "duration": 10,
    "start_time": "2023-07-05T03:12:46.754Z"
   },
   {
    "duration": 101,
    "start_time": "2023-07-05T03:12:47.949Z"
   },
   {
    "duration": 5,
    "start_time": "2023-07-05T03:12:55.775Z"
   },
   {
    "duration": 19,
    "start_time": "2023-07-05T03:13:17.234Z"
   },
   {
    "duration": 8,
    "start_time": "2023-07-05T03:15:53.187Z"
   },
   {
    "duration": 13,
    "start_time": "2023-07-05T03:19:56.040Z"
   },
   {
    "duration": 3,
    "start_time": "2023-07-05T03:20:19.125Z"
   },
   {
    "duration": 2,
    "start_time": "2023-07-05T03:23:41.795Z"
   },
   {
    "duration": 49,
    "start_time": "2023-07-06T06:45:34.403Z"
   },
   {
    "duration": 1587,
    "start_time": "2023-07-06T06:45:43.015Z"
   },
   {
    "duration": 98,
    "start_time": "2023-07-06T06:45:45.004Z"
   },
   {
    "duration": 4,
    "start_time": "2023-07-06T06:45:45.820Z"
   },
   {
    "duration": 14,
    "start_time": "2023-07-06T06:45:46.310Z"
   },
   {
    "duration": 41,
    "start_time": "2023-07-06T06:45:46.844Z"
   },
   {
    "duration": 49,
    "start_time": "2023-07-06T06:45:47.390Z"
   },
   {
    "duration": 9,
    "start_time": "2023-07-06T06:45:48.041Z"
   },
   {
    "duration": 7,
    "start_time": "2023-07-06T06:45:48.750Z"
   },
   {
    "duration": 7,
    "start_time": "2023-07-06T06:45:49.208Z"
   },
   {
    "duration": 12,
    "start_time": "2023-07-06T06:45:49.895Z"
   },
   {
    "duration": 5,
    "start_time": "2023-07-06T06:45:50.443Z"
   },
   {
    "duration": 3,
    "start_time": "2023-07-06T06:45:50.655Z"
   },
   {
    "duration": 2,
    "start_time": "2023-07-06T06:45:50.866Z"
   },
   {
    "duration": 5,
    "start_time": "2023-07-06T06:45:51.329Z"
   },
   {
    "duration": 12,
    "start_time": "2023-07-06T06:45:51.795Z"
   },
   {
    "duration": 4,
    "start_time": "2023-07-06T06:45:52.252Z"
   },
   {
    "duration": 19,
    "start_time": "2023-07-06T06:45:53.355Z"
   },
   {
    "duration": 3,
    "start_time": "2023-07-06T06:45:55.342Z"
   },
   {
    "duration": 2,
    "start_time": "2023-07-06T06:45:55.794Z"
   },
   {
    "duration": 47,
    "start_time": "2023-07-09T13:31:34.490Z"
   },
   {
    "duration": 1668,
    "start_time": "2023-07-09T13:31:43.487Z"
   },
   {
    "duration": 182,
    "start_time": "2023-07-09T13:31:45.182Z"
   },
   {
    "duration": 4,
    "start_time": "2023-07-09T13:31:45.835Z"
   },
   {
    "duration": 13,
    "start_time": "2023-07-09T13:31:46.423Z"
   },
   {
    "duration": 41,
    "start_time": "2023-07-09T13:31:47.284Z"
   },
   {
    "duration": 43,
    "start_time": "2023-07-09T13:31:48.362Z"
   },
   {
    "duration": 8,
    "start_time": "2023-07-09T13:31:49.348Z"
   },
   {
    "duration": 6,
    "start_time": "2023-07-09T13:31:49.882Z"
   },
   {
    "duration": 6,
    "start_time": "2023-07-09T13:31:50.123Z"
   },
   {
    "duration": 11,
    "start_time": "2023-07-09T13:31:50.634Z"
   },
   {
    "duration": 3,
    "start_time": "2023-07-09T13:31:51.170Z"
   },
   {
    "duration": 2,
    "start_time": "2023-07-09T13:31:51.431Z"
   },
   {
    "duration": 2,
    "start_time": "2023-07-09T13:31:51.998Z"
   },
   {
    "duration": 5,
    "start_time": "2023-07-09T13:31:52.846Z"
   },
   {
    "duration": 12,
    "start_time": "2023-07-09T13:31:53.635Z"
   },
   {
    "duration": 4,
    "start_time": "2023-07-09T13:31:55.363Z"
   },
   {
    "duration": 19,
    "start_time": "2023-07-09T13:31:57.695Z"
   },
   {
    "duration": 2,
    "start_time": "2023-07-09T13:32:03.991Z"
   },
   {
    "duration": 11,
    "start_time": "2023-07-09T13:32:04.286Z"
   },
   {
    "duration": 1414,
    "start_time": "2023-07-09T13:32:46.811Z"
   },
   {
    "duration": 54,
    "start_time": "2023-07-09T13:32:48.227Z"
   },
   {
    "duration": 4,
    "start_time": "2023-07-09T13:32:48.282Z"
   },
   {
    "duration": 18,
    "start_time": "2023-07-09T13:32:48.288Z"
   },
   {
    "duration": 39,
    "start_time": "2023-07-09T13:32:48.307Z"
   },
   {
    "duration": 57,
    "start_time": "2023-07-09T13:32:48.347Z"
   },
   {
    "duration": 7,
    "start_time": "2023-07-09T13:32:48.405Z"
   },
   {
    "duration": 12,
    "start_time": "2023-07-09T13:32:48.414Z"
   },
   {
    "duration": 8,
    "start_time": "2023-07-09T13:32:48.428Z"
   },
   {
    "duration": 32,
    "start_time": "2023-07-09T13:32:48.438Z"
   },
   {
    "duration": 4,
    "start_time": "2023-07-09T13:32:48.471Z"
   },
   {
    "duration": 14,
    "start_time": "2023-07-09T13:32:48.476Z"
   },
   {
    "duration": 6,
    "start_time": "2023-07-09T13:32:48.491Z"
   },
   {
    "duration": 16,
    "start_time": "2023-07-09T13:32:48.498Z"
   },
   {
    "duration": 19,
    "start_time": "2023-07-09T13:32:48.516Z"
   },
   {
    "duration": 21,
    "start_time": "2023-07-09T13:32:48.536Z"
   },
   {
    "duration": 6,
    "start_time": "2023-07-09T13:32:48.559Z"
   },
   {
    "duration": 4,
    "start_time": "2023-07-09T13:32:48.566Z"
   },
   {
    "duration": 13,
    "start_time": "2023-07-09T13:32:48.571Z"
   },
   {
    "duration": 104,
    "start_time": "2023-07-09T13:32:48.585Z"
   },
   {
    "duration": 0,
    "start_time": "2023-07-09T13:32:48.692Z"
   },
   {
    "duration": 0,
    "start_time": "2023-07-09T13:32:48.693Z"
   },
   {
    "duration": 0,
    "start_time": "2023-07-09T13:32:48.695Z"
   },
   {
    "duration": 0,
    "start_time": "2023-07-09T13:32:48.696Z"
   },
   {
    "duration": 0,
    "start_time": "2023-07-09T13:32:48.698Z"
   },
   {
    "duration": 0,
    "start_time": "2023-07-09T13:32:48.699Z"
   },
   {
    "duration": 0,
    "start_time": "2023-07-09T13:32:48.700Z"
   },
   {
    "duration": 0,
    "start_time": "2023-07-09T13:32:48.702Z"
   },
   {
    "duration": 0,
    "start_time": "2023-07-09T13:32:48.703Z"
   },
   {
    "duration": 0,
    "start_time": "2023-07-09T13:32:48.704Z"
   },
   {
    "duration": 0,
    "start_time": "2023-07-09T13:32:48.706Z"
   },
   {
    "duration": 0,
    "start_time": "2023-07-09T13:32:48.707Z"
   },
   {
    "duration": 0,
    "start_time": "2023-07-09T13:32:48.708Z"
   },
   {
    "duration": 0,
    "start_time": "2023-07-09T13:32:48.710Z"
   },
   {
    "duration": 0,
    "start_time": "2023-07-09T13:32:48.711Z"
   },
   {
    "duration": 0,
    "start_time": "2023-07-09T13:32:48.712Z"
   },
   {
    "duration": 0,
    "start_time": "2023-07-09T13:32:48.713Z"
   },
   {
    "duration": 0,
    "start_time": "2023-07-09T13:32:48.714Z"
   },
   {
    "duration": 0,
    "start_time": "2023-07-09T13:32:48.715Z"
   },
   {
    "duration": 0,
    "start_time": "2023-07-09T13:32:48.716Z"
   },
   {
    "duration": 0,
    "start_time": "2023-07-09T13:32:48.717Z"
   },
   {
    "duration": 0,
    "start_time": "2023-07-09T13:32:48.718Z"
   },
   {
    "duration": 0,
    "start_time": "2023-07-09T13:32:48.719Z"
   },
   {
    "duration": 0,
    "start_time": "2023-07-09T13:32:48.720Z"
   },
   {
    "duration": 0,
    "start_time": "2023-07-09T13:32:48.721Z"
   },
   {
    "duration": 0,
    "start_time": "2023-07-09T13:32:48.768Z"
   },
   {
    "duration": 0,
    "start_time": "2023-07-09T13:32:48.769Z"
   },
   {
    "duration": 0,
    "start_time": "2023-07-09T13:32:48.770Z"
   },
   {
    "duration": 2,
    "start_time": "2023-07-09T13:41:34.957Z"
   },
   {
    "duration": 11,
    "start_time": "2023-07-09T13:41:35.243Z"
   },
   {
    "duration": 10,
    "start_time": "2023-07-09T13:42:00.950Z"
   },
   {
    "duration": 4,
    "start_time": "2023-07-09T13:42:07.811Z"
   },
   {
    "duration": 2,
    "start_time": "2023-07-09T13:42:08.029Z"
   },
   {
    "duration": 2,
    "start_time": "2023-07-09T13:42:08.225Z"
   },
   {
    "duration": 1292,
    "start_time": "2023-07-09T13:42:08.597Z"
   },
   {
    "duration": 0,
    "start_time": "2023-07-09T13:42:09.891Z"
   },
   {
    "duration": 0,
    "start_time": "2023-07-09T13:42:09.892Z"
   },
   {
    "duration": 2,
    "start_time": "2023-07-09T13:42:10.595Z"
   },
   {
    "duration": 1306,
    "start_time": "2023-07-09T13:42:15.839Z"
   },
   {
    "duration": 4,
    "start_time": "2023-07-09T13:42:48.252Z"
   },
   {
    "duration": 49,
    "start_time": "2023-07-09T13:42:49.265Z"
   },
   {
    "duration": 4,
    "start_time": "2023-07-09T13:42:49.796Z"
   },
   {
    "duration": 12,
    "start_time": "2023-07-09T13:42:50.296Z"
   },
   {
    "duration": 38,
    "start_time": "2023-07-09T13:42:50.813Z"
   },
   {
    "duration": 42,
    "start_time": "2023-07-09T13:42:51.344Z"
   },
   {
    "duration": 7,
    "start_time": "2023-07-09T13:42:51.901Z"
   },
   {
    "duration": 7,
    "start_time": "2023-07-09T13:42:52.437Z"
   },
   {
    "duration": 6,
    "start_time": "2023-07-09T13:42:52.730Z"
   },
   {
    "duration": 11,
    "start_time": "2023-07-09T13:42:53.496Z"
   },
   {
    "duration": 3,
    "start_time": "2023-07-09T13:42:54.283Z"
   },
   {
    "duration": 2,
    "start_time": "2023-07-09T13:42:54.635Z"
   },
   {
    "duration": 2,
    "start_time": "2023-07-09T13:42:54.995Z"
   },
   {
    "duration": 4,
    "start_time": "2023-07-09T13:42:55.976Z"
   },
   {
    "duration": 12,
    "start_time": "2023-07-09T13:42:59.957Z"
   },
   {
    "duration": 4,
    "start_time": "2023-07-09T13:43:01.030Z"
   },
   {
    "duration": 6,
    "start_time": "2023-07-09T13:43:43.912Z"
   },
   {
    "duration": 4,
    "start_time": "2023-07-09T13:43:47.034Z"
   },
   {
    "duration": 5,
    "start_time": "2023-07-09T13:43:47.525Z"
   },
   {
    "duration": 7,
    "start_time": "2023-07-09T13:43:56.254Z"
   },
   {
    "duration": 3,
    "start_time": "2023-07-09T13:44:01.898Z"
   },
   {
    "duration": 3,
    "start_time": "2023-07-09T13:44:02.253Z"
   },
   {
    "duration": 13,
    "start_time": "2023-07-09T13:44:02.710Z"
   },
   {
    "duration": 2,
    "start_time": "2023-07-09T13:45:49.390Z"
   },
   {
    "duration": 2,
    "start_time": "2023-07-09T13:45:49.619Z"
   },
   {
    "duration": 2,
    "start_time": "2023-07-09T13:45:49.831Z"
   },
   {
    "duration": 9,
    "start_time": "2023-07-09T13:47:05.093Z"
   },
   {
    "duration": 4,
    "start_time": "2023-07-09T13:47:28.745Z"
   },
   {
    "duration": 11,
    "start_time": "2023-07-09T13:49:38.221Z"
   },
   {
    "duration": 22,
    "start_time": "2023-07-09T13:52:37.423Z"
   },
   {
    "duration": 14,
    "start_time": "2023-07-09T13:52:52.961Z"
   },
   {
    "duration": 46,
    "start_time": "2023-07-09T13:53:03.865Z"
   },
   {
    "duration": 12,
    "start_time": "2023-07-09T13:53:48.249Z"
   },
   {
    "duration": 31,
    "start_time": "2023-07-09T13:54:07.802Z"
   },
   {
    "duration": 12,
    "start_time": "2023-07-09T13:54:46.294Z"
   },
   {
    "duration": 35,
    "start_time": "2023-07-09T13:54:47.571Z"
   },
   {
    "duration": 12,
    "start_time": "2023-07-09T13:55:05.292Z"
   },
   {
    "duration": 18,
    "start_time": "2023-07-09T13:55:20.438Z"
   },
   {
    "duration": 9,
    "start_time": "2023-07-09T13:55:23.198Z"
   },
   {
    "duration": 4,
    "start_time": "2023-07-09T13:55:24.388Z"
   },
   {
    "duration": 14,
    "start_time": "2023-07-09T13:55:24.894Z"
   },
   {
    "duration": 7,
    "start_time": "2023-07-09T13:55:25.595Z"
   },
   {
    "duration": 12,
    "start_time": "2023-07-09T13:55:27.563Z"
   },
   {
    "duration": 29,
    "start_time": "2023-07-09T13:55:34.768Z"
   },
   {
    "duration": 2,
    "start_time": "2023-07-09T13:55:36.194Z"
   },
   {
    "duration": 2,
    "start_time": "2023-07-09T13:55:36.444Z"
   },
   {
    "duration": 2,
    "start_time": "2023-07-09T13:55:36.866Z"
   },
   {
    "duration": 4,
    "start_time": "2023-07-09T13:55:39.488Z"
   },
   {
    "duration": 59,
    "start_time": "2023-07-09T13:55:39.917Z"
   },
   {
    "duration": 9,
    "start_time": "2023-07-09T13:55:40.221Z"
   },
   {
    "duration": 10,
    "start_time": "2023-07-09T13:55:59.527Z"
   },
   {
    "duration": 5,
    "start_time": "2023-07-09T13:56:02.994Z"
   },
   {
    "duration": 3,
    "start_time": "2023-07-09T13:56:05.759Z"
   },
   {
    "duration": 24,
    "start_time": "2023-07-09T13:56:06.094Z"
   },
   {
    "duration": 11,
    "start_time": "2023-07-09T13:56:06.325Z"
   },
   {
    "duration": 289,
    "start_time": "2023-07-09T13:56:24.498Z"
   },
   {
    "duration": 1556,
    "start_time": "2023-07-09T13:56:27.495Z"
   },
   {
    "duration": 6711,
    "start_time": "2023-07-09T13:56:29.053Z"
   },
   {
    "duration": 3,
    "start_time": "2023-07-09T13:57:23.937Z"
   },
   {
    "duration": 16809,
    "start_time": "2023-07-09T13:58:49.714Z"
   },
   {
    "duration": 16130,
    "start_time": "2023-07-09T13:59:29.819Z"
   },
   {
    "duration": 226,
    "start_time": "2023-07-09T14:02:13.198Z"
   },
   {
    "duration": 258,
    "start_time": "2023-07-09T14:02:23.831Z"
   },
   {
    "duration": 5,
    "start_time": "2023-07-09T14:02:54.657Z"
   },
   {
    "duration": 6,
    "start_time": "2023-07-09T14:02:54.896Z"
   },
   {
    "duration": 9,
    "start_time": "2023-07-09T14:02:59.995Z"
   },
   {
    "duration": 2,
    "start_time": "2023-07-09T14:03:05.058Z"
   },
   {
    "duration": 3,
    "start_time": "2023-07-09T14:04:36.217Z"
   },
   {
    "duration": 3,
    "start_time": "2023-07-09T14:04:43.093Z"
   },
   {
    "duration": 3,
    "start_time": "2023-07-09T14:05:12.239Z"
   },
   {
    "duration": 8,
    "start_time": "2023-07-09T14:05:23.651Z"
   },
   {
    "duration": 3,
    "start_time": "2023-07-09T14:05:58.235Z"
   },
   {
    "duration": 10,
    "start_time": "2023-07-09T14:05:58.650Z"
   },
   {
    "duration": 8,
    "start_time": "2023-07-09T14:06:00.005Z"
   },
   {
    "duration": 14,
    "start_time": "2023-07-09T14:07:12.229Z"
   },
   {
    "duration": 3,
    "start_time": "2023-07-09T14:07:22.752Z"
   },
   {
    "duration": 2,
    "start_time": "2023-07-09T14:07:44.996Z"
   },
   {
    "duration": 6,
    "start_time": "2023-07-09T14:07:45.489Z"
   },
   {
    "duration": 6,
    "start_time": "2023-07-09T14:08:17.848Z"
   },
   {
    "duration": 161,
    "start_time": "2023-07-09T14:08:23.163Z"
   },
   {
    "duration": 1520,
    "start_time": "2023-07-09T14:08:24.797Z"
   },
   {
    "duration": 2,
    "start_time": "2023-07-09T14:09:35.049Z"
   },
   {
    "duration": 12119,
    "start_time": "2023-07-09T14:10:02.629Z"
   },
   {
    "duration": 12710,
    "start_time": "2023-07-09T14:10:19.218Z"
   },
   {
    "duration": 10,
    "start_time": "2023-07-09T14:19:51.212Z"
   },
   {
    "duration": 29262,
    "start_time": "2023-07-09T14:20:12.446Z"
   },
   {
    "duration": 796,
    "start_time": "2023-07-09T14:23:17.958Z"
   },
   {
    "duration": 8,
    "start_time": "2023-07-09T14:23:37.395Z"
   },
   {
    "duration": 7,
    "start_time": "2023-07-09T14:25:02.940Z"
   },
   {
    "duration": 10,
    "start_time": "2023-07-09T14:26:09.751Z"
   },
   {
    "duration": 3,
    "start_time": "2023-07-09T14:26:22.301Z"
   },
   {
    "duration": 7,
    "start_time": "2023-07-09T14:26:22.721Z"
   },
   {
    "duration": 51,
    "start_time": "2023-07-09T14:26:35.011Z"
   },
   {
    "duration": 125,
    "start_time": "2023-07-09T14:26:35.583Z"
   },
   {
    "duration": 5,
    "start_time": "2023-07-09T14:26:37.626Z"
   }
  ],
  "kernelspec": {
   "display_name": "Python 3 (ipykernel)",
   "language": "python",
   "name": "python3"
  },
  "language_info": {
   "codemirror_mode": {
    "name": "ipython",
    "version": 3
   },
   "file_extension": ".py",
   "mimetype": "text/x-python",
   "name": "python",
   "nbconvert_exporter": "python",
   "pygments_lexer": "ipython3",
   "version": "3.10.8"
  },
  "toc": {
   "base_numbering": 1,
   "nav_menu": {},
   "number_sections": true,
   "sideBar": true,
   "skip_h1_title": true,
   "title_cell": "Содержание",
   "title_sidebar": "Contents",
   "toc_cell": true,
   "toc_position": {
    "height": "calc(100% - 180px)",
    "left": "10px",
    "top": "150px",
    "width": "297px"
   },
   "toc_section_display": true,
   "toc_window_display": true
  }
 },
 "nbformat": 4,
 "nbformat_minor": 2
}
