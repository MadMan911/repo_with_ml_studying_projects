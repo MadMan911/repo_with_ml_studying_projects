{
 "cells": [
  {
   "cell_type": "code",
   "execution_count": 1,
   "id": "72576667",
   "metadata": {},
   "outputs": [],
   "source": [
    "import pandas as pd"
   ]
  },
  {
   "cell_type": "markdown",
   "id": "f9a669ad",
   "metadata": {},
   "source": [
    "Нам передали данные о некоторых пользователях из нескольких городов, а также об их поездках. Проанализируем данные и проверим некоторые гипотезы, которые могут помочь бизнесу вырасти.\n",
    "\n",
    "Наша работа будет включать в себя 6 пунктов:\n",
    "- предобработка данных\n",
    "- исследовательский анализ\n",
    "- объединения данных, так как данные расположены в нескольких таблицах\n",
    "- подсчет выручки\n",
    "- проверка гипотез\n",
    "- доп исследования"
   ]
  },
  {
   "cell_type": "markdown",
   "id": "c42cbe00",
   "metadata": {},
   "source": [
    "#### Шаг 1. Загрузка данных"
   ]
  },
  {
   "cell_type": "markdown",
   "id": "6f08b66f",
   "metadata": {},
   "source": [
    "- [x] 1.1 Считайте CSV-файлы с данными с помощью библиотеки pandas и сохраните их в датафреймы. Пути к файлам:\n",
    "\n",
    "    /datasets/users_go.csv\n",
    "    \n",
    "    /datasets/rides_go.csv\n",
    "    \n",
    "    /datasets/subscriptions_go.csv\n",
    "\n",
    "- [x] 1.2 Выведите первые строки каждого набора данных. Изучите общую информацию о каждом датафрейме."
   ]
  },
  {
   "cell_type": "code",
   "execution_count": 2,
   "id": "eff9f206",
   "metadata": {},
   "outputs": [],
   "source": [
    "users = pd.read_csv('/datasets/users_go.csv')\n",
    "rides = pd.read_csv('/datasets/rides_go.csv')\n",
    "subs = pd.read_csv('/datasets/subscriptions_go.csv')"
   ]
  },
  {
   "cell_type": "code",
   "execution_count": 3,
   "id": "c4a3c5c2",
   "metadata": {},
   "outputs": [
    {
     "data": {
      "text/html": [
       "<div>\n",
       "<style scoped>\n",
       "    .dataframe tbody tr th:only-of-type {\n",
       "        vertical-align: middle;\n",
       "    }\n",
       "\n",
       "    .dataframe tbody tr th {\n",
       "        vertical-align: top;\n",
       "    }\n",
       "\n",
       "    .dataframe thead th {\n",
       "        text-align: right;\n",
       "    }\n",
       "</style>\n",
       "<table border=\"1\" class=\"dataframe\">\n",
       "  <thead>\n",
       "    <tr style=\"text-align: right;\">\n",
       "      <th></th>\n",
       "      <th>user_id</th>\n",
       "      <th>name</th>\n",
       "      <th>age</th>\n",
       "      <th>city</th>\n",
       "      <th>subscription_type</th>\n",
       "    </tr>\n",
       "  </thead>\n",
       "  <tbody>\n",
       "    <tr>\n",
       "      <th>0</th>\n",
       "      <td>1</td>\n",
       "      <td>Кира</td>\n",
       "      <td>22</td>\n",
       "      <td>Тюмень</td>\n",
       "      <td>ultra</td>\n",
       "    </tr>\n",
       "    <tr>\n",
       "      <th>1</th>\n",
       "      <td>2</td>\n",
       "      <td>Станислав</td>\n",
       "      <td>31</td>\n",
       "      <td>Омск</td>\n",
       "      <td>ultra</td>\n",
       "    </tr>\n",
       "    <tr>\n",
       "      <th>2</th>\n",
       "      <td>3</td>\n",
       "      <td>Алексей</td>\n",
       "      <td>20</td>\n",
       "      <td>Москва</td>\n",
       "      <td>ultra</td>\n",
       "    </tr>\n",
       "    <tr>\n",
       "      <th>3</th>\n",
       "      <td>4</td>\n",
       "      <td>Константин</td>\n",
       "      <td>26</td>\n",
       "      <td>Ростов-на-Дону</td>\n",
       "      <td>ultra</td>\n",
       "    </tr>\n",
       "    <tr>\n",
       "      <th>4</th>\n",
       "      <td>5</td>\n",
       "      <td>Адель</td>\n",
       "      <td>28</td>\n",
       "      <td>Омск</td>\n",
       "      <td>ultra</td>\n",
       "    </tr>\n",
       "  </tbody>\n",
       "</table>\n",
       "</div>"
      ],
      "text/plain": [
       "   user_id        name  age            city subscription_type\n",
       "0        1        Кира   22          Тюмень             ultra\n",
       "1        2   Станислав   31            Омск             ultra\n",
       "2        3     Алексей   20          Москва             ultra\n",
       "3        4  Константин   26  Ростов-на-Дону             ultra\n",
       "4        5       Адель   28            Омск             ultra"
      ]
     },
     "execution_count": 3,
     "metadata": {},
     "output_type": "execute_result"
    }
   ],
   "source": [
    "users.head()"
   ]
  },
  {
   "cell_type": "markdown",
   "id": "3228fe79",
   "metadata": {},
   "source": [
    "В датафрейме `users` представлены данные о пользователе:\n",
    "- id\n",
    "- имя\n",
    "- возраст\n",
    "- город\n",
    "- тип подписки"
   ]
  },
  {
   "cell_type": "code",
   "execution_count": 4,
   "id": "d2223f06",
   "metadata": {},
   "outputs": [
    {
     "data": {
      "text/html": [
       "<div>\n",
       "<style scoped>\n",
       "    .dataframe tbody tr th:only-of-type {\n",
       "        vertical-align: middle;\n",
       "    }\n",
       "\n",
       "    .dataframe tbody tr th {\n",
       "        vertical-align: top;\n",
       "    }\n",
       "\n",
       "    .dataframe thead th {\n",
       "        text-align: right;\n",
       "    }\n",
       "</style>\n",
       "<table border=\"1\" class=\"dataframe\">\n",
       "  <thead>\n",
       "    <tr style=\"text-align: right;\">\n",
       "      <th></th>\n",
       "      <th>user_id</th>\n",
       "      <th>distance</th>\n",
       "      <th>duration</th>\n",
       "      <th>date</th>\n",
       "    </tr>\n",
       "  </thead>\n",
       "  <tbody>\n",
       "    <tr>\n",
       "      <th>0</th>\n",
       "      <td>1</td>\n",
       "      <td>4409.919140</td>\n",
       "      <td>25.599769</td>\n",
       "      <td>2021-01-01</td>\n",
       "    </tr>\n",
       "    <tr>\n",
       "      <th>1</th>\n",
       "      <td>1</td>\n",
       "      <td>2617.592153</td>\n",
       "      <td>15.816871</td>\n",
       "      <td>2021-01-18</td>\n",
       "    </tr>\n",
       "    <tr>\n",
       "      <th>2</th>\n",
       "      <td>1</td>\n",
       "      <td>754.159807</td>\n",
       "      <td>6.232113</td>\n",
       "      <td>2021-04-20</td>\n",
       "    </tr>\n",
       "    <tr>\n",
       "      <th>3</th>\n",
       "      <td>1</td>\n",
       "      <td>2694.783254</td>\n",
       "      <td>18.511000</td>\n",
       "      <td>2021-08-11</td>\n",
       "    </tr>\n",
       "    <tr>\n",
       "      <th>4</th>\n",
       "      <td>1</td>\n",
       "      <td>4028.687306</td>\n",
       "      <td>26.265803</td>\n",
       "      <td>2021-08-28</td>\n",
       "    </tr>\n",
       "  </tbody>\n",
       "</table>\n",
       "</div>"
      ],
      "text/plain": [
       "   user_id     distance   duration        date\n",
       "0        1  4409.919140  25.599769  2021-01-01\n",
       "1        1  2617.592153  15.816871  2021-01-18\n",
       "2        1   754.159807   6.232113  2021-04-20\n",
       "3        1  2694.783254  18.511000  2021-08-11\n",
       "4        1  4028.687306  26.265803  2021-08-28"
      ]
     },
     "execution_count": 4,
     "metadata": {},
     "output_type": "execute_result"
    }
   ],
   "source": [
    "rides.head()"
   ]
  },
  {
   "cell_type": "markdown",
   "id": "27638bcb",
   "metadata": {},
   "source": [
    "В датафрейме `rides` представлены данные о заказах:\n",
    "- id\n",
    "- расстояние выполненное в заказе\n",
    "- длительность заказа, предположительно в минутах(посмотрел в теории. да, в минутах)\n",
    "- дата совершения заказа"
   ]
  },
  {
   "cell_type": "code",
   "execution_count": 5,
   "id": "ddbca166",
   "metadata": {},
   "outputs": [
    {
     "data": {
      "text/html": [
       "<div>\n",
       "<style scoped>\n",
       "    .dataframe tbody tr th:only-of-type {\n",
       "        vertical-align: middle;\n",
       "    }\n",
       "\n",
       "    .dataframe tbody tr th {\n",
       "        vertical-align: top;\n",
       "    }\n",
       "\n",
       "    .dataframe thead th {\n",
       "        text-align: right;\n",
       "    }\n",
       "</style>\n",
       "<table border=\"1\" class=\"dataframe\">\n",
       "  <thead>\n",
       "    <tr style=\"text-align: right;\">\n",
       "      <th></th>\n",
       "      <th>subscription_type</th>\n",
       "      <th>minute_price</th>\n",
       "      <th>start_ride_price</th>\n",
       "      <th>subscription_fee</th>\n",
       "    </tr>\n",
       "  </thead>\n",
       "  <tbody>\n",
       "    <tr>\n",
       "      <th>0</th>\n",
       "      <td>free</td>\n",
       "      <td>8</td>\n",
       "      <td>50</td>\n",
       "      <td>0</td>\n",
       "    </tr>\n",
       "    <tr>\n",
       "      <th>1</th>\n",
       "      <td>ultra</td>\n",
       "      <td>6</td>\n",
       "      <td>0</td>\n",
       "      <td>199</td>\n",
       "    </tr>\n",
       "  </tbody>\n",
       "</table>\n",
       "</div>"
      ],
      "text/plain": [
       "  subscription_type  minute_price  start_ride_price  subscription_fee\n",
       "0              free             8                50                 0\n",
       "1             ultra             6                 0               199"
      ]
     },
     "execution_count": 5,
     "metadata": {},
     "output_type": "execute_result"
    }
   ],
   "source": [
    "subs.head()"
   ]
  },
  {
   "cell_type": "markdown",
   "id": "bb25f55d",
   "metadata": {},
   "source": [
    "В датафрейме `subs` представлены данные о типах подписки:\n",
    "- цена за минуту\n",
    "- стартовая цена поездки\n",
    "- цена подписки"
   ]
  },
  {
   "cell_type": "markdown",
   "id": "4fd05e77",
   "metadata": {},
   "source": [
    "**Вывод:**\n",
    "Структура датафреймов понятна без документации, это очень облегчает работу с этими датасетами."
   ]
  },
  {
   "cell_type": "markdown",
   "id": "e95ebca7",
   "metadata": {},
   "source": [
    "#### Шаг 2. Предобработка данных"
   ]
  },
  {
   "cell_type": "markdown",
   "id": "554f6751",
   "metadata": {},
   "source": [
    "- [x] 2.1 Приведите столбец date к типу даты pandas.\n",
    "- [x] 2.2 Создайте новый столбец с номером месяца на основе столбца date.\n",
    "- [x] 2.3 Проверьте наличие пропущенных значений и дубликатов в датафреймах. Обработайте их, если такие значения присутствуют."
   ]
  },
  {
   "cell_type": "markdown",
   "id": "93448aa9",
   "metadata": {},
   "source": [
    "##### Приведем столбец date к пандасному типу в датасете rides.\n",
    "Кроме того, просто проверим все датафреймы на предмет некорректных типов данных."
   ]
  },
  {
   "cell_type": "code",
   "execution_count": 6,
   "id": "4d530ad0",
   "metadata": {},
   "outputs": [
    {
     "data": {
      "text/plain": [
       "user_id               int64\n",
       "name                 object\n",
       "age                   int64\n",
       "city                 object\n",
       "subscription_type    object\n",
       "dtype: object"
      ]
     },
     "execution_count": 6,
     "metadata": {},
     "output_type": "execute_result"
    }
   ],
   "source": [
    "users.dtypes"
   ]
  },
  {
   "cell_type": "code",
   "execution_count": 7,
   "id": "cd470d41",
   "metadata": {},
   "outputs": [
    {
     "data": {
      "text/plain": [
       "user_id       int64\n",
       "distance    float64\n",
       "duration    float64\n",
       "date         object\n",
       "dtype: object"
      ]
     },
     "execution_count": 7,
     "metadata": {},
     "output_type": "execute_result"
    }
   ],
   "source": [
    "rides.dtypes"
   ]
  },
  {
   "cell_type": "code",
   "execution_count": 8,
   "id": "e3277cbe",
   "metadata": {},
   "outputs": [
    {
     "data": {
      "text/plain": [
       "subscription_type    object\n",
       "minute_price          int64\n",
       "start_ride_price      int64\n",
       "subscription_fee      int64\n",
       "dtype: object"
      ]
     },
     "execution_count": 8,
     "metadata": {},
     "output_type": "execute_result"
    }
   ],
   "source": [
    "subs.dtypes"
   ]
  },
  {
   "cell_type": "markdown",
   "id": "3721ea2e",
   "metadata": {},
   "source": [
    "С остальными типами данных все в порядке, поменяем тип данных у date."
   ]
  },
  {
   "cell_type": "code",
   "execution_count": 9,
   "id": "ed780984",
   "metadata": {},
   "outputs": [],
   "source": [
    "rides['date'] = pd.to_datetime(rides['date'], format='%Y-%m-%d')"
   ]
  },
  {
   "cell_type": "code",
   "execution_count": 10,
   "id": "5195f92d",
   "metadata": {},
   "outputs": [
    {
     "data": {
      "text/plain": [
       "user_id              int64\n",
       "distance           float64\n",
       "duration           float64\n",
       "date        datetime64[ns]\n",
       "dtype: object"
      ]
     },
     "execution_count": 10,
     "metadata": {},
     "output_type": "execute_result"
    }
   ],
   "source": [
    "rides.dtypes"
   ]
  },
  {
   "cell_type": "markdown",
   "id": "17ea06d4",
   "metadata": {},
   "source": [
    "##### новый столбец с номером месяца на основе столбца date"
   ]
  },
  {
   "cell_type": "code",
   "execution_count": 11,
   "id": "d79ac043",
   "metadata": {},
   "outputs": [],
   "source": [
    "rides['month'] = rides['date'].dt.month"
   ]
  },
  {
   "cell_type": "code",
   "execution_count": 12,
   "id": "dbfcfe53",
   "metadata": {},
   "outputs": [
    {
     "data": {
      "text/html": [
       "<div>\n",
       "<style scoped>\n",
       "    .dataframe tbody tr th:only-of-type {\n",
       "        vertical-align: middle;\n",
       "    }\n",
       "\n",
       "    .dataframe tbody tr th {\n",
       "        vertical-align: top;\n",
       "    }\n",
       "\n",
       "    .dataframe thead th {\n",
       "        text-align: right;\n",
       "    }\n",
       "</style>\n",
       "<table border=\"1\" class=\"dataframe\">\n",
       "  <thead>\n",
       "    <tr style=\"text-align: right;\">\n",
       "      <th></th>\n",
       "      <th>user_id</th>\n",
       "      <th>distance</th>\n",
       "      <th>duration</th>\n",
       "      <th>date</th>\n",
       "      <th>month</th>\n",
       "    </tr>\n",
       "  </thead>\n",
       "  <tbody>\n",
       "    <tr>\n",
       "      <th>0</th>\n",
       "      <td>1</td>\n",
       "      <td>4409.919140</td>\n",
       "      <td>25.599769</td>\n",
       "      <td>2021-01-01</td>\n",
       "      <td>1</td>\n",
       "    </tr>\n",
       "    <tr>\n",
       "      <th>1</th>\n",
       "      <td>1</td>\n",
       "      <td>2617.592153</td>\n",
       "      <td>15.816871</td>\n",
       "      <td>2021-01-18</td>\n",
       "      <td>1</td>\n",
       "    </tr>\n",
       "    <tr>\n",
       "      <th>2</th>\n",
       "      <td>1</td>\n",
       "      <td>754.159807</td>\n",
       "      <td>6.232113</td>\n",
       "      <td>2021-04-20</td>\n",
       "      <td>4</td>\n",
       "    </tr>\n",
       "    <tr>\n",
       "      <th>3</th>\n",
       "      <td>1</td>\n",
       "      <td>2694.783254</td>\n",
       "      <td>18.511000</td>\n",
       "      <td>2021-08-11</td>\n",
       "      <td>8</td>\n",
       "    </tr>\n",
       "    <tr>\n",
       "      <th>4</th>\n",
       "      <td>1</td>\n",
       "      <td>4028.687306</td>\n",
       "      <td>26.265803</td>\n",
       "      <td>2021-08-28</td>\n",
       "      <td>8</td>\n",
       "    </tr>\n",
       "  </tbody>\n",
       "</table>\n",
       "</div>"
      ],
      "text/plain": [
       "   user_id     distance   duration       date  month\n",
       "0        1  4409.919140  25.599769 2021-01-01      1\n",
       "1        1  2617.592153  15.816871 2021-01-18      1\n",
       "2        1   754.159807   6.232113 2021-04-20      4\n",
       "3        1  2694.783254  18.511000 2021-08-11      8\n",
       "4        1  4028.687306  26.265803 2021-08-28      8"
      ]
     },
     "execution_count": 12,
     "metadata": {},
     "output_type": "execute_result"
    }
   ],
   "source": [
    "rides.head()"
   ]
  },
  {
   "cell_type": "markdown",
   "id": "564c3267",
   "metadata": {},
   "source": [
    "Столбец с номером месяца успешно добавился"
   ]
  },
  {
   "cell_type": "code",
   "execution_count": 13,
   "id": "401a5557",
   "metadata": {},
   "outputs": [
    {
     "data": {
      "text/plain": [
       "<AxesSubplot:ylabel='Frequency'>"
      ]
     },
     "execution_count": 13,
     "metadata": {},
     "output_type": "execute_result"
    },
    {
     "data": {
      "image/png": "[encoded data removed]",
      "text/plain": [
       "<Figure size 432x288 with 1 Axes>"
      ]
     },
     "metadata": {
      "needs_background": "light"
     },
     "output_type": "display_data"
    }
   ],
   "source": [
    "rides['date'].dt.year.plot(kind='hist')"
   ]
  },
  {
   "cell_type": "code",
   "execution_count": 14,
   "id": "50d38b76",
   "metadata": {},
   "outputs": [
    {
     "data": {
      "text/plain": [
       "2021"
      ]
     },
     "execution_count": 14,
     "metadata": {},
     "output_type": "execute_result"
    }
   ],
   "source": [
    "rides['date'].dt.year.max()"
   ]
  },
  {
   "cell_type": "code",
   "execution_count": 15,
   "id": "70152b0e",
   "metadata": {},
   "outputs": [
    {
     "data": {
      "text/plain": [
       "2021"
      ]
     },
     "execution_count": 15,
     "metadata": {},
     "output_type": "execute_result"
    }
   ],
   "source": [
    "rides['date'].dt.year.min()"
   ]
  },
  {
   "cell_type": "markdown",
   "id": "1b4c586e",
   "metadata": {},
   "source": [
    "По графику видно, что в датасете находятся данные только за один код"
   ]
  },
  {
   "cell_type": "markdown",
   "id": "484dd524",
   "metadata": {},
   "source": [
    "#####  Проверьте наличие пропущенных значений и дубликатов в датафреймах. Обработайте их, если такие значения присутствуют."
   ]
  },
  {
   "cell_type": "code",
   "execution_count": 16,
   "id": "e9c39e32",
   "metadata": {},
   "outputs": [
    {
     "data": {
      "text/plain": [
       "user_id              0\n",
       "name                 0\n",
       "age                  0\n",
       "city                 0\n",
       "subscription_type    0\n",
       "dtype: int64"
      ]
     },
     "execution_count": 16,
     "metadata": {},
     "output_type": "execute_result"
    }
   ],
   "source": [
    "users.isna().sum()"
   ]
  },
  {
   "cell_type": "code",
   "execution_count": 17,
   "id": "f9691a48",
   "metadata": {},
   "outputs": [
    {
     "data": {
      "text/plain": [
       "user_id     0\n",
       "distance    0\n",
       "duration    0\n",
       "date        0\n",
       "month       0\n",
       "dtype: int64"
      ]
     },
     "execution_count": 17,
     "metadata": {},
     "output_type": "execute_result"
    }
   ],
   "source": [
    "rides.isna().sum()"
   ]
  },
  {
   "cell_type": "code",
   "execution_count": 18,
   "id": "45684842",
   "metadata": {},
   "outputs": [
    {
     "data": {
      "text/plain": [
       "subscription_type    0\n",
       "minute_price         0\n",
       "start_ride_price     0\n",
       "subscription_fee     0\n",
       "dtype: int64"
      ]
     },
     "execution_count": 18,
     "metadata": {},
     "output_type": "execute_result"
    }
   ],
   "source": [
    "subs.isna().sum()"
   ]
  },
  {
   "cell_type": "markdown",
   "id": "37c886f0",
   "metadata": {},
   "source": [
    "Пропусков в таблицах не обнаружено!"
   ]
  },
  {
   "cell_type": "markdown",
   "id": "232d95b5",
   "metadata": {},
   "source": [
    "Проверим на наличие явных дубликатов"
   ]
  },
  {
   "cell_type": "code",
   "execution_count": 19,
   "id": "b2462e97",
   "metadata": {},
   "outputs": [
    {
     "data": {
      "text/plain": [
       "31"
      ]
     },
     "execution_count": 19,
     "metadata": {},
     "output_type": "execute_result"
    }
   ],
   "source": [
    "users.duplicated().sum()"
   ]
  },
  {
   "cell_type": "code",
   "execution_count": 20,
   "id": "5ef2a2c1",
   "metadata": {},
   "outputs": [],
   "source": [
    "users = users.drop_duplicates()"
   ]
  },
  {
   "cell_type": "code",
   "execution_count": 21,
   "id": "615974e8",
   "metadata": {},
   "outputs": [
    {
     "data": {
      "text/plain": [
       "0"
      ]
     },
     "execution_count": 21,
     "metadata": {},
     "output_type": "execute_result"
    }
   ],
   "source": [
    "users.duplicated().sum()"
   ]
  },
  {
   "cell_type": "code",
   "execution_count": 22,
   "id": "e279f341",
   "metadata": {},
   "outputs": [
    {
     "data": {
      "text/plain": [
       "0"
      ]
     },
     "execution_count": 22,
     "metadata": {},
     "output_type": "execute_result"
    }
   ],
   "source": [
    "rides.duplicated().sum()"
   ]
  },
  {
   "cell_type": "markdown",
   "id": "e533915d",
   "metadata": {},
   "source": [
    "Отлично, избавились от явных дубликатов"
   ]
  },
  {
   "cell_type": "code",
   "execution_count": 23,
   "id": "bbd2babf",
   "metadata": {},
   "outputs": [
    {
     "data": {
      "text/plain": [
       "0"
      ]
     },
     "execution_count": 23,
     "metadata": {},
     "output_type": "execute_result"
    }
   ],
   "source": [
    "# проверяем, что нет повторных индексов, а если их нет, значит больше нет и дубликатов.\n",
    "(users['user_id'].value_counts() > 1).sum()"
   ]
  },
  {
   "cell_type": "markdown",
   "id": "212593c7",
   "metadata": {},
   "source": [
    "#### Шаг 3. Исследовательский анализ данных"
   ]
  },
  {
   "cell_type": "markdown",
   "id": "474e3bd8",
   "metadata": {},
   "source": [
    "Опишите и визуализируйте общую информацию о пользователях и поездках:\n",
    "- [x] 3.1 частота встречаемости городов;\n",
    "- [x] 3.2 соотношение пользователей с подпиской и без подписки;\n",
    "- [x] 3.3 возраст пользователей;\n",
    "- [x] 3.4 расстояние, которое пользователь преодолел за одну поездку;\n",
    "- [x] 3.5 продолжительность поездок."
   ]
  },
  {
   "cell_type": "markdown",
   "id": "16074fb7",
   "metadata": {},
   "source": [
    "##### частота встречаемости городов;"
   ]
  },
  {
   "cell_type": "code",
   "execution_count": 24,
   "id": "e3a4274c",
   "metadata": {},
   "outputs": [
    {
     "data": {
      "text/plain": [
       "<AxesSubplot:title={'center':'Частота встречаемости городов'}>"
      ]
     },
     "execution_count": 24,
     "metadata": {},
     "output_type": "execute_result"
    },
    {
     "data": {
      "image/png": "[encoded data removed]",
      "text/plain": [
       "<Figure size 432x288 with 1 Axes>"
      ]
     },
     "metadata": {
      "needs_background": "light"
     },
     "output_type": "display_data"
    }
   ],
   "source": [
    "users['city'].value_counts().plot(kind='bar',title='Частота встречаемости городов')"
   ]
  },
  {
   "cell_type": "markdown",
   "id": "93c482f7",
   "metadata": {},
   "source": [
    "Самое большое количество пользователей в Пятигорске, наименьшее в Москве. "
   ]
  },
  {
   "cell_type": "code",
   "execution_count": 25,
   "id": "9a4502a8",
   "metadata": {},
   "outputs": [
    {
     "name": "stdout",
     "output_type": "stream",
     "text": [
      "Разница в количестве между максимальным количество и минимальным = 51\n"
     ]
    }
   ],
   "source": [
    "print(f\"Разница в количестве между максимальным количество и минимальным = {users['city'].value_counts().max()-users['city'].value_counts().min()}\")"
   ]
  },
  {
   "cell_type": "markdown",
   "id": "162c4c79",
   "metadata": {},
   "source": [
    "Разница в 51 одного пользователя, что составляет почти 25% от наибольшего города по количесту пользователей. Это много."
   ]
  },
  {
   "cell_type": "markdown",
   "id": "cda8d8ba",
   "metadata": {},
   "source": [
    "##### соотношение пользователей с подпиской и без подписки; "
   ]
  },
  {
   "cell_type": "code",
   "execution_count": 26,
   "id": "38abc5c5",
   "metadata": {},
   "outputs": [
    {
     "data": {
      "text/plain": [
       "<AxesSubplot:title={'center':'Соотношение пользователей с подпиской и без нее'}>"
      ]
     },
     "execution_count": 26,
     "metadata": {},
     "output_type": "execute_result"
    },
    {
     "data": {
      "image/png": "[encoded data removed]",
      "text/plain": [
       "<Figure size 432x288 with 1 Axes>"
      ]
     },
     "metadata": {
      "needs_background": "light"
     },
     "output_type": "display_data"
    }
   ],
   "source": [
    "users['subscription_type'].value_counts().plot(kind='bar',title='Соотношение пользователей с подпиской и без нее')"
   ]
  },
  {
   "cell_type": "code",
   "execution_count": 27,
   "id": "40d342f4",
   "metadata": {},
   "outputs": [
    {
     "data": {
      "text/plain": [
       "1.1945636623748213"
      ]
     },
     "execution_count": 27,
     "metadata": {},
     "output_type": "execute_result"
    }
   ],
   "source": [
    "users['subscription_type'].value_counts().max()/users['subscription_type'].value_counts().min()"
   ]
  },
  {
   "cell_type": "markdown",
   "id": "e66e8e94",
   "metadata": {},
   "source": [
    "Пользователей без подписки более чем на 100 человек больше, то есть почти на 20%"
   ]
  },
  {
   "cell_type": "markdown",
   "id": "08e0b4ff",
   "metadata": {},
   "source": [
    "#####  возраст пользователей"
   ]
  },
  {
   "cell_type": "code",
   "execution_count": 28,
   "id": "5cc36f30",
   "metadata": {},
   "outputs": [
    {
     "data": {
      "text/plain": [
       "<AxesSubplot:title={'center':'Распределение возраста пользователей'}, ylabel='Frequency'>"
      ]
     },
     "execution_count": 28,
     "metadata": {},
     "output_type": "execute_result"
    },
    {
     "data": {
      "image/png": "[encoded data removed]",
      "text/plain": [
       "<Figure size 432x288 with 1 Axes>"
      ]
     },
     "metadata": {
      "needs_background": "light"
     },
     "output_type": "display_data"
    }
   ],
   "source": [
    "users['age'].plot(kind='hist',bins=15, title='Распределение возраста пользователей' )"
   ]
  },
  {
   "cell_type": "code",
   "execution_count": 29,
   "id": "8f5c3940",
   "metadata": {},
   "outputs": [
    {
     "data": {
      "text/plain": [
       "25.0"
      ]
     },
     "metadata": {},
     "output_type": "display_data"
    },
    {
     "data": {
      "text/plain": [
       "24.903520208604956"
      ]
     },
     "metadata": {},
     "output_type": "display_data"
    }
   ],
   "source": [
    "display(users['age'].median(), users['age'].mean())"
   ]
  },
  {
   "cell_type": "code",
   "execution_count": 30,
   "id": "51d6dfe8",
   "metadata": {},
   "outputs": [
    {
     "data": {
      "text/plain": [
       "count    1534.000000\n",
       "mean       24.903520\n",
       "std         4.572367\n",
       "min        12.000000\n",
       "25%        22.000000\n",
       "50%        25.000000\n",
       "75%        28.000000\n",
       "max        43.000000\n",
       "Name: age, dtype: float64"
      ]
     },
     "execution_count": 30,
     "metadata": {},
     "output_type": "execute_result"
    }
   ],
   "source": [
    "users['age'].describe()"
   ]
  },
  {
   "cell_type": "markdown",
   "id": "c5913cf8",
   "metadata": {},
   "source": [
    "Среднее и медиана имеет примерно одинаковое значение. Странно, что минимальный возраст пользователя составляет всего 12 лет, возможно это какая-то аномалия."
   ]
  },
  {
   "cell_type": "markdown",
   "id": "b2e9649d",
   "metadata": {},
   "source": [
    "##### расстояние, которое пользователь преодолел за одну поездку;"
   ]
  },
  {
   "cell_type": "code",
   "execution_count": 31,
   "id": "008bd13e",
   "metadata": {},
   "outputs": [
    {
     "data": {
      "text/plain": [
       "<AxesSubplot:title={'center':'Распределение дистанций поездок'}, ylabel='Frequency'>"
      ]
     },
     "execution_count": 31,
     "metadata": {},
     "output_type": "execute_result"
    },
    {
     "data": {
      "image/png": "[encoded data removed]",
      "text/plain": [
       "<Figure size 432x288 with 1 Axes>"
      ]
     },
     "metadata": {
      "needs_background": "light"
     },
     "output_type": "display_data"
    }
   ],
   "source": [
    "rides['distance'].plot(kind='hist', xlabel='Расстояние', title='Распределение дистанций поездок',bins=100)"
   ]
  },
  {
   "cell_type": "markdown",
   "id": "9c424477",
   "metadata": {},
   "source": [
    "По графику видно, что у нас есть два пика, на значении 750 метров и 3500 метров. \n",
    "Скорее всего такая картина вырисовывается например из-за того, что Москва имеет очень большие расстояния, а например Ростов-на-Дону - маленькие, поэтому такая картина имеет место быть."
   ]
  },
  {
   "cell_type": "markdown",
   "id": "5384e1d9",
   "metadata": {},
   "source": [
    "##### продолжительность поездок"
   ]
  },
  {
   "cell_type": "code",
   "execution_count": 32,
   "id": "12481b59",
   "metadata": {},
   "outputs": [
    {
     "data": {
      "text/plain": [
       "Index(['user_id', 'distance', 'duration', 'date', 'month'], dtype='object')"
      ]
     },
     "execution_count": 32,
     "metadata": {},
     "output_type": "execute_result"
    }
   ],
   "source": [
    "rides.columns"
   ]
  },
  {
   "cell_type": "code",
   "execution_count": 33,
   "id": "1855dcbc",
   "metadata": {},
   "outputs": [
    {
     "data": {
      "text/plain": [
       "<AxesSubplot:title={'center':'Распределение времени поездок'}, ylabel='Frequency'>"
      ]
     },
     "execution_count": 33,
     "metadata": {},
     "output_type": "execute_result"
    },
    {
     "data": {
      "image/png": "[encoded data removed]",
      "text/plain": [
       "<Figure size 432x288 with 1 Axes>"
      ]
     },
     "metadata": {
      "needs_background": "light"
     },
     "output_type": "display_data"
    }
   ],
   "source": [
    "rides['duration'].plot(kind='hist',bins=40, title='Распределение времени поездок')"
   ]
  },
  {
   "cell_type": "markdown",
   "id": "72e5d47c",
   "metadata": {},
   "source": [
    "По графику видно, что большинство поездок длятся 10-25 минут. Логично предположить, что расстояния в городах такие, что человеку не нужно тратить больше времени.   "
   ]
  },
  {
   "cell_type": "code",
   "execution_count": 34,
   "id": "757f1067",
   "metadata": {},
   "outputs": [
    {
     "data": {
      "text/plain": [
       "<AxesSubplot:title={'center':'Распределение времени поездок'}>"
      ]
     },
     "execution_count": 34,
     "metadata": {},
     "output_type": "execute_result"
    },
    {
     "data": {
      "image/png": "[encoded data removed]",
      "text/plain": [
       "<Figure size 432x288 with 1 Axes>"
      ]
     },
     "metadata": {
      "needs_background": "light"
     },
     "output_type": "display_data"
    }
   ],
   "source": [
    "rides['duration'].plot(kind='box', title='Распределение времени поездок')"
   ]
  },
  {
   "cell_type": "markdown",
   "id": "0e68c641",
   "metadata": {},
   "source": [
    "boxplot подтверждает утверждение о том, что большинство значений лежат в интервале 10-25 минут. График показывает, что от 12.5 до 22.5 находятся 50% значений."
   ]
  },
  {
   "cell_type": "markdown",
   "id": "4ef51331",
   "metadata": {},
   "source": [
    "#### Шаг 4. Объединение данных"
   ]
  },
  {
   "cell_type": "markdown",
   "id": "45b8dde3",
   "metadata": {},
   "source": [
    "- [x] 4.1 Объедините данные о пользователях, поездках и подписках в один датафрейм. Для этого воспользуйтесь методом merge().\n",
    "- [x] 4.2 Создайте ещё два датафрейма из датафрейма, созданного на этапе 4.1:\n",
    "\n",
    "    - c данными о пользователях без подписки;\n",
    "    - с данными о пользователях с подпиской.\n",
    "\n",
    "- [x] 4.3 Визуализируйте информацию о расстоянии и времени поездок для пользователей обеих категорий."
   ]
  },
  {
   "cell_type": "markdown",
   "id": "d59e3b26",
   "metadata": {},
   "source": [
    "##### Объедините данные о пользователях, поездках и подписках в один датафрейм. Для этого воспользуйтесь методом merge(). "
   ]
  },
  {
   "cell_type": "code",
   "execution_count": 35,
   "id": "7393768a",
   "metadata": {},
   "outputs": [],
   "source": [
    "data_buf = users.merge(subs, how='outer', on='subscription_type')"
   ]
  },
  {
   "cell_type": "code",
   "execution_count": 36,
   "id": "d4923206",
   "metadata": {},
   "outputs": [
    {
     "name": "stdout",
     "output_type": "stream",
     "text": [
      "1534 2 1534\n"
     ]
    }
   ],
   "source": [
    "print(users.shape[0], subs.shape[0], data_buf.shape[0])"
   ]
  },
  {
   "cell_type": "markdown",
   "id": "85da429f",
   "metadata": {},
   "source": [
    "Все как и должно быть, так как у каждого значения таблицы users есть соответствующее значение subscripiton_type, значит количество строк в новой таблице ничего и не должно поменяться."
   ]
  },
  {
   "cell_type": "code",
   "execution_count": 37,
   "id": "6bf288b5",
   "metadata": {},
   "outputs": [
    {
     "data": {
      "text/html": [
       "<div>\n",
       "<style scoped>\n",
       "    .dataframe tbody tr th:only-of-type {\n",
       "        vertical-align: middle;\n",
       "    }\n",
       "\n",
       "    .dataframe tbody tr th {\n",
       "        vertical-align: top;\n",
       "    }\n",
       "\n",
       "    .dataframe thead th {\n",
       "        text-align: right;\n",
       "    }\n",
       "</style>\n",
       "<table border=\"1\" class=\"dataframe\">\n",
       "  <thead>\n",
       "    <tr style=\"text-align: right;\">\n",
       "      <th></th>\n",
       "      <th>user_id</th>\n",
       "      <th>name</th>\n",
       "      <th>age</th>\n",
       "      <th>city</th>\n",
       "      <th>subscription_type</th>\n",
       "      <th>minute_price</th>\n",
       "      <th>start_ride_price</th>\n",
       "      <th>subscription_fee</th>\n",
       "      <th>distance</th>\n",
       "      <th>duration</th>\n",
       "      <th>date</th>\n",
       "      <th>month</th>\n",
       "    </tr>\n",
       "  </thead>\n",
       "  <tbody>\n",
       "    <tr>\n",
       "      <th>0</th>\n",
       "      <td>1</td>\n",
       "      <td>Кира</td>\n",
       "      <td>22</td>\n",
       "      <td>Тюмень</td>\n",
       "      <td>ultra</td>\n",
       "      <td>6</td>\n",
       "      <td>0</td>\n",
       "      <td>199</td>\n",
       "      <td>4409.919140</td>\n",
       "      <td>25.599769</td>\n",
       "      <td>2021-01-01</td>\n",
       "      <td>1</td>\n",
       "    </tr>\n",
       "    <tr>\n",
       "      <th>1</th>\n",
       "      <td>1</td>\n",
       "      <td>Кира</td>\n",
       "      <td>22</td>\n",
       "      <td>Тюмень</td>\n",
       "      <td>ultra</td>\n",
       "      <td>6</td>\n",
       "      <td>0</td>\n",
       "      <td>199</td>\n",
       "      <td>2617.592153</td>\n",
       "      <td>15.816871</td>\n",
       "      <td>2021-01-18</td>\n",
       "      <td>1</td>\n",
       "    </tr>\n",
       "    <tr>\n",
       "      <th>2</th>\n",
       "      <td>1</td>\n",
       "      <td>Кира</td>\n",
       "      <td>22</td>\n",
       "      <td>Тюмень</td>\n",
       "      <td>ultra</td>\n",
       "      <td>6</td>\n",
       "      <td>0</td>\n",
       "      <td>199</td>\n",
       "      <td>754.159807</td>\n",
       "      <td>6.232113</td>\n",
       "      <td>2021-04-20</td>\n",
       "      <td>4</td>\n",
       "    </tr>\n",
       "    <tr>\n",
       "      <th>3</th>\n",
       "      <td>1</td>\n",
       "      <td>Кира</td>\n",
       "      <td>22</td>\n",
       "      <td>Тюмень</td>\n",
       "      <td>ultra</td>\n",
       "      <td>6</td>\n",
       "      <td>0</td>\n",
       "      <td>199</td>\n",
       "      <td>2694.783254</td>\n",
       "      <td>18.511000</td>\n",
       "      <td>2021-08-11</td>\n",
       "      <td>8</td>\n",
       "    </tr>\n",
       "    <tr>\n",
       "      <th>4</th>\n",
       "      <td>1</td>\n",
       "      <td>Кира</td>\n",
       "      <td>22</td>\n",
       "      <td>Тюмень</td>\n",
       "      <td>ultra</td>\n",
       "      <td>6</td>\n",
       "      <td>0</td>\n",
       "      <td>199</td>\n",
       "      <td>4028.687306</td>\n",
       "      <td>26.265803</td>\n",
       "      <td>2021-08-28</td>\n",
       "      <td>8</td>\n",
       "    </tr>\n",
       "  </tbody>\n",
       "</table>\n",
       "</div>"
      ],
      "text/plain": [
       "   user_id  name  age    city subscription_type  minute_price  \\\n",
       "0        1  Кира   22  Тюмень             ultra             6   \n",
       "1        1  Кира   22  Тюмень             ultra             6   \n",
       "2        1  Кира   22  Тюмень             ultra             6   \n",
       "3        1  Кира   22  Тюмень             ultra             6   \n",
       "4        1  Кира   22  Тюмень             ultra             6   \n",
       "\n",
       "   start_ride_price  subscription_fee     distance   duration       date  \\\n",
       "0                 0               199  4409.919140  25.599769 2021-01-01   \n",
       "1                 0               199  2617.592153  15.816871 2021-01-18   \n",
       "2                 0               199   754.159807   6.232113 2021-04-20   \n",
       "3                 0               199  2694.783254  18.511000 2021-08-11   \n",
       "4                 0               199  4028.687306  26.265803 2021-08-28   \n",
       "\n",
       "   month  \n",
       "0      1  \n",
       "1      1  \n",
       "2      4  \n",
       "3      8  \n",
       "4      8  "
      ]
     },
     "execution_count": 37,
     "metadata": {},
     "output_type": "execute_result"
    }
   ],
   "source": [
    "data = data_buf.merge(rides, how='outer', on='user_id')\n",
    "data.head(5)"
   ]
  },
  {
   "cell_type": "code",
   "execution_count": 38,
   "id": "b8a76f43",
   "metadata": {},
   "outputs": [
    {
     "name": "stdout",
     "output_type": "stream",
     "text": [
      "1534 18068 18068\n"
     ]
    }
   ],
   "source": [
    "print(data_buf.shape[0], rides.shape[0], data.shape[0])"
   ]
  },
  {
   "cell_type": "markdown",
   "id": "35de2754",
   "metadata": {},
   "source": [
    "все верно, для каждого значения в табоице rides, должно быть соответствующее значение в data_buf, так как не может быть поездки у пользователя, который не зарегистрирован."
   ]
  },
  {
   "cell_type": "markdown",
   "id": "58f021ff",
   "metadata": {},
   "source": [
    "##### Создайте ещё два датафрейма из датафрейма"
   ]
  },
  {
   "cell_type": "code",
   "execution_count": 39,
   "id": "7a2d92de",
   "metadata": {},
   "outputs": [
    {
     "data": {
      "text/html": [
       "<div>\n",
       "<style scoped>\n",
       "    .dataframe tbody tr th:only-of-type {\n",
       "        vertical-align: middle;\n",
       "    }\n",
       "\n",
       "    .dataframe tbody tr th {\n",
       "        vertical-align: top;\n",
       "    }\n",
       "\n",
       "    .dataframe thead th {\n",
       "        text-align: right;\n",
       "    }\n",
       "</style>\n",
       "<table border=\"1\" class=\"dataframe\">\n",
       "  <thead>\n",
       "    <tr style=\"text-align: right;\">\n",
       "      <th></th>\n",
       "      <th>user_id</th>\n",
       "      <th>name</th>\n",
       "      <th>age</th>\n",
       "      <th>city</th>\n",
       "      <th>subscription_type</th>\n",
       "      <th>minute_price</th>\n",
       "      <th>start_ride_price</th>\n",
       "      <th>subscription_fee</th>\n",
       "      <th>distance</th>\n",
       "      <th>duration</th>\n",
       "      <th>date</th>\n",
       "      <th>month</th>\n",
       "    </tr>\n",
       "  </thead>\n",
       "  <tbody>\n",
       "    <tr>\n",
       "      <th>0</th>\n",
       "      <td>1</td>\n",
       "      <td>Кира</td>\n",
       "      <td>22</td>\n",
       "      <td>Тюмень</td>\n",
       "      <td>ultra</td>\n",
       "      <td>6</td>\n",
       "      <td>0</td>\n",
       "      <td>199</td>\n",
       "      <td>4409.919140</td>\n",
       "      <td>25.599769</td>\n",
       "      <td>2021-01-01</td>\n",
       "      <td>1</td>\n",
       "    </tr>\n",
       "    <tr>\n",
       "      <th>1</th>\n",
       "      <td>1</td>\n",
       "      <td>Кира</td>\n",
       "      <td>22</td>\n",
       "      <td>Тюмень</td>\n",
       "      <td>ultra</td>\n",
       "      <td>6</td>\n",
       "      <td>0</td>\n",
       "      <td>199</td>\n",
       "      <td>2617.592153</td>\n",
       "      <td>15.816871</td>\n",
       "      <td>2021-01-18</td>\n",
       "      <td>1</td>\n",
       "    </tr>\n",
       "    <tr>\n",
       "      <th>2</th>\n",
       "      <td>1</td>\n",
       "      <td>Кира</td>\n",
       "      <td>22</td>\n",
       "      <td>Тюмень</td>\n",
       "      <td>ultra</td>\n",
       "      <td>6</td>\n",
       "      <td>0</td>\n",
       "      <td>199</td>\n",
       "      <td>754.159807</td>\n",
       "      <td>6.232113</td>\n",
       "      <td>2021-04-20</td>\n",
       "      <td>4</td>\n",
       "    </tr>\n",
       "    <tr>\n",
       "      <th>3</th>\n",
       "      <td>1</td>\n",
       "      <td>Кира</td>\n",
       "      <td>22</td>\n",
       "      <td>Тюмень</td>\n",
       "      <td>ultra</td>\n",
       "      <td>6</td>\n",
       "      <td>0</td>\n",
       "      <td>199</td>\n",
       "      <td>2694.783254</td>\n",
       "      <td>18.511000</td>\n",
       "      <td>2021-08-11</td>\n",
       "      <td>8</td>\n",
       "    </tr>\n",
       "    <tr>\n",
       "      <th>4</th>\n",
       "      <td>1</td>\n",
       "      <td>Кира</td>\n",
       "      <td>22</td>\n",
       "      <td>Тюмень</td>\n",
       "      <td>ultra</td>\n",
       "      <td>6</td>\n",
       "      <td>0</td>\n",
       "      <td>199</td>\n",
       "      <td>4028.687306</td>\n",
       "      <td>26.265803</td>\n",
       "      <td>2021-08-28</td>\n",
       "      <td>8</td>\n",
       "    </tr>\n",
       "  </tbody>\n",
       "</table>\n",
       "</div>"
      ],
      "text/plain": [
       "   user_id  name  age    city subscription_type  minute_price  \\\n",
       "0        1  Кира   22  Тюмень             ultra             6   \n",
       "1        1  Кира   22  Тюмень             ultra             6   \n",
       "2        1  Кира   22  Тюмень             ultra             6   \n",
       "3        1  Кира   22  Тюмень             ultra             6   \n",
       "4        1  Кира   22  Тюмень             ultra             6   \n",
       "\n",
       "   start_ride_price  subscription_fee     distance   duration       date  \\\n",
       "0                 0               199  4409.919140  25.599769 2021-01-01   \n",
       "1                 0               199  2617.592153  15.816871 2021-01-18   \n",
       "2                 0               199   754.159807   6.232113 2021-04-20   \n",
       "3                 0               199  2694.783254  18.511000 2021-08-11   \n",
       "4                 0               199  4028.687306  26.265803 2021-08-28   \n",
       "\n",
       "   month  \n",
       "0      1  \n",
       "1      1  \n",
       "2      4  \n",
       "3      8  \n",
       "4      8  "
      ]
     },
     "execution_count": 39,
     "metadata": {},
     "output_type": "execute_result"
    }
   ],
   "source": [
    "users_sub = data.loc[data['subscription_type']=='ultra']\n",
    "users_sub.head()"
   ]
  },
  {
   "cell_type": "code",
   "execution_count": 40,
   "id": "95883ae4",
   "metadata": {},
   "outputs": [
    {
     "data": {
      "text/html": [
       "<div>\n",
       "<style scoped>\n",
       "    .dataframe tbody tr th:only-of-type {\n",
       "        vertical-align: middle;\n",
       "    }\n",
       "\n",
       "    .dataframe tbody tr th {\n",
       "        vertical-align: top;\n",
       "    }\n",
       "\n",
       "    .dataframe thead th {\n",
       "        text-align: right;\n",
       "    }\n",
       "</style>\n",
       "<table border=\"1\" class=\"dataframe\">\n",
       "  <thead>\n",
       "    <tr style=\"text-align: right;\">\n",
       "      <th></th>\n",
       "      <th>user_id</th>\n",
       "      <th>name</th>\n",
       "      <th>age</th>\n",
       "      <th>city</th>\n",
       "      <th>subscription_type</th>\n",
       "      <th>minute_price</th>\n",
       "      <th>start_ride_price</th>\n",
       "      <th>subscription_fee</th>\n",
       "      <th>distance</th>\n",
       "      <th>duration</th>\n",
       "      <th>date</th>\n",
       "      <th>month</th>\n",
       "    </tr>\n",
       "  </thead>\n",
       "  <tbody>\n",
       "    <tr>\n",
       "      <th>6500</th>\n",
       "      <td>700</td>\n",
       "      <td>Айдар</td>\n",
       "      <td>22</td>\n",
       "      <td>Омск</td>\n",
       "      <td>free</td>\n",
       "      <td>8</td>\n",
       "      <td>50</td>\n",
       "      <td>0</td>\n",
       "      <td>2515.690719</td>\n",
       "      <td>14.944286</td>\n",
       "      <td>2021-01-02</td>\n",
       "      <td>1</td>\n",
       "    </tr>\n",
       "    <tr>\n",
       "      <th>6501</th>\n",
       "      <td>700</td>\n",
       "      <td>Айдар</td>\n",
       "      <td>22</td>\n",
       "      <td>Омск</td>\n",
       "      <td>free</td>\n",
       "      <td>8</td>\n",
       "      <td>50</td>\n",
       "      <td>0</td>\n",
       "      <td>846.932642</td>\n",
       "      <td>16.234663</td>\n",
       "      <td>2021-02-01</td>\n",
       "      <td>2</td>\n",
       "    </tr>\n",
       "    <tr>\n",
       "      <th>6502</th>\n",
       "      <td>700</td>\n",
       "      <td>Айдар</td>\n",
       "      <td>22</td>\n",
       "      <td>Омск</td>\n",
       "      <td>free</td>\n",
       "      <td>8</td>\n",
       "      <td>50</td>\n",
       "      <td>0</td>\n",
       "      <td>4004.434142</td>\n",
       "      <td>20.016628</td>\n",
       "      <td>2021-02-04</td>\n",
       "      <td>2</td>\n",
       "    </tr>\n",
       "    <tr>\n",
       "      <th>6503</th>\n",
       "      <td>700</td>\n",
       "      <td>Айдар</td>\n",
       "      <td>22</td>\n",
       "      <td>Омск</td>\n",
       "      <td>free</td>\n",
       "      <td>8</td>\n",
       "      <td>50</td>\n",
       "      <td>0</td>\n",
       "      <td>1205.911290</td>\n",
       "      <td>9.782872</td>\n",
       "      <td>2021-02-10</td>\n",
       "      <td>2</td>\n",
       "    </tr>\n",
       "    <tr>\n",
       "      <th>6504</th>\n",
       "      <td>700</td>\n",
       "      <td>Айдар</td>\n",
       "      <td>22</td>\n",
       "      <td>Омск</td>\n",
       "      <td>free</td>\n",
       "      <td>8</td>\n",
       "      <td>50</td>\n",
       "      <td>0</td>\n",
       "      <td>3047.379435</td>\n",
       "      <td>17.427673</td>\n",
       "      <td>2021-02-14</td>\n",
       "      <td>2</td>\n",
       "    </tr>\n",
       "  </tbody>\n",
       "</table>\n",
       "</div>"
      ],
      "text/plain": [
       "      user_id   name  age  city subscription_type  minute_price  \\\n",
       "6500      700  Айдар   22  Омск              free             8   \n",
       "6501      700  Айдар   22  Омск              free             8   \n",
       "6502      700  Айдар   22  Омск              free             8   \n",
       "6503      700  Айдар   22  Омск              free             8   \n",
       "6504      700  Айдар   22  Омск              free             8   \n",
       "\n",
       "      start_ride_price  subscription_fee     distance   duration       date  \\\n",
       "6500                50                 0  2515.690719  14.944286 2021-01-02   \n",
       "6501                50                 0   846.932642  16.234663 2021-02-01   \n",
       "6502                50                 0  4004.434142  20.016628 2021-02-04   \n",
       "6503                50                 0  1205.911290   9.782872 2021-02-10   \n",
       "6504                50                 0  3047.379435  17.427673 2021-02-14   \n",
       "\n",
       "      month  \n",
       "6500      1  \n",
       "6501      2  \n",
       "6502      2  \n",
       "6503      2  \n",
       "6504      2  "
      ]
     },
     "execution_count": 40,
     "metadata": {},
     "output_type": "execute_result"
    }
   ],
   "source": [
    "users_no_sub = data.loc[data['subscription_type']=='free']\n",
    "users_no_sub.head()"
   ]
  },
  {
   "cell_type": "markdown",
   "id": "8f69ad3d",
   "metadata": {},
   "source": [
    "#####  Визуализируйте информацию о расстоянии и времени поездок для пользователей обеих категорий."
   ]
  },
  {
   "cell_type": "markdown",
   "id": "76978477",
   "metadata": {},
   "source": [
    "Сделаем визуализацию сначала для тех, у кого нет подписки:"
   ]
  },
  {
   "cell_type": "code",
   "execution_count": 41,
   "id": "0f16f890",
   "metadata": {},
   "outputs": [
    {
     "data": {
      "text/plain": [
       "<AxesSubplot:title={'center':'distance no_sub'}, xlabel='Дистанция в метрах без подписки', ylabel='Frequency'>"
      ]
     },
     "execution_count": 41,
     "metadata": {},
     "output_type": "execute_result"
    },
    {
     "data": {
      "image/png": "[encoded data removed]",
      "text/plain": [
       "<Figure size 432x288 with 1 Axes>"
      ]
     },
     "metadata": {
      "needs_background": "light"
     },
     "output_type": "display_data"
    }
   ],
   "source": [
    "import matplotlib.pyplot as plt\n",
    "plt.xlabel('Дистанция в метрах без подписки')\n",
    "data['distance'].plot(kind='hist',bins=100,title='distance no_sub')"
   ]
  },
  {
   "cell_type": "code",
   "execution_count": 42,
   "id": "74cd4429",
   "metadata": {
    "scrolled": false
   },
   "outputs": [
    {
     "data": {
      "text/plain": [
       "<AxesSubplot:title={'center':'duration no_sub'}, xlabel='Длительность поездки в миннутах юез подписки', ylabel='Frequency'>"
      ]
     },
     "execution_count": 42,
     "metadata": {},
     "output_type": "execute_result"
    },
    {
     "data": {
      "image/png": "[encoded data removed]",
      "text/plain": [
       "<Figure size 432x288 with 1 Axes>"
      ]
     },
     "metadata": {
      "needs_background": "light"
     },
     "output_type": "display_data"
    }
   ],
   "source": [
    "plt.xlabel('Длительность поездки в миннутах юез подписки')\n",
    "users_no_sub['duration'].plot(kind='hist',bins=50, title='duration no_sub')"
   ]
  },
  {
   "cell_type": "markdown",
   "id": "2e47cd48",
   "metadata": {},
   "source": [
    "Есть подписка:"
   ]
  },
  {
   "cell_type": "code",
   "execution_count": 43,
   "id": "b65147c6",
   "metadata": {},
   "outputs": [
    {
     "data": {
      "text/plain": [
       "<AxesSubplot:title={'center':'distance sub'}, xlabel='Дистанция в метрах с подпиской', ylabel='Frequency'>"
      ]
     },
     "execution_count": 43,
     "metadata": {},
     "output_type": "execute_result"
    },
    {
     "data": {
      "image/png": "[encoded data removed]",
      "text/plain": [
       "<Figure size 432x288 with 1 Axes>"
      ]
     },
     "metadata": {
      "needs_background": "light"
     },
     "output_type": "display_data"
    }
   ],
   "source": [
    "plt.xlabel('Дистанция в метрах с подпиской')\n",
    "users_sub['distance'].plot(kind='hist',bins=100, title='distance sub')"
   ]
  },
  {
   "cell_type": "code",
   "execution_count": 44,
   "id": "08a2c0f3",
   "metadata": {
    "scrolled": false
   },
   "outputs": [
    {
     "data": {
      "text/plain": [
       "<AxesSubplot:title={'center':'duration sub'}, xlabel='Длительность в минутах с подпиской', ylabel='Frequency'>"
      ]
     },
     "execution_count": 44,
     "metadata": {},
     "output_type": "execute_result"
    },
    {
     "data": {
      "image/png": "[encoded data removed]",
      "text/plain": [
       "<Figure size 432x288 with 1 Axes>"
      ]
     },
     "metadata": {
      "needs_background": "light"
     },
     "output_type": "display_data"
    }
   ],
   "source": [
    "plt.xlabel('Длительность в минутах с подпиской')\n",
    "users_sub['duration'].plot(kind='hist',bins=50, title='duration sub')"
   ]
  },
  {
   "cell_type": "markdown",
   "id": "2cff9482",
   "metadata": {},
   "source": [
    "Сравним графики дальности поездки: пользователи без подписки чаще всего проезжают 2-4км, с подпиской обычно проезжают 3-3.5км.\n",
    "\n",
    "Сравним графики длительности поездки: пользователи без подписки чаще всего едут 10-25 минут, с подпиской же 12.5-22.5. Кроме того, пользователи без подписки могут похвастаться большими объемами поездок. "
   ]
  },
  {
   "cell_type": "markdown",
   "id": "402d620f",
   "metadata": {},
   "source": [
    "#### Шаг 5. Подсчёт выручки"
   ]
  },
  {
   "cell_type": "markdown",
   "id": "d9a3e54b",
   "metadata": {},
   "source": [
    "- [x] 5.1 Создайте датафрейм с агрегированными данными о поездках на основе датафрейма с объединёнными данными из шага 4: найдите суммарное расстояние, количество поездок и суммарное время для каждого пользователя за каждый месяц.\n",
    "- [x] 5.2 В этот же датафрейм добавьте столбец с помесячной выручкой, которую принёс каждый пользователь. Для этого обратитесь к информации об условиях оплаты для подписчиков и тех, у кого нет подписки. Продолжительность каждой поездки в каждой строке исходного датафрейма для подсчёта стоимости округляется до следующего целого числа: например, значения 25.3, 25.5 и 26.0 должны быть преобразованы к 26."
   ]
  },
  {
   "cell_type": "code",
   "execution_count": 45,
   "id": "09185361",
   "metadata": {},
   "outputs": [],
   "source": [
    "data['subscription_type'] = data['subscription_type'].apply(lambda x: 1 if x == 'ultra' else 0)\n"
   ]
  },
  {
   "cell_type": "code",
   "execution_count": 46,
   "id": "9c26d16e",
   "metadata": {},
   "outputs": [
    {
     "data": {
      "text/html": [
       "<div>\n",
       "<style scoped>\n",
       "    .dataframe tbody tr th:only-of-type {\n",
       "        vertical-align: middle;\n",
       "    }\n",
       "\n",
       "    .dataframe tbody tr th {\n",
       "        vertical-align: top;\n",
       "    }\n",
       "\n",
       "    .dataframe thead th {\n",
       "        text-align: right;\n",
       "    }\n",
       "</style>\n",
       "<table border=\"1\" class=\"dataframe\">\n",
       "  <thead>\n",
       "    <tr style=\"text-align: right;\">\n",
       "      <th></th>\n",
       "      <th></th>\n",
       "      <th>distance</th>\n",
       "      <th>duration</th>\n",
       "      <th>name</th>\n",
       "      <th>subscription_type</th>\n",
       "    </tr>\n",
       "    <tr>\n",
       "      <th>user_id</th>\n",
       "      <th>month</th>\n",
       "      <th></th>\n",
       "      <th></th>\n",
       "      <th></th>\n",
       "      <th></th>\n",
       "    </tr>\n",
       "  </thead>\n",
       "  <tbody>\n",
       "    <tr>\n",
       "      <th rowspan=\"5\" valign=\"top\">1</th>\n",
       "      <th>1</th>\n",
       "      <td>7027.511294</td>\n",
       "      <td>41.416640</td>\n",
       "      <td>2</td>\n",
       "      <td>1</td>\n",
       "    </tr>\n",
       "    <tr>\n",
       "      <th>4</th>\n",
       "      <td>754.159807</td>\n",
       "      <td>6.232113</td>\n",
       "      <td>1</td>\n",
       "      <td>1</td>\n",
       "    </tr>\n",
       "    <tr>\n",
       "      <th>8</th>\n",
       "      <td>6723.470560</td>\n",
       "      <td>44.776802</td>\n",
       "      <td>2</td>\n",
       "      <td>1</td>\n",
       "    </tr>\n",
       "    <tr>\n",
       "      <th>10</th>\n",
       "      <td>5809.911100</td>\n",
       "      <td>31.578017</td>\n",
       "      <td>2</td>\n",
       "      <td>1</td>\n",
       "    </tr>\n",
       "    <tr>\n",
       "      <th>11</th>\n",
       "      <td>7003.499363</td>\n",
       "      <td>53.397424</td>\n",
       "      <td>3</td>\n",
       "      <td>1</td>\n",
       "    </tr>\n",
       "  </tbody>\n",
       "</table>\n",
       "</div>"
      ],
      "text/plain": [
       "                  distance   duration  name  subscription_type\n",
       "user_id month                                                 \n",
       "1       1      7027.511294  41.416640     2                  1\n",
       "        4       754.159807   6.232113     1                  1\n",
       "        8      6723.470560  44.776802     2                  1\n",
       "        10     5809.911100  31.578017     2                  1\n",
       "        11     7003.499363  53.397424     3                  1"
      ]
     },
     "execution_count": 46,
     "metadata": {},
     "output_type": "execute_result"
    }
   ],
   "source": [
    "data_users = data.pivot_table(index=['user_id','month'], \n",
    "                              values=['distance', 'duration', 'name', 'subscription_type'], \n",
    "                              aggfunc=\n",
    "                              {\n",
    "                                  'distance':'sum',\n",
    "                                  'name':'count',\n",
    "                                  'duration':'sum',\n",
    "                                  'subscription_type':'mean'\n",
    "                              })\n",
    "data_users.head()"
   ]
  },
  {
   "cell_type": "code",
   "execution_count": 47,
   "id": "179b2327",
   "metadata": {},
   "outputs": [
    {
     "data": {
      "text/plain": [
       "array([1, 0])"
      ]
     },
     "execution_count": 47,
     "metadata": {},
     "output_type": "execute_result"
    }
   ],
   "source": [
    "data_users['subscription_type'].unique()"
   ]
  },
  {
   "cell_type": "code",
   "execution_count": 48,
   "id": "b37cac45",
   "metadata": {
    "scrolled": true
   },
   "outputs": [
    {
     "data": {
      "text/html": [
       "<div>\n",
       "<style scoped>\n",
       "    .dataframe tbody tr th:only-of-type {\n",
       "        vertical-align: middle;\n",
       "    }\n",
       "\n",
       "    .dataframe tbody tr th {\n",
       "        vertical-align: top;\n",
       "    }\n",
       "\n",
       "    .dataframe thead th {\n",
       "        text-align: right;\n",
       "    }\n",
       "</style>\n",
       "<table border=\"1\" class=\"dataframe\">\n",
       "  <thead>\n",
       "    <tr style=\"text-align: right;\">\n",
       "      <th></th>\n",
       "      <th></th>\n",
       "      <th>distance</th>\n",
       "      <th>duration</th>\n",
       "      <th>name</th>\n",
       "      <th>subscription_type</th>\n",
       "    </tr>\n",
       "    <tr>\n",
       "      <th>user_id</th>\n",
       "      <th>month</th>\n",
       "      <th></th>\n",
       "      <th></th>\n",
       "      <th></th>\n",
       "      <th></th>\n",
       "    </tr>\n",
       "  </thead>\n",
       "  <tbody>\n",
       "    <tr>\n",
       "      <th rowspan=\"5\" valign=\"top\">1</th>\n",
       "      <th>1</th>\n",
       "      <td>7027.511294</td>\n",
       "      <td>42.0</td>\n",
       "      <td>2</td>\n",
       "      <td>1</td>\n",
       "    </tr>\n",
       "    <tr>\n",
       "      <th>4</th>\n",
       "      <td>754.159807</td>\n",
       "      <td>7.0</td>\n",
       "      <td>1</td>\n",
       "      <td>1</td>\n",
       "    </tr>\n",
       "    <tr>\n",
       "      <th>8</th>\n",
       "      <td>6723.470560</td>\n",
       "      <td>45.0</td>\n",
       "      <td>2</td>\n",
       "      <td>1</td>\n",
       "    </tr>\n",
       "    <tr>\n",
       "      <th>10</th>\n",
       "      <td>5809.911100</td>\n",
       "      <td>32.0</td>\n",
       "      <td>2</td>\n",
       "      <td>1</td>\n",
       "    </tr>\n",
       "    <tr>\n",
       "      <th>11</th>\n",
       "      <td>7003.499363</td>\n",
       "      <td>54.0</td>\n",
       "      <td>3</td>\n",
       "      <td>1</td>\n",
       "    </tr>\n",
       "  </tbody>\n",
       "</table>\n",
       "</div>"
      ],
      "text/plain": [
       "                  distance  duration  name  subscription_type\n",
       "user_id month                                                \n",
       "1       1      7027.511294      42.0     2                  1\n",
       "        4       754.159807       7.0     1                  1\n",
       "        8      6723.470560      45.0     2                  1\n",
       "        10     5809.911100      32.0     2                  1\n",
       "        11     7003.499363      54.0     3                  1"
      ]
     },
     "execution_count": 48,
     "metadata": {},
     "output_type": "execute_result"
    }
   ],
   "source": [
    "import numpy as np\n",
    "\n",
    "data_users['duration'] = np.ceil(data_users['duration'])\n",
    "data_users.head()\n"
   ]
  },
  {
   "cell_type": "code",
   "execution_count": 49,
   "id": "111bd6a8",
   "metadata": {},
   "outputs": [],
   "source": [
    "data_users.columns= ['distance', 'duration', 'count', 'subscription_type']"
   ]
  },
  {
   "cell_type": "code",
   "execution_count": 50,
   "id": "810e9c1b",
   "metadata": {},
   "outputs": [],
   "source": [
    "#data_users.columns"
   ]
  },
  {
   "cell_type": "code",
   "execution_count": 51,
   "id": "692310ec",
   "metadata": {},
   "outputs": [
    {
     "data": {
      "text/html": [
       "<div>\n",
       "<style scoped>\n",
       "    .dataframe tbody tr th:only-of-type {\n",
       "        vertical-align: middle;\n",
       "    }\n",
       "\n",
       "    .dataframe tbody tr th {\n",
       "        vertical-align: top;\n",
       "    }\n",
       "\n",
       "    .dataframe thead th {\n",
       "        text-align: right;\n",
       "    }\n",
       "</style>\n",
       "<table border=\"1\" class=\"dataframe\">\n",
       "  <thead>\n",
       "    <tr style=\"text-align: right;\">\n",
       "      <th></th>\n",
       "      <th></th>\n",
       "      <th>distance</th>\n",
       "      <th>duration</th>\n",
       "      <th>count</th>\n",
       "      <th>subscription_type</th>\n",
       "      <th>income</th>\n",
       "    </tr>\n",
       "    <tr>\n",
       "      <th>user_id</th>\n",
       "      <th>month</th>\n",
       "      <th></th>\n",
       "      <th></th>\n",
       "      <th></th>\n",
       "      <th></th>\n",
       "      <th></th>\n",
       "    </tr>\n",
       "  </thead>\n",
       "  <tbody>\n",
       "    <tr>\n",
       "      <th rowspan=\"5\" valign=\"top\">1</th>\n",
       "      <th>1</th>\n",
       "      <td>7027.511294</td>\n",
       "      <td>42.0</td>\n",
       "      <td>2</td>\n",
       "      <td>1</td>\n",
       "      <td>451.0</td>\n",
       "    </tr>\n",
       "    <tr>\n",
       "      <th>4</th>\n",
       "      <td>754.159807</td>\n",
       "      <td>7.0</td>\n",
       "      <td>1</td>\n",
       "      <td>1</td>\n",
       "      <td>241.0</td>\n",
       "    </tr>\n",
       "    <tr>\n",
       "      <th>8</th>\n",
       "      <td>6723.470560</td>\n",
       "      <td>45.0</td>\n",
       "      <td>2</td>\n",
       "      <td>1</td>\n",
       "      <td>469.0</td>\n",
       "    </tr>\n",
       "    <tr>\n",
       "      <th>10</th>\n",
       "      <td>5809.911100</td>\n",
       "      <td>32.0</td>\n",
       "      <td>2</td>\n",
       "      <td>1</td>\n",
       "      <td>391.0</td>\n",
       "    </tr>\n",
       "    <tr>\n",
       "      <th>11</th>\n",
       "      <td>7003.499363</td>\n",
       "      <td>54.0</td>\n",
       "      <td>3</td>\n",
       "      <td>1</td>\n",
       "      <td>523.0</td>\n",
       "    </tr>\n",
       "  </tbody>\n",
       "</table>\n",
       "</div>"
      ],
      "text/plain": [
       "                  distance  duration  count  subscription_type  income\n",
       "user_id month                                                         \n",
       "1       1      7027.511294      42.0      2                  1   451.0\n",
       "        4       754.159807       7.0      1                  1   241.0\n",
       "        8      6723.470560      45.0      2                  1   469.0\n",
       "        10     5809.911100      32.0      2                  1   391.0\n",
       "        11     7003.499363      54.0      3                  1   523.0"
      ]
     },
     "execution_count": 51,
     "metadata": {},
     "output_type": "execute_result"
    }
   ],
   "source": [
    "data_users['income'] = 8*data_users['duration'] + 50*data_users['count'] + data_users['subscription_type']*(-2*data_users['duration']-50*data_users['count']+199)\n",
    "data_users.head()"
   ]
  },
  {
   "cell_type": "markdown",
   "id": "a24811c6",
   "metadata": {},
   "source": [
    "Получается обычный пользователь приносит компании 300-400р в месяц"
   ]
  },
  {
   "cell_type": "markdown",
   "id": "41545ac0",
   "metadata": {},
   "source": [
    "#### Шаг 6. Проверка гипотез"
   ]
  },
  {
   "cell_type": "markdown",
   "id": "ff849e59",
   "metadata": {},
   "source": [
    "- [x] 6.1 Важно понять, тратят ли пользователи с подпиской больше времени на поездки? Если да, то пользователи с подпиской могут быть «выгоднее» для компании. Проверьте гипотезу. Используйте исходные данные о продолжительности каждой сессии — отдельно для подписчиков и тех, у кого нет подписки.\n",
    "- [x] 6.2 Расстояние одной поездки в 3130 метров — оптимальное с точки зрения износа самоката. Можно ли сказать, что расстояние, которое проезжают пользователи с подпиской за одну поездку, не превышает 3130 метров? Проверьте гипотезу и сделайте выводы.\n",
    "- [x] 6.3. Проверьте гипотезу о том, будет ли помесячная выручка от пользователей с подпиской по месяцам выше, чем выручка от пользователей без подписки. Сделайте вывод.\n",
    "- [x] 6.4. Представьте такую ситуацию: техническая команда сервиса обновила сервера, с которыми взаимодействует мобильное приложение. Она надеется, что из-за этого количество обращений в техподдержку значимо снизилось. Некоторый файл содержит для каждого пользователя данные о количестве обращений до обновления и после него. Какой тест вам понадобился бы для проверки этой гипотезы?"
   ]
  },
  {
   "cell_type": "markdown",
   "id": "9d6cbbaf",
   "metadata": {},
   "source": [
    "##### тратят ли пользователи с подпиской больше времени на поездки?"
   ]
  },
  {
   "cell_type": "code",
   "execution_count": 53,
   "id": "e0f6e564",
   "metadata": {},
   "outputs": [],
   "source": [
    "import scipy.stats as st"
   ]
  },
  {
   "cell_type": "markdown",
   "id": "df0c1df4",
   "metadata": {},
   "source": [
    "Н0 - нулевая гипотеза\n",
    "\n",
    "H0: Пусть подписчики тратят времени столько же или меньше, чем не подписчики\n",
    "\n",
    "Альтернативаня:  подписчики тратят времени больше, чем не подписчики"
   ]
  },
  {
   "cell_type": "code",
   "execution_count": 54,
   "id": "aa9e06f3",
   "metadata": {},
   "outputs": [
    {
     "data": {
      "text/plain": [
       "1.2892550916177028"
      ]
     },
     "execution_count": 54,
     "metadata": {},
     "output_type": "execute_result"
    }
   ],
   "source": [
    "users_no_sub['duration'].var()/users_sub['duration'].var()"
   ]
  },
  {
   "cell_type": "code",
   "execution_count": 55,
   "id": "4f4f0e06",
   "metadata": {},
   "outputs": [
    {
     "data": {
      "text/plain": [
       "Ttest_indResult(statistic=12.241203729044017, pvalue=1.2804098316645618e-34)"
      ]
     },
     "execution_count": 55,
     "metadata": {},
     "output_type": "execute_result"
    }
   ],
   "source": [
    "st.ttest_ind(users_sub['duration'], users_no_sub['duration'], alternative='greater',equal_var=True)"
   ]
  },
  {
   "cell_type": "markdown",
   "id": "7a23a2bb",
   "metadata": {},
   "source": [
    "p-value крайне мало, оно даже записано в экспоненциальной форме, следовательно мы можем отвергнуть нулевую гипотезу на любом уровне значимости. И принять альтернативную, что платные подписчики больше времени тратят на поездки.\n",
    "\n",
    "При этом, при обоих вариантах с одинаковыми диспресиями и разными, p-value крайне мало."
   ]
  },
  {
   "cell_type": "markdown",
   "id": "9774c018",
   "metadata": {},
   "source": [
    "##### расстояние, которое проезжают пользователи с подпиской за одну поездку, не превышает 3130 метров"
   ]
  },
  {
   "cell_type": "markdown",
   "id": "1eda59f8",
   "metadata": {},
   "source": [
    "Н0 - нулевая гипотеза\n",
    "\n",
    "H0: Пусть люди с подпиской проезжают 3130 или больше метров за одну поездку\n",
    "\n",
    "Альтернативная: люди с подпиской проезжают менее 3130  метров за одну поездку"
   ]
  },
  {
   "cell_type": "code",
   "execution_count": 56,
   "id": "3d7ec00d",
   "metadata": {},
   "outputs": [
    {
     "data": {
      "text/plain": [
       "Ttest_1sampResult(statistic=-1.402123166869486, pvalue=0.08046311521502146)"
      ]
     },
     "execution_count": 56,
     "metadata": {},
     "output_type": "execute_result"
    }
   ],
   "source": [
    "st.ttest_1samp(users_sub['distance'], popmean=3130, alternative='less')"
   ]
  },
  {
   "cell_type": "markdown",
   "id": "07128319",
   "metadata": {},
   "source": [
    "p-value примерно равно 8%, что говорит, что мы не можем отвергнуть нулевую гипотезу на уровнях 5% и 1%, но если нас интересует уровень статистической значимости в 10%, то в этом случае нулевую гипотезу можно отвергнуть.\n",
    "\n",
    "В данном случае, считаю, что 10% слишком большой уровень, поэтому не можем отвергнуть нулевую гипотезу"
   ]
  },
  {
   "cell_type": "markdown",
   "id": "51036b7a",
   "metadata": {},
   "source": [
    "##### будет ли помесячная выручка от пользователей с подпиской по месяцам выше, чем выручка от пользователей без подписки"
   ]
  },
  {
   "cell_type": "markdown",
   "id": "54b20479",
   "metadata": {},
   "source": [
    "H0 - нулевая гипотеза\n",
    "\n",
    "H0: выручка от пользователей с подпиской по месяцам меньше, чем выручка от пользователей без подписки\n",
    "\n",
    "Альтернативная: выручка от пользователей с подпиской по месяцам выше, чем выручка от пользователей без подписки"
   ]
  },
  {
   "cell_type": "code",
   "execution_count": 57,
   "id": "0f014669",
   "metadata": {},
   "outputs": [
    {
     "data": {
      "text/plain": [
       "array([1, 0])"
      ]
     },
     "execution_count": 57,
     "metadata": {},
     "output_type": "execute_result"
    }
   ],
   "source": [
    "data_users['subscription_type'].unique()\n"
   ]
  },
  {
   "cell_type": "code",
   "execution_count": 58,
   "id": "26234dd3",
   "metadata": {},
   "outputs": [
    {
     "data": {
      "text/plain": [
       "4.365184072587199"
      ]
     },
     "execution_count": 58,
     "metadata": {},
     "output_type": "execute_result"
    }
   ],
   "source": [
    "data_users.loc[data_users['subscription_type']==0,'income'].var()/data_users.loc[data_users['subscription_type']==1,'income'].var()"
   ]
  },
  {
   "cell_type": "code",
   "execution_count": 59,
   "id": "71ba1e84",
   "metadata": {},
   "outputs": [
    {
     "data": {
      "text/plain": [
       "325.84289496910856"
      ]
     },
     "execution_count": 59,
     "metadata": {},
     "output_type": "execute_result"
    }
   ],
   "source": [
    "data_users.loc[data_users['subscription_type']==0,'income'].mean()"
   ]
  },
  {
   "cell_type": "code",
   "execution_count": 60,
   "id": "3d8f1ebf",
   "metadata": {},
   "outputs": [
    {
     "data": {
      "text/plain": [
       "361.48180013236265"
      ]
     },
     "execution_count": 60,
     "metadata": {},
     "output_type": "execute_result"
    }
   ],
   "source": [
    "data_users.loc[data_users['subscription_type']==1,'income'].mean()"
   ]
  },
  {
   "cell_type": "code",
   "execution_count": 61,
   "id": "8b590616",
   "metadata": {},
   "outputs": [
    {
     "data": {
      "text/plain": [
       "Ttest_indResult(statistic=14.04341703675686, pvalue=1.0718729651261336e-44)"
      ]
     },
     "execution_count": 61,
     "metadata": {},
     "output_type": "execute_result"
    }
   ],
   "source": [
    "st.ttest_ind(data_users.loc[data_users['subscription_type']==1,'income'],\n",
    "              data_users.loc[data_users['subscription_type']==0,'income'],\n",
    "              alternative='greater',\n",
    "             equal_var=False\n",
    "              )"
   ]
  },
  {
   "cell_type": "markdown",
   "id": "506a872c",
   "metadata": {},
   "source": [
    "\n",
    "\n",
    "p-value крайне мало, поэтому мы можем отвергнуть нулевую гипотезу в пользу альтернативной.\n",
    "\n",
    "Следовательно, мы можем утверждать, что платные пользователи приносят больше прибыли в месяц."
   ]
  },
  {
   "cell_type": "markdown",
   "id": "2212de88",
   "metadata": {},
   "source": [
    "##### какой тест надо использовать? "
   ]
  },
  {
   "cell_type": "markdown",
   "id": "dd591e3a",
   "metadata": {},
   "source": [
    "Представьте такую ситуацию: техническая команда сервиса обновила сервера, с которыми взаимодействует мобильное приложение. Она надеется, что из-за этого количество обращений в техподдержку значимо снизилось. Некоторый файл содержит для каждого пользователя данные о количестве обращений до обновления и после него. Какой тест вам понадобился бы для проверки этой гипотезы?"
   ]
  },
  {
   "cell_type": "markdown",
   "id": "69037ef8",
   "metadata": {},
   "source": [
    "Сразу бросается в глаза, что здесь у нас есть зависимость данных, то есть у нас есть данные для каждого пользователя до и после обновления. Значит, надо использовать метод `st.ttest_rel()`"
   ]
  },
  {
   "cell_type": "markdown",
   "id": "7f875e77",
   "metadata": {},
   "source": [
    "---"
   ]
  },
  {
   "cell_type": "markdown",
   "id": "9ddb54ee",
   "metadata": {},
   "source": [
    "**Вывод:**\n",
    "\n",
    "Платные подписчики траятя времени больше на поездки, но и приносят больше месячной прибыли.\n",
    "\n",
    "Значит компания с полной увереностью может стремиться к тому, чтобы повысить количество платных пользователей."
   ]
  },
  {
   "cell_type": "markdown",
   "id": "61213c5e",
   "metadata": {},
   "source": [
    "#### Шаг 7. Распределения"
   ]
  },
  {
   "cell_type": "markdown",
   "id": "96824926",
   "metadata": {},
   "source": [
    "- [x] 7.1 Отделу маркетинга GoFast поставили задачу: нужно провести акцию с раздачей промокодов на один бесплатный месяц подписки, в рамках которой как минимум 100 существующих клиентов должны продлить эту подписку. То есть по завершении периода действия подписки пользователь может либо отказаться от неё, либо продлить, совершив соотвествующий платёж. \n",
    "\n",
    "Эта акция уже проводилась ранее и по итогу выяснилось, что после бесплатного пробного периода подписку продлевают 10 пользователей. Выясните, какое минимальное количество промокодов нужно разослать, чтобы вероятность не выполнить план была примерно 5 %. Подберите параметры распределения, описывающего эту ситуацию, постройте график распределения и сформулируйте ответ на вопрос о количестве промокодов.\n",
    "Подсказка\n",
    "- [x] 7.2 Отдел маркетинга рассылает клиентам push-уведомления в мобильном приложении. Клиенты могут открыть его или не открывать. Известно, что уведомления открывают около 40 % получивших клиентов. Отдел планирует разослать 1 млн уведомлений. С помощью аппроксимации постройте примерный график распределения и оцените вероятность того, что уведомление откроют не более 399,5 тыс. пользователей."
   ]
  },
  {
   "cell_type": "markdown",
   "id": "843842fd",
   "metadata": {},
   "source": [
    "##### "
   ]
  },
  {
   "cell_type": "markdown",
   "id": "ebefcd60",
   "metadata": {},
   "source": [
    "Аппроксимируем биномиальное распределение нормальным"
   ]
  },
  {
   "cell_type": "code",
   "execution_count": 63,
   "id": "d348c136",
   "metadata": {},
   "outputs": [
    {
     "name": "stdout",
     "output_type": "stream",
     "text": [
      "1169 - стольким нужно разослать промокод, чтобы получить 100 подписчиков, которые продлят подписку, чтобы вероятность неуспеха была всего 5%\n"
     ]
    }
   ],
   "source": [
    "from math import sqrt\n",
    "from scipy import stats as st\n",
    "\n",
    "# задаём параметры биномиального распределения\n",
    "n=1100\n",
    "result= 1\n",
    "while result >0.05:\n",
    "    n +=1\n",
    "    p = 0.1\n",
    "\n",
    "    # задаём параметры нормального распределения равными\n",
    "    # мат.ожиданию и дисперсии биномиального распределения\n",
    "    mu = n * p\n",
    "    sigma = sqrt(n * p * (1 - p))\n",
    "\n",
    "    # задаём нормальное распределение\n",
    "    distr = st.norm(mu, sigma) \n",
    "\n",
    "    # считаем вероятность хвоста слева \n",
    "    result = distr.cdf(100)\n",
    "    #print(f'n:{n},Вероятность не получить 100 подписчиков: {result}')\n",
    "    \n",
    "print(n,'- стольким нужно разослать промокод, чтобы получить 100 подписчиков, которые продлят подписку, чтобы вероятность неуспеха была всего 5%')"
   ]
  },
  {
   "cell_type": "code",
   "execution_count": 64,
   "id": "845c4590",
   "metadata": {},
   "outputs": [
    {
     "data": {
      "text/plain": [
       "Text(0.5, 1.0, 'Апроксимация')"
      ]
     },
     "execution_count": 64,
     "metadata": {},
     "output_type": "execute_result"
    },
    {
     "data": {
      "image/png": "[encoded data removed]",
      "text/plain": [
       "<Figure size 432x288 with 1 Axes>"
      ]
     },
     "metadata": {
      "needs_background": "light"
     },
     "output_type": "display_data"
    }
   ],
   "source": [
    "from matplotlib import pyplot as plt\n",
    "from math import factorial\n",
    "# количество попыток n\n",
    "p = 0.1 # вероятность успеха\n",
    "\n",
    "distr = []\n",
    "\n",
    "for k in range(0, (n + 1)//6):\n",
    "    choose = factorial(n) //factorial(n - k)// factorial(k)\n",
    "    prob = choose * p**k * (1 - p)**(n - k) \n",
    "    distr.append(prob)\n",
    "    \n",
    "plt.bar(range(0, (n + 1)//6), distr)\n",
    "plt.title('Апроксимация')"
   ]
  },
  {
   "cell_type": "markdown",
   "id": "8a2454f0",
   "metadata": {},
   "source": [
    "Для построения этого графика были использованы костыли, я бы хотел понимать как сделать это лучше сделать. "
   ]
  },
  {
   "cell_type": "markdown",
   "id": "c6487fc9",
   "metadata": {},
   "source": [
    "Получается, чтобы получить 100 подписчиков, которые продлят подписку после бесплатного месяца, с вероятностью неуспеха 5%, нужно разослать промокод 1169 людям."
   ]
  },
  {
   "cell_type": "markdown",
   "id": "acd6a0a0",
   "metadata": {},
   "source": [
    "##### "
   ]
  },
  {
   "cell_type": "markdown",
   "id": "4b08424a",
   "metadata": {},
   "source": [
    "Известно, что уведомления открывают около 40 % получивших клиентов. Отдел планирует разослать 1 млн уведомлений. С помощью аппроксимации постройте примерный график распределения и оцените вероятность того, что уведомление откроют не более 399,5 тыс. пользователей"
   ]
  },
  {
   "cell_type": "code",
   "execution_count": 65,
   "id": "b7b30fef",
   "metadata": {},
   "outputs": [
    {
     "name": "stdout",
     "output_type": "stream",
     "text": [
      "0.15371708296369768\n"
     ]
    }
   ],
   "source": [
    "from math import sqrt\n",
    "from scipy import stats as st\n",
    "\n",
    "# задаём параметры биномиального распределения\n",
    "n = 1000000\n",
    "p = 0.4\n",
    "\n",
    "# задаём параметры нормального распределения равными\n",
    "# мат.ожиданию и дисперсии биномиального распределения\n",
    "mu = n * p\n",
    "sigma = sqrt(n * p * (1 - p))\n",
    "\n",
    "# задаём нормальное распределение\n",
    "distr = st.norm(mu, sigma) \n",
    "\n",
    "# считаем вероятность хвоста слева от 43 тысяч\n",
    "result = distr.cdf(399500)\n",
    "print(result)"
   ]
  },
  {
   "cell_type": "code",
   "execution_count": 66,
   "id": "677d8f15",
   "metadata": {},
   "outputs": [],
   "source": [
    "# from matplotlib import pyplot as plt\n",
    "# from math import factorial\n",
    "# # количество попыток n\n",
    "# p = 0.4 # вероятность успеха\n",
    "\n",
    "# distr = st.norm(mu, sigma) \n",
    "# plt.plot(distr)\n",
    "# # print(distr)"
   ]
  },
  {
   "cell_type": "code",
   "execution_count": 68,
   "id": "76a50781",
   "metadata": {},
   "outputs": [
    {
     "data": {
      "image/png": "[encoded data removed]",
      "text/plain": [
       "<Figure size 432x288 with 1 Axes>"
      ]
     },
     "metadata": {
      "needs_background": "light"
     },
     "output_type": "display_data"
    }
   ],
   "source": [
    "n = 1000000\n",
    "p = 0.4\n",
    "\n",
    "mu = n * p\n",
    "sigma = np.sqrt(n * p * (1 - p))\n",
    "s = np.random.normal(mu, sigma, 1000)\n",
    "\n",
    "distr = st.norm(mu, sigma) \n",
    "\n",
    "plt.hist(s, 30, density=True)\n",
    "plt.title('Заголовок')\n",
    "plt.xlabel('Подпись')\n",
    "plt.ylabel('Подпись');"
   ]
  },
  {
   "cell_type": "markdown",
   "id": "e9c9ab6c",
   "metadata": {},
   "source": [
    "Короче не получается график построить): Потому что через другой способо когда считаем для каждого значения у меня так и не посчиталось.\n",
    "\n",
    "Ответ такой: вероятность получить менее 399.5к открывших клиентов 15.3%"
   ]
  },
  {
   "cell_type": "markdown",
   "id": "3e135e0a",
   "metadata": {},
   "source": [
    "#### Итог работы"
   ]
  },
  {
   "cell_type": "markdown",
   "id": "2de0d049",
   "metadata": {},
   "source": [
    "Нам передали данные о некоторых пользователях из нескольких городов, а также об их поездках. Мы проанализировали данные и проверили некоторые гипотезы, которые могут помочь бизнесу вырасти.\n",
    "\n",
    "Какие выводы из этого можно сделать:\n",
    "- пользователи с подпиской тратя больше времени в поездках\n",
    "- пользователи проезжают около 3130м, или меньше, зависит от того какой уровень статистической значимости нас устраивает, \n",
    "- Платные пользователи траятя больше денег на поездки и приносят больше прибыли\n",
    "\n"
   ]
  },
  {
   "cell_type": "markdown",
   "id": "135544f0",
   "metadata": {},
   "source": [
    "Итого, бизнесу следует искать возможность увеличить платных подписчиков, так как они приносят больше прибыль, проезжают около 3130м, что еще не критично для самих самокатов, поэтому нужно пытаться сподвигнуть пользователей к переходу на платные подписки!\n",
    "\n",
    "Рекомендации:\n",
    "- Для этого можно ввести какую-то реферальную систему, по типу пригласи друга и получите скидку на первый месяц или первый месяцц бесплатно. \n",
    "- Кроме того, можно добавить какие-то интересные функции для обоих типов подписок, только у платных их количество будет больше. \n",
    "- Еще одна рекомендация, сейчас очень быстро развивается тема геймификации, можно придумать какую-то функцию, итогом которой будет бесплатный пробный пертод подписки. Можно сделать какие-то задание, например, проедь 3км и получи 10 монет, проедь 6 км и получи 25 монет. Монеты можно будет потратить на покупку подписки или еще чего-то.\n"
   ]
  }
 ],
 "metadata": {
  "ExecuteTimeLog": [
   {
    "duration": 457,
    "start_time": "2023-05-25T21:50:01.880Z"
   },
   {
    "duration": 297,
    "start_time": "2023-05-25T21:51:30.680Z"
   },
   {
    "duration": 14,
    "start_time": "2023-05-25T22:10:08.214Z"
   },
   {
    "duration": 110,
    "start_time": "2023-05-25T22:15:57.871Z"
   },
   {
    "duration": 9,
    "start_time": "2023-05-25T22:15:58.236Z"
   },
   {
    "duration": 117,
    "start_time": "2023-05-25T22:16:00.481Z"
   },
   {
    "duration": 12,
    "start_time": "2023-05-25T22:16:00.725Z"
   },
   {
    "duration": 20,
    "start_time": "2023-05-25T22:16:06.165Z"
   },
   {
    "duration": 9,
    "start_time": "2023-05-25T22:16:11.197Z"
   },
   {
    "duration": 9,
    "start_time": "2023-05-25T22:16:23.599Z"
   },
   {
    "duration": 10,
    "start_time": "2023-05-25T22:16:37.411Z"
   },
   {
    "duration": 109,
    "start_time": "2023-05-25T22:33:26.277Z"
   },
   {
    "duration": 5,
    "start_time": "2023-05-25T22:33:35.597Z"
   },
   {
    "duration": 13,
    "start_time": "2023-05-25T22:33:54.679Z"
   },
   {
    "duration": 12,
    "start_time": "2023-05-25T22:34:12.276Z"
   },
   {
    "duration": 8,
    "start_time": "2023-05-25T22:36:42.223Z"
   },
   {
    "duration": 28,
    "start_time": "2023-05-25T22:36:48.363Z"
   },
   {
    "duration": 12,
    "start_time": "2023-05-25T22:36:49.271Z"
   },
   {
    "duration": 10,
    "start_time": "2023-05-25T22:40:18.915Z"
   },
   {
    "duration": 11,
    "start_time": "2023-05-25T22:40:23.579Z"
   },
   {
    "duration": 10,
    "start_time": "2023-05-25T22:40:30.114Z"
   },
   {
    "duration": 7,
    "start_time": "2023-05-25T22:44:59.219Z"
   },
   {
    "duration": 12,
    "start_time": "2023-05-25T22:45:13.263Z"
   },
   {
    "duration": 12,
    "start_time": "2023-05-25T22:45:25.344Z"
   },
   {
    "duration": 10,
    "start_time": "2023-05-25T22:52:59.213Z"
   },
   {
    "duration": 7,
    "start_time": "2023-05-25T22:53:28.006Z"
   },
   {
    "duration": 9,
    "start_time": "2023-05-25T22:53:42.706Z"
   },
   {
    "duration": 14,
    "start_time": "2023-05-25T22:55:05.781Z"
   },
   {
    "duration": 13,
    "start_time": "2023-05-25T22:55:13.067Z"
   },
   {
    "duration": 7,
    "start_time": "2023-05-25T22:55:17.131Z"
   },
   {
    "duration": 9,
    "start_time": "2023-05-25T22:55:17.920Z"
   },
   {
    "duration": 6,
    "start_time": "2023-05-25T22:56:42.783Z"
   },
   {
    "duration": 8,
    "start_time": "2023-05-25T23:00:17.930Z"
   },
   {
    "duration": 12,
    "start_time": "2023-05-25T23:00:30.565Z"
   },
   {
    "duration": 10,
    "start_time": "2023-05-25T23:01:07.378Z"
   },
   {
    "duration": 6,
    "start_time": "2023-05-25T23:02:14.506Z"
   },
   {
    "duration": 533,
    "start_time": "2023-05-25T23:02:29.703Z"
   },
   {
    "duration": 6,
    "start_time": "2023-05-25T23:06:09.985Z"
   },
   {
    "duration": 6,
    "start_time": "2023-05-25T23:09:20.793Z"
   },
   {
    "duration": 137,
    "start_time": "2023-05-25T23:09:29.500Z"
   },
   {
    "duration": 6,
    "start_time": "2023-05-25T23:09:39.063Z"
   },
   {
    "duration": 175,
    "start_time": "2023-05-25T23:09:42.402Z"
   },
   {
    "duration": 6,
    "start_time": "2023-05-25T23:10:29.415Z"
   },
   {
    "duration": 141,
    "start_time": "2023-05-25T23:11:25.180Z"
   },
   {
    "duration": 145,
    "start_time": "2023-05-25T23:11:49.656Z"
   },
   {
    "duration": 7,
    "start_time": "2023-05-25T23:12:50.117Z"
   },
   {
    "duration": 14,
    "start_time": "2023-05-25T23:13:31.543Z"
   },
   {
    "duration": 11,
    "start_time": "2023-05-25T23:15:23.048Z"
   },
   {
    "duration": 162,
    "start_time": "2023-05-25T23:15:40.410Z"
   },
   {
    "duration": 156,
    "start_time": "2023-05-25T23:18:02.936Z"
   },
   {
    "duration": 163,
    "start_time": "2023-05-25T23:18:29.698Z"
   },
   {
    "duration": 153,
    "start_time": "2023-05-25T23:18:37.190Z"
   },
   {
    "duration": 208,
    "start_time": "2023-05-25T23:18:43.674Z"
   },
   {
    "duration": 289,
    "start_time": "2023-05-25T23:18:47.475Z"
   },
   {
    "duration": 395,
    "start_time": "2023-05-25T23:19:01.812Z"
   },
   {
    "duration": 279,
    "start_time": "2023-05-25T23:19:05.177Z"
   },
   {
    "duration": 425,
    "start_time": "2023-05-27T21:27:19.641Z"
   },
   {
    "duration": 202,
    "start_time": "2023-05-27T21:27:20.876Z"
   },
   {
    "duration": 15,
    "start_time": "2023-05-27T21:27:21.340Z"
   },
   {
    "duration": 9,
    "start_time": "2023-05-27T21:27:22.298Z"
   },
   {
    "duration": 8,
    "start_time": "2023-05-27T21:27:23.790Z"
   },
   {
    "duration": 5,
    "start_time": "2023-05-27T21:27:25.080Z"
   },
   {
    "duration": 6,
    "start_time": "2023-05-27T21:27:25.352Z"
   },
   {
    "duration": 5,
    "start_time": "2023-05-27T21:27:25.626Z"
   },
   {
    "duration": 9,
    "start_time": "2023-05-27T21:27:26.185Z"
   },
   {
    "duration": 5,
    "start_time": "2023-05-27T21:27:26.547Z"
   },
   {
    "duration": 5,
    "start_time": "2023-05-27T21:27:27.053Z"
   },
   {
    "duration": 9,
    "start_time": "2023-05-27T21:27:27.729Z"
   },
   {
    "duration": 7,
    "start_time": "2023-05-27T21:27:28.590Z"
   },
   {
    "duration": 7,
    "start_time": "2023-05-27T21:27:28.879Z"
   },
   {
    "duration": 7,
    "start_time": "2023-05-27T21:27:29.128Z"
   },
   {
    "duration": 6,
    "start_time": "2023-05-27T21:27:29.952Z"
   },
   {
    "duration": 5,
    "start_time": "2023-05-27T21:27:30.279Z"
   },
   {
    "duration": 6,
    "start_time": "2023-05-27T21:27:30.479Z"
   },
   {
    "duration": 9,
    "start_time": "2023-05-27T21:27:30.727Z"
   },
   {
    "duration": 7,
    "start_time": "2023-05-27T21:27:31.268Z"
   },
   {
    "duration": 607,
    "start_time": "2023-05-27T21:27:32.171Z"
   },
   {
    "duration": 7,
    "start_time": "2023-05-27T21:27:32.780Z"
   },
   {
    "duration": 112,
    "start_time": "2023-05-27T21:27:32.852Z"
   },
   {
    "duration": 7,
    "start_time": "2023-05-27T21:27:33.127Z"
   },
   {
    "duration": 141,
    "start_time": "2023-05-27T21:27:33.440Z"
   },
   {
    "duration": 7,
    "start_time": "2023-05-27T21:27:33.601Z"
   },
   {
    "duration": 9,
    "start_time": "2023-05-27T21:27:33.901Z"
   },
   {
    "duration": 328,
    "start_time": "2023-05-27T21:27:34.403Z"
   },
   {
    "duration": 126,
    "start_time": "2023-05-27T21:28:15.640Z"
   },
   {
    "duration": 7,
    "start_time": "2023-05-27T21:28:16.544Z"
   },
   {
    "duration": 10,
    "start_time": "2023-05-27T21:28:17.040Z"
   },
   {
    "duration": 282,
    "start_time": "2023-05-27T21:28:19.092Z"
   },
   {
    "duration": 4,
    "start_time": "2023-05-27T21:29:00.580Z"
   },
   {
    "duration": 139,
    "start_time": "2023-05-27T21:29:24.054Z"
   },
   {
    "duration": 168,
    "start_time": "2023-05-27T21:29:34.581Z"
   },
   {
    "duration": 183,
    "start_time": "2023-05-27T21:29:50.479Z"
   },
   {
    "duration": 564,
    "start_time": "2023-05-28T10:48:27.403Z"
   },
   {
    "duration": 462,
    "start_time": "2023-05-28T10:48:27.978Z"
   },
   {
    "duration": 18,
    "start_time": "2023-05-28T10:48:28.442Z"
   },
   {
    "duration": 10,
    "start_time": "2023-05-28T10:48:28.463Z"
   },
   {
    "duration": 20,
    "start_time": "2023-05-28T10:48:28.475Z"
   },
   {
    "duration": 8,
    "start_time": "2023-05-28T10:48:28.497Z"
   },
   {
    "duration": 9,
    "start_time": "2023-05-28T10:48:28.506Z"
   },
   {
    "duration": 13,
    "start_time": "2023-05-28T10:48:28.516Z"
   },
   {
    "duration": 9,
    "start_time": "2023-05-28T10:48:28.531Z"
   },
   {
    "duration": 26,
    "start_time": "2023-05-28T10:48:28.543Z"
   },
   {
    "duration": 16,
    "start_time": "2023-05-28T10:48:28.571Z"
   },
   {
    "duration": 13,
    "start_time": "2023-05-28T10:48:28.591Z"
   },
   {
    "duration": 13,
    "start_time": "2023-05-28T10:48:28.606Z"
   },
   {
    "duration": 10,
    "start_time": "2023-05-28T10:48:28.621Z"
   },
   {
    "duration": 12,
    "start_time": "2023-05-28T10:48:28.632Z"
   },
   {
    "duration": 34,
    "start_time": "2023-05-28T10:48:28.647Z"
   },
   {
    "duration": 6,
    "start_time": "2023-05-28T10:48:28.682Z"
   },
   {
    "duration": 8,
    "start_time": "2023-05-28T10:48:28.690Z"
   },
   {
    "duration": 13,
    "start_time": "2023-05-28T10:48:28.700Z"
   },
   {
    "duration": 10,
    "start_time": "2023-05-28T10:48:28.715Z"
   },
   {
    "duration": 728,
    "start_time": "2023-05-28T10:48:28.727Z"
   },
   {
    "duration": 7,
    "start_time": "2023-05-28T10:48:29.457Z"
   },
   {
    "duration": 165,
    "start_time": "2023-05-28T10:48:29.466Z"
   },
   {
    "duration": 7,
    "start_time": "2023-05-28T10:48:29.633Z"
   },
   {
    "duration": 187,
    "start_time": "2023-05-28T10:48:29.642Z"
   },
   {
    "duration": 9,
    "start_time": "2023-05-28T10:48:29.831Z"
   },
   {
    "duration": 12,
    "start_time": "2023-05-28T10:48:29.842Z"
   },
   {
    "duration": 431,
    "start_time": "2023-05-28T10:48:29.858Z"
   },
   {
    "duration": 12,
    "start_time": "2023-05-28T10:48:30.291Z"
   },
   {
    "duration": 240,
    "start_time": "2023-05-28T10:48:30.306Z"
   },
   {
    "duration": 118,
    "start_time": "2023-05-28T10:57:36.113Z"
   },
   {
    "duration": 18,
    "start_time": "2023-05-28T10:57:40.416Z"
   },
   {
    "duration": 10,
    "start_time": "2023-05-28T10:57:42.445Z"
   },
   {
    "duration": 36,
    "start_time": "2023-05-28T10:57:47.993Z"
   },
   {
    "duration": 36,
    "start_time": "2023-05-28T10:57:58.129Z"
   },
   {
    "duration": 39,
    "start_time": "2023-05-28T10:58:02.158Z"
   },
   {
    "duration": 310,
    "start_time": "2023-05-28T10:58:44.003Z"
   },
   {
    "duration": 264,
    "start_time": "2023-05-28T10:59:01.587Z"
   },
   {
    "duration": 202,
    "start_time": "2023-05-28T10:59:40.017Z"
   },
   {
    "duration": 132,
    "start_time": "2023-05-28T11:00:12.620Z"
   },
   {
    "duration": 241,
    "start_time": "2023-05-28T11:00:20.510Z"
   },
   {
    "duration": 190,
    "start_time": "2023-05-28T11:00:44.118Z"
   },
   {
    "duration": 24,
    "start_time": "2023-05-28T11:00:53.625Z"
   },
   {
    "duration": 36,
    "start_time": "2023-05-28T11:01:02.197Z"
   },
   {
    "duration": 32,
    "start_time": "2023-05-28T11:01:37.541Z"
   },
   {
    "duration": 33,
    "start_time": "2023-05-28T11:01:43.002Z"
   },
   {
    "duration": 24,
    "start_time": "2023-05-28T11:02:20.218Z"
   },
   {
    "duration": 33,
    "start_time": "2023-05-28T11:03:38.227Z"
   },
   {
    "duration": 18,
    "start_time": "2023-05-28T11:04:52.097Z"
   },
   {
    "duration": 21,
    "start_time": "2023-05-28T11:04:56.949Z"
   },
   {
    "duration": 423,
    "start_time": "2023-05-28T11:05:13.413Z"
   },
   {
    "duration": 94,
    "start_time": "2023-05-28T11:05:13.838Z"
   },
   {
    "duration": 21,
    "start_time": "2023-05-28T11:05:13.934Z"
   },
   {
    "duration": 13,
    "start_time": "2023-05-28T11:05:13.957Z"
   },
   {
    "duration": 9,
    "start_time": "2023-05-28T11:05:13.974Z"
   },
   {
    "duration": 16,
    "start_time": "2023-05-28T11:05:13.985Z"
   },
   {
    "duration": 12,
    "start_time": "2023-05-28T11:05:14.004Z"
   },
   {
    "duration": 12,
    "start_time": "2023-05-28T11:05:14.021Z"
   },
   {
    "duration": 11,
    "start_time": "2023-05-28T11:05:14.039Z"
   },
   {
    "duration": 9,
    "start_time": "2023-05-28T11:05:14.054Z"
   },
   {
    "duration": 6,
    "start_time": "2023-05-28T11:05:14.080Z"
   },
   {
    "duration": 17,
    "start_time": "2023-05-28T11:05:14.088Z"
   },
   {
    "duration": 21,
    "start_time": "2023-05-28T11:05:14.108Z"
   },
   {
    "duration": 12,
    "start_time": "2023-05-28T11:05:14.132Z"
   },
   {
    "duration": 9,
    "start_time": "2023-05-28T11:05:14.146Z"
   },
   {
    "duration": 34,
    "start_time": "2023-05-28T11:05:14.157Z"
   },
   {
    "duration": 12,
    "start_time": "2023-05-28T11:05:14.195Z"
   },
   {
    "duration": 18,
    "start_time": "2023-05-28T11:05:14.212Z"
   },
   {
    "duration": 13,
    "start_time": "2023-05-28T11:05:14.233Z"
   },
   {
    "duration": 9,
    "start_time": "2023-05-28T11:05:14.247Z"
   },
   {
    "duration": 525,
    "start_time": "2023-05-28T11:05:14.258Z"
   },
   {
    "duration": 18,
    "start_time": "2023-05-28T11:05:14.787Z"
   },
   {
    "duration": 153,
    "start_time": "2023-05-28T11:05:14.813Z"
   },
   {
    "duration": 7,
    "start_time": "2023-05-28T11:05:14.968Z"
   },
   {
    "duration": 237,
    "start_time": "2023-05-28T11:05:14.981Z"
   },
   {
    "duration": 6,
    "start_time": "2023-05-28T11:05:15.220Z"
   },
   {
    "duration": 14,
    "start_time": "2023-05-28T11:05:15.228Z"
   },
   {
    "duration": 308,
    "start_time": "2023-05-28T11:05:15.244Z"
   },
   {
    "duration": 5,
    "start_time": "2023-05-28T11:05:15.554Z"
   },
   {
    "duration": 308,
    "start_time": "2023-05-28T11:05:15.560Z"
   },
   {
    "duration": 87,
    "start_time": "2023-05-28T11:05:15.870Z"
   },
   {
    "duration": 0,
    "start_time": "2023-05-28T11:05:15.959Z"
   },
   {
    "duration": 0,
    "start_time": "2023-05-28T11:05:15.960Z"
   },
   {
    "duration": 29,
    "start_time": "2023-05-28T11:05:34.362Z"
   },
   {
    "duration": 23,
    "start_time": "2023-05-28T11:05:59.615Z"
   },
   {
    "duration": 14,
    "start_time": "2023-05-28T11:06:34.712Z"
   },
   {
    "duration": 17,
    "start_time": "2023-05-28T11:06:36.943Z"
   },
   {
    "duration": 23,
    "start_time": "2023-05-28T11:06:37.411Z"
   },
   {
    "duration": 14,
    "start_time": "2023-05-28T11:06:39.209Z"
   },
   {
    "duration": 14,
    "start_time": "2023-05-28T11:06:56.414Z"
   },
   {
    "duration": 7,
    "start_time": "2023-05-28T11:06:56.960Z"
   },
   {
    "duration": 18,
    "start_time": "2023-05-28T11:07:27.504Z"
   },
   {
    "duration": 26,
    "start_time": "2023-05-28T11:08:00.444Z"
   },
   {
    "duration": 26,
    "start_time": "2023-05-28T11:08:02.423Z"
   },
   {
    "duration": 11,
    "start_time": "2023-05-28T11:08:10.546Z"
   },
   {
    "duration": 12,
    "start_time": "2023-05-28T11:08:27.745Z"
   },
   {
    "duration": 283,
    "start_time": "2023-05-28T11:18:42.295Z"
   },
   {
    "duration": 8,
    "start_time": "2023-05-28T11:47:10.520Z"
   },
   {
    "duration": 25,
    "start_time": "2023-05-28T11:47:10.901Z"
   },
   {
    "duration": 15,
    "start_time": "2023-05-28T11:47:12.409Z"
   },
   {
    "duration": 18,
    "start_time": "2023-05-28T11:47:14.060Z"
   },
   {
    "duration": 17,
    "start_time": "2023-05-28T11:47:19.100Z"
   },
   {
    "duration": 388,
    "start_time": "2023-05-28T11:47:49.196Z"
   },
   {
    "duration": 358,
    "start_time": "2023-05-28T11:47:55.723Z"
   },
   {
    "duration": 289,
    "start_time": "2023-05-28T11:48:10.565Z"
   },
   {
    "duration": 227,
    "start_time": "2023-05-28T11:48:15.616Z"
   },
   {
    "duration": 308,
    "start_time": "2023-05-28T11:49:26.217Z"
   },
   {
    "duration": 256,
    "start_time": "2023-05-28T11:49:27.916Z"
   },
   {
    "duration": 21,
    "start_time": "2023-05-28T12:15:22.126Z"
   },
   {
    "duration": 30,
    "start_time": "2023-05-28T12:15:36.406Z"
   },
   {
    "duration": 39,
    "start_time": "2023-05-28T12:15:50.781Z"
   },
   {
    "duration": 36,
    "start_time": "2023-05-28T12:16:06.097Z"
   },
   {
    "duration": 31,
    "start_time": "2023-05-28T12:16:16.807Z"
   },
   {
    "duration": 27,
    "start_time": "2023-05-28T12:16:48.797Z"
   },
   {
    "duration": 32,
    "start_time": "2023-05-28T12:17:05.100Z"
   },
   {
    "duration": 56,
    "start_time": "2023-05-28T12:17:13.890Z"
   },
   {
    "duration": 85,
    "start_time": "2023-05-28T12:17:26.770Z"
   },
   {
    "duration": 77,
    "start_time": "2023-05-28T12:18:24.562Z"
   },
   {
    "duration": 38,
    "start_time": "2023-05-28T12:18:26.779Z"
   },
   {
    "duration": 36,
    "start_time": "2023-05-28T12:18:36.183Z"
   },
   {
    "duration": 39,
    "start_time": "2023-05-28T12:19:54.904Z"
   },
   {
    "duration": 14,
    "start_time": "2023-05-28T12:20:38.291Z"
   },
   {
    "duration": 12,
    "start_time": "2023-05-28T12:20:46.217Z"
   },
   {
    "duration": 4,
    "start_time": "2023-05-28T12:21:23.659Z"
   },
   {
    "duration": 14,
    "start_time": "2023-05-28T12:21:32.162Z"
   },
   {
    "duration": 46,
    "start_time": "2023-05-28T12:22:58.763Z"
   },
   {
    "duration": 41,
    "start_time": "2023-05-28T12:23:12.919Z"
   },
   {
    "duration": 46,
    "start_time": "2023-05-28T12:23:24.862Z"
   },
   {
    "duration": 38,
    "start_time": "2023-05-28T12:23:37.769Z"
   },
   {
    "duration": 14,
    "start_time": "2023-05-28T12:23:40.497Z"
   },
   {
    "duration": 56,
    "start_time": "2023-05-28T12:23:46.367Z"
   },
   {
    "duration": 13,
    "start_time": "2023-05-28T12:24:10.284Z"
   },
   {
    "duration": 26,
    "start_time": "2023-05-28T12:24:15.349Z"
   },
   {
    "duration": 16,
    "start_time": "2023-05-28T12:24:47.063Z"
   },
   {
    "duration": 33,
    "start_time": "2023-05-28T12:24:57.106Z"
   },
   {
    "duration": 32,
    "start_time": "2023-05-28T12:25:11.118Z"
   },
   {
    "duration": 15,
    "start_time": "2023-05-28T12:25:13.921Z"
   },
   {
    "duration": 1150,
    "start_time": "2023-05-28T12:25:33.419Z"
   },
   {
    "duration": 1238,
    "start_time": "2023-05-28T12:25:59.181Z"
   },
   {
    "duration": 1175,
    "start_time": "2023-05-28T12:26:02.976Z"
   },
   {
    "duration": 72,
    "start_time": "2023-05-28T15:55:56.739Z"
   },
   {
    "duration": 401,
    "start_time": "2023-05-28T15:56:08.909Z"
   },
   {
    "duration": 645,
    "start_time": "2023-05-28T15:56:09.312Z"
   },
   {
    "duration": 15,
    "start_time": "2023-05-28T15:56:09.958Z"
   },
   {
    "duration": 19,
    "start_time": "2023-05-28T15:56:09.975Z"
   },
   {
    "duration": 15,
    "start_time": "2023-05-28T15:56:09.996Z"
   },
   {
    "duration": 5,
    "start_time": "2023-05-28T15:56:10.017Z"
   },
   {
    "duration": 10,
    "start_time": "2023-05-28T15:56:10.023Z"
   },
   {
    "duration": 19,
    "start_time": "2023-05-28T15:56:10.035Z"
   },
   {
    "duration": 13,
    "start_time": "2023-05-28T15:56:10.056Z"
   },
   {
    "duration": 14,
    "start_time": "2023-05-28T15:56:10.071Z"
   },
   {
    "duration": 14,
    "start_time": "2023-05-28T15:56:10.087Z"
   },
   {
    "duration": 17,
    "start_time": "2023-05-28T15:56:10.103Z"
   },
   {
    "duration": 9,
    "start_time": "2023-05-28T15:56:10.122Z"
   },
   {
    "duration": 17,
    "start_time": "2023-05-28T15:56:10.133Z"
   },
   {
    "duration": 17,
    "start_time": "2023-05-28T15:56:10.151Z"
   },
   {
    "duration": 16,
    "start_time": "2023-05-28T15:56:10.169Z"
   },
   {
    "duration": 11,
    "start_time": "2023-05-28T15:56:10.190Z"
   },
   {
    "duration": 22,
    "start_time": "2023-05-28T15:56:10.203Z"
   },
   {
    "duration": 13,
    "start_time": "2023-05-28T15:56:10.226Z"
   },
   {
    "duration": 24,
    "start_time": "2023-05-28T15:56:10.240Z"
   },
   {
    "duration": 661,
    "start_time": "2023-05-28T15:56:10.266Z"
   },
   {
    "duration": 8,
    "start_time": "2023-05-28T15:56:10.929Z"
   },
   {
    "duration": 164,
    "start_time": "2023-05-28T15:56:10.939Z"
   },
   {
    "duration": 7,
    "start_time": "2023-05-28T15:56:11.105Z"
   },
   {
    "duration": 183,
    "start_time": "2023-05-28T15:56:11.114Z"
   },
   {
    "duration": 10,
    "start_time": "2023-05-28T15:56:11.304Z"
   },
   {
    "duration": 8,
    "start_time": "2023-05-28T15:56:11.317Z"
   },
   {
    "duration": 393,
    "start_time": "2023-05-28T15:56:11.328Z"
   },
   {
    "duration": 3,
    "start_time": "2023-05-28T15:56:11.723Z"
   },
   {
    "duration": 213,
    "start_time": "2023-05-28T15:56:11.728Z"
   },
   {
    "duration": 7,
    "start_time": "2023-05-28T15:56:11.943Z"
   },
   {
    "duration": 49,
    "start_time": "2023-05-28T15:56:11.951Z"
   },
   {
    "duration": 22,
    "start_time": "2023-05-28T15:56:12.001Z"
   },
   {
    "duration": 18,
    "start_time": "2023-05-28T15:56:12.025Z"
   },
   {
    "duration": 265,
    "start_time": "2023-05-28T15:56:12.045Z"
   },
   {
    "duration": 224,
    "start_time": "2023-05-28T15:56:12.312Z"
   },
   {
    "duration": 262,
    "start_time": "2023-05-28T15:56:12.539Z"
   },
   {
    "duration": 216,
    "start_time": "2023-05-28T15:56:12.802Z"
   },
   {
    "duration": 25,
    "start_time": "2023-05-28T15:56:13.019Z"
   },
   {
    "duration": 10,
    "start_time": "2023-05-28T15:56:13.045Z"
   },
   {
    "duration": 1504,
    "start_time": "2023-05-28T15:56:13.056Z"
   },
   {
    "duration": 9,
    "start_time": "2023-05-28T15:56:25.910Z"
   },
   {
    "duration": 1454,
    "start_time": "2023-05-28T15:56:36.179Z"
   },
   {
    "duration": 5,
    "start_time": "2023-05-28T15:56:44.207Z"
   },
   {
    "duration": 11,
    "start_time": "2023-05-28T15:56:53.600Z"
   },
   {
    "duration": 1474,
    "start_time": "2023-05-28T15:57:04.052Z"
   },
   {
    "duration": 5,
    "start_time": "2023-05-28T15:57:11.045Z"
   },
   {
    "duration": 1489,
    "start_time": "2023-05-28T15:57:25.549Z"
   },
   {
    "duration": 1441,
    "start_time": "2023-05-28T15:57:31.606Z"
   },
   {
    "duration": 16,
    "start_time": "2023-05-28T16:08:56.670Z"
   },
   {
    "duration": 21,
    "start_time": "2023-05-28T16:09:55.146Z"
   },
   {
    "duration": 8,
    "start_time": "2023-05-28T16:10:05.875Z"
   },
   {
    "duration": 1172,
    "start_time": "2023-05-28T16:10:11.168Z"
   },
   {
    "duration": 6,
    "start_time": "2023-05-28T16:10:19.502Z"
   },
   {
    "duration": 7,
    "start_time": "2023-05-28T16:10:24.754Z"
   },
   {
    "duration": 11,
    "start_time": "2023-05-28T16:10:28.454Z"
   },
   {
    "duration": 3,
    "start_time": "2023-05-28T16:10:58.446Z"
   },
   {
    "duration": 17,
    "start_time": "2023-05-28T16:14:55.232Z"
   },
   {
    "duration": 305,
    "start_time": "2023-05-28T16:15:09.508Z"
   },
   {
    "duration": 335,
    "start_time": "2023-05-28T16:15:24.611Z"
   },
   {
    "duration": 75,
    "start_time": "2023-05-28T16:15:27.846Z"
   },
   {
    "duration": 10,
    "start_time": "2023-05-28T16:16:49.972Z"
   },
   {
    "duration": 29,
    "start_time": "2023-05-28T16:16:56.061Z"
   },
   {
    "duration": 26,
    "start_time": "2023-05-28T16:17:25.239Z"
   },
   {
    "duration": 11,
    "start_time": "2023-05-28T16:18:04.447Z"
   },
   {
    "duration": 7,
    "start_time": "2023-05-28T16:23:58.170Z"
   },
   {
    "duration": 16,
    "start_time": "2023-05-28T16:24:25.083Z"
   },
   {
    "duration": 5,
    "start_time": "2023-05-28T16:25:42.544Z"
   },
   {
    "duration": 18,
    "start_time": "2023-05-28T16:38:03.694Z"
   },
   {
    "duration": 6,
    "start_time": "2023-05-28T16:38:07.471Z"
   },
   {
    "duration": 132,
    "start_time": "2023-05-28T16:38:28.177Z"
   },
   {
    "duration": 257,
    "start_time": "2023-05-28T16:38:34.579Z"
   },
   {
    "duration": 177,
    "start_time": "2023-05-28T16:38:39.752Z"
   },
   {
    "duration": 380,
    "start_time": "2023-05-28T17:06:11.512Z"
   },
   {
    "duration": 10,
    "start_time": "2023-05-28T17:11:17.295Z"
   },
   {
    "duration": 5,
    "start_time": "2023-05-28T17:11:47.157Z"
   },
   {
    "duration": 5,
    "start_time": "2023-05-28T17:11:49.822Z"
   },
   {
    "duration": 7,
    "start_time": "2023-05-28T17:15:42.806Z"
   },
   {
    "duration": 7,
    "start_time": "2023-05-28T17:16:14.805Z"
   },
   {
    "duration": 6,
    "start_time": "2023-05-28T17:16:23.009Z"
   },
   {
    "duration": 5,
    "start_time": "2023-05-28T17:16:32.328Z"
   },
   {
    "duration": 8,
    "start_time": "2023-05-28T17:23:09.611Z"
   },
   {
    "duration": 8,
    "start_time": "2023-05-28T17:23:14.608Z"
   },
   {
    "duration": 6,
    "start_time": "2023-05-28T17:23:17.768Z"
   },
   {
    "duration": 7,
    "start_time": "2023-05-28T17:23:38.631Z"
   },
   {
    "duration": 5,
    "start_time": "2023-05-28T17:23:49.828Z"
   },
   {
    "duration": 9,
    "start_time": "2023-05-28T17:23:58.697Z"
   },
   {
    "duration": 7,
    "start_time": "2023-05-28T17:24:01.668Z"
   },
   {
    "duration": 13,
    "start_time": "2023-05-28T17:24:04.591Z"
   },
   {
    "duration": 10,
    "start_time": "2023-05-28T17:30:56.806Z"
   },
   {
    "duration": 8,
    "start_time": "2023-05-28T17:31:09.563Z"
   },
   {
    "duration": 14,
    "start_time": "2023-05-28T17:31:28.401Z"
   },
   {
    "duration": 6,
    "start_time": "2023-05-28T17:31:35.163Z"
   },
   {
    "duration": 10,
    "start_time": "2023-05-28T17:31:42.702Z"
   },
   {
    "duration": 10,
    "start_time": "2023-05-28T17:31:49.905Z"
   },
   {
    "duration": 16,
    "start_time": "2023-05-28T17:31:52.157Z"
   },
   {
    "duration": 12,
    "start_time": "2023-05-28T17:31:58.773Z"
   },
   {
    "duration": 5,
    "start_time": "2023-05-28T17:32:20.859Z"
   },
   {
    "duration": 13,
    "start_time": "2023-05-28T17:32:25.915Z"
   },
   {
    "duration": 10,
    "start_time": "2023-05-28T17:32:30.552Z"
   },
   {
    "duration": 10,
    "start_time": "2023-05-28T17:32:36.005Z"
   },
   {
    "duration": 10,
    "start_time": "2023-05-28T17:32:39.547Z"
   },
   {
    "duration": 7,
    "start_time": "2023-05-28T17:32:43.910Z"
   },
   {
    "duration": 11,
    "start_time": "2023-05-28T17:32:57.761Z"
   },
   {
    "duration": 8,
    "start_time": "2023-05-28T17:33:12.411Z"
   },
   {
    "duration": 6,
    "start_time": "2023-05-28T17:33:33.504Z"
   },
   {
    "duration": 31,
    "start_time": "2023-05-28T17:34:21.854Z"
   },
   {
    "duration": 5,
    "start_time": "2023-05-28T17:34:36.463Z"
   },
   {
    "duration": 24,
    "start_time": "2023-05-28T17:34:55.912Z"
   },
   {
    "duration": 7,
    "start_time": "2023-05-28T17:35:10.114Z"
   },
   {
    "duration": 7,
    "start_time": "2023-05-28T17:35:14.852Z"
   },
   {
    "duration": 1684,
    "start_time": "2023-05-28T17:36:15.616Z"
   },
   {
    "duration": 11,
    "start_time": "2023-05-28T17:36:24.064Z"
   },
   {
    "duration": 471,
    "start_time": "2023-05-28T17:36:41.375Z"
   },
   {
    "duration": 80,
    "start_time": "2023-05-28T17:36:41.848Z"
   },
   {
    "duration": 14,
    "start_time": "2023-05-28T17:36:41.930Z"
   },
   {
    "duration": 29,
    "start_time": "2023-05-28T17:36:41.945Z"
   },
   {
    "duration": 18,
    "start_time": "2023-05-28T17:36:41.976Z"
   },
   {
    "duration": 11,
    "start_time": "2023-05-28T17:36:41.999Z"
   },
   {
    "duration": 21,
    "start_time": "2023-05-28T17:36:42.012Z"
   },
   {
    "duration": 12,
    "start_time": "2023-05-28T17:36:42.035Z"
   },
   {
    "duration": 22,
    "start_time": "2023-05-28T17:36:42.049Z"
   },
   {
    "duration": 20,
    "start_time": "2023-05-28T17:36:42.074Z"
   },
   {
    "duration": 22,
    "start_time": "2023-05-28T17:36:42.096Z"
   },
   {
    "duration": 23,
    "start_time": "2023-05-28T17:36:42.119Z"
   },
   {
    "duration": 17,
    "start_time": "2023-05-28T17:36:42.144Z"
   },
   {
    "duration": 36,
    "start_time": "2023-05-28T17:36:42.163Z"
   },
   {
    "duration": 14,
    "start_time": "2023-05-28T17:36:42.201Z"
   },
   {
    "duration": 16,
    "start_time": "2023-05-28T17:36:42.216Z"
   },
   {
    "duration": 20,
    "start_time": "2023-05-28T17:36:42.234Z"
   },
   {
    "duration": 19,
    "start_time": "2023-05-28T17:36:42.256Z"
   },
   {
    "duration": 17,
    "start_time": "2023-05-28T17:36:42.277Z"
   },
   {
    "duration": 19,
    "start_time": "2023-05-28T17:36:42.296Z"
   },
   {
    "duration": 453,
    "start_time": "2023-05-28T17:36:42.317Z"
   },
   {
    "duration": 22,
    "start_time": "2023-05-28T17:36:42.772Z"
   },
   {
    "duration": 136,
    "start_time": "2023-05-28T17:36:42.800Z"
   },
   {
    "duration": 6,
    "start_time": "2023-05-28T17:36:42.938Z"
   },
   {
    "duration": 157,
    "start_time": "2023-05-28T17:36:42.946Z"
   },
   {
    "duration": 10,
    "start_time": "2023-05-28T17:36:43.108Z"
   },
   {
    "duration": 24,
    "start_time": "2023-05-28T17:36:43.120Z"
   },
   {
    "duration": 310,
    "start_time": "2023-05-28T17:36:43.149Z"
   },
   {
    "duration": 4,
    "start_time": "2023-05-28T17:36:43.461Z"
   },
   {
    "duration": 248,
    "start_time": "2023-05-28T17:36:43.479Z"
   },
   {
    "duration": 7,
    "start_time": "2023-05-28T17:36:43.728Z"
   },
   {
    "duration": 48,
    "start_time": "2023-05-28T17:36:43.737Z"
   },
   {
    "duration": 18,
    "start_time": "2023-05-28T17:36:43.787Z"
   },
   {
    "duration": 15,
    "start_time": "2023-05-28T17:36:43.807Z"
   },
   {
    "duration": 300,
    "start_time": "2023-05-28T17:36:43.824Z"
   },
   {
    "duration": 228,
    "start_time": "2023-05-28T17:36:44.126Z"
   },
   {
    "duration": 281,
    "start_time": "2023-05-28T17:36:44.356Z"
   },
   {
    "duration": 227,
    "start_time": "2023-05-28T17:36:44.639Z"
   },
   {
    "duration": 20,
    "start_time": "2023-05-28T17:36:44.867Z"
   },
   {
    "duration": 38,
    "start_time": "2023-05-28T17:36:44.889Z"
   },
   {
    "duration": 4,
    "start_time": "2023-05-28T17:36:44.928Z"
   },
   {
    "duration": 11,
    "start_time": "2023-05-28T17:36:44.934Z"
   },
   {
    "duration": 2,
    "start_time": "2023-05-28T17:36:44.947Z"
   },
   {
    "duration": 30,
    "start_time": "2023-05-28T17:36:44.951Z"
   },
   {
    "duration": 183,
    "start_time": "2023-05-28T17:36:44.982Z"
   },
   {
    "duration": 536,
    "start_time": "2023-05-28T17:36:45.167Z"
   },
   {
    "duration": 9,
    "start_time": "2023-05-28T17:36:45.705Z"
   },
   {
    "duration": 7,
    "start_time": "2023-05-28T17:36:45.716Z"
   },
   {
    "duration": 4,
    "start_time": "2023-05-28T17:36:45.725Z"
   },
   {
    "duration": 19,
    "start_time": "2023-05-28T17:36:45.731Z"
   },
   {
    "duration": 8,
    "start_time": "2023-05-28T17:36:45.752Z"
   },
   {
    "duration": 12,
    "start_time": "2023-05-28T17:36:45.761Z"
   },
   {
    "duration": 37,
    "start_time": "2023-05-28T17:37:06.015Z"
   },
   {
    "duration": 6,
    "start_time": "2023-05-28T17:37:06.659Z"
   },
   {
    "duration": 12,
    "start_time": "2023-05-28T17:37:06.858Z"
   },
   {
    "duration": 9,
    "start_time": "2023-05-28T17:37:06.979Z"
   },
   {
    "duration": 13,
    "start_time": "2023-05-28T17:37:07.155Z"
   },
   {
    "duration": 235,
    "start_time": "2023-05-28T17:37:07.318Z"
   },
   {
    "duration": 3,
    "start_time": "2023-05-28T17:37:08.471Z"
   },
   {
    "duration": 10,
    "start_time": "2023-05-28T17:37:10.277Z"
   },
   {
    "duration": 6,
    "start_time": "2023-05-28T17:37:11.540Z"
   },
   {
    "duration": 10,
    "start_time": "2023-05-28T17:37:20.478Z"
   },
   {
    "duration": 6,
    "start_time": "2023-05-28T17:37:23.289Z"
   },
   {
    "duration": 7,
    "start_time": "2023-05-28T17:37:28.036Z"
   },
   {
    "duration": 11,
    "start_time": "2023-05-28T17:37:38.991Z"
   },
   {
    "duration": 13,
    "start_time": "2023-05-28T17:37:51.910Z"
   },
   {
    "duration": 17,
    "start_time": "2023-05-28T17:37:56.098Z"
   },
   {
    "duration": 20,
    "start_time": "2023-05-28T17:38:06.978Z"
   },
   {
    "duration": 9,
    "start_time": "2023-05-28T17:38:37.751Z"
   },
   {
    "duration": 10,
    "start_time": "2023-05-28T17:38:48.508Z"
   },
   {
    "duration": 6,
    "start_time": "2023-05-28T17:41:39.155Z"
   },
   {
    "duration": 6,
    "start_time": "2023-05-28T17:41:49.347Z"
   },
   {
    "duration": 8,
    "start_time": "2023-05-28T18:24:06.503Z"
   },
   {
    "duration": 6,
    "start_time": "2023-05-28T18:31:43.105Z"
   },
   {
    "duration": 116,
    "start_time": "2023-05-28T18:35:28.116Z"
   },
   {
    "duration": 1312,
    "start_time": "2023-05-28T18:35:36.510Z"
   },
   {
    "duration": 3,
    "start_time": "2023-05-28T18:36:43.768Z"
   },
   {
    "duration": 133,
    "start_time": "2023-05-28T18:37:20.268Z"
   },
   {
    "duration": 11,
    "start_time": "2023-05-28T18:38:00.756Z"
   },
   {
    "duration": 14,
    "start_time": "2023-05-28T18:38:08.702Z"
   },
   {
    "duration": 12,
    "start_time": "2023-05-28T18:38:22.524Z"
   },
   {
    "duration": 411,
    "start_time": "2023-05-28T18:38:32.210Z"
   },
   {
    "duration": 1581,
    "start_time": "2023-05-28T18:38:42.722Z"
   },
   {
    "duration": 238,
    "start_time": "2023-05-28T18:38:56.620Z"
   },
   {
    "duration": 1770,
    "start_time": "2023-05-28T18:39:04.948Z"
   },
   {
    "duration": 9,
    "start_time": "2023-05-28T18:39:30.404Z"
   },
   {
    "duration": 5,
    "start_time": "2023-05-28T18:39:37.464Z"
   },
   {
    "duration": 3,
    "start_time": "2023-05-28T18:39:46.507Z"
   },
   {
    "duration": 4,
    "start_time": "2023-05-28T18:39:50.048Z"
   },
   {
    "duration": 442,
    "start_time": "2023-05-28T18:40:01.270Z"
   },
   {
    "duration": 76,
    "start_time": "2023-05-28T18:40:01.715Z"
   },
   {
    "duration": 24,
    "start_time": "2023-05-28T18:40:01.795Z"
   },
   {
    "duration": 27,
    "start_time": "2023-05-28T18:40:01.821Z"
   },
   {
    "duration": 31,
    "start_time": "2023-05-28T18:40:01.850Z"
   },
   {
    "duration": 5,
    "start_time": "2023-05-28T18:40:01.882Z"
   },
   {
    "duration": 25,
    "start_time": "2023-05-28T18:40:01.889Z"
   },
   {
    "duration": 22,
    "start_time": "2023-05-28T18:40:01.916Z"
   },
   {
    "duration": 30,
    "start_time": "2023-05-28T18:40:01.940Z"
   },
   {
    "duration": 29,
    "start_time": "2023-05-28T18:40:01.973Z"
   },
   {
    "duration": 39,
    "start_time": "2023-05-28T18:40:02.003Z"
   },
   {
    "duration": 36,
    "start_time": "2023-05-28T18:40:02.044Z"
   },
   {
    "duration": 34,
    "start_time": "2023-05-28T18:40:02.086Z"
   },
   {
    "duration": 29,
    "start_time": "2023-05-28T18:40:02.122Z"
   },
   {
    "duration": 12,
    "start_time": "2023-05-28T18:40:02.153Z"
   },
   {
    "duration": 9,
    "start_time": "2023-05-28T18:40:02.167Z"
   },
   {
    "duration": 34,
    "start_time": "2023-05-28T18:40:02.178Z"
   },
   {
    "duration": 16,
    "start_time": "2023-05-28T18:40:02.217Z"
   },
   {
    "duration": 9,
    "start_time": "2023-05-28T18:40:02.235Z"
   },
   {
    "duration": 40,
    "start_time": "2023-05-28T18:40:02.246Z"
   },
   {
    "duration": 447,
    "start_time": "2023-05-28T18:40:02.287Z"
   },
   {
    "duration": 6,
    "start_time": "2023-05-28T18:40:02.737Z"
   },
   {
    "duration": 155,
    "start_time": "2023-05-28T18:40:02.745Z"
   },
   {
    "duration": 9,
    "start_time": "2023-05-28T18:40:02.902Z"
   },
   {
    "duration": 172,
    "start_time": "2023-05-28T18:40:02.913Z"
   },
   {
    "duration": 16,
    "start_time": "2023-05-28T18:40:03.086Z"
   },
   {
    "duration": 9,
    "start_time": "2023-05-28T18:40:03.107Z"
   },
   {
    "duration": 291,
    "start_time": "2023-05-28T18:40:03.120Z"
   },
   {
    "duration": 5,
    "start_time": "2023-05-28T18:40:03.414Z"
   },
   {
    "duration": 259,
    "start_time": "2023-05-28T18:40:03.420Z"
   },
   {
    "duration": 8,
    "start_time": "2023-05-28T18:40:03.682Z"
   },
   {
    "duration": 32,
    "start_time": "2023-05-28T18:40:03.693Z"
   },
   {
    "duration": 14,
    "start_time": "2023-05-28T18:40:03.726Z"
   },
   {
    "duration": 12,
    "start_time": "2023-05-28T18:40:03.741Z"
   },
   {
    "duration": 281,
    "start_time": "2023-05-28T18:40:03.755Z"
   },
   {
    "duration": 211,
    "start_time": "2023-05-28T18:40:04.038Z"
   },
   {
    "duration": 277,
    "start_time": "2023-05-28T18:40:04.252Z"
   },
   {
    "duration": 206,
    "start_time": "2023-05-28T18:40:04.531Z"
   },
   {
    "duration": 10,
    "start_time": "2023-05-28T18:40:04.738Z"
   },
   {
    "duration": 44,
    "start_time": "2023-05-28T18:40:04.749Z"
   },
   {
    "duration": 12,
    "start_time": "2023-05-28T18:40:04.795Z"
   },
   {
    "duration": 13,
    "start_time": "2023-05-28T18:40:04.810Z"
   },
   {
    "duration": 2,
    "start_time": "2023-05-28T18:40:04.824Z"
   },
   {
    "duration": 16,
    "start_time": "2023-05-28T18:40:04.828Z"
   },
   {
    "duration": 229,
    "start_time": "2023-05-28T18:40:04.846Z"
   },
   {
    "duration": 490,
    "start_time": "2023-05-28T18:40:05.077Z"
   },
   {
    "duration": 14,
    "start_time": "2023-05-28T18:40:05.569Z"
   },
   {
    "duration": 9,
    "start_time": "2023-05-28T18:40:05.585Z"
   },
   {
    "duration": 6,
    "start_time": "2023-05-28T18:40:05.595Z"
   },
   {
    "duration": 20,
    "start_time": "2023-05-28T18:40:05.602Z"
   },
   {
    "duration": 10,
    "start_time": "2023-05-28T18:40:05.626Z"
   },
   {
    "duration": 8,
    "start_time": "2023-05-28T18:40:05.638Z"
   },
   {
    "duration": 120,
    "start_time": "2023-05-28T18:40:05.647Z"
   },
   {
    "duration": 0,
    "start_time": "2023-05-28T18:40:05.768Z"
   },
   {
    "duration": 1259,
    "start_time": "2023-05-28T18:40:15.571Z"
   },
   {
    "duration": 110,
    "start_time": "2023-05-28T18:40:21.138Z"
   },
   {
    "duration": 129,
    "start_time": "2023-05-28T18:41:15.866Z"
   },
   {
    "duration": 85,
    "start_time": "2023-05-28T18:41:26.064Z"
   },
   {
    "duration": 87,
    "start_time": "2023-05-28T18:42:03.261Z"
   },
   {
    "duration": 53,
    "start_time": "2023-05-28T18:45:19.901Z"
   },
   {
    "duration": 71,
    "start_time": "2023-05-28T18:45:23.414Z"
   },
   {
    "duration": 45,
    "start_time": "2023-05-28T18:45:24.141Z"
   },
   {
    "duration": 120,
    "start_time": "2023-05-28T18:45:49.641Z"
   },
   {
    "duration": 19,
    "start_time": "2023-05-28T18:45:52.797Z"
   },
   {
    "duration": 42,
    "start_time": "2023-05-28T18:46:03.925Z"
   },
   {
    "duration": 47,
    "start_time": "2023-05-28T18:46:30.695Z"
   },
   {
    "duration": 1630,
    "start_time": "2023-05-28T18:46:34.486Z"
   },
   {
    "duration": 204,
    "start_time": "2023-05-28T18:46:41.603Z"
   },
   {
    "duration": 190,
    "start_time": "2023-05-28T18:46:47.456Z"
   },
   {
    "duration": 335,
    "start_time": "2023-05-28T18:46:56.175Z"
   },
   {
    "duration": 9,
    "start_time": "2023-05-28T18:47:15.454Z"
   },
   {
    "duration": 110,
    "start_time": "2023-05-28T18:47:27.891Z"
   },
   {
    "duration": 118,
    "start_time": "2023-05-28T18:47:32.646Z"
   },
   {
    "duration": 42,
    "start_time": "2023-05-28T18:47:38.807Z"
   },
   {
    "duration": 42,
    "start_time": "2023-05-28T18:47:44.491Z"
   },
   {
    "duration": 213,
    "start_time": "2023-05-28T18:47:47.078Z"
   },
   {
    "duration": 477,
    "start_time": "2023-05-28T18:47:49.545Z"
   },
   {
    "duration": 139,
    "start_time": "2023-05-28T18:48:02.792Z"
   },
   {
    "duration": 132,
    "start_time": "2023-05-28T18:48:16.330Z"
   },
   {
    "duration": 131,
    "start_time": "2023-05-28T18:48:29.680Z"
   },
   {
    "duration": 135,
    "start_time": "2023-05-28T18:49:10.418Z"
   },
   {
    "duration": 668,
    "start_time": "2023-05-28T18:49:15.854Z"
   },
   {
    "duration": 450,
    "start_time": "2023-05-28T18:49:24.295Z"
   },
   {
    "duration": 192,
    "start_time": "2023-05-28T18:49:38.991Z"
   },
   {
    "duration": 379,
    "start_time": "2023-05-28T18:49:41.368Z"
   },
   {
    "duration": 363,
    "start_time": "2023-05-28T18:49:48.824Z"
   },
   {
    "duration": 6,
    "start_time": "2023-05-28T18:58:10.994Z"
   },
   {
    "duration": 408,
    "start_time": "2023-05-28T19:00:19.450Z"
   },
   {
    "duration": 69,
    "start_time": "2023-05-28T19:00:19.861Z"
   },
   {
    "duration": 14,
    "start_time": "2023-05-28T19:00:19.932Z"
   },
   {
    "duration": 14,
    "start_time": "2023-05-28T19:00:19.947Z"
   },
   {
    "duration": 29,
    "start_time": "2023-05-28T19:00:19.963Z"
   },
   {
    "duration": 17,
    "start_time": "2023-05-28T19:00:19.994Z"
   },
   {
    "duration": 32,
    "start_time": "2023-05-28T19:00:20.013Z"
   },
   {
    "duration": 20,
    "start_time": "2023-05-28T19:00:20.047Z"
   },
   {
    "duration": 26,
    "start_time": "2023-05-28T19:00:20.069Z"
   },
   {
    "duration": 23,
    "start_time": "2023-05-28T19:00:20.097Z"
   },
   {
    "duration": 30,
    "start_time": "2023-05-28T19:00:20.122Z"
   },
   {
    "duration": 13,
    "start_time": "2023-05-28T19:00:20.154Z"
   },
   {
    "duration": 26,
    "start_time": "2023-05-28T19:00:20.169Z"
   },
   {
    "duration": 14,
    "start_time": "2023-05-28T19:00:20.199Z"
   },
   {
    "duration": 18,
    "start_time": "2023-05-28T19:00:20.214Z"
   },
   {
    "duration": 17,
    "start_time": "2023-05-28T19:00:20.233Z"
   },
   {
    "duration": 11,
    "start_time": "2023-05-28T19:00:20.251Z"
   },
   {
    "duration": 28,
    "start_time": "2023-05-28T19:00:20.263Z"
   },
   {
    "duration": 11,
    "start_time": "2023-05-28T19:00:20.292Z"
   },
   {
    "duration": 13,
    "start_time": "2023-05-28T19:00:20.304Z"
   },
   {
    "duration": 386,
    "start_time": "2023-05-28T19:00:20.319Z"
   },
   {
    "duration": 5,
    "start_time": "2023-05-28T19:00:20.707Z"
   },
   {
    "duration": 130,
    "start_time": "2023-05-28T19:00:20.713Z"
   },
   {
    "duration": 7,
    "start_time": "2023-05-28T19:00:20.844Z"
   },
   {
    "duration": 145,
    "start_time": "2023-05-28T19:00:20.852Z"
   },
   {
    "duration": 6,
    "start_time": "2023-05-28T19:00:20.998Z"
   },
   {
    "duration": 26,
    "start_time": "2023-05-28T19:00:21.005Z"
   },
   {
    "duration": 262,
    "start_time": "2023-05-28T19:00:21.032Z"
   },
   {
    "duration": 4,
    "start_time": "2023-05-28T19:00:21.295Z"
   },
   {
    "duration": 239,
    "start_time": "2023-05-28T19:00:21.300Z"
   },
   {
    "duration": 7,
    "start_time": "2023-05-28T19:00:21.540Z"
   },
   {
    "duration": 16,
    "start_time": "2023-05-28T19:00:21.548Z"
   },
   {
    "duration": 30,
    "start_time": "2023-05-28T19:00:21.565Z"
   },
   {
    "duration": 14,
    "start_time": "2023-05-28T19:00:21.597Z"
   },
   {
    "duration": 243,
    "start_time": "2023-05-28T19:00:21.613Z"
   },
   {
    "duration": 184,
    "start_time": "2023-05-28T19:00:21.857Z"
   },
   {
    "duration": 224,
    "start_time": "2023-05-28T19:00:22.043Z"
   },
   {
    "duration": 190,
    "start_time": "2023-05-28T19:00:22.269Z"
   },
   {
    "duration": 8,
    "start_time": "2023-05-28T19:00:22.460Z"
   },
   {
    "duration": 32,
    "start_time": "2023-05-28T19:00:22.481Z"
   },
   {
    "duration": 4,
    "start_time": "2023-05-28T19:00:22.516Z"
   },
   {
    "duration": 10,
    "start_time": "2023-05-28T19:00:22.522Z"
   },
   {
    "duration": 2,
    "start_time": "2023-05-28T19:00:22.534Z"
   },
   {
    "duration": 13,
    "start_time": "2023-05-28T19:00:22.537Z"
   },
   {
    "duration": 183,
    "start_time": "2023-05-28T19:00:22.552Z"
   },
   {
    "duration": 487,
    "start_time": "2023-05-28T19:00:22.737Z"
   },
   {
    "duration": 6,
    "start_time": "2023-05-28T19:00:23.226Z"
   },
   {
    "duration": 12,
    "start_time": "2023-05-28T19:00:23.233Z"
   },
   {
    "duration": 14,
    "start_time": "2023-05-28T19:00:23.246Z"
   },
   {
    "duration": 15,
    "start_time": "2023-05-28T19:00:23.261Z"
   },
   {
    "duration": 30,
    "start_time": "2023-05-28T19:00:23.277Z"
   },
   {
    "duration": 6,
    "start_time": "2023-05-28T19:00:23.308Z"
   },
   {
    "duration": 17,
    "start_time": "2023-05-28T19:00:23.316Z"
   },
   {
    "duration": 16,
    "start_time": "2023-05-28T19:00:23.334Z"
   },
   {
    "duration": 70,
    "start_time": "2023-05-28T19:00:23.352Z"
   },
   {
    "duration": 399,
    "start_time": "2023-05-28T19:00:23.424Z"
   },
   {
    "duration": 6,
    "start_time": "2023-05-28T19:00:23.824Z"
   },
   {
    "duration": 384,
    "start_time": "2023-05-28T19:01:25.010Z"
   },
   {
    "duration": 65,
    "start_time": "2023-05-28T19:01:25.396Z"
   },
   {
    "duration": 14,
    "start_time": "2023-05-28T19:01:25.463Z"
   },
   {
    "duration": 21,
    "start_time": "2023-05-28T19:01:25.479Z"
   },
   {
    "duration": 7,
    "start_time": "2023-05-28T19:01:25.502Z"
   },
   {
    "duration": 16,
    "start_time": "2023-05-28T19:01:25.511Z"
   },
   {
    "duration": 7,
    "start_time": "2023-05-28T19:01:25.528Z"
   },
   {
    "duration": 17,
    "start_time": "2023-05-28T19:01:25.536Z"
   },
   {
    "duration": 33,
    "start_time": "2023-05-28T19:01:25.554Z"
   },
   {
    "duration": 17,
    "start_time": "2023-05-28T19:01:25.589Z"
   },
   {
    "duration": 26,
    "start_time": "2023-05-28T19:01:25.608Z"
   },
   {
    "duration": 38,
    "start_time": "2023-05-28T19:01:25.635Z"
   },
   {
    "duration": 11,
    "start_time": "2023-05-28T19:01:25.674Z"
   },
   {
    "duration": 17,
    "start_time": "2023-05-28T19:01:25.686Z"
   },
   {
    "duration": 9,
    "start_time": "2023-05-28T19:01:25.705Z"
   },
   {
    "duration": 17,
    "start_time": "2023-05-28T19:01:25.715Z"
   },
   {
    "duration": 21,
    "start_time": "2023-05-28T19:01:25.734Z"
   },
   {
    "duration": 5,
    "start_time": "2023-05-28T19:01:25.756Z"
   },
   {
    "duration": 28,
    "start_time": "2023-05-28T19:01:25.762Z"
   },
   {
    "duration": 18,
    "start_time": "2023-05-28T19:01:25.791Z"
   },
   {
    "duration": 369,
    "start_time": "2023-05-28T19:01:25.811Z"
   },
   {
    "duration": 5,
    "start_time": "2023-05-28T19:01:26.182Z"
   },
   {
    "duration": 125,
    "start_time": "2023-05-28T19:01:26.188Z"
   },
   {
    "duration": 5,
    "start_time": "2023-05-28T19:01:26.315Z"
   },
   {
    "duration": 144,
    "start_time": "2023-05-28T19:01:26.322Z"
   },
   {
    "duration": 13,
    "start_time": "2023-05-28T19:01:26.468Z"
   },
   {
    "duration": 17,
    "start_time": "2023-05-28T19:01:26.483Z"
   },
   {
    "duration": 276,
    "start_time": "2023-05-28T19:01:26.504Z"
   },
   {
    "duration": 4,
    "start_time": "2023-05-28T19:01:26.782Z"
   },
   {
    "duration": 243,
    "start_time": "2023-05-28T19:01:26.787Z"
   },
   {
    "duration": 7,
    "start_time": "2023-05-28T19:01:27.032Z"
   },
   {
    "duration": 19,
    "start_time": "2023-05-28T19:01:27.040Z"
   },
   {
    "duration": 30,
    "start_time": "2023-05-28T19:01:27.061Z"
   },
   {
    "duration": 14,
    "start_time": "2023-05-28T19:01:27.093Z"
   },
   {
    "duration": 266,
    "start_time": "2023-05-28T19:01:27.109Z"
   },
   {
    "duration": 219,
    "start_time": "2023-05-28T19:01:27.378Z"
   },
   {
    "duration": 225,
    "start_time": "2023-05-28T19:01:27.599Z"
   },
   {
    "duration": 194,
    "start_time": "2023-05-28T19:01:27.826Z"
   },
   {
    "duration": 9,
    "start_time": "2023-05-28T19:01:28.022Z"
   },
   {
    "duration": 25,
    "start_time": "2023-05-28T19:01:28.033Z"
   },
   {
    "duration": 20,
    "start_time": "2023-05-28T19:01:28.060Z"
   },
   {
    "duration": 10,
    "start_time": "2023-05-28T19:01:28.082Z"
   },
   {
    "duration": 3,
    "start_time": "2023-05-28T19:01:28.094Z"
   },
   {
    "duration": 13,
    "start_time": "2023-05-28T19:01:28.099Z"
   },
   {
    "duration": 191,
    "start_time": "2023-05-28T19:01:28.113Z"
   },
   {
    "duration": 444,
    "start_time": "2023-05-28T19:01:28.306Z"
   },
   {
    "duration": 6,
    "start_time": "2023-05-28T19:01:28.752Z"
   },
   {
    "duration": 6,
    "start_time": "2023-05-28T19:01:28.759Z"
   },
   {
    "duration": 9,
    "start_time": "2023-05-28T19:01:28.777Z"
   },
   {
    "duration": 16,
    "start_time": "2023-05-28T19:01:28.788Z"
   },
   {
    "duration": 24,
    "start_time": "2023-05-28T19:01:28.805Z"
   },
   {
    "duration": 12,
    "start_time": "2023-05-28T19:01:28.832Z"
   },
   {
    "duration": 14,
    "start_time": "2023-05-28T19:01:28.846Z"
   },
   {
    "duration": 13,
    "start_time": "2023-05-28T19:01:28.862Z"
   },
   {
    "duration": 56,
    "start_time": "2023-05-28T19:01:28.876Z"
   },
   {
    "duration": 353,
    "start_time": "2023-05-28T19:01:28.934Z"
   },
   {
    "duration": 5,
    "start_time": "2023-05-28T19:01:29.289Z"
   },
   {
    "duration": 15,
    "start_time": "2023-05-28T19:01:29.296Z"
   },
   {
    "duration": 89,
    "start_time": "2023-05-28T19:01:51.795Z"
   },
   {
    "duration": 112,
    "start_time": "2023-05-28T19:03:15.372Z"
   },
   {
    "duration": 119,
    "start_time": "2023-05-28T19:03:50.075Z"
   },
   {
    "duration": 108,
    "start_time": "2023-05-28T19:04:05.326Z"
   },
   {
    "duration": 5,
    "start_time": "2023-05-28T19:04:08.012Z"
   },
   {
    "duration": 8,
    "start_time": "2023-05-28T19:04:52.188Z"
   },
   {
    "duration": 10,
    "start_time": "2023-05-28T19:09:16.445Z"
   },
   {
    "duration": 108,
    "start_time": "2023-05-28T19:14:29.611Z"
   },
   {
    "duration": 394,
    "start_time": "2023-05-28T21:34:51.708Z"
   },
   {
    "duration": 352,
    "start_time": "2023-05-28T21:34:52.103Z"
   },
   {
    "duration": 20,
    "start_time": "2023-05-28T21:34:52.459Z"
   },
   {
    "duration": 28,
    "start_time": "2023-05-28T21:34:52.485Z"
   },
   {
    "duration": 16,
    "start_time": "2023-05-28T21:34:52.515Z"
   },
   {
    "duration": 8,
    "start_time": "2023-05-28T21:34:52.532Z"
   },
   {
    "duration": 9,
    "start_time": "2023-05-28T21:34:52.542Z"
   },
   {
    "duration": 20,
    "start_time": "2023-05-28T21:34:52.553Z"
   },
   {
    "duration": 8,
    "start_time": "2023-05-28T21:34:52.575Z"
   },
   {
    "duration": 24,
    "start_time": "2023-05-28T21:34:52.656Z"
   },
   {
    "duration": 12,
    "start_time": "2023-05-28T21:34:52.682Z"
   },
   {
    "duration": 19,
    "start_time": "2023-05-28T21:34:52.695Z"
   },
   {
    "duration": 13,
    "start_time": "2023-05-28T21:34:52.716Z"
   },
   {
    "duration": 6,
    "start_time": "2023-05-28T21:34:52.731Z"
   },
   {
    "duration": 25,
    "start_time": "2023-05-28T21:34:52.738Z"
   },
   {
    "duration": 18,
    "start_time": "2023-05-28T21:34:52.767Z"
   },
   {
    "duration": 460,
    "start_time": "2023-05-28T21:34:52.793Z"
   },
   {
    "duration": 17,
    "start_time": "2023-05-28T21:34:53.256Z"
   },
   {
    "duration": 151,
    "start_time": "2023-05-28T21:34:53.274Z"
   },
   {
    "duration": 6,
    "start_time": "2023-05-28T21:34:53.427Z"
   },
   {
    "duration": 173,
    "start_time": "2023-05-28T21:34:53.435Z"
   },
   {
    "duration": 7,
    "start_time": "2023-05-28T21:34:53.609Z"
   },
   {
    "duration": 11,
    "start_time": "2023-05-28T21:34:53.619Z"
   },
   {
    "duration": 316,
    "start_time": "2023-05-28T21:34:53.659Z"
   },
   {
    "duration": 6,
    "start_time": "2023-05-28T21:34:53.981Z"
   },
   {
    "duration": 313,
    "start_time": "2023-05-28T21:34:53.990Z"
   },
   {
    "duration": 10,
    "start_time": "2023-05-28T21:34:54.306Z"
   },
   {
    "duration": 26,
    "start_time": "2023-05-28T21:34:54.318Z"
   },
   {
    "duration": 37,
    "start_time": "2023-05-28T21:34:54.346Z"
   },
   {
    "duration": 24,
    "start_time": "2023-05-28T21:34:54.384Z"
   },
   {
    "duration": 407,
    "start_time": "2023-05-28T21:34:54.410Z"
   },
   {
    "duration": 211,
    "start_time": "2023-05-28T21:34:54.819Z"
   },
   {
    "duration": 364,
    "start_time": "2023-05-28T21:34:55.032Z"
   },
   {
    "duration": 228,
    "start_time": "2023-05-28T21:34:55.401Z"
   },
   {
    "duration": 13,
    "start_time": "2023-05-28T21:34:55.631Z"
   },
   {
    "duration": 47,
    "start_time": "2023-05-28T21:34:55.646Z"
   },
   {
    "duration": 7,
    "start_time": "2023-05-28T21:34:55.694Z"
   },
   {
    "duration": 26,
    "start_time": "2023-05-28T21:34:55.703Z"
   },
   {
    "duration": 3,
    "start_time": "2023-05-28T21:34:55.731Z"
   },
   {
    "duration": 41,
    "start_time": "2023-05-28T21:34:55.737Z"
   },
   {
    "duration": 210,
    "start_time": "2023-05-28T21:34:55.779Z"
   },
   {
    "duration": 525,
    "start_time": "2023-05-28T21:34:55.991Z"
   },
   {
    "duration": 6,
    "start_time": "2023-05-28T21:34:56.518Z"
   },
   {
    "duration": 7,
    "start_time": "2023-05-28T21:34:56.525Z"
   },
   {
    "duration": 25,
    "start_time": "2023-05-28T21:34:56.534Z"
   },
   {
    "duration": 41,
    "start_time": "2023-05-28T21:34:56.560Z"
   },
   {
    "duration": 12,
    "start_time": "2023-05-28T21:34:56.605Z"
   },
   {
    "duration": 20,
    "start_time": "2023-05-28T21:34:56.619Z"
   },
   {
    "duration": 7,
    "start_time": "2023-05-28T21:34:56.640Z"
   },
   {
    "duration": 27,
    "start_time": "2023-05-28T21:34:56.649Z"
   },
   {
    "duration": 77,
    "start_time": "2023-05-28T21:34:56.681Z"
   },
   {
    "duration": 546,
    "start_time": "2023-05-28T21:34:56.760Z"
   },
   {
    "duration": 7,
    "start_time": "2023-05-28T21:34:57.308Z"
   },
   {
    "duration": 244,
    "start_time": "2023-05-28T21:34:57.317Z"
   },
   {
    "duration": 414,
    "start_time": "2023-05-28T21:36:50.994Z"
   },
   {
    "duration": 85,
    "start_time": "2023-05-28T21:36:51.410Z"
   },
   {
    "duration": 17,
    "start_time": "2023-05-28T21:36:51.497Z"
   },
   {
    "duration": 10,
    "start_time": "2023-05-28T21:36:51.517Z"
   },
   {
    "duration": 17,
    "start_time": "2023-05-28T21:36:51.529Z"
   },
   {
    "duration": 11,
    "start_time": "2023-05-28T21:36:51.548Z"
   },
   {
    "duration": 9,
    "start_time": "2023-05-28T21:36:51.579Z"
   },
   {
    "duration": 18,
    "start_time": "2023-05-28T21:36:51.589Z"
   },
   {
    "duration": 8,
    "start_time": "2023-05-28T21:36:51.609Z"
   },
   {
    "duration": 18,
    "start_time": "2023-05-28T21:36:51.620Z"
   },
   {
    "duration": 24,
    "start_time": "2023-05-28T21:36:51.641Z"
   },
   {
    "duration": 29,
    "start_time": "2023-05-28T21:36:51.667Z"
   },
   {
    "duration": 7,
    "start_time": "2023-05-28T21:36:51.702Z"
   },
   {
    "duration": 13,
    "start_time": "2023-05-28T21:36:51.712Z"
   },
   {
    "duration": 11,
    "start_time": "2023-05-28T21:36:51.727Z"
   },
   {
    "duration": 12,
    "start_time": "2023-05-28T21:36:51.739Z"
   },
   {
    "duration": 16,
    "start_time": "2023-05-28T21:36:51.752Z"
   },
   {
    "duration": 24,
    "start_time": "2023-05-28T21:36:51.769Z"
   },
   {
    "duration": 19,
    "start_time": "2023-05-28T21:36:51.795Z"
   },
   {
    "duration": 8,
    "start_time": "2023-05-28T21:36:51.816Z"
   },
   {
    "duration": 574,
    "start_time": "2023-05-28T21:36:51.825Z"
   },
   {
    "duration": 6,
    "start_time": "2023-05-28T21:36:52.401Z"
   },
   {
    "duration": 157,
    "start_time": "2023-05-28T21:36:52.409Z"
   },
   {
    "duration": 12,
    "start_time": "2023-05-28T21:36:52.569Z"
   },
   {
    "duration": 163,
    "start_time": "2023-05-28T21:36:52.586Z"
   },
   {
    "duration": 15,
    "start_time": "2023-05-28T21:36:52.752Z"
   },
   {
    "duration": 25,
    "start_time": "2023-05-28T21:36:52.771Z"
   },
   {
    "duration": 302,
    "start_time": "2023-05-28T21:36:52.800Z"
   },
   {
    "duration": 6,
    "start_time": "2023-05-28T21:36:53.105Z"
   },
   {
    "duration": 285,
    "start_time": "2023-05-28T21:36:53.113Z"
   },
   {
    "duration": 9,
    "start_time": "2023-05-28T21:36:53.400Z"
   },
   {
    "duration": 28,
    "start_time": "2023-05-28T21:36:53.412Z"
   },
   {
    "duration": 43,
    "start_time": "2023-05-28T21:36:53.442Z"
   },
   {
    "duration": 17,
    "start_time": "2023-05-28T21:36:53.487Z"
   },
   {
    "duration": 292,
    "start_time": "2023-05-28T21:36:53.506Z"
   },
   {
    "duration": 237,
    "start_time": "2023-05-28T21:36:53.800Z"
   },
   {
    "duration": 373,
    "start_time": "2023-05-28T21:36:54.039Z"
   },
   {
    "duration": 233,
    "start_time": "2023-05-28T21:36:54.414Z"
   },
   {
    "duration": 24,
    "start_time": "2023-05-28T21:36:54.649Z"
   },
   {
    "duration": 35,
    "start_time": "2023-05-28T21:36:54.685Z"
   },
   {
    "duration": 17,
    "start_time": "2023-05-28T21:36:54.722Z"
   },
   {
    "duration": 13,
    "start_time": "2023-05-28T21:36:54.741Z"
   },
   {
    "duration": 6,
    "start_time": "2023-05-28T21:36:54.757Z"
   },
   {
    "duration": 29,
    "start_time": "2023-05-28T21:36:54.764Z"
   },
   {
    "duration": 201,
    "start_time": "2023-05-28T21:36:54.797Z"
   },
   {
    "duration": 1006,
    "start_time": "2023-05-28T21:36:55.000Z"
   },
   {
    "duration": 57,
    "start_time": "2023-05-28T21:36:56.008Z"
   },
   {
    "duration": 15,
    "start_time": "2023-05-28T21:36:56.067Z"
   },
   {
    "duration": 16,
    "start_time": "2023-05-28T21:36:56.087Z"
   },
   {
    "duration": 7,
    "start_time": "2023-05-28T21:36:56.105Z"
   },
   {
    "duration": 67,
    "start_time": "2023-05-28T21:36:56.115Z"
   },
   {
    "duration": 14,
    "start_time": "2023-05-28T21:36:56.183Z"
   },
   {
    "duration": 9,
    "start_time": "2023-05-28T21:36:56.201Z"
   },
   {
    "duration": 60,
    "start_time": "2023-05-28T21:36:56.212Z"
   },
   {
    "duration": 205,
    "start_time": "2023-05-28T21:36:56.274Z"
   },
   {
    "duration": 1124,
    "start_time": "2023-05-28T21:36:56.482Z"
   },
   {
    "duration": 6,
    "start_time": "2023-05-28T21:36:57.608Z"
   },
   {
    "duration": 280,
    "start_time": "2023-05-28T21:36:57.616Z"
   },
   {
    "duration": 6,
    "start_time": "2023-05-28T21:41:19.389Z"
   },
   {
    "duration": 7,
    "start_time": "2023-05-28T21:41:24.015Z"
   },
   {
    "duration": 405,
    "start_time": "2023-05-30T22:43:25.720Z"
   },
   {
    "duration": 244,
    "start_time": "2023-05-30T22:43:26.127Z"
   },
   {
    "duration": 12,
    "start_time": "2023-05-30T22:43:26.373Z"
   },
   {
    "duration": 23,
    "start_time": "2023-05-30T22:43:26.387Z"
   },
   {
    "duration": 24,
    "start_time": "2023-05-30T22:43:26.411Z"
   },
   {
    "duration": 26,
    "start_time": "2023-05-30T22:43:26.437Z"
   },
   {
    "duration": 41,
    "start_time": "2023-05-30T22:43:26.464Z"
   },
   {
    "duration": 41,
    "start_time": "2023-05-30T22:43:26.507Z"
   },
   {
    "duration": 38,
    "start_time": "2023-05-30T22:43:26.550Z"
   },
   {
    "duration": 34,
    "start_time": "2023-05-30T22:43:26.590Z"
   },
   {
    "duration": 35,
    "start_time": "2023-05-30T22:43:26.626Z"
   },
   {
    "duration": 31,
    "start_time": "2023-05-30T22:43:26.663Z"
   },
   {
    "duration": 23,
    "start_time": "2023-05-30T22:43:26.695Z"
   },
   {
    "duration": 30,
    "start_time": "2023-05-30T22:43:26.719Z"
   },
   {
    "duration": 22,
    "start_time": "2023-05-30T22:43:26.751Z"
   },
   {
    "duration": 32,
    "start_time": "2023-05-30T22:43:26.774Z"
   },
   {
    "duration": 45,
    "start_time": "2023-05-30T22:43:26.807Z"
   },
   {
    "duration": 26,
    "start_time": "2023-05-30T22:43:26.854Z"
   },
   {
    "duration": 38,
    "start_time": "2023-05-30T22:43:26.882Z"
   },
   {
    "duration": 25,
    "start_time": "2023-05-30T22:43:26.922Z"
   },
   {
    "duration": 385,
    "start_time": "2023-05-30T22:43:26.949Z"
   },
   {
    "duration": 6,
    "start_time": "2023-05-30T22:43:27.336Z"
   },
   {
    "duration": 131,
    "start_time": "2023-05-30T22:43:27.343Z"
   },
   {
    "duration": 7,
    "start_time": "2023-05-30T22:43:27.476Z"
   },
   {
    "duration": 132,
    "start_time": "2023-05-30T22:43:27.484Z"
   },
   {
    "duration": 7,
    "start_time": "2023-05-30T22:43:27.624Z"
   },
   {
    "duration": 33,
    "start_time": "2023-05-30T22:43:27.632Z"
   },
   {
    "duration": 280,
    "start_time": "2023-05-30T22:43:27.668Z"
   },
   {
    "duration": 5,
    "start_time": "2023-05-30T22:43:27.949Z"
   },
   {
    "duration": 244,
    "start_time": "2023-05-30T22:43:27.956Z"
   },
   {
    "duration": 114,
    "start_time": "2023-05-30T22:43:28.202Z"
   },
   {
    "duration": 7,
    "start_time": "2023-05-30T22:43:28.325Z"
   },
   {
    "duration": 22,
    "start_time": "2023-05-30T22:43:28.333Z"
   },
   {
    "duration": 33,
    "start_time": "2023-05-30T22:43:28.356Z"
   },
   {
    "duration": 4,
    "start_time": "2023-05-30T22:43:28.390Z"
   },
   {
    "duration": 32,
    "start_time": "2023-05-30T22:43:28.395Z"
   },
   {
    "duration": 17,
    "start_time": "2023-05-30T22:43:28.429Z"
   },
   {
    "duration": 261,
    "start_time": "2023-05-30T22:43:28.447Z"
   },
   {
    "duration": 196,
    "start_time": "2023-05-30T22:43:28.709Z"
   },
   {
    "duration": 234,
    "start_time": "2023-05-30T22:43:28.906Z"
   },
   {
    "duration": 216,
    "start_time": "2023-05-30T22:43:29.142Z"
   },
   {
    "duration": 10,
    "start_time": "2023-05-30T22:43:29.360Z"
   },
   {
    "duration": 37,
    "start_time": "2023-05-30T22:43:29.372Z"
   },
   {
    "duration": 16,
    "start_time": "2023-05-30T22:43:29.411Z"
   },
   {
    "duration": 19,
    "start_time": "2023-05-30T22:43:29.429Z"
   },
   {
    "duration": 378,
    "start_time": "2023-05-30T22:43:29.450Z"
   },
   {
    "duration": 0,
    "start_time": "2023-05-30T22:43:29.830Z"
   },
   {
    "duration": 0,
    "start_time": "2023-05-30T22:43:29.831Z"
   },
   {
    "duration": 0,
    "start_time": "2023-05-30T22:43:29.832Z"
   },
   {
    "duration": 0,
    "start_time": "2023-05-30T22:43:29.834Z"
   },
   {
    "duration": 0,
    "start_time": "2023-05-30T22:43:29.835Z"
   },
   {
    "duration": 0,
    "start_time": "2023-05-30T22:43:29.837Z"
   },
   {
    "duration": 0,
    "start_time": "2023-05-30T22:43:29.838Z"
   },
   {
    "duration": 0,
    "start_time": "2023-05-30T22:43:29.839Z"
   },
   {
    "duration": 0,
    "start_time": "2023-05-30T22:43:29.840Z"
   },
   {
    "duration": 0,
    "start_time": "2023-05-30T22:43:29.842Z"
   },
   {
    "duration": 0,
    "start_time": "2023-05-30T22:43:29.843Z"
   },
   {
    "duration": 0,
    "start_time": "2023-05-30T22:43:29.845Z"
   },
   {
    "duration": 0,
    "start_time": "2023-05-30T22:43:29.846Z"
   },
   {
    "duration": 0,
    "start_time": "2023-05-30T22:43:29.847Z"
   },
   {
    "duration": 0,
    "start_time": "2023-05-30T22:43:29.848Z"
   },
   {
    "duration": 0,
    "start_time": "2023-05-30T22:43:29.850Z"
   },
   {
    "duration": 0,
    "start_time": "2023-05-30T22:43:29.851Z"
   },
   {
    "duration": 50,
    "start_time": "2023-05-31T08:25:07.497Z"
   },
   {
    "duration": 413,
    "start_time": "2023-05-31T08:25:15.754Z"
   },
   {
    "duration": 106,
    "start_time": "2023-05-31T08:25:16.169Z"
   },
   {
    "duration": 0,
    "start_time": "2023-05-31T08:25:16.277Z"
   },
   {
    "duration": 0,
    "start_time": "2023-05-31T08:25:16.278Z"
   },
   {
    "duration": 0,
    "start_time": "2023-05-31T08:25:16.279Z"
   },
   {
    "duration": 0,
    "start_time": "2023-05-31T08:25:16.280Z"
   },
   {
    "duration": 0,
    "start_time": "2023-05-31T08:25:16.281Z"
   },
   {
    "duration": 0,
    "start_time": "2023-05-31T08:25:16.282Z"
   },
   {
    "duration": 8,
    "start_time": "2023-05-31T08:25:18.213Z"
   },
   {
    "duration": 0,
    "start_time": "2023-05-31T08:25:18.225Z"
   },
   {
    "duration": 0,
    "start_time": "2023-05-31T08:25:18.226Z"
   },
   {
    "duration": 0,
    "start_time": "2023-05-31T08:25:18.227Z"
   },
   {
    "duration": 0,
    "start_time": "2023-05-31T08:25:18.229Z"
   },
   {
    "duration": 0,
    "start_time": "2023-05-31T08:25:18.230Z"
   },
   {
    "duration": 0,
    "start_time": "2023-05-31T08:25:18.234Z"
   },
   {
    "duration": 0,
    "start_time": "2023-05-31T08:25:18.235Z"
   },
   {
    "duration": 0,
    "start_time": "2023-05-31T08:25:18.237Z"
   },
   {
    "duration": 0,
    "start_time": "2023-05-31T08:25:18.239Z"
   },
   {
    "duration": 0,
    "start_time": "2023-05-31T08:25:18.240Z"
   },
   {
    "duration": 0,
    "start_time": "2023-05-31T08:25:18.241Z"
   },
   {
    "duration": 0,
    "start_time": "2023-05-31T08:25:18.242Z"
   },
   {
    "duration": 0,
    "start_time": "2023-05-31T08:25:18.243Z"
   },
   {
    "duration": 0,
    "start_time": "2023-05-31T08:25:18.244Z"
   },
   {
    "duration": 0,
    "start_time": "2023-05-31T08:25:18.245Z"
   },
   {
    "duration": 0,
    "start_time": "2023-05-31T08:25:18.247Z"
   },
   {
    "duration": 0,
    "start_time": "2023-05-31T08:25:18.248Z"
   },
   {
    "duration": 0,
    "start_time": "2023-05-31T08:25:18.249Z"
   },
   {
    "duration": 0,
    "start_time": "2023-05-31T08:25:18.250Z"
   },
   {
    "duration": 0,
    "start_time": "2023-05-31T08:25:18.251Z"
   },
   {
    "duration": 0,
    "start_time": "2023-05-31T08:25:18.252Z"
   },
   {
    "duration": 0,
    "start_time": "2023-05-31T08:25:18.253Z"
   },
   {
    "duration": 0,
    "start_time": "2023-05-31T08:25:18.254Z"
   },
   {
    "duration": 0,
    "start_time": "2023-05-31T08:25:18.255Z"
   },
   {
    "duration": 0,
    "start_time": "2023-05-31T08:25:18.256Z"
   },
   {
    "duration": 0,
    "start_time": "2023-05-31T08:25:18.257Z"
   },
   {
    "duration": 0,
    "start_time": "2023-05-31T08:25:18.258Z"
   },
   {
    "duration": 0,
    "start_time": "2023-05-31T08:25:18.259Z"
   },
   {
    "duration": 0,
    "start_time": "2023-05-31T08:25:18.261Z"
   },
   {
    "duration": 0,
    "start_time": "2023-05-31T08:25:18.262Z"
   },
   {
    "duration": 0,
    "start_time": "2023-05-31T08:25:18.264Z"
   },
   {
    "duration": 0,
    "start_time": "2023-05-31T08:25:18.265Z"
   },
   {
    "duration": 0,
    "start_time": "2023-05-31T08:25:18.266Z"
   },
   {
    "duration": 0,
    "start_time": "2023-05-31T08:25:18.267Z"
   },
   {
    "duration": 0,
    "start_time": "2023-05-31T08:25:18.268Z"
   },
   {
    "duration": 0,
    "start_time": "2023-05-31T08:25:18.269Z"
   },
   {
    "duration": 0,
    "start_time": "2023-05-31T08:25:18.270Z"
   },
   {
    "duration": 0,
    "start_time": "2023-05-31T08:25:18.271Z"
   },
   {
    "duration": 0,
    "start_time": "2023-05-31T08:25:18.274Z"
   },
   {
    "duration": 0,
    "start_time": "2023-05-31T08:25:18.275Z"
   },
   {
    "duration": 0,
    "start_time": "2023-05-31T08:25:18.277Z"
   },
   {
    "duration": 0,
    "start_time": "2023-05-31T08:25:18.278Z"
   },
   {
    "duration": 0,
    "start_time": "2023-05-31T08:25:18.279Z"
   },
   {
    "duration": 0,
    "start_time": "2023-05-31T08:25:18.281Z"
   },
   {
    "duration": 0,
    "start_time": "2023-05-31T08:25:18.282Z"
   },
   {
    "duration": 0,
    "start_time": "2023-05-31T08:25:18.283Z"
   },
   {
    "duration": 0,
    "start_time": "2023-05-31T08:25:18.284Z"
   },
   {
    "duration": 0,
    "start_time": "2023-05-31T08:25:18.285Z"
   },
   {
    "duration": 0,
    "start_time": "2023-05-31T08:25:18.286Z"
   },
   {
    "duration": 0,
    "start_time": "2023-05-31T08:25:18.287Z"
   },
   {
    "duration": 0,
    "start_time": "2023-05-31T08:25:18.289Z"
   },
   {
    "duration": 0,
    "start_time": "2023-05-31T08:25:18.290Z"
   },
   {
    "duration": 0,
    "start_time": "2023-05-31T08:25:18.351Z"
   },
   {
    "duration": 0,
    "start_time": "2023-05-31T08:25:18.352Z"
   },
   {
    "duration": 3,
    "start_time": "2023-05-31T08:25:18.547Z"
   },
   {
    "duration": 301,
    "start_time": "2023-05-31T08:25:51.538Z"
   },
   {
    "duration": 15,
    "start_time": "2023-05-31T08:25:53.502Z"
   },
   {
    "duration": 9,
    "start_time": "2023-05-31T08:25:53.893Z"
   },
   {
    "duration": 8,
    "start_time": "2023-05-31T08:25:54.613Z"
   },
   {
    "duration": 6,
    "start_time": "2023-05-31T08:25:56.038Z"
   },
   {
    "duration": 5,
    "start_time": "2023-05-31T08:25:56.241Z"
   },
   {
    "duration": 5,
    "start_time": "2023-05-31T08:25:56.453Z"
   },
   {
    "duration": 7,
    "start_time": "2023-05-31T08:25:56.783Z"
   },
   {
    "duration": 5,
    "start_time": "2023-05-31T08:25:57.005Z"
   },
   {
    "duration": 5,
    "start_time": "2023-05-31T08:25:57.440Z"
   },
   {
    "duration": 9,
    "start_time": "2023-05-31T08:25:57.726Z"
   },
   {
    "duration": 13,
    "start_time": "2023-05-31T08:25:59.493Z"
   },
   {
    "duration": 575,
    "start_time": "2023-05-31T08:26:07.490Z"
   },
   {
    "duration": 7,
    "start_time": "2023-05-31T08:27:03.278Z"
   },
   {
    "duration": 6,
    "start_time": "2023-05-31T08:27:04.832Z"
   },
   {
    "duration": 7,
    "start_time": "2023-05-31T08:27:17.574Z"
   },
   {
    "duration": 7,
    "start_time": "2023-05-31T08:27:17.836Z"
   },
   {
    "duration": 6,
    "start_time": "2023-05-31T08:27:18.111Z"
   },
   {
    "duration": 9,
    "start_time": "2023-05-31T08:27:19.258Z"
   },
   {
    "duration": 6,
    "start_time": "2023-05-31T08:27:19.440Z"
   },
   {
    "duration": 6,
    "start_time": "2023-05-31T08:27:19.718Z"
   },
   {
    "duration": 8,
    "start_time": "2023-05-31T08:27:19.883Z"
   },
   {
    "duration": 7,
    "start_time": "2023-05-31T08:27:20.301Z"
   },
   {
    "duration": 136,
    "start_time": "2023-05-31T08:27:24.574Z"
   },
   {
    "duration": 6,
    "start_time": "2023-05-31T08:27:25.208Z"
   },
   {
    "duration": 123,
    "start_time": "2023-05-31T08:27:26.034Z"
   },
   {
    "duration": 7,
    "start_time": "2023-05-31T08:27:26.386Z"
   },
   {
    "duration": 139,
    "start_time": "2023-05-31T08:27:27.882Z"
   },
   {
    "duration": 6,
    "start_time": "2023-05-31T08:27:28.192Z"
   },
   {
    "duration": 8,
    "start_time": "2023-05-31T08:27:29.141Z"
   },
   {
    "duration": 324,
    "start_time": "2023-05-31T08:27:31.032Z"
   },
   {
    "duration": 5,
    "start_time": "2023-05-31T08:27:34.460Z"
   },
   {
    "duration": 191,
    "start_time": "2023-05-31T08:27:34.694Z"
   },
   {
    "duration": 115,
    "start_time": "2023-05-31T08:27:39.560Z"
   },
   {
    "duration": 6,
    "start_time": "2023-05-31T08:27:44.632Z"
   },
   {
    "duration": 4,
    "start_time": "2023-05-31T08:27:47.900Z"
   },
   {
    "duration": 19,
    "start_time": "2023-05-31T08:27:50.360Z"
   },
   {
    "duration": 4,
    "start_time": "2023-05-31T08:27:50.636Z"
   },
   {
    "duration": 17,
    "start_time": "2023-05-31T08:28:13.807Z"
   },
   {
    "duration": 19,
    "start_time": "2023-05-31T08:28:14.044Z"
   },
   {
    "duration": 265,
    "start_time": "2023-05-31T08:28:45.512Z"
   },
   {
    "duration": 196,
    "start_time": "2023-05-31T08:32:38.393Z"
   },
   {
    "duration": 258,
    "start_time": "2023-05-31T08:32:39.333Z"
   },
   {
    "duration": 201,
    "start_time": "2023-05-31T08:32:39.715Z"
   },
   {
    "duration": 9,
    "start_time": "2023-05-31T08:32:42.821Z"
   },
   {
    "duration": 26,
    "start_time": "2023-05-31T08:32:44.541Z"
   },
   {
    "duration": 5,
    "start_time": "2023-05-31T08:32:46.469Z"
   },
   {
    "duration": 10,
    "start_time": "2023-05-31T08:32:46.753Z"
   },
   {
    "duration": 446,
    "start_time": "2023-05-31T08:32:48.682Z"
   },
   {
    "duration": 399,
    "start_time": "2023-05-31T08:35:32.191Z"
   },
   {
    "duration": 64,
    "start_time": "2023-05-31T08:35:32.592Z"
   },
   {
    "duration": 15,
    "start_time": "2023-05-31T08:35:32.657Z"
   },
   {
    "duration": 8,
    "start_time": "2023-05-31T08:35:32.674Z"
   },
   {
    "duration": 12,
    "start_time": "2023-05-31T08:35:32.684Z"
   },
   {
    "duration": 7,
    "start_time": "2023-05-31T08:35:32.698Z"
   },
   {
    "duration": 7,
    "start_time": "2023-05-31T08:35:32.707Z"
   },
   {
    "duration": 7,
    "start_time": "2023-05-31T08:35:32.715Z"
   },
   {
    "duration": 27,
    "start_time": "2023-05-31T08:35:32.723Z"
   },
   {
    "duration": 7,
    "start_time": "2023-05-31T08:35:32.753Z"
   },
   {
    "duration": 8,
    "start_time": "2023-05-31T08:35:32.762Z"
   },
   {
    "duration": 18,
    "start_time": "2023-05-31T08:35:32.772Z"
   },
   {
    "duration": 400,
    "start_time": "2023-05-31T08:35:32.792Z"
   },
   {
    "duration": 6,
    "start_time": "2023-05-31T08:35:33.194Z"
   },
   {
    "duration": 6,
    "start_time": "2023-05-31T08:35:33.202Z"
   },
   {
    "duration": 9,
    "start_time": "2023-05-31T08:35:33.209Z"
   },
   {
    "duration": 24,
    "start_time": "2023-05-31T08:35:33.220Z"
   },
   {
    "duration": 19,
    "start_time": "2023-05-31T08:35:33.249Z"
   },
   {
    "duration": 25,
    "start_time": "2023-05-31T08:35:33.270Z"
   },
   {
    "duration": 5,
    "start_time": "2023-05-31T08:35:33.297Z"
   },
   {
    "duration": 13,
    "start_time": "2023-05-31T08:35:33.303Z"
   },
   {
    "duration": 18,
    "start_time": "2023-05-31T08:35:33.317Z"
   },
   {
    "duration": 15,
    "start_time": "2023-05-31T08:35:33.337Z"
   },
   {
    "duration": 142,
    "start_time": "2023-05-31T08:35:33.354Z"
   },
   {
    "duration": 5,
    "start_time": "2023-05-31T08:35:33.498Z"
   },
   {
    "duration": 128,
    "start_time": "2023-05-31T08:35:33.505Z"
   },
   {
    "duration": 15,
    "start_time": "2023-05-31T08:35:33.635Z"
   },
   {
    "duration": 147,
    "start_time": "2023-05-31T08:35:33.654Z"
   },
   {
    "duration": 5,
    "start_time": "2023-05-31T08:35:33.803Z"
   },
   {
    "duration": 35,
    "start_time": "2023-05-31T08:35:33.810Z"
   },
   {
    "duration": 373,
    "start_time": "2023-05-31T08:35:33.846Z"
   },
   {
    "duration": 5,
    "start_time": "2023-05-31T08:35:34.220Z"
   },
   {
    "duration": 207,
    "start_time": "2023-05-31T08:35:34.228Z"
   },
   {
    "duration": 136,
    "start_time": "2023-05-31T08:35:34.437Z"
   },
   {
    "duration": 8,
    "start_time": "2023-05-31T08:35:34.574Z"
   },
   {
    "duration": 6,
    "start_time": "2023-05-31T08:35:34.584Z"
   },
   {
    "duration": 21,
    "start_time": "2023-05-31T08:35:34.592Z"
   },
   {
    "duration": 3,
    "start_time": "2023-05-31T08:35:34.615Z"
   },
   {
    "duration": 44,
    "start_time": "2023-05-31T08:35:34.620Z"
   },
   {
    "duration": 15,
    "start_time": "2023-05-31T08:35:34.665Z"
   },
   {
    "duration": 293,
    "start_time": "2023-05-31T08:35:34.682Z"
   },
   {
    "duration": 210,
    "start_time": "2023-05-31T08:35:34.977Z"
   },
   {
    "duration": 256,
    "start_time": "2023-05-31T08:35:35.189Z"
   },
   {
    "duration": 210,
    "start_time": "2023-05-31T08:35:35.446Z"
   },
   {
    "duration": 9,
    "start_time": "2023-05-31T08:35:35.658Z"
   },
   {
    "duration": 30,
    "start_time": "2023-05-31T08:35:35.668Z"
   },
   {
    "duration": 4,
    "start_time": "2023-05-31T08:35:35.700Z"
   },
   {
    "duration": 11,
    "start_time": "2023-05-31T08:35:35.706Z"
   },
   {
    "duration": 31,
    "start_time": "2023-05-31T08:35:35.719Z"
   },
   {
    "duration": 5,
    "start_time": "2023-05-31T08:35:35.752Z"
   },
   {
    "duration": 15,
    "start_time": "2023-05-31T08:35:35.759Z"
   },
   {
    "duration": 204,
    "start_time": "2023-05-31T08:35:35.776Z"
   },
   {
    "duration": 474,
    "start_time": "2023-05-31T08:35:35.982Z"
   },
   {
    "duration": 7,
    "start_time": "2023-05-31T08:35:36.458Z"
   },
   {
    "duration": 6,
    "start_time": "2023-05-31T08:35:36.467Z"
   },
   {
    "duration": 11,
    "start_time": "2023-05-31T08:35:36.475Z"
   },
   {
    "duration": 4,
    "start_time": "2023-05-31T08:35:36.488Z"
   },
   {
    "duration": 10,
    "start_time": "2023-05-31T08:35:36.493Z"
   },
   {
    "duration": 6,
    "start_time": "2023-05-31T08:35:36.504Z"
   },
   {
    "duration": 41,
    "start_time": "2023-05-31T08:35:36.511Z"
   },
   {
    "duration": 7,
    "start_time": "2023-05-31T08:35:36.554Z"
   },
   {
    "duration": 2,
    "start_time": "2023-05-31T08:35:36.563Z"
   },
   {
    "duration": 66,
    "start_time": "2023-05-31T08:35:36.566Z"
   },
   {
    "duration": 389,
    "start_time": "2023-05-31T08:35:36.650Z"
   },
   {
    "duration": 11,
    "start_time": "2023-05-31T08:35:37.040Z"
   },
   {
    "duration": 7,
    "start_time": "2023-05-31T08:35:37.053Z"
   },
   {
    "duration": 442,
    "start_time": "2023-05-31T08:53:30.313Z"
   },
   {
    "duration": 66,
    "start_time": "2023-05-31T08:53:30.757Z"
   },
   {
    "duration": 16,
    "start_time": "2023-05-31T08:53:30.825Z"
   },
   {
    "duration": 41,
    "start_time": "2023-05-31T08:53:30.843Z"
   },
   {
    "duration": 41,
    "start_time": "2023-05-31T08:53:30.886Z"
   },
   {
    "duration": 37,
    "start_time": "2023-05-31T08:53:30.929Z"
   },
   {
    "duration": 38,
    "start_time": "2023-05-31T08:53:30.967Z"
   },
   {
    "duration": 40,
    "start_time": "2023-05-31T08:53:31.007Z"
   },
   {
    "duration": 50,
    "start_time": "2023-05-31T08:53:31.049Z"
   },
   {
    "duration": 22,
    "start_time": "2023-05-31T08:53:31.101Z"
   },
   {
    "duration": 39,
    "start_time": "2023-05-31T08:53:31.124Z"
   },
   {
    "duration": 40,
    "start_time": "2023-05-31T08:53:31.167Z"
   },
   {
    "duration": 442,
    "start_time": "2023-05-31T08:53:31.208Z"
   },
   {
    "duration": 6,
    "start_time": "2023-05-31T08:53:31.652Z"
   },
   {
    "duration": 23,
    "start_time": "2023-05-31T08:53:31.660Z"
   },
   {
    "duration": 35,
    "start_time": "2023-05-31T08:53:31.685Z"
   },
   {
    "duration": 19,
    "start_time": "2023-05-31T08:53:31.722Z"
   },
   {
    "duration": 26,
    "start_time": "2023-05-31T08:53:31.743Z"
   },
   {
    "duration": 29,
    "start_time": "2023-05-31T08:53:31.771Z"
   },
   {
    "duration": 52,
    "start_time": "2023-05-31T08:53:31.802Z"
   },
   {
    "duration": 26,
    "start_time": "2023-05-31T08:53:31.856Z"
   },
   {
    "duration": 27,
    "start_time": "2023-05-31T08:53:31.884Z"
   },
   {
    "duration": 26,
    "start_time": "2023-05-31T08:53:31.913Z"
   },
   {
    "duration": 155,
    "start_time": "2023-05-31T08:53:31.941Z"
   },
   {
    "duration": 5,
    "start_time": "2023-05-31T08:53:32.098Z"
   },
   {
    "duration": 149,
    "start_time": "2023-05-31T08:53:32.105Z"
   },
   {
    "duration": 7,
    "start_time": "2023-05-31T08:53:32.256Z"
   },
   {
    "duration": 163,
    "start_time": "2023-05-31T08:53:32.267Z"
   },
   {
    "duration": 20,
    "start_time": "2023-05-31T08:53:32.432Z"
   },
   {
    "duration": 20,
    "start_time": "2023-05-31T08:53:32.454Z"
   },
   {
    "duration": 361,
    "start_time": "2023-05-31T08:53:32.477Z"
   },
   {
    "duration": 11,
    "start_time": "2023-05-31T08:53:32.840Z"
   },
   {
    "duration": 242,
    "start_time": "2023-05-31T08:53:32.853Z"
   },
   {
    "duration": 130,
    "start_time": "2023-05-31T08:53:33.097Z"
   },
   {
    "duration": 7,
    "start_time": "2023-05-31T08:53:33.229Z"
   },
   {
    "duration": 16,
    "start_time": "2023-05-31T08:53:33.237Z"
   },
   {
    "duration": 25,
    "start_time": "2023-05-31T08:53:33.254Z"
   },
   {
    "duration": 4,
    "start_time": "2023-05-31T08:53:33.281Z"
   },
   {
    "duration": 36,
    "start_time": "2023-05-31T08:53:33.286Z"
   },
   {
    "duration": 35,
    "start_time": "2023-05-31T08:53:33.324Z"
   },
   {
    "duration": 283,
    "start_time": "2023-05-31T08:53:33.361Z"
   },
   {
    "duration": 788,
    "start_time": "2023-05-31T12:42:05.856Z"
   },
   {
    "duration": 283,
    "start_time": "2023-05-31T12:42:06.653Z"
   },
   {
    "duration": 34,
    "start_time": "2023-05-31T12:42:06.938Z"
   },
   {
    "duration": 45,
    "start_time": "2023-05-31T12:42:06.974Z"
   },
   {
    "duration": 19,
    "start_time": "2023-05-31T12:42:07.022Z"
   },
   {
    "duration": 66,
    "start_time": "2023-05-31T12:42:07.043Z"
   },
   {
    "duration": 9,
    "start_time": "2023-05-31T12:42:07.111Z"
   },
   {
    "duration": 10,
    "start_time": "2023-05-31T12:42:07.122Z"
   },
   {
    "duration": 11,
    "start_time": "2023-05-31T12:42:07.145Z"
   },
   {
    "duration": 52,
    "start_time": "2023-05-31T12:42:07.158Z"
   },
   {
    "duration": 8,
    "start_time": "2023-05-31T12:42:07.212Z"
   },
   {
    "duration": 67,
    "start_time": "2023-05-31T12:42:07.223Z"
   },
   {
    "duration": 1261,
    "start_time": "2023-05-31T12:42:07.295Z"
   },
   {
    "duration": 7,
    "start_time": "2023-05-31T12:42:08.561Z"
   },
   {
    "duration": 46,
    "start_time": "2023-05-31T12:42:08.570Z"
   },
   {
    "duration": 37,
    "start_time": "2023-05-31T12:42:08.619Z"
   },
   {
    "duration": 54,
    "start_time": "2023-05-31T12:42:08.658Z"
   },
   {
    "duration": 6,
    "start_time": "2023-05-31T12:42:08.715Z"
   },
   {
    "duration": 29,
    "start_time": "2023-05-31T12:42:08.724Z"
   },
   {
    "duration": 7,
    "start_time": "2023-05-31T12:42:08.755Z"
   },
   {
    "duration": 85,
    "start_time": "2023-05-31T12:42:08.764Z"
   },
   {
    "duration": 69,
    "start_time": "2023-05-31T12:42:08.852Z"
   },
   {
    "duration": 40,
    "start_time": "2023-05-31T12:42:08.923Z"
   },
   {
    "duration": 461,
    "start_time": "2023-05-31T12:42:08.965Z"
   },
   {
    "duration": 10,
    "start_time": "2023-05-31T12:42:09.449Z"
   },
   {
    "duration": 251,
    "start_time": "2023-05-31T12:42:09.461Z"
   },
   {
    "duration": 9,
    "start_time": "2023-05-31T12:42:09.714Z"
   },
   {
    "duration": 190,
    "start_time": "2023-05-31T12:42:09.725Z"
   },
   {
    "duration": 8,
    "start_time": "2023-05-31T12:42:09.917Z"
   },
   {
    "duration": 28,
    "start_time": "2023-05-31T12:42:09.928Z"
   },
   {
    "duration": 588,
    "start_time": "2023-05-31T12:42:09.958Z"
   },
   {
    "duration": 13,
    "start_time": "2023-05-31T12:42:10.548Z"
   },
   {
    "duration": 276,
    "start_time": "2023-05-31T12:42:10.563Z"
   },
   {
    "duration": 175,
    "start_time": "2023-05-31T12:42:10.840Z"
   },
   {
    "duration": 8,
    "start_time": "2023-05-31T12:42:11.017Z"
   },
   {
    "duration": 13,
    "start_time": "2023-05-31T12:42:11.027Z"
   },
   {
    "duration": 74,
    "start_time": "2023-05-31T12:42:11.042Z"
   },
   {
    "duration": 4,
    "start_time": "2023-05-31T12:42:11.117Z"
   },
   {
    "duration": 26,
    "start_time": "2023-05-31T12:42:11.123Z"
   },
   {
    "duration": 22,
    "start_time": "2023-05-31T12:42:11.153Z"
   },
   {
    "duration": 434,
    "start_time": "2023-05-31T12:42:11.180Z"
   },
   {
    "duration": 258,
    "start_time": "2023-05-31T12:42:11.616Z"
   },
   {
    "duration": 338,
    "start_time": "2023-05-31T12:42:11.877Z"
   },
   {
    "duration": 316,
    "start_time": "2023-05-31T12:42:12.217Z"
   },
   {
    "duration": 19,
    "start_time": "2023-05-31T12:42:12.536Z"
   },
   {
    "duration": 91,
    "start_time": "2023-05-31T12:42:12.557Z"
   },
   {
    "duration": 5,
    "start_time": "2023-05-31T12:42:12.659Z"
   },
   {
    "duration": 77,
    "start_time": "2023-05-31T12:42:12.666Z"
   },
   {
    "duration": 78,
    "start_time": "2023-05-31T12:42:12.746Z"
   },
   {
    "duration": 11,
    "start_time": "2023-05-31T12:42:12.827Z"
   },
   {
    "duration": 90,
    "start_time": "2023-05-31T12:42:12.841Z"
   },
   {
    "duration": 335,
    "start_time": "2023-05-31T12:42:12.934Z"
   },
   {
    "duration": 1601,
    "start_time": "2023-05-31T12:42:13.271Z"
   },
   {
    "duration": 8,
    "start_time": "2023-05-31T12:42:14.875Z"
   },
   {
    "duration": 26,
    "start_time": "2023-05-31T12:42:14.885Z"
   },
   {
    "duration": 18,
    "start_time": "2023-05-31T12:42:14.913Z"
   },
   {
    "duration": 47,
    "start_time": "2023-05-31T12:42:14.933Z"
   },
   {
    "duration": 74,
    "start_time": "2023-05-31T12:42:14.982Z"
   },
   {
    "duration": 65,
    "start_time": "2023-05-31T12:42:15.058Z"
   },
   {
    "duration": 89,
    "start_time": "2023-05-31T12:42:15.125Z"
   },
   {
    "duration": 87,
    "start_time": "2023-05-31T12:42:15.215Z"
   },
   {
    "duration": 74,
    "start_time": "2023-05-31T12:42:15.303Z"
   },
   {
    "duration": 118,
    "start_time": "2023-05-31T12:42:15.381Z"
   },
   {
    "duration": 506,
    "start_time": "2023-05-31T12:42:15.501Z"
   },
   {
    "duration": 7,
    "start_time": "2023-05-31T12:42:16.009Z"
   },
   {
    "duration": 21,
    "start_time": "2023-05-31T12:42:16.018Z"
   },
   {
    "duration": 20,
    "start_time": "2023-05-31T12:42:28.289Z"
   },
   {
    "duration": 173,
    "start_time": "2023-05-31T12:46:45.670Z"
   }
  ],
  "kernelspec": {
   "display_name": "Python 3 (ipykernel)",
   "language": "python",
   "name": "python3"
  },
  "language_info": {
   "codemirror_mode": {
    "name": "ipython",
    "version": 3
   },
   "file_extension": ".py",
   "mimetype": "text/x-python",
   "name": "python",
   "nbconvert_exporter": "python",
   "pygments_lexer": "ipython3",
   "version": "3.10.8"
  },
  "toc": {
   "base_numbering": 1,
   "nav_menu": {},
   "number_sections": true,
   "sideBar": true,
   "skip_h1_title": true,
   "title_cell": "Table of Contents",
   "title_sidebar": "Contents",
   "toc_cell": false,
   "toc_position": {
    "height": "221px",
    "left": "1034px",
    "top": "681.133px",
    "width": "370.4px"
   },
   "toc_section_display": true,
   "toc_window_display": true
  }
 },
 "nbformat": 4,
 "nbformat_minor": 5
}
