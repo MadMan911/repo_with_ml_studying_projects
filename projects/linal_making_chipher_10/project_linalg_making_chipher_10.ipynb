{
 "cells": [
  {
   "cell_type": "markdown",
   "metadata": {
    "toc": true
   },
   "source": [
    "<h1>Содержание<span class=\"tocSkip\"></span></h1>\n",
    "<div class=\"toc\"><ul class=\"toc-item\"><li><span><a href=\"#проведем-необходимые-импорты\" data-toc-modified-id=\"проведем-необходимые-импорты-1\"><span class=\"toc-item-num\">1&nbsp;&nbsp;</span>проведем необходимые импорты</a></span></li><li><span><a href=\"#Загрузка-данных\" data-toc-modified-id=\"Загрузка-данных-2\"><span class=\"toc-item-num\">2&nbsp;&nbsp;</span>Загрузка данных</a></span></li><li><span><a href=\"#Умножение-матриц\" data-toc-modified-id=\"Умножение-матриц-3\"><span class=\"toc-item-num\">3&nbsp;&nbsp;</span>Умножение матриц</a></span></li><li><span><a href=\"#Алгоритм-преобразования\" data-toc-modified-id=\"Алгоритм-преобразования-4\"><span class=\"toc-item-num\">4&nbsp;&nbsp;</span>Алгоритм преобразования</a></span></li><li><span><a href=\"#Проверка-алгоритма\" data-toc-modified-id=\"Проверка-алгоритма-5\"><span class=\"toc-item-num\">5&nbsp;&nbsp;</span>Проверка алгоритма</a></span><ul class=\"toc-item\"><li><span><a href=\"#Разделим-данные-на-обучающую-и-тестовую-выборки\" data-toc-modified-id=\"Разделим-данные-на-обучающую-и-тестовую-выборки-5.1\"><span class=\"toc-item-num\">5.1&nbsp;&nbsp;</span>Разделим данные на обучающую и тестовую выборки</a></span></li><li><span><a href=\"#обучаем-модель-на-обычных-данных\" data-toc-modified-id=\"обучаем-модель-на-обычных-данных-5.2\"><span class=\"toc-item-num\">5.2&nbsp;&nbsp;</span>обучаем модель на обычных данных</a></span></li><li><span><a href=\"#Обучаем-модель-на-зашифрованных-данных\" data-toc-modified-id=\"Обучаем-модель-на-зашифрованных-данных-5.3\"><span class=\"toc-item-num\">5.3&nbsp;&nbsp;</span>Обучаем модель на зашифрованных данных</a></span></li><li><span><a href=\"#Сравним-результаты\" data-toc-modified-id=\"Сравним-результаты-5.4\"><span class=\"toc-item-num\">5.4&nbsp;&nbsp;</span>Сравним результаты</a></span></li></ul></li><li><span><a href=\"#Подведем-итоги\" data-toc-modified-id=\"Подведем-итоги-6\"><span class=\"toc-item-num\">6&nbsp;&nbsp;</span>Подведем итоги</a></span></li><li><span><a href=\"#Чек-лист-проверки\" data-toc-modified-id=\"Чек-лист-проверки-7\"><span class=\"toc-item-num\">7&nbsp;&nbsp;</span>Чек-лист проверки</a></span></li></ul></div>"
   ]
  },
  {
   "cell_type": "markdown",
   "metadata": {},
   "source": [
    "# Защита персональных данных клиентов"
   ]
  },
  {
   "cell_type": "markdown",
   "metadata": {},
   "source": [
    "Вам нужно защитить данные клиентов страховой компании «Хоть потоп». Разработайте такой метод преобразования данных, чтобы по ним было сложно восстановить персональную информацию. Обоснуйте корректность его работы.\n",
    "\n",
    "Нужно защитить данные, чтобы при преобразовании качество моделей машинного обучения не ухудшилось. Подбирать наилучшую модель не требуется."
   ]
  },
  {
   "cell_type": "markdown",
   "metadata": {},
   "source": [
    "Чтобы провести эту работу, нам необходимо разработать алгоритм шифрования данных, чтобы исходные данные было сложно получить.\n",
    "\n",
    "Работа пройдет в 4 этапа:\n",
    "\n",
    "1. Изучение данных\n",
    "2. Ответ на вопрос \"Признаки умножают на обратимую матрицу. Поменяется ли качество модели линейной регрессии\" и обоснование ответа.\n",
    "3. Разработка алгоритма\n",
    "4. Проверка алгоритма"
   ]
  },
  {
   "cell_type": "markdown",
   "metadata": {},
   "source": [
    "## проведем необходимые импорты"
   ]
  },
  {
   "cell_type": "code",
   "execution_count": 73,
   "metadata": {},
   "outputs": [],
   "source": [
    "import pandas as pd\n",
    "import numpy as np\n",
    "import matplotlib.pyplot as plt\n",
    "\n",
    "from sklearn.model_selection import train_test_split\n",
    "from sklearn.preprocessing import StandardScaler\n",
    "\n",
    "from sklearn.linear_model import LogisticRegression, LinearRegression\n",
    "\n",
    "from sklearn.metrics import r2_score"
   ]
  },
  {
   "cell_type": "markdown",
   "metadata": {},
   "source": [
    "## Загрузка данных"
   ]
  },
  {
   "cell_type": "code",
   "execution_count": 74,
   "metadata": {},
   "outputs": [],
   "source": [
    "df = pd.read_csv('/datasets/insurance.csv')"
   ]
  },
  {
   "cell_type": "code",
   "execution_count": 75,
   "metadata": {},
   "outputs": [
    {
     "data": {
      "text/html": [
       "<div>\n",
       "<style scoped>\n",
       "    .dataframe tbody tr th:only-of-type {\n",
       "        vertical-align: middle;\n",
       "    }\n",
       "\n",
       "    .dataframe tbody tr th {\n",
       "        vertical-align: top;\n",
       "    }\n",
       "\n",
       "    .dataframe thead th {\n",
       "        text-align: right;\n",
       "    }\n",
       "</style>\n",
       "<table border=\"1\" class=\"dataframe\">\n",
       "  <thead>\n",
       "    <tr style=\"text-align: right;\">\n",
       "      <th></th>\n",
       "      <th>Пол</th>\n",
       "      <th>Возраст</th>\n",
       "      <th>Зарплата</th>\n",
       "      <th>Члены семьи</th>\n",
       "      <th>Страховые выплаты</th>\n",
       "    </tr>\n",
       "  </thead>\n",
       "  <tbody>\n",
       "    <tr>\n",
       "      <th>0</th>\n",
       "      <td>1</td>\n",
       "      <td>41.0</td>\n",
       "      <td>49600.0</td>\n",
       "      <td>1</td>\n",
       "      <td>0</td>\n",
       "    </tr>\n",
       "    <tr>\n",
       "      <th>1</th>\n",
       "      <td>0</td>\n",
       "      <td>46.0</td>\n",
       "      <td>38000.0</td>\n",
       "      <td>1</td>\n",
       "      <td>1</td>\n",
       "    </tr>\n",
       "    <tr>\n",
       "      <th>2</th>\n",
       "      <td>0</td>\n",
       "      <td>29.0</td>\n",
       "      <td>21000.0</td>\n",
       "      <td>0</td>\n",
       "      <td>0</td>\n",
       "    </tr>\n",
       "    <tr>\n",
       "      <th>3</th>\n",
       "      <td>0</td>\n",
       "      <td>21.0</td>\n",
       "      <td>41700.0</td>\n",
       "      <td>2</td>\n",
       "      <td>0</td>\n",
       "    </tr>\n",
       "    <tr>\n",
       "      <th>4</th>\n",
       "      <td>1</td>\n",
       "      <td>28.0</td>\n",
       "      <td>26100.0</td>\n",
       "      <td>0</td>\n",
       "      <td>0</td>\n",
       "    </tr>\n",
       "  </tbody>\n",
       "</table>\n",
       "</div>"
      ],
      "text/plain": [
       "   Пол  Возраст  Зарплата  Члены семьи  Страховые выплаты\n",
       "0    1     41.0   49600.0            1                  0\n",
       "1    0     46.0   38000.0            1                  1\n",
       "2    0     29.0   21000.0            0                  0\n",
       "3    0     21.0   41700.0            2                  0\n",
       "4    1     28.0   26100.0            0                  0"
      ]
     },
     "execution_count": 75,
     "metadata": {},
     "output_type": "execute_result"
    }
   ],
   "source": [
    "df.head()"
   ]
  },
  {
   "cell_type": "markdown",
   "metadata": {},
   "source": [
    "Признаки:\n",
    "- Пол\n",
    "- Возраст\n",
    "- Зарплата\n",
    "- Члены семьи\n",
    "\n",
    "Целевой признак:\n",
    "- Страховые вылпаты (количество страховых выплат клиенту за последние 5 лет.)"
   ]
  },
  {
   "cell_type": "code",
   "execution_count": 76,
   "metadata": {},
   "outputs": [
    {
     "name": "stdout",
     "output_type": "stream",
     "text": [
      "<class 'pandas.core.frame.DataFrame'>\n",
      "RangeIndex: 5000 entries, 0 to 4999\n",
      "Data columns (total 5 columns):\n",
      " #   Column             Non-Null Count  Dtype  \n",
      "---  ------             --------------  -----  \n",
      " 0   Пол                5000 non-null   int64  \n",
      " 1   Возраст            5000 non-null   float64\n",
      " 2   Зарплата           5000 non-null   float64\n",
      " 3   Члены семьи        5000 non-null   int64  \n",
      " 4   Страховые выплаты  5000 non-null   int64  \n",
      "dtypes: float64(2), int64(3)\n",
      "memory usage: 195.4 KB\n"
     ]
    }
   ],
   "source": [
    "df.info()"
   ]
  },
  {
   "cell_type": "markdown",
   "metadata": {},
   "source": [
    "Пропусков в данных нет"
   ]
  },
  {
   "cell_type": "code",
   "execution_count": 77,
   "metadata": {},
   "outputs": [
    {
     "data": {
      "text/plain": [
       "153"
      ]
     },
     "execution_count": 77,
     "metadata": {},
     "output_type": "execute_result"
    }
   ],
   "source": [
    "df.duplicated().sum()"
   ]
  },
  {
   "cell_type": "code",
   "execution_count": 78,
   "metadata": {
    "scrolled": true
   },
   "outputs": [
    {
     "data": {
      "text/html": [
       "<div>\n",
       "<style scoped>\n",
       "    .dataframe tbody tr th:only-of-type {\n",
       "        vertical-align: middle;\n",
       "    }\n",
       "\n",
       "    .dataframe tbody tr th {\n",
       "        vertical-align: top;\n",
       "    }\n",
       "\n",
       "    .dataframe thead th {\n",
       "        text-align: right;\n",
       "    }\n",
       "</style>\n",
       "<table border=\"1\" class=\"dataframe\">\n",
       "  <thead>\n",
       "    <tr style=\"text-align: right;\">\n",
       "      <th></th>\n",
       "      <th>Пол</th>\n",
       "      <th>Возраст</th>\n",
       "      <th>Зарплата</th>\n",
       "      <th>Члены семьи</th>\n",
       "      <th>Страховые выплаты</th>\n",
       "    </tr>\n",
       "  </thead>\n",
       "  <tbody>\n",
       "    <tr>\n",
       "      <th>69</th>\n",
       "      <td>1</td>\n",
       "      <td>39.0</td>\n",
       "      <td>48100.0</td>\n",
       "      <td>1</td>\n",
       "      <td>0</td>\n",
       "    </tr>\n",
       "    <tr>\n",
       "      <th>281</th>\n",
       "      <td>1</td>\n",
       "      <td>39.0</td>\n",
       "      <td>48100.0</td>\n",
       "      <td>1</td>\n",
       "      <td>0</td>\n",
       "    </tr>\n",
       "  </tbody>\n",
       "</table>\n",
       "</div>"
      ],
      "text/plain": [
       "     Пол  Возраст  Зарплата  Члены семьи  Страховые выплаты\n",
       "69     1     39.0   48100.0            1                  0\n",
       "281    1     39.0   48100.0            1                  0"
      ]
     },
     "execution_count": 78,
     "metadata": {},
     "output_type": "execute_result"
    }
   ],
   "source": [
    "df[((df['Пол'] == 1) & (df['Возраст'] == 39.0)&(df['Зарплата'] == 48100.0))]\n"
   ]
  },
  {
   "cell_type": "markdown",
   "metadata": {},
   "source": [
    "В данных есть явные дубликаты, в этом мы можем наглядно убедиться. Избавимся от этих явных дубликатов."
   ]
  },
  {
   "cell_type": "markdown",
   "metadata": {},
   "source": [
    "(или может совпасть, что все 4 параметра одинаковые и это не дубликат, но мы все-таки будем отталкиваться от того, что это дубликат)"
   ]
  },
  {
   "cell_type": "code",
   "execution_count": 79,
   "metadata": {},
   "outputs": [],
   "source": [
    "df = df.drop_duplicates()"
   ]
  },
  {
   "cell_type": "code",
   "execution_count": 80,
   "metadata": {},
   "outputs": [
    {
     "data": {
      "text/plain": [
       "0"
      ]
     },
     "execution_count": 80,
     "metadata": {},
     "output_type": "execute_result"
    }
   ],
   "source": [
    "df.duplicated().sum()"
   ]
  },
  {
   "cell_type": "code",
   "execution_count": 81,
   "metadata": {},
   "outputs": [
    {
     "name": "stdout",
     "output_type": "stream",
     "text": [
      "<class 'pandas.core.frame.DataFrame'>\n",
      "Int64Index: 4847 entries, 0 to 4999\n",
      "Data columns (total 5 columns):\n",
      " #   Column             Non-Null Count  Dtype  \n",
      "---  ------             --------------  -----  \n",
      " 0   Пол                4847 non-null   int64  \n",
      " 1   Возраст            4847 non-null   float64\n",
      " 2   Зарплата           4847 non-null   float64\n",
      " 3   Члены семьи        4847 non-null   int64  \n",
      " 4   Страховые выплаты  4847 non-null   int64  \n",
      "dtypes: float64(2), int64(3)\n",
      "memory usage: 227.2 KB\n"
     ]
    }
   ],
   "source": [
    "df.info()"
   ]
  },
  {
   "cell_type": "code",
   "execution_count": 82,
   "metadata": {},
   "outputs": [
    {
     "data": {
      "text/html": [
       "<div>\n",
       "<style scoped>\n",
       "    .dataframe tbody tr th:only-of-type {\n",
       "        vertical-align: middle;\n",
       "    }\n",
       "\n",
       "    .dataframe tbody tr th {\n",
       "        vertical-align: top;\n",
       "    }\n",
       "\n",
       "    .dataframe thead th {\n",
       "        text-align: right;\n",
       "    }\n",
       "</style>\n",
       "<table border=\"1\" class=\"dataframe\">\n",
       "  <thead>\n",
       "    <tr style=\"text-align: right;\">\n",
       "      <th></th>\n",
       "      <th>Пол</th>\n",
       "      <th>Возраст</th>\n",
       "      <th>Зарплата</th>\n",
       "      <th>Члены семьи</th>\n",
       "      <th>Страховые выплаты</th>\n",
       "    </tr>\n",
       "  </thead>\n",
       "  <tbody>\n",
       "    <tr>\n",
       "      <th>count</th>\n",
       "      <td>4847.000000</td>\n",
       "      <td>4847.000000</td>\n",
       "      <td>4847.000000</td>\n",
       "      <td>4847.000000</td>\n",
       "      <td>4847.000000</td>\n",
       "    </tr>\n",
       "    <tr>\n",
       "      <th>mean</th>\n",
       "      <td>0.498453</td>\n",
       "      <td>31.023932</td>\n",
       "      <td>39895.811842</td>\n",
       "      <td>1.203425</td>\n",
       "      <td>0.152259</td>\n",
       "    </tr>\n",
       "    <tr>\n",
       "      <th>std</th>\n",
       "      <td>0.500049</td>\n",
       "      <td>8.487995</td>\n",
       "      <td>9972.953985</td>\n",
       "      <td>1.098664</td>\n",
       "      <td>0.468934</td>\n",
       "    </tr>\n",
       "    <tr>\n",
       "      <th>min</th>\n",
       "      <td>0.000000</td>\n",
       "      <td>18.000000</td>\n",
       "      <td>5300.000000</td>\n",
       "      <td>0.000000</td>\n",
       "      <td>0.000000</td>\n",
       "    </tr>\n",
       "    <tr>\n",
       "      <th>25%</th>\n",
       "      <td>0.000000</td>\n",
       "      <td>24.000000</td>\n",
       "      <td>33200.000000</td>\n",
       "      <td>0.000000</td>\n",
       "      <td>0.000000</td>\n",
       "    </tr>\n",
       "    <tr>\n",
       "      <th>50%</th>\n",
       "      <td>0.000000</td>\n",
       "      <td>30.000000</td>\n",
       "      <td>40200.000000</td>\n",
       "      <td>1.000000</td>\n",
       "      <td>0.000000</td>\n",
       "    </tr>\n",
       "    <tr>\n",
       "      <th>75%</th>\n",
       "      <td>1.000000</td>\n",
       "      <td>37.000000</td>\n",
       "      <td>46600.000000</td>\n",
       "      <td>2.000000</td>\n",
       "      <td>0.000000</td>\n",
       "    </tr>\n",
       "    <tr>\n",
       "      <th>max</th>\n",
       "      <td>1.000000</td>\n",
       "      <td>65.000000</td>\n",
       "      <td>79000.000000</td>\n",
       "      <td>6.000000</td>\n",
       "      <td>5.000000</td>\n",
       "    </tr>\n",
       "  </tbody>\n",
       "</table>\n",
       "</div>"
      ],
      "text/plain": [
       "               Пол      Возраст      Зарплата  Члены семьи  Страховые выплаты\n",
       "count  4847.000000  4847.000000   4847.000000  4847.000000        4847.000000\n",
       "mean      0.498453    31.023932  39895.811842     1.203425           0.152259\n",
       "std       0.500049     8.487995   9972.953985     1.098664           0.468934\n",
       "min       0.000000    18.000000   5300.000000     0.000000           0.000000\n",
       "25%       0.000000    24.000000  33200.000000     0.000000           0.000000\n",
       "50%       0.000000    30.000000  40200.000000     1.000000           0.000000\n",
       "75%       1.000000    37.000000  46600.000000     2.000000           0.000000\n",
       "max       1.000000    65.000000  79000.000000     6.000000           5.000000"
      ]
     },
     "execution_count": 82,
     "metadata": {},
     "output_type": "execute_result"
    }
   ],
   "source": [
    "df.describe()"
   ]
  },
  {
   "cell_type": "code",
   "execution_count": 83,
   "metadata": {},
   "outputs": [
    {
     "data": {
      "image/png": "[encoded data removed]",
      "text/plain": [
       "<Figure size 432x288 with 1 Axes>"
      ]
     },
     "metadata": {
      "needs_background": "light"
     },
     "output_type": "display_data"
    },
    {
     "data": {
      "image/png": "[encoded data removed]",
      "text/plain": [
       "<Figure size 432x288 with 1 Axes>"
      ]
     },
     "metadata": {
      "needs_background": "light"
     },
     "output_type": "display_data"
    },
    {
     "data": {
      "image/png": "[encoded data removed]",
      "text/plain": [
       "<Figure size 432x288 with 1 Axes>"
      ]
     },
     "metadata": {
      "needs_background": "light"
     },
     "output_type": "display_data"
    },
    {
     "data": {
      "image/png": "[encoded data removed]",
      "text/plain": [
       "<Figure size 432x288 with 1 Axes>"
      ]
     },
     "metadata": {
      "needs_background": "light"
     },
     "output_type": "display_data"
    },
    {
     "data": {
      "image/png": "[encoded data removed]",
      "text/plain": [
       "<Figure size 432x288 with 1 Axes>"
      ]
     },
     "metadata": {
      "needs_background": "light"
     },
     "output_type": "display_data"
    }
   ],
   "source": [
    "cols = df.columns\n",
    "\n",
    "for col in cols:\n",
    "    df[col].plot(kind='box')\n",
    "    plt.show()\n",
    "    "
   ]
  },
  {
   "cell_type": "markdown",
   "metadata": {},
   "source": [
    "Выбросов в данных нет, все значения находятся в пределах нормы"
   ]
  },
  {
   "cell_type": "markdown",
   "metadata": {},
   "source": [
    "Но в целевом признаке видим явный дисбаланс, возможно придется применить технику `bootstrap`"
   ]
  },
  {
   "cell_type": "markdown",
   "metadata": {},
   "source": [
    "**Вывод**"
   ]
  },
  {
   "cell_type": "markdown",
   "metadata": {},
   "source": [
    "Рассмотрели данные. Пропусков обнаружено не было. Типы данных установлены правильные. \n",
    "\n",
    "Были обнаружены явные дубликаты, их мы удалили. Неявных дбликатов быть не может, так как в датасете нет объектов типа object\n",
    "\n",
    "Данные подготовлены и с ними можно начинать работу. "
   ]
  },
  {
   "cell_type": "markdown",
   "metadata": {},
   "source": [
    "## Умножение матриц"
   ]
  },
  {
   "cell_type": "markdown",
   "metadata": {},
   "source": [
    "В этом задании вы можете записывать формулы в *Jupyter Notebook.*\n",
    "\n",
    "Чтобы записать формулу внутри текста, окружите её символами доллара \\\\$; если снаружи —  двойными символами \\\\$\\\\$. Эти формулы записываются на языке вёрстки *LaTeX.* \n",
    "\n",
    "Для примера мы записали формулы линейной регрессии. Можете их скопировать и отредактировать, чтобы решить задачу.\n",
    "\n",
    "Работать в *LaTeX* необязательно."
   ]
  },
  {
   "cell_type": "markdown",
   "metadata": {},
   "source": [
    "Обозначения:\n",
    "\n",
    "- $X$ — матрица признаков (нулевой столбец состоит из единиц)\n",
    "\n",
    "- $y$ — вектор целевого признака\n",
    "\n",
    "- $P$ — матрица, на которую умножаются признаки\n",
    "\n",
    "- $w$ — вектор весов линейной регрессии (нулевой элемент равен сдвигу)"
   ]
  },
  {
   "cell_type": "markdown",
   "metadata": {},
   "source": [
    "Предсказания:\n",
    "\n",
    "$$\n",
    "a = Xw\n",
    "$$\n",
    "\n",
    "Задача обучения:\n",
    "\n",
    "$$\n",
    "w = \\arg\\min_w MSE(Xw, y)\n",
    "$$\n",
    "\n",
    "Формула обучения:\n",
    "\n",
    "$$\n",
    "w = (X^T X)^{-1} X^T y\n",
    "$$"
   ]
  },
  {
   "cell_type": "markdown",
   "metadata": {},
   "source": [
    "Ответьте на вопрос и обоснуйте решение. \n",
    "\n",
    " Признаки умножают на обратимую матрицу. Изменится ли качество линейной регрессии? (Её можно обучить заново.)\n",
    "- a. Изменится. Приведите примеры матриц.\n",
    "- b. Не изменится. Укажите, как связаны параметры линейной регрессии в исходной задаче и в преобразованной."
   ]
  },
  {
   "cell_type": "markdown",
   "metadata": {},
   "source": [
    "**Ответ:** `b`. Не изменится.\n",
    "\n",
    "**Обоснование:** \n",
    "\n",
    "Рассмотрим        $(Z^T Z)^{-1} Z^T y$\n",
    "\n",
    "Пусть Z = XP. Подставим это в нашу формулу обучения\n",
    "\n",
    "$$\n",
    "((XP)^T XP)^{-1} (XP)^T y = p^{-1} ((XP)^T X)^{-1} (XP)^T y    \n",
    "$$\n",
    "\n",
    "Докажем, что можем выполнить такое действие, то есть $(AB)^{-1}=B^{-1}A^{-1}$\n",
    "\n",
    "\n",
    "Для этого достаточно доказать два равенства:\n",
    "\n",
    "$$\n",
    "1) (AB)B^{-1}A^{-1} = E\n",
    "$$\n",
    "\n",
    "$$\n",
    "2) B^{-1}A^{-1}AB=E\n",
    "$$\n",
    "\n",
    "Перейдем к доказательству\n",
    "\n",
    "$$\n",
    "1) (AB)B^{-1}A^{-1}=A(BB^{-1})A^{-1}=AEA^{-1}=AA^{-1}=E\n",
    "$$\n",
    "\n",
    "$$\n",
    "2) B^{-1}A^{-1}(AB)=B^{-1}(A^{-1}A)B=B^{-1}EB=B^{-1}B=E\n",
    "$$\n",
    "\n",
    "**ЧТД**\n",
    "\n",
    "\n",
    "А по свойству транспонирования матриц\n",
    "\n",
    "$$\n",
    "=> P^{-1}((XP)^T X)^{-1} (XP)^T y = P^{-1}(P^T X^T X)^{-1} P^T X^T y\n",
    "$$\n",
    "\n",
    "\n",
    "\n",
    "$$\n",
    "P^{-1}(X^TX)^{-1} (P^T)^{-1} P^T X^T y =P^{-1}(X^TX)^{-1} ((P^T)^{-1} P^T) X^T y = P^{-1}(X^T X)^{-1} E X^T y = P^{-1} (X^T X)^{-1} X^T y\n",
    "$$\n",
    "\n",
    "$$\n",
    "w = (X^T X)^{-1} X^T y\n",
    "$$\n",
    "\n",
    "$$\n",
    "w_p = P^{-1} (X^T X)^{-1} X^T Y = P^{-1} w\n",
    "$$\n",
    "\n",
    "$$\n",
    "a_p = Z w_p = X P P^{-1} w = X E w = X w = a\n",
    "$$\n",
    "\n",
    "ЧТД"
   ]
  },
  {
   "cell_type": "markdown",
   "metadata": {},
   "source": [
    "## Алгоритм преобразования"
   ]
  },
  {
   "cell_type": "markdown",
   "metadata": {},
   "source": [
    "**Алгоритм**\n",
    "\n",
    "1. Разделить данные на признаки и целевой признак\n",
    "2. Берем случайную  матрицу квадратную размером n n, где n - количество признаков в наших данных. \n",
    "3. Проверяем, что случайная матрица обратима, если нет - смотреть на второй пункт. Эта матрица будем ключом.\n",
    "4. Перемножаем матрицу признаков и ключ по правилам матричного перемножения.\n",
    "5. Обучаем модель на преобразованных данных"
   ]
  },
  {
   "cell_type": "markdown",
   "metadata": {},
   "source": [
    "**Обоснование**\n",
    "\n",
    "Качество моедли не должно измениться, так как мы это доказали в прошлом пункте."
   ]
  },
  {
   "cell_type": "markdown",
   "metadata": {},
   "source": [
    "## Проверка алгоритма"
   ]
  },
  {
   "cell_type": "markdown",
   "metadata": {},
   "source": [
    "Приступим к проверке нашего алгоритма"
   ]
  },
  {
   "cell_type": "markdown",
   "metadata": {},
   "source": [
    "### Разделим данные на обучающую и тестовую выборки"
   ]
  },
  {
   "cell_type": "code",
   "execution_count": 84,
   "metadata": {},
   "outputs": [],
   "source": [
    "features = df.drop('Страховые выплаты', axis=1)\n",
    "target = df['Страховые выплаты']\n",
    "\n",
    "features_train, features_test, target_train, target_test = train_test_split(features, target, test_size=0.2, random_state=12345)\n",
    "\n"
   ]
  },
  {
   "cell_type": "markdown",
   "metadata": {},
   "source": [
    "Масштабируем данные"
   ]
  },
  {
   "cell_type": "code",
   "execution_count": 85,
   "metadata": {},
   "outputs": [],
   "source": [
    "scaler = StandardScaler()\n",
    "\n",
    "scaler.fit(features_train)\n",
    "\n",
    "features_train_scaled= scaler.transform(features_train)\n",
    "features_test_scaled = scaler.transform(features_test)"
   ]
  },
  {
   "cell_type": "markdown",
   "metadata": {},
   "source": [
    "### обучаем модель на обычных данных"
   ]
  },
  {
   "cell_type": "code",
   "execution_count": 86,
   "metadata": {},
   "outputs": [
    {
     "data": {
      "text/plain": [
       "LinearRegression()"
      ]
     },
     "execution_count": 86,
     "metadata": {},
     "output_type": "execute_result"
    }
   ],
   "source": [
    " # b - before, то есть до \"зашифрования\"\n",
    "model_b = LinearRegression()\n",
    "\n",
    "\n",
    "model_b.fit(features_train_scaled, target_train)"
   ]
  },
  {
   "cell_type": "code",
   "execution_count": 87,
   "metadata": {},
   "outputs": [],
   "source": [
    "\n",
    "predictions_b = model_b.predict(features_test_scaled)\n"
   ]
  },
  {
   "cell_type": "code",
   "execution_count": 88,
   "metadata": {},
   "outputs": [
    {
     "name": "stdout",
     "output_type": "stream",
     "text": [
      "Метрика R2 имеет значение 0.4160549216151216 на выборке до зашифрования\n"
     ]
    }
   ],
   "source": [
    "r2_b = r2_score(target_test, predictions_b)\n",
    "print(f'Метрика R2 имеет значение {r2_b} на выборке до зашифрования')"
   ]
  },
  {
   "cell_type": "markdown",
   "metadata": {},
   "source": [
    "Результат ужасный. Проверим как зашифрование повлияет на коэффициент детерминации, но задача стоит просто проверить как меняется или не меняется оценка качества. В данном случае можно было бы использовать технику bootstrap, чтобы избавиться от дисбаланса"
   ]
  },
  {
   "cell_type": "markdown",
   "metadata": {},
   "source": [
    "### Обучаем модель на зашифрованных данных"
   ]
  },
  {
   "cell_type": "code",
   "execution_count": 89,
   "metadata": {},
   "outputs": [
    {
     "name": "stdout",
     "output_type": "stream",
     "text": [
      "Ключ и обратная ключу матрицы перемножаются и получается единичная матрица.\n"
     ]
    },
    {
     "data": {
      "text/plain": [
       "array([[ 1.00000000e+00, -1.54535965e-17,  8.71041056e-17,\n",
       "        -1.61172006e-16],\n",
       "       [-1.21433461e-16,  1.00000000e+00,  3.76629543e-17,\n",
       "        -3.90720596e-17],\n",
       "       [ 1.55820290e-16, -1.57908616e-16,  1.00000000e+00,\n",
       "        -2.11913270e-16],\n",
       "       [ 8.43557740e-17, -2.49399923e-16,  2.95329777e-18,\n",
       "         1.00000000e+00]])"
      ]
     },
     "metadata": {},
     "output_type": "display_data"
    },
    {
     "name": "stdout",
     "output_type": "stream",
     "text": [
      "\n",
      "Ключ\n"
     ]
    },
    {
     "data": {
      "text/plain": [
       "array([[-1.34754114,  0.63977932, -0.20652727, -0.05941191],\n",
       "       [ 0.48954956, -0.22216479,  1.22923401,  0.39602488],\n",
       "       [-1.13452466,  0.29319015,  0.38595932, -2.09089568],\n",
       "       [-0.34145895,  0.52406436, -1.16096232,  0.33234123]])"
      ]
     },
     "execution_count": 89,
     "metadata": {},
     "output_type": "execute_result"
    }
   ],
   "source": [
    "\n",
    "def get_rand_matrix(n):\n",
    "    '''\n",
    "    Функция создает случайные матрицы, до тех пор пока не получится сгенерировать обратимую матрицу\n",
    "    '''\n",
    "    det = 0\n",
    "    while det == 0:\n",
    "        matrix = np.random.normal(size=(n, n))\n",
    "        det = np.linalg.det(matrix)\n",
    "    return matrix\n",
    "\n",
    "\n",
    "\n",
    "n = features.shape[1]\n",
    "\n",
    "key = get_rand_matrix(n)\n",
    "\n",
    "key = pd.DataFrame(key).values \n",
    "\n",
    "\n",
    "        \n",
    "    \n",
    "# print(np.linalg.inv(key))\n",
    "#     try:\n",
    "#         linalg.inv(key)\n",
    "#         break\n",
    "#     except:\n",
    "#         print('Попалась необратимая матрица')\n",
    "            \n",
    "    \n",
    "            \n",
    "\n",
    "# for ni in range(n):    \n",
    "#     key_ni = [[]]\n",
    "#     for _ in range(n):\n",
    "#         key_ni[0].append(np.random.normal())\n",
    "        \n",
    "#     key_ni = np.array(key_ni)\n",
    "#     key = np.append(key, key_ni)\n",
    "\n",
    "print('Ключ и обратная ключу матрицы перемножаются и получается единичная матрица.')\n",
    "display(key @ np.linalg.inv(key))\n",
    "print()    \n",
    "print('Ключ')\n",
    "key"
   ]
  },
  {
   "cell_type": "code",
   "execution_count": 90,
   "metadata": {},
   "outputs": [
    {
     "data": {
      "text/plain": [
       "(970, 4)"
      ]
     },
     "execution_count": 90,
     "metadata": {},
     "output_type": "execute_result"
    }
   ],
   "source": [
    "features_train_scaled_chifed = features_train_scaled @ key\n",
    "features_test_scaled_chifed = features_test_scaled @ key\n",
    "features_test_scaled_chifed.shape"
   ]
  },
  {
   "cell_type": "markdown",
   "metadata": {},
   "source": [
    "**Проверим, что данные дейстивтельно поменялись**"
   ]
  },
  {
   "cell_type": "code",
   "execution_count": 91,
   "metadata": {},
   "outputs": [
    {
     "data": {
      "text/plain": [
       "array([[ 1.0106317 , -0.94337032,  0.7334375 , -1.11240251],\n",
       "       [ 1.0106317 ,  0.1164861 ,  2.60218699, -1.11240251],\n",
       "       [ 1.0106317 ,  0.23424792, -0.5956731 ,  0.71504856],\n",
       "       ...,\n",
       "       [ 1.0106317 , -0.8256085 ,  1.57287578, -0.19867697],\n",
       "       [ 1.0106317 , -1.06113214, -0.88547917, -0.19867697],\n",
       "       [-0.98948014,  1.41186616, -0.81552598,  1.6287741 ]])"
      ]
     },
     "metadata": {},
     "output_type": "display_data"
    },
    {
     "data": {
      "text/plain": [
       "array([[-2.27595746,  0.48823108,  0.20618854, -2.3368802 ],\n",
       "       [-3.8772476 ,  0.80066724,  2.23026138, -5.82451094],\n",
       "       [-0.81554573,  0.79462561, -0.98082751,  1.51585487],\n",
       "       ...,\n",
       "       [-3.4826704 ,  1.18703456, -0.38586651, -3.74175278],\n",
       "       [-0.80890658,  0.51859418, -1.62420518,  1.30513774],\n",
       "       [ 2.39361851, -0.33223762, -0.26583667,  2.86440956]])"
      ]
     },
     "execution_count": 91,
     "metadata": {},
     "output_type": "execute_result"
    }
   ],
   "source": [
    "display(features_test_scaled)\n",
    "features_test_scaled_chifed\n"
   ]
  },
  {
   "cell_type": "code",
   "execution_count": 92,
   "metadata": {},
   "outputs": [
    {
     "data": {
      "text/plain": [
       "LinearRegression()"
      ]
     },
     "execution_count": 92,
     "metadata": {},
     "output_type": "execute_result"
    }
   ],
   "source": [
    "model_a = LinearRegression() # a - after, то есть после \"зашифрования\"\n",
    "\n",
    "model_a.fit(features_train_scaled_chifed, target_train)"
   ]
  },
  {
   "cell_type": "code",
   "execution_count": 93,
   "metadata": {},
   "outputs": [],
   "source": [
    "predictions_a = model_a.predict(features_test_scaled_chifed)\n"
   ]
  },
  {
   "cell_type": "code",
   "execution_count": 94,
   "metadata": {},
   "outputs": [
    {
     "name": "stdout",
     "output_type": "stream",
     "text": [
      "Метрика R2 имеет значение 0.4160549216151216 на выборке после зашифрования\n"
     ]
    }
   ],
   "source": [
    "r2_a = r2_score(target_test, predictions_a)\n",
    "print(f'Метрика R2 имеет значение {r2_a} на выборке после зашифрования')"
   ]
  },
  {
   "cell_type": "markdown",
   "metadata": {},
   "source": [
    "### Сравним результаты "
   ]
  },
  {
   "cell_type": "code",
   "execution_count": 95,
   "metadata": {},
   "outputs": [
    {
     "name": "stdout",
     "output_type": "stream",
     "text": [
      "Качество модели до шифрования 0.4160549216151216\n",
      "Качество модели после шифрования 0.4160549216151216\n"
     ]
    }
   ],
   "source": [
    "print('Качество модели до шифрования', r2_b)\n",
    "print('Качество модели после шифрования', r2_a)"
   ]
  },
  {
   "cell_type": "markdown",
   "metadata": {},
   "source": [
    "Как мы видим качество практически не поменялось. Значит все отлично"
   ]
  },
  {
   "cell_type": "markdown",
   "metadata": {},
   "source": [
    "## Подведем итоги"
   ]
  },
  {
   "cell_type": "markdown",
   "metadata": {},
   "source": [
    "Нам нужно было защитить данные клиентов страховой компании «Хоть потоп». Мы разработали такой метод преобразования данных, чтобы по ним было сложно восстановить персональную информацию. Обосновали корректность его работы.\n",
    "\n",
    "Нужно защитить данные, чтобы при преобразовании качество моделей машинного обучения не ухудшилось. Подбирать наилучшую модель не требовалось.\n",
    "\n",
    "\n",
    "Работа пройдет в 4 этапа:\n",
    "\n",
    "1. Изучение данных\n",
    "2. Ответ на вопрос \"Признаки умножают на обратимую матрицу. Поменяется ли качество модели линейной регрессии\" и обоснование ответа.\n",
    "3. Разработка алгоритма\n",
    "4. Проверка алгоритма\n",
    "\n",
    "**Итого**\n",
    "\n",
    "Алгоритм разработан, он показал свою пригодность и мы проверили это на практике.\n",
    "\n",
    "После использования алгоритма качество модели изменилось настолько незначительно, что это изменение можно не замечать.\n"
   ]
  }
 ],
 "metadata": {
  "ExecuteTimeLog": [
   {
    "duration": 392,
    "start_time": "2023-08-14T10:36:13.902Z"
   },
   {
    "duration": 68,
    "start_time": "2023-08-14T10:36:26.950Z"
   },
   {
    "duration": 96,
    "start_time": "2023-08-14T10:36:34.553Z"
   },
   {
    "duration": 17,
    "start_time": "2023-08-14T10:36:37.521Z"
   },
   {
    "duration": 12,
    "start_time": "2023-08-14T10:38:41.045Z"
   },
   {
    "duration": 7,
    "start_time": "2023-08-14T10:48:26.507Z"
   },
   {
    "duration": 15,
    "start_time": "2023-08-14T10:49:02.549Z"
   },
   {
    "duration": 10,
    "start_time": "2023-08-14T10:50:33.237Z"
   },
   {
    "duration": 21,
    "start_time": "2023-08-14T10:50:53.203Z"
   },
   {
    "duration": 18,
    "start_time": "2023-08-14T10:50:57.080Z"
   },
   {
    "duration": 19,
    "start_time": "2023-08-14T10:51:02.047Z"
   },
   {
    "duration": 9,
    "start_time": "2023-08-14T10:51:05.942Z"
   },
   {
    "duration": 16,
    "start_time": "2023-08-14T10:51:08.752Z"
   },
   {
    "duration": 11,
    "start_time": "2023-08-14T10:51:14.926Z"
   },
   {
    "duration": 15,
    "start_time": "2023-08-14T10:55:44.247Z"
   },
   {
    "duration": 7,
    "start_time": "2023-08-14T10:55:53.477Z"
   },
   {
    "duration": 5,
    "start_time": "2023-08-14T11:00:43.757Z"
   },
   {
    "duration": 7,
    "start_time": "2023-08-14T11:00:44.879Z"
   },
   {
    "duration": 12,
    "start_time": "2023-08-14T11:00:52.381Z"
   },
   {
    "duration": 881,
    "start_time": "2023-08-14T11:01:05.120Z"
   },
   {
    "duration": 3,
    "start_time": "2023-08-14T11:01:59.789Z"
   },
   {
    "duration": 505,
    "start_time": "2023-08-14T11:02:07.257Z"
   },
   {
    "duration": 1461,
    "start_time": "2023-08-16T14:28:42.532Z"
   },
   {
    "duration": 2,
    "start_time": "2023-08-16T14:28:54.285Z"
   },
   {
    "duration": 144,
    "start_time": "2023-08-16T14:28:54.289Z"
   },
   {
    "duration": 12,
    "start_time": "2023-08-16T14:28:54.435Z"
   },
   {
    "duration": 39,
    "start_time": "2023-08-16T14:28:54.449Z"
   },
   {
    "duration": 21,
    "start_time": "2023-08-16T14:28:54.489Z"
   },
   {
    "duration": 44,
    "start_time": "2023-08-16T14:28:54.512Z"
   },
   {
    "duration": 34,
    "start_time": "2023-08-16T14:28:54.558Z"
   },
   {
    "duration": 24,
    "start_time": "2023-08-16T14:28:54.594Z"
   },
   {
    "duration": 40,
    "start_time": "2023-08-16T14:28:54.620Z"
   },
   {
    "duration": 458,
    "start_time": "2023-08-16T14:28:54.662Z"
   },
   {
    "duration": 7,
    "start_time": "2023-08-16T14:55:16.626Z"
   },
   {
    "duration": 2,
    "start_time": "2023-08-16T14:56:31.681Z"
   },
   {
    "duration": 2,
    "start_time": "2023-08-16T14:56:46.156Z"
   },
   {
    "duration": 122,
    "start_time": "2023-08-16T14:57:53.740Z"
   },
   {
    "duration": 9,
    "start_time": "2023-08-16T14:58:25.178Z"
   },
   {
    "duration": 21,
    "start_time": "2023-08-16T17:36:56.609Z"
   },
   {
    "duration": 111,
    "start_time": "2023-08-16T17:37:02.652Z"
   },
   {
    "duration": 2,
    "start_time": "2023-08-16T17:37:30.402Z"
   },
   {
    "duration": 7,
    "start_time": "2023-08-16T17:42:03.573Z"
   },
   {
    "duration": 11,
    "start_time": "2023-08-16T17:42:14.691Z"
   },
   {
    "duration": 3,
    "start_time": "2023-08-16T17:42:19.969Z"
   },
   {
    "duration": 3,
    "start_time": "2023-08-16T17:42:21.638Z"
   },
   {
    "duration": 7,
    "start_time": "2023-08-16T17:42:45.416Z"
   },
   {
    "duration": 3,
    "start_time": "2023-08-16T17:42:48.185Z"
   },
   {
    "duration": 4,
    "start_time": "2023-08-16T17:42:52.545Z"
   },
   {
    "duration": 4,
    "start_time": "2023-08-16T17:45:00.873Z"
   },
   {
    "duration": 3,
    "start_time": "2023-08-16T17:57:50.098Z"
   },
   {
    "duration": 3,
    "start_time": "2023-08-16T17:58:25.302Z"
   },
   {
    "duration": 4,
    "start_time": "2023-08-16T17:58:29.506Z"
   },
   {
    "duration": 4,
    "start_time": "2023-08-16T17:59:36.048Z"
   },
   {
    "duration": 3,
    "start_time": "2023-08-16T17:59:38.384Z"
   },
   {
    "duration": 4,
    "start_time": "2023-08-16T17:59:38.597Z"
   },
   {
    "duration": 3,
    "start_time": "2023-08-16T17:59:38.786Z"
   },
   {
    "duration": 3,
    "start_time": "2023-08-16T17:59:38.981Z"
   },
   {
    "duration": 4,
    "start_time": "2023-08-16T17:59:39.140Z"
   },
   {
    "duration": 4,
    "start_time": "2023-08-16T17:59:39.336Z"
   },
   {
    "duration": 3,
    "start_time": "2023-08-16T17:59:39.482Z"
   },
   {
    "duration": 9,
    "start_time": "2023-08-16T18:10:27.448Z"
   },
   {
    "duration": 10,
    "start_time": "2023-08-16T18:12:56.207Z"
   },
   {
    "duration": 6,
    "start_time": "2023-08-16T18:14:02.982Z"
   },
   {
    "duration": 5,
    "start_time": "2023-08-16T18:14:19.097Z"
   },
   {
    "duration": 9,
    "start_time": "2023-08-16T18:16:01.510Z"
   },
   {
    "duration": 5,
    "start_time": "2023-08-16T18:16:09.251Z"
   },
   {
    "duration": 9,
    "start_time": "2023-08-16T18:16:15.170Z"
   },
   {
    "duration": 4,
    "start_time": "2023-08-16T18:16:24.522Z"
   },
   {
    "duration": 5,
    "start_time": "2023-08-16T18:16:26.892Z"
   },
   {
    "duration": 12,
    "start_time": "2023-08-16T18:25:52.210Z"
   },
   {
    "duration": 10,
    "start_time": "2023-08-16T18:26:14.504Z"
   },
   {
    "duration": 10,
    "start_time": "2023-08-16T18:26:47.763Z"
   },
   {
    "duration": 9,
    "start_time": "2023-08-16T18:27:55.196Z"
   },
   {
    "duration": 10,
    "start_time": "2023-08-16T18:28:08.230Z"
   },
   {
    "duration": 12098,
    "start_time": "2023-08-16T18:28:20.397Z"
   },
   {
    "duration": 1339,
    "start_time": "2023-08-16T18:29:06.011Z"
   },
   {
    "duration": 28,
    "start_time": "2023-08-16T18:29:07.352Z"
   },
   {
    "duration": 12,
    "start_time": "2023-08-16T18:29:07.381Z"
   },
   {
    "duration": 11,
    "start_time": "2023-08-16T18:29:07.394Z"
   },
   {
    "duration": 8,
    "start_time": "2023-08-16T18:29:07.406Z"
   },
   {
    "duration": 13,
    "start_time": "2023-08-16T18:29:07.416Z"
   },
   {
    "duration": 4,
    "start_time": "2023-08-16T18:29:07.430Z"
   },
   {
    "duration": 9,
    "start_time": "2023-08-16T18:29:07.436Z"
   },
   {
    "duration": 13,
    "start_time": "2023-08-16T18:29:07.446Z"
   },
   {
    "duration": 456,
    "start_time": "2023-08-16T18:29:07.462Z"
   },
   {
    "duration": 6,
    "start_time": "2023-08-16T18:29:07.920Z"
   },
   {
    "duration": 21,
    "start_time": "2023-08-16T18:29:07.927Z"
   },
   {
    "duration": 18,
    "start_time": "2023-08-16T18:29:07.950Z"
   },
   {
    "duration": 12,
    "start_time": "2023-08-16T18:29:07.969Z"
   },
   {
    "duration": 12,
    "start_time": "2023-08-16T18:29:07.982Z"
   },
   {
    "duration": 1295,
    "start_time": "2023-08-16T18:29:29.837Z"
   },
   {
    "duration": 29,
    "start_time": "2023-08-16T18:29:31.134Z"
   },
   {
    "duration": 20,
    "start_time": "2023-08-16T18:29:31.165Z"
   },
   {
    "duration": 107,
    "start_time": "2023-08-16T18:29:31.187Z"
   },
   {
    "duration": 37,
    "start_time": "2023-08-16T18:29:31.295Z"
   },
   {
    "duration": 57,
    "start_time": "2023-08-16T18:29:31.333Z"
   },
   {
    "duration": 26,
    "start_time": "2023-08-16T18:29:31.392Z"
   },
   {
    "duration": 167,
    "start_time": "2023-08-16T18:29:31.420Z"
   },
   {
    "duration": 62,
    "start_time": "2023-08-16T18:29:31.589Z"
   },
   {
    "duration": 478,
    "start_time": "2023-08-16T18:29:31.654Z"
   },
   {
    "duration": 6,
    "start_time": "2023-08-16T18:29:32.138Z"
   },
   {
    "duration": 33,
    "start_time": "2023-08-16T18:29:32.145Z"
   },
   {
    "duration": 17,
    "start_time": "2023-08-16T18:29:32.180Z"
   },
   {
    "duration": 27,
    "start_time": "2023-08-16T18:29:32.198Z"
   },
   {
    "duration": 33,
    "start_time": "2023-08-16T18:29:32.227Z"
   },
   {
    "duration": 60,
    "start_time": "2023-08-16T18:29:32.262Z"
   },
   {
    "duration": 6,
    "start_time": "2023-08-16T18:30:13.423Z"
   },
   {
    "duration": 6,
    "start_time": "2023-08-16T18:38:56.625Z"
   },
   {
    "duration": 6,
    "start_time": "2023-08-16T18:38:57.663Z"
   },
   {
    "duration": 111,
    "start_time": "2023-08-16T18:39:16.158Z"
   },
   {
    "duration": 8,
    "start_time": "2023-08-16T18:42:54.156Z"
   },
   {
    "duration": 10,
    "start_time": "2023-08-16T18:43:14.434Z"
   },
   {
    "duration": 7,
    "start_time": "2023-08-16T18:43:14.727Z"
   },
   {
    "duration": 8,
    "start_time": "2023-08-16T18:43:14.928Z"
   },
   {
    "duration": 8,
    "start_time": "2023-08-16T18:43:15.128Z"
   },
   {
    "duration": 8,
    "start_time": "2023-08-16T18:43:15.295Z"
   },
   {
    "duration": 7,
    "start_time": "2023-08-16T18:43:15.463Z"
   },
   {
    "duration": 9,
    "start_time": "2023-08-16T18:43:15.637Z"
   },
   {
    "duration": 54,
    "start_time": "2023-08-16T18:43:15.788Z"
   },
   {
    "duration": 8,
    "start_time": "2023-08-16T18:43:15.981Z"
   },
   {
    "duration": 8,
    "start_time": "2023-08-16T18:43:16.154Z"
   },
   {
    "duration": 7,
    "start_time": "2023-08-16T18:43:16.345Z"
   },
   {
    "duration": 8,
    "start_time": "2023-08-16T18:43:16.880Z"
   },
   {
    "duration": 6,
    "start_time": "2023-08-16T18:43:20.096Z"
   },
   {
    "duration": 7,
    "start_time": "2023-08-16T18:46:19.434Z"
   },
   {
    "duration": 6,
    "start_time": "2023-08-16T18:47:31.990Z"
   },
   {
    "duration": 6,
    "start_time": "2023-08-16T18:47:36.197Z"
   },
   {
    "duration": 12,
    "start_time": "2023-08-16T18:48:09.157Z"
   },
   {
    "duration": 8,
    "start_time": "2023-08-16T18:48:14.249Z"
   },
   {
    "duration": 9,
    "start_time": "2023-08-16T18:48:14.750Z"
   },
   {
    "duration": 9,
    "start_time": "2023-08-16T18:48:15.164Z"
   },
   {
    "duration": 9,
    "start_time": "2023-08-16T18:48:15.495Z"
   },
   {
    "duration": 9,
    "start_time": "2023-08-16T18:48:15.673Z"
   },
   {
    "duration": 9,
    "start_time": "2023-08-16T18:48:15.945Z"
   },
   {
    "duration": 9,
    "start_time": "2023-08-16T18:48:16.149Z"
   },
   {
    "duration": 9,
    "start_time": "2023-08-16T18:48:16.560Z"
   },
   {
    "duration": 8,
    "start_time": "2023-08-16T18:48:16.763Z"
   },
   {
    "duration": 9,
    "start_time": "2023-08-16T18:48:17.202Z"
   },
   {
    "duration": 8,
    "start_time": "2023-08-16T18:48:18.239Z"
   },
   {
    "duration": 55,
    "start_time": "2023-08-16T18:48:29.287Z"
   },
   {
    "duration": 8,
    "start_time": "2023-08-16T18:48:33.045Z"
   },
   {
    "duration": 6,
    "start_time": "2023-08-16T18:48:38.211Z"
   },
   {
    "duration": 3,
    "start_time": "2023-08-16T18:50:52.849Z"
   },
   {
    "duration": 5,
    "start_time": "2023-08-16T18:51:02.913Z"
   },
   {
    "duration": 5,
    "start_time": "2023-08-16T18:52:36.493Z"
   },
   {
    "duration": 3,
    "start_time": "2023-08-16T18:52:37.437Z"
   },
   {
    "duration": 5,
    "start_time": "2023-08-16T18:53:52.731Z"
   },
   {
    "duration": 3,
    "start_time": "2023-08-16T18:53:53.003Z"
   },
   {
    "duration": 4,
    "start_time": "2023-08-16T18:53:53.288Z"
   },
   {
    "duration": 7,
    "start_time": "2023-08-16T18:59:53.931Z"
   },
   {
    "duration": 17,
    "start_time": "2023-08-16T19:26:40.968Z"
   },
   {
    "duration": 10,
    "start_time": "2023-08-16T19:26:53.060Z"
   },
   {
    "duration": 6,
    "start_time": "2023-08-16T19:26:57.541Z"
   },
   {
    "duration": 2121,
    "start_time": "2023-08-16T19:38:07.717Z"
   },
   {
    "duration": 29,
    "start_time": "2023-08-16T19:38:09.840Z"
   },
   {
    "duration": 12,
    "start_time": "2023-08-16T19:38:09.871Z"
   },
   {
    "duration": 13,
    "start_time": "2023-08-16T19:38:09.885Z"
   },
   {
    "duration": 37,
    "start_time": "2023-08-16T19:38:09.899Z"
   },
   {
    "duration": 10,
    "start_time": "2023-08-16T19:38:09.937Z"
   },
   {
    "duration": 5,
    "start_time": "2023-08-16T19:38:09.949Z"
   },
   {
    "duration": 10,
    "start_time": "2023-08-16T19:38:09.955Z"
   },
   {
    "duration": 14,
    "start_time": "2023-08-16T19:38:09.966Z"
   },
   {
    "duration": 476,
    "start_time": "2023-08-16T19:38:09.982Z"
   },
   {
    "duration": 7,
    "start_time": "2023-08-16T19:38:10.460Z"
   },
   {
    "duration": 17,
    "start_time": "2023-08-16T19:38:10.469Z"
   },
   {
    "duration": 8,
    "start_time": "2023-08-16T19:38:10.487Z"
   },
   {
    "duration": 9,
    "start_time": "2023-08-16T19:38:10.497Z"
   },
   {
    "duration": 27,
    "start_time": "2023-08-16T19:38:10.508Z"
   },
   {
    "duration": 79,
    "start_time": "2023-08-16T19:38:10.536Z"
   },
   {
    "duration": 204,
    "start_time": "2023-08-16T19:38:10.637Z"
   },
   {
    "duration": 0,
    "start_time": "2023-08-16T19:38:10.843Z"
   },
   {
    "duration": 0,
    "start_time": "2023-08-16T19:38:10.844Z"
   },
   {
    "duration": 0,
    "start_time": "2023-08-16T19:38:10.845Z"
   },
   {
    "duration": 0,
    "start_time": "2023-08-16T19:38:10.846Z"
   },
   {
    "duration": 0,
    "start_time": "2023-08-16T19:38:10.848Z"
   },
   {
    "duration": 1290,
    "start_time": "2023-08-16T19:38:38.934Z"
   },
   {
    "duration": 30,
    "start_time": "2023-08-16T19:38:40.226Z"
   },
   {
    "duration": 12,
    "start_time": "2023-08-16T19:38:40.257Z"
   },
   {
    "duration": 34,
    "start_time": "2023-08-16T19:38:40.270Z"
   },
   {
    "duration": 30,
    "start_time": "2023-08-16T19:38:40.306Z"
   },
   {
    "duration": 31,
    "start_time": "2023-08-16T19:38:40.337Z"
   },
   {
    "duration": 25,
    "start_time": "2023-08-16T19:38:40.369Z"
   },
   {
    "duration": 24,
    "start_time": "2023-08-16T19:38:40.396Z"
   },
   {
    "duration": 44,
    "start_time": "2023-08-16T19:38:40.421Z"
   },
   {
    "duration": 444,
    "start_time": "2023-08-16T19:38:40.468Z"
   },
   {
    "duration": 20,
    "start_time": "2023-08-16T19:38:40.914Z"
   },
   {
    "duration": 87,
    "start_time": "2023-08-16T19:38:40.936Z"
   },
   {
    "duration": 29,
    "start_time": "2023-08-16T19:38:41.024Z"
   },
   {
    "duration": 27,
    "start_time": "2023-08-16T19:38:41.055Z"
   },
   {
    "duration": 26,
    "start_time": "2023-08-16T19:38:41.084Z"
   },
   {
    "duration": 78,
    "start_time": "2023-08-16T19:38:41.112Z"
   },
   {
    "duration": 56,
    "start_time": "2023-08-16T19:38:41.192Z"
   },
   {
    "duration": 87,
    "start_time": "2023-08-16T19:38:41.250Z"
   },
   {
    "duration": 25,
    "start_time": "2023-08-16T19:38:41.340Z"
   },
   {
    "duration": 15,
    "start_time": "2023-08-16T19:38:41.366Z"
   },
   {
    "duration": 37,
    "start_time": "2023-08-16T19:38:41.382Z"
   },
   {
    "duration": 24,
    "start_time": "2023-08-16T19:38:41.421Z"
   },
   {
    "duration": 2835,
    "start_time": "2023-08-16T20:01:52.657Z"
   },
   {
    "duration": 29,
    "start_time": "2023-08-16T20:01:55.494Z"
   },
   {
    "duration": 11,
    "start_time": "2023-08-16T20:01:55.525Z"
   },
   {
    "duration": 11,
    "start_time": "2023-08-16T20:01:55.538Z"
   },
   {
    "duration": 7,
    "start_time": "2023-08-16T20:01:55.550Z"
   },
   {
    "duration": 10,
    "start_time": "2023-08-16T20:01:55.558Z"
   },
   {
    "duration": 5,
    "start_time": "2023-08-16T20:01:55.569Z"
   },
   {
    "duration": 5,
    "start_time": "2023-08-16T20:01:55.575Z"
   },
   {
    "duration": 9,
    "start_time": "2023-08-16T20:01:55.581Z"
   },
   {
    "duration": 443,
    "start_time": "2023-08-16T20:01:55.592Z"
   },
   {
    "duration": 13,
    "start_time": "2023-08-16T20:01:56.036Z"
   },
   {
    "duration": 8,
    "start_time": "2023-08-16T20:01:56.050Z"
   },
   {
    "duration": 9,
    "start_time": "2023-08-16T20:01:56.059Z"
   },
   {
    "duration": 4,
    "start_time": "2023-08-16T20:01:56.070Z"
   },
   {
    "duration": 10,
    "start_time": "2023-08-16T20:01:56.075Z"
   },
   {
    "duration": 77,
    "start_time": "2023-08-16T20:01:56.086Z"
   },
   {
    "duration": 8,
    "start_time": "2023-08-16T20:01:56.165Z"
   },
   {
    "duration": 81,
    "start_time": "2023-08-16T20:01:56.175Z"
   },
   {
    "duration": 7,
    "start_time": "2023-08-16T20:01:56.258Z"
   },
   {
    "duration": 83,
    "start_time": "2023-08-16T20:01:56.268Z"
   },
   {
    "duration": 6,
    "start_time": "2023-08-16T20:01:56.353Z"
   },
   {
    "duration": 4,
    "start_time": "2023-08-16T20:01:56.361Z"
   },
   {
    "duration": 49,
    "start_time": "2023-08-17T09:16:30.349Z"
   },
   {
    "duration": 1430,
    "start_time": "2023-08-17T09:16:35.801Z"
   },
   {
    "duration": 79,
    "start_time": "2023-08-17T09:16:37.233Z"
   },
   {
    "duration": 13,
    "start_time": "2023-08-17T09:16:37.314Z"
   },
   {
    "duration": 30,
    "start_time": "2023-08-17T09:16:37.330Z"
   },
   {
    "duration": 24,
    "start_time": "2023-08-17T09:16:37.362Z"
   },
   {
    "duration": 47,
    "start_time": "2023-08-17T09:16:37.388Z"
   },
   {
    "duration": 9,
    "start_time": "2023-08-17T09:16:37.436Z"
   },
   {
    "duration": 18,
    "start_time": "2023-08-17T09:16:37.446Z"
   },
   {
    "duration": 18,
    "start_time": "2023-08-17T09:16:37.466Z"
   },
   {
    "duration": 30,
    "start_time": "2023-08-17T09:16:37.486Z"
   },
   {
    "duration": 446,
    "start_time": "2023-08-17T09:16:37.517Z"
   },
   {
    "duration": 7,
    "start_time": "2023-08-17T09:16:37.965Z"
   },
   {
    "duration": 9,
    "start_time": "2023-08-17T09:16:37.987Z"
   },
   {
    "duration": 19,
    "start_time": "2023-08-17T09:16:37.997Z"
   },
   {
    "duration": 5,
    "start_time": "2023-08-17T09:16:38.017Z"
   },
   {
    "duration": 5,
    "start_time": "2023-08-17T09:16:39.859Z"
   },
   {
    "duration": 3,
    "start_time": "2023-08-17T09:21:21.532Z"
   },
   {
    "duration": 73,
    "start_time": "2023-08-17T09:21:21.537Z"
   },
   {
    "duration": 21,
    "start_time": "2023-08-17T09:21:21.612Z"
   },
   {
    "duration": 10,
    "start_time": "2023-08-17T09:21:22.448Z"
   },
   {
    "duration": 32,
    "start_time": "2023-08-17T09:21:22.460Z"
   },
   {
    "duration": 32,
    "start_time": "2023-08-17T09:21:22.494Z"
   },
   {
    "duration": 55,
    "start_time": "2023-08-17T09:21:22.528Z"
   },
   {
    "duration": 69,
    "start_time": "2023-08-17T09:21:22.585Z"
   },
   {
    "duration": 49,
    "start_time": "2023-08-17T09:21:22.655Z"
   },
   {
    "duration": 137,
    "start_time": "2023-08-17T09:21:22.706Z"
   },
   {
    "duration": 456,
    "start_time": "2023-08-17T09:21:24.214Z"
   },
   {
    "duration": 17,
    "start_time": "2023-08-17T09:21:24.672Z"
   },
   {
    "duration": 35,
    "start_time": "2023-08-17T09:21:24.691Z"
   },
   {
    "duration": 31,
    "start_time": "2023-08-17T09:21:24.729Z"
   },
   {
    "duration": 23,
    "start_time": "2023-08-17T09:21:24.762Z"
   },
   {
    "duration": 25,
    "start_time": "2023-08-17T09:21:24.787Z"
   },
   {
    "duration": 38,
    "start_time": "2023-08-17T09:21:24.813Z"
   },
   {
    "duration": 137,
    "start_time": "2023-08-17T09:21:24.853Z"
   },
   {
    "duration": 41,
    "start_time": "2023-08-17T09:21:24.993Z"
   },
   {
    "duration": 54,
    "start_time": "2023-08-17T09:21:25.036Z"
   },
   {
    "duration": 54,
    "start_time": "2023-08-17T09:21:25.093Z"
   },
   {
    "duration": 36,
    "start_time": "2023-08-17T09:21:25.150Z"
   },
   {
    "duration": 35,
    "start_time": "2023-08-17T09:21:25.188Z"
   },
   {
    "duration": 91,
    "start_time": "2023-08-17T09:22:32.594Z"
   },
   {
    "duration": 9,
    "start_time": "2023-08-17T09:22:50.071Z"
   },
   {
    "duration": 10,
    "start_time": "2023-08-17T09:49:01.159Z"
   },
   {
    "duration": 13,
    "start_time": "2023-08-17T09:50:21.389Z"
   },
   {
    "duration": 10,
    "start_time": "2023-08-17T09:50:35.448Z"
   },
   {
    "duration": 13,
    "start_time": "2023-08-17T09:50:51.813Z"
   },
   {
    "duration": 13,
    "start_time": "2023-08-17T09:55:31.113Z"
   },
   {
    "duration": 3,
    "start_time": "2023-08-17T09:58:44.017Z"
   },
   {
    "duration": 46,
    "start_time": "2023-08-17T09:58:44.022Z"
   },
   {
    "duration": 8,
    "start_time": "2023-08-17T09:58:44.070Z"
   },
   {
    "duration": 25,
    "start_time": "2023-08-17T09:58:44.079Z"
   },
   {
    "duration": 16,
    "start_time": "2023-08-17T09:58:44.106Z"
   },
   {
    "duration": 17,
    "start_time": "2023-08-17T09:58:44.123Z"
   },
   {
    "duration": 14,
    "start_time": "2023-08-17T09:58:44.142Z"
   },
   {
    "duration": 16,
    "start_time": "2023-08-17T09:58:44.157Z"
   },
   {
    "duration": 12,
    "start_time": "2023-08-17T09:58:44.174Z"
   },
   {
    "duration": 26,
    "start_time": "2023-08-17T09:58:44.190Z"
   },
   {
    "duration": 527,
    "start_time": "2023-08-17T09:58:44.218Z"
   },
   {
    "duration": 7,
    "start_time": "2023-08-17T09:58:44.747Z"
   },
   {
    "duration": 19,
    "start_time": "2023-08-17T09:58:44.755Z"
   },
   {
    "duration": 14,
    "start_time": "2023-08-17T09:58:44.776Z"
   },
   {
    "duration": 8,
    "start_time": "2023-08-17T09:58:44.792Z"
   },
   {
    "duration": 8,
    "start_time": "2023-08-17T09:58:44.802Z"
   },
   {
    "duration": 75,
    "start_time": "2023-08-17T09:58:44.813Z"
   },
   {
    "duration": 106,
    "start_time": "2023-08-17T09:58:44.890Z"
   },
   {
    "duration": 0,
    "start_time": "2023-08-17T09:58:44.999Z"
   },
   {
    "duration": 0,
    "start_time": "2023-08-17T09:58:45.001Z"
   },
   {
    "duration": 0,
    "start_time": "2023-08-17T09:58:45.003Z"
   },
   {
    "duration": 0,
    "start_time": "2023-08-17T09:58:45.005Z"
   },
   {
    "duration": 13,
    "start_time": "2023-08-17T09:59:22.418Z"
   },
   {
    "duration": 4,
    "start_time": "2023-08-17T09:59:23.774Z"
   },
   {
    "duration": 6,
    "start_time": "2023-08-17T09:59:24.203Z"
   },
   {
    "duration": 6,
    "start_time": "2023-08-17T09:59:24.399Z"
   },
   {
    "duration": 3,
    "start_time": "2023-08-17T09:59:24.575Z"
   },
   {
    "duration": 5,
    "start_time": "2023-08-17T09:59:24.778Z"
   },
   {
    "duration": 3,
    "start_time": "2023-08-17T09:59:25.171Z"
   },
   {
    "duration": 4,
    "start_time": "2023-08-17T09:59:29.434Z"
   },
   {
    "duration": 68,
    "start_time": "2023-08-17T09:59:29.441Z"
   },
   {
    "duration": 20,
    "start_time": "2023-08-17T09:59:29.511Z"
   },
   {
    "duration": 21,
    "start_time": "2023-08-17T09:59:29.534Z"
   },
   {
    "duration": 21,
    "start_time": "2023-08-17T09:59:29.556Z"
   },
   {
    "duration": 25,
    "start_time": "2023-08-17T09:59:29.578Z"
   },
   {
    "duration": 39,
    "start_time": "2023-08-17T09:59:29.604Z"
   },
   {
    "duration": 23,
    "start_time": "2023-08-17T09:59:29.644Z"
   },
   {
    "duration": 38,
    "start_time": "2023-08-17T09:59:29.669Z"
   },
   {
    "duration": 36,
    "start_time": "2023-08-17T09:59:29.709Z"
   },
   {
    "duration": 581,
    "start_time": "2023-08-17T09:59:29.747Z"
   },
   {
    "duration": 7,
    "start_time": "2023-08-17T09:59:30.329Z"
   },
   {
    "duration": 65,
    "start_time": "2023-08-17T09:59:30.337Z"
   },
   {
    "duration": 19,
    "start_time": "2023-08-17T09:59:30.404Z"
   },
   {
    "duration": 50,
    "start_time": "2023-08-17T09:59:30.425Z"
   },
   {
    "duration": 41,
    "start_time": "2023-08-17T09:59:30.476Z"
   },
   {
    "duration": 48,
    "start_time": "2023-08-17T09:59:30.519Z"
   },
   {
    "duration": 129,
    "start_time": "2023-08-17T09:59:30.569Z"
   },
   {
    "duration": 65,
    "start_time": "2023-08-17T09:59:30.700Z"
   },
   {
    "duration": 48,
    "start_time": "2023-08-17T09:59:30.767Z"
   },
   {
    "duration": 34,
    "start_time": "2023-08-17T09:59:30.817Z"
   },
   {
    "duration": 28,
    "start_time": "2023-08-17T09:59:30.853Z"
   },
   {
    "duration": 4,
    "start_time": "2023-08-17T09:59:50.411Z"
   }
  ],
  "kernelspec": {
   "display_name": "Python 3 (ipykernel)",
   "language": "python",
   "name": "python3"
  },
  "language_info": {
   "codemirror_mode": {
    "name": "ipython",
    "version": 3
   },
   "file_extension": ".py",
   "mimetype": "text/x-python",
   "name": "python",
   "nbconvert_exporter": "python",
   "pygments_lexer": "ipython3",
   "version": "3.10.8"
  },
  "toc": {
   "base_numbering": 1,
   "nav_menu": {},
   "number_sections": true,
   "sideBar": true,
   "skip_h1_title": true,
   "title_cell": "Содержание",
   "title_sidebar": "Contents",
   "toc_cell": true,
   "toc_position": {
    "height": "calc(100% - 180px)",
    "left": "10px",
    "top": "150px",
    "width": "165px"
   },
   "toc_section_display": true,
   "toc_window_display": true
  }
 },
 "nbformat": 4,
 "nbformat_minor": 2
}
