{
 "cells": [
  {
   "cell_type": "markdown",
   "metadata": {},
   "source": [
    "\n",
    "Привет, меня зовут Люман Аблаев. Сегодня я проверю твой проект.\n",
    "<br> Дальнейшее общение будет происходить на \"ты\" если это не вызывает никаких проблем.\n",
    "<br> Желательно реагировать на красные комментарии ('исправил', 'не понятно как исправить ошибку', ...)\n",
    "<br> Пожалуйста, не удаляй комментарии ревьюера, так как они повышают качество повторного ревью.\n",
    "\n",
    "Комментарии будут в <font color='green'>зеленой</font>, <font color='blue'>синей</font> или <font color='red'>красной</font> рамках:\n",
    "\n",
    "\n",
    "<div class=\"alert alert-block alert-success\">\n",
    "<b>Успех:</b> Если все сделано отлично\n",
    "</div>\n",
    "\n",
    "<div class=\"alert alert-block alert-info\">\n",
    "<b>Совет: </b> Если можно немного улучшить\n",
    "</div>\n",
    "\n",
    "<div class=\"alert alert-block alert-danger\">\n",
    "<b>Ошибка:</b> Если требуются исправления. Работа не может быть принята с красными комментариями.\n",
    "</div>\n",
    "\n",
    "-------------------\n",
    "\n",
    "Будет очень хорошо, если ты будешь помечать свои действия следующим образом:\n",
    "<div class=\"alert alert-block alert-warning\">\n",
    "<b>Комментарий студента:</b> ...\n",
    "</div>\n",
    "\n",
    "<div class=\"alert alert-block alert-warning\">\n",
    "<b>Изменения:</b> Были внесены следующие изменения ...\n",
    "</div>\n",
    "\n",
    "\n",
    "\n",
    "\n",
    "\n",
    "\n",
    "\n",
    "<font color='orange' style='font-size:24px; font-weight:bold'>Общее впечатление</font>\n",
    "* Спасибо за очень качественную работу - видно, что приложено много усилий,\n",
    "- Я оставил некоторые советы, надеюсь они будут полезными и интересными\n",
    "- Есть некоторые недочеты, которые нужно поправить, но у тебя это не должно занять много времени)\n",
    "- Жду обновленную работу\n"
   ]
  },
  {
   "cell_type": "markdown",
   "metadata": {},
   "source": [
    "<font color='orange' style='font-size:24px; font-weight:bold'>Общее впечатление[2]</font>\n",
    "* Спасибо за оперативность\n",
    "- Приятно видеть фидбек \n",
    "- Недочеты исправлены - работа полностью корректна\n",
    "- Рад был быть полезен. Удачи в дальнейшем обучении!\n",
    "\n"
   ]
  },
  {
   "cell_type": "markdown",
   "metadata": {},
   "source": [
    "# Определение стоимости автомобилей"
   ]
  },
  {
   "cell_type": "markdown",
   "metadata": {},
   "source": [
    "Сервис по продаже автомобилей с пробегом «Не бит, не крашен» разрабатывает приложение для привлечения новых клиентов. В нём можно быстро узнать рыночную стоимость своего автомобиля. В вашем распоряжении исторические данные: технические характеристики, комплектации и цены автомобилей. Вам нужно построить модель для определения стоимости. \n",
    "\n",
    "Заказчику важны:\n",
    "\n",
    "- качество предсказания;\n",
    "- скорость предсказания;\n",
    "- время обучения."
   ]
  },
  {
   "cell_type": "markdown",
   "metadata": {},
   "source": [
    "Нам предстоит провести исследование данных, проверить на наличие аномалий и избавиться от них. Далее, нам необходимо протестировать несколько моделей, одной из которой будет LightGBM, и как минимум одна- не бустинг. Надо будет сравнить результаты, время обучения и скорость предсказания и выбрать оптимальную.\n",
    "\n",
    "Наш работа пройдет в 7 этапов:\n",
    "- Загрузка данных\n",
    "- Изучение данных\n",
    "- Подготовка выборок\n",
    "- Обучение разных моделей\n",
    "- Анализ времени обучения, времени предсказания и качества моделей.\n",
    "- Выбор лучшей модели\n",
    "- Подведение итогов\n",
    "\n",
    "Приступим к работе"
   ]
  },
  {
   "cell_type": "markdown",
   "metadata": {},
   "source": [
    " ## Произведем необходимые импорты"
   ]
  },
  {
   "cell_type": "code",
   "execution_count": null,
   "metadata": {},
   "outputs": [],
   "source": [
    "!pip3 install category_encoders"
   ]
  },
  {
   "cell_type": "code",
   "execution_count": null,
   "metadata": {},
   "outputs": [],
   "source": [
    "import pandas as pd\n",
    "import matplotlib.pyplot as plt\n",
    "import seaborn as sns\n",
    "\n",
    "import numpy as np\n",
    "\n",
    "from sklearn.model_selection import train_test_split, cross_val_predict\n",
    "from sklearn.preprocessing import StandardScaler, OneHotEncoder\n",
    "\n",
    "from sklearn.linear_model import LinearRegression\n",
    "\n",
    "from sklearn.metrics import mean_squared_error\n",
    "from sklearn.ensemble import RandomForestRegressor\n",
    "\n",
    "from tqdm import tqdm\n",
    "\n",
    "import lightgbm as lgb\n",
    "\n",
    "from catboost import CatBoostRegressor, cv, Pool\n",
    "\n",
    "\n",
    "import category_encoders as ce\n"
   ]
  },
  {
   "cell_type": "markdown",
   "metadata": {},
   "source": [
    "Расширим размеры ноутбука"
   ]
  },
  {
   "cell_type": "code",
   "execution_count": null,
   "metadata": {},
   "outputs": [],
   "source": [
    "from IPython.core.display import display, HTML\n",
    "display(HTML(\"<style>.container { width:85% !important; }</style>\"))"
   ]
  },
  {
   "cell_type": "markdown",
   "metadata": {},
   "source": [
    "\n",
    "<div class=\"alert alert-block alert-success\">\n",
    "<b>Успех:</b> Импорты  на месте\n",
    "</div>\n"
   ]
  },
  {
   "cell_type": "markdown",
   "metadata": {},
   "source": [
    "## Подготовка данных"
   ]
  },
  {
   "cell_type": "markdown",
   "metadata": {},
   "source": [
    "### Загрузим данные"
   ]
  },
  {
   "cell_type": "code",
   "execution_count": null,
   "metadata": {
    "scrolled": false
   },
   "outputs": [],
   "source": [
    "df = pd.read_csv('/datasets/autos.csv')\n",
    "df.head()"
   ]
  },
  {
   "cell_type": "markdown",
   "metadata": {},
   "source": [
    "Документация датасета"
   ]
  },
  {
   "cell_type": "markdown",
   "metadata": {},
   "source": [
    "**Признаки**\n",
    "\n",
    "- `DateCrawled` — дата скачивания анкеты из базы\n",
    "- `VehicleType`— тип автомобильного кузова\n",
    "- `RegistrationYear` — год регистрации автомобиля\n",
    "- `Gearbox` — тип коробки передач\n",
    "- `Power` — мощность (л. с.)\n",
    "- `Model` — модель автомобиля\n",
    "- `Kilometer` — пробег (км)\n",
    "- `RegistrationMonth` — месяц регистрации автомобиля\n",
    "- `FuelType` — тип топлива\n",
    "- `Brand` — марка автомобиля\n",
    "- `Repaired` — была машина в ремонте или нет\n",
    "- `DateCreated` — дата создания анкеты\n",
    "- `NumberOfPictures` — количество фотографий автомобиля\n",
    "- `PostalCode` — почтовый индекс владельца анкеты (пользователя)\n",
    "- `LastSeen` — дата последней активности пользователя\n",
    "\n",
    "**Целевой признак**\n",
    "\n",
    "Price — цена (евро)"
   ]
  },
  {
   "cell_type": "markdown",
   "metadata": {},
   "source": [
    "**Не информативными являются признаки:**\n",
    "- `LastSeen` - дата последней активности пользователя\n",
    "- `DateCreated` — дата создания анкеты\n",
    "- `DateCrawled` — дата скачивания анкеты из базы\n",
    "\n",
    "\n",
    "**Остается под вопросом:**\n",
    "- `PostalCode` - почтовый индекс владельца анкеты (пользователя), так как возможно можно будет отследить изменение цены по регионам.\n",
    "- `NumberOfPictures` - количество фотографий автомобиля, инетересно понаблюдать как это вообще влияет. Возмодно владельцы, которым  нечего скрывать, выкладывают больше фотографий."
   ]
  },
  {
   "cell_type": "markdown",
   "metadata": {},
   "source": [
    "### Изучим данные"
   ]
  },
  {
   "cell_type": "markdown",
   "metadata": {},
   "source": [
    "Выведем общую  информацию о датасете"
   ]
  },
  {
   "cell_type": "code",
   "execution_count": null,
   "metadata": {
    "scrolled": false
   },
   "outputs": [],
   "source": [
    "df.info()"
   ]
  },
  {
   "cell_type": "code",
   "execution_count": null,
   "metadata": {},
   "outputs": [],
   "source": [
    "df.describe()"
   ]
  },
  {
   "cell_type": "markdown",
   "metadata": {},
   "source": [
    "**признак NumberOfPictures не имеет каких-либо значений отличных от 0, значит, он не несет никакого практического смысла для нас, можем его удалить**"
   ]
  },
  {
   "cell_type": "markdown",
   "metadata": {},
   "source": [
    "В данных присутствую пропуски, в признаках отвечающих за дату нужно изменить тип данных на дату. Посмотрим на типы данных повнимательнее"
   ]
  },
  {
   "cell_type": "code",
   "execution_count": null,
   "metadata": {},
   "outputs": [],
   "source": [
    "df.dtypes"
   ]
  },
  {
   "cell_type": "markdown",
   "metadata": {},
   "source": [
    "Скопируем изначальный датасет в запасную переменную"
   ]
  },
  {
   "cell_type": "code",
   "execution_count": null,
   "metadata": {},
   "outputs": [],
   "source": [
    "df_init = df.copy()"
   ]
  },
  {
   "cell_type": "code",
   "execution_count": null,
   "metadata": {},
   "outputs": [],
   "source": [
    "df_1 = df.copy()"
   ]
  },
  {
   "cell_type": "code",
   "execution_count": null,
   "metadata": {},
   "outputs": [],
   "source": [
    "%%time\n",
    "\n",
    "df_1=df_1.drop('LastSeen', axis=1)"
   ]
  },
  {
   "cell_type": "code",
   "execution_count": null,
   "metadata": {},
   "outputs": [],
   "source": [
    "%%time\n",
    "\n",
    "del df['LastSeen']\n"
   ]
  },
  {
   "cell_type": "markdown",
   "metadata": {},
   "source": [
    "будем использовать конструкцию drop, так как она привычнее и можно удалить сразу несколько столбцов"
   ]
  },
  {
   "cell_type": "code",
   "execution_count": null,
   "metadata": {},
   "outputs": [],
   "source": [
    "df.columns"
   ]
  },
  {
   "cell_type": "code",
   "execution_count": null,
   "metadata": {},
   "outputs": [],
   "source": [
    "df = df.drop(['DateCrawled', 'DateCreated','NumberOfPictures'],axis=1)"
   ]
  },
  {
   "cell_type": "markdown",
   "metadata": {},
   "source": [
    "\n",
    "<div class=\"alert alert-block alert-success\">\n",
    "<b>Успех:</b> Удалить неинформативные признаки - верное решение.\n",
    "</div>"
   ]
  },
  {
   "cell_type": "code",
   "execution_count": null,
   "metadata": {},
   "outputs": [],
   "source": [
    "df.columns"
   ]
  },
  {
   "cell_type": "markdown",
   "metadata": {},
   "source": [
    "Выделим int и object признаки"
   ]
  },
  {
   "cell_type": "code",
   "execution_count": null,
   "metadata": {},
   "outputs": [],
   "source": [
    "df.dtypes"
   ]
  },
  {
   "cell_type": "code",
   "execution_count": null,
   "metadata": {},
   "outputs": [],
   "source": [
    "numeric_feats = ['Price', 'RegistrationYear','Power','Kilometer','RegistrationMonth','PostalCode']\n",
    "obj_feats = ['VehicleType','Gearbox','Model','FuelType','Brand','Repaired']"
   ]
  },
  {
   "cell_type": "markdown",
   "metadata": {},
   "source": [
    "#### Разберемся с пропусками"
   ]
  },
  {
   "cell_type": "code",
   "execution_count": null,
   "metadata": {},
   "outputs": [],
   "source": [
    "df.isna().sum()"
   ]
  },
  {
   "cell_type": "code",
   "execution_count": null,
   "metadata": {},
   "outputs": [],
   "source": [
    "display(df['VehicleType'].unique())\n",
    "df['VehicleType'].value_counts()"
   ]
  },
  {
   "cell_type": "code",
   "execution_count": null,
   "metadata": {},
   "outputs": [],
   "source": [
    "df.groupby(by=['Brand','PostalCode']).mean()"
   ]
  },
  {
   "cell_type": "markdown",
   "metadata": {},
   "source": [
    "**избавимся от пропусков**\n"
   ]
  },
  {
   "cell_type": "code",
   "execution_count": null,
   "metadata": {},
   "outputs": [],
   "source": [
    "df_test = df.copy()"
   ]
  },
  {
   "cell_type": "markdown",
   "metadata": {},
   "source": [
    "Посмотрим какой у нас баланс в каждом признаке"
   ]
  },
  {
   "cell_type": "code",
   "execution_count": null,
   "metadata": {},
   "outputs": [],
   "source": [
    "filled_objects = ['VehicleType','Gearbox','Model','FuelType','Repaired'] # объекты которые подлежат заполнению"
   ]
  },
  {
   "cell_type": "code",
   "execution_count": null,
   "metadata": {
    "scrolled": true
   },
   "outputs": [],
   "source": [
    "for feat in filled_objects:\n",
    "    df[feat].value_counts().plot(kind='bar',figsize=(10,10), title=feat);\n",
    "    plt.show()\n",
    "# df_test[['VehicleType','Gearbox','Model','FuelType','Repaired']].value_counts().plot(kind='bar',figsize=(10,10));"
   ]
  },
  {
   "cell_type": "markdown",
   "metadata": {},
   "source": []
  },
  {
   "cell_type": "code",
   "execution_count": null,
   "metadata": {},
   "outputs": [],
   "source": [
    "df[['VehicleType','Gearbox','Model','FuelType','Repaired']] = (df\n",
    "         .groupby(['Brand'])[['VehicleType','Gearbox','Model','FuelType','Repaired']]  # группируем авто по маркам\n",
    "         .apply(lambda x: x.sort_values(by='VehicleType').fillna(method=\"bfill\").fillna(method=\"ffill\"))  # производим замены внутри групп марок\n",
    "         .droplevel(0)   # избавляемся от мультииндекса\n",
    "         .sort_index(ascending=True))[['VehicleType','Gearbox','Model','FuelType','Repaired']] # сортируем строки по индексу"
   ]
  },
  {
   "cell_type": "code",
   "execution_count": null,
   "metadata": {},
   "outputs": [],
   "source": [
    "df.isna().sum()"
   ]
  },
  {
   "cell_type": "code",
   "execution_count": null,
   "metadata": {
    "scrolled": false
   },
   "outputs": [],
   "source": [
    "df = df.dropna(subset=['Model'])\n",
    "df.isna().sum()"
   ]
  },
  {
   "cell_type": "markdown",
   "metadata": {},
   "source": [
    "<div class=\"alert alert-block alert-success\">\n",
    "<b>Успех:</b> Пропуски обработаны хорошим образом\n",
    "</div>\n",
    "\n",
    "\n",
    "<div class=\"alert alert-block alert-info\">\n",
    "<b>Совет:</b> У fuel_type есть категории, которые означают одно и тоже - их можно объединить, либо подумать может они действительно означают, что-то разное.\n",
    "</div>\n"
   ]
  },
  {
   "cell_type": "markdown",
   "metadata": {},
   "source": [
    "<div class=\"alert alert-block alert-warning\">\n",
    "<b>Комментарий студента:</b> \n",
    "   Дествительно, изучим две самых популярные категории. Petrol и gasoline это два английских слова для одного русского - бензин.\n",
    "    \n",
    "   НО, считаю, что не стоит их объединять в одну группу, потому что это версии британская и американская, значит машины тоже скорее всего принадлежат к разным странам производства, значит эти категории могут по-разному влиять на цены!\n",
    "    \n",
    "</div>"
   ]
  },
  {
   "cell_type": "markdown",
   "metadata": {},
   "source": [
    "<div class=\"alert alert-block alert-success\">\n",
    "<b>Успех[2]:</b> Звучит логично - версию принял.\n",
    "</div>\n"
   ]
  },
  {
   "cell_type": "code",
   "execution_count": null,
   "metadata": {
    "scrolled": false
   },
   "outputs": [],
   "source": [
    "%%time\n",
    "filled_objects = ['VehicleType','Gearbox','FuelType','Repaired'] # объекты которые подлежат заполнению\n",
    "\n",
    "plt.figure(figsize=(10,10))\n",
    "for feat in filled_objects:\n",
    "    df_dinamic = pd.concat([df_test[feat].value_counts(),df[feat].value_counts()],names=['1','2'],axis=1)\n",
    "    df_dinamic.columns=[str(feat)+' before change', str(feat)+' after change']\n",
    "    df_dinamic.plot(kind='bar', );\n",
    "    plt.show();"
   ]
  },
  {
   "cell_type": "markdown",
   "metadata": {},
   "source": [
    "отлично, заменили пропуски, примерно сохранив баланс классов."
   ]
  },
  {
   "cell_type": "markdown",
   "metadata": {},
   "source": [
    "#### Проверим датасет на аномалии"
   ]
  },
  {
   "cell_type": "code",
   "execution_count": null,
   "metadata": {
    "scrolled": false
   },
   "outputs": [],
   "source": [
    "for feat in numeric_feats: \n",
    "    df[feat].plot(kind='box',grid=True, title='box plot for '+str(feat))\n",
    "    plt.show()"
   ]
  },
  {
   "cell_type": "code",
   "execution_count": null,
   "metadata": {},
   "outputs": [],
   "source": [
    "xl = [(0,20100), (1900,2100),(0,300),(0, 160000), (0,12),(0,100001)]\n",
    "i = 0\n",
    "for feat in numeric_feats: \n",
    "    df[feat].plot(kind='hist',grid=True, title='hist plot for '+str(feat), bins=100,xlim=xl[i])\n",
    "    plt.show()\n",
    "    i+=1\n",
    "    "
   ]
  },
  {
   "cell_type": "markdown",
   "metadata": {},
   "source": [
    "#### Исправляем аномалии"
   ]
  },
  {
   "cell_type": "markdown",
   "metadata": {},
   "source": [
    "**Цена**"
   ]
  },
  {
   "cell_type": "markdown",
   "metadata": {},
   "source": [
    "Цены оставим почти без изменений, но нужно только избавиться от совсем маленьких стоимостей.\n"
   ]
  },
  {
   "cell_type": "code",
   "execution_count": null,
   "metadata": {},
   "outputs": [],
   "source": [
    "df.loc[(df['Price']<100)&(df['Price']>=0)].shape"
   ]
  },
  {
   "cell_type": "markdown",
   "metadata": {},
   "source": [
    "Избавимся от этих данных, потому что их не так много ,чтобы это как-то серьезно сказалось на обучении."
   ]
  },
  {
   "cell_type": "code",
   "execution_count": null,
   "metadata": {},
   "outputs": [],
   "source": [
    "df = df.loc[df['Price']>100]\n",
    "df.shape"
   ]
  },
  {
   "cell_type": "markdown",
   "metadata": {},
   "source": [
    "\n",
    "<div class=\"alert alert-block alert-success\">\n",
    "<b>Успех:</b>  Самое интересное, что на нескольких сайтов по продажам подержанных автомобилей в Германии (страну можно определить по почтовым индексам, большинство из них из Германии) показало, что цены начинаются действительно с 0 и 1 евро, но это единичные объявления и не понятно, то ли это ошибка при заполнении формы, то ли машины на металлолом. Но я  все-таки склоняюсь к тому, чтобы избавиться от таких данных\n",
    "</div>\n"
   ]
  },
  {
   "cell_type": "markdown",
   "metadata": {},
   "source": [
    "**Год регистрации**"
   ]
  },
  {
   "cell_type": "markdown",
   "metadata": {},
   "source": [
    "Проанализировав сайт auto.ru стало заметно, что до 1960 года, можно найти только очень редкие автомобили, и их всего 120 штук, поэтому посмотрим сколько всего позиций выходит за пределы наших рамок"
   ]
  },
  {
   "cell_type": "code",
   "execution_count": null,
   "metadata": {},
   "outputs": [],
   "source": [
    "df.loc[(df['RegistrationYear']<=1960)|(df['RegistrationYear']>=2023)].shape"
   ]
  },
  {
   "cell_type": "code",
   "execution_count": null,
   "metadata": {},
   "outputs": [],
   "source": [
    "df.shape"
   ]
  },
  {
   "cell_type": "markdown",
   "metadata": {},
   "source": [
    "Уверен, что мы смело можем отбросим эти неммногочисленные аномалии"
   ]
  },
  {
   "cell_type": "code",
   "execution_count": null,
   "metadata": {},
   "outputs": [],
   "source": [
    "df = df.loc[(df['RegistrationYear']>1960)&(df['RegistrationYear']<=2023)]\n",
    "df.shape"
   ]
  },
  {
   "cell_type": "markdown",
   "metadata": {},
   "source": [
    "\n",
    "<div class=\"alert alert-block alert-info\">\n",
    "<b>Совет:</b> Советую посмотреть на дату выгрузки анкет - там тоже можно увидеть полезную информацию по поводу границ года регистраци.\n",
    "</div>\n",
    "\n",
    "\n"
   ]
  },
  {
   "cell_type": "code",
   "execution_count": null,
   "metadata": {},
   "outputs": [],
   "source": [
    "df_init.columns"
   ]
  },
  {
   "cell_type": "code",
   "execution_count": null,
   "metadata": {},
   "outputs": [],
   "source": [
    "df_init.loc[(df_init['RegistrationYear']<1960)|(df_init['RegistrationYear']>2023),['DateCrawled','RegistrationYear']].head(20)"
   ]
  },
  {
   "cell_type": "markdown",
   "metadata": {},
   "source": [
    "<div class=\"alert alert-block alert-warning\">\n",
    "<b>Комментарий студента:</b> \n",
    "    \n",
    "   Не заметил никакой закономерности):\n",
    "</div>"
   ]
  },
  {
   "cell_type": "markdown",
   "metadata": {},
   "source": [
    "<div class=\"alert alert-block alert-success\">\n",
    "<b>Ответ[2]:</b> Год регистрации авто не может быть больше даты скачивания анкеты из базы\n",
    "</div>\n"
   ]
  },
  {
   "cell_type": "markdown",
   "metadata": {},
   "source": [
    "**Количество сил**"
   ]
  },
  {
   "cell_type": "markdown",
   "metadata": {},
   "source": [
    "Проанализировав сайт auto.ru, могу сказать, что зачастую автомобили имеют количество сил менее 350, но бывают исключения, бы на них постараемся закрыть глаза, потом учто это уже очень редко попадающиеся автомобили.\n",
    "\n",
    "Проверим сколько таких автомобилей есть в наших данных."
   ]
  },
  {
   "cell_type": "code",
   "execution_count": null,
   "metadata": {},
   "outputs": [],
   "source": [
    "df.loc[df['Power']>350].shape"
   ]
  },
  {
   "cell_type": "markdown",
   "metadata": {},
   "source": [
    "Очень маленькое количество вылезает за эти пределы, поэтому безболезненно отбросим эти строки"
   ]
  },
  {
   "cell_type": "code",
   "execution_count": null,
   "metadata": {},
   "outputs": [],
   "source": [
    "df['Power'].plot(kind='box', ylim=(0,100))"
   ]
  },
  {
   "cell_type": "code",
   "execution_count": null,
   "metadata": {},
   "outputs": [],
   "source": [
    "df.loc[df['Power']<1].shape"
   ]
  },
  {
   "cell_type": "code",
   "execution_count": null,
   "metadata": {},
   "outputs": [],
   "source": [
    "df.loc[df['Power']<50].shape"
   ]
  },
  {
   "cell_type": "markdown",
   "metadata": {},
   "source": [
    "Реалистичная мощность автомобилей находится в пределах 50-350 л.с."
   ]
  },
  {
   "cell_type": "code",
   "execution_count": null,
   "metadata": {},
   "outputs": [],
   "source": [
    "df = df.loc[(df['Power']<=350)&(df['Power']>=50)]\n",
    "df.shape"
   ]
  },
  {
   "cell_type": "markdown",
   "metadata": {},
   "source": [
    "\n",
    "<div class=\"alert alert-block alert-info\">\n",
    "<b>Совет:</b> А около-нулевые мощности?\n",
    "\n",
    "\n"
   ]
  },
  {
   "cell_type": "markdown",
   "metadata": {},
   "source": [
    "<div class=\"alert alert-block alert-warning\">\n",
    "<b>Комментарий студента:</b> \n",
    "    \n",
    "   Точно! Исправил это!\n",
    "</div>"
   ]
  },
  {
   "cell_type": "markdown",
   "metadata": {},
   "source": [
    "<div class=\"alert alert-block alert-success\">\n",
    "<b>Успех[2]:</b> Есть\n",
    "</div>\n"
   ]
  },
  {
   "cell_type": "markdown",
   "metadata": {},
   "source": [
    "**Пробег**"
   ]
  },
  {
   "cell_type": "markdown",
   "metadata": {},
   "source": [
    "Пробег трогать не будет, потому что значения лежат в пределах нормы, поэтому оставим все как есть"
   ]
  },
  {
   "cell_type": "markdown",
   "metadata": {},
   "source": [
    "**Месяц регистрации**"
   ]
  },
  {
   "cell_type": "markdown",
   "metadata": {},
   "source": [
    "Месяц регистрации, на столбчатом графике видим, что значения месяца регистрации имеют значения от 0 до 12, очевидно, что нет 0го месяца. Поэтому заменим его на рандомное значение в пределах от 1 до 12 включительно. Потому что не совсем понятно как именно влияет месяц регистрации на стоимость. Но я слышал убеждение, что есть действительно такая закономерность, постараемся ее тоже проверить."
   ]
  },
  {
   "cell_type": "code",
   "execution_count": null,
   "metadata": {},
   "outputs": [],
   "source": [
    "state = np.random.RandomState(12345)"
   ]
  },
  {
   "cell_type": "code",
   "execution_count": null,
   "metadata": {},
   "outputs": [],
   "source": [
    "df.loc[df['RegistrationMonth']==0, 'RegistrationMonth'] = np.random.randint(1,12)\n"
   ]
  },
  {
   "cell_type": "code",
   "execution_count": null,
   "metadata": {},
   "outputs": [],
   "source": [
    "df['RegistrationMonth'].plot(kind='hist',grid=True, title='hist plot for RegistrationMonth', bins=100)\n",
    "plt.show()"
   ]
  },
  {
   "cell_type": "markdown",
   "metadata": {},
   "source": [
    "**Почтовый индекс**"
   ]
  },
  {
   "cell_type": "markdown",
   "metadata": {},
   "source": [
    "С почтовым индексом все впорядке"
   ]
  },
  {
   "cell_type": "markdown",
   "metadata": {},
   "source": [
    "### Проверим на явные дубликаты"
   ]
  },
  {
   "cell_type": "code",
   "execution_count": null,
   "metadata": {},
   "outputs": [],
   "source": [
    "df.duplicated().sum()"
   ]
  },
  {
   "cell_type": "code",
   "execution_count": null,
   "metadata": {},
   "outputs": [],
   "source": [
    "df = df.drop_duplicates()"
   ]
  },
  {
   "cell_type": "code",
   "execution_count": null,
   "metadata": {},
   "outputs": [],
   "source": [
    "df.duplicated().sum()"
   ]
  },
  {
   "cell_type": "code",
   "execution_count": null,
   "metadata": {},
   "outputs": [],
   "source": [
    "df.shape"
   ]
  },
  {
   "cell_type": "markdown",
   "metadata": {},
   "source": [
    "### Попробуем найти неявные дубликаты"
   ]
  },
  {
   "cell_type": "code",
   "execution_count": null,
   "metadata": {},
   "outputs": [],
   "source": [
    "df.columns"
   ]
  },
  {
   "cell_type": "code",
   "execution_count": null,
   "metadata": {},
   "outputs": [],
   "source": [
    "df['VehicleType'].unique()"
   ]
  },
  {
   "cell_type": "code",
   "execution_count": null,
   "metadata": {},
   "outputs": [],
   "source": [
    "df['Gearbox'].unique()"
   ]
  },
  {
   "cell_type": "code",
   "execution_count": null,
   "metadata": {
    "scrolled": true
   },
   "outputs": [],
   "source": [
    "df['Model'].sort_values().unique()"
   ]
  },
  {
   "cell_type": "code",
   "execution_count": null,
   "metadata": {},
   "outputs": [],
   "source": [
    "df['Brand'].sort_values().unique()"
   ]
  },
  {
   "cell_type": "markdown",
   "metadata": {},
   "source": [
    "Неявных дубликатов обнаружено не было!"
   ]
  },
  {
   "cell_type": "markdown",
   "metadata": {},
   "source": [
    "### Итоги подготовки данных"
   ]
  },
  {
   "cell_type": "markdown",
   "metadata": {},
   "source": [
    "Провели все необходимые проверки данных.\n",
    "\n",
    "Посмотрели на количество пропусков. Устранили пропуски за счет замены их на значения, которые получили при разделение на группы по брендам, так как в брендах нет пропусков, не появилось никаких аномалий.\n",
    "\n",
    "Проверили данные на аномалии, избавились от выбросов, удалив данные, так как их количество было мало.\n",
    "\n",
    "Проверили на явные и неявные дубликаты, удалили явные дубликаты, неявных дубликатов в данных нет."
   ]
  },
  {
   "cell_type": "markdown",
   "metadata": {},
   "source": [
    "\n",
    "<div class=\"alert alert-block alert-success\">\n",
    "<b>Успех:</b> В целом хорошая, детальная предобработка - идем дальше\n",
    "</div>\n",
    "\n",
    "<div class=\"alert alert-block alert-info\">\n",
    "<b>Совет:</b> \n",
    "\n",
    " Советую обратить внимание на библиотеки sweetviz и pandas_profiling помогут в проведении более тщательного EDA анализа. Исследовательский анализ можно делать и с помощью ручного вызова функций дефолтных библиотек. Данные библиотеки хороши для максимизации комфорта презентации результатов анализа бизнес-пользователям. \n",
    "    \n",
    "Очень просты в использоовании, на вход кладется датафрейм: pandas_profiling.ProfileReport(df) \n",
    "</div>\n"
   ]
  },
  {
   "cell_type": "code",
   "execution_count": null,
   "metadata": {},
   "outputs": [],
   "source": [
    "!pip3 install pandas_profiling[notebook]"
   ]
  },
  {
   "cell_type": "code",
   "execution_count": null,
   "metadata": {
    "scrolled": true
   },
   "outputs": [],
   "source": [
    "from pandas_profiling import ProfileReport\n",
    "\n",
    "\n",
    "profile = ProfileReport(df, title=\"Pandas Profiling Report\")\n",
    "\n",
    "# запускаем показ профиля\n",
    "profile"
   ]
  },
  {
   "cell_type": "markdown",
   "metadata": {},
   "source": [
    "## Обучение моделей"
   ]
  },
  {
   "cell_type": "markdown",
   "metadata": {},
   "source": [
    "Наша задача заключается в тестировании нескольких моделей.Этими моделями будут:\n",
    "- [x] LinearRegression\n",
    "- [x] RandomForestRegressor\n",
    "- [x] LightGBM\n",
    "- [x] CatBoost\n",
    "\n",
    "\n"
   ]
  },
  {
   "cell_type": "markdown",
   "metadata": {},
   "source": [
    "### Разделим данные на выборки"
   ]
  },
  {
   "cell_type": "markdown",
   "metadata": {},
   "source": [
    "Приходится делить выборки в отношении 6:4, потому что иначе при большей обучающей выборке умирает ядро):"
   ]
  },
  {
   "cell_type": "markdown",
   "metadata": {},
   "source": [
    "<div class=\"alert alert-block alert-warning\">\n",
    "<b>Изменения:</b> Были внесены следующие изменения:\n",
    "    \n",
    "   Вернул валидационную выборку, так как все-таки использовать только кросс-валидацию не лучшая идея, так как нам надо отдельно узнавать врем яна обучение и на валидацию(предсказание)\n",
    "</div>\n"
   ]
  },
  {
   "cell_type": "code",
   "execution_count": null,
   "metadata": {},
   "outputs": [],
   "source": [
    "features = df.drop('Price', axis=1)\n",
    "target = df['Price']\n",
    "\n",
    "features_train, features_valid_test, target_train, target_valid_test = train_test_split(features, target, test_size=0.4, random_state=12345)\n",
    "features_valid, features_test, target_valid, target_test = train_test_split(features_valid_test, target_valid_test, test_size=0.5, random_state=12345)\n",
    "\n",
    "\n",
    "\n",
    "print('Соотношение выборок: обучающая', features_train.shape[0],': валидационная',features_valid.shape[0],': тестовая',features_test.shape[0])"
   ]
  },
  {
   "cell_type": "markdown",
   "metadata": {},
   "source": [
    "#### Проведем прямое кодирование, бинарное кодирование для категориальных признаков."
   ]
  },
  {
   "cell_type": "code",
   "execution_count": null,
   "metadata": {
    "scrolled": true
   },
   "outputs": [],
   "source": [
    "features_train.dtypes"
   ]
  },
  {
   "cell_type": "code",
   "execution_count": null,
   "metadata": {
    "scrolled": true
   },
   "outputs": [],
   "source": [
    "encoder_ohe = OneHotEncoder(handle_unknown='ignore', sparse=False)\n",
    "\n",
    "obj_feats = features_train.select_dtypes(include='object').columns.to_list()\n",
    "\n",
    "encoder_ohe.fit(features_train[obj_feats])\n",
    "\n",
    "# print(encoder_ohe.get_feature_names())\n",
    "# features_train[] = encoder_ohe.transform(features_train[obj_feats])\n",
    "\n"
   ]
  },
  {
   "cell_type": "code",
   "execution_count": null,
   "metadata": {},
   "outputs": [],
   "source": [
    "features_train_ohed = features_train.copy()\n",
    "\n",
    "features_train_ohed[encoder_ohe.get_feature_names()] = encoder_ohe.transform(features_train_ohed[obj_feats])\n",
    "\n",
    "features_train_ohed = features_train_ohed.drop(obj_feats, axis=1)"
   ]
  },
  {
   "cell_type": "code",
   "execution_count": null,
   "metadata": {},
   "outputs": [],
   "source": [
    "features_test_ohed = features_test.copy()\n",
    "features_test_ohed[encoder_ohe.get_feature_names()] = encoder_ohe.transform(features_test_ohed[obj_feats])\n",
    "\n",
    "features_test_ohed = features_test_ohed.drop(obj_feats, axis=1)"
   ]
  },
  {
   "cell_type": "code",
   "execution_count": null,
   "metadata": {},
   "outputs": [],
   "source": [
    "features_valid_ohed = features_valid.copy()\n",
    "features_valid_ohed[encoder_ohe.get_feature_names()] = encoder_ohe.transform(features_valid_ohed[obj_feats])\n",
    "\n",
    "features_valid_ohed = features_valid_ohed.drop(obj_feats, axis=1)"
   ]
  },
  {
   "cell_type": "markdown",
   "metadata": {},
   "source": [
    "Провели прямое кодирование(One Hot Encoding) теперь приступим к обучению"
   ]
  },
  {
   "cell_type": "markdown",
   "metadata": {},
   "source": [
    "\n",
    "<div class=\"alert alert-block alert-danger\">\n",
    "\n",
    "<b>Ошибка:</b>  OHE правильный выбор для линейных моделей. Но для всех других моделей выбор плохой (из-за фактора модели, который порождает много факторов), для заказчика важно время обучения и скорость предсказания, а данные модели могут работать и с другими методами кодировками значительно быстреее, не теряя при этом в качестве.\n",
    "\n",
    "Я тебе могу предложить, что можно сделать:\n",
    "    \n",
    "- Сделать 1 набор данных: \n",
    "    - Закодировать для всех моделей методом TargetEncoder, BinaryEncoder - вполне универсальные варианты\n",
    "    - Закодировать все признаки методом OHE, а модель машины методом OE\n",
    "    - Убрать использование линейных моделей (так как их рассмотрение не обязательно) и использовать единственный метод кодировки OE.\n",
    "- Сделать 2 набора данных\n",
    "    - Закодировать для линейных моделей методом OHE, для остальных OE (или внутренний метод кодирования данных)\n",
    "    \n",
    "\n",
    "</div>\n",
    "\n"
   ]
  },
  {
   "cell_type": "markdown",
   "metadata": {},
   "source": [
    "\n",
    "<div class=\"alert alert-block alert-warning\">\n",
    "<b>Изменения:</b> Были внесены следующие изменения:\n",
    "    \n",
    "   Заменил прямое кодирование на бинарное. Применил это кодирование для данных, будем сначала обучать все модели ~~кроме линейной, ее мы уберем~~ РЕшил оставить, так как весь код есть и менять что-то необходимости нет\n",
    "</div>\n"
   ]
  },
  {
   "cell_type": "markdown",
   "metadata": {},
   "source": [
    "\n",
    "<div class=\"alert alert-block alert-success\">\n",
    "    \n",
    "<b>Успех[2]:</b> 👍\n",
    "</div>\n"
   ]
  },
  {
   "cell_type": "code",
   "execution_count": null,
   "metadata": {},
   "outputs": [],
   "source": [
    "features_train_encoded = ce.BinaryEncoder().fit_transform(features_train)\n",
    "features_train_encoded.head()"
   ]
  },
  {
   "cell_type": "code",
   "execution_count": null,
   "metadata": {},
   "outputs": [],
   "source": [
    "binenc = ce.BinaryEncoder().fit(features_train)\n",
    "features_test_encoded = binenc.transform(features_test)"
   ]
  },
  {
   "cell_type": "code",
   "execution_count": null,
   "metadata": {},
   "outputs": [],
   "source": [
    "features_valid_encoded = binenc.transform(features_valid)"
   ]
  },
  {
   "cell_type": "code",
   "execution_count": null,
   "metadata": {},
   "outputs": [],
   "source": [
    "features_test_encoded.head()"
   ]
  },
  {
   "cell_type": "markdown",
   "metadata": {},
   "source": [
    "### Линейная регрессия"
   ]
  },
  {
   "cell_type": "code",
   "execution_count": null,
   "metadata": {},
   "outputs": [],
   "source": [
    "numeric = numeric_feats[1:]\n",
    "numeric"
   ]
  },
  {
   "cell_type": "markdown",
   "metadata": {},
   "source": [
    "#### Масштабируем данные для линейной регрессии"
   ]
  },
  {
   "cell_type": "code",
   "execution_count": null,
   "metadata": {
    "scrolled": true
   },
   "outputs": [],
   "source": [
    "scaler = StandardScaler()\n",
    "\n",
    "scaler.fit(features_train[numeric])\n",
    "\n",
    "features_train_scaled, features_test_scaled = features_train.copy(), features_test.copy()\n",
    "\n",
    "\n",
    "features_train_scaled_ohed = features_train_ohed.copy()\n",
    "# features_valid_scaled_ohed = features_valid_ohed.copy()\n",
    "features_test_scaled_ohed = features_test_ohed.copy()\n",
    "\n",
    "features_train_scaled_ohed[numeric] = scaler.transform(features_train[numeric])\n",
    "# features_valid_scaled_ohed[numeric] = scaler.transform(features_valid[numeric])\n",
    "features_test_scaled_ohed[numeric]  = scaler.transform(features_test[numeric])\n",
    "\n",
    "# scaler= StandardScaler()\n",
    "# features_valid[numeric] = scaler.transform(features_valid[numeric])"
   ]
  },
  {
   "cell_type": "code",
   "execution_count": null,
   "metadata": {
    "scrolled": true
   },
   "outputs": [],
   "source": [
    "features_train_scaled_ohed.columns"
   ]
  },
  {
   "cell_type": "markdown",
   "metadata": {},
   "source": [
    "<div class=\"alert alert-block alert-success\">\n",
    "<b>Успех:</b> Препроцессоры применены корректно"
   ]
  },
  {
   "cell_type": "markdown",
   "metadata": {},
   "source": [
    "####  Приступим к обучению регрессии"
   ]
  },
  {
   "cell_type": "code",
   "execution_count": null,
   "metadata": {},
   "outputs": [],
   "source": [
    "%%time\n",
    "model_l = LinearRegression()\n",
    "\n",
    "\n",
    "# (lasso, X, y, cv=3) model, feats, targ, cv\n",
    "predictions_cv_lin = model_l.fit(features_train_ohed, target_train)"
   ]
  },
  {
   "cell_type": "code",
   "execution_count": null,
   "metadata": {},
   "outputs": [],
   "source": [
    "%%time\n",
    "predictions_lin_valid = model_l.predict(features_valid_ohed)"
   ]
  },
  {
   "cell_type": "code",
   "execution_count": null,
   "metadata": {},
   "outputs": [],
   "source": [
    "rmse_cv_lin = mean_squared_error(target_valid, predictions_lin_valid)**0.5\n",
    "print('RMSE Линейной регресси равно:', rmse_cv_lin)"
   ]
  },
  {
   "cell_type": "markdown",
   "metadata": {},
   "source": [
    "Очень плохой результат показала линейная регрессия, перейдем к случайному лесу"
   ]
  },
  {
   "cell_type": "code",
   "execution_count": null,
   "metadata": {},
   "outputs": [],
   "source": [
    "time_fit_lin = 22.7 # секунд\n",
    "time_pred_lin = 0.077\n",
    "rmse_valid_lin = 2614.89"
   ]
  },
  {
   "cell_type": "markdown",
   "metadata": {},
   "source": [
    "### Случайный лес"
   ]
  },
  {
   "cell_type": "markdown",
   "metadata": {},
   "source": [
    "<div class=\"alert alert-block alert-warning\">\n",
    "<b>Изменения:</b> Поменял выборку с прямым кодированием на выборку с бинарным кодированием\n",
    "</div>"
   ]
  },
  {
   "cell_type": "code",
   "execution_count": null,
   "metadata": {},
   "outputs": [],
   "source": [
    "%%time\n",
    "best_depth = 0\n",
    "\n",
    "\n",
    "best_est = 0\n",
    "\n",
    "rmse_f_best = 1e300\n",
    "\n",
    "depthes = [None]+[i for i in range(2,7)]\n",
    "for depth in tqdm(depthes):\n",
    "    for est in range(10,121,25):\n",
    "        \n",
    "        model_f = RandomForestRegressor(n_estimators=est, max_depth=depth, random_state=12345)\n",
    "        \n",
    "        predictions_cv_forest = cross_val_predict(model_f, features_train_encoded, target_train)\n",
    "        rmse = mean_squared_error(target_train, predictions_cv_forest)\n",
    "        if rmse < rmse_f_best:\n",
    "            best_depth = depth\n",
    "            best_est = est \n",
    "            rmse_f_best = rmse\n",
    "        "
   ]
  },
  {
   "attachments": {
    "%D0%B8%D0%B7%D0%BE%D0%B1%D1%80%D0%B0%D0%B6%D0%B5%D0%BD%D0%B8%D0%B5-2.png": {
     "image/png": "[encoded data removed]"
    }
   },
   "cell_type": "markdown",
   "metadata": {},
   "source": [
    "![%D0%B8%D0%B7%D0%BE%D0%B1%D1%80%D0%B0%D0%B6%D0%B5%D0%BD%D0%B8%D0%B5-2.png](attachment:%D0%B8%D0%B7%D0%BE%D0%B1%D1%80%D0%B0%D0%B6%D0%B5%D0%BD%D0%B8%D0%B5-2.png)"
   ]
  },
  {
   "cell_type": "code",
   "execution_count": null,
   "metadata": {},
   "outputs": [],
   "source": [
    "print('Лучший rmse случайного леса равен:', rmse_f_best)\n",
    "print('Лучшая глубина леса', best_depth, 'лучшее количество деревьев', best_est)"
   ]
  },
  {
   "attachments": {
    "%D0%B8%D0%B7%D0%BE%D0%B1%D1%80%D0%B0%D0%B6%D0%B5%D0%BD%D0%B8%D0%B5.png": {
     "image/png": "[encoded data removed]"
    }
   },
   "cell_type": "markdown",
   "metadata": {},
   "source": [
    "![%D0%B8%D0%B7%D0%BE%D0%B1%D1%80%D0%B0%D0%B6%D0%B5%D0%BD%D0%B8%D0%B5.png](attachment:%D0%B8%D0%B7%D0%BE%D0%B1%D1%80%D0%B0%D0%B6%D0%B5%D0%BD%D0%B8%D0%B5.png)"
   ]
  },
  {
   "cell_type": "markdown",
   "metadata": {},
   "source": [
    "**Теперь обучим модель на обучающей выборке и протестируем на валидационной**"
   ]
  },
  {
   "cell_type": "code",
   "execution_count": null,
   "metadata": {},
   "outputs": [],
   "source": [
    "model_f = RandomForestRegressor(n_estimators=110, max_depth=None, random_state=12345)"
   ]
  },
  {
   "cell_type": "code",
   "execution_count": null,
   "metadata": {},
   "outputs": [],
   "source": [
    "%%time\n",
    "model_f.fit(features_train_encoded, target_train)"
   ]
  },
  {
   "cell_type": "code",
   "execution_count": null,
   "metadata": {},
   "outputs": [],
   "source": [
    "%%time\n",
    "predictions_f = model_f.predict(features_valid_encoded)"
   ]
  },
  {
   "cell_type": "markdown",
   "metadata": {},
   "source": [
    "Посмотрим на результаты"
   ]
  },
  {
   "cell_type": "code",
   "execution_count": null,
   "metadata": {},
   "outputs": [],
   "source": [
    "rmse_forest = mean_squared_error(predictions_f,target_valid)**0.5\n",
    "print('RMSE случайного леса равно:',rmse_forest)"
   ]
  },
  {
   "cell_type": "code",
   "execution_count": null,
   "metadata": {},
   "outputs": [],
   "source": [
    "time_fit_f = 1*60+44\n",
    "time_pred_f = 3\n",
    "rmse_forest = 1647"
   ]
  },
  {
   "cell_type": "markdown",
   "metadata": {},
   "source": [
    "\n",
    "\n",
    "\n",
    "\n",
    "\n",
    "\n",
    "\n",
    "\n",
    "\n",
    "\n",
    "\n",
    "\n",
    "\n",
    "\n",
    "\n",
    "\n",
    "\n",
    "\n",
    "\n",
    "\n",
    "\n",
    "\n",
    "\n",
    "\n",
    "\n",
    "\n",
    "\n",
    "\n",
    "\n",
    "\n",
    "\n",
    "\n",
    "\n",
    "\n",
    "\n",
    "\n",
    "\n",
    "\n",
    "\n",
    "\n",
    "\n",
    "\n",
    "\n",
    "\n",
    "\n",
    "\n",
    "\n",
    "\n",
    "\n",
    "\n",
    "\n",
    "\n",
    "\n",
    "\n",
    "\n",
    "\n",
    "\n",
    "\n",
    "\n",
    "\n",
    "\n",
    "\n",
    "\n",
    "\n",
    "\n",
    "\n",
    "\n",
    "\n",
    "\n",
    "\n",
    "\n",
    "\n",
    "\n",
    "\n",
    "\n",
    "\n",
    "\n",
    "\n",
    "\n",
    "\n",
    "\n",
    "\n",
    "\n",
    "\n",
    "\n",
    "\n",
    "\n",
    "\n",
    "\n",
    "\n",
    "\n",
    "\n",
    "\n",
    "\n",
    "\n",
    "\n",
    "\n",
    "\n",
    "\n",
    "\n",
    "\n",
    "\n",
    "\n",
    "\n",
    "\n",
    "\n",
    "\n",
    "\n",
    "\n",
    "\n",
    "\n",
    "\n",
    "\n",
    "\n",
    "\n",
    "\n",
    "\n",
    "\n",
    "\n",
    "\n",
    "\n",
    "\n",
    "\n",
    "\n",
    "\n",
    "\n",
    "\n",
    "\n",
    "\n",
    "\n",
    "\n",
    "\n",
    "\n",
    "\n",
    "\n",
    "\n",
    "\n",
    "\n",
    "\n",
    "\n",
    "\n",
    "\n",
    "\n",
    "\n",
    "\n",
    "\n",
    "\n",
    "\n",
    "\n",
    "\n",
    "\n",
    "\n",
    "\n",
    "\n",
    "\n",
    "\n",
    "\n",
    "\n",
    "\n",
    "\n",
    "\n",
    "\n",
    "\n",
    "\n",
    "\n",
    "\n",
    "\n",
    "\n",
    "\n",
    "\n",
    "\n",
    "\n",
    "\n",
    "\n",
    "\n",
    "\n",
    "\n",
    "\n",
    "\n",
    "\n",
    "\n",
    "\n",
    "\n",
    "\n",
    "\n",
    "\n",
    "\n",
    "\n",
    "\n",
    "\n",
    "\n",
    "\n",
    "\n",
    "\n",
    "\n",
    "\n",
    "\n",
    "\n",
    "\n",
    "\n",
    "\n",
    "\n",
    "\n",
    "\n",
    "\n",
    "\n",
    "\n",
    "\n",
    "\n",
    "\n",
    "\n",
    "\n",
    "\n",
    "\n",
    "\n",
    "\n",
    "\n",
    "\n",
    "\n",
    "\n",
    "\n",
    "\n",
    "\n",
    "\n",
    "\n",
    "\n",
    "\n",
    "\n",
    "\n",
    "\n",
    "\n",
    "\n",
    "\n",
    "\n",
    "\n",
    "\n",
    "\n",
    "\n",
    "\n",
    "\n",
    "\n",
    "\n",
    "\n",
    "\n",
    "\n",
    "\n",
    "\n",
    "\n",
    "\n",
    "\n",
    "\n",
    "\n",
    "\n",
    "\n",
    "\n",
    "\n",
    "\n",
    "\n",
    "\n",
    "\n",
    "\n",
    "\n",
    "\n",
    "\n",
    "\n",
    "\n",
    "\n",
    "\n",
    "\n",
    "\n",
    "\n",
    "\n",
    "\n",
    "\n",
    "\n",
    "\n",
    "\n",
    "\n",
    "\n",
    "\n",
    "\n",
    "\n",
    "\n",
    "\n",
    "\n",
    "\n",
    "\n",
    "\n",
    "\n",
    "\n",
    "\n",
    "\n",
    "\n",
    "\n",
    "\n",
    "\n",
    "\n",
    "\n",
    "\n",
    "\n",
    "\n",
    "\n",
    "\n",
    "\n",
    "\n",
    "\n",
    "\n",
    "\n",
    "\n",
    "\n",
    "\n",
    "\n",
    "\n",
    "\n",
    "\n",
    "\n",
    "\n",
    "\n",
    "\n",
    "\n",
    "\n",
    "\n",
    "\n",
    "\n",
    "\n",
    "\n",
    "\n",
    "\n",
    "\n",
    "\n",
    "\n",
    "\n",
    "\n",
    "\n",
    "\n",
    "\n",
    "\n",
    "\n",
    "\n",
    "\n",
    "\n",
    "\n",
    "\n",
    "\n",
    "\n",
    "\n",
    "\n",
    "\n",
    "\n",
    "\n",
    "\n",
    "\n",
    "\n",
    "\n",
    "\n",
    "\n",
    "\n",
    "\n",
    "\n",
    "\n",
    "\n",
    "\n",
    "\n",
    "\n",
    "\n",
    "\n",
    "\n",
    "\n",
    "\n",
    "\n",
    "\n",
    "\n",
    "\n",
    "\n",
    "\n",
    "\n",
    "\n",
    "\n",
    "\n",
    "\n",
    "\n",
    "\n",
    "\n",
    "\n",
    "\n",
    "\n",
    "\n",
    "\n",
    "\n",
    "\n",
    "\n",
    "\n",
    "\n",
    "\n",
    "\n",
    "\n",
    "\n",
    "\n",
    "\n",
    "\n",
    "\n",
    "\n",
    "\n",
    "\n",
    "\n",
    "\n",
    "\n",
    "\n",
    "\n",
    "\n",
    "\n",
    "\n",
    "\n",
    "\n",
    "\n",
    "\n",
    "\n",
    "\n",
    "\n",
    "\n",
    "\n",
    "\n",
    "\n",
    "\n",
    "\n",
    "\n",
    "\n",
    "\n",
    "\n",
    "\n",
    "\n",
    "\n",
    "\n",
    "\n",
    "\n",
    "\n",
    "\n",
    "\n",
    "\n",
    "\n",
    "\n",
    "\n",
    "\n",
    "\n",
    "\n",
    "\n",
    "\n",
    "\n",
    "\n",
    "\n",
    "\n",
    "\n",
    "\n",
    "\n",
    "\n",
    "\n",
    "\n",
    "\n",
    "\n",
    "\n",
    "\n",
    "\n",
    "\n",
    "\n",
    "\n",
    "\n",
    "\n",
    "\n",
    "\n",
    "\n",
    "\n",
    "\n",
    "\n",
    "\n",
    "\n",
    "\n",
    "\n",
    "\n",
    "\n",
    "\n",
    "\n",
    "\n",
    "\n",
    "\n",
    "\n",
    "\n",
    "\n",
    "\n",
    "\n",
    "\n",
    "\n",
    "\n",
    "\n",
    "\n",
    "\n",
    "\n",
    "\n",
    "\n",
    "\n",
    "\n",
    "\n",
    "\n",
    "\n",
    "\n",
    "\n",
    "\n",
    "\n",
    "\n",
    "\n",
    "\n",
    "\n",
    "\n",
    "\n",
    "\n",
    "\n",
    "\n",
    "\n",
    "\n",
    "\n",
    "\n",
    "\n",
    "\n",
    "\n",
    "\n",
    "\n",
    "\n",
    "\n",
    "\n",
    "\n",
    "\n",
    "\n",
    "\n",
    "\n",
    "\n",
    "\n",
    "\n",
    "\n",
    "\n",
    "\n",
    "\n",
    "\n",
    "\n",
    "\n",
    "\n",
    "\n",
    "\n",
    "\n",
    "\n",
    "\n",
    "\n",
    "\n",
    "\n",
    "\n",
    "\n",
    "\n",
    "\n",
    "\n",
    "\n",
    "\n",
    "\n",
    "\n",
    "\n",
    "\n",
    "\n",
    "\n",
    "\n",
    "\n",
    "\n",
    "\n",
    "\n",
    "\n",
    "\n",
    "\n",
    "\n",
    "\n",
    "\n",
    "\n",
    "\n",
    "\n",
    "\n",
    "\n",
    "\n",
    "\n",
    "\n",
    "\n",
    "\n",
    "\n",
    "\n",
    "\n",
    "\n",
    "\n",
    "\n",
    "\n",
    "\n",
    "\n",
    "\n",
    "\n",
    "\n",
    "\n",
    "\n",
    "\n",
    "\n",
    "\n",
    "\n",
    "\n",
    "\n",
    "\n",
    "\n",
    "\n",
    "\n",
    "\n",
    "\n",
    "\n",
    "\n",
    "\n",
    "\n",
    "\n",
    "\n",
    "\n",
    "\n",
    "\n",
    "\n",
    "\n",
    "\n",
    "\n",
    "\n",
    "\n",
    "\n",
    "\n",
    "\n",
    "\n",
    "\n",
    "\n",
    "\n",
    "\n",
    "\n",
    "\n",
    "\n",
    "\n",
    "\n",
    "\n",
    "\n",
    "\n",
    "\n",
    "\n",
    "\n",
    "\n",
    "\n",
    "\n",
    "\n",
    "\n",
    "\n",
    "\n",
    "\n",
    "\n",
    "\n",
    "\n",
    "\n",
    "\n",
    "\n",
    "\n",
    "\n",
    "\n",
    "\n",
    "\n",
    "\n",
    "\n",
    "\n",
    "\n",
    "\n",
    "\n",
    "\n",
    "\n",
    "\n",
    "\n",
    "\n",
    "\n",
    "\n",
    "\n",
    "\n",
    "\n",
    "\n",
    "\n",
    "\n",
    "\n",
    "\n",
    "\n",
    "\n",
    "\n",
    "\n",
    "\n",
    "\n",
    "\n",
    "\n",
    "\n",
    "\n",
    "\n",
    "\n",
    "\n",
    "\n",
    "\n",
    "\n",
    "\n",
    "\n",
    "\n",
    "\n",
    "\n",
    "\n",
    "\n",
    "\n",
    "\n",
    "\n",
    "\n",
    "\n",
    "\n",
    "\n",
    "\n",
    "\n",
    "\n",
    "\n",
    "\n",
    "\n",
    "\n",
    "\n",
    "\n",
    "\n",
    "\n",
    "\n",
    "\n",
    "\n",
    "\n",
    "\n",
    "\n",
    "\n",
    "\n",
    "\n",
    "\n",
    "\n",
    "\n",
    "\n",
    "\n",
    "\n",
    "\n",
    "\n",
    "\n",
    "\n",
    "\n",
    "\n",
    "\n",
    "\n",
    "\n",
    "\n",
    "\n",
    "\n",
    "\n",
    "\n",
    "\n",
    "\n",
    "\n",
    "\n",
    "\n",
    "\n",
    "\n",
    "\n",
    "\n",
    "\n",
    "\n",
    "\n",
    "\n",
    "\n",
    "\n",
    "\n",
    "\n",
    "\n",
    "\n",
    "\n",
    "\n",
    "\n",
    "\n",
    "\n",
    "\n",
    "\n",
    "\n",
    "\n",
    "\n",
    "\n",
    "\n",
    "\n",
    "\n",
    "\n",
    "\n",
    "\n",
    "\n",
    "\n",
    "\n",
    "\n",
    "\n",
    "\n",
    "\n",
    "\n",
    "\n",
    "\n",
    "\n",
    "\n",
    "\n",
    "\n",
    "\n",
    "\n",
    "\n",
    "\n",
    "\n",
    "\n",
    "\n",
    "\n",
    "\n",
    "\n",
    "\n",
    "\n",
    "\n",
    "\n",
    "\n",
    "\n",
    "\n",
    "\n",
    "\n",
    "\n",
    "\n",
    "\n",
    "\n",
    "\n",
    "\n",
    "\n",
    "\n",
    "\n",
    "\n",
    "\n",
    "\n",
    "\n",
    "\n",
    "\n",
    "\n",
    "\n",
    "\n",
    "\n",
    "\n",
    "\n",
    "\n",
    "\n",
    "\n",
    "\n",
    "\n",
    "\n",
    "\n",
    "\n",
    "\n",
    "\n",
    "\n",
    "\n",
    "\n",
    "\n",
    "\n",
    "\n",
    "\n",
    "\n",
    "\n",
    "\n",
    "\n",
    "\n",
    "\n",
    "\n",
    "\n",
    "\n",
    "\n",
    "\n",
    "\n",
    "\n",
    "\n",
    "\n",
    "\n",
    "\n",
    "\n",
    "\n",
    "\n",
    "\n",
    "\n",
    "\n",
    "\n",
    "\n",
    "\n",
    "\n",
    "\n",
    "\n",
    "\n",
    "\n",
    "\n",
    "\n",
    "\n",
    "\n",
    "\n",
    "\n",
    "\n",
    "\n",
    "\n",
    "\n",
    "\n",
    "\n",
    "\n",
    "\n",
    "\n",
    "\n",
    "\n",
    "\n",
    "\n",
    "\n",
    "\n",
    "\n",
    "\n",
    "\n",
    "\n",
    "\n",
    "\n",
    "\n",
    "\n",
    "\n",
    "\n",
    "\n",
    "\n",
    "\n",
    "\n",
    "\n",
    "\n",
    "\n",
    "\n",
    "\n",
    "\n",
    "\n",
    "\n",
    "\n",
    "\n",
    "\n",
    "\n",
    "\n",
    "\n",
    "\n",
    "\n",
    "\n",
    "\n",
    "\n",
    "\n",
    "\n",
    "\n",
    "\n",
    "\n",
    "\n",
    "\n",
    "\n",
    "\n",
    "\n",
    "\n",
    "\n",
    "\n",
    "\n",
    "\n",
    "\n",
    "\n",
    "\n",
    "\n",
    "\n",
    "\n",
    "\n",
    "\n",
    "\n",
    "\n",
    "\n",
    "\n",
    "\n",
    "\n",
    "\n",
    "\n",
    "\n",
    "\n",
    "\n",
    "\n",
    "\n",
    "\n",
    "\n",
    "\n",
    "\n",
    "\n",
    "\n",
    "\n",
    "\n",
    "\n",
    "\n",
    "\n",
    "\n",
    "\n",
    "\n",
    "\n",
    "\n",
    "\n",
    "\n",
    "\n",
    "\n",
    "\n",
    "\n",
    "\n",
    "\n",
    "\n",
    "\n",
    "\n",
    "\n",
    "\n",
    "\n",
    "\n",
    "\n",
    "\n",
    "\n",
    "\n",
    "\n",
    "\n",
    "\n",
    "\n",
    "\n",
    "\n",
    "\n",
    "\n",
    "\n",
    "\n",
    "\n",
    "\n",
    "\n",
    "\n",
    "\n",
    "\n",
    "\n",
    "\n",
    "\n",
    "\n",
    "\n",
    "\n",
    "\n",
    "\n",
    "\n",
    "\n",
    "\n",
    "\n",
    "\n",
    "\n",
    "\n",
    "\n",
    "\n",
    "\n",
    "\n",
    "\n",
    "\n",
    "\n",
    "\n",
    "\n",
    "\n",
    "\n",
    "\n",
    "\n",
    "\n",
    "\n",
    "\n",
    "\n",
    "\n",
    "Результат уже гораздо лучше, чем у линейной регрессии, но все равно результат нас такой не устраивает."
   ]
  },
  {
   "cell_type": "markdown",
   "metadata": {},
   "source": [
    "### LightGBM"
   ]
  },
  {
   "cell_type": "markdown",
   "metadata": {},
   "source": [
    "#### Этап с кросвалидацией можем пропустить, так как для задания он не нужен"
   ]
  },
  {
   "cell_type": "code",
   "execution_count": null,
   "metadata": {},
   "outputs": [],
   "source": [
    "features_train.head()"
   ]
  },
  {
   "cell_type": "code",
   "execution_count": null,
   "metadata": {},
   "outputs": [],
   "source": [
    "train_dataset = lgb.Dataset(features_train_ohed, target_train, feature_name=features_train_ohed.columns.to_list())\n",
    "test_dataset = lgb.Dataset(features_test_ohed, target_test, feature_name=features_test_ohed.columns.to_list())"
   ]
  },
  {
   "cell_type": "code",
   "execution_count": null,
   "metadata": {
    "scrolled": false
   },
   "outputs": [],
   "source": [
    "%%time\n",
    "# booster = lgb.train({\"objective\": \"regression\"},\n",
    "#                     train_set=train_dataset, valid_sets=(test_dataset,),\n",
    "#                     num_boost_round=10)\n",
    "\n",
    "#  folds=sp,\n",
    "cv_res = lgb.cv({\"objective\": \"regression\"}, train_dataset, 400, shuffle=False, seed = None,\n",
    "            callbacks=[lgb.early_stopping(stopping_rounds=25, first_metric_only=True)],\n",
    "            return_cvbooster=True)"
   ]
  },
  {
   "attachments": {
    "%D0%B8%D0%B7%D0%BE%D0%B1%D1%80%D0%B0%D0%B6%D0%B5%D0%BD%D0%B8%D0%B5.png": {
     "image/png": "[encoded data removed]"
    }
   },
   "cell_type": "markdown",
   "metadata": {},
   "source": [
    "![%D0%B8%D0%B7%D0%BE%D0%B1%D1%80%D0%B0%D0%B6%D0%B5%D0%BD%D0%B8%D0%B5.png](attachment:%D0%B8%D0%B7%D0%BE%D0%B1%D1%80%D0%B0%D0%B6%D0%B5%D0%BD%D0%B8%D0%B5.png)"
   ]
  },
  {
   "cell_type": "code",
   "execution_count": null,
   "metadata": {},
   "outputs": [],
   "source": [
    "# predictions_lgb = booster.predict(features_test_ohed)\n",
    "# cv_res"
   ]
  },
  {
   "cell_type": "code",
   "execution_count": null,
   "metadata": {},
   "outputs": [],
   "source": [
    "%%time\n",
    "predictions_cv_lgb = cv_res['cvbooster'].predict(features_train_ohed)\n"
   ]
  },
  {
   "attachments": {
    "%D0%B8%D0%B7%D0%BE%D0%B1%D1%80%D0%B0%D0%B6%D0%B5%D0%BD%D0%B8%D0%B5.png": {
     "image/png": "[encoded data removed]"
    }
   },
   "cell_type": "markdown",
   "metadata": {},
   "source": [
    "![%D0%B8%D0%B7%D0%BE%D0%B1%D1%80%D0%B0%D0%B6%D0%B5%D0%BD%D0%B8%D0%B5.png](attachment:%D0%B8%D0%B7%D0%BE%D0%B1%D1%80%D0%B0%D0%B6%D0%B5%D0%BD%D0%B8%D0%B5.png)"
   ]
  },
  {
   "cell_type": "code",
   "execution_count": null,
   "metadata": {},
   "outputs": [],
   "source": [
    "len(predictions_cv_lgb[0])"
   ]
  },
  {
   "cell_type": "code",
   "execution_count": null,
   "metadata": {},
   "outputs": [],
   "source": [
    "target_train"
   ]
  },
  {
   "cell_type": "markdown",
   "metadata": {},
   "source": [
    "#### LightGBM обучение и предсказание"
   ]
  },
  {
   "cell_type": "code",
   "execution_count": null,
   "metadata": {},
   "outputs": [],
   "source": [
    "train_dataset = lgb.Dataset(features_train_encoded, target_train, feature_name=features_train_encoded.columns.to_list())\n",
    "valid_dataset = lgb.Dataset(features_valid_encoded, target_valid, feature_name=features_valid_encoded.columns.to_list())\n",
    "test_dataset = lgb.Dataset(features_test_encoded, target_test, feature_name=features_test_encoded.columns.to_list())"
   ]
  },
  {
   "cell_type": "code",
   "execution_count": null,
   "metadata": {
    "scrolled": true
   },
   "outputs": [],
   "source": [
    "%%time\n",
    "model_lgb = lgb.train({\"objective\": \"regression\"},\n",
    "                    train_set=train_dataset, valid_sets=(valid_dataset,),\n",
    "                    num_boost_round=400)"
   ]
  },
  {
   "cell_type": "code",
   "execution_count": null,
   "metadata": {},
   "outputs": [],
   "source": [
    "%%time\n",
    "predictions_valid_lgb = model_lgb.predict(features_valid_encoded)"
   ]
  },
  {
   "cell_type": "code",
   "execution_count": null,
   "metadata": {
    "scrolled": false
   },
   "outputs": [],
   "source": [
    "rmse_lgb = mean_squared_error(target_valid, predictions_valid_lgb)**0.5\n",
    "\n",
    "print('rmse ', rmse_lgb)"
   ]
  },
  {
   "cell_type": "code",
   "execution_count": null,
   "metadata": {},
   "outputs": [],
   "source": [
    "time_fit_lgb = 21.2\n",
    "time_pred_lgb = 1.26\n",
    "rmse_lgb = 1624"
   ]
  },
  {
   "cell_type": "markdown",
   "metadata": {},
   "source": [
    "Отличный результат показал lightgbm, rmse равно 1624"
   ]
  },
  {
   "cell_type": "markdown",
   "metadata": {},
   "source": [
    "### Catboost"
   ]
  },
  {
   "cell_type": "markdown",
   "metadata": {},
   "source": [
    "#### Кросс-валидация\n",
    "Будем считать, что кроссвалидация была проделана для ознакомления с библиоткеой"
   ]
  },
  {
   "cell_type": "markdown",
   "metadata": {},
   "source": [
    "Используем катбуст регрессор, установим количество итераций 100, просто для тестирования."
   ]
  },
  {
   "cell_type": "code",
   "execution_count": null,
   "metadata": {},
   "outputs": [],
   "source": [
    "model_cat = CatBoostRegressor(iterations=100)"
   ]
  },
  {
   "cell_type": "code",
   "execution_count": null,
   "metadata": {},
   "outputs": [],
   "source": [
    "cat_features = features_train.columns.to_list()"
   ]
  },
  {
   "cell_type": "code",
   "execution_count": null,
   "metadata": {},
   "outputs": [],
   "source": [
    "# model_cat.cv(features_train, features)"
   ]
  },
  {
   "cell_type": "code",
   "execution_count": null,
   "metadata": {},
   "outputs": [],
   "source": [
    "%%time\n",
    "params = {\n",
    "    'loss_function': 'RMSE',\n",
    "    'iterations': 300,\n",
    "    'random_seed': 12345,\n",
    "    'learning_rate': 0.5\n",
    "}\n",
    "\n",
    "cv_data = cv(\n",
    "    params=params,\n",
    "    pool=Pool(features_train, label=target_train, cat_features=cat_features),\n",
    "    fold_count=5, # Разбивка выборки на 5 кусочков\n",
    "    shuffle=True, # Перемешаем наши данные\n",
    "    partition_random_seed=12345,\n",
    "    plot=True, # Никуда без визуализатора\n",
    "    stratified=True, \n",
    "    verbose=False\n",
    ")"
   ]
  },
  {
   "cell_type": "markdown",
   "metadata": {},
   "source": [
    "#### CatBoost без кросс-валидации"
   ]
  },
  {
   "cell_type": "code",
   "execution_count": null,
   "metadata": {},
   "outputs": [],
   "source": [
    "features_train.dtypes"
   ]
  },
  {
   "cell_type": "code",
   "execution_count": null,
   "metadata": {},
   "outputs": [],
   "source": [
    "%%time\n",
    "model_cat = CatBoostRegressor(iterations=400 , depth=5, learning_rate= 0.2)\n",
    "\n",
    "\n",
    "cat_features = ['VehicleType','Gearbox','Model','FuelType','Brand','Repaired']\n",
    "model_cat.fit(features_train, target_train, cat_features=cat_features, verbose=40, plot=True)"
   ]
  },
  {
   "cell_type": "code",
   "execution_count": null,
   "metadata": {},
   "outputs": [],
   "source": [
    "%%time\n",
    "predictions_cat = model_cat.predict(features_valid)"
   ]
  },
  {
   "cell_type": "code",
   "execution_count": null,
   "metadata": {},
   "outputs": [],
   "source": [
    "rmse_cat = mean_squared_error(target_valid, predictions_cat)**0.5\n",
    "print('Значение RMSE для модели catboost равно', rmse_cat)"
   ]
  },
  {
   "cell_type": "markdown",
   "metadata": {},
   "source": [
    "Отлично, мы получили метрику rmse равную 1670."
   ]
  },
  {
   "cell_type": "code",
   "execution_count": null,
   "metadata": {},
   "outputs": [],
   "source": [
    "\n",
    "time_fit_cat = 45.6\n",
    "time_pred_cat = 0.181\n",
    "rmse_cat = 1636"
   ]
  },
  {
   "cell_type": "markdown",
   "metadata": {},
   "source": [
    "### Итоги обучения"
   ]
  },
  {
   "cell_type": "markdown",
   "metadata": {},
   "source": [
    "Провели обучение 4 моделей обучения, два бустинга : lightgbm и catboost и два не бустинга: линейная регрессия и случайный лес. В следующем пункте сравним модели по времени обучения, времени предсказания и качеству предсказания"
   ]
  },
  {
   "cell_type": "markdown",
   "metadata": {},
   "source": [
    "## Анализ моделей"
   ]
  },
  {
   "cell_type": "markdown",
   "metadata": {},
   "source": [
    "Перейдем к анализу моделей, мы в нашем исследовании использовали 4 модели, LightGBM, CatBoost, LinearRegression, RandomForestRegressor. Перейдем к сравнению по времени обучения, по времени предсказания, по качетсву предсказания."
   ]
  },
  {
   "cell_type": "code",
   "execution_count": null,
   "metadata": {
    "scrolled": true
   },
   "outputs": [],
   "source": [
    "print('Линейная регрессия')\n",
    "print('Время обучения',time_fit_lin,'секунд. Время предсказания',time_pred_lin,'секунд. Качество модели', rmse_valid_lin)\n",
    "print()\n",
    "print('Случайный лес')\n",
    "print('Время обучения',time_fit_f ,'секунды. Время предсказания',time_pred_f,'секунд. Качество модели', rmse_forest)\n",
    "print()\n",
    "print('LightGBM')\n",
    "print('Время обучения',time_fit_lgb ,'секунд. Время предсказания',time_pred_lgb,'секунд. Качество модели', rmse_lgb)\n",
    "print()\n",
    "print('CatBoost')\n",
    "print('Время обучения',time_fit_cat ,'секунд. Время предсказания',time_pred_cat,'секунд. Качество модели', rmse_cat)"
   ]
  },
  {
   "cell_type": "markdown",
   "metadata": {},
   "source": [
    "\n",
    "\n",
    "<div class=\"alert alert-block alert-danger\">\n",
    "<b>Ошибка:</b> Ты немного не правильно понял метрики времени: Нам нужно и время обучения и время предсказания  вычислить  и проанализировать отдельно друг от друга\n",
    "    \n",
    "- время обучения это  чистый `.fit()` модели \n",
    "    \n",
    "- время предсказания это только `.predict()` без обучения\n",
    "\n",
    "</div>"
   ]
  },
  {
   "cell_type": "markdown",
   "metadata": {},
   "source": [
    "<div class=\"alert alert-block alert-warning\">\n",
    "<b>Вопрос студента:</b> То есть правильно понимаю, что необходимости в кроссвалидации в данном задании нет?\n",
    "   \n",
    "</div>"
   ]
  },
  {
   "cell_type": "markdown",
   "metadata": {},
   "source": [
    "\n",
    "<div class=\"alert alert-block alert-success\">\n",
    "    \n",
    "<b>Успех[2]:</b> Желательно подбирать гиперпараметры для моделей, чтобы сделать их более правильными для текущих данных, но это не ключевое в этом спринте. Поэтому все в порядке)\n",
    "</div>\n"
   ]
  },
  {
   "cell_type": "markdown",
   "metadata": {},
   "source": [
    "**Итоги сравнения**\n",
    "\n",
    "CatBoost и LightGBM показали себя на достойном уровне, у них хорошее качетсво и достаточно быстрое обучение. Но у CatBoost есть одно огромное преимущество, для нескольких десятков тысяч строк признаков модель делает предсказания менее чем за 0.2 секунды. Я считаю, что в данном случае при остальных равных показателях, этот является самым важным."
   ]
  },
  {
   "cell_type": "markdown",
   "metadata": {},
   "source": [
    "\n",
    "<div class=\"alert alert-block alert-success\">\n",
    "<b>Успех:</b> А так отлично проделаны шаги\n",
    "    \n",
    "- Радует количество рассмотренных моделей.   \n",
    "- Кросс-валидационные методы успешно использованы. \n",
    "</div>\n"
   ]
  },
  {
   "cell_type": "markdown",
   "metadata": {},
   "source": [
    "<div class=\"alert alert-block alert-warning\">\n",
    "<b>Изменения:</b> Внес изменения в обучение и предсказание, сделал предсказания и обучение отдельными этапами, сравнил модели и лучшей оказалась СatBoost\n",
    "   \n",
    "</div>"
   ]
  },
  {
   "cell_type": "markdown",
   "metadata": {},
   "source": [
    "\n",
    "<div class=\"alert alert-block alert-success\">\n",
    "    \n",
    "<b>Успех[2]:</b> Выбор модели обсонован\n",
    "</div>\n"
   ]
  },
  {
   "cell_type": "markdown",
   "metadata": {},
   "source": [
    "### Итоговое обучение CatBoost и проверка на тестовой выборке"
   ]
  },
  {
   "cell_type": "code",
   "execution_count": null,
   "metadata": {},
   "outputs": [],
   "source": [
    "model = CatBoostRegressor(iterations=400, random_seed=12345)"
   ]
  },
  {
   "cell_type": "code",
   "execution_count": null,
   "metadata": {
    "scrolled": false
   },
   "outputs": [],
   "source": [
    "%%time\n",
    "model.fit(features_train, target_train, cat_features=features_train.columns.to_list(), plot=True,verbose=40)"
   ]
  },
  {
   "cell_type": "code",
   "execution_count": null,
   "metadata": {},
   "outputs": [],
   "source": [
    "%%time\n",
    "predictions_final = model.predict(features_test)"
   ]
  },
  {
   "cell_type": "code",
   "execution_count": null,
   "metadata": {},
   "outputs": [],
   "source": [
    "rmse_final = mean_squared_error(target_test, predictions_final)**0.5\n",
    "print('rmse финальной модели катбуст на тестовой выборке:', rmse_final)"
   ]
  },
  {
   "cell_type": "markdown",
   "metadata": {},
   "source": [
    "Время обучения равно 105 секунд, а время предсказания примерно равно 0.4 секунды\n",
    "А финальное качество равно 1620"
   ]
  },
  {
   "cell_type": "markdown",
   "metadata": {},
   "source": [
    "\n",
    "<div class=\"alert alert-block alert-success\">\n",
    "<b>Успех:</b> На тестовой выборке получено хорошее качество!\n",
    "</div>\n",
    "\n"
   ]
  },
  {
   "cell_type": "markdown",
   "metadata": {},
   "source": [
    "### Узнаем важность каждого фактора"
   ]
  },
  {
   "cell_type": "code",
   "execution_count": null,
   "metadata": {},
   "outputs": [],
   "source": [
    "importance = pd.DataFrame(np.array([model.get_feature_importance(),features_train.columns]).T, columns = ['importance', 'feature'])\n",
    "importance = importance.sort_values(by='importance')\n",
    "importance"
   ]
  },
  {
   "cell_type": "code",
   "execution_count": null,
   "metadata": {},
   "outputs": [],
   "source": [
    "importance.plot(kind='barh', x='feature', title='Важность признаков в условных единицах')"
   ]
  },
  {
   "cell_type": "markdown",
   "metadata": {},
   "source": [
    "Наша гипотеза о том, что почтовый индекс может влиять на цену не подтвердилась. Она не оказывает практически никакого влияния, точно также как и месяц регистрации. Самым важным признаком является год реистрации, это правда важно, потому что от этого признака зависит, наскоько машина старая."
   ]
  },
  {
   "cell_type": "markdown",
   "metadata": {},
   "source": [
    "\n",
    "<div class=\"alert alert-block alert-success\">\n",
    "    \n",
    "<b>Успех[2]:</b> Отличная реализация\n",
    "</div>\n"
   ]
  },
  {
   "cell_type": "markdown",
   "metadata": {},
   "source": [
    "## Подведение итогов"
   ]
  },
  {
   "cell_type": "markdown",
   "metadata": {},
   "source": [
    "Мы провели исследование данных, проверили на наличие аномалий и избавились от них. Далее, протестировали несколько моделей, а именно LinearRegression, RandomForestRegressor, lightGBM, CatBoostRegressor. Сравнили результаты, время обучения и скорость предсказания и выбрали оптимальную.\n",
    "\n",
    "Во время работы было выолнено 7 следующих пунктов:\n",
    "\n",
    "- Загрузка данных\n",
    "- Изучение данных\n",
    "- Подготовка выборок\n",
    "- Обучение разных моделей\n",
    "- Анализ времени обучения, времени предсказания и качества моделей.\n",
    "- Выбор лучшей модели\n",
    "- Подведение итогов\n",
    "\n",
    "По итогам работы выбрали модель CatBoostRegressor, время обучения составило 90 секунд, предсказание заняло примерно 1 секунду для 125000 значений в тестовой выборке. Значение метрики rmse равно 1683, что означает, что задача успешно выполнена!\n"
   ]
  },
  {
   "cell_type": "markdown",
   "metadata": {},
   "source": [
    "\n",
    "<div class=\"alert alert-block alert-info\">\n",
    "<b>Совет:</b> \n",
    "\n",
    "Также если говорить, что можно ещё улучшить в подобных проектах, то я бы выделил такие моменты:<br>\n",
    "    \n",
    "1) Для понимания, а какие в итоге факторы важны при моделировании, можно выводить их важность, использую feature_importances_, ну и график заодно. Это будет смотреться очнь здорово: результативная метрика и график важности факторов)))\n",
    "    \n",
    "2) У нас разный возраст машин. Есть гипотеза, что для разных возрастов - своё ценообразование. Поэтому, можно попробовать ввести фактор \"тип возраста\" (ретро, супер-ретро, старая, новая... надо подумать..)..<br>\n",
    "\n",
    "3) У некоторых моделей семейства бустингов, есть внутренний метод кодировки данных, который хорошо было бы попробовать\n",
    "</div>\n"
   ]
  },
  {
   "cell_type": "markdown",
   "metadata": {},
   "source": [
    "## Чек-лист проверки"
   ]
  },
  {
   "cell_type": "markdown",
   "metadata": {},
   "source": [
    "Поставьте 'x' в выполненных пунктах. Далее нажмите Shift+Enter."
   ]
  },
  {
   "cell_type": "markdown",
   "metadata": {},
   "source": [
    "- [x]  Jupyter Notebook открыт\n",
    "- [x]  Весь код выполняется без ошибок\n",
    "- [x]  Ячейки с кодом расположены в порядке исполнения\n",
    "- [x]  Выполнена загрузка и подготовка данных\n",
    "- [x]  Выполнено обучение моделей\n",
    "- [x]  Есть анализ скорости работы и качества моделей"
   ]
  },
  {
   "cell_type": "code",
   "execution_count": null,
   "metadata": {},
   "outputs": [],
   "source": []
  }
 ],
 "metadata": {
  "ExecuteTimeLog": [
   {
    "duration": 470,
    "start_time": "2023-08-28T09:37:50.690Z"
   },
   {
    "duration": 1438,
    "start_time": "2023-08-28T09:38:07.348Z"
   },
   {
    "duration": 978,
    "start_time": "2023-08-28T09:38:13.535Z"
   },
   {
    "duration": 158,
    "start_time": "2023-08-28T09:40:03.091Z"
   },
   {
    "duration": 7,
    "start_time": "2023-08-28T09:46:32.647Z"
   },
   {
    "duration": 84,
    "start_time": "2023-08-28T09:47:00.322Z"
   },
   {
    "duration": 7,
    "start_time": "2023-08-28T09:47:02.246Z"
   },
   {
    "duration": 47,
    "start_time": "2023-08-28T10:07:35.028Z"
   },
   {
    "duration": 68,
    "start_time": "2023-08-28T10:07:44.300Z"
   },
   {
    "duration": 30,
    "start_time": "2023-08-28T10:07:46.586Z"
   },
   {
    "duration": 129,
    "start_time": "2023-08-28T10:08:01.895Z"
   },
   {
    "duration": 4,
    "start_time": "2023-08-28T10:15:01.582Z"
   },
   {
    "duration": 3,
    "start_time": "2023-08-28T10:15:06.228Z"
   },
   {
    "duration": 53,
    "start_time": "2023-08-28T10:15:39.608Z"
   },
   {
    "duration": 37,
    "start_time": "2023-08-28T10:15:51.568Z"
   },
   {
    "duration": 167,
    "start_time": "2023-08-28T10:16:20.309Z"
   },
   {
    "duration": 43,
    "start_time": "2023-08-28T10:16:26.723Z"
   },
   {
    "duration": 5,
    "start_time": "2023-08-28T10:17:05.773Z"
   },
   {
    "duration": 1513,
    "start_time": "2023-08-28T10:17:13.243Z"
   },
   {
    "duration": 3,
    "start_time": "2023-08-28T10:17:20.436Z"
   },
   {
    "duration": 990,
    "start_time": "2023-08-28T10:17:20.443Z"
   },
   {
    "duration": 188,
    "start_time": "2023-08-28T10:17:21.435Z"
   },
   {
    "duration": 16,
    "start_time": "2023-08-28T10:17:21.625Z"
   },
   {
    "duration": 56,
    "start_time": "2023-08-28T10:17:21.644Z"
   },
   {
    "duration": 48,
    "start_time": "2023-08-28T10:17:21.703Z"
   },
   {
    "duration": 58,
    "start_time": "2023-08-28T10:17:21.753Z"
   },
   {
    "duration": 5,
    "start_time": "2023-08-28T10:17:28.678Z"
   },
   {
    "duration": 3,
    "start_time": "2023-08-28T10:18:35.225Z"
   },
   {
    "duration": 957,
    "start_time": "2023-08-28T10:18:35.230Z"
   },
   {
    "duration": 144,
    "start_time": "2023-08-28T10:18:36.189Z"
   },
   {
    "duration": 13,
    "start_time": "2023-08-28T10:18:36.335Z"
   },
   {
    "duration": 48,
    "start_time": "2023-08-28T10:18:36.350Z"
   },
   {
    "duration": 27,
    "start_time": "2023-08-28T10:18:36.400Z"
   },
   {
    "duration": 60,
    "start_time": "2023-08-28T10:18:36.429Z"
   },
   {
    "duration": 16,
    "start_time": "2023-08-28T10:18:40.270Z"
   },
   {
    "duration": 5,
    "start_time": "2023-08-28T10:20:40.191Z"
   },
   {
    "duration": 4,
    "start_time": "2023-08-28T10:22:57.329Z"
   },
   {
    "duration": 42,
    "start_time": "2023-08-28T10:22:57.488Z"
   },
   {
    "duration": 6,
    "start_time": "2023-08-28T10:22:57.677Z"
   },
   {
    "duration": 19,
    "start_time": "2023-08-28T10:23:06.015Z"
   },
   {
    "duration": 6,
    "start_time": "2023-08-28T10:23:07.600Z"
   },
   {
    "duration": 1126,
    "start_time": "2023-08-28T10:55:18.061Z"
   },
   {
    "duration": 9,
    "start_time": "2023-08-28T10:57:56.305Z"
   },
   {
    "duration": 4,
    "start_time": "2023-08-28T11:00:06.570Z"
   },
   {
    "duration": 3,
    "start_time": "2023-08-28T11:01:05.835Z"
   },
   {
    "duration": 71,
    "start_time": "2023-08-28T11:02:24.964Z"
   },
   {
    "duration": 32,
    "start_time": "2023-08-28T11:02:43.484Z"
   },
   {
    "duration": 37,
    "start_time": "2023-08-28T11:02:51.507Z"
   },
   {
    "duration": 34,
    "start_time": "2023-08-28T11:02:53.565Z"
   },
   {
    "duration": 30,
    "start_time": "2023-08-28T11:02:56.838Z"
   },
   {
    "duration": 32,
    "start_time": "2023-08-28T11:02:59.920Z"
   },
   {
    "duration": 33,
    "start_time": "2023-08-28T11:03:02.666Z"
   },
   {
    "duration": 36,
    "start_time": "2023-08-28T11:03:10.226Z"
   },
   {
    "duration": 36,
    "start_time": "2023-08-28T11:03:17.279Z"
   },
   {
    "duration": 28,
    "start_time": "2023-08-28T11:03:27.145Z"
   },
   {
    "duration": 33,
    "start_time": "2023-08-28T11:03:35.384Z"
   },
   {
    "duration": 44,
    "start_time": "2023-08-28T11:03:43.266Z"
   },
   {
    "duration": 59,
    "start_time": "2023-08-28T11:03:46.731Z"
   },
   {
    "duration": 34,
    "start_time": "2023-08-28T11:03:50.424Z"
   },
   {
    "duration": 41,
    "start_time": "2023-08-28T11:03:58.729Z"
   },
   {
    "duration": 36,
    "start_time": "2023-08-28T11:04:44.421Z"
   },
   {
    "duration": 27,
    "start_time": "2023-08-28T11:07:22.663Z"
   },
   {
    "duration": 209,
    "start_time": "2023-08-28T11:07:30.824Z"
   },
   {
    "duration": 916,
    "start_time": "2023-08-28T11:11:47.418Z"
   },
   {
    "duration": 94,
    "start_time": "2023-08-28T11:13:43.699Z"
   },
   {
    "duration": 4,
    "start_time": "2023-08-28T11:16:24.760Z"
   },
   {
    "duration": 44,
    "start_time": "2023-08-28T11:16:24.766Z"
   },
   {
    "duration": 846,
    "start_time": "2023-08-28T11:16:24.812Z"
   },
   {
    "duration": 151,
    "start_time": "2023-08-28T11:16:25.660Z"
   },
   {
    "duration": 113,
    "start_time": "2023-08-28T11:16:25.814Z"
   },
   {
    "duration": 92,
    "start_time": "2023-08-28T11:16:25.930Z"
   },
   {
    "duration": 203,
    "start_time": "2023-08-28T11:16:26.024Z"
   },
   {
    "duration": 30,
    "start_time": "2023-08-28T11:16:26.229Z"
   },
   {
    "duration": 79,
    "start_time": "2023-08-28T11:16:26.261Z"
   },
   {
    "duration": 24,
    "start_time": "2023-08-28T11:16:26.342Z"
   },
   {
    "duration": 4,
    "start_time": "2023-08-28T11:16:26.368Z"
   },
   {
    "duration": 45,
    "start_time": "2023-08-28T11:16:26.374Z"
   },
   {
    "duration": 9,
    "start_time": "2023-08-28T11:16:26.421Z"
   },
   {
    "duration": 28,
    "start_time": "2023-08-28T11:16:26.432Z"
   },
   {
    "duration": 38,
    "start_time": "2023-08-28T11:16:26.462Z"
   },
   {
    "duration": 3,
    "start_time": "2023-08-28T11:16:41.989Z"
   },
   {
    "duration": 968,
    "start_time": "2023-08-28T11:16:43.935Z"
   },
   {
    "duration": 1784,
    "start_time": "2023-08-28T11:36:41.146Z"
   },
   {
    "duration": 220,
    "start_time": "2023-08-28T11:36:52.014Z"
   },
   {
    "duration": 199,
    "start_time": "2023-08-28T11:37:10.337Z"
   },
   {
    "duration": 254,
    "start_time": "2023-08-28T11:37:25.066Z"
   },
   {
    "duration": 178,
    "start_time": "2023-08-28T11:38:12.394Z"
   },
   {
    "duration": 262,
    "start_time": "2023-08-28T11:38:15.498Z"
   },
   {
    "duration": 246,
    "start_time": "2023-08-28T11:38:24.948Z"
   },
   {
    "duration": 244,
    "start_time": "2023-08-28T11:38:32.860Z"
   },
   {
    "duration": 241,
    "start_time": "2023-08-28T11:38:35.176Z"
   },
   {
    "duration": 10,
    "start_time": "2023-08-28T11:38:53.560Z"
   },
   {
    "duration": 237,
    "start_time": "2023-08-28T11:40:16.527Z"
   },
   {
    "duration": 76,
    "start_time": "2023-08-28T11:40:53.861Z"
   },
   {
    "duration": 592,
    "start_time": "2023-08-28T11:40:55.879Z"
   },
   {
    "duration": 389,
    "start_time": "2023-08-28T11:42:25.037Z"
   },
   {
    "duration": 375,
    "start_time": "2023-08-28T11:42:33.776Z"
   },
   {
    "duration": 246,
    "start_time": "2023-08-28T11:42:51.173Z"
   },
   {
    "duration": 279,
    "start_time": "2023-08-28T11:42:57.698Z"
   },
   {
    "duration": 445,
    "start_time": "2023-08-28T11:43:02.241Z"
   },
   {
    "duration": 393,
    "start_time": "2023-08-28T11:43:07.408Z"
   },
   {
    "duration": 252,
    "start_time": "2023-08-28T11:43:11.631Z"
   },
   {
    "duration": 251,
    "start_time": "2023-08-28T11:43:15.469Z"
   },
   {
    "duration": 389,
    "start_time": "2023-08-28T11:44:43.961Z"
   },
   {
    "duration": 374,
    "start_time": "2023-08-28T11:44:46.642Z"
   },
   {
    "duration": 402,
    "start_time": "2023-08-28T11:45:55.133Z"
   },
   {
    "duration": 306,
    "start_time": "2023-08-28T11:45:58.692Z"
   },
   {
    "duration": 288,
    "start_time": "2023-08-28T11:46:06.621Z"
   },
   {
    "duration": 274,
    "start_time": "2023-08-28T11:46:50.163Z"
   },
   {
    "duration": 190,
    "start_time": "2023-08-28T11:47:00.281Z"
   },
   {
    "duration": 243,
    "start_time": "2023-08-28T11:47:11.964Z"
   },
   {
    "duration": 661,
    "start_time": "2023-08-28T11:47:16.379Z"
   },
   {
    "duration": 876,
    "start_time": "2023-08-28T11:47:24.998Z"
   },
   {
    "duration": 1555,
    "start_time": "2023-08-28T11:47:31.680Z"
   },
   {
    "duration": 9,
    "start_time": "2023-08-28T11:56:47.566Z"
   },
   {
    "duration": 59,
    "start_time": "2023-08-28T11:56:55.276Z"
   },
   {
    "duration": 25,
    "start_time": "2023-08-28T11:56:57.547Z"
   },
   {
    "duration": 10,
    "start_time": "2023-08-28T11:57:07.068Z"
   },
   {
    "duration": 37,
    "start_time": "2023-08-28T11:57:10.206Z"
   },
   {
    "duration": 77,
    "start_time": "2023-08-28T11:57:29.862Z"
   },
   {
    "duration": 5,
    "start_time": "2023-08-28T12:03:28.471Z"
   },
   {
    "duration": 64,
    "start_time": "2023-08-28T12:03:33.207Z"
   },
   {
    "duration": 71,
    "start_time": "2023-08-28T12:04:33.463Z"
   },
   {
    "duration": 86,
    "start_time": "2023-08-28T12:04:52.916Z"
   },
   {
    "duration": 105,
    "start_time": "2023-08-28T12:05:27.127Z"
   },
   {
    "duration": 164,
    "start_time": "2023-08-28T12:05:57.737Z"
   },
   {
    "duration": 566,
    "start_time": "2023-08-28T12:06:20.462Z"
   },
   {
    "duration": 74,
    "start_time": "2023-08-28T12:41:06.991Z"
   },
   {
    "duration": 124,
    "start_time": "2023-08-28T12:41:32.349Z"
   },
   {
    "duration": 10,
    "start_time": "2023-08-28T12:48:12.886Z"
   },
   {
    "duration": 18,
    "start_time": "2023-08-28T12:48:14.494Z"
   },
   {
    "duration": 15,
    "start_time": "2023-08-28T12:48:14.826Z"
   },
   {
    "duration": 0,
    "start_time": "2023-08-28T12:49:28.559Z"
   },
   {
    "duration": 0,
    "start_time": "2023-08-28T12:49:28.560Z"
   },
   {
    "duration": 0,
    "start_time": "2023-08-28T12:49:28.561Z"
   },
   {
    "duration": 0,
    "start_time": "2023-08-28T12:49:28.563Z"
   },
   {
    "duration": 35,
    "start_time": "2023-08-28T12:49:57.837Z"
   },
   {
    "duration": 22,
    "start_time": "2023-08-28T12:49:58.447Z"
   },
   {
    "duration": 26,
    "start_time": "2023-08-28T12:50:05.589Z"
   },
   {
    "duration": 18,
    "start_time": "2023-08-28T12:50:27.200Z"
   },
   {
    "duration": 9,
    "start_time": "2023-08-28T12:50:33.041Z"
   },
   {
    "duration": 29,
    "start_time": "2023-08-28T12:50:35.086Z"
   },
   {
    "duration": 39,
    "start_time": "2023-08-28T12:50:41.680Z"
   },
   {
    "duration": 40,
    "start_time": "2023-08-28T12:50:55.359Z"
   },
   {
    "duration": 384,
    "start_time": "2023-08-28T12:51:03.618Z"
   },
   {
    "duration": 377,
    "start_time": "2023-08-28T12:51:05.919Z"
   },
   {
    "duration": 41,
    "start_time": "2023-08-28T12:51:13.101Z"
   },
   {
    "duration": 72,
    "start_time": "2023-08-28T12:51:20.596Z"
   },
   {
    "duration": 164,
    "start_time": "2023-08-28T12:51:23.135Z"
   },
   {
    "duration": 582,
    "start_time": "2023-08-28T12:51:40.404Z"
   },
   {
    "duration": 700,
    "start_time": "2023-08-28T12:52:43.874Z"
   },
   {
    "duration": 46,
    "start_time": "2023-08-28T12:52:44.577Z"
   },
   {
    "duration": 1027,
    "start_time": "2023-08-28T12:52:44.625Z"
   },
   {
    "duration": 161,
    "start_time": "2023-08-28T12:52:45.655Z"
   },
   {
    "duration": 113,
    "start_time": "2023-08-28T12:52:45.818Z"
   },
   {
    "duration": 5,
    "start_time": "2023-08-28T12:52:45.933Z"
   },
   {
    "duration": 74,
    "start_time": "2023-08-28T12:52:45.940Z"
   },
   {
    "duration": 55,
    "start_time": "2023-08-28T12:52:46.016Z"
   },
   {
    "duration": 64,
    "start_time": "2023-08-28T12:52:46.073Z"
   },
   {
    "duration": 92,
    "start_time": "2023-08-28T12:52:46.140Z"
   },
   {
    "duration": 16,
    "start_time": "2023-08-28T12:52:46.234Z"
   },
   {
    "duration": 45,
    "start_time": "2023-08-28T12:52:46.252Z"
   },
   {
    "duration": 26,
    "start_time": "2023-08-28T12:52:46.299Z"
   },
   {
    "duration": 22,
    "start_time": "2023-08-28T12:52:46.327Z"
   },
   {
    "duration": 13,
    "start_time": "2023-08-28T12:52:46.350Z"
   },
   {
    "duration": 105,
    "start_time": "2023-08-28T12:52:46.365Z"
   },
   {
    "duration": 82,
    "start_time": "2023-08-28T12:52:46.471Z"
   },
   {
    "duration": 165,
    "start_time": "2023-08-28T12:52:46.554Z"
   },
   {
    "duration": 13,
    "start_time": "2023-08-28T12:52:46.720Z"
   },
   {
    "duration": 216,
    "start_time": "2023-08-28T12:52:46.734Z"
   },
   {
    "duration": 901,
    "start_time": "2023-08-28T12:52:50.697Z"
   },
   {
    "duration": 130,
    "start_time": "2023-08-28T12:53:04.048Z"
   },
   {
    "duration": 110,
    "start_time": "2023-08-28T12:53:12.880Z"
   },
   {
    "duration": 736,
    "start_time": "2023-08-28T12:54:48.294Z"
   },
   {
    "duration": 30,
    "start_time": "2023-08-28T12:54:49.032Z"
   },
   {
    "duration": 1003,
    "start_time": "2023-08-28T12:54:49.064Z"
   },
   {
    "duration": 165,
    "start_time": "2023-08-28T12:54:50.069Z"
   },
   {
    "duration": 124,
    "start_time": "2023-08-28T12:54:50.237Z"
   },
   {
    "duration": 5,
    "start_time": "2023-08-28T12:54:50.363Z"
   },
   {
    "duration": 77,
    "start_time": "2023-08-28T12:54:50.370Z"
   },
   {
    "duration": 68,
    "start_time": "2023-08-28T12:54:50.449Z"
   },
   {
    "duration": 51,
    "start_time": "2023-08-28T12:54:50.519Z"
   },
   {
    "duration": 90,
    "start_time": "2023-08-28T12:54:50.572Z"
   },
   {
    "duration": 35,
    "start_time": "2023-08-28T12:54:50.663Z"
   },
   {
    "duration": 52,
    "start_time": "2023-08-28T12:54:50.700Z"
   },
   {
    "duration": 10,
    "start_time": "2023-08-28T12:54:50.754Z"
   },
   {
    "duration": 50,
    "start_time": "2023-08-28T12:54:50.768Z"
   },
   {
    "duration": 33,
    "start_time": "2023-08-28T12:54:50.819Z"
   },
   {
    "duration": 133,
    "start_time": "2023-08-28T12:54:50.854Z"
   },
   {
    "duration": 78,
    "start_time": "2023-08-28T12:54:50.989Z"
   },
   {
    "duration": 168,
    "start_time": "2023-08-28T12:54:51.069Z"
   },
   {
    "duration": 13,
    "start_time": "2023-08-28T12:54:51.238Z"
   },
   {
    "duration": 235,
    "start_time": "2023-08-28T12:54:51.253Z"
   },
   {
    "duration": 402,
    "start_time": "2023-08-28T12:54:55.640Z"
   },
   {
    "duration": 92,
    "start_time": "2023-08-28T12:54:59.802Z"
   },
   {
    "duration": 206,
    "start_time": "2023-08-28T12:55:10.214Z"
   },
   {
    "duration": 1275,
    "start_time": "2023-08-28T12:55:26.733Z"
   },
   {
    "duration": 431,
    "start_time": "2023-08-28T12:55:36.447Z"
   },
   {
    "duration": 440,
    "start_time": "2023-08-28T13:02:30.411Z"
   },
   {
    "duration": 434,
    "start_time": "2023-08-28T13:02:34.873Z"
   },
   {
    "duration": 1812,
    "start_time": "2023-08-28T13:02:43.478Z"
   },
   {
    "duration": 418,
    "start_time": "2023-08-28T13:02:51.119Z"
   },
   {
    "duration": 2266,
    "start_time": "2023-08-28T13:02:56.384Z"
   },
   {
    "duration": 400,
    "start_time": "2023-08-28T13:02:59.050Z"
   },
   {
    "duration": 1336,
    "start_time": "2023-08-28T13:03:54.255Z"
   },
   {
    "duration": 410,
    "start_time": "2023-08-28T13:03:57.764Z"
   },
   {
    "duration": 80,
    "start_time": "2023-08-28T13:08:45.062Z"
   },
   {
    "duration": 165,
    "start_time": "2023-08-28T13:08:53.580Z"
   },
   {
    "duration": 218,
    "start_time": "2023-08-28T13:09:03.375Z"
   },
   {
    "duration": 57,
    "start_time": "2023-08-28T13:10:20.422Z"
   },
   {
    "duration": 78,
    "start_time": "2023-08-28T13:10:22.588Z"
   },
   {
    "duration": 428,
    "start_time": "2023-08-28T13:10:27.189Z"
   },
   {
    "duration": 495,
    "start_time": "2023-08-28T13:10:33.399Z"
   },
   {
    "duration": 475,
    "start_time": "2023-08-28T13:13:22.963Z"
   },
   {
    "duration": 499,
    "start_time": "2023-08-28T13:13:27.767Z"
   },
   {
    "duration": 507,
    "start_time": "2023-08-28T13:14:47.484Z"
   },
   {
    "duration": 483,
    "start_time": "2023-08-28T13:14:51.782Z"
   },
   {
    "duration": 515,
    "start_time": "2023-08-28T13:15:05.283Z"
   },
   {
    "duration": 508,
    "start_time": "2023-08-28T13:15:14.237Z"
   },
   {
    "duration": 451,
    "start_time": "2023-08-28T13:17:18.968Z"
   },
   {
    "duration": 113,
    "start_time": "2023-08-28T13:17:49.031Z"
   },
   {
    "duration": 68,
    "start_time": "2023-08-28T13:17:56.628Z"
   },
   {
    "duration": 73,
    "start_time": "2023-08-28T13:18:08.246Z"
   },
   {
    "duration": 173,
    "start_time": "2023-08-28T13:18:14.883Z"
   },
   {
    "duration": 642,
    "start_time": "2023-08-28T13:18:33.627Z"
   },
   {
    "duration": 4,
    "start_time": "2023-08-28T13:20:53.047Z"
   },
   {
    "duration": 1078,
    "start_time": "2023-08-28T13:22:21.311Z"
   },
   {
    "duration": 996,
    "start_time": "2023-08-28T13:22:26.527Z"
   },
   {
    "duration": 4,
    "start_time": "2023-08-28T13:22:34.223Z"
   },
   {
    "duration": 1147,
    "start_time": "2023-08-28T13:22:34.571Z"
   },
   {
    "duration": 5025,
    "start_time": "2023-08-28T13:22:38.758Z"
   },
   {
    "duration": 715,
    "start_time": "2023-08-28T13:23:55.729Z"
   },
   {
    "duration": 82,
    "start_time": "2023-08-28T13:24:07.632Z"
   },
   {
    "duration": 680,
    "start_time": "2023-08-28T13:24:15.417Z"
   },
   {
    "duration": 220,
    "start_time": "2023-08-28T13:24:18.252Z"
   },
   {
    "duration": 60,
    "start_time": "2023-08-28T13:24:29.683Z"
   },
   {
    "duration": 4,
    "start_time": "2023-08-28T13:24:32.691Z"
   },
   {
    "duration": 147,
    "start_time": "2023-08-28T13:24:34.385Z"
   },
   {
    "duration": 23,
    "start_time": "2023-08-28T13:24:47.558Z"
   },
   {
    "duration": 4,
    "start_time": "2023-08-28T13:24:52.718Z"
   },
   {
    "duration": 50,
    "start_time": "2023-08-28T13:24:52.725Z"
   },
   {
    "duration": 906,
    "start_time": "2023-08-28T13:24:52.777Z"
   },
   {
    "duration": 160,
    "start_time": "2023-08-28T13:24:53.685Z"
   },
   {
    "duration": 116,
    "start_time": "2023-08-28T13:24:53.846Z"
   },
   {
    "duration": 6,
    "start_time": "2023-08-28T13:24:53.965Z"
   },
   {
    "duration": 103,
    "start_time": "2023-08-28T13:24:53.973Z"
   },
   {
    "duration": 60,
    "start_time": "2023-08-28T13:24:54.077Z"
   },
   {
    "duration": 40,
    "start_time": "2023-08-28T13:24:54.140Z"
   },
   {
    "duration": 33,
    "start_time": "2023-08-28T13:24:54.183Z"
   },
   {
    "duration": 7,
    "start_time": "2023-08-28T13:24:54.219Z"
   },
   {
    "duration": 55,
    "start_time": "2023-08-28T13:24:54.228Z"
   },
   {
    "duration": 4,
    "start_time": "2023-08-28T13:24:54.286Z"
   },
   {
    "duration": 138,
    "start_time": "2023-08-28T13:24:54.292Z"
   },
   {
    "duration": 55,
    "start_time": "2023-08-28T13:24:54.432Z"
   },
   {
    "duration": 157,
    "start_time": "2023-08-28T13:24:54.490Z"
   },
   {
    "duration": 149,
    "start_time": "2023-08-28T13:24:54.650Z"
   },
   {
    "duration": 153,
    "start_time": "2023-08-28T13:24:54.803Z"
   },
   {
    "duration": 13,
    "start_time": "2023-08-28T13:24:54.958Z"
   },
   {
    "duration": 15,
    "start_time": "2023-08-28T13:24:54.973Z"
   },
   {
    "duration": 4528,
    "start_time": "2023-08-28T13:24:54.990Z"
   },
   {
    "duration": 2581,
    "start_time": "2023-08-28T13:25:02.836Z"
   },
   {
    "duration": 678,
    "start_time": "2023-08-28T13:25:40.570Z"
   },
   {
    "duration": 668,
    "start_time": "2023-08-28T13:26:15.974Z"
   },
   {
    "duration": 117,
    "start_time": "2023-08-28T13:26:18.218Z"
   },
   {
    "duration": 781,
    "start_time": "2023-08-28T13:26:26.177Z"
   },
   {
    "duration": 103,
    "start_time": "2023-08-28T13:26:29.565Z"
   },
   {
    "duration": 710,
    "start_time": "2023-08-28T13:26:32.949Z"
   },
   {
    "duration": 102,
    "start_time": "2023-08-28T13:26:33.661Z"
   },
   {
    "duration": 801,
    "start_time": "2023-08-28T13:27:24.757Z"
   },
   {
    "duration": 99,
    "start_time": "2023-08-28T13:27:26.624Z"
   },
   {
    "duration": 5,
    "start_time": "2023-08-28T13:27:32.614Z"
   },
   {
    "duration": 95,
    "start_time": "2023-08-28T13:27:32.622Z"
   },
   {
    "duration": 932,
    "start_time": "2023-08-28T13:27:32.719Z"
   },
   {
    "duration": 162,
    "start_time": "2023-08-28T13:27:33.654Z"
   },
   {
    "duration": 109,
    "start_time": "2023-08-28T13:27:33.819Z"
   },
   {
    "duration": 6,
    "start_time": "2023-08-28T13:27:33.930Z"
   },
   {
    "duration": 85,
    "start_time": "2023-08-28T13:27:33.938Z"
   },
   {
    "duration": 30,
    "start_time": "2023-08-28T13:27:34.025Z"
   },
   {
    "duration": 60,
    "start_time": "2023-08-28T13:27:34.057Z"
   },
   {
    "duration": 16,
    "start_time": "2023-08-28T13:27:34.121Z"
   },
   {
    "duration": 32,
    "start_time": "2023-08-28T13:27:34.140Z"
   },
   {
    "duration": 67,
    "start_time": "2023-08-28T13:27:34.174Z"
   },
   {
    "duration": 17,
    "start_time": "2023-08-28T13:27:34.243Z"
   },
   {
    "duration": 18,
    "start_time": "2023-08-28T13:27:34.262Z"
   },
   {
    "duration": 50,
    "start_time": "2023-08-28T13:27:34.283Z"
   },
   {
    "duration": 128,
    "start_time": "2023-08-28T13:27:34.335Z"
   },
   {
    "duration": 84,
    "start_time": "2023-08-28T13:27:34.466Z"
   },
   {
    "duration": 165,
    "start_time": "2023-08-28T13:27:34.552Z"
   },
   {
    "duration": 17,
    "start_time": "2023-08-28T13:27:34.720Z"
   },
   {
    "duration": 4,
    "start_time": "2023-08-28T13:27:34.739Z"
   },
   {
    "duration": 7468,
    "start_time": "2023-08-28T13:27:34.744Z"
   },
   {
    "duration": 698,
    "start_time": "2023-08-28T13:27:42.214Z"
   },
   {
    "duration": 110,
    "start_time": "2023-08-28T13:27:42.917Z"
   },
   {
    "duration": 3,
    "start_time": "2023-08-28T13:28:09.546Z"
   },
   {
    "duration": 54,
    "start_time": "2023-08-28T13:28:09.551Z"
   },
   {
    "duration": 916,
    "start_time": "2023-08-28T13:28:09.607Z"
   },
   {
    "duration": 163,
    "start_time": "2023-08-28T13:28:10.525Z"
   },
   {
    "duration": 116,
    "start_time": "2023-08-28T13:28:10.690Z"
   },
   {
    "duration": 12,
    "start_time": "2023-08-28T13:28:10.807Z"
   },
   {
    "duration": 87,
    "start_time": "2023-08-28T13:28:10.821Z"
   },
   {
    "duration": 28,
    "start_time": "2023-08-28T13:28:10.911Z"
   },
   {
    "duration": 46,
    "start_time": "2023-08-28T13:28:10.941Z"
   },
   {
    "duration": 23,
    "start_time": "2023-08-28T13:28:10.989Z"
   },
   {
    "duration": 5,
    "start_time": "2023-08-28T13:28:11.018Z"
   },
   {
    "duration": 77,
    "start_time": "2023-08-28T13:28:11.025Z"
   },
   {
    "duration": 11,
    "start_time": "2023-08-28T13:28:11.110Z"
   },
   {
    "duration": 24,
    "start_time": "2023-08-28T13:28:11.123Z"
   },
   {
    "duration": 12,
    "start_time": "2023-08-28T13:28:11.149Z"
   },
   {
    "duration": 351,
    "start_time": "2023-08-28T13:28:11.164Z"
   },
   {
    "duration": 124,
    "start_time": "2023-08-28T13:28:11.517Z"
   },
   {
    "duration": 303,
    "start_time": "2023-08-28T13:28:11.643Z"
   },
   {
    "duration": 71,
    "start_time": "2023-08-28T13:28:11.948Z"
   },
   {
    "duration": 8,
    "start_time": "2023-08-28T13:28:12.021Z"
   },
   {
    "duration": 5247,
    "start_time": "2023-08-28T13:28:12.030Z"
   },
   {
    "duration": 1328,
    "start_time": "2023-08-28T13:28:17.278Z"
   },
   {
    "duration": 120,
    "start_time": "2023-08-28T13:28:18.608Z"
   },
   {
    "duration": 102,
    "start_time": "2023-08-28T13:28:22.449Z"
   },
   {
    "duration": 811,
    "start_time": "2023-08-28T13:29:09.867Z"
   },
   {
    "duration": 98,
    "start_time": "2023-08-28T13:29:13.758Z"
   },
   {
    "duration": 788,
    "start_time": "2023-08-28T13:29:22.602Z"
   },
   {
    "duration": 4,
    "start_time": "2023-08-28T13:29:31.456Z"
   },
   {
    "duration": 107,
    "start_time": "2023-08-28T13:29:31.462Z"
   },
   {
    "duration": 923,
    "start_time": "2023-08-28T13:29:31.572Z"
   },
   {
    "duration": 176,
    "start_time": "2023-08-28T13:29:32.497Z"
   },
   {
    "duration": 104,
    "start_time": "2023-08-28T13:29:32.675Z"
   },
   {
    "duration": 6,
    "start_time": "2023-08-28T13:29:32.782Z"
   },
   {
    "duration": 37,
    "start_time": "2023-08-28T13:29:32.800Z"
   },
   {
    "duration": 28,
    "start_time": "2023-08-28T13:29:32.838Z"
   },
   {
    "duration": 60,
    "start_time": "2023-08-28T13:29:32.868Z"
   },
   {
    "duration": 16,
    "start_time": "2023-08-28T13:29:32.930Z"
   },
   {
    "duration": 4,
    "start_time": "2023-08-28T13:29:32.948Z"
   },
   {
    "duration": 53,
    "start_time": "2023-08-28T13:29:32.954Z"
   },
   {
    "duration": 8,
    "start_time": "2023-08-28T13:29:33.008Z"
   },
   {
    "duration": 7,
    "start_time": "2023-08-28T13:29:33.023Z"
   },
   {
    "duration": 5,
    "start_time": "2023-08-28T13:29:33.032Z"
   },
   {
    "duration": 111,
    "start_time": "2023-08-28T13:29:33.039Z"
   },
   {
    "duration": 75,
    "start_time": "2023-08-28T13:29:33.152Z"
   },
   {
    "duration": 140,
    "start_time": "2023-08-28T13:29:33.228Z"
   },
   {
    "duration": 13,
    "start_time": "2023-08-28T13:29:33.369Z"
   },
   {
    "duration": 5,
    "start_time": "2023-08-28T13:29:33.384Z"
   },
   {
    "duration": 6071,
    "start_time": "2023-08-28T13:29:33.405Z"
   },
   {
    "duration": 895,
    "start_time": "2023-08-28T13:29:39.478Z"
   },
   {
    "duration": 805,
    "start_time": "2023-08-28T13:29:52.854Z"
   },
   {
    "duration": 99,
    "start_time": "2023-08-28T13:29:57.243Z"
   },
   {
    "duration": 828,
    "start_time": "2023-08-28T13:30:10.740Z"
   },
   {
    "duration": 105,
    "start_time": "2023-08-28T13:30:11.570Z"
   },
   {
    "duration": 220,
    "start_time": "2023-08-28T13:30:26.403Z"
   },
   {
    "duration": 18,
    "start_time": "2023-08-28T13:30:37.224Z"
   },
   {
    "duration": 102,
    "start_time": "2023-08-28T13:30:45.031Z"
   },
   {
    "duration": 193,
    "start_time": "2023-08-28T13:30:55.259Z"
   },
   {
    "duration": 100,
    "start_time": "2023-08-28T13:31:04.786Z"
   },
   {
    "duration": 12,
    "start_time": "2023-08-28T13:31:26.341Z"
   },
   {
    "duration": 9,
    "start_time": "2023-08-28T13:31:52.182Z"
   },
   {
    "duration": 98,
    "start_time": "2023-08-28T13:32:05.920Z"
   },
   {
    "duration": 54,
    "start_time": "2023-08-28T13:32:18.991Z"
   },
   {
    "duration": 12,
    "start_time": "2023-08-28T13:33:51.986Z"
   },
   {
    "duration": 77,
    "start_time": "2023-08-28T13:34:02.462Z"
   },
   {
    "duration": 50,
    "start_time": "2023-08-28T13:34:09.245Z"
   },
   {
    "duration": 155,
    "start_time": "2023-08-28T13:34:15.459Z"
   },
   {
    "duration": 146,
    "start_time": "2023-08-28T13:34:52.230Z"
   },
   {
    "duration": 16,
    "start_time": "2023-08-28T13:38:25.263Z"
   },
   {
    "duration": 3,
    "start_time": "2023-08-28T13:38:26.284Z"
   },
   {
    "duration": 4447,
    "start_time": "2023-08-28T13:38:26.600Z"
   },
   {
    "duration": 805,
    "start_time": "2023-08-28T13:38:31.049Z"
   },
   {
    "duration": 105,
    "start_time": "2023-08-28T13:38:31.856Z"
   },
   {
    "duration": 807,
    "start_time": "2023-08-28T13:38:42.542Z"
   },
   {
    "duration": 93,
    "start_time": "2023-08-28T13:38:44.424Z"
   },
   {
    "duration": 136,
    "start_time": "2023-08-28T13:38:46.357Z"
   },
   {
    "duration": 19,
    "start_time": "2023-08-28T13:38:49.140Z"
   },
   {
    "duration": 2105,
    "start_time": "2023-08-28T13:39:04.334Z"
   },
   {
    "duration": 8457,
    "start_time": "2023-08-28T13:39:14.336Z"
   },
   {
    "duration": 241,
    "start_time": "2023-08-28T13:39:30.186Z"
   },
   {
    "duration": 5291,
    "start_time": "2023-08-28T13:40:17.748Z"
   },
   {
    "duration": 6034,
    "start_time": "2023-08-28T13:41:05.891Z"
   },
   {
    "duration": 143,
    "start_time": "2023-08-28T13:41:35.839Z"
   },
   {
    "duration": 3,
    "start_time": "2023-08-28T13:41:49.175Z"
   },
   {
    "duration": 63,
    "start_time": "2023-08-28T13:41:49.180Z"
   },
   {
    "duration": 864,
    "start_time": "2023-08-28T13:41:49.245Z"
   },
   {
    "duration": 165,
    "start_time": "2023-08-28T13:41:50.118Z"
   },
   {
    "duration": 148,
    "start_time": "2023-08-28T13:41:50.286Z"
   },
   {
    "duration": 5,
    "start_time": "2023-08-28T13:41:50.436Z"
   },
   {
    "duration": 44,
    "start_time": "2023-08-28T13:41:50.443Z"
   },
   {
    "duration": 38,
    "start_time": "2023-08-28T13:41:50.488Z"
   },
   {
    "duration": 36,
    "start_time": "2023-08-28T13:41:50.528Z"
   },
   {
    "duration": 39,
    "start_time": "2023-08-28T13:41:50.566Z"
   },
   {
    "duration": 8,
    "start_time": "2023-08-28T13:41:50.607Z"
   },
   {
    "duration": 35,
    "start_time": "2023-08-28T13:41:50.617Z"
   },
   {
    "duration": 8,
    "start_time": "2023-08-28T13:41:50.654Z"
   },
   {
    "duration": 53,
    "start_time": "2023-08-28T13:41:50.665Z"
   },
   {
    "duration": 16,
    "start_time": "2023-08-28T13:41:50.723Z"
   },
   {
    "duration": 106,
    "start_time": "2023-08-28T13:41:50.741Z"
   },
   {
    "duration": 95,
    "start_time": "2023-08-28T13:41:50.849Z"
   },
   {
    "duration": 288,
    "start_time": "2023-08-28T13:41:50.946Z"
   },
   {
    "duration": 71,
    "start_time": "2023-08-28T13:41:51.236Z"
   },
   {
    "duration": 6,
    "start_time": "2023-08-28T13:41:51.310Z"
   },
   {
    "duration": 5790,
    "start_time": "2023-08-28T13:41:51.318Z"
   },
   {
    "duration": 855,
    "start_time": "2023-08-28T13:41:57.109Z"
   },
   {
    "duration": 113,
    "start_time": "2023-08-28T13:41:57.966Z"
   },
   {
    "duration": 188,
    "start_time": "2023-08-28T13:41:58.081Z"
   },
   {
    "duration": 5976,
    "start_time": "2023-08-28T13:42:05.033Z"
   },
   {
    "duration": 12,
    "start_time": "2023-08-28T13:42:18.454Z"
   },
   {
    "duration": 5284,
    "start_time": "2023-08-28T13:42:47.625Z"
   },
   {
    "duration": 9218,
    "start_time": "2023-08-28T13:43:11.048Z"
   },
   {
    "duration": 8392,
    "start_time": "2023-08-28T13:43:44.190Z"
   },
   {
    "duration": 9536,
    "start_time": "2023-08-28T13:44:23.354Z"
   },
   {
    "duration": 5437,
    "start_time": "2023-08-28T13:45:04.035Z"
   },
   {
    "duration": 5283,
    "start_time": "2023-08-28T13:45:18.772Z"
   },
   {
    "duration": 9136,
    "start_time": "2023-08-28T13:45:34.489Z"
   },
   {
    "duration": 8454,
    "start_time": "2023-08-28T13:48:58.070Z"
   },
   {
    "duration": 9033,
    "start_time": "2023-08-28T13:49:15.360Z"
   },
   {
    "duration": 9179,
    "start_time": "2023-08-28T13:49:34.903Z"
   },
   {
    "duration": 8520,
    "start_time": "2023-08-28T13:50:08.115Z"
   },
   {
    "duration": 9540,
    "start_time": "2023-08-28T13:50:30.690Z"
   },
   {
    "duration": 8942,
    "start_time": "2023-08-28T13:50:50.216Z"
   },
   {
    "duration": 8651,
    "start_time": "2023-08-28T13:51:55.339Z"
   },
   {
    "duration": 9507,
    "start_time": "2023-08-28T13:52:12.933Z"
   },
   {
    "duration": 21,
    "start_time": "2023-08-28T14:01:45.798Z"
   },
   {
    "duration": 487,
    "start_time": "2023-08-28T14:01:57.731Z"
   },
   {
    "duration": 353,
    "start_time": "2023-08-28T14:02:03.580Z"
   },
   {
    "duration": 211,
    "start_time": "2023-08-28T14:02:15.450Z"
   },
   {
    "duration": 704,
    "start_time": "2023-08-28T14:03:16.817Z"
   },
   {
    "duration": 406,
    "start_time": "2023-08-28T14:06:32.842Z"
   },
   {
    "duration": 13,
    "start_time": "2023-08-28T14:06:56.806Z"
   },
   {
    "duration": 40,
    "start_time": "2023-08-28T14:07:25.771Z"
   },
   {
    "duration": 177,
    "start_time": "2023-08-28T14:07:45.046Z"
   },
   {
    "duration": 10,
    "start_time": "2023-08-28T14:58:03.128Z"
   },
   {
    "duration": 156,
    "start_time": "2023-08-28T14:58:08.018Z"
   },
   {
    "duration": 46,
    "start_time": "2023-08-28T14:58:17.228Z"
   },
   {
    "duration": 59,
    "start_time": "2023-08-28T14:58:44.512Z"
   },
   {
    "duration": 73,
    "start_time": "2023-08-28T14:58:56.359Z"
   },
   {
    "duration": 47,
    "start_time": "2023-08-28T14:58:59.829Z"
   },
   {
    "duration": 186,
    "start_time": "2023-08-28T14:59:03.354Z"
   },
   {
    "duration": 37,
    "start_time": "2023-08-28T14:59:22.816Z"
   },
   {
    "duration": 263,
    "start_time": "2023-08-28T15:00:33.369Z"
   },
   {
    "duration": 9917,
    "start_time": "2023-08-28T15:06:38.837Z"
   },
   {
    "duration": 8899,
    "start_time": "2023-08-28T15:07:05.948Z"
   },
   {
    "duration": 9512,
    "start_time": "2023-08-28T15:08:53.672Z"
   },
   {
    "duration": 5893,
    "start_time": "2023-08-28T15:09:41.339Z"
   },
   {
    "duration": 5920,
    "start_time": "2023-08-28T16:53:32.150Z"
   },
   {
    "duration": 5311,
    "start_time": "2023-08-28T17:01:03.045Z"
   },
   {
    "duration": 6628,
    "start_time": "2023-08-28T17:01:08.668Z"
   },
   {
    "duration": 172,
    "start_time": "2023-08-28T17:01:26.645Z"
   },
   {
    "duration": 9179,
    "start_time": "2023-08-28T17:01:31.563Z"
   },
   {
    "duration": 1175,
    "start_time": "2023-08-28T17:02:08.643Z"
   },
   {
    "duration": 53,
    "start_time": "2023-08-28T17:11:15.025Z"
   },
   {
    "duration": 54,
    "start_time": "2023-08-28T17:11:33.135Z"
   },
   {
    "duration": 175,
    "start_time": "2023-08-28T17:11:49.501Z"
   },
   {
    "duration": 121,
    "start_time": "2023-08-28T17:12:06.738Z"
   },
   {
    "duration": 145,
    "start_time": "2023-08-28T17:12:17.742Z"
   },
   {
    "duration": 110,
    "start_time": "2023-08-28T17:12:40.030Z"
   },
   {
    "duration": 107,
    "start_time": "2023-08-28T17:12:43.479Z"
   },
   {
    "duration": 133,
    "start_time": "2023-08-28T17:12:54.944Z"
   },
   {
    "duration": 145,
    "start_time": "2023-08-28T17:13:25.566Z"
   },
   {
    "duration": 168,
    "start_time": "2023-08-28T17:13:28.065Z"
   },
   {
    "duration": 91,
    "start_time": "2023-08-28T17:13:37.245Z"
   },
   {
    "duration": 89,
    "start_time": "2023-08-28T17:13:44.468Z"
   },
   {
    "duration": 57,
    "start_time": "2023-08-28T17:13:55.243Z"
   },
   {
    "duration": 112,
    "start_time": "2023-08-28T17:13:57.727Z"
   },
   {
    "duration": 119,
    "start_time": "2023-08-28T17:14:01.118Z"
   },
   {
    "duration": 137,
    "start_time": "2023-08-28T17:14:37.083Z"
   },
   {
    "duration": 61,
    "start_time": "2023-08-28T17:14:45.497Z"
   },
   {
    "duration": 135,
    "start_time": "2023-08-28T17:14:50.021Z"
   },
   {
    "duration": 139,
    "start_time": "2023-08-28T17:14:54.791Z"
   },
   {
    "duration": 36,
    "start_time": "2023-08-28T17:24:53.301Z"
   },
   {
    "duration": 71,
    "start_time": "2023-08-28T17:26:13.176Z"
   },
   {
    "duration": 72,
    "start_time": "2023-08-28T17:26:59.638Z"
   },
   {
    "duration": 73,
    "start_time": "2023-08-28T17:27:09.708Z"
   },
   {
    "duration": 187,
    "start_time": "2023-08-28T17:28:00.066Z"
   },
   {
    "duration": 189,
    "start_time": "2023-08-28T17:28:03.404Z"
   },
   {
    "duration": 229,
    "start_time": "2023-08-28T17:28:48.078Z"
   },
   {
    "duration": 240,
    "start_time": "2023-08-28T17:29:06.361Z"
   },
   {
    "duration": 280,
    "start_time": "2023-08-28T17:29:29.388Z"
   },
   {
    "duration": 264,
    "start_time": "2023-08-28T17:29:58.054Z"
   },
   {
    "duration": 291,
    "start_time": "2023-08-28T17:30:26.158Z"
   },
   {
    "duration": 8,
    "start_time": "2023-08-28T17:30:59.772Z"
   },
   {
    "duration": 194,
    "start_time": "2023-08-28T17:31:32.992Z"
   },
   {
    "duration": 13,
    "start_time": "2023-08-28T17:31:39.981Z"
   },
   {
    "duration": 279,
    "start_time": "2023-08-28T17:32:11.243Z"
   },
   {
    "duration": 8,
    "start_time": "2023-08-28T17:32:13.236Z"
   },
   {
    "duration": 290,
    "start_time": "2023-08-28T17:32:32.385Z"
   },
   {
    "duration": 300,
    "start_time": "2023-08-28T17:32:44.331Z"
   },
   {
    "duration": 305,
    "start_time": "2023-08-28T17:32:51.407Z"
   },
   {
    "duration": 1100,
    "start_time": "2023-08-28T17:35:00.141Z"
   },
   {
    "duration": 68,
    "start_time": "2023-08-28T17:35:51.210Z"
   },
   {
    "duration": 239,
    "start_time": "2023-08-28T17:36:30.504Z"
   },
   {
    "duration": 253,
    "start_time": "2023-08-28T17:36:34.145Z"
   },
   {
    "duration": 77,
    "start_time": "2023-08-28T17:37:27.045Z"
   },
   {
    "duration": 143,
    "start_time": "2023-08-28T17:37:35.370Z"
   },
   {
    "duration": 317,
    "start_time": "2023-08-28T17:38:02.349Z"
   },
   {
    "duration": 56,
    "start_time": "2023-08-28T17:39:22.416Z"
   },
   {
    "duration": 811,
    "start_time": "2023-08-28T17:40:10.297Z"
   },
   {
    "duration": 872,
    "start_time": "2023-08-28T17:42:32.284Z"
   },
   {
    "duration": 835,
    "start_time": "2023-08-28T17:44:16.640Z"
   },
   {
    "duration": 827,
    "start_time": "2023-08-28T17:44:52.270Z"
   },
   {
    "duration": 810,
    "start_time": "2023-08-28T17:45:36.698Z"
   },
   {
    "duration": 783,
    "start_time": "2023-08-28T17:46:52.605Z"
   },
   {
    "duration": 795,
    "start_time": "2023-08-28T17:49:45.315Z"
   },
   {
    "duration": 1106,
    "start_time": "2023-08-28T18:10:42.964Z"
   },
   {
    "duration": 1778,
    "start_time": "2023-08-28T18:11:09.482Z"
   },
   {
    "duration": 1790,
    "start_time": "2023-08-28T18:33:06.011Z"
   },
   {
    "duration": 2820,
    "start_time": "2023-08-28T18:33:41.321Z"
   },
   {
    "duration": 1750,
    "start_time": "2023-08-28T18:33:52.256Z"
   },
   {
    "duration": 1713,
    "start_time": "2023-08-28T18:34:02.683Z"
   },
   {
    "duration": 1739,
    "start_time": "2023-08-28T18:34:11.190Z"
   },
   {
    "duration": 4733,
    "start_time": "2023-08-28T18:51:56.390Z"
   },
   {
    "duration": 2619,
    "start_time": "2023-08-28T18:54:18.384Z"
   },
   {
    "duration": 1691,
    "start_time": "2023-08-28T18:54:28.449Z"
   },
   {
    "duration": 3,
    "start_time": "2023-08-28T18:54:50.997Z"
   },
   {
    "duration": 34,
    "start_time": "2023-08-28T18:54:51.642Z"
   },
   {
    "duration": 2483,
    "start_time": "2023-08-28T18:54:51.944Z"
   },
   {
    "duration": 1649,
    "start_time": "2023-08-28T18:54:54.429Z"
   },
   {
    "duration": 1245,
    "start_time": "2023-08-28T18:55:34.580Z"
   },
   {
    "duration": 48,
    "start_time": "2023-08-28T18:55:37.559Z"
   },
   {
    "duration": 2546,
    "start_time": "2023-08-28T18:55:37.796Z"
   },
   {
    "duration": 1576,
    "start_time": "2023-08-28T18:55:40.345Z"
   },
   {
    "duration": 3,
    "start_time": "2023-08-28T19:17:22.095Z"
   },
   {
    "duration": 63,
    "start_time": "2023-08-28T19:17:22.100Z"
   },
   {
    "duration": 2497,
    "start_time": "2023-08-28T19:17:22.165Z"
   },
   {
    "duration": 1558,
    "start_time": "2023-08-28T19:17:24.665Z"
   },
   {
    "duration": 1297,
    "start_time": "2023-08-28T19:17:26.225Z"
   },
   {
    "duration": 317,
    "start_time": "2023-08-28T19:17:27.524Z"
   },
   {
    "duration": 298,
    "start_time": "2023-08-28T19:17:27.843Z"
   },
   {
    "duration": 5,
    "start_time": "2023-08-28T19:17:28.143Z"
   },
   {
    "duration": 48,
    "start_time": "2023-08-28T19:17:28.201Z"
   },
   {
    "duration": 105,
    "start_time": "2023-08-28T19:17:28.302Z"
   },
   {
    "duration": 99,
    "start_time": "2023-08-28T19:17:28.410Z"
   },
   {
    "duration": 94,
    "start_time": "2023-08-28T19:17:28.511Z"
   },
   {
    "duration": 15,
    "start_time": "2023-08-28T19:17:28.606Z"
   },
   {
    "duration": 91,
    "start_time": "2023-08-28T19:17:28.622Z"
   },
   {
    "duration": 5,
    "start_time": "2023-08-28T19:17:28.716Z"
   },
   {
    "duration": 8,
    "start_time": "2023-08-28T19:17:28.723Z"
   },
   {
    "duration": 15,
    "start_time": "2023-08-28T19:17:28.733Z"
   },
   {
    "duration": 93,
    "start_time": "2023-08-28T19:17:28.750Z"
   },
   {
    "duration": 65,
    "start_time": "2023-08-28T19:17:28.845Z"
   },
   {
    "duration": 150,
    "start_time": "2023-08-28T19:17:28.912Z"
   },
   {
    "duration": 12,
    "start_time": "2023-08-28T19:17:29.064Z"
   },
   {
    "duration": 13,
    "start_time": "2023-08-28T19:17:29.078Z"
   },
   {
    "duration": 4204,
    "start_time": "2023-08-28T19:17:29.093Z"
   },
   {
    "duration": 763,
    "start_time": "2023-08-28T19:17:33.300Z"
   },
   {
    "duration": 87,
    "start_time": "2023-08-28T19:17:34.065Z"
   },
   {
    "duration": 157,
    "start_time": "2023-08-28T19:17:34.154Z"
   },
   {
    "duration": 885,
    "start_time": "2023-08-28T19:17:34.313Z"
   },
   {
    "duration": 899,
    "start_time": "2023-08-28T19:17:35.199Z"
   },
   {
    "duration": 1815,
    "start_time": "2023-08-28T19:17:36.100Z"
   },
   {
    "duration": 13,
    "start_time": "2023-08-28T19:18:15.150Z"
   },
   {
    "duration": 28,
    "start_time": "2023-08-28T19:18:23.206Z"
   },
   {
    "duration": 7,
    "start_time": "2023-08-28T19:19:27.590Z"
   },
   {
    "duration": 4,
    "start_time": "2023-08-28T19:19:41.260Z"
   },
   {
    "duration": 32,
    "start_time": "2023-08-28T19:22:19.775Z"
   },
   {
    "duration": 22,
    "start_time": "2023-08-28T19:25:19.214Z"
   },
   {
    "duration": 21,
    "start_time": "2023-08-28T19:25:44.383Z"
   },
   {
    "duration": 22,
    "start_time": "2023-08-28T19:25:50.198Z"
   },
   {
    "duration": 12,
    "start_time": "2023-08-28T19:26:02.977Z"
   },
   {
    "duration": 27,
    "start_time": "2023-08-28T19:27:41.730Z"
   },
   {
    "duration": 27,
    "start_time": "2023-08-28T19:27:46.320Z"
   },
   {
    "duration": 7,
    "start_time": "2023-08-28T19:27:52.263Z"
   },
   {
    "duration": 4,
    "start_time": "2023-08-28T19:27:54.928Z"
   },
   {
    "duration": 3,
    "start_time": "2023-08-28T19:28:05.672Z"
   },
   {
    "duration": 48,
    "start_time": "2023-08-28T19:28:05.677Z"
   },
   {
    "duration": 2503,
    "start_time": "2023-08-28T19:28:05.727Z"
   },
   {
    "duration": 1668,
    "start_time": "2023-08-28T19:28:08.234Z"
   },
   {
    "duration": 888,
    "start_time": "2023-08-28T19:28:09.905Z"
   },
   {
    "duration": 143,
    "start_time": "2023-08-28T19:28:10.795Z"
   },
   {
    "duration": 112,
    "start_time": "2023-08-28T19:28:10.940Z"
   },
   {
    "duration": 7,
    "start_time": "2023-08-28T19:28:11.054Z"
   },
   {
    "duration": 61,
    "start_time": "2023-08-28T19:28:11.063Z"
   },
   {
    "duration": 31,
    "start_time": "2023-08-28T19:28:11.128Z"
   },
   {
    "duration": 64,
    "start_time": "2023-08-28T19:28:11.161Z"
   },
   {
    "duration": 32,
    "start_time": "2023-08-28T19:28:11.228Z"
   },
   {
    "duration": 6,
    "start_time": "2023-08-28T19:28:11.262Z"
   },
   {
    "duration": 62,
    "start_time": "2023-08-28T19:28:11.270Z"
   },
   {
    "duration": 22,
    "start_time": "2023-08-28T19:28:11.334Z"
   },
   {
    "duration": 8,
    "start_time": "2023-08-28T19:28:11.358Z"
   },
   {
    "duration": 22,
    "start_time": "2023-08-28T19:28:11.368Z"
   },
   {
    "duration": 109,
    "start_time": "2023-08-28T19:28:11.391Z"
   },
   {
    "duration": 72,
    "start_time": "2023-08-28T19:28:11.502Z"
   },
   {
    "duration": 136,
    "start_time": "2023-08-28T19:28:11.576Z"
   },
   {
    "duration": 19,
    "start_time": "2023-08-28T19:28:11.713Z"
   },
   {
    "duration": 2,
    "start_time": "2023-08-28T19:28:11.734Z"
   },
   {
    "duration": 4331,
    "start_time": "2023-08-28T19:28:11.738Z"
   },
   {
    "duration": 797,
    "start_time": "2023-08-28T19:28:16.071Z"
   },
   {
    "duration": 90,
    "start_time": "2023-08-28T19:28:16.870Z"
   },
   {
    "duration": 139,
    "start_time": "2023-08-28T19:28:16.962Z"
   },
   {
    "duration": 807,
    "start_time": "2023-08-28T19:28:17.103Z"
   },
   {
    "duration": 937,
    "start_time": "2023-08-28T19:28:17.914Z"
   },
   {
    "duration": 1894,
    "start_time": "2023-08-28T19:28:18.853Z"
   },
   {
    "duration": 12,
    "start_time": "2023-08-28T19:28:20.749Z"
   },
   {
    "duration": 43,
    "start_time": "2023-08-28T19:28:20.763Z"
   },
   {
    "duration": 7,
    "start_time": "2023-08-28T19:28:20.808Z"
   },
   {
    "duration": 17,
    "start_time": "2023-08-28T19:28:20.816Z"
   },
   {
    "duration": 7,
    "start_time": "2023-08-28T19:42:21.740Z"
   },
   {
    "duration": 8,
    "start_time": "2023-08-28T19:42:49.259Z"
   },
   {
    "duration": 10,
    "start_time": "2023-08-28T19:42:53.871Z"
   },
   {
    "duration": 21,
    "start_time": "2023-08-28T19:42:57.796Z"
   },
   {
    "duration": 14,
    "start_time": "2023-08-28T19:43:01.589Z"
   },
   {
    "duration": 11,
    "start_time": "2023-08-28T19:43:04.526Z"
   },
   {
    "duration": 8,
    "start_time": "2023-08-28T19:43:07.674Z"
   },
   {
    "duration": 9,
    "start_time": "2023-08-28T19:43:10.631Z"
   },
   {
    "duration": 8,
    "start_time": "2023-08-28T19:43:16.012Z"
   },
   {
    "duration": 6,
    "start_time": "2023-08-28T19:43:19.238Z"
   },
   {
    "duration": 6,
    "start_time": "2023-08-28T19:43:21.351Z"
   },
   {
    "duration": 6,
    "start_time": "2023-08-28T19:43:23.336Z"
   },
   {
    "duration": 7,
    "start_time": "2023-08-28T19:43:30.726Z"
   },
   {
    "duration": 8,
    "start_time": "2023-08-28T19:43:34.293Z"
   },
   {
    "duration": 26,
    "start_time": "2023-08-28T19:44:40.723Z"
   },
   {
    "duration": 6,
    "start_time": "2023-08-28T19:45:07.745Z"
   },
   {
    "duration": 7,
    "start_time": "2023-08-28T19:45:10.892Z"
   },
   {
    "duration": 4,
    "start_time": "2023-08-28T19:45:20.891Z"
   },
   {
    "duration": 55,
    "start_time": "2023-08-28T19:45:20.897Z"
   },
   {
    "duration": 2533,
    "start_time": "2023-08-28T19:45:20.954Z"
   },
   {
    "duration": 2514,
    "start_time": "2023-08-28T19:45:23.490Z"
   },
   {
    "duration": 1934,
    "start_time": "2023-08-28T19:45:26.008Z"
   },
   {
    "duration": 369,
    "start_time": "2023-08-28T19:45:27.943Z"
   },
   {
    "duration": 215,
    "start_time": "2023-08-28T19:45:28.320Z"
   },
   {
    "duration": 6,
    "start_time": "2023-08-28T19:45:28.537Z"
   },
   {
    "duration": 100,
    "start_time": "2023-08-28T19:45:28.545Z"
   },
   {
    "duration": 84,
    "start_time": "2023-08-28T19:45:28.648Z"
   },
   {
    "duration": 100,
    "start_time": "2023-08-28T19:45:28.735Z"
   },
   {
    "duration": 17,
    "start_time": "2023-08-28T19:45:28.836Z"
   },
   {
    "duration": 5,
    "start_time": "2023-08-28T19:45:28.854Z"
   },
   {
    "duration": 69,
    "start_time": "2023-08-28T19:45:28.860Z"
   },
   {
    "duration": 4,
    "start_time": "2023-08-28T19:45:28.931Z"
   },
   {
    "duration": 8,
    "start_time": "2023-08-28T19:45:28.936Z"
   },
   {
    "duration": 4,
    "start_time": "2023-08-28T19:45:28.946Z"
   },
   {
    "duration": 113,
    "start_time": "2023-08-28T19:45:28.951Z"
   },
   {
    "duration": 65,
    "start_time": "2023-08-28T19:45:29.066Z"
   },
   {
    "duration": 141,
    "start_time": "2023-08-28T19:45:29.133Z"
   },
   {
    "duration": 35,
    "start_time": "2023-08-28T19:45:29.276Z"
   },
   {
    "duration": 5,
    "start_time": "2023-08-28T19:45:29.315Z"
   },
   {
    "duration": 4427,
    "start_time": "2023-08-28T19:45:29.323Z"
   },
   {
    "duration": 806,
    "start_time": "2023-08-28T19:45:33.751Z"
   },
   {
    "duration": 107,
    "start_time": "2023-08-28T19:45:34.559Z"
   },
   {
    "duration": 207,
    "start_time": "2023-08-28T19:45:34.668Z"
   },
   {
    "duration": 895,
    "start_time": "2023-08-28T19:45:34.878Z"
   },
   {
    "duration": 973,
    "start_time": "2023-08-28T19:45:35.778Z"
   },
   {
    "duration": 2081,
    "start_time": "2023-08-28T19:45:36.753Z"
   },
   {
    "duration": 10,
    "start_time": "2023-08-28T19:45:38.836Z"
   },
   {
    "duration": 29,
    "start_time": "2023-08-28T19:45:38.848Z"
   },
   {
    "duration": 11,
    "start_time": "2023-08-28T19:45:38.905Z"
   },
   {
    "duration": 30,
    "start_time": "2023-08-28T19:45:38.918Z"
   },
   {
    "duration": 40,
    "start_time": "2023-08-28T19:45:38.950Z"
   },
   {
    "duration": 7,
    "start_time": "2023-08-28T19:45:38.992Z"
   },
   {
    "duration": 34,
    "start_time": "2023-08-28T19:45:42.891Z"
   },
   {
    "duration": 3,
    "start_time": "2023-08-28T19:55:24.087Z"
   },
   {
    "duration": 112,
    "start_time": "2023-08-28T20:23:16.119Z"
   },
   {
    "duration": 7,
    "start_time": "2023-08-28T20:23:20.609Z"
   },
   {
    "duration": 12,
    "start_time": "2023-08-28T20:23:25.311Z"
   },
   {
    "duration": 4,
    "start_time": "2023-08-28T20:23:29.347Z"
   },
   {
    "duration": 4,
    "start_time": "2023-08-28T20:23:31.562Z"
   },
   {
    "duration": 13,
    "start_time": "2023-08-28T21:01:47.506Z"
   },
   {
    "duration": 10,
    "start_time": "2023-08-28T21:01:52.588Z"
   },
   {
    "duration": 307,
    "start_time": "2023-08-28T21:02:04.357Z"
   },
   {
    "duration": 7,
    "start_time": "2023-08-28T21:02:11.792Z"
   },
   {
    "duration": 304,
    "start_time": "2023-08-28T21:02:12.343Z"
   },
   {
    "duration": 10,
    "start_time": "2023-08-28T21:06:22.423Z"
   },
   {
    "duration": 45,
    "start_time": "2023-08-29T11:28:16.742Z"
   },
   {
    "duration": 1482,
    "start_time": "2023-08-29T11:28:21.910Z"
   },
   {
    "duration": 70,
    "start_time": "2023-08-29T11:28:23.395Z"
   },
   {
    "duration": 4982,
    "start_time": "2023-08-29T11:28:23.467Z"
   },
   {
    "duration": 1448,
    "start_time": "2023-08-29T11:28:28.451Z"
   },
   {
    "duration": 1283,
    "start_time": "2023-08-29T11:28:29.902Z"
   },
   {
    "duration": 141,
    "start_time": "2023-08-29T11:28:31.187Z"
   },
   {
    "duration": 123,
    "start_time": "2023-08-29T11:28:31.337Z"
   },
   {
    "duration": 5,
    "start_time": "2023-08-29T11:28:31.462Z"
   },
   {
    "duration": 86,
    "start_time": "2023-08-29T11:28:31.469Z"
   },
   {
    "duration": 52,
    "start_time": "2023-08-29T11:28:31.559Z"
   },
   {
    "duration": 57,
    "start_time": "2023-08-29T11:28:31.624Z"
   },
   {
    "duration": 55,
    "start_time": "2023-08-29T11:28:31.682Z"
   },
   {
    "duration": 27,
    "start_time": "2023-08-29T11:28:31.740Z"
   },
   {
    "duration": 88,
    "start_time": "2023-08-29T11:28:31.769Z"
   },
   {
    "duration": 16,
    "start_time": "2023-08-29T11:28:31.858Z"
   },
   {
    "duration": 24,
    "start_time": "2023-08-29T11:28:31.876Z"
   },
   {
    "duration": 37,
    "start_time": "2023-08-29T11:28:31.902Z"
   },
   {
    "duration": 103,
    "start_time": "2023-08-29T11:28:31.945Z"
   },
   {
    "duration": 51,
    "start_time": "2023-08-29T11:28:32.050Z"
   },
   {
    "duration": 259,
    "start_time": "2023-08-29T11:28:32.103Z"
   },
   {
    "duration": 118,
    "start_time": "2023-08-29T11:28:32.365Z"
   },
   {
    "duration": 136,
    "start_time": "2023-08-29T11:28:32.485Z"
   },
   {
    "duration": 4296,
    "start_time": "2023-08-29T11:28:32.623Z"
   },
   {
    "duration": 796,
    "start_time": "2023-08-29T11:28:36.923Z"
   },
   {
    "duration": 92,
    "start_time": "2023-08-29T11:28:37.720Z"
   },
   {
    "duration": 155,
    "start_time": "2023-08-29T11:28:37.813Z"
   },
   {
    "duration": 981,
    "start_time": "2023-08-29T11:28:37.969Z"
   },
   {
    "duration": 826,
    "start_time": "2023-08-29T11:28:38.954Z"
   },
   {
    "duration": 1951,
    "start_time": "2023-08-29T11:28:39.782Z"
   },
   {
    "duration": 18,
    "start_time": "2023-08-29T11:28:41.734Z"
   },
   {
    "duration": 24,
    "start_time": "2023-08-29T11:28:41.753Z"
   },
   {
    "duration": 25,
    "start_time": "2023-08-29T11:28:41.779Z"
   },
   {
    "duration": 37,
    "start_time": "2023-08-29T11:28:41.805Z"
   },
   {
    "duration": 85,
    "start_time": "2023-08-29T11:28:41.844Z"
   },
   {
    "duration": 12,
    "start_time": "2023-08-29T11:28:41.932Z"
   },
   {
    "duration": 43,
    "start_time": "2023-08-29T11:28:41.946Z"
   },
   {
    "duration": 3,
    "start_time": "2023-08-29T11:28:41.991Z"
   },
   {
    "duration": 15,
    "start_time": "2023-08-29T11:28:41.996Z"
   },
   {
    "duration": 339,
    "start_time": "2023-08-29T11:28:42.013Z"
   },
   {
    "duration": 238,
    "start_time": "2023-08-29T11:28:45.816Z"
   },
   {
    "duration": 174,
    "start_time": "2023-08-29T11:28:53.195Z"
   },
   {
    "duration": 222,
    "start_time": "2023-08-29T11:29:30.420Z"
   },
   {
    "duration": 217,
    "start_time": "2023-08-29T11:29:39.535Z"
   },
   {
    "duration": 190,
    "start_time": "2023-08-29T11:29:39.820Z"
   },
   {
    "duration": 194,
    "start_time": "2023-08-29T11:29:40.457Z"
   },
   {
    "duration": 174,
    "start_time": "2023-08-29T11:29:45.169Z"
   },
   {
    "duration": 4,
    "start_time": "2023-08-29T11:29:47.866Z"
   },
   {
    "duration": 4,
    "start_time": "2023-08-29T16:57:42.312Z"
   },
   {
    "duration": 17,
    "start_time": "2023-08-29T16:57:54.382Z"
   },
   {
    "duration": 9,
    "start_time": "2023-08-29T16:58:25.537Z"
   },
   {
    "duration": 22,
    "start_time": "2023-08-29T16:58:32.155Z"
   },
   {
    "duration": 18,
    "start_time": "2023-08-29T16:58:37.563Z"
   },
   {
    "duration": 18,
    "start_time": "2023-08-29T16:58:39.912Z"
   },
   {
    "duration": 22,
    "start_time": "2023-08-29T16:58:46.303Z"
   },
   {
    "duration": 20,
    "start_time": "2023-08-29T16:58:57.979Z"
   },
   {
    "duration": 76,
    "start_time": "2023-08-29T16:59:07.408Z"
   },
   {
    "duration": 247,
    "start_time": "2023-08-29T16:59:16.318Z"
   },
   {
    "duration": 1768,
    "start_time": "2023-08-29T17:00:43.686Z"
   },
   {
    "duration": 21,
    "start_time": "2023-08-29T17:00:50.526Z"
   },
   {
    "duration": 26,
    "start_time": "2023-08-29T17:00:56.139Z"
   },
   {
    "duration": 270,
    "start_time": "2023-08-29T17:01:03.601Z"
   },
   {
    "duration": 249,
    "start_time": "2023-08-29T17:01:17.458Z"
   },
   {
    "duration": 1618,
    "start_time": "2023-08-30T15:41:48.961Z"
   },
   {
    "duration": 3,
    "start_time": "2023-08-30T15:41:57.277Z"
   },
   {
    "duration": 57,
    "start_time": "2023-08-30T15:41:57.286Z"
   },
   {
    "duration": 4557,
    "start_time": "2023-08-30T15:41:57.345Z"
   },
   {
    "duration": 1605,
    "start_time": "2023-08-30T15:42:01.905Z"
   },
   {
    "duration": 1245,
    "start_time": "2023-08-30T15:42:03.512Z"
   },
   {
    "duration": 151,
    "start_time": "2023-08-30T15:42:04.760Z"
   },
   {
    "duration": 110,
    "start_time": "2023-08-30T15:42:04.913Z"
   },
   {
    "duration": 5,
    "start_time": "2023-08-30T15:42:05.025Z"
   },
   {
    "duration": 70,
    "start_time": "2023-08-30T15:42:05.032Z"
   },
   {
    "duration": 59,
    "start_time": "2023-08-30T15:42:05.104Z"
   },
   {
    "duration": 68,
    "start_time": "2023-08-30T15:42:05.165Z"
   },
   {
    "duration": 54,
    "start_time": "2023-08-30T15:42:05.235Z"
   },
   {
    "duration": 20,
    "start_time": "2023-08-30T15:42:05.292Z"
   },
   {
    "duration": 48,
    "start_time": "2023-08-30T15:42:05.314Z"
   },
   {
    "duration": 42,
    "start_time": "2023-08-30T15:42:05.367Z"
   },
   {
    "duration": 14,
    "start_time": "2023-08-30T15:42:05.411Z"
   },
   {
    "duration": 14,
    "start_time": "2023-08-30T15:42:05.427Z"
   },
   {
    "duration": 89,
    "start_time": "2023-08-30T15:42:05.443Z"
   },
   {
    "duration": 61,
    "start_time": "2023-08-30T15:42:05.534Z"
   },
   {
    "duration": 172,
    "start_time": "2023-08-30T15:42:05.597Z"
   },
   {
    "duration": 14,
    "start_time": "2023-08-30T15:42:05.771Z"
   },
   {
    "duration": 6,
    "start_time": "2023-08-30T15:42:05.786Z"
   },
   {
    "duration": 4300,
    "start_time": "2023-08-30T15:42:05.793Z"
   },
   {
    "duration": 806,
    "start_time": "2023-08-30T15:42:10.095Z"
   },
   {
    "duration": 94,
    "start_time": "2023-08-30T15:42:10.903Z"
   },
   {
    "duration": 138,
    "start_time": "2023-08-30T15:42:10.998Z"
   },
   {
    "duration": 824,
    "start_time": "2023-08-30T15:42:11.138Z"
   },
   {
    "duration": 919,
    "start_time": "2023-08-30T15:42:11.964Z"
   },
   {
    "duration": 1849,
    "start_time": "2023-08-30T15:42:12.884Z"
   },
   {
    "duration": 12,
    "start_time": "2023-08-30T15:42:14.734Z"
   },
   {
    "duration": 35,
    "start_time": "2023-08-30T15:42:14.748Z"
   },
   {
    "duration": 7,
    "start_time": "2023-08-30T15:42:14.785Z"
   },
   {
    "duration": 12,
    "start_time": "2023-08-30T15:42:14.793Z"
   },
   {
    "duration": 49,
    "start_time": "2023-08-30T15:42:14.806Z"
   },
   {
    "duration": 7,
    "start_time": "2023-08-30T15:42:14.857Z"
   },
   {
    "duration": 37,
    "start_time": "2023-08-30T15:42:14.865Z"
   },
   {
    "duration": 167,
    "start_time": "2023-08-30T15:42:14.904Z"
   },
   {
    "duration": 34,
    "start_time": "2023-08-30T15:42:15.073Z"
   },
   {
    "duration": 299,
    "start_time": "2023-08-30T15:42:15.109Z"
   },
   {
    "duration": 203,
    "start_time": "2023-08-30T15:42:15.410Z"
   },
   {
    "duration": 205,
    "start_time": "2023-08-30T15:42:15.615Z"
   },
   {
    "duration": 208,
    "start_time": "2023-08-30T15:42:15.825Z"
   },
   {
    "duration": 4,
    "start_time": "2023-08-30T15:42:16.036Z"
   },
   {
    "duration": 22,
    "start_time": "2023-08-30T15:42:16.042Z"
   },
   {
    "duration": 25,
    "start_time": "2023-08-30T15:42:16.065Z"
   },
   {
    "duration": 22,
    "start_time": "2023-08-30T15:42:16.093Z"
   },
   {
    "duration": 335,
    "start_time": "2023-08-30T15:42:16.117Z"
   },
   {
    "duration": 330,
    "start_time": "2023-08-30T15:42:16.453Z"
   },
   {
    "duration": 81,
    "start_time": "2023-08-30T15:47:01.597Z"
   },
   {
    "duration": 127,
    "start_time": "2023-08-30T15:47:51.954Z"
   },
   {
    "duration": 114,
    "start_time": "2023-08-30T15:54:58.695Z"
   },
   {
    "duration": 116,
    "start_time": "2023-08-30T15:56:01.328Z"
   },
   {
    "duration": 116,
    "start_time": "2023-08-30T15:56:51.115Z"
   },
   {
    "duration": 3,
    "start_time": "2023-08-30T15:57:00.013Z"
   },
   {
    "duration": 63,
    "start_time": "2023-08-30T16:03:10.297Z"
   },
   {
    "duration": 4,
    "start_time": "2023-08-30T16:07:40.330Z"
   },
   {
    "duration": 104,
    "start_time": "2023-08-30T16:11:13.492Z"
   },
   {
    "duration": 69,
    "start_time": "2023-08-30T16:11:23.602Z"
   },
   {
    "duration": 88,
    "start_time": "2023-08-30T16:11:32.288Z"
   },
   {
    "duration": 15,
    "start_time": "2023-08-30T16:12:02.004Z"
   },
   {
    "duration": 3,
    "start_time": "2023-08-30T16:12:29.946Z"
   },
   {
    "duration": 5,
    "start_time": "2023-08-30T16:12:36.906Z"
   },
   {
    "duration": 38,
    "start_time": "2023-08-30T16:12:49.780Z"
   },
   {
    "duration": 38,
    "start_time": "2023-08-30T16:13:44.621Z"
   },
   {
    "duration": 38,
    "start_time": "2023-08-30T16:14:41.990Z"
   },
   {
    "duration": 4,
    "start_time": "2023-08-30T16:14:47.419Z"
   },
   {
    "duration": 38,
    "start_time": "2023-08-30T16:14:47.650Z"
   },
   {
    "duration": 3,
    "start_time": "2023-08-30T16:15:06.859Z"
   },
   {
    "duration": 38,
    "start_time": "2023-08-30T16:15:10.259Z"
   },
   {
    "duration": 255,
    "start_time": "2023-08-30T16:17:05.516Z"
   },
   {
    "duration": 10,
    "start_time": "2023-08-30T16:24:44.381Z"
   },
   {
    "duration": 30,
    "start_time": "2023-08-30T16:25:06.635Z"
   },
   {
    "duration": 80,
    "start_time": "2023-08-30T16:25:12.023Z"
   },
   {
    "duration": 5,
    "start_time": "2023-08-30T16:43:41.767Z"
   },
   {
    "duration": 12,
    "start_time": "2023-08-30T16:43:41.774Z"
   },
   {
    "duration": 5,
    "start_time": "2023-08-30T16:43:49.998Z"
   },
   {
    "duration": 9,
    "start_time": "2023-08-30T16:54:25.714Z"
   },
   {
    "duration": 3,
    "start_time": "2023-08-30T16:54:33.518Z"
   },
   {
    "duration": 3,
    "start_time": "2023-08-30T17:11:56.643Z"
   },
   {
    "duration": 4,
    "start_time": "2023-08-30T17:12:27.010Z"
   },
   {
    "duration": 42,
    "start_time": "2023-08-30T17:12:27.015Z"
   },
   {
    "duration": 2576,
    "start_time": "2023-08-30T17:12:27.058Z"
   },
   {
    "duration": 1686,
    "start_time": "2023-08-30T17:12:29.637Z"
   },
   {
    "duration": 844,
    "start_time": "2023-08-30T17:12:31.325Z"
   },
   {
    "duration": 163,
    "start_time": "2023-08-30T17:12:32.170Z"
   },
   {
    "duration": 106,
    "start_time": "2023-08-30T17:12:32.335Z"
   },
   {
    "duration": 5,
    "start_time": "2023-08-30T17:12:32.443Z"
   },
   {
    "duration": 91,
    "start_time": "2023-08-30T17:12:32.450Z"
   },
   {
    "duration": 60,
    "start_time": "2023-08-30T17:12:32.543Z"
   },
   {
    "duration": 51,
    "start_time": "2023-08-30T17:12:32.605Z"
   },
   {
    "duration": 48,
    "start_time": "2023-08-30T17:12:32.658Z"
   },
   {
    "duration": 12,
    "start_time": "2023-08-30T17:12:32.708Z"
   },
   {
    "duration": 41,
    "start_time": "2023-08-30T17:12:32.721Z"
   },
   {
    "duration": 24,
    "start_time": "2023-08-30T17:12:32.763Z"
   },
   {
    "duration": 13,
    "start_time": "2023-08-30T17:12:32.789Z"
   },
   {
    "duration": 35,
    "start_time": "2023-08-30T17:12:32.804Z"
   },
   {
    "duration": 97,
    "start_time": "2023-08-30T17:12:32.840Z"
   },
   {
    "duration": 70,
    "start_time": "2023-08-30T17:12:32.939Z"
   },
   {
    "duration": 143,
    "start_time": "2023-08-30T17:12:33.010Z"
   },
   {
    "duration": 14,
    "start_time": "2023-08-30T17:12:33.154Z"
   },
   {
    "duration": 5,
    "start_time": "2023-08-30T17:12:33.169Z"
   },
   {
    "duration": 4435,
    "start_time": "2023-08-30T17:12:33.182Z"
   },
   {
    "duration": 759,
    "start_time": "2023-08-30T17:12:37.621Z"
   },
   {
    "duration": 83,
    "start_time": "2023-08-30T17:12:38.382Z"
   },
   {
    "duration": 140,
    "start_time": "2023-08-30T17:12:38.467Z"
   },
   {
    "duration": 825,
    "start_time": "2023-08-30T17:12:38.608Z"
   },
   {
    "duration": 825,
    "start_time": "2023-08-30T17:12:39.435Z"
   },
   {
    "duration": 2021,
    "start_time": "2023-08-30T17:12:40.262Z"
   },
   {
    "duration": 11,
    "start_time": "2023-08-30T17:12:42.285Z"
   },
   {
    "duration": 39,
    "start_time": "2023-08-30T17:12:42.298Z"
   },
   {
    "duration": 7,
    "start_time": "2023-08-30T17:12:42.338Z"
   },
   {
    "duration": 14,
    "start_time": "2023-08-30T17:12:42.347Z"
   },
   {
    "duration": 38,
    "start_time": "2023-08-30T17:12:42.363Z"
   },
   {
    "duration": 6,
    "start_time": "2023-08-30T17:12:42.403Z"
   },
   {
    "duration": 31,
    "start_time": "2023-08-30T17:12:42.411Z"
   },
   {
    "duration": 4,
    "start_time": "2023-08-30T17:12:42.443Z"
   },
   {
    "duration": 32,
    "start_time": "2023-08-30T17:12:42.449Z"
   },
   {
    "duration": 276,
    "start_time": "2023-08-30T17:12:42.483Z"
   },
   {
    "duration": 188,
    "start_time": "2023-08-30T17:12:42.761Z"
   },
   {
    "duration": 218,
    "start_time": "2023-08-30T17:12:42.951Z"
   },
   {
    "duration": 178,
    "start_time": "2023-08-30T17:12:43.170Z"
   },
   {
    "duration": 4,
    "start_time": "2023-08-30T17:12:43.349Z"
   },
   {
    "duration": 17,
    "start_time": "2023-08-30T17:12:43.355Z"
   },
   {
    "duration": 27,
    "start_time": "2023-08-30T17:12:43.373Z"
   },
   {
    "duration": 20,
    "start_time": "2023-08-30T17:12:43.401Z"
   },
   {
    "duration": 294,
    "start_time": "2023-08-30T17:12:43.423Z"
   },
   {
    "duration": 277,
    "start_time": "2023-08-30T17:12:43.720Z"
   },
   {
    "duration": 120,
    "start_time": "2023-08-30T17:12:43.999Z"
   },
   {
    "duration": 3,
    "start_time": "2023-08-30T17:12:44.121Z"
   },
   {
    "duration": 31,
    "start_time": "2023-08-30T17:12:44.126Z"
   },
   {
    "duration": 27,
    "start_time": "2023-08-30T17:12:44.159Z"
   },
   {
    "duration": 18,
    "start_time": "2023-08-30T17:16:23.300Z"
   },
   {
    "duration": 23,
    "start_time": "2023-08-30T17:25:37.609Z"
   },
   {
    "duration": 179,
    "start_time": "2023-08-30T17:30:53.962Z"
   },
   {
    "duration": 185,
    "start_time": "2023-08-30T17:31:18.605Z"
   },
   {
    "duration": 972,
    "start_time": "2023-08-30T17:31:43.266Z"
   },
   {
    "duration": 905,
    "start_time": "2023-08-30T17:36:01.339Z"
   },
   {
    "duration": 3354,
    "start_time": "2023-08-30T17:36:06.195Z"
   },
   {
    "duration": 50,
    "start_time": "2023-08-30T17:41:57.625Z"
   },
   {
    "duration": 1563,
    "start_time": "2023-08-30T17:42:06.337Z"
   },
   {
    "duration": 31,
    "start_time": "2023-08-30T17:42:07.902Z"
   },
   {
    "duration": 2696,
    "start_time": "2023-08-30T17:42:07.935Z"
   },
   {
    "duration": 1780,
    "start_time": "2023-08-30T17:42:10.634Z"
   },
   {
    "duration": 1300,
    "start_time": "2023-08-30T17:42:12.417Z"
   },
   {
    "duration": 152,
    "start_time": "2023-08-30T17:42:13.718Z"
   },
   {
    "duration": 121,
    "start_time": "2023-08-30T17:42:13.872Z"
   },
   {
    "duration": 5,
    "start_time": "2023-08-30T17:42:13.996Z"
   },
   {
    "duration": 87,
    "start_time": "2023-08-30T17:42:14.003Z"
   },
   {
    "duration": 59,
    "start_time": "2023-08-30T17:42:14.095Z"
   },
   {
    "duration": 68,
    "start_time": "2023-08-30T17:42:14.156Z"
   },
   {
    "duration": 64,
    "start_time": "2023-08-30T17:42:14.226Z"
   },
   {
    "duration": 6,
    "start_time": "2023-08-30T17:42:14.293Z"
   },
   {
    "duration": 32,
    "start_time": "2023-08-30T17:42:14.301Z"
   },
   {
    "duration": 5,
    "start_time": "2023-08-30T17:42:14.335Z"
   },
   {
    "duration": 13,
    "start_time": "2023-08-30T17:42:14.342Z"
   },
   {
    "duration": 24,
    "start_time": "2023-08-30T17:42:14.357Z"
   },
   {
    "duration": 106,
    "start_time": "2023-08-30T17:42:14.384Z"
   },
   {
    "duration": 59,
    "start_time": "2023-08-30T17:42:14.493Z"
   },
   {
    "duration": 179,
    "start_time": "2023-08-30T17:42:14.554Z"
   },
   {
    "duration": 14,
    "start_time": "2023-08-30T17:42:14.735Z"
   },
   {
    "duration": 2,
    "start_time": "2023-08-30T17:42:14.751Z"
   },
   {
    "duration": 4578,
    "start_time": "2023-08-30T17:42:14.755Z"
   },
   {
    "duration": 873,
    "start_time": "2023-08-30T17:42:19.335Z"
   },
   {
    "duration": 97,
    "start_time": "2023-08-30T17:42:20.209Z"
   },
   {
    "duration": 161,
    "start_time": "2023-08-30T17:42:20.308Z"
   },
   {
    "duration": 900,
    "start_time": "2023-08-30T17:42:20.471Z"
   },
   {
    "duration": 985,
    "start_time": "2023-08-30T17:42:21.385Z"
   },
   {
    "duration": 1985,
    "start_time": "2023-08-30T17:42:22.372Z"
   },
   {
    "duration": 24,
    "start_time": "2023-08-30T17:42:24.359Z"
   },
   {
    "duration": 29,
    "start_time": "2023-08-30T17:42:24.391Z"
   },
   {
    "duration": 8,
    "start_time": "2023-08-30T17:42:24.422Z"
   },
   {
    "duration": 8,
    "start_time": "2023-08-30T17:42:24.431Z"
   },
   {
    "duration": 61,
    "start_time": "2023-08-30T17:42:24.440Z"
   },
   {
    "duration": 7,
    "start_time": "2023-08-30T17:42:24.503Z"
   },
   {
    "duration": 28,
    "start_time": "2023-08-30T17:42:24.511Z"
   },
   {
    "duration": 3,
    "start_time": "2023-08-30T17:42:24.540Z"
   },
   {
    "duration": 15,
    "start_time": "2023-08-30T17:42:24.545Z"
   },
   {
    "duration": 320,
    "start_time": "2023-08-30T17:42:24.562Z"
   },
   {
    "duration": 221,
    "start_time": "2023-08-30T17:42:24.885Z"
   },
   {
    "duration": 229,
    "start_time": "2023-08-30T17:42:25.108Z"
   },
   {
    "duration": 199,
    "start_time": "2023-08-30T17:42:25.339Z"
   },
   {
    "duration": 4,
    "start_time": "2023-08-30T17:42:25.539Z"
   },
   {
    "duration": 14,
    "start_time": "2023-08-30T17:42:25.545Z"
   },
   {
    "duration": 36,
    "start_time": "2023-08-30T17:42:25.561Z"
   },
   {
    "duration": 19,
    "start_time": "2023-08-30T17:42:25.599Z"
   },
   {
    "duration": 326,
    "start_time": "2023-08-30T17:42:25.620Z"
   },
   {
    "duration": 287,
    "start_time": "2023-08-30T17:42:25.948Z"
   },
   {
    "duration": 155,
    "start_time": "2023-08-30T17:42:26.236Z"
   },
   {
    "duration": 4,
    "start_time": "2023-08-30T17:42:26.395Z"
   },
   {
    "duration": 13,
    "start_time": "2023-08-30T17:42:26.401Z"
   },
   {
    "duration": 152,
    "start_time": "2023-08-30T17:42:29.095Z"
   },
   {
    "duration": 1194,
    "start_time": "2023-08-30T17:43:37.881Z"
   },
   {
    "duration": 25,
    "start_time": "2023-08-30T17:53:26.190Z"
   },
   {
    "duration": 1201,
    "start_time": "2023-08-30T17:53:31.995Z"
   },
   {
    "duration": 1061,
    "start_time": "2023-08-30T17:53:45.778Z"
   },
   {
    "duration": 1456,
    "start_time": "2023-08-30T17:54:29.735Z"
   },
   {
    "duration": 44,
    "start_time": "2023-08-30T17:54:31.193Z"
   },
   {
    "duration": 2542,
    "start_time": "2023-08-30T17:54:31.239Z"
   },
   {
    "duration": 1658,
    "start_time": "2023-08-30T17:54:33.784Z"
   },
   {
    "duration": 1221,
    "start_time": "2023-08-30T17:54:35.445Z"
   },
   {
    "duration": 185,
    "start_time": "2023-08-30T17:54:36.669Z"
   },
   {
    "duration": 103,
    "start_time": "2023-08-30T17:54:36.857Z"
   },
   {
    "duration": 5,
    "start_time": "2023-08-30T17:54:36.962Z"
   },
   {
    "duration": 57,
    "start_time": "2023-08-30T17:54:36.981Z"
   },
   {
    "duration": 66,
    "start_time": "2023-08-30T17:54:37.041Z"
   },
   {
    "duration": 53,
    "start_time": "2023-08-30T17:54:37.109Z"
   },
   {
    "duration": 62,
    "start_time": "2023-08-30T17:54:37.163Z"
   },
   {
    "duration": 5,
    "start_time": "2023-08-30T17:54:37.228Z"
   },
   {
    "duration": 51,
    "start_time": "2023-08-30T17:54:37.236Z"
   },
   {
    "duration": 5,
    "start_time": "2023-08-30T17:54:37.289Z"
   },
   {
    "duration": 6,
    "start_time": "2023-08-30T17:54:37.295Z"
   },
   {
    "duration": 5,
    "start_time": "2023-08-30T17:54:37.303Z"
   },
   {
    "duration": 106,
    "start_time": "2023-08-30T17:54:37.309Z"
   },
   {
    "duration": 66,
    "start_time": "2023-08-30T17:54:37.416Z"
   },
   {
    "duration": 158,
    "start_time": "2023-08-30T17:54:37.483Z"
   },
   {
    "duration": 14,
    "start_time": "2023-08-30T17:54:37.642Z"
   },
   {
    "duration": 3,
    "start_time": "2023-08-30T17:54:37.657Z"
   },
   {
    "duration": 4107,
    "start_time": "2023-08-30T17:54:37.661Z"
   },
   {
    "duration": 796,
    "start_time": "2023-08-30T17:54:41.769Z"
   },
   {
    "duration": 99,
    "start_time": "2023-08-30T17:54:42.567Z"
   },
   {
    "duration": 144,
    "start_time": "2023-08-30T17:54:42.668Z"
   },
   {
    "duration": 830,
    "start_time": "2023-08-30T17:54:42.814Z"
   },
   {
    "duration": 907,
    "start_time": "2023-08-30T17:54:43.647Z"
   },
   {
    "duration": 1867,
    "start_time": "2023-08-30T17:54:44.556Z"
   },
   {
    "duration": 12,
    "start_time": "2023-08-30T17:54:46.425Z"
   },
   {
    "duration": 25,
    "start_time": "2023-08-30T17:54:46.438Z"
   },
   {
    "duration": 20,
    "start_time": "2023-08-30T17:54:46.465Z"
   },
   {
    "duration": 13,
    "start_time": "2023-08-30T17:54:46.486Z"
   },
   {
    "duration": 36,
    "start_time": "2023-08-30T17:54:46.501Z"
   },
   {
    "duration": 6,
    "start_time": "2023-08-30T17:54:46.538Z"
   },
   {
    "duration": 46,
    "start_time": "2023-08-30T17:54:46.546Z"
   },
   {
    "duration": 3,
    "start_time": "2023-08-30T17:54:46.594Z"
   },
   {
    "duration": 9,
    "start_time": "2023-08-30T17:54:46.598Z"
   },
   {
    "duration": 280,
    "start_time": "2023-08-30T17:54:46.609Z"
   },
   {
    "duration": 195,
    "start_time": "2023-08-30T17:54:46.891Z"
   },
   {
    "duration": 252,
    "start_time": "2023-08-30T17:54:47.088Z"
   },
   {
    "duration": 198,
    "start_time": "2023-08-30T17:54:47.342Z"
   },
   {
    "duration": 4,
    "start_time": "2023-08-30T17:54:47.542Z"
   },
   {
    "duration": 11,
    "start_time": "2023-08-30T17:54:47.547Z"
   },
   {
    "duration": 28,
    "start_time": "2023-08-30T17:54:47.560Z"
   },
   {
    "duration": 19,
    "start_time": "2023-08-30T17:54:47.590Z"
   },
   {
    "duration": 280,
    "start_time": "2023-08-30T17:54:47.611Z"
   },
   {
    "duration": 269,
    "start_time": "2023-08-30T17:54:47.893Z"
   },
   {
    "duration": 119,
    "start_time": "2023-08-30T17:54:48.163Z"
   },
   {
    "duration": 4,
    "start_time": "2023-08-30T17:54:48.284Z"
   },
   {
    "duration": 26,
    "start_time": "2023-08-30T17:54:48.290Z"
   },
   {
    "duration": 61,
    "start_time": "2023-08-30T17:54:48.320Z"
   },
   {
    "duration": 168,
    "start_time": "2023-08-30T17:55:20.477Z"
   },
   {
    "duration": 887,
    "start_time": "2023-08-30T17:56:27.694Z"
   },
   {
    "duration": 75,
    "start_time": "2023-08-30T17:56:49.321Z"
   },
   {
    "duration": 1553,
    "start_time": "2023-08-30T17:57:22.508Z"
   },
   {
    "duration": 43,
    "start_time": "2023-08-30T17:57:24.064Z"
   },
   {
    "duration": 2609,
    "start_time": "2023-08-30T17:57:24.110Z"
   },
   {
    "duration": 1785,
    "start_time": "2023-08-30T17:57:26.722Z"
   },
   {
    "duration": 1217,
    "start_time": "2023-08-30T17:57:28.509Z"
   },
   {
    "duration": 144,
    "start_time": "2023-08-30T17:57:29.728Z"
   },
   {
    "duration": 117,
    "start_time": "2023-08-30T17:57:29.874Z"
   },
   {
    "duration": 5,
    "start_time": "2023-08-30T17:57:29.993Z"
   },
   {
    "duration": 60,
    "start_time": "2023-08-30T17:57:30.000Z"
   },
   {
    "duration": 75,
    "start_time": "2023-08-30T17:57:30.064Z"
   },
   {
    "duration": 62,
    "start_time": "2023-08-30T17:57:30.141Z"
   },
   {
    "duration": 73,
    "start_time": "2023-08-30T17:57:30.205Z"
   },
   {
    "duration": 33,
    "start_time": "2023-08-30T17:57:30.281Z"
   },
   {
    "duration": 75,
    "start_time": "2023-08-30T17:57:30.316Z"
   },
   {
    "duration": 24,
    "start_time": "2023-08-30T17:57:30.393Z"
   },
   {
    "duration": 58,
    "start_time": "2023-08-30T17:57:30.418Z"
   },
   {
    "duration": 40,
    "start_time": "2023-08-30T17:57:30.478Z"
   },
   {
    "duration": 127,
    "start_time": "2023-08-30T17:57:30.519Z"
   },
   {
    "duration": 84,
    "start_time": "2023-08-30T17:57:30.647Z"
   },
   {
    "duration": 183,
    "start_time": "2023-08-30T17:57:30.733Z"
   },
   {
    "duration": 13,
    "start_time": "2023-08-30T17:57:30.918Z"
   },
   {
    "duration": 19,
    "start_time": "2023-08-30T17:57:30.933Z"
   },
   {
    "duration": 4244,
    "start_time": "2023-08-30T17:57:30.954Z"
   },
   {
    "duration": 782,
    "start_time": "2023-08-30T17:57:35.200Z"
   },
   {
    "duration": 84,
    "start_time": "2023-08-30T17:57:35.984Z"
   },
   {
    "duration": 136,
    "start_time": "2023-08-30T17:57:36.070Z"
   },
   {
    "duration": 905,
    "start_time": "2023-08-30T17:57:36.207Z"
   },
   {
    "duration": 899,
    "start_time": "2023-08-30T17:57:37.116Z"
   },
   {
    "duration": 1786,
    "start_time": "2023-08-30T17:57:38.016Z"
   },
   {
    "duration": 11,
    "start_time": "2023-08-30T17:57:39.804Z"
   },
   {
    "duration": 26,
    "start_time": "2023-08-30T17:57:39.817Z"
   },
   {
    "duration": 7,
    "start_time": "2023-08-30T17:57:39.845Z"
   },
   {
    "duration": 29,
    "start_time": "2023-08-30T17:57:39.854Z"
   },
   {
    "duration": 45,
    "start_time": "2023-08-30T17:57:39.885Z"
   },
   {
    "duration": 7,
    "start_time": "2023-08-30T17:57:39.931Z"
   },
   {
    "duration": 42,
    "start_time": "2023-08-30T17:57:39.940Z"
   },
   {
    "duration": 3,
    "start_time": "2023-08-30T17:57:39.984Z"
   },
   {
    "duration": 13,
    "start_time": "2023-08-30T17:57:39.988Z"
   },
   {
    "duration": 278,
    "start_time": "2023-08-30T17:57:40.003Z"
   },
   {
    "duration": 204,
    "start_time": "2023-08-30T17:57:40.282Z"
   },
   {
    "duration": 211,
    "start_time": "2023-08-30T17:57:40.487Z"
   },
   {
    "duration": 177,
    "start_time": "2023-08-30T17:57:40.700Z"
   },
   {
    "duration": 5,
    "start_time": "2023-08-30T17:57:40.880Z"
   },
   {
    "duration": 15,
    "start_time": "2023-08-30T17:57:40.886Z"
   },
   {
    "duration": 23,
    "start_time": "2023-08-30T17:57:40.903Z"
   },
   {
    "duration": 31,
    "start_time": "2023-08-30T17:57:40.927Z"
   },
   {
    "duration": 277,
    "start_time": "2023-08-30T17:57:40.960Z"
   },
   {
    "duration": 244,
    "start_time": "2023-08-30T17:57:41.239Z"
   },
   {
    "duration": 116,
    "start_time": "2023-08-30T17:57:41.485Z"
   },
   {
    "duration": 4,
    "start_time": "2023-08-30T17:57:41.603Z"
   },
   {
    "duration": 25,
    "start_time": "2023-08-30T17:57:41.608Z"
   },
   {
    "duration": 56621,
    "start_time": "2023-08-30T17:57:41.634Z"
   },
   {
    "duration": 25,
    "start_time": "2023-08-30T17:59:11.068Z"
   },
   {
    "duration": 398,
    "start_time": "2023-08-30T18:06:55.142Z"
   },
   {
    "duration": 16535,
    "start_time": "2023-08-30T18:07:06.136Z"
   },
   {
    "duration": 16160,
    "start_time": "2023-08-30T18:08:18.382Z"
   },
   {
    "duration": 1569,
    "start_time": "2023-08-30T18:14:28.652Z"
   },
   {
    "duration": 40,
    "start_time": "2023-08-30T18:14:30.223Z"
   },
   {
    "duration": 2531,
    "start_time": "2023-08-30T18:14:30.265Z"
   },
   {
    "duration": 1595,
    "start_time": "2023-08-30T18:14:32.799Z"
   },
   {
    "duration": 952,
    "start_time": "2023-08-30T18:14:34.396Z"
   },
   {
    "duration": 156,
    "start_time": "2023-08-30T18:14:35.350Z"
   },
   {
    "duration": 112,
    "start_time": "2023-08-30T18:14:35.508Z"
   },
   {
    "duration": 5,
    "start_time": "2023-08-30T18:14:35.622Z"
   },
   {
    "duration": 75,
    "start_time": "2023-08-30T18:14:35.629Z"
   },
   {
    "duration": 58,
    "start_time": "2023-08-30T18:14:35.707Z"
   },
   {
    "duration": 61,
    "start_time": "2023-08-30T18:14:35.767Z"
   },
   {
    "duration": 53,
    "start_time": "2023-08-30T18:14:35.829Z"
   },
   {
    "duration": 21,
    "start_time": "2023-08-30T18:14:35.884Z"
   },
   {
    "duration": 53,
    "start_time": "2023-08-30T18:14:35.907Z"
   },
   {
    "duration": 17,
    "start_time": "2023-08-30T18:14:35.962Z"
   },
   {
    "duration": 22,
    "start_time": "2023-08-30T18:14:35.980Z"
   },
   {
    "duration": 15,
    "start_time": "2023-08-30T18:14:36.004Z"
   },
   {
    "duration": 106,
    "start_time": "2023-08-30T18:14:36.021Z"
   },
   {
    "duration": 63,
    "start_time": "2023-08-30T18:14:36.129Z"
   },
   {
    "duration": 184,
    "start_time": "2023-08-30T18:14:36.194Z"
   },
   {
    "duration": 14,
    "start_time": "2023-08-30T18:14:36.380Z"
   },
   {
    "duration": 30,
    "start_time": "2023-08-30T18:14:36.396Z"
   },
   {
    "duration": 4217,
    "start_time": "2023-08-30T18:14:36.428Z"
   },
   {
    "duration": 792,
    "start_time": "2023-08-30T18:14:40.647Z"
   },
   {
    "duration": 83,
    "start_time": "2023-08-30T18:14:41.440Z"
   },
   {
    "duration": 135,
    "start_time": "2023-08-30T18:14:41.525Z"
   },
   {
    "duration": 832,
    "start_time": "2023-08-30T18:14:41.662Z"
   },
   {
    "duration": 907,
    "start_time": "2023-08-30T18:14:42.498Z"
   },
   {
    "duration": 1811,
    "start_time": "2023-08-30T18:14:43.407Z"
   },
   {
    "duration": 13,
    "start_time": "2023-08-30T18:14:45.220Z"
   },
   {
    "duration": 27,
    "start_time": "2023-08-30T18:14:45.234Z"
   },
   {
    "duration": 20,
    "start_time": "2023-08-30T18:14:45.262Z"
   },
   {
    "duration": 6,
    "start_time": "2023-08-30T18:14:45.284Z"
   },
   {
    "duration": 33,
    "start_time": "2023-08-30T18:14:45.291Z"
   },
   {
    "duration": 6,
    "start_time": "2023-08-30T18:14:45.326Z"
   },
   {
    "duration": 50,
    "start_time": "2023-08-30T18:14:45.334Z"
   },
   {
    "duration": 3,
    "start_time": "2023-08-30T18:14:45.386Z"
   },
   {
    "duration": 14,
    "start_time": "2023-08-30T18:14:45.390Z"
   },
   {
    "duration": 276,
    "start_time": "2023-08-30T18:14:45.405Z"
   },
   {
    "duration": 192,
    "start_time": "2023-08-30T18:14:45.682Z"
   },
   {
    "duration": 203,
    "start_time": "2023-08-30T18:14:45.876Z"
   },
   {
    "duration": 175,
    "start_time": "2023-08-30T18:14:46.081Z"
   },
   {
    "duration": 5,
    "start_time": "2023-08-30T18:14:46.258Z"
   },
   {
    "duration": 25,
    "start_time": "2023-08-30T18:14:46.264Z"
   },
   {
    "duration": 28,
    "start_time": "2023-08-30T18:14:46.290Z"
   },
   {
    "duration": 24,
    "start_time": "2023-08-30T18:14:46.320Z"
   },
   {
    "duration": 268,
    "start_time": "2023-08-30T18:14:46.346Z"
   },
   {
    "duration": 311,
    "start_time": "2023-08-30T18:14:46.616Z"
   },
   {
    "duration": 120,
    "start_time": "2023-08-30T18:14:46.929Z"
   },
   {
    "duration": 6,
    "start_time": "2023-08-30T18:14:47.051Z"
   },
   {
    "duration": 56002,
    "start_time": "2023-08-30T18:14:47.059Z"
   },
   {
    "duration": 19105,
    "start_time": "2023-08-30T18:15:43.063Z"
   },
   {
    "duration": 20795,
    "start_time": "2023-08-30T18:16:02.170Z"
   },
   {
    "duration": 4,
    "start_time": "2023-08-30T18:16:22.967Z"
   },
   {
    "duration": 173,
    "start_time": "2023-08-30T18:16:22.982Z"
   },
   {
    "duration": 0,
    "start_time": "2023-08-30T18:16:23.157Z"
   },
   {
    "duration": 0,
    "start_time": "2023-08-30T18:16:23.158Z"
   },
   {
    "duration": 0,
    "start_time": "2023-08-30T18:16:23.160Z"
   },
   {
    "duration": 284,
    "start_time": "2023-08-30T18:22:07.594Z"
   },
   {
    "duration": 81,
    "start_time": "2023-08-30T18:33:25.907Z"
   },
   {
    "duration": 85,
    "start_time": "2023-08-30T18:33:49.009Z"
   },
   {
    "duration": 5,
    "start_time": "2023-08-30T18:34:02.202Z"
   },
   {
    "duration": 1429,
    "start_time": "2023-08-30T18:34:19.934Z"
   },
   {
    "duration": 33,
    "start_time": "2023-08-30T18:34:21.365Z"
   },
   {
    "duration": 2582,
    "start_time": "2023-08-30T18:34:21.400Z"
   },
   {
    "duration": 1585,
    "start_time": "2023-08-30T18:34:23.984Z"
   },
   {
    "duration": 915,
    "start_time": "2023-08-30T18:34:25.571Z"
   },
   {
    "duration": 153,
    "start_time": "2023-08-30T18:34:26.489Z"
   },
   {
    "duration": 128,
    "start_time": "2023-08-30T18:34:26.644Z"
   },
   {
    "duration": 12,
    "start_time": "2023-08-30T18:34:26.774Z"
   },
   {
    "duration": 68,
    "start_time": "2023-08-30T18:34:26.788Z"
   },
   {
    "duration": 79,
    "start_time": "2023-08-30T18:34:26.859Z"
   },
   {
    "duration": 58,
    "start_time": "2023-08-30T18:34:26.940Z"
   },
   {
    "duration": 47,
    "start_time": "2023-08-30T18:34:27.000Z"
   },
   {
    "duration": 8,
    "start_time": "2023-08-30T18:34:27.049Z"
   },
   {
    "duration": 47,
    "start_time": "2023-08-30T18:34:27.059Z"
   },
   {
    "duration": 10,
    "start_time": "2023-08-30T18:34:27.108Z"
   },
   {
    "duration": 6,
    "start_time": "2023-08-30T18:34:27.120Z"
   },
   {
    "duration": 5,
    "start_time": "2023-08-30T18:34:27.127Z"
   },
   {
    "duration": 113,
    "start_time": "2023-08-30T18:34:27.133Z"
   },
   {
    "duration": 65,
    "start_time": "2023-08-30T18:34:27.248Z"
   },
   {
    "duration": 167,
    "start_time": "2023-08-30T18:34:27.314Z"
   },
   {
    "duration": 14,
    "start_time": "2023-08-30T18:34:27.483Z"
   },
   {
    "duration": 3,
    "start_time": "2023-08-30T18:34:27.498Z"
   },
   {
    "duration": 4254,
    "start_time": "2023-08-30T18:34:27.503Z"
   },
   {
    "duration": 829,
    "start_time": "2023-08-30T18:34:31.759Z"
   },
   {
    "duration": 92,
    "start_time": "2023-08-30T18:34:32.589Z"
   },
   {
    "duration": 143,
    "start_time": "2023-08-30T18:34:32.683Z"
   },
   {
    "duration": 839,
    "start_time": "2023-08-30T18:34:32.827Z"
   },
   {
    "duration": 927,
    "start_time": "2023-08-30T18:34:33.670Z"
   },
   {
    "duration": 1868,
    "start_time": "2023-08-30T18:34:34.598Z"
   },
   {
    "duration": 22,
    "start_time": "2023-08-30T18:34:36.468Z"
   },
   {
    "duration": 27,
    "start_time": "2023-08-30T18:34:36.491Z"
   },
   {
    "duration": 7,
    "start_time": "2023-08-30T18:34:36.519Z"
   },
   {
    "duration": 4,
    "start_time": "2023-08-30T18:34:36.527Z"
   },
   {
    "duration": 55,
    "start_time": "2023-08-30T18:34:36.533Z"
   },
   {
    "duration": 6,
    "start_time": "2023-08-30T18:34:36.590Z"
   },
   {
    "duration": 25,
    "start_time": "2023-08-30T18:34:36.598Z"
   },
   {
    "duration": 3,
    "start_time": "2023-08-30T18:34:36.625Z"
   },
   {
    "duration": 11,
    "start_time": "2023-08-30T18:34:36.629Z"
   },
   {
    "duration": 356,
    "start_time": "2023-08-30T18:34:36.641Z"
   },
   {
    "duration": 196,
    "start_time": "2023-08-30T18:34:36.999Z"
   },
   {
    "duration": 221,
    "start_time": "2023-08-30T18:34:37.197Z"
   },
   {
    "duration": 177,
    "start_time": "2023-08-30T18:34:37.419Z"
   },
   {
    "duration": 3,
    "start_time": "2023-08-30T18:34:37.598Z"
   },
   {
    "duration": 9,
    "start_time": "2023-08-30T18:34:37.603Z"
   },
   {
    "duration": 23,
    "start_time": "2023-08-30T18:34:37.614Z"
   },
   {
    "duration": 20,
    "start_time": "2023-08-30T18:34:37.639Z"
   },
   {
    "duration": 287,
    "start_time": "2023-08-30T18:34:37.660Z"
   },
   {
    "duration": 258,
    "start_time": "2023-08-30T18:34:37.949Z"
   },
   {
    "duration": 120,
    "start_time": "2023-08-30T18:34:38.209Z"
   },
   {
    "duration": 5,
    "start_time": "2023-08-30T18:34:38.331Z"
   },
   {
    "duration": 54011,
    "start_time": "2023-08-30T18:34:38.338Z"
   },
   {
    "duration": 0,
    "start_time": "2023-08-30T18:35:32.351Z"
   },
   {
    "duration": 0,
    "start_time": "2023-08-30T18:35:32.354Z"
   },
   {
    "duration": 0,
    "start_time": "2023-08-30T18:35:32.355Z"
   },
   {
    "duration": 0,
    "start_time": "2023-08-30T18:35:32.357Z"
   },
   {
    "duration": 0,
    "start_time": "2023-08-30T18:35:32.358Z"
   },
   {
    "duration": 0,
    "start_time": "2023-08-30T18:35:32.360Z"
   },
   {
    "duration": 0,
    "start_time": "2023-08-30T18:35:32.361Z"
   },
   {
    "duration": 1418,
    "start_time": "2023-08-30T18:36:16.827Z"
   },
   {
    "duration": 31,
    "start_time": "2023-08-30T18:36:18.247Z"
   },
   {
    "duration": 2497,
    "start_time": "2023-08-30T18:36:18.282Z"
   },
   {
    "duration": 1619,
    "start_time": "2023-08-30T18:36:20.781Z"
   },
   {
    "duration": 1042,
    "start_time": "2023-08-30T18:36:22.403Z"
   },
   {
    "duration": 148,
    "start_time": "2023-08-30T18:36:23.447Z"
   },
   {
    "duration": 112,
    "start_time": "2023-08-30T18:36:23.597Z"
   },
   {
    "duration": 6,
    "start_time": "2023-08-30T18:36:23.710Z"
   },
   {
    "duration": 68,
    "start_time": "2023-08-30T18:36:23.719Z"
   },
   {
    "duration": 58,
    "start_time": "2023-08-30T18:36:23.789Z"
   },
   {
    "duration": 65,
    "start_time": "2023-08-30T18:36:23.849Z"
   },
   {
    "duration": 44,
    "start_time": "2023-08-30T18:36:23.916Z"
   },
   {
    "duration": 20,
    "start_time": "2023-08-30T18:36:23.962Z"
   },
   {
    "duration": 31,
    "start_time": "2023-08-30T18:36:23.984Z"
   },
   {
    "duration": 6,
    "start_time": "2023-08-30T18:36:24.016Z"
   },
   {
    "duration": 9,
    "start_time": "2023-08-30T18:36:24.023Z"
   },
   {
    "duration": 3,
    "start_time": "2023-08-30T18:36:24.034Z"
   },
   {
    "duration": 107,
    "start_time": "2023-08-30T18:36:24.039Z"
   },
   {
    "duration": 62,
    "start_time": "2023-08-30T18:36:24.148Z"
   },
   {
    "duration": 165,
    "start_time": "2023-08-30T18:36:24.211Z"
   },
   {
    "duration": 14,
    "start_time": "2023-08-30T18:36:24.380Z"
   },
   {
    "duration": 3,
    "start_time": "2023-08-30T18:36:24.395Z"
   },
   {
    "duration": 4246,
    "start_time": "2023-08-30T18:36:24.400Z"
   },
   {
    "duration": 792,
    "start_time": "2023-08-30T18:36:28.648Z"
   },
   {
    "duration": 92,
    "start_time": "2023-08-30T18:36:29.442Z"
   },
   {
    "duration": 146,
    "start_time": "2023-08-30T18:36:29.536Z"
   },
   {
    "duration": 851,
    "start_time": "2023-08-30T18:36:29.687Z"
   },
   {
    "duration": 935,
    "start_time": "2023-08-30T18:36:30.540Z"
   },
   {
    "duration": 1891,
    "start_time": "2023-08-30T18:36:31.477Z"
   },
   {
    "duration": 16,
    "start_time": "2023-08-30T18:36:33.370Z"
   },
   {
    "duration": 25,
    "start_time": "2023-08-30T18:36:33.388Z"
   },
   {
    "duration": 6,
    "start_time": "2023-08-30T18:36:33.415Z"
   },
   {
    "duration": 5,
    "start_time": "2023-08-30T18:36:33.423Z"
   },
   {
    "duration": 56,
    "start_time": "2023-08-30T18:36:33.430Z"
   },
   {
    "duration": 7,
    "start_time": "2023-08-30T18:36:33.488Z"
   },
   {
    "duration": 32,
    "start_time": "2023-08-30T18:36:33.496Z"
   },
   {
    "duration": 3,
    "start_time": "2023-08-30T18:36:33.529Z"
   },
   {
    "duration": 9,
    "start_time": "2023-08-30T18:36:33.533Z"
   },
   {
    "duration": 307,
    "start_time": "2023-08-30T18:36:33.544Z"
   },
   {
    "duration": 200,
    "start_time": "2023-08-30T18:36:33.853Z"
   },
   {
    "duration": 198,
    "start_time": "2023-08-30T18:36:34.055Z"
   },
   {
    "duration": 179,
    "start_time": "2023-08-30T18:36:34.254Z"
   },
   {
    "duration": 5,
    "start_time": "2023-08-30T18:36:34.435Z"
   },
   {
    "duration": 13,
    "start_time": "2023-08-30T18:36:34.442Z"
   },
   {
    "duration": 34,
    "start_time": "2023-08-30T18:36:34.457Z"
   },
   {
    "duration": 26,
    "start_time": "2023-08-30T18:36:34.493Z"
   },
   {
    "duration": 278,
    "start_time": "2023-08-30T18:36:34.521Z"
   },
   {
    "duration": 267,
    "start_time": "2023-08-30T18:36:34.801Z"
   },
   {
    "duration": 126,
    "start_time": "2023-08-30T18:36:35.070Z"
   },
   {
    "duration": 6,
    "start_time": "2023-08-30T18:36:35.198Z"
   },
   {
    "duration": 55746,
    "start_time": "2023-08-30T18:36:35.205Z"
   },
   {
    "duration": 18768,
    "start_time": "2023-08-30T18:37:30.953Z"
   },
   {
    "duration": 19226,
    "start_time": "2023-08-30T18:37:49.722Z"
   },
   {
    "duration": 5,
    "start_time": "2023-08-30T18:38:08.950Z"
   },
   {
    "duration": 638,
    "start_time": "2023-08-30T18:38:08.957Z"
   },
   {
    "duration": 4,
    "start_time": "2023-08-30T18:38:09.597Z"
   },
   {
    "duration": 19077,
    "start_time": "2023-08-30T18:38:09.604Z"
   },
   {
    "duration": 167,
    "start_time": "2023-08-30T18:38:28.683Z"
   },
   {
    "duration": 87,
    "start_time": "2023-08-30T18:58:38.482Z"
   },
   {
    "duration": 4,
    "start_time": "2023-08-30T19:00:25.831Z"
   },
   {
    "duration": 20,
    "start_time": "2023-08-30T19:01:15.442Z"
   },
   {
    "duration": 78,
    "start_time": "2023-08-30T19:01:48.264Z"
   },
   {
    "duration": 5,
    "start_time": "2023-08-30T19:01:48.963Z"
   },
   {
    "duration": 51,
    "start_time": "2023-08-30T19:01:53.058Z"
   },
   {
    "duration": 1512,
    "start_time": "2023-08-30T19:02:02.578Z"
   },
   {
    "duration": 38,
    "start_time": "2023-08-30T19:02:04.091Z"
   },
   {
    "duration": 2690,
    "start_time": "2023-08-30T19:02:04.131Z"
   },
   {
    "duration": 1707,
    "start_time": "2023-08-30T19:02:06.825Z"
   },
   {
    "duration": 1221,
    "start_time": "2023-08-30T19:02:08.534Z"
   },
   {
    "duration": 139,
    "start_time": "2023-08-30T19:02:09.757Z"
   },
   {
    "duration": 109,
    "start_time": "2023-08-30T19:02:09.898Z"
   },
   {
    "duration": 6,
    "start_time": "2023-08-30T19:02:10.008Z"
   },
   {
    "duration": 68,
    "start_time": "2023-08-30T19:02:10.015Z"
   },
   {
    "duration": 58,
    "start_time": "2023-08-30T19:02:10.086Z"
   },
   {
    "duration": 66,
    "start_time": "2023-08-30T19:02:10.146Z"
   },
   {
    "duration": 53,
    "start_time": "2023-08-30T19:02:10.214Z"
   },
   {
    "duration": 5,
    "start_time": "2023-08-30T19:02:10.268Z"
   },
   {
    "duration": 30,
    "start_time": "2023-08-30T19:02:10.282Z"
   },
   {
    "duration": 7,
    "start_time": "2023-08-30T19:02:10.314Z"
   },
   {
    "duration": 17,
    "start_time": "2023-08-30T19:02:10.323Z"
   },
   {
    "duration": 9,
    "start_time": "2023-08-30T19:02:10.342Z"
   },
   {
    "duration": 101,
    "start_time": "2023-08-30T19:02:10.353Z"
   },
   {
    "duration": 64,
    "start_time": "2023-08-30T19:02:10.455Z"
   },
   {
    "duration": 154,
    "start_time": "2023-08-30T19:02:10.521Z"
   },
   {
    "duration": 16,
    "start_time": "2023-08-30T19:02:10.676Z"
   },
   {
    "duration": 2,
    "start_time": "2023-08-30T19:02:10.694Z"
   },
   {
    "duration": 4258,
    "start_time": "2023-08-30T19:02:10.698Z"
   },
   {
    "duration": 810,
    "start_time": "2023-08-30T19:02:14.958Z"
   },
   {
    "duration": 91,
    "start_time": "2023-08-30T19:02:15.769Z"
   },
   {
    "duration": 137,
    "start_time": "2023-08-30T19:02:15.862Z"
   },
   {
    "duration": 854,
    "start_time": "2023-08-30T19:02:16.002Z"
   },
   {
    "duration": 989,
    "start_time": "2023-08-30T19:02:16.860Z"
   },
   {
    "duration": 1842,
    "start_time": "2023-08-30T19:02:17.851Z"
   },
   {
    "duration": 12,
    "start_time": "2023-08-30T19:02:19.695Z"
   },
   {
    "duration": 26,
    "start_time": "2023-08-30T19:02:19.709Z"
   },
   {
    "duration": 12,
    "start_time": "2023-08-30T19:02:19.737Z"
   },
   {
    "duration": 22,
    "start_time": "2023-08-30T19:02:19.752Z"
   },
   {
    "duration": 34,
    "start_time": "2023-08-30T19:02:19.781Z"
   },
   {
    "duration": 6,
    "start_time": "2023-08-30T19:02:19.817Z"
   },
   {
    "duration": 41,
    "start_time": "2023-08-30T19:02:19.825Z"
   },
   {
    "duration": 3,
    "start_time": "2023-08-30T19:02:19.868Z"
   },
   {
    "duration": 11,
    "start_time": "2023-08-30T19:02:19.872Z"
   },
   {
    "duration": 303,
    "start_time": "2023-08-30T19:02:19.885Z"
   },
   {
    "duration": 203,
    "start_time": "2023-08-30T19:02:20.190Z"
   },
   {
    "duration": 202,
    "start_time": "2023-08-30T19:02:20.394Z"
   },
   {
    "duration": 175,
    "start_time": "2023-08-30T19:02:20.598Z"
   },
   {
    "duration": 10,
    "start_time": "2023-08-30T19:02:20.775Z"
   },
   {
    "duration": 65,
    "start_time": "2023-08-30T19:02:20.786Z"
   },
   {
    "duration": 52,
    "start_time": "2023-08-30T19:02:20.852Z"
   },
   {
    "duration": 31,
    "start_time": "2023-08-30T19:02:20.905Z"
   },
   {
    "duration": 278,
    "start_time": "2023-08-30T19:02:20.937Z"
   },
   {
    "duration": 258,
    "start_time": "2023-08-30T19:02:21.216Z"
   },
   {
    "duration": 85,
    "start_time": "2023-08-30T19:02:21.480Z"
   },
   {
    "duration": 16,
    "start_time": "2023-08-30T19:02:21.566Z"
   },
   {
    "duration": 53,
    "start_time": "2023-08-30T19:02:51.058Z"
   },
   {
    "duration": 1695,
    "start_time": "2023-08-30T19:02:54.866Z"
   },
   {
    "duration": 43,
    "start_time": "2023-08-30T19:02:56.564Z"
   },
   {
    "duration": 3478,
    "start_time": "2023-08-30T19:02:56.609Z"
   },
   {
    "duration": 2583,
    "start_time": "2023-08-30T19:03:00.089Z"
   },
   {
    "duration": 1219,
    "start_time": "2023-08-30T19:03:02.675Z"
   },
   {
    "duration": 141,
    "start_time": "2023-08-30T19:03:03.896Z"
   },
   {
    "duration": 158,
    "start_time": "2023-08-30T19:03:04.039Z"
   },
   {
    "duration": 6,
    "start_time": "2023-08-30T19:03:04.199Z"
   },
   {
    "duration": 74,
    "start_time": "2023-08-30T19:03:04.207Z"
   },
   {
    "duration": 59,
    "start_time": "2023-08-30T19:03:04.283Z"
   },
   {
    "duration": 61,
    "start_time": "2023-08-30T19:03:04.344Z"
   },
   {
    "duration": 49,
    "start_time": "2023-08-30T19:03:04.407Z"
   },
   {
    "duration": 25,
    "start_time": "2023-08-30T19:03:04.458Z"
   },
   {
    "duration": 40,
    "start_time": "2023-08-30T19:03:04.486Z"
   },
   {
    "duration": 5,
    "start_time": "2023-08-30T19:03:04.528Z"
   },
   {
    "duration": 12,
    "start_time": "2023-08-30T19:03:04.534Z"
   },
   {
    "duration": 5,
    "start_time": "2023-08-30T19:03:04.548Z"
   },
   {
    "duration": 120,
    "start_time": "2023-08-30T19:03:04.554Z"
   },
   {
    "duration": 57,
    "start_time": "2023-08-30T19:03:04.676Z"
   },
   {
    "duration": 175,
    "start_time": "2023-08-30T19:03:04.735Z"
   },
   {
    "duration": 13,
    "start_time": "2023-08-30T19:03:04.912Z"
   },
   {
    "duration": 3,
    "start_time": "2023-08-30T19:03:04.927Z"
   },
   {
    "duration": 4460,
    "start_time": "2023-08-30T19:03:04.932Z"
   },
   {
    "duration": 846,
    "start_time": "2023-08-30T19:03:09.394Z"
   },
   {
    "duration": 94,
    "start_time": "2023-08-30T19:03:10.242Z"
   },
   {
    "duration": 144,
    "start_time": "2023-08-30T19:03:10.337Z"
   },
   {
    "duration": 836,
    "start_time": "2023-08-30T19:03:10.484Z"
   },
   {
    "duration": 970,
    "start_time": "2023-08-30T19:03:11.322Z"
   },
   {
    "duration": 1879,
    "start_time": "2023-08-30T19:03:12.294Z"
   },
   {
    "duration": 14,
    "start_time": "2023-08-30T19:03:14.175Z"
   },
   {
    "duration": 36,
    "start_time": "2023-08-30T19:03:14.191Z"
   },
   {
    "duration": 7,
    "start_time": "2023-08-30T19:03:14.229Z"
   },
   {
    "duration": 41,
    "start_time": "2023-08-30T19:03:14.237Z"
   },
   {
    "duration": 45,
    "start_time": "2023-08-30T19:03:14.280Z"
   },
   {
    "duration": 21,
    "start_time": "2023-08-30T19:03:14.326Z"
   },
   {
    "duration": 54,
    "start_time": "2023-08-30T19:03:14.349Z"
   },
   {
    "duration": 5,
    "start_time": "2023-08-30T19:03:14.405Z"
   },
   {
    "duration": 35,
    "start_time": "2023-08-30T19:03:14.413Z"
   },
   {
    "duration": 276,
    "start_time": "2023-08-30T19:03:14.450Z"
   },
   {
    "duration": 202,
    "start_time": "2023-08-30T19:03:14.728Z"
   },
   {
    "duration": 221,
    "start_time": "2023-08-30T19:03:14.934Z"
   },
   {
    "duration": 185,
    "start_time": "2023-08-30T19:03:15.157Z"
   },
   {
    "duration": 4,
    "start_time": "2023-08-30T19:03:15.344Z"
   },
   {
    "duration": 5,
    "start_time": "2023-08-30T19:03:15.350Z"
   },
   {
    "duration": 38,
    "start_time": "2023-08-30T19:03:15.357Z"
   },
   {
    "duration": 21,
    "start_time": "2023-08-30T19:03:15.397Z"
   },
   {
    "duration": 305,
    "start_time": "2023-08-30T19:03:15.420Z"
   },
   {
    "duration": 270,
    "start_time": "2023-08-30T19:03:15.727Z"
   },
   {
    "duration": 92,
    "start_time": "2023-08-30T19:03:15.998Z"
   },
   {
    "duration": 5,
    "start_time": "2023-08-30T19:03:16.092Z"
   },
   {
    "duration": 50,
    "start_time": "2023-08-30T19:03:48.750Z"
   },
   {
    "duration": 1459,
    "start_time": "2023-08-30T19:04:01.906Z"
   },
   {
    "duration": 26,
    "start_time": "2023-08-30T19:04:03.367Z"
   },
   {
    "duration": 2929,
    "start_time": "2023-08-30T19:04:03.395Z"
   },
   {
    "duration": 2161,
    "start_time": "2023-08-30T19:04:06.326Z"
   },
   {
    "duration": 1201,
    "start_time": "2023-08-30T19:04:08.491Z"
   },
   {
    "duration": 154,
    "start_time": "2023-08-30T19:04:09.693Z"
   },
   {
    "duration": 108,
    "start_time": "2023-08-30T19:04:09.849Z"
   },
   {
    "duration": 6,
    "start_time": "2023-08-30T19:04:09.959Z"
   },
   {
    "duration": 70,
    "start_time": "2023-08-30T19:04:09.967Z"
   },
   {
    "duration": 67,
    "start_time": "2023-08-30T19:04:10.039Z"
   },
   {
    "duration": 52,
    "start_time": "2023-08-30T19:04:10.108Z"
   },
   {
    "duration": 59,
    "start_time": "2023-08-30T19:04:10.161Z"
   },
   {
    "duration": 6,
    "start_time": "2023-08-30T19:04:10.221Z"
   },
   {
    "duration": 31,
    "start_time": "2023-08-30T19:04:10.230Z"
   },
   {
    "duration": 19,
    "start_time": "2023-08-30T19:04:10.263Z"
   },
   {
    "duration": 6,
    "start_time": "2023-08-30T19:04:10.283Z"
   },
   {
    "duration": 5,
    "start_time": "2023-08-30T19:04:10.291Z"
   },
   {
    "duration": 107,
    "start_time": "2023-08-30T19:04:10.298Z"
   },
   {
    "duration": 53,
    "start_time": "2023-08-30T19:04:10.406Z"
   },
   {
    "duration": 164,
    "start_time": "2023-08-30T19:04:10.461Z"
   },
   {
    "duration": 13,
    "start_time": "2023-08-30T19:04:10.626Z"
   },
   {
    "duration": 3,
    "start_time": "2023-08-30T19:04:10.641Z"
   },
   {
    "duration": 4175,
    "start_time": "2023-08-30T19:04:10.646Z"
   },
   {
    "duration": 832,
    "start_time": "2023-08-30T19:04:14.823Z"
   },
   {
    "duration": 94,
    "start_time": "2023-08-30T19:04:15.657Z"
   },
   {
    "duration": 138,
    "start_time": "2023-08-30T19:04:15.752Z"
   },
   {
    "duration": 911,
    "start_time": "2023-08-30T19:04:15.892Z"
   },
   {
    "duration": 948,
    "start_time": "2023-08-30T19:04:16.805Z"
   },
   {
    "duration": 1809,
    "start_time": "2023-08-30T19:04:17.755Z"
   },
   {
    "duration": 20,
    "start_time": "2023-08-30T19:04:19.566Z"
   },
   {
    "duration": 31,
    "start_time": "2023-08-30T19:04:19.588Z"
   },
   {
    "duration": 7,
    "start_time": "2023-08-30T19:04:19.621Z"
   },
   {
    "duration": 19,
    "start_time": "2023-08-30T19:04:19.630Z"
   },
   {
    "duration": 43,
    "start_time": "2023-08-30T19:04:19.650Z"
   },
   {
    "duration": 12,
    "start_time": "2023-08-30T19:04:19.695Z"
   },
   {
    "duration": 58,
    "start_time": "2023-08-30T19:04:19.708Z"
   },
   {
    "duration": 4,
    "start_time": "2023-08-30T19:04:19.767Z"
   },
   {
    "duration": 29,
    "start_time": "2023-08-30T19:04:19.772Z"
   },
   {
    "duration": 280,
    "start_time": "2023-08-30T19:04:19.802Z"
   },
   {
    "duration": 197,
    "start_time": "2023-08-30T19:04:20.084Z"
   },
   {
    "duration": 212,
    "start_time": "2023-08-30T19:04:20.286Z"
   },
   {
    "duration": 182,
    "start_time": "2023-08-30T19:04:20.500Z"
   },
   {
    "duration": 5,
    "start_time": "2023-08-30T19:04:20.684Z"
   },
   {
    "duration": 20,
    "start_time": "2023-08-30T19:04:20.691Z"
   },
   {
    "duration": 38,
    "start_time": "2023-08-30T19:04:20.713Z"
   },
   {
    "duration": 31,
    "start_time": "2023-08-30T19:04:20.753Z"
   },
   {
    "duration": 313,
    "start_time": "2023-08-30T19:04:20.786Z"
   },
   {
    "duration": 267,
    "start_time": "2023-08-30T19:04:21.101Z"
   },
   {
    "duration": 87,
    "start_time": "2023-08-30T19:04:21.370Z"
   },
   {
    "duration": 6,
    "start_time": "2023-08-30T19:04:21.459Z"
   },
   {
    "duration": 143,
    "start_time": "2023-08-30T19:04:21.467Z"
   },
   {
    "duration": 0,
    "start_time": "2023-08-30T19:04:21.612Z"
   },
   {
    "duration": 0,
    "start_time": "2023-08-30T19:04:21.614Z"
   },
   {
    "duration": 0,
    "start_time": "2023-08-30T19:04:21.615Z"
   },
   {
    "duration": 0,
    "start_time": "2023-08-30T19:04:21.616Z"
   },
   {
    "duration": 0,
    "start_time": "2023-08-30T19:04:21.618Z"
   },
   {
    "duration": 0,
    "start_time": "2023-08-30T19:04:21.620Z"
   },
   {
    "duration": 0,
    "start_time": "2023-08-30T19:04:21.621Z"
   },
   {
    "duration": 0,
    "start_time": "2023-08-30T19:04:21.623Z"
   },
   {
    "duration": 78,
    "start_time": "2023-08-30T19:04:26.901Z"
   },
   {
    "duration": 52,
    "start_time": "2023-08-30T19:05:05.535Z"
   },
   {
    "duration": 1428,
    "start_time": "2023-08-30T19:05:11.234Z"
   },
   {
    "duration": 32,
    "start_time": "2023-08-30T19:05:12.664Z"
   },
   {
    "duration": 4539,
    "start_time": "2023-08-30T19:05:12.697Z"
   },
   {
    "duration": 1620,
    "start_time": "2023-08-30T19:05:17.238Z"
   },
   {
    "duration": 1200,
    "start_time": "2023-08-30T19:05:18.862Z"
   },
   {
    "duration": 144,
    "start_time": "2023-08-30T19:05:20.064Z"
   },
   {
    "duration": 113,
    "start_time": "2023-08-30T19:05:20.210Z"
   },
   {
    "duration": 5,
    "start_time": "2023-08-30T19:05:20.325Z"
   },
   {
    "duration": 92,
    "start_time": "2023-08-30T19:05:20.331Z"
   },
   {
    "duration": 62,
    "start_time": "2023-08-30T19:05:20.425Z"
   },
   {
    "duration": 53,
    "start_time": "2023-08-30T19:05:20.488Z"
   },
   {
    "duration": 57,
    "start_time": "2023-08-30T19:05:20.543Z"
   },
   {
    "duration": 21,
    "start_time": "2023-08-30T19:05:20.602Z"
   },
   {
    "duration": 44,
    "start_time": "2023-08-30T19:05:20.626Z"
   },
   {
    "duration": 14,
    "start_time": "2023-08-30T19:05:20.672Z"
   },
   {
    "duration": 25,
    "start_time": "2023-08-30T19:05:20.688Z"
   },
   {
    "duration": 8,
    "start_time": "2023-08-30T19:05:20.715Z"
   },
   {
    "duration": 95,
    "start_time": "2023-08-30T19:05:20.724Z"
   },
   {
    "duration": 62,
    "start_time": "2023-08-30T19:05:20.821Z"
   },
   {
    "duration": 159,
    "start_time": "2023-08-30T19:05:20.885Z"
   },
   {
    "duration": 14,
    "start_time": "2023-08-30T19:05:21.046Z"
   },
   {
    "duration": 21,
    "start_time": "2023-08-30T19:05:21.062Z"
   },
   {
    "duration": 4207,
    "start_time": "2023-08-30T19:05:21.084Z"
   },
   {
    "duration": 780,
    "start_time": "2023-08-30T19:05:25.293Z"
   },
   {
    "duration": 83,
    "start_time": "2023-08-30T19:05:26.075Z"
   },
   {
    "duration": 152,
    "start_time": "2023-08-30T19:05:26.160Z"
   },
   {
    "duration": 888,
    "start_time": "2023-08-30T19:05:26.315Z"
   },
   {
    "duration": 922,
    "start_time": "2023-08-30T19:05:27.205Z"
   },
   {
    "duration": 1857,
    "start_time": "2023-08-30T19:05:28.129Z"
   },
   {
    "duration": 12,
    "start_time": "2023-08-30T19:05:29.988Z"
   },
   {
    "duration": 48,
    "start_time": "2023-08-30T19:05:30.002Z"
   },
   {
    "duration": 21,
    "start_time": "2023-08-30T19:05:30.052Z"
   },
   {
    "duration": 43,
    "start_time": "2023-08-30T19:05:30.074Z"
   },
   {
    "duration": 48,
    "start_time": "2023-08-30T19:05:30.119Z"
   },
   {
    "duration": 7,
    "start_time": "2023-08-30T19:05:30.169Z"
   },
   {
    "duration": 47,
    "start_time": "2023-08-30T19:05:30.178Z"
   },
   {
    "duration": 3,
    "start_time": "2023-08-30T19:05:30.227Z"
   },
   {
    "duration": 32,
    "start_time": "2023-08-30T19:05:30.232Z"
   },
   {
    "duration": 290,
    "start_time": "2023-08-30T19:05:30.266Z"
   },
   {
    "duration": 197,
    "start_time": "2023-08-30T19:05:30.558Z"
   },
   {
    "duration": 214,
    "start_time": "2023-08-30T19:05:30.759Z"
   },
   {
    "duration": 180,
    "start_time": "2023-08-30T19:05:30.974Z"
   },
   {
    "duration": 4,
    "start_time": "2023-08-30T19:05:31.155Z"
   },
   {
    "duration": 27,
    "start_time": "2023-08-30T19:05:31.160Z"
   },
   {
    "duration": 51,
    "start_time": "2023-08-30T19:05:31.189Z"
   },
   {
    "duration": 60,
    "start_time": "2023-08-30T19:05:31.242Z"
   },
   {
    "duration": 313,
    "start_time": "2023-08-30T19:05:31.304Z"
   },
   {
    "duration": 265,
    "start_time": "2023-08-30T19:05:31.619Z"
   },
   {
    "duration": 85,
    "start_time": "2023-08-30T19:05:31.886Z"
   },
   {
    "duration": 6,
    "start_time": "2023-08-30T19:05:47.698Z"
   },
   {
    "duration": 69,
    "start_time": "2023-08-30T19:05:50.164Z"
   },
   {
    "duration": 99,
    "start_time": "2023-08-30T19:05:53.909Z"
   },
   {
    "duration": 6,
    "start_time": "2023-08-30T19:05:54.882Z"
   },
   {
    "duration": 64,
    "start_time": "2023-08-30T19:05:55.133Z"
   },
   {
    "duration": 29072,
    "start_time": "2023-08-30T19:06:07.176Z"
   },
   {
    "duration": 1509,
    "start_time": "2023-08-30T19:06:59.511Z"
   },
   {
    "duration": 37,
    "start_time": "2023-08-30T19:07:01.022Z"
   },
   {
    "duration": 2565,
    "start_time": "2023-08-30T19:07:01.061Z"
   },
   {
    "duration": 1633,
    "start_time": "2023-08-30T19:07:03.629Z"
   },
   {
    "duration": 1266,
    "start_time": "2023-08-30T19:07:05.264Z"
   },
   {
    "duration": 137,
    "start_time": "2023-08-30T19:07:06.532Z"
   },
   {
    "duration": 151,
    "start_time": "2023-08-30T19:07:06.671Z"
   },
   {
    "duration": 4,
    "start_time": "2023-08-30T19:07:06.824Z"
   },
   {
    "duration": 91,
    "start_time": "2023-08-30T19:07:06.830Z"
   },
   {
    "duration": 64,
    "start_time": "2023-08-30T19:07:06.924Z"
   },
   {
    "duration": 61,
    "start_time": "2023-08-30T19:07:06.990Z"
   },
   {
    "duration": 87,
    "start_time": "2023-08-30T19:07:07.053Z"
   },
   {
    "duration": 55,
    "start_time": "2023-08-30T19:07:07.142Z"
   },
   {
    "duration": 64,
    "start_time": "2023-08-30T19:07:07.200Z"
   },
   {
    "duration": 41,
    "start_time": "2023-08-30T19:07:07.266Z"
   },
   {
    "duration": 48,
    "start_time": "2023-08-30T19:07:07.309Z"
   },
   {
    "duration": 34,
    "start_time": "2023-08-30T19:07:07.359Z"
   },
   {
    "duration": 150,
    "start_time": "2023-08-30T19:07:07.394Z"
   },
   {
    "duration": 76,
    "start_time": "2023-08-30T19:07:07.547Z"
   },
   {
    "duration": 156,
    "start_time": "2023-08-30T19:07:07.625Z"
   },
   {
    "duration": 13,
    "start_time": "2023-08-30T19:07:07.784Z"
   },
   {
    "duration": 103,
    "start_time": "2023-08-30T19:07:07.799Z"
   },
   {
    "duration": 4280,
    "start_time": "2023-08-30T19:07:07.903Z"
   },
   {
    "duration": 819,
    "start_time": "2023-08-30T19:07:12.185Z"
   },
   {
    "duration": 90,
    "start_time": "2023-08-30T19:07:13.006Z"
   },
   {
    "duration": 288,
    "start_time": "2023-08-30T19:07:13.098Z"
   },
   {
    "duration": 946,
    "start_time": "2023-08-30T19:07:13.388Z"
   },
   {
    "duration": 1000,
    "start_time": "2023-08-30T19:07:14.339Z"
   },
   {
    "duration": 2101,
    "start_time": "2023-08-30T19:07:15.341Z"
   },
   {
    "duration": 12,
    "start_time": "2023-08-30T19:07:17.444Z"
   },
   {
    "duration": 42,
    "start_time": "2023-08-30T19:07:17.458Z"
   },
   {
    "duration": 8,
    "start_time": "2023-08-30T19:07:17.502Z"
   },
   {
    "duration": 8,
    "start_time": "2023-08-30T19:07:17.512Z"
   },
   {
    "duration": 36,
    "start_time": "2023-08-30T19:07:17.521Z"
   },
   {
    "duration": 24,
    "start_time": "2023-08-30T19:07:17.560Z"
   },
   {
    "duration": 26,
    "start_time": "2023-08-30T19:07:17.586Z"
   },
   {
    "duration": 3,
    "start_time": "2023-08-30T19:07:17.614Z"
   },
   {
    "duration": 47,
    "start_time": "2023-08-30T19:07:17.618Z"
   },
   {
    "duration": 268,
    "start_time": "2023-08-30T19:07:17.666Z"
   },
   {
    "duration": 200,
    "start_time": "2023-08-30T19:07:17.937Z"
   },
   {
    "duration": 213,
    "start_time": "2023-08-30T19:07:18.139Z"
   },
   {
    "duration": 189,
    "start_time": "2023-08-30T19:07:18.354Z"
   },
   {
    "duration": 5,
    "start_time": "2023-08-30T19:07:18.545Z"
   },
   {
    "duration": 24,
    "start_time": "2023-08-30T19:07:18.552Z"
   },
   {
    "duration": 48,
    "start_time": "2023-08-30T19:07:18.578Z"
   },
   {
    "duration": 39,
    "start_time": "2023-08-30T19:07:18.628Z"
   },
   {
    "duration": 306,
    "start_time": "2023-08-30T19:07:18.669Z"
   },
   {
    "duration": 301,
    "start_time": "2023-08-30T19:07:18.981Z"
   },
   {
    "duration": 85,
    "start_time": "2023-08-30T19:07:19.283Z"
   },
   {
    "duration": 5,
    "start_time": "2023-08-30T19:07:19.381Z"
   },
   {
    "duration": 89,
    "start_time": "2023-08-30T19:07:19.388Z"
   },
   {
    "duration": 55079,
    "start_time": "2023-08-30T19:07:19.478Z"
   },
   {
    "duration": 38430,
    "start_time": "2023-08-30T19:08:14.559Z"
   },
   {
    "duration": 123,
    "start_time": "2023-08-30T19:08:52.992Z"
   },
   {
    "duration": 0,
    "start_time": "2023-08-30T19:08:53.117Z"
   },
   {
    "duration": 0,
    "start_time": "2023-08-30T19:08:53.120Z"
   },
   {
    "duration": 0,
    "start_time": "2023-08-30T19:08:53.121Z"
   },
   {
    "duration": 0,
    "start_time": "2023-08-30T19:08:53.122Z"
   },
   {
    "duration": 0,
    "start_time": "2023-08-30T19:08:53.123Z"
   },
   {
    "duration": 0,
    "start_time": "2023-08-30T19:08:53.125Z"
   },
   {
    "duration": 5,
    "start_time": "2023-08-30T19:09:28.613Z"
   },
   {
    "duration": 609,
    "start_time": "2023-08-30T19:09:29.747Z"
   },
   {
    "duration": 5,
    "start_time": "2023-08-30T19:09:31.104Z"
   },
   {
    "duration": 2391,
    "start_time": "2023-08-30T19:11:00.192Z"
   },
   {
    "duration": 37,
    "start_time": "2023-08-30T19:11:02.586Z"
   },
   {
    "duration": 3746,
    "start_time": "2023-08-30T19:11:02.624Z"
   },
   {
    "duration": 1643,
    "start_time": "2023-08-30T19:11:06.372Z"
   },
   {
    "duration": 997,
    "start_time": "2023-08-30T19:11:08.017Z"
   },
   {
    "duration": 379,
    "start_time": "2023-08-30T19:11:09.016Z"
   },
   {
    "duration": 208,
    "start_time": "2023-08-30T19:11:09.397Z"
   },
   {
    "duration": 5,
    "start_time": "2023-08-30T19:11:09.607Z"
   },
   {
    "duration": 168,
    "start_time": "2023-08-30T19:11:09.613Z"
   },
   {
    "duration": 114,
    "start_time": "2023-08-30T19:11:09.785Z"
   },
   {
    "duration": 106,
    "start_time": "2023-08-30T19:11:09.901Z"
   },
   {
    "duration": 97,
    "start_time": "2023-08-30T19:11:10.009Z"
   },
   {
    "duration": 9,
    "start_time": "2023-08-30T19:11:10.108Z"
   },
   {
    "duration": 81,
    "start_time": "2023-08-30T19:11:10.119Z"
   },
   {
    "duration": 9,
    "start_time": "2023-08-30T19:11:10.202Z"
   },
   {
    "duration": 14,
    "start_time": "2023-08-30T19:11:10.213Z"
   },
   {
    "duration": 54,
    "start_time": "2023-08-30T19:11:10.229Z"
   },
   {
    "duration": 216,
    "start_time": "2023-08-30T19:11:10.285Z"
   },
   {
    "duration": 112,
    "start_time": "2023-08-30T19:11:10.503Z"
   },
   {
    "duration": 372,
    "start_time": "2023-08-30T19:11:10.617Z"
   },
   {
    "duration": 13,
    "start_time": "2023-08-30T19:11:10.991Z"
   },
   {
    "duration": 52,
    "start_time": "2023-08-30T19:11:11.006Z"
   },
   {
    "duration": 4352,
    "start_time": "2023-08-30T19:11:11.060Z"
   },
   {
    "duration": 813,
    "start_time": "2023-08-30T19:11:15.414Z"
   },
   {
    "duration": 94,
    "start_time": "2023-08-30T19:11:16.229Z"
   },
   {
    "duration": 144,
    "start_time": "2023-08-30T19:11:16.327Z"
   },
   {
    "duration": 871,
    "start_time": "2023-08-30T19:11:16.473Z"
   },
   {
    "duration": 971,
    "start_time": "2023-08-30T19:11:17.348Z"
   },
   {
    "duration": 1918,
    "start_time": "2023-08-30T19:11:18.320Z"
   },
   {
    "duration": 11,
    "start_time": "2023-08-30T19:11:20.239Z"
   },
   {
    "duration": 40,
    "start_time": "2023-08-30T19:11:20.252Z"
   },
   {
    "duration": 15,
    "start_time": "2023-08-30T19:11:20.294Z"
   },
   {
    "duration": 25,
    "start_time": "2023-08-30T19:11:20.310Z"
   },
   {
    "duration": 48,
    "start_time": "2023-08-30T19:11:20.337Z"
   },
   {
    "duration": 6,
    "start_time": "2023-08-30T19:11:20.387Z"
   },
   {
    "duration": 42,
    "start_time": "2023-08-30T19:11:20.395Z"
   },
   {
    "duration": 3,
    "start_time": "2023-08-30T19:11:20.440Z"
   },
   {
    "duration": 25,
    "start_time": "2023-08-30T19:11:20.445Z"
   },
   {
    "duration": 310,
    "start_time": "2023-08-30T19:11:20.472Z"
   },
   {
    "duration": 213,
    "start_time": "2023-08-30T19:11:20.785Z"
   },
   {
    "duration": 225,
    "start_time": "2023-08-30T19:11:21.000Z"
   },
   {
    "duration": 206,
    "start_time": "2023-08-30T19:11:21.227Z"
   },
   {
    "duration": 4,
    "start_time": "2023-08-30T19:11:21.434Z"
   },
   {
    "duration": 6,
    "start_time": "2023-08-30T19:11:21.439Z"
   },
   {
    "duration": 35,
    "start_time": "2023-08-30T19:11:21.447Z"
   },
   {
    "duration": 21,
    "start_time": "2023-08-30T19:11:21.484Z"
   },
   {
    "duration": 315,
    "start_time": "2023-08-30T19:11:21.506Z"
   },
   {
    "duration": 287,
    "start_time": "2023-08-30T19:11:21.823Z"
   },
   {
    "duration": 96,
    "start_time": "2023-08-30T19:11:22.112Z"
   },
   {
    "duration": 6,
    "start_time": "2023-08-30T19:11:22.210Z"
   },
   {
    "duration": 81,
    "start_time": "2023-08-30T19:11:22.218Z"
   },
   {
    "duration": 55590,
    "start_time": "2023-08-30T19:11:22.301Z"
   },
   {
    "duration": 36709,
    "start_time": "2023-08-30T19:12:17.892Z"
   },
   {
    "duration": 4,
    "start_time": "2023-08-30T19:12:54.603Z"
   },
   {
    "duration": 8,
    "start_time": "2023-08-30T19:12:54.608Z"
   },
   {
    "duration": 646,
    "start_time": "2023-08-30T19:12:54.618Z"
   },
   {
    "duration": 6,
    "start_time": "2023-08-30T19:12:55.266Z"
   },
   {
    "duration": 35907,
    "start_time": "2023-08-30T19:12:55.281Z"
   },
   {
    "duration": 4,
    "start_time": "2023-08-30T19:13:38.484Z"
   },
   {
    "duration": 5,
    "start_time": "2023-08-30T19:14:08.240Z"
   },
   {
    "duration": 5,
    "start_time": "2023-08-30T19:14:36.019Z"
   },
   {
    "duration": 6,
    "start_time": "2023-08-30T19:14:58.380Z"
   },
   {
    "duration": 32,
    "start_time": "2023-08-30T19:16:59.128Z"
   },
   {
    "duration": 123,
    "start_time": "2023-08-30T19:21:42.785Z"
   },
   {
    "duration": 7,
    "start_time": "2023-08-30T19:21:51.441Z"
   },
   {
    "duration": 12,
    "start_time": "2023-08-30T19:21:55.830Z"
   },
   {
    "duration": 4,
    "start_time": "2023-08-30T19:22:28.571Z"
   },
   {
    "duration": 1220458,
    "start_time": "2023-08-30T19:22:32.027Z"
   },
   {
    "duration": 54,
    "start_time": "2023-08-30T19:43:03.371Z"
   },
   {
    "duration": 1514,
    "start_time": "2023-08-30T19:43:42.391Z"
   },
   {
    "duration": 36,
    "start_time": "2023-08-30T19:43:43.907Z"
   },
   {
    "duration": 2474,
    "start_time": "2023-08-30T19:43:43.944Z"
   },
   {
    "duration": 1546,
    "start_time": "2023-08-30T19:43:46.421Z"
   },
   {
    "duration": 870,
    "start_time": "2023-08-30T19:43:47.970Z"
   },
   {
    "duration": 151,
    "start_time": "2023-08-30T19:43:48.842Z"
   },
   {
    "duration": 111,
    "start_time": "2023-08-30T19:43:48.995Z"
   },
   {
    "duration": 5,
    "start_time": "2023-08-30T19:43:49.108Z"
   },
   {
    "duration": 76,
    "start_time": "2023-08-30T19:43:49.115Z"
   },
   {
    "duration": 61,
    "start_time": "2023-08-30T19:43:49.195Z"
   },
   {
    "duration": 63,
    "start_time": "2023-08-30T19:43:49.258Z"
   },
   {
    "duration": 66,
    "start_time": "2023-08-30T19:43:49.323Z"
   },
   {
    "duration": 6,
    "start_time": "2023-08-30T19:43:49.391Z"
   },
   {
    "duration": 40,
    "start_time": "2023-08-30T19:43:49.398Z"
   },
   {
    "duration": 13,
    "start_time": "2023-08-30T19:43:49.440Z"
   },
   {
    "duration": 18,
    "start_time": "2023-08-30T19:43:49.455Z"
   },
   {
    "duration": 12,
    "start_time": "2023-08-30T19:43:49.474Z"
   },
   {
    "duration": 88,
    "start_time": "2023-08-30T19:43:49.488Z"
   },
   {
    "duration": 53,
    "start_time": "2023-08-30T19:43:49.578Z"
   },
   {
    "duration": 162,
    "start_time": "2023-08-30T19:43:49.633Z"
   },
   {
    "duration": 13,
    "start_time": "2023-08-30T19:43:49.797Z"
   },
   {
    "duration": 9,
    "start_time": "2023-08-30T19:43:49.812Z"
   },
   {
    "duration": 4127,
    "start_time": "2023-08-30T19:43:49.823Z"
   },
   {
    "duration": 767,
    "start_time": "2023-08-30T19:43:53.952Z"
   },
   {
    "duration": 87,
    "start_time": "2023-08-30T19:43:54.721Z"
   },
   {
    "duration": 139,
    "start_time": "2023-08-30T19:43:54.810Z"
   },
   {
    "duration": 923,
    "start_time": "2023-08-30T19:43:54.951Z"
   },
   {
    "duration": 793,
    "start_time": "2023-08-30T19:43:55.880Z"
   },
   {
    "duration": 1960,
    "start_time": "2023-08-30T19:43:56.674Z"
   },
   {
    "duration": 11,
    "start_time": "2023-08-30T19:43:58.635Z"
   },
   {
    "duration": 62,
    "start_time": "2023-08-30T19:43:58.648Z"
   },
   {
    "duration": 8,
    "start_time": "2023-08-30T19:43:58.712Z"
   },
   {
    "duration": 40,
    "start_time": "2023-08-30T19:43:58.722Z"
   },
   {
    "duration": 67,
    "start_time": "2023-08-30T19:43:58.764Z"
   },
   {
    "duration": 10,
    "start_time": "2023-08-30T19:43:58.833Z"
   },
   {
    "duration": 40,
    "start_time": "2023-08-30T19:43:58.844Z"
   },
   {
    "duration": 17,
    "start_time": "2023-08-30T19:43:58.886Z"
   },
   {
    "duration": 47,
    "start_time": "2023-08-30T19:43:58.905Z"
   },
   {
    "duration": 335,
    "start_time": "2023-08-30T19:43:58.954Z"
   },
   {
    "duration": 212,
    "start_time": "2023-08-30T19:43:59.291Z"
   },
   {
    "duration": 202,
    "start_time": "2023-08-30T19:43:59.505Z"
   },
   {
    "duration": 182,
    "start_time": "2023-08-30T19:43:59.709Z"
   },
   {
    "duration": 4,
    "start_time": "2023-08-30T19:43:59.893Z"
   },
   {
    "duration": 28,
    "start_time": "2023-08-30T19:43:59.899Z"
   },
   {
    "duration": 21,
    "start_time": "2023-08-30T19:43:59.929Z"
   },
   {
    "duration": 20,
    "start_time": "2023-08-30T19:43:59.951Z"
   },
   {
    "duration": 306,
    "start_time": "2023-08-30T19:43:59.980Z"
   },
   {
    "duration": 286,
    "start_time": "2023-08-30T19:44:00.288Z"
   },
   {
    "duration": 93,
    "start_time": "2023-08-30T19:44:00.576Z"
   },
   {
    "duration": 15,
    "start_time": "2023-08-30T19:44:00.671Z"
   },
   {
    "duration": 108,
    "start_time": "2023-08-30T19:44:00.688Z"
   },
   {
    "duration": 53763,
    "start_time": "2023-08-30T19:44:00.797Z"
   },
   {
    "duration": 36269,
    "start_time": "2023-08-30T19:44:54.561Z"
   },
   {
    "duration": 3,
    "start_time": "2023-08-30T19:45:30.833Z"
   },
   {
    "duration": 19,
    "start_time": "2023-08-30T19:45:30.839Z"
   },
   {
    "duration": 625,
    "start_time": "2023-08-30T19:45:30.860Z"
   },
   {
    "duration": 4,
    "start_time": "2023-08-30T19:45:31.487Z"
   },
   {
    "duration": 37588,
    "start_time": "2023-08-30T19:45:31.493Z"
   },
   {
    "duration": 7,
    "start_time": "2023-08-30T19:46:09.083Z"
   },
   {
    "duration": 11693527,
    "start_time": "2023-08-30T19:46:09.092Z"
   },
   {
    "duration": 4,
    "start_time": "2023-08-30T23:01:02.621Z"
   },
   {
    "duration": 1581,
    "start_time": "2023-08-31T07:47:25.941Z"
   },
   {
    "duration": 6,
    "start_time": "2023-08-31T07:48:15.724Z"
   },
   {
    "duration": 39,
    "start_time": "2023-08-31T07:48:15.732Z"
   },
   {
    "duration": 4143,
    "start_time": "2023-08-31T07:48:15.773Z"
   },
   {
    "duration": 1544,
    "start_time": "2023-08-31T07:48:19.918Z"
   },
   {
    "duration": 1244,
    "start_time": "2023-08-31T07:48:21.464Z"
   },
   {
    "duration": 152,
    "start_time": "2023-08-31T07:48:22.709Z"
   },
   {
    "duration": 120,
    "start_time": "2023-08-31T07:48:22.863Z"
   },
   {
    "duration": 5,
    "start_time": "2023-08-31T07:48:22.986Z"
   },
   {
    "duration": 76,
    "start_time": "2023-08-31T07:48:22.994Z"
   },
   {
    "duration": 62,
    "start_time": "2023-08-31T07:48:23.071Z"
   },
   {
    "duration": 55,
    "start_time": "2023-08-31T07:48:23.136Z"
   },
   {
    "duration": 58,
    "start_time": "2023-08-31T07:48:23.193Z"
   },
   {
    "duration": 4,
    "start_time": "2023-08-31T07:48:23.253Z"
   },
   {
    "duration": 28,
    "start_time": "2023-08-31T07:48:23.260Z"
   },
   {
    "duration": 5,
    "start_time": "2023-08-31T07:48:23.289Z"
   },
   {
    "duration": 29,
    "start_time": "2023-08-31T07:48:23.295Z"
   },
   {
    "duration": 4,
    "start_time": "2023-08-31T07:48:23.327Z"
   },
   {
    "duration": 98,
    "start_time": "2023-08-31T07:48:23.333Z"
   },
   {
    "duration": 54,
    "start_time": "2023-08-31T07:48:23.434Z"
   },
   {
    "duration": 166,
    "start_time": "2023-08-31T07:48:23.490Z"
   },
   {
    "duration": 12,
    "start_time": "2023-08-31T07:48:23.658Z"
   },
   {
    "duration": 3,
    "start_time": "2023-08-31T07:48:23.671Z"
   },
   {
    "duration": 4051,
    "start_time": "2023-08-31T07:48:23.676Z"
   },
   {
    "duration": 759,
    "start_time": "2023-08-31T07:48:27.729Z"
   },
   {
    "duration": 87,
    "start_time": "2023-08-31T07:48:28.490Z"
   },
   {
    "duration": 134,
    "start_time": "2023-08-31T07:48:28.578Z"
   },
   {
    "duration": 902,
    "start_time": "2023-08-31T07:48:28.713Z"
   },
   {
    "duration": 788,
    "start_time": "2023-08-31T07:48:29.616Z"
   },
   {
    "duration": 1760,
    "start_time": "2023-08-31T07:48:30.407Z"
   },
   {
    "duration": 10,
    "start_time": "2023-08-31T07:48:32.169Z"
   },
   {
    "duration": 61,
    "start_time": "2023-08-31T07:48:32.180Z"
   },
   {
    "duration": 8,
    "start_time": "2023-08-31T07:48:32.243Z"
   },
   {
    "duration": 43,
    "start_time": "2023-08-31T07:48:32.252Z"
   },
   {
    "duration": 67,
    "start_time": "2023-08-31T07:48:32.297Z"
   },
   {
    "duration": 6,
    "start_time": "2023-08-31T07:48:32.366Z"
   },
   {
    "duration": 63,
    "start_time": "2023-08-31T07:48:32.373Z"
   },
   {
    "duration": 17,
    "start_time": "2023-08-31T07:48:32.438Z"
   },
   {
    "duration": 55,
    "start_time": "2023-08-31T07:48:32.457Z"
   },
   {
    "duration": 341,
    "start_time": "2023-08-31T07:48:32.514Z"
   },
   {
    "duration": 198,
    "start_time": "2023-08-31T07:48:32.856Z"
   },
   {
    "duration": 190,
    "start_time": "2023-08-31T07:48:33.057Z"
   },
   {
    "duration": 165,
    "start_time": "2023-08-31T07:48:33.249Z"
   },
   {
    "duration": 3,
    "start_time": "2023-08-31T07:48:33.415Z"
   },
   {
    "duration": 24,
    "start_time": "2023-08-31T07:48:33.423Z"
   },
   {
    "duration": 54,
    "start_time": "2023-08-31T07:48:33.448Z"
   },
   {
    "duration": 45,
    "start_time": "2023-08-31T07:48:33.504Z"
   },
   {
    "duration": 282,
    "start_time": "2023-08-31T07:48:33.551Z"
   },
   {
    "duration": 257,
    "start_time": "2023-08-31T07:48:33.835Z"
   },
   {
    "duration": 86,
    "start_time": "2023-08-31T07:48:34.093Z"
   },
   {
    "duration": 5,
    "start_time": "2023-08-31T07:48:34.180Z"
   },
   {
    "duration": 83,
    "start_time": "2023-08-31T07:48:34.186Z"
   },
   {
    "duration": 53025,
    "start_time": "2023-08-31T07:48:34.271Z"
   },
   {
    "duration": 35173,
    "start_time": "2023-08-31T07:49:27.298Z"
   },
   {
    "duration": 2,
    "start_time": "2023-08-31T07:50:02.473Z"
   },
   {
    "duration": 25,
    "start_time": "2023-08-31T07:50:02.477Z"
   },
   {
    "duration": 643,
    "start_time": "2023-08-31T07:50:02.504Z"
   },
   {
    "duration": 4,
    "start_time": "2023-08-31T07:50:03.148Z"
   },
   {
    "duration": 42773,
    "start_time": "2023-08-31T07:50:03.153Z"
   },
   {
    "duration": 8,
    "start_time": "2023-08-31T07:50:45.929Z"
   },
   {
    "duration": 208,
    "start_time": "2023-08-31T08:05:00.367Z"
   },
   {
    "duration": 11,
    "start_time": "2023-08-31T08:06:08.272Z"
   },
   {
    "duration": 4,
    "start_time": "2023-08-31T08:09:09.841Z"
   },
   {
    "duration": 160,
    "start_time": "2023-08-31T08:20:15.858Z"
   },
   {
    "duration": 3,
    "start_time": "2023-08-31T08:20:23.243Z"
   },
   {
    "duration": 18,
    "start_time": "2023-08-31T08:20:23.758Z"
   },
   {
    "duration": 4,
    "start_time": "2023-08-31T08:21:50.383Z"
   },
   {
    "duration": 2021,
    "start_time": "2023-08-31T08:21:51.024Z"
   },
   {
    "duration": 3,
    "start_time": "2023-08-31T08:22:11.107Z"
   },
   {
    "duration": 61268,
    "start_time": "2023-08-31T08:22:11.765Z"
   },
   {
    "duration": 9,
    "start_time": "2023-08-31T08:25:33.865Z"
   },
   {
    "duration": 16,
    "start_time": "2023-08-31T08:25:43.176Z"
   },
   {
    "duration": 11,
    "start_time": "2023-08-31T08:25:50.299Z"
   },
   {
    "duration": 795,
    "start_time": "2023-08-31T08:25:58.677Z"
   },
   {
    "duration": 4,
    "start_time": "2023-08-31T08:32:21.869Z"
   },
   {
    "duration": 5,
    "start_time": "2023-08-31T08:32:33.588Z"
   },
   {
    "duration": 382,
    "start_time": "2023-08-31T08:36:37.366Z"
   },
   {
    "duration": 108,
    "start_time": "2023-08-31T08:37:01.954Z"
   },
   {
    "duration": 843601,
    "start_time": "2023-08-31T08:37:31.771Z"
   },
   {
    "duration": 25,
    "start_time": "2023-08-31T08:51:35.375Z"
   },
   {
    "duration": 0,
    "start_time": "2023-08-31T08:51:35.402Z"
   },
   {
    "duration": 9,
    "start_time": "2023-08-31T08:51:47.212Z"
   },
   {
    "duration": 27598,
    "start_time": "2023-08-31T08:51:59.829Z"
   },
   {
    "duration": 4,
    "start_time": "2023-08-31T08:53:10.692Z"
   },
   {
    "duration": 13,
    "start_time": "2023-08-31T08:53:16.553Z"
   },
   {
    "duration": 11,
    "start_time": "2023-08-31T08:54:35.764Z"
   },
   {
    "duration": 8,
    "start_time": "2023-08-31T08:54:45.145Z"
   },
   {
    "duration": 27,
    "start_time": "2023-08-31T08:55:01.842Z"
   },
   {
    "duration": 4874,
    "start_time": "2023-08-31T08:55:14.567Z"
   },
   {
    "duration": 4876,
    "start_time": "2023-08-31T08:55:30.068Z"
   },
   {
    "duration": 4817,
    "start_time": "2023-08-31T08:56:02.351Z"
   },
   {
    "duration": 5041,
    "start_time": "2023-08-31T09:00:02.292Z"
   },
   {
    "duration": 9,
    "start_time": "2023-08-31T09:00:10.449Z"
   },
   {
    "duration": 8,
    "start_time": "2023-08-31T09:00:14.151Z"
   },
   {
    "duration": 4,
    "start_time": "2023-08-31T09:00:18.892Z"
   },
   {
    "duration": 6,
    "start_time": "2023-08-31T09:04:29.014Z"
   },
   {
    "duration": 6,
    "start_time": "2023-08-31T09:06:21.934Z"
   },
   {
    "duration": 5,
    "start_time": "2023-08-31T10:02:52.466Z"
   },
   {
    "duration": 5,
    "start_time": "2023-08-31T10:09:56.326Z"
   },
   {
    "duration": 85826,
    "start_time": "2023-08-31T10:11:13.514Z"
   },
   {
    "duration": 4,
    "start_time": "2023-08-31T10:12:39.341Z"
   },
   {
    "duration": 0,
    "start_time": "2023-08-31T10:21:42.133Z"
   },
   {
    "duration": 0,
    "start_time": "2023-08-31T10:21:42.135Z"
   },
   {
    "duration": 0,
    "start_time": "2023-08-31T10:21:42.136Z"
   },
   {
    "duration": 0,
    "start_time": "2023-08-31T10:21:42.138Z"
   },
   {
    "duration": 0,
    "start_time": "2023-08-31T10:21:42.139Z"
   },
   {
    "duration": 0,
    "start_time": "2023-08-31T10:21:42.140Z"
   },
   {
    "duration": 26092,
    "start_time": "2023-08-31T10:21:49.636Z"
   },
   {
    "duration": 2054362,
    "start_time": "2023-08-31T10:22:31.781Z"
   },
   {
    "duration": 8,
    "start_time": "2023-08-31T11:09:18.109Z"
   },
   {
    "duration": 12005,
    "start_time": "2023-08-31T11:09:29.051Z"
   },
   {
    "duration": 11996,
    "start_time": "2023-08-31T11:09:45.050Z"
   },
   {
    "duration": 4,
    "start_time": "2023-08-31T11:09:57.048Z"
   },
   {
    "duration": 120,
    "start_time": "2023-08-31T11:09:57.053Z"
   },
   {
    "duration": 60092,
    "start_time": "2023-08-31T11:11:19.540Z"
   },
   {
    "duration": 11,
    "start_time": "2023-08-31T11:36:03.060Z"
   },
   {
    "duration": 25559,
    "start_time": "2023-08-31T11:36:11.970Z"
   },
   {
    "duration": 4,
    "start_time": "2023-08-31T11:36:37.531Z"
   },
   {
    "duration": 6,
    "start_time": "2023-08-31T11:36:37.537Z"
   },
   {
    "duration": 8,
    "start_time": "2023-08-31T11:36:37.544Z"
   },
   {
    "duration": 110,
    "start_time": "2023-08-31T11:37:10.962Z"
   },
   {
    "duration": 5,
    "start_time": "2023-08-31T11:37:14.361Z"
   },
   {
    "duration": 5,
    "start_time": "2023-08-31T11:37:16.671Z"
   },
   {
    "duration": 4,
    "start_time": "2023-08-31T11:50:24.868Z"
   },
   {
    "duration": 3,
    "start_time": "2023-08-31T12:00:18.033Z"
   },
   {
    "duration": 4,
    "start_time": "2023-08-31T12:05:56.680Z"
   },
   {
    "duration": 13,
    "start_time": "2023-08-31T12:08:01.553Z"
   },
   {
    "duration": 4,
    "start_time": "2023-08-31T12:08:07.309Z"
   },
   {
    "duration": 10,
    "start_time": "2023-08-31T12:16:01.183Z"
   },
   {
    "duration": 5,
    "start_time": "2023-08-31T12:16:10.376Z"
   },
   {
    "duration": 12,
    "start_time": "2023-08-31T12:22:37.276Z"
   },
   {
    "duration": 4,
    "start_time": "2023-08-31T12:24:06.756Z"
   },
   {
    "duration": 12,
    "start_time": "2023-08-31T12:24:12.934Z"
   },
   {
    "duration": 5,
    "start_time": "2023-08-31T12:24:56.339Z"
   },
   {
    "duration": 5,
    "start_time": "2023-08-31T12:24:59.755Z"
   },
   {
    "duration": 10,
    "start_time": "2023-08-31T12:25:04.273Z"
   },
   {
    "duration": 3,
    "start_time": "2023-08-31T12:25:08.827Z"
   },
   {
    "duration": 2,
    "start_time": "2023-08-31T12:25:14.008Z"
   },
   {
    "duration": 3008,
    "start_time": "2023-08-31T12:25:14.894Z"
   },
   {
    "duration": 403775,
    "start_time": "2023-08-31T12:26:43.274Z"
   },
   {
    "duration": 1875,
    "start_time": "2023-08-31T14:34:27.589Z"
   },
   {
    "duration": 12,
    "start_time": "2023-08-31T14:34:40.760Z"
   },
   {
    "duration": 37,
    "start_time": "2023-08-31T14:34:40.776Z"
   },
   {
    "duration": 1383,
    "start_time": "2023-08-31T14:34:40.815Z"
   },
   {
    "duration": 208,
    "start_time": "2023-08-31T14:34:42.201Z"
   },
   {
    "duration": 129,
    "start_time": "2023-08-31T14:34:42.412Z"
   },
   {
    "duration": 16,
    "start_time": "2023-08-31T14:34:42.546Z"
   },
   {
    "duration": 70,
    "start_time": "2023-08-31T14:34:42.565Z"
   },
   {
    "duration": 66,
    "start_time": "2023-08-31T14:34:42.646Z"
   },
   {
    "duration": 79,
    "start_time": "2023-08-31T14:34:42.714Z"
   },
   {
    "duration": 70,
    "start_time": "2023-08-31T14:34:42.795Z"
   },
   {
    "duration": 13,
    "start_time": "2023-08-31T14:34:42.868Z"
   },
   {
    "duration": 44,
    "start_time": "2023-08-31T14:34:42.883Z"
   },
   {
    "duration": 16,
    "start_time": "2023-08-31T14:34:42.930Z"
   },
   {
    "duration": 8,
    "start_time": "2023-08-31T14:34:42.951Z"
   },
   {
    "duration": 4,
    "start_time": "2023-08-31T14:34:42.961Z"
   },
   {
    "duration": 129,
    "start_time": "2023-08-31T14:34:42.968Z"
   },
   {
    "duration": 84,
    "start_time": "2023-08-31T14:34:43.099Z"
   },
   {
    "duration": 176,
    "start_time": "2023-08-31T14:34:43.185Z"
   },
   {
    "duration": 14,
    "start_time": "2023-08-31T14:34:43.363Z"
   },
   {
    "duration": 3,
    "start_time": "2023-08-31T14:34:43.379Z"
   },
   {
    "duration": 5092,
    "start_time": "2023-08-31T14:34:43.383Z"
   },
   {
    "duration": 981,
    "start_time": "2023-08-31T14:34:48.477Z"
   },
   {
    "duration": 110,
    "start_time": "2023-08-31T14:34:49.460Z"
   },
   {
    "duration": 152,
    "start_time": "2023-08-31T14:34:49.572Z"
   },
   {
    "duration": 1175,
    "start_time": "2023-08-31T14:34:49.726Z"
   },
   {
    "duration": 999,
    "start_time": "2023-08-31T14:34:50.904Z"
   },
   {
    "duration": 2489,
    "start_time": "2023-08-31T14:34:51.905Z"
   },
   {
    "duration": 13,
    "start_time": "2023-08-31T14:34:54.396Z"
   },
   {
    "duration": 48,
    "start_time": "2023-08-31T14:34:54.411Z"
   },
   {
    "duration": 12,
    "start_time": "2023-08-31T14:34:54.462Z"
   },
   {
    "duration": 20,
    "start_time": "2023-08-31T14:34:54.476Z"
   },
   {
    "duration": 40,
    "start_time": "2023-08-31T14:34:54.498Z"
   },
   {
    "duration": 14,
    "start_time": "2023-08-31T14:34:54.540Z"
   },
   {
    "duration": 64,
    "start_time": "2023-08-31T14:34:54.556Z"
   },
   {
    "duration": 4,
    "start_time": "2023-08-31T14:34:54.622Z"
   },
   {
    "duration": 25,
    "start_time": "2023-08-31T14:34:54.627Z"
   },
   {
    "duration": 335,
    "start_time": "2023-08-31T14:34:54.654Z"
   },
   {
    "duration": 256,
    "start_time": "2023-08-31T14:34:54.991Z"
   },
   {
    "duration": 273,
    "start_time": "2023-08-31T14:34:55.249Z"
   },
   {
    "duration": 229,
    "start_time": "2023-08-31T14:34:55.524Z"
   },
   {
    "duration": 14,
    "start_time": "2023-08-31T14:34:55.759Z"
   },
   {
    "duration": 14,
    "start_time": "2023-08-31T14:34:55.775Z"
   },
   {
    "duration": 40,
    "start_time": "2023-08-31T14:34:55.791Z"
   },
   {
    "duration": 45,
    "start_time": "2023-08-31T14:34:55.833Z"
   },
   {
    "duration": 359,
    "start_time": "2023-08-31T14:34:55.880Z"
   },
   {
    "duration": 293,
    "start_time": "2023-08-31T14:34:56.247Z"
   },
   {
    "duration": 106,
    "start_time": "2023-08-31T14:34:56.548Z"
   },
   {
    "duration": 16,
    "start_time": "2023-08-31T14:34:56.657Z"
   },
   {
    "duration": 76,
    "start_time": "2023-08-31T14:34:56.677Z"
   },
   {
    "duration": 71015,
    "start_time": "2023-08-31T14:34:56.757Z"
   },
   {
    "duration": 50986,
    "start_time": "2023-08-31T14:36:07.774Z"
   },
   {
    "duration": 5,
    "start_time": "2023-08-31T14:36:58.768Z"
   },
   {
    "duration": 11,
    "start_time": "2023-08-31T14:36:58.777Z"
   },
   {
    "duration": 653,
    "start_time": "2023-08-31T14:36:58.790Z"
   },
   {
    "duration": 17,
    "start_time": "2023-08-31T14:36:59.445Z"
   },
   {
    "duration": 165899,
    "start_time": "2023-08-31T14:36:59.464Z"
   },
   {
    "duration": 84,
    "start_time": "2023-08-31T14:39:45.366Z"
   },
   {
    "duration": 264,
    "start_time": "2023-08-31T14:45:07.642Z"
   },
   {
    "duration": 3,
    "start_time": "2023-08-31T14:45:10.881Z"
   },
   {
    "duration": 2,
    "start_time": "2023-08-31T14:45:11.093Z"
   },
   {
    "duration": 3,
    "start_time": "2023-08-31T14:45:11.282Z"
   },
   {
    "duration": 487847,
    "start_time": "2023-08-31T14:45:11.632Z"
   },
   {
    "duration": 35969,
    "start_time": "2023-08-31T14:53:19.488Z"
   },
   {
    "duration": 5,
    "start_time": "2023-08-31T14:53:55.547Z"
   },
   {
    "duration": 3,
    "start_time": "2023-08-31T14:57:28.762Z"
   },
   {
    "duration": 3,
    "start_time": "2023-08-31T14:57:38.200Z"
   },
   {
    "duration": 5,
    "start_time": "2023-08-31T14:57:43.176Z"
   },
   {
    "duration": 2,
    "start_time": "2023-08-31T14:58:09.699Z"
   },
   {
    "duration": 7,
    "start_time": "2023-08-31T15:01:44.544Z"
   },
   {
    "duration": 87,
    "start_time": "2023-08-31T15:02:58.528Z"
   },
   {
    "duration": 3,
    "start_time": "2023-08-31T15:03:04.491Z"
   },
   {
    "duration": 569041,
    "start_time": "2023-08-31T15:03:06.415Z"
   },
   {
    "duration": 2,
    "start_time": "2023-08-31T15:19:58.792Z"
   },
   {
    "duration": 41311,
    "start_time": "2023-08-31T15:20:02.959Z"
   },
   {
    "duration": 4,
    "start_time": "2023-08-31T15:20:44.273Z"
   },
   {
    "duration": 8,
    "start_time": "2023-08-31T15:20:44.279Z"
   },
   {
    "duration": 5,
    "start_time": "2023-08-31T15:21:06.293Z"
   },
   {
    "duration": 4,
    "start_time": "2023-08-31T15:21:07.258Z"
   },
   {
    "duration": 3,
    "start_time": "2023-08-31T15:21:26.336Z"
   },
   {
    "duration": 8,
    "start_time": "2023-08-31T15:21:43.689Z"
   },
   {
    "duration": 7,
    "start_time": "2023-08-31T15:43:20.165Z"
   },
   {
    "duration": 7,
    "start_time": "2023-08-31T15:43:34.206Z"
   },
   {
    "duration": 3,
    "start_time": "2023-08-31T15:50:34.602Z"
   },
   {
    "duration": 0,
    "start_time": "2023-08-31T15:52:51.201Z"
   },
   {
    "duration": 0,
    "start_time": "2023-08-31T15:52:51.234Z"
   },
   {
    "duration": 20317,
    "start_time": "2023-08-31T15:52:52.302Z"
   },
   {
    "duration": 92383,
    "start_time": "2023-08-31T15:53:14.329Z"
   },
   {
    "duration": 864,
    "start_time": "2023-08-31T15:55:20.499Z"
   },
   {
    "duration": 907,
    "start_time": "2023-08-31T15:55:47.085Z"
   },
   {
    "duration": 5,
    "start_time": "2023-08-31T15:56:39.019Z"
   },
   {
    "duration": 9,
    "start_time": "2023-08-31T15:57:35.063Z"
   },
   {
    "duration": 5,
    "start_time": "2023-08-31T15:57:50.037Z"
   },
   {
    "duration": 1647,
    "start_time": "2023-08-31T19:52:34.067Z"
   },
   {
    "duration": 1611,
    "start_time": "2023-09-01T19:16:58.482Z"
   },
   {
    "duration": 44,
    "start_time": "2023-09-01T19:17:00.096Z"
   },
   {
    "duration": 2897,
    "start_time": "2023-09-01T19:17:00.142Z"
   },
   {
    "duration": 146,
    "start_time": "2023-09-01T19:17:03.040Z"
   },
   {
    "duration": 149,
    "start_time": "2023-09-01T19:17:03.188Z"
   },
   {
    "duration": 6,
    "start_time": "2023-09-01T19:17:03.339Z"
   },
   {
    "duration": 78,
    "start_time": "2023-09-01T19:17:03.346Z"
   },
   {
    "duration": 52,
    "start_time": "2023-09-01T19:17:03.426Z"
   },
   {
    "duration": 46,
    "start_time": "2023-09-01T19:17:03.480Z"
   },
   {
    "duration": 56,
    "start_time": "2023-09-01T19:17:03.528Z"
   },
   {
    "duration": 18,
    "start_time": "2023-09-01T19:17:03.585Z"
   },
   {
    "duration": 119,
    "start_time": "2023-09-01T19:17:03.605Z"
   },
   {
    "duration": 46,
    "start_time": "2023-09-01T19:17:03.726Z"
   },
   {
    "duration": 18,
    "start_time": "2023-09-01T19:17:03.776Z"
   },
   {
    "duration": 42,
    "start_time": "2023-09-01T19:17:03.795Z"
   },
   {
    "duration": 93,
    "start_time": "2023-09-01T19:17:03.839Z"
   },
   {
    "duration": 56,
    "start_time": "2023-09-01T19:17:03.934Z"
   },
   {
    "duration": 194,
    "start_time": "2023-09-01T19:17:03.992Z"
   },
   {
    "duration": 14,
    "start_time": "2023-09-01T19:17:04.188Z"
   },
   {
    "duration": 31,
    "start_time": "2023-09-01T19:17:04.205Z"
   },
   {
    "duration": 4101,
    "start_time": "2023-09-01T19:17:04.238Z"
   },
   {
    "duration": 713,
    "start_time": "2023-09-01T19:17:08.344Z"
   },
   {
    "duration": 86,
    "start_time": "2023-09-01T19:17:09.059Z"
   },
   {
    "duration": 136,
    "start_time": "2023-09-01T19:17:09.147Z"
   },
   {
    "duration": 860,
    "start_time": "2023-09-01T19:17:09.285Z"
   },
   {
    "duration": 775,
    "start_time": "2023-09-01T19:17:10.147Z"
   },
   {
    "duration": 1764,
    "start_time": "2023-09-01T19:17:10.924Z"
   },
   {
    "duration": 12,
    "start_time": "2023-09-01T19:17:12.689Z"
   },
   {
    "duration": 42,
    "start_time": "2023-09-01T19:17:12.702Z"
   },
   {
    "duration": 8,
    "start_time": "2023-09-01T19:17:12.746Z"
   },
   {
    "duration": 4,
    "start_time": "2023-09-01T19:17:12.756Z"
   },
   {
    "duration": 26,
    "start_time": "2023-09-01T19:17:12.761Z"
   },
   {
    "duration": 4,
    "start_time": "2023-09-01T19:17:32.867Z"
   },
   {
    "duration": 4,
    "start_time": "2023-09-01T19:19:24.931Z"
   },
   {
    "duration": 9,
    "start_time": "2023-09-01T19:21:46.696Z"
   },
   {
    "duration": 23,
    "start_time": "2023-09-01T19:21:55.594Z"
   },
   {
    "duration": 12,
    "start_time": "2023-09-01T19:26:13.371Z"
   },
   {
    "duration": 11,
    "start_time": "2023-09-01T19:26:20.561Z"
   },
   {
    "duration": 14,
    "start_time": "2023-09-01T19:26:24.284Z"
   },
   {
    "duration": 120,
    "start_time": "2023-09-01T21:27:44.990Z"
   },
   {
    "duration": 105,
    "start_time": "2023-09-01T21:28:05.065Z"
   },
   {
    "duration": 100,
    "start_time": "2023-09-01T21:28:16.106Z"
   },
   {
    "duration": 11,
    "start_time": "2023-09-01T21:28:39.760Z"
   },
   {
    "duration": 10,
    "start_time": "2023-09-01T21:28:43.258Z"
   },
   {
    "duration": 10,
    "start_time": "2023-09-01T21:28:45.492Z"
   },
   {
    "duration": 10,
    "start_time": "2023-09-01T21:28:47.448Z"
   },
   {
    "duration": 11,
    "start_time": "2023-09-01T21:28:52.686Z"
   },
   {
    "duration": 13,
    "start_time": "2023-09-01T21:29:04.093Z"
   },
   {
    "duration": 20,
    "start_time": "2023-09-01T21:31:49.202Z"
   },
   {
    "duration": 164,
    "start_time": "2023-09-01T21:35:58.046Z"
   },
   {
    "duration": 15023,
    "start_time": "2023-09-01T21:36:33.357Z"
   },
   {
    "duration": 20426,
    "start_time": "2023-09-01T21:36:48.382Z"
   },
   {
    "duration": 1985,
    "start_time": "2023-09-02T07:02:47.376Z"
   },
   {
    "duration": 44,
    "start_time": "2023-09-02T07:02:49.363Z"
   },
   {
    "duration": 1411,
    "start_time": "2023-09-02T07:02:49.409Z"
   },
   {
    "duration": 165,
    "start_time": "2023-09-02T07:02:50.825Z"
   },
   {
    "duration": 173,
    "start_time": "2023-09-02T07:02:50.992Z"
   },
   {
    "duration": 5,
    "start_time": "2023-09-02T07:02:51.167Z"
   },
   {
    "duration": 109,
    "start_time": "2023-09-02T07:02:51.173Z"
   },
   {
    "duration": 57,
    "start_time": "2023-09-02T07:02:51.283Z"
   },
   {
    "duration": 47,
    "start_time": "2023-09-02T07:02:51.342Z"
   },
   {
    "duration": 54,
    "start_time": "2023-09-02T07:02:51.411Z"
   },
   {
    "duration": 26,
    "start_time": "2023-09-02T07:02:51.467Z"
   },
   {
    "duration": 61,
    "start_time": "2023-09-02T07:02:51.495Z"
   },
   {
    "duration": 28,
    "start_time": "2023-09-02T07:02:51.559Z"
   },
   {
    "duration": 34,
    "start_time": "2023-09-02T07:02:51.589Z"
   },
   {
    "duration": 4,
    "start_time": "2023-09-02T07:02:51.633Z"
   },
   {
    "duration": 125,
    "start_time": "2023-09-02T07:02:51.638Z"
   },
   {
    "duration": 86,
    "start_time": "2023-09-02T07:02:51.766Z"
   },
   {
    "duration": 187,
    "start_time": "2023-09-02T07:02:51.854Z"
   },
   {
    "duration": 12,
    "start_time": "2023-09-02T07:02:52.043Z"
   },
   {
    "duration": 3,
    "start_time": "2023-09-02T07:02:52.056Z"
   },
   {
    "duration": 6377,
    "start_time": "2023-09-02T07:02:52.060Z"
   },
   {
    "duration": 920,
    "start_time": "2023-09-02T07:02:58.439Z"
   },
   {
    "duration": 123,
    "start_time": "2023-09-02T07:02:59.362Z"
   },
   {
    "duration": 170,
    "start_time": "2023-09-02T07:02:59.486Z"
   },
   {
    "duration": 1049,
    "start_time": "2023-09-02T07:02:59.658Z"
   },
   {
    "duration": 919,
    "start_time": "2023-09-02T07:03:00.713Z"
   },
   {
    "duration": 2031,
    "start_time": "2023-09-02T07:03:01.634Z"
   },
   {
    "duration": 12,
    "start_time": "2023-09-02T07:03:03.668Z"
   },
   {
    "duration": 42,
    "start_time": "2023-09-02T07:03:03.682Z"
   },
   {
    "duration": 8,
    "start_time": "2023-09-02T07:03:03.726Z"
   },
   {
    "duration": 6,
    "start_time": "2023-09-02T07:03:03.736Z"
   },
   {
    "duration": 35,
    "start_time": "2023-09-02T07:03:03.744Z"
   },
   {
    "duration": 20,
    "start_time": "2023-09-02T07:03:03.783Z"
   },
   {
    "duration": 25,
    "start_time": "2023-09-02T07:03:03.805Z"
   },
   {
    "duration": 7,
    "start_time": "2023-09-02T07:03:03.832Z"
   },
   {
    "duration": 130,
    "start_time": "2023-09-02T07:03:03.840Z"
   },
   {
    "duration": 12,
    "start_time": "2023-09-02T07:03:03.972Z"
   },
   {
    "duration": 33,
    "start_time": "2023-09-02T07:03:03.986Z"
   },
   {
    "duration": 33,
    "start_time": "2023-09-02T07:03:04.021Z"
   },
   {
    "duration": 4,
    "start_time": "2023-09-02T07:03:04.056Z"
   },
   {
    "duration": 27,
    "start_time": "2023-09-02T07:03:04.062Z"
   },
   {
    "duration": 441,
    "start_time": "2023-09-02T07:03:04.092Z"
   },
   {
    "duration": 293,
    "start_time": "2023-09-02T07:03:04.536Z"
   },
   {
    "duration": 194,
    "start_time": "2023-09-02T07:03:04.831Z"
   },
   {
    "duration": 167,
    "start_time": "2023-09-02T07:03:05.027Z"
   },
   {
    "duration": 14,
    "start_time": "2023-09-02T07:03:05.196Z"
   },
   {
    "duration": 10,
    "start_time": "2023-09-02T07:03:05.211Z"
   },
   {
    "duration": 24,
    "start_time": "2023-09-02T07:03:05.223Z"
   },
   {
    "duration": 35,
    "start_time": "2023-09-02T07:03:05.249Z"
   },
   {
    "duration": 299,
    "start_time": "2023-09-02T07:03:05.286Z"
   },
   {
    "duration": 272,
    "start_time": "2023-09-02T07:03:05.587Z"
   },
   {
    "duration": 17569,
    "start_time": "2023-09-02T07:03:05.861Z"
   },
   {
    "duration": 24740,
    "start_time": "2023-09-02T07:03:23.432Z"
   },
   {
    "duration": 193,
    "start_time": "2023-09-02T08:10:29.575Z"
   },
   {
    "duration": 3327,
    "start_time": "2023-09-02T08:10:49.591Z"
   },
   {
    "duration": 92,
    "start_time": "2023-09-02T08:11:06.198Z"
   },
   {
    "duration": 93,
    "start_time": "2023-09-02T08:13:10.525Z"
   },
   {
    "duration": 134,
    "start_time": "2023-09-02T08:14:31.394Z"
   },
   {
    "duration": 9,
    "start_time": "2023-09-02T08:14:33.326Z"
   },
   {
    "duration": 1663,
    "start_time": "2023-09-02T08:14:45.286Z"
   },
   {
    "duration": 1909,
    "start_time": "2023-09-02T08:15:33.797Z"
   },
   {
    "duration": 23,
    "start_time": "2023-09-02T08:15:44.273Z"
   },
   {
    "duration": 979,
    "start_time": "2023-09-02T08:17:20.436Z"
   },
   {
    "duration": 1310,
    "start_time": "2023-09-02T08:17:29.060Z"
   },
   {
    "duration": 14,
    "start_time": "2023-09-02T08:17:33.744Z"
   },
   {
    "duration": 1593,
    "start_time": "2023-09-02T08:19:42.615Z"
   },
   {
    "duration": 1356,
    "start_time": "2023-09-02T08:19:44.215Z"
   },
   {
    "duration": 14,
    "start_time": "2023-09-02T08:19:45.573Z"
   },
   {
    "duration": 3,
    "start_time": "2023-09-02T08:20:10.021Z"
   },
   {
    "duration": 3,
    "start_time": "2023-09-02T08:20:10.419Z"
   },
   {
    "duration": 66,
    "start_time": "2023-09-02T08:21:38.175Z"
   },
   {
    "duration": 0,
    "start_time": "2023-09-02T08:23:19.879Z"
   },
   {
    "duration": 1,
    "start_time": "2023-09-02T08:23:19.879Z"
   },
   {
    "duration": 0,
    "start_time": "2023-09-02T08:23:19.880Z"
   },
   {
    "duration": 0,
    "start_time": "2023-09-02T08:23:19.881Z"
   },
   {
    "duration": 0,
    "start_time": "2023-09-02T08:23:19.882Z"
   },
   {
    "duration": 0,
    "start_time": "2023-09-02T08:23:19.884Z"
   },
   {
    "duration": 0,
    "start_time": "2023-09-02T08:23:19.902Z"
   },
   {
    "duration": 0,
    "start_time": "2023-09-02T08:23:19.903Z"
   },
   {
    "duration": 0,
    "start_time": "2023-09-02T08:23:19.904Z"
   },
   {
    "duration": 0,
    "start_time": "2023-09-02T08:23:19.904Z"
   },
   {
    "duration": 0,
    "start_time": "2023-09-02T08:23:19.905Z"
   },
   {
    "duration": 0,
    "start_time": "2023-09-02T08:23:19.906Z"
   },
   {
    "duration": 0,
    "start_time": "2023-09-02T08:23:19.907Z"
   },
   {
    "duration": 0,
    "start_time": "2023-09-02T08:23:19.908Z"
   },
   {
    "duration": 0,
    "start_time": "2023-09-02T08:23:19.909Z"
   },
   {
    "duration": 0,
    "start_time": "2023-09-02T08:23:19.909Z"
   },
   {
    "duration": 0,
    "start_time": "2023-09-02T08:23:19.911Z"
   },
   {
    "duration": 0,
    "start_time": "2023-09-02T08:23:19.913Z"
   },
   {
    "duration": 0,
    "start_time": "2023-09-02T08:23:19.914Z"
   },
   {
    "duration": 0,
    "start_time": "2023-09-02T08:23:19.915Z"
   },
   {
    "duration": 0,
    "start_time": "2023-09-02T08:23:19.917Z"
   },
   {
    "duration": 0,
    "start_time": "2023-09-02T08:23:19.918Z"
   },
   {
    "duration": 0,
    "start_time": "2023-09-02T08:23:19.919Z"
   },
   {
    "duration": 0,
    "start_time": "2023-09-02T08:23:19.920Z"
   },
   {
    "duration": 0,
    "start_time": "2023-09-02T08:23:19.921Z"
   },
   {
    "duration": 0,
    "start_time": "2023-09-02T08:23:19.923Z"
   },
   {
    "duration": 0,
    "start_time": "2023-09-02T08:23:19.924Z"
   },
   {
    "duration": 0,
    "start_time": "2023-09-02T08:23:19.925Z"
   },
   {
    "duration": 0,
    "start_time": "2023-09-02T08:23:19.926Z"
   },
   {
    "duration": 0,
    "start_time": "2023-09-02T08:23:19.927Z"
   },
   {
    "duration": 0,
    "start_time": "2023-09-02T08:23:19.928Z"
   },
   {
    "duration": 0,
    "start_time": "2023-09-02T08:23:19.929Z"
   },
   {
    "duration": 0,
    "start_time": "2023-09-02T08:23:19.931Z"
   },
   {
    "duration": 0,
    "start_time": "2023-09-02T08:23:19.934Z"
   },
   {
    "duration": 0,
    "start_time": "2023-09-02T08:23:19.936Z"
   },
   {
    "duration": 0,
    "start_time": "2023-09-02T08:23:19.936Z"
   },
   {
    "duration": 0,
    "start_time": "2023-09-02T08:23:19.937Z"
   },
   {
    "duration": 0,
    "start_time": "2023-09-02T08:23:19.938Z"
   },
   {
    "duration": 0,
    "start_time": "2023-09-02T08:23:19.939Z"
   },
   {
    "duration": 0,
    "start_time": "2023-09-02T08:23:19.941Z"
   },
   {
    "duration": 0,
    "start_time": "2023-09-02T08:23:19.941Z"
   },
   {
    "duration": 0,
    "start_time": "2023-09-02T08:23:19.943Z"
   },
   {
    "duration": 0,
    "start_time": "2023-09-02T08:23:19.944Z"
   },
   {
    "duration": 0,
    "start_time": "2023-09-02T08:23:20.003Z"
   },
   {
    "duration": 0,
    "start_time": "2023-09-02T08:23:20.009Z"
   },
   {
    "duration": 0,
    "start_time": "2023-09-02T08:23:20.011Z"
   },
   {
    "duration": 0,
    "start_time": "2023-09-02T08:23:20.016Z"
   },
   {
    "duration": 0,
    "start_time": "2023-09-02T08:23:20.020Z"
   },
   {
    "duration": 0,
    "start_time": "2023-09-02T08:23:20.022Z"
   },
   {
    "duration": 0,
    "start_time": "2023-09-02T08:23:20.023Z"
   },
   {
    "duration": 0,
    "start_time": "2023-09-02T08:23:20.025Z"
   },
   {
    "duration": 0,
    "start_time": "2023-09-02T08:23:20.027Z"
   },
   {
    "duration": 0,
    "start_time": "2023-09-02T08:23:20.028Z"
   },
   {
    "duration": 0,
    "start_time": "2023-09-02T08:23:20.030Z"
   },
   {
    "duration": 0,
    "start_time": "2023-09-02T08:23:20.032Z"
   },
   {
    "duration": 0,
    "start_time": "2023-09-02T08:23:20.033Z"
   },
   {
    "duration": 0,
    "start_time": "2023-09-02T08:23:20.035Z"
   },
   {
    "duration": 0,
    "start_time": "2023-09-02T08:23:20.036Z"
   },
   {
    "duration": 0,
    "start_time": "2023-09-02T08:23:20.038Z"
   },
   {
    "duration": 0,
    "start_time": "2023-09-02T08:23:20.039Z"
   },
   {
    "duration": 0,
    "start_time": "2023-09-02T08:23:20.041Z"
   },
   {
    "duration": 0,
    "start_time": "2023-09-02T08:23:20.042Z"
   },
   {
    "duration": 0,
    "start_time": "2023-09-02T08:23:20.043Z"
   },
   {
    "duration": 0,
    "start_time": "2023-09-02T08:23:20.045Z"
   },
   {
    "duration": 0,
    "start_time": "2023-09-02T08:23:20.046Z"
   },
   {
    "duration": 0,
    "start_time": "2023-09-02T08:23:20.048Z"
   },
   {
    "duration": 0,
    "start_time": "2023-09-02T08:23:20.049Z"
   },
   {
    "duration": 1,
    "start_time": "2023-09-02T08:23:20.103Z"
   },
   {
    "duration": 0,
    "start_time": "2023-09-02T08:23:20.104Z"
   },
   {
    "duration": 0,
    "start_time": "2023-09-02T08:23:20.105Z"
   },
   {
    "duration": 0,
    "start_time": "2023-09-02T08:23:20.106Z"
   },
   {
    "duration": 2818,
    "start_time": "2023-09-02T08:23:22.309Z"
   },
   {
    "duration": 2733,
    "start_time": "2023-09-02T08:23:45.320Z"
   },
   {
    "duration": 5,
    "start_time": "2023-09-02T08:23:48.056Z"
   },
   {
    "duration": 49,
    "start_time": "2023-09-02T08:23:48.063Z"
   },
   {
    "duration": 1631,
    "start_time": "2023-09-02T08:23:48.115Z"
   },
   {
    "duration": 564,
    "start_time": "2023-09-02T08:23:49.749Z"
   },
   {
    "duration": 222,
    "start_time": "2023-09-02T08:23:50.318Z"
   },
   {
    "duration": 75,
    "start_time": "2023-09-02T08:23:50.542Z"
   },
   {
    "duration": 104,
    "start_time": "2023-09-02T08:23:50.618Z"
   },
   {
    "duration": 102,
    "start_time": "2023-09-02T08:23:50.724Z"
   },
   {
    "duration": 104,
    "start_time": "2023-09-02T08:23:50.828Z"
   },
   {
    "duration": 75,
    "start_time": "2023-09-02T08:23:50.934Z"
   },
   {
    "duration": 6,
    "start_time": "2023-09-02T08:23:51.016Z"
   },
   {
    "duration": 35,
    "start_time": "2023-09-02T08:23:51.024Z"
   },
   {
    "duration": 8,
    "start_time": "2023-09-02T08:23:51.110Z"
   },
   {
    "duration": 25,
    "start_time": "2023-09-02T08:23:51.121Z"
   },
   {
    "duration": 16,
    "start_time": "2023-09-02T08:23:51.148Z"
   },
   {
    "duration": 138,
    "start_time": "2023-09-02T08:23:51.166Z"
   },
   {
    "duration": 61,
    "start_time": "2023-09-02T08:23:51.311Z"
   },
   {
    "duration": 169,
    "start_time": "2023-09-02T08:23:51.374Z"
   },
   {
    "duration": 13,
    "start_time": "2023-09-02T08:23:51.545Z"
   },
   {
    "duration": 14,
    "start_time": "2023-09-02T08:23:51.560Z"
   },
   {
    "duration": 4485,
    "start_time": "2023-09-02T08:23:51.576Z"
   },
   {
    "duration": 873,
    "start_time": "2023-09-02T08:23:56.063Z"
   },
   {
    "duration": 101,
    "start_time": "2023-09-02T08:23:56.938Z"
   },
   {
    "duration": 154,
    "start_time": "2023-09-02T08:23:57.040Z"
   },
   {
    "duration": 901,
    "start_time": "2023-09-02T08:23:57.196Z"
   },
   {
    "duration": 1188,
    "start_time": "2023-09-02T08:23:58.103Z"
   },
   {
    "duration": 1933,
    "start_time": "2023-09-02T08:23:59.292Z"
   },
   {
    "duration": 12,
    "start_time": "2023-09-02T08:24:01.227Z"
   },
   {
    "duration": 42,
    "start_time": "2023-09-02T08:24:01.241Z"
   },
   {
    "duration": 30,
    "start_time": "2023-09-02T08:24:01.285Z"
   },
   {
    "duration": 30,
    "start_time": "2023-09-02T08:24:01.318Z"
   },
   {
    "duration": 106,
    "start_time": "2023-09-02T08:24:01.350Z"
   },
   {
    "duration": 35,
    "start_time": "2023-09-02T08:24:01.457Z"
   },
   {
    "duration": 52,
    "start_time": "2023-09-02T08:24:01.493Z"
   },
   {
    "duration": 52,
    "start_time": "2023-09-02T08:24:01.547Z"
   },
   {
    "duration": 238,
    "start_time": "2023-09-02T08:24:01.601Z"
   },
   {
    "duration": 13,
    "start_time": "2023-09-02T08:24:01.841Z"
   },
   {
    "duration": 213,
    "start_time": "2023-09-02T08:24:01.856Z"
   },
   {
    "duration": 88,
    "start_time": "2023-09-02T08:24:02.072Z"
   },
   {
    "duration": 29,
    "start_time": "2023-09-02T08:24:02.166Z"
   },
   {
    "duration": 138,
    "start_time": "2023-09-02T08:24:02.197Z"
   },
   {
    "duration": 494,
    "start_time": "2023-09-02T08:24:02.336Z"
   },
   {
    "duration": 195,
    "start_time": "2023-09-02T08:24:02.832Z"
   },
   {
    "duration": 190,
    "start_time": "2023-09-02T08:24:03.029Z"
   },
   {
    "duration": 169,
    "start_time": "2023-09-02T08:24:03.221Z"
   },
   {
    "duration": 19,
    "start_time": "2023-09-02T08:24:03.392Z"
   },
   {
    "duration": 14,
    "start_time": "2023-09-02T08:24:03.413Z"
   },
   {
    "duration": 28,
    "start_time": "2023-09-02T08:24:03.429Z"
   },
   {
    "duration": 21,
    "start_time": "2023-09-02T08:24:03.459Z"
   },
   {
    "duration": 275,
    "start_time": "2023-09-02T08:24:03.482Z"
   },
   {
    "duration": 264,
    "start_time": "2023-09-02T08:24:03.759Z"
   },
   {
    "duration": 3263,
    "start_time": "2023-09-02T08:24:04.025Z"
   },
   {
    "duration": 23483,
    "start_time": "2023-09-02T08:24:07.291Z"
   },
   {
    "duration": 172,
    "start_time": "2023-09-02T08:24:30.776Z"
   },
   {
    "duration": 6,
    "start_time": "2023-09-02T08:24:30.950Z"
   },
   {
    "duration": 98,
    "start_time": "2023-09-02T08:24:30.957Z"
   },
   {
    "duration": 2640,
    "start_time": "2023-09-02T08:25:07.994Z"
   },
   {
    "duration": 1708,
    "start_time": "2023-09-02T08:25:10.636Z"
   },
   {
    "duration": 32,
    "start_time": "2023-09-02T08:25:12.347Z"
   },
   {
    "duration": 1410,
    "start_time": "2023-09-02T08:25:12.381Z"
   },
   {
    "duration": 165,
    "start_time": "2023-09-02T08:25:13.794Z"
   },
   {
    "duration": 124,
    "start_time": "2023-09-02T08:25:13.961Z"
   },
   {
    "duration": 6,
    "start_time": "2023-09-02T08:25:14.086Z"
   },
   {
    "duration": 67,
    "start_time": "2023-09-02T08:25:14.104Z"
   },
   {
    "duration": 72,
    "start_time": "2023-09-02T08:25:14.173Z"
   },
   {
    "duration": 204,
    "start_time": "2023-09-02T08:25:14.248Z"
   },
   {
    "duration": 47,
    "start_time": "2023-09-02T08:25:14.454Z"
   },
   {
    "duration": 39,
    "start_time": "2023-09-02T08:25:14.503Z"
   },
   {
    "duration": 27,
    "start_time": "2023-09-02T08:25:14.544Z"
   },
   {
    "duration": 5,
    "start_time": "2023-09-02T08:25:14.576Z"
   },
   {
    "duration": 42,
    "start_time": "2023-09-02T08:25:14.583Z"
   },
   {
    "duration": 14,
    "start_time": "2023-09-02T08:25:14.627Z"
   },
   {
    "duration": 142,
    "start_time": "2023-09-02T08:25:14.643Z"
   },
   {
    "duration": 84,
    "start_time": "2023-09-02T08:25:14.787Z"
   },
   {
    "duration": 192,
    "start_time": "2023-09-02T08:25:14.873Z"
   },
   {
    "duration": 50,
    "start_time": "2023-09-02T08:25:15.067Z"
   },
   {
    "duration": 3,
    "start_time": "2023-09-02T08:25:15.119Z"
   },
   {
    "duration": 4434,
    "start_time": "2023-09-02T08:25:15.124Z"
   },
   {
    "duration": 903,
    "start_time": "2023-09-02T08:25:19.561Z"
   },
   {
    "duration": 107,
    "start_time": "2023-09-02T08:25:20.466Z"
   },
   {
    "duration": 172,
    "start_time": "2023-09-02T08:25:20.575Z"
   },
   {
    "duration": 998,
    "start_time": "2023-09-02T08:25:20.748Z"
   },
   {
    "duration": 892,
    "start_time": "2023-09-02T08:25:21.748Z"
   },
   {
    "duration": 2015,
    "start_time": "2023-09-02T08:25:22.642Z"
   },
   {
    "duration": 14,
    "start_time": "2023-09-02T08:25:24.658Z"
   },
   {
    "duration": 49,
    "start_time": "2023-09-02T08:25:24.675Z"
   },
   {
    "duration": 11,
    "start_time": "2023-09-02T08:25:24.727Z"
   },
   {
    "duration": 7,
    "start_time": "2023-09-02T08:25:24.740Z"
   },
   {
    "duration": 63,
    "start_time": "2023-09-02T08:25:24.749Z"
   },
   {
    "duration": 10,
    "start_time": "2023-09-02T08:25:24.814Z"
   },
   {
    "duration": 18,
    "start_time": "2023-09-02T08:25:24.827Z"
   },
   {
    "duration": 8,
    "start_time": "2023-09-02T08:25:24.848Z"
   },
   {
    "duration": 158,
    "start_time": "2023-09-02T08:25:24.858Z"
   },
   {
    "duration": 12,
    "start_time": "2023-09-02T08:25:25.019Z"
   },
   {
    "duration": 15,
    "start_time": "2023-09-02T08:25:25.034Z"
   },
   {
    "duration": 66,
    "start_time": "2023-09-02T08:25:25.052Z"
   },
   {
    "duration": 3,
    "start_time": "2023-09-02T08:25:25.124Z"
   },
   {
    "duration": 19,
    "start_time": "2023-09-02T08:25:25.128Z"
   },
   {
    "duration": 410,
    "start_time": "2023-09-02T08:25:25.149Z"
   },
   {
    "duration": 178,
    "start_time": "2023-09-02T08:25:25.561Z"
   },
   {
    "duration": 202,
    "start_time": "2023-09-02T08:25:25.741Z"
   },
   {
    "duration": 173,
    "start_time": "2023-09-02T08:25:25.945Z"
   },
   {
    "duration": 5,
    "start_time": "2023-09-02T08:25:26.119Z"
   },
   {
    "duration": 35,
    "start_time": "2023-09-02T08:25:26.125Z"
   },
   {
    "duration": 60,
    "start_time": "2023-09-02T08:25:26.162Z"
   },
   {
    "duration": 27,
    "start_time": "2023-09-02T08:25:26.223Z"
   },
   {
    "duration": 250,
    "start_time": "2023-09-02T08:25:26.252Z"
   },
   {
    "duration": 264,
    "start_time": "2023-09-02T08:25:26.503Z"
   },
   {
    "duration": 3105,
    "start_time": "2023-09-02T08:25:26.769Z"
   },
   {
    "duration": 26603,
    "start_time": "2023-09-02T08:25:29.876Z"
   },
   {
    "duration": 154,
    "start_time": "2023-09-02T08:25:56.481Z"
   },
   {
    "duration": 6,
    "start_time": "2023-09-02T08:25:56.637Z"
   },
   {
    "duration": 103,
    "start_time": "2023-09-02T08:25:56.645Z"
   },
   {
    "duration": 59867,
    "start_time": "2023-09-02T08:25:56.750Z"
   },
   {
    "duration": 40478,
    "start_time": "2023-09-02T08:26:56.620Z"
   },
   {
    "duration": 11,
    "start_time": "2023-09-02T08:27:37.099Z"
   },
   {
    "duration": 1772,
    "start_time": "2023-09-02T08:27:37.114Z"
   },
   {
    "duration": 1343,
    "start_time": "2023-09-02T08:27:38.888Z"
   },
   {
    "duration": 14,
    "start_time": "2023-09-02T08:27:40.233Z"
   },
   {
    "duration": 47,
    "start_time": "2023-09-02T08:27:40.249Z"
   },
   {
    "duration": 583,
    "start_time": "2023-09-02T08:27:40.298Z"
   },
   {
    "duration": 5,
    "start_time": "2023-09-02T08:27:40.883Z"
   },
   {
    "duration": 50714,
    "start_time": "2023-09-02T08:27:40.890Z"
   },
   {
    "duration": 8,
    "start_time": "2023-09-02T08:28:31.606Z"
   },
   {
    "duration": 68,
    "start_time": "2023-09-02T08:28:31.616Z"
   },
   {
    "duration": 2722840,
    "start_time": "2023-09-02T08:28:31.686Z"
   },
   {
    "duration": 4,
    "start_time": "2023-09-02T09:13:54.528Z"
   },
   {
    "duration": 257,
    "start_time": "2023-09-02T09:13:54.534Z"
   },
   {
    "duration": 0,
    "start_time": "2023-09-02T09:13:54.792Z"
   },
   {
    "duration": 0,
    "start_time": "2023-09-02T09:13:54.802Z"
   },
   {
    "duration": 0,
    "start_time": "2023-09-02T09:13:54.804Z"
   },
   {
    "duration": 0,
    "start_time": "2023-09-02T09:13:54.805Z"
   },
   {
    "duration": 0,
    "start_time": "2023-09-02T09:13:54.806Z"
   },
   {
    "duration": 0,
    "start_time": "2023-09-02T09:13:54.807Z"
   },
   {
    "duration": 1,
    "start_time": "2023-09-02T09:13:54.808Z"
   },
   {
    "duration": 1,
    "start_time": "2023-09-02T09:13:54.809Z"
   },
   {
    "duration": 0,
    "start_time": "2023-09-02T09:13:54.810Z"
   },
   {
    "duration": 0,
    "start_time": "2023-09-02T09:13:54.811Z"
   },
   {
    "duration": 0,
    "start_time": "2023-09-02T09:13:54.813Z"
   },
   {
    "duration": 0,
    "start_time": "2023-09-02T09:13:54.814Z"
   },
   {
    "duration": 0,
    "start_time": "2023-09-02T09:13:54.815Z"
   },
   {
    "duration": 0,
    "start_time": "2023-09-02T09:13:54.816Z"
   },
   {
    "duration": 0,
    "start_time": "2023-09-02T09:13:54.818Z"
   },
   {
    "duration": 0,
    "start_time": "2023-09-02T09:13:54.820Z"
   },
   {
    "duration": 0,
    "start_time": "2023-09-02T09:13:54.821Z"
   },
   {
    "duration": 0,
    "start_time": "2023-09-02T09:13:54.823Z"
   },
   {
    "duration": 0,
    "start_time": "2023-09-02T09:13:54.825Z"
   },
   {
    "duration": 0,
    "start_time": "2023-09-02T09:13:54.826Z"
   },
   {
    "duration": 0,
    "start_time": "2023-09-02T09:13:54.827Z"
   },
   {
    "duration": 4,
    "start_time": "2023-09-02T20:59:40.693Z"
   },
   {
    "duration": 3,
    "start_time": "2023-09-02T20:59:57.792Z"
   },
   {
    "duration": 85,
    "start_time": "2023-09-02T21:27:02.539Z"
   },
   {
    "duration": 97,
    "start_time": "2023-09-02T21:27:11.323Z"
   },
   {
    "duration": 14,
    "start_time": "2023-09-02T21:43:58.766Z"
   },
   {
    "duration": 2,
    "start_time": "2023-09-02T21:44:18.894Z"
   },
   {
    "duration": 175,
    "start_time": "2023-09-02T21:48:54.379Z"
   },
   {
    "duration": 6095,
    "start_time": "2023-09-02T21:49:13.966Z"
   },
   {
    "duration": 115053,
    "start_time": "2023-09-02T21:49:27.751Z"
   },
   {
    "duration": 15,
    "start_time": "2023-09-02T21:52:41.767Z"
   },
   {
    "duration": 85,
    "start_time": "2023-09-02T21:52:44.164Z"
   },
   {
    "duration": 12,
    "start_time": "2023-09-02T21:52:45.097Z"
   },
   {
    "duration": 2968,
    "start_time": "2023-09-02T21:52:49.734Z"
   },
   {
    "duration": 28,
    "start_time": "2023-09-02T21:53:05.325Z"
   },
   {
    "duration": 5,
    "start_time": "2023-09-02T21:54:29.873Z"
   },
   {
    "duration": 2,
    "start_time": "2023-09-02T21:55:34.705Z"
   },
   {
    "duration": 2844,
    "start_time": "2023-09-03T08:27:31.339Z"
   },
   {
    "duration": 1787,
    "start_time": "2023-09-03T08:27:34.187Z"
   },
   {
    "duration": 44,
    "start_time": "2023-09-03T08:27:35.976Z"
   },
   {
    "duration": 3070,
    "start_time": "2023-09-03T08:27:36.022Z"
   },
   {
    "duration": 130,
    "start_time": "2023-09-03T08:27:39.094Z"
   },
   {
    "duration": 93,
    "start_time": "2023-09-03T08:27:39.226Z"
   },
   {
    "duration": 5,
    "start_time": "2023-09-03T08:27:39.321Z"
   },
   {
    "duration": 63,
    "start_time": "2023-09-03T08:27:39.327Z"
   },
   {
    "duration": 58,
    "start_time": "2023-09-03T08:27:39.392Z"
   },
   {
    "duration": 45,
    "start_time": "2023-09-03T08:27:39.452Z"
   },
   {
    "duration": 51,
    "start_time": "2023-09-03T08:27:39.498Z"
   },
   {
    "duration": 6,
    "start_time": "2023-09-03T08:27:39.551Z"
   },
   {
    "duration": 31,
    "start_time": "2023-09-03T08:27:39.558Z"
   },
   {
    "duration": 4,
    "start_time": "2023-09-03T08:27:39.590Z"
   },
   {
    "duration": 6,
    "start_time": "2023-09-03T08:27:39.596Z"
   },
   {
    "duration": 10,
    "start_time": "2023-09-03T08:27:39.603Z"
   },
   {
    "duration": 93,
    "start_time": "2023-09-03T08:27:39.615Z"
   },
   {
    "duration": 54,
    "start_time": "2023-09-03T08:27:39.710Z"
   },
   {
    "duration": 129,
    "start_time": "2023-09-03T08:27:39.765Z"
   },
   {
    "duration": 12,
    "start_time": "2023-09-03T08:27:39.895Z"
   },
   {
    "duration": 2,
    "start_time": "2023-09-03T08:27:39.909Z"
   },
   {
    "duration": 3822,
    "start_time": "2023-09-03T08:27:39.913Z"
   },
   {
    "duration": 786,
    "start_time": "2023-09-03T08:27:43.736Z"
   },
   {
    "duration": 81,
    "start_time": "2023-09-03T08:27:44.523Z"
   },
   {
    "duration": 126,
    "start_time": "2023-09-03T08:27:44.606Z"
   },
   {
    "duration": 748,
    "start_time": "2023-09-03T08:27:44.734Z"
   },
   {
    "duration": 728,
    "start_time": "2023-09-03T08:27:45.484Z"
   },
   {
    "duration": 1695,
    "start_time": "2023-09-03T08:27:46.215Z"
   },
   {
    "duration": 11,
    "start_time": "2023-09-03T08:27:47.912Z"
   },
   {
    "duration": 36,
    "start_time": "2023-09-03T08:27:47.925Z"
   },
   {
    "duration": 9,
    "start_time": "2023-09-03T08:27:47.963Z"
   },
   {
    "duration": 6,
    "start_time": "2023-09-03T08:27:47.974Z"
   },
   {
    "duration": 64,
    "start_time": "2023-09-03T08:27:47.982Z"
   },
   {
    "duration": 5,
    "start_time": "2023-09-03T08:27:48.048Z"
   },
   {
    "duration": 19,
    "start_time": "2023-09-03T08:27:48.055Z"
   },
   {
    "duration": 6,
    "start_time": "2023-09-03T08:27:48.077Z"
   },
   {
    "duration": 131,
    "start_time": "2023-09-03T08:27:48.086Z"
   },
   {
    "duration": 10,
    "start_time": "2023-09-03T08:27:48.219Z"
   },
   {
    "duration": 22,
    "start_time": "2023-09-03T08:27:48.231Z"
   },
   {
    "duration": 34,
    "start_time": "2023-09-03T08:27:48.254Z"
   },
   {
    "duration": 3,
    "start_time": "2023-09-03T08:27:48.290Z"
   },
   {
    "duration": 19,
    "start_time": "2023-09-03T08:27:48.295Z"
   },
   {
    "duration": 386,
    "start_time": "2023-09-03T08:27:48.316Z"
   },
   {
    "duration": 154,
    "start_time": "2023-09-03T08:27:48.703Z"
   },
   {
    "duration": 160,
    "start_time": "2023-09-03T08:27:48.859Z"
   },
   {
    "duration": 142,
    "start_time": "2023-09-03T08:27:49.022Z"
   },
   {
    "duration": 4,
    "start_time": "2023-09-03T08:27:49.166Z"
   },
   {
    "duration": 25,
    "start_time": "2023-09-03T08:27:49.171Z"
   },
   {
    "duration": 19,
    "start_time": "2023-09-03T08:27:49.197Z"
   },
   {
    "duration": 16,
    "start_time": "2023-09-03T08:27:49.217Z"
   },
   {
    "duration": 212,
    "start_time": "2023-09-03T08:27:49.234Z"
   },
   {
    "duration": 207,
    "start_time": "2023-09-03T08:27:49.447Z"
   },
   {
    "duration": 14571,
    "start_time": "2023-09-03T08:27:49.656Z"
   },
   {
    "duration": 21190,
    "start_time": "2023-09-03T08:28:04.230Z"
   },
   {
    "duration": 182,
    "start_time": "2023-09-03T08:28:25.423Z"
   },
   {
    "duration": 6,
    "start_time": "2023-09-03T08:28:25.606Z"
   },
   {
    "duration": 49,
    "start_time": "2023-09-03T08:28:25.646Z"
   },
   {
    "duration": 53592,
    "start_time": "2023-09-03T08:28:25.697Z"
   },
   {
    "duration": 16072,
    "start_time": "2023-09-03T08:29:19.292Z"
   },
   {
    "duration": 2,
    "start_time": "2023-09-03T08:29:35.366Z"
   },
   {
    "duration": 1453,
    "start_time": "2023-09-03T08:29:35.370Z"
   },
   {
    "duration": 1050,
    "start_time": "2023-09-03T08:29:36.825Z"
   },
   {
    "duration": 148,
    "start_time": "2023-09-03T08:29:37.877Z"
   },
   {
    "duration": 21,
    "start_time": "2023-09-03T08:29:38.027Z"
   },
   {
    "duration": 7,
    "start_time": "2023-09-03T08:29:38.049Z"
   },
   {
    "duration": 796,
    "start_time": "2023-09-03T08:29:38.057Z"
   },
   {
    "duration": 4,
    "start_time": "2023-09-03T08:29:38.855Z"
   },
   {
    "duration": 22671,
    "start_time": "2023-09-03T08:31:39.091Z"
   },
   {
    "duration": 9196,
    "start_time": "2023-09-03T08:32:47.920Z"
   },
   {
    "duration": 93,
    "start_time": "2023-09-03T08:35:23.256Z"
   },
   {
    "duration": 83,
    "start_time": "2023-09-03T08:35:35.508Z"
   },
   {
    "duration": 5,
    "start_time": "2023-09-03T08:35:46.347Z"
   },
   {
    "duration": 82,
    "start_time": "2023-09-03T08:37:01.084Z"
   },
   {
    "duration": 4,
    "start_time": "2023-09-03T08:37:01.422Z"
   },
   {
    "duration": 3,
    "start_time": "2023-09-03T08:38:52.300Z"
   },
   {
    "duration": 2,
    "start_time": "2023-09-03T08:39:00.064Z"
   },
   {
    "duration": 3,
    "start_time": "2023-09-03T08:39:11.389Z"
   },
   {
    "duration": 103910,
    "start_time": "2023-09-03T08:39:11.687Z"
   },
   {
    "duration": 2910,
    "start_time": "2023-09-03T08:40:55.599Z"
   },
   {
    "duration": 5,
    "start_time": "2023-09-03T08:40:58.510Z"
   },
   {
    "duration": 5,
    "start_time": "2023-09-03T08:41:27.908Z"
   },
   {
    "duration": 3,
    "start_time": "2023-09-03T08:41:49.399Z"
   },
   {
    "duration": 3,
    "start_time": "2023-09-03T08:41:58.547Z"
   },
   {
    "duration": 4,
    "start_time": "2023-09-03T08:50:46.010Z"
   },
   {
    "duration": 4,
    "start_time": "2023-09-03T08:52:55.274Z"
   },
   {
    "duration": 21235,
    "start_time": "2023-09-03T08:55:01.518Z"
   },
   {
    "duration": 1268,
    "start_time": "2023-09-03T08:55:32.281Z"
   },
   {
    "duration": 176,
    "start_time": "2023-09-03T08:56:00.373Z"
   },
   {
    "duration": 1268,
    "start_time": "2023-09-03T08:56:04.479Z"
   },
   {
    "duration": 5,
    "start_time": "2023-09-03T08:56:06.857Z"
   },
   {
    "duration": 2,
    "start_time": "2023-09-03T08:57:21.907Z"
   },
   {
    "duration": 13,
    "start_time": "2023-09-03T09:09:48.543Z"
   },
   {
    "duration": 186,
    "start_time": "2023-09-03T09:10:00.413Z"
   },
   {
    "duration": 4,
    "start_time": "2023-09-03T09:10:52.424Z"
   },
   {
    "duration": 5,
    "start_time": "2023-09-03T09:11:08.400Z"
   },
   {
    "duration": 0,
    "start_time": "2023-09-03T09:12:08.509Z"
   },
   {
    "duration": 38503,
    "start_time": "2023-09-03T09:12:10.375Z"
   },
   {
    "duration": 188,
    "start_time": "2023-09-03T09:14:04.088Z"
   },
   {
    "duration": 5,
    "start_time": "2023-09-03T09:14:59.846Z"
   },
   {
    "duration": 5,
    "start_time": "2023-09-03T09:15:03.589Z"
   },
   {
    "duration": 3,
    "start_time": "2023-09-03T09:16:27.426Z"
   },
   {
    "duration": 17,
    "start_time": "2023-09-03T09:18:25.392Z"
   },
   {
    "duration": 6,
    "start_time": "2023-09-03T09:19:19.815Z"
   },
   {
    "duration": 45563,
    "start_time": "2023-09-03T09:19:50.540Z"
   },
   {
    "duration": 187,
    "start_time": "2023-09-03T09:20:50.858Z"
   },
   {
    "duration": 5,
    "start_time": "2023-09-03T09:20:52.406Z"
   },
   {
    "duration": 3,
    "start_time": "2023-09-03T09:21:07.876Z"
   },
   {
    "duration": 7,
    "start_time": "2023-09-03T09:21:13.439Z"
   },
   {
    "duration": 3,
    "start_time": "2023-09-03T09:27:53.475Z"
   },
   {
    "duration": 180,
    "start_time": "2023-09-03T09:28:16.172Z"
   },
   {
    "duration": 2368,
    "start_time": "2023-09-03T09:28:49.707Z"
   },
   {
    "duration": 2278,
    "start_time": "2023-09-03T09:28:52.078Z"
   },
   {
    "duration": 42,
    "start_time": "2023-09-03T09:28:54.358Z"
   },
   {
    "duration": 2955,
    "start_time": "2023-09-03T09:28:54.402Z"
   },
   {
    "duration": 132,
    "start_time": "2023-09-03T09:28:57.362Z"
   },
   {
    "duration": 88,
    "start_time": "2023-09-03T09:28:57.496Z"
   },
   {
    "duration": 5,
    "start_time": "2023-09-03T09:28:57.585Z"
   },
   {
    "duration": 68,
    "start_time": "2023-09-03T09:28:57.592Z"
   },
   {
    "duration": 54,
    "start_time": "2023-09-03T09:28:57.662Z"
   },
   {
    "duration": 61,
    "start_time": "2023-09-03T09:28:57.718Z"
   },
   {
    "duration": 43,
    "start_time": "2023-09-03T09:28:57.781Z"
   },
   {
    "duration": 4,
    "start_time": "2023-09-03T09:28:57.826Z"
   },
   {
    "duration": 29,
    "start_time": "2023-09-03T09:28:57.844Z"
   },
   {
    "duration": 8,
    "start_time": "2023-09-03T09:28:57.875Z"
   },
   {
    "duration": 6,
    "start_time": "2023-09-03T09:28:57.884Z"
   },
   {
    "duration": 4,
    "start_time": "2023-09-03T09:28:57.891Z"
   },
   {
    "duration": 102,
    "start_time": "2023-09-03T09:28:57.896Z"
   },
   {
    "duration": 71,
    "start_time": "2023-09-03T09:28:58.000Z"
   },
   {
    "duration": 129,
    "start_time": "2023-09-03T09:28:58.073Z"
   },
   {
    "duration": 12,
    "start_time": "2023-09-03T09:28:58.203Z"
   },
   {
    "duration": 2,
    "start_time": "2023-09-03T09:28:58.217Z"
   },
   {
    "duration": 4865,
    "start_time": "2023-09-03T09:28:58.220Z"
   },
   {
    "duration": 1257,
    "start_time": "2023-09-03T09:29:03.087Z"
   },
   {
    "duration": 104,
    "start_time": "2023-09-03T09:29:04.356Z"
   },
   {
    "duration": 138,
    "start_time": "2023-09-03T09:29:04.464Z"
   },
   {
    "duration": 931,
    "start_time": "2023-09-03T09:29:04.604Z"
   },
   {
    "duration": 767,
    "start_time": "2023-09-03T09:29:05.537Z"
   },
   {
    "duration": 1761,
    "start_time": "2023-09-03T09:29:06.308Z"
   },
   {
    "duration": 11,
    "start_time": "2023-09-03T09:29:08.070Z"
   },
   {
    "duration": 25,
    "start_time": "2023-09-03T09:29:08.083Z"
   },
   {
    "duration": 6,
    "start_time": "2023-09-03T09:29:08.110Z"
   },
   {
    "duration": 43,
    "start_time": "2023-09-03T09:29:08.117Z"
   },
   {
    "duration": 33,
    "start_time": "2023-09-03T09:29:08.162Z"
   },
   {
    "duration": 4,
    "start_time": "2023-09-03T09:29:08.197Z"
   },
   {
    "duration": 21,
    "start_time": "2023-09-03T09:29:08.203Z"
   },
   {
    "duration": 6,
    "start_time": "2023-09-03T09:29:08.226Z"
   },
   {
    "duration": 132,
    "start_time": "2023-09-03T09:29:08.234Z"
   },
   {
    "duration": 11,
    "start_time": "2023-09-03T09:29:08.368Z"
   },
   {
    "duration": 15,
    "start_time": "2023-09-03T09:29:08.380Z"
   },
   {
    "duration": 55,
    "start_time": "2023-09-03T09:29:08.396Z"
   },
   {
    "duration": 7,
    "start_time": "2023-09-03T09:29:08.455Z"
   },
   {
    "duration": 9,
    "start_time": "2023-09-03T09:29:08.463Z"
   },
   {
    "duration": 391,
    "start_time": "2023-09-03T09:29:08.474Z"
   },
   {
    "duration": 201,
    "start_time": "2023-09-03T09:29:08.867Z"
   },
   {
    "duration": 169,
    "start_time": "2023-09-03T09:29:09.072Z"
   },
   {
    "duration": 168,
    "start_time": "2023-09-03T09:29:09.243Z"
   },
   {
    "duration": 5,
    "start_time": "2023-09-03T09:29:09.413Z"
   },
   {
    "duration": 11,
    "start_time": "2023-09-03T09:29:09.419Z"
   },
   {
    "duration": 46,
    "start_time": "2023-09-03T09:29:09.432Z"
   },
   {
    "duration": 26,
    "start_time": "2023-09-03T09:29:09.481Z"
   },
   {
    "duration": 255,
    "start_time": "2023-09-03T09:29:09.509Z"
   },
   {
    "duration": 226,
    "start_time": "2023-09-03T09:29:09.766Z"
   },
   {
    "duration": 2879,
    "start_time": "2023-09-03T09:29:09.994Z"
   },
   {
    "duration": 24527,
    "start_time": "2023-09-03T09:29:12.876Z"
   },
   {
    "duration": 208,
    "start_time": "2023-09-03T09:29:37.406Z"
   },
   {
    "duration": 5,
    "start_time": "2023-09-03T09:29:37.616Z"
   },
   {
    "duration": 83,
    "start_time": "2023-09-03T09:29:37.622Z"
   },
   {
    "duration": 49229,
    "start_time": "2023-09-03T09:29:37.707Z"
   },
   {
    "duration": 12900,
    "start_time": "2023-09-03T09:30:26.938Z"
   },
   {
    "duration": 13569,
    "start_time": "2023-09-03T09:30:39.840Z"
   },
   {
    "duration": 1484,
    "start_time": "2023-09-03T09:30:53.411Z"
   },
   {
    "duration": 1033,
    "start_time": "2023-09-03T09:30:54.897Z"
   },
   {
    "duration": 162,
    "start_time": "2023-09-03T09:30:55.932Z"
   },
   {
    "duration": 13,
    "start_time": "2023-09-03T09:30:56.096Z"
   },
   {
    "duration": 62,
    "start_time": "2023-09-03T09:30:56.112Z"
   },
   {
    "duration": 6,
    "start_time": "2023-09-03T09:31:12.151Z"
   },
   {
    "duration": 5,
    "start_time": "2023-09-03T09:31:12.356Z"
   },
   {
    "duration": 4,
    "start_time": "2023-09-03T09:31:12.569Z"
   },
   {
    "duration": 4,
    "start_time": "2023-09-03T09:31:13.219Z"
   },
   {
    "duration": 4,
    "start_time": "2023-09-03T09:31:13.403Z"
   },
   {
    "duration": 4,
    "start_time": "2023-09-03T09:31:13.616Z"
   },
   {
    "duration": 5,
    "start_time": "2023-09-03T09:31:13.808Z"
   },
   {
    "duration": 5,
    "start_time": "2023-09-03T09:31:14.062Z"
   },
   {
    "duration": 5,
    "start_time": "2023-09-03T09:31:14.269Z"
   },
   {
    "duration": 5,
    "start_time": "2023-09-03T09:31:14.495Z"
   },
   {
    "duration": 4,
    "start_time": "2023-09-03T09:31:14.732Z"
   },
   {
    "duration": 3,
    "start_time": "2023-09-03T09:31:14.967Z"
   },
   {
    "duration": 3,
    "start_time": "2023-09-03T09:31:15.202Z"
   },
   {
    "duration": 4,
    "start_time": "2023-09-03T09:31:15.486Z"
   },
   {
    "duration": 4,
    "start_time": "2023-09-03T09:31:15.766Z"
   },
   {
    "duration": 5,
    "start_time": "2023-09-03T09:31:16.001Z"
   },
   {
    "duration": 5,
    "start_time": "2023-09-03T09:31:16.203Z"
   },
   {
    "duration": 3,
    "start_time": "2023-09-03T09:31:16.387Z"
   },
   {
    "duration": 3,
    "start_time": "2023-09-03T09:31:16.563Z"
   },
   {
    "duration": 4,
    "start_time": "2023-09-03T09:31:16.823Z"
   },
   {
    "duration": 4,
    "start_time": "2023-09-03T09:31:17.081Z"
   },
   {
    "duration": 3,
    "start_time": "2023-09-03T09:31:17.363Z"
   },
   {
    "duration": 3,
    "start_time": "2023-09-03T09:31:17.725Z"
   },
   {
    "duration": 3,
    "start_time": "2023-09-03T09:31:18.003Z"
   },
   {
    "duration": 4,
    "start_time": "2023-09-03T09:31:18.257Z"
   },
   {
    "duration": 4,
    "start_time": "2023-09-03T09:31:18.498Z"
   },
   {
    "duration": 3,
    "start_time": "2023-09-03T09:31:18.736Z"
   },
   {
    "duration": 3,
    "start_time": "2023-09-03T09:31:18.971Z"
   },
   {
    "duration": 4,
    "start_time": "2023-09-03T09:31:19.218Z"
   },
   {
    "duration": 4,
    "start_time": "2023-09-03T09:31:19.479Z"
   },
   {
    "duration": 3,
    "start_time": "2023-09-03T09:31:19.796Z"
   },
   {
    "duration": 3,
    "start_time": "2023-09-03T09:31:20.097Z"
   },
   {
    "duration": 3,
    "start_time": "2023-09-03T09:31:20.377Z"
   },
   {
    "duration": 3,
    "start_time": "2023-09-03T09:31:20.636Z"
   },
   {
    "duration": 3,
    "start_time": "2023-09-03T09:31:20.926Z"
   },
   {
    "duration": 4,
    "start_time": "2023-09-03T09:31:21.199Z"
   },
   {
    "duration": 3,
    "start_time": "2023-09-03T09:31:21.460Z"
   },
   {
    "duration": 4,
    "start_time": "2023-09-03T09:31:21.787Z"
   },
   {
    "duration": 4,
    "start_time": "2023-09-03T09:31:22.088Z"
   },
   {
    "duration": 4,
    "start_time": "2023-09-03T09:31:22.572Z"
   },
   {
    "duration": 4,
    "start_time": "2023-09-03T09:31:22.831Z"
   },
   {
    "duration": 4,
    "start_time": "2023-09-03T09:31:23.179Z"
   },
   {
    "duration": 4,
    "start_time": "2023-09-03T09:31:23.820Z"
   },
   {
    "duration": 10,
    "start_time": "2023-09-03T09:31:28.761Z"
   },
   {
    "duration": 105145,
    "start_time": "2023-09-03T09:31:30.032Z"
   },
   {
    "duration": 407,
    "start_time": "2023-09-03T09:33:48.242Z"
   },
   {
    "duration": 4,
    "start_time": "2023-09-03T09:33:49.624Z"
   },
   {
    "duration": 153,
    "start_time": "2023-09-03T09:36:54.409Z"
   },
   {
    "duration": 12,
    "start_time": "2023-09-03T09:37:03.795Z"
   },
   {
    "duration": 14,
    "start_time": "2023-09-03T09:37:10.735Z"
   },
   {
    "duration": 5,
    "start_time": "2023-09-03T09:37:15.692Z"
   },
   {
    "duration": 7,
    "start_time": "2023-09-03T09:37:25.206Z"
   },
   {
    "duration": 5,
    "start_time": "2023-09-03T09:37:29.363Z"
   },
   {
    "duration": 6,
    "start_time": "2023-09-03T09:37:31.421Z"
   },
   {
    "duration": 13,
    "start_time": "2023-09-03T09:38:00.764Z"
   },
   {
    "duration": 18,
    "start_time": "2023-09-03T09:38:04.172Z"
   },
   {
    "duration": 187,
    "start_time": "2023-09-03T09:38:47.660Z"
   },
   {
    "duration": 15,
    "start_time": "2023-09-03T09:39:09.057Z"
   },
   {
    "duration": 14,
    "start_time": "2023-09-03T09:39:48.325Z"
   },
   {
    "duration": 17,
    "start_time": "2023-09-03T09:40:02.875Z"
   },
   {
    "duration": 9,
    "start_time": "2023-09-03T09:40:11.685Z"
   },
   {
    "duration": 15,
    "start_time": "2023-09-03T09:40:38.363Z"
   },
   {
    "duration": 214,
    "start_time": "2023-09-03T09:40:48.257Z"
   },
   {
    "duration": 25,
    "start_time": "2023-09-03T09:41:33.537Z"
   },
   {
    "duration": 17,
    "start_time": "2023-09-03T09:41:42.291Z"
   },
   {
    "duration": 17,
    "start_time": "2023-09-03T09:42:12.202Z"
   },
   {
    "duration": 142,
    "start_time": "2023-09-03T09:42:17.270Z"
   },
   {
    "duration": 29,
    "start_time": "2023-09-03T09:42:24.533Z"
   },
   {
    "duration": 183,
    "start_time": "2023-09-03T09:42:28.908Z"
   },
   {
    "duration": 25,
    "start_time": "2023-09-03T09:42:48.137Z"
   },
   {
    "duration": 7,
    "start_time": "2023-09-03T09:42:56.827Z"
   },
   {
    "duration": 11,
    "start_time": "2023-09-03T09:43:05.202Z"
   },
   {
    "duration": 195,
    "start_time": "2023-09-03T09:43:14.626Z"
   },
   {
    "duration": 440,
    "start_time": "2023-09-03T09:44:00.065Z"
   },
   {
    "duration": 185,
    "start_time": "2023-09-03T09:44:08.475Z"
   }
  ],
  "kernelspec": {
   "display_name": "Python 3 (ipykernel)",
   "language": "python",
   "name": "python3"
  },
  "language_info": {
   "codemirror_mode": {
    "name": "ipython",
    "version": 3
   },
   "file_extension": ".py",
   "mimetype": "text/x-python",
   "name": "python",
   "nbconvert_exporter": "python",
   "pygments_lexer": "ipython3",
   "version": "3.9.5"
  },
  "toc": {
   "base_numbering": 1,
   "nav_menu": {},
   "number_sections": true,
   "sideBar": true,
   "skip_h1_title": true,
   "title_cell": "Table of Contents",
   "title_sidebar": "Contents",
   "toc_cell": false,
   "toc_position": {
    "height": "calc(100% - 180px)",
    "left": "10px",
    "top": "150px",
    "width": "221px"
   },
   "toc_section_display": true,
   "toc_window_display": true
  }
 },
 "nbformat": 4,
 "nbformat_minor": 2
}
